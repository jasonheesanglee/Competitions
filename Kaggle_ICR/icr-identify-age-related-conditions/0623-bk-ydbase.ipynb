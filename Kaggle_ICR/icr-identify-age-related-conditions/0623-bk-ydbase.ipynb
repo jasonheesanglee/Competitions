{
 "cells": [
  {
   "cell_type": "markdown",
   "id": "3d0743ae",
   "metadata": {
    "papermill": {
     "duration": 0.011818,
     "end_time": "2023-06-22T17:39:42.019696",
     "exception": false,
     "start_time": "2023-06-22T17:39:42.007878",
     "status": "completed"
    },
    "tags": []
   },
   "source": [
    "This code will give you a general idea of how to do a machine learning project using scikit-learn and optuna.\n",
    "\n",
    "It performs the necessary preprocessing, tunes the models with optuna, combines the tuned models, and performs ensemble (voting).\n",
    "\n",
    "You can submit the finished result without any problem.\n",
    "\n",
    "Below is the version history, so please refer to it when using it."
   ]
  },
  {
   "cell_type": "markdown",
   "id": "9a1d5557",
   "metadata": {
    "papermill": {
     "duration": 0.011747,
     "end_time": "2023-06-22T17:39:42.043549",
     "exception": false,
     "start_time": "2023-06-22T17:39:42.031802",
     "status": "completed"
    },
    "tags": []
   },
   "source": [
    "## 1. Data and Library Load"
   ]
  },
  {
   "cell_type": "code",
   "execution_count": 1,
   "id": "2227b182",
   "metadata": {
    "execution": {
     "iopub.execute_input": "2023-06-23T13:33:15.615499Z",
     "iopub.status.busy": "2023-06-23T13:33:15.614818Z",
     "iopub.status.idle": "2023-06-23T13:33:28.881899Z",
     "shell.execute_reply": "2023-06-23T13:33:28.880765Z",
     "shell.execute_reply.started": "2023-06-23T13:33:15.615454Z"
    },
    "papermill": {
     "duration": 10.549683,
     "end_time": "2023-06-22T17:39:52.605121",
     "exception": false,
     "start_time": "2023-06-22T17:39:42.055438",
     "status": "completed"
    },
    "tags": []
   },
   "outputs": [],
   "source": [
    "import numpy as np\n",
    "import pandas as pd\n",
    "import matplotlib.pyplot as plt\n",
    "import seaborn as sns\n",
    "\n",
    "import pickle\n",
    "import os\n",
    "import random\n",
    "from tqdm.auto import tqdm\n",
    "\n",
    "# ignore warning\n",
    "import warnings\n",
    "warnings.filterwarnings('ignore')\n",
    "\n",
    "# ML\n",
    "from sklearn.ensemble import RandomForestClassifier  # Bagging\n",
    "from xgboost.sklearn import XGBClassifier            # GBM\n",
    "from sklearn.linear_model import LogisticRegression  # LogisticRegression\n",
    "from sklearn.metrics import accuracy_score\n",
    "from sklearn.svm import SVC # SVM\n",
    "\n",
    "# DL\n",
    "import tensorflow as tf\n",
    "from tensorflow.keras import Sequential\n",
    "from tensorflow.keras.layers import Input, Dense, ReLU, Softmax, Dropout\n",
    "from tensorflow.keras.optimizers import SGD, Adam\n",
    "from tensorflow.keras.callbacks import ReduceLROnPlateau, EarlyStopping\n",
    "\n",
    "# for checking multi-collinearity\n",
    "from statsmodels.stats.outliers_influence import variance_inflation_factor\n",
    "\n",
    "# KFold(CV), partial : for optuna\n",
    "from sklearn.model_selection import KFold, StratifiedKFold\n",
    "from sklearn.preprocessing import LabelEncoder\n",
    "from sklearn.impute import KNNImputer\n",
    "from functools import partial\n",
    "from imblearn.over_sampling import SMOTE\n",
    "\n",
    "# AutoML framework\n",
    "import optuna\n",
    "from optuna.samplers import TPESampler"
   ]
  },
  {
   "cell_type": "code",
   "execution_count": 2,
   "id": "a7026da0",
   "metadata": {
    "execution": {
     "iopub.execute_input": "2023-06-23T13:33:28.884920Z",
     "iopub.status.busy": "2023-06-23T13:33:28.884021Z",
     "iopub.status.idle": "2023-06-23T13:33:28.893306Z",
     "shell.execute_reply": "2023-06-23T13:33:28.892270Z",
     "shell.execute_reply.started": "2023-06-23T13:33:28.884872Z"
    },
    "papermill": {
     "duration": 4.76039,
     "end_time": "2023-06-22T17:39:57.377898",
     "exception": false,
     "start_time": "2023-06-22T17:39:52.617508",
     "status": "completed"
    },
    "tags": []
   },
   "outputs": [],
   "source": [
    "# set configs\n",
    "is_tuning = True\n",
    "\n",
    "if is_tuning:\n",
    "    sampler = TPESampler(seed=42) # 샘플러가 직접 결정하도록. 신상. \n",
    "    \n",
    "is_scaling = True\n",
    "\n",
    "is_pca = False\n",
    "\n",
    "apply_vif = False\n",
    "\n",
    "feature_selection = True # importance 가 없어짐.\n",
    "if feature_selection: \n",
    "    m = 20\n",
    "    \n",
    "is_cuml = True\n",
    "is_debug = True\n",
    "\n",
    "sampling_method = 'hybrid' # 'under' or 'over'\n",
    "\n",
    "if is_tuning:\n",
    "    n_trials=30 # 50 -> 30으로 바꿈\n",
    "\n",
    "# # import SVC\n",
    "# if is_cuml:\n",
    "#     from cuml.svm import SVC, LinearSVC\n",
    "# else:\n",
    "#     from sklearn.svm import SVC\n",
    "    \n",
    "# Keras model compile\n",
    "learning_rate = 1e-2\n",
    "batch_size = 32\n",
    "epochs = 10"
   ]
  },
  {
   "cell_type": "code",
   "execution_count": 3,
   "id": "03698275",
   "metadata": {
    "execution": {
     "iopub.execute_input": "2023-06-23T13:33:28.895258Z",
     "iopub.status.busy": "2023-06-23T13:33:28.894671Z",
     "iopub.status.idle": "2023-06-23T13:33:28.913452Z",
     "shell.execute_reply": "2023-06-23T13:33:28.912218Z",
     "shell.execute_reply.started": "2023-06-23T13:33:28.895229Z"
    },
    "papermill": {
     "duration": 0.021313,
     "end_time": "2023-06-22T17:39:57.411777",
     "exception": false,
     "start_time": "2023-06-22T17:39:57.390464",
     "status": "completed"
    },
    "tags": []
   },
   "outputs": [],
   "source": [
    "def seed_everything(seed: int = 42):\n",
    "    random.seed(seed)\n",
    "    np.random.seed(seed)\n",
    "    os.environ[\"PYTHONHASHSEED\"] = str(seed)\n",
    "    tf.random.set_seed(seed)\n",
    "    \n",
    "seed_everything()"
   ]
  },
  {
   "cell_type": "code",
   "execution_count": 4,
   "id": "4dee5a8e",
   "metadata": {
    "execution": {
     "iopub.execute_input": "2023-06-23T13:33:28.916625Z",
     "iopub.status.busy": "2023-06-23T13:33:28.915957Z",
     "iopub.status.idle": "2023-06-23T13:33:28.927681Z",
     "shell.execute_reply": "2023-06-23T13:33:28.926857Z",
     "shell.execute_reply.started": "2023-06-23T13:33:28.916592Z"
    },
    "papermill": {
     "duration": 0.0264,
     "end_time": "2023-06-22T17:39:57.450438",
     "exception": false,
     "start_time": "2023-06-22T17:39:57.424038",
     "status": "completed"
    },
    "tags": []
   },
   "outputs": [],
   "source": [
    "def balance_logloss(y_true, y_pred):\n",
    "    y_pred = np.clip(y_pred, 1e-15, 1-1e-15)\n",
    "    y_pred /= np.sum(y_pred, axis=1)[:, None]\n",
    "    nc = np.bincount(y_true)\n",
    "    \n",
    "    logloss = (-1/nc[0]*(np.sum(np.where(y_true==0,1,0) * np.log(y_pred[:,0]))) - 1/nc[1]*(np.sum(np.where(y_true!=0,1,0) * np.log(y_pred[:,1])))) / 2\n",
    "    \n",
    "    return logloss\n",
    "\n",
    "def b_logloss_keras(y_true, y_pred):\n",
    "    #(2, ) -> (1, ) inverse_one_hot encoding\n",
    "    #y_true = y_true[:, 0] * (1 - y_true[:, 1]) + y_true[:, 1] * (1 - y_true[:, 0])\n",
    "    y_true = y_true[:, 1] * (1 - y_true[:, 0])\n",
    "    y_true = tf.cast(y_true, tf.int64)\n",
    "    score = tf.py_function(func=balance_logloss, inp=[y_true, y_pred], Tout=tf.float32)\n",
    "    return score"
   ]
  },
  {
   "cell_type": "markdown",
   "id": "f91ef061",
   "metadata": {
    "execution": {
     "iopub.execute_input": "2023-06-23T13:33:28.930246Z",
     "iopub.status.busy": "2023-06-23T13:33:28.929423Z",
     "iopub.status.idle": "2023-06-23T13:33:28.984864Z",
     "shell.execute_reply": "2023-06-23T13:33:28.983545Z",
     "shell.execute_reply.started": "2023-06-23T13:33:28.930204Z"
    },
    "papermill": {
     "duration": 0.05872,
     "end_time": "2023-06-22T17:39:57.521253",
     "exception": false,
     "start_time": "2023-06-22T17:39:57.462533",
     "status": "completed"
    },
    "tags": []
   },
   "source": [
    "train = pd.read_csv('../input/icr-identify-age-related-conditions/train.csv')\n",
    "test = pd.read_csv('../input/icr-identify-age-related-conditions/test.csv')\n",
    "metadata = pd.read_csv('../input/icr-identify-age-related-conditions/greeks.csv')\n",
    "print(train.shape, test.shape)"
   ]
  },
  {
   "cell_type": "code",
   "execution_count": 5,
   "id": "f88ee9f2",
   "metadata": {},
   "outputs": [
    {
     "name": "stdout",
     "output_type": "stream",
     "text": [
      "(617, 58) (5, 57)\n"
     ]
    }
   ],
   "source": [
    "train = pd.read_csv('./train.csv')\n",
    "test = pd.read_csv('./test.csv')\n",
    "metadata = pd.read_csv('./greeks.csv')\n",
    "print(train.shape, test.shape)"
   ]
  },
  {
   "cell_type": "markdown",
   "id": "23267361",
   "metadata": {
    "papermill": {
     "duration": 0.013097,
     "end_time": "2023-06-22T17:39:57.546784",
     "exception": false,
     "start_time": "2023-06-22T17:39:57.533687",
     "status": "completed"
    },
    "tags": []
   },
   "source": [
    "## 2. Data Preprocessing\n",
    "\n",
    "LabelEncoding -> KNN Imputation -> (optional)calculate VIF -> (optional)apply PCA -> feature Scaling\n",
    "\n",
    "\n",
    "                           -> (optional)feature selection  ------->"
   ]
  },
  {
   "cell_type": "code",
   "execution_count": 6,
   "id": "0f4a2c5c",
   "metadata": {
    "execution": {
     "iopub.execute_input": "2023-06-23T13:33:28.989599Z",
     "iopub.status.busy": "2023-06-23T13:33:28.988809Z",
     "iopub.status.idle": "2023-06-23T13:33:29.010113Z",
     "shell.execute_reply": "2023-06-23T13:33:29.008916Z",
     "shell.execute_reply.started": "2023-06-23T13:33:28.989555Z"
    },
    "papermill": {
     "duration": 0.027567,
     "end_time": "2023-06-22T17:39:57.586533",
     "exception": false,
     "start_time": "2023-06-22T17:39:57.558966",
     "status": "completed"
    },
    "tags": []
   },
   "outputs": [],
   "source": [
    "lb = LabelEncoder()\n",
    "train.EJ = lb.fit_transform(train.EJ)  # A->0, B->1\n",
    "train = train.drop(columns=[\"Id\"])"
   ]
  },
  {
   "cell_type": "code",
   "execution_count": 7,
   "id": "378e013d",
   "metadata": {
    "execution": {
     "iopub.execute_input": "2023-06-23T13:33:29.012560Z",
     "iopub.status.busy": "2023-06-23T13:33:29.012228Z",
     "iopub.status.idle": "2023-06-23T13:33:29.122047Z",
     "shell.execute_reply": "2023-06-23T13:33:29.120775Z",
     "shell.execute_reply.started": "2023-06-23T13:33:29.012533Z"
    },
    "papermill": {
     "duration": 0.108134,
     "end_time": "2023-06-22T17:39:57.706740",
     "exception": false,
     "start_time": "2023-06-22T17:39:57.598606",
     "status": "completed"
    },
    "tags": []
   },
   "outputs": [
    {
     "data": {
      "text/html": [
       "<div>\n",
       "<style scoped>\n",
       "    .dataframe tbody tr th:only-of-type {\n",
       "        vertical-align: middle;\n",
       "    }\n",
       "\n",
       "    .dataframe tbody tr th {\n",
       "        vertical-align: top;\n",
       "    }\n",
       "\n",
       "    .dataframe thead th {\n",
       "        text-align: right;\n",
       "    }\n",
       "</style>\n",
       "<table border=\"1\" class=\"dataframe\">\n",
       "  <thead>\n",
       "    <tr style=\"text-align: right;\">\n",
       "      <th></th>\n",
       "      <th>AB</th>\n",
       "      <th>AF</th>\n",
       "      <th>AH</th>\n",
       "      <th>AM</th>\n",
       "      <th>AR</th>\n",
       "      <th>AX</th>\n",
       "      <th>AY</th>\n",
       "      <th>AZ</th>\n",
       "      <th>BC</th>\n",
       "      <th>BD</th>\n",
       "      <th>...</th>\n",
       "      <th>FL</th>\n",
       "      <th>FR</th>\n",
       "      <th>FS</th>\n",
       "      <th>GB</th>\n",
       "      <th>GE</th>\n",
       "      <th>GF</th>\n",
       "      <th>GH</th>\n",
       "      <th>GI</th>\n",
       "      <th>GL</th>\n",
       "      <th>Class</th>\n",
       "    </tr>\n",
       "  </thead>\n",
       "  <tbody>\n",
       "    <tr>\n",
       "      <th>0</th>\n",
       "      <td>0.209377</td>\n",
       "      <td>3109.03329</td>\n",
       "      <td>85.200147</td>\n",
       "      <td>22.394407</td>\n",
       "      <td>8.138688</td>\n",
       "      <td>0.699861</td>\n",
       "      <td>0.025578</td>\n",
       "      <td>9.812214</td>\n",
       "      <td>5.555634</td>\n",
       "      <td>4126.58731</td>\n",
       "      <td>...</td>\n",
       "      <td>7.298162</td>\n",
       "      <td>1.73855</td>\n",
       "      <td>0.094822</td>\n",
       "      <td>11.339138</td>\n",
       "      <td>72.611063</td>\n",
       "      <td>2003.810319</td>\n",
       "      <td>22.136229</td>\n",
       "      <td>69.834944</td>\n",
       "      <td>0.120343</td>\n",
       "      <td>1</td>\n",
       "    </tr>\n",
       "    <tr>\n",
       "      <th>1</th>\n",
       "      <td>0.145282</td>\n",
       "      <td>978.76416</td>\n",
       "      <td>85.200147</td>\n",
       "      <td>36.968889</td>\n",
       "      <td>8.138688</td>\n",
       "      <td>3.632190</td>\n",
       "      <td>0.025578</td>\n",
       "      <td>13.517790</td>\n",
       "      <td>1.229900</td>\n",
       "      <td>5496.92824</td>\n",
       "      <td>...</td>\n",
       "      <td>0.173229</td>\n",
       "      <td>0.49706</td>\n",
       "      <td>0.568932</td>\n",
       "      <td>9.292698</td>\n",
       "      <td>72.611063</td>\n",
       "      <td>27981.562750</td>\n",
       "      <td>29.135430</td>\n",
       "      <td>32.131996</td>\n",
       "      <td>21.978000</td>\n",
       "      <td>0</td>\n",
       "    </tr>\n",
       "    <tr>\n",
       "      <th>2</th>\n",
       "      <td>0.470030</td>\n",
       "      <td>2635.10654</td>\n",
       "      <td>85.200147</td>\n",
       "      <td>32.360553</td>\n",
       "      <td>8.138688</td>\n",
       "      <td>6.732840</td>\n",
       "      <td>0.025578</td>\n",
       "      <td>12.824570</td>\n",
       "      <td>1.229900</td>\n",
       "      <td>5135.78024</td>\n",
       "      <td>...</td>\n",
       "      <td>7.709560</td>\n",
       "      <td>0.97556</td>\n",
       "      <td>1.198821</td>\n",
       "      <td>37.077772</td>\n",
       "      <td>88.609437</td>\n",
       "      <td>13676.957810</td>\n",
       "      <td>28.022851</td>\n",
       "      <td>35.192676</td>\n",
       "      <td>0.196941</td>\n",
       "      <td>0</td>\n",
       "    </tr>\n",
       "    <tr>\n",
       "      <th>3</th>\n",
       "      <td>0.252107</td>\n",
       "      <td>3819.65177</td>\n",
       "      <td>120.201618</td>\n",
       "      <td>77.112203</td>\n",
       "      <td>8.138688</td>\n",
       "      <td>3.685344</td>\n",
       "      <td>0.025578</td>\n",
       "      <td>11.053708</td>\n",
       "      <td>1.229900</td>\n",
       "      <td>4169.67738</td>\n",
       "      <td>...</td>\n",
       "      <td>6.122162</td>\n",
       "      <td>0.49706</td>\n",
       "      <td>0.284466</td>\n",
       "      <td>18.529584</td>\n",
       "      <td>82.416803</td>\n",
       "      <td>2094.262452</td>\n",
       "      <td>39.948656</td>\n",
       "      <td>90.493248</td>\n",
       "      <td>0.155829</td>\n",
       "      <td>0</td>\n",
       "    </tr>\n",
       "    <tr>\n",
       "      <th>4</th>\n",
       "      <td>0.380297</td>\n",
       "      <td>3733.04844</td>\n",
       "      <td>85.200147</td>\n",
       "      <td>14.103738</td>\n",
       "      <td>8.138688</td>\n",
       "      <td>3.942255</td>\n",
       "      <td>0.054810</td>\n",
       "      <td>3.396778</td>\n",
       "      <td>102.151980</td>\n",
       "      <td>5728.73412</td>\n",
       "      <td>...</td>\n",
       "      <td>8.153058</td>\n",
       "      <td>48.50134</td>\n",
       "      <td>0.121914</td>\n",
       "      <td>16.408728</td>\n",
       "      <td>146.109943</td>\n",
       "      <td>8524.370502</td>\n",
       "      <td>45.381316</td>\n",
       "      <td>36.262628</td>\n",
       "      <td>0.096614</td>\n",
       "      <td>1</td>\n",
       "    </tr>\n",
       "    <tr>\n",
       "      <th>...</th>\n",
       "      <td>...</td>\n",
       "      <td>...</td>\n",
       "      <td>...</td>\n",
       "      <td>...</td>\n",
       "      <td>...</td>\n",
       "      <td>...</td>\n",
       "      <td>...</td>\n",
       "      <td>...</td>\n",
       "      <td>...</td>\n",
       "      <td>...</td>\n",
       "      <td>...</td>\n",
       "      <td>...</td>\n",
       "      <td>...</td>\n",
       "      <td>...</td>\n",
       "      <td>...</td>\n",
       "      <td>...</td>\n",
       "      <td>...</td>\n",
       "      <td>...</td>\n",
       "      <td>...</td>\n",
       "      <td>...</td>\n",
       "      <td>...</td>\n",
       "    </tr>\n",
       "    <tr>\n",
       "      <th>612</th>\n",
       "      <td>0.149555</td>\n",
       "      <td>3130.05946</td>\n",
       "      <td>123.763599</td>\n",
       "      <td>9.513984</td>\n",
       "      <td>13.020852</td>\n",
       "      <td>3.499305</td>\n",
       "      <td>0.077343</td>\n",
       "      <td>8.545512</td>\n",
       "      <td>2.804172</td>\n",
       "      <td>4157.68439</td>\n",
       "      <td>...</td>\n",
       "      <td>0.173229</td>\n",
       "      <td>1.26092</td>\n",
       "      <td>0.067730</td>\n",
       "      <td>8.967128</td>\n",
       "      <td>217.148554</td>\n",
       "      <td>8095.932828</td>\n",
       "      <td>24.640462</td>\n",
       "      <td>69.191944</td>\n",
       "      <td>21.978000</td>\n",
       "      <td>0</td>\n",
       "    </tr>\n",
       "    <tr>\n",
       "      <th>613</th>\n",
       "      <td>0.435846</td>\n",
       "      <td>5462.03438</td>\n",
       "      <td>85.200147</td>\n",
       "      <td>46.551007</td>\n",
       "      <td>15.973224</td>\n",
       "      <td>5.979825</td>\n",
       "      <td>0.025882</td>\n",
       "      <td>12.622906</td>\n",
       "      <td>3.777550</td>\n",
       "      <td>5654.07556</td>\n",
       "      <td>...</td>\n",
       "      <td>10.223150</td>\n",
       "      <td>1.24236</td>\n",
       "      <td>0.426699</td>\n",
       "      <td>35.896418</td>\n",
       "      <td>496.994214</td>\n",
       "      <td>3085.308063</td>\n",
       "      <td>29.648928</td>\n",
       "      <td>124.808872</td>\n",
       "      <td>0.145340</td>\n",
       "      <td>0</td>\n",
       "    </tr>\n",
       "    <tr>\n",
       "      <th>614</th>\n",
       "      <td>0.427300</td>\n",
       "      <td>2459.10720</td>\n",
       "      <td>130.138587</td>\n",
       "      <td>55.355778</td>\n",
       "      <td>10.005552</td>\n",
       "      <td>8.070549</td>\n",
       "      <td>0.025578</td>\n",
       "      <td>15.408390</td>\n",
       "      <td>1.229900</td>\n",
       "      <td>5888.87769</td>\n",
       "      <td>...</td>\n",
       "      <td>0.173229</td>\n",
       "      <td>0.49706</td>\n",
       "      <td>0.067730</td>\n",
       "      <td>19.962092</td>\n",
       "      <td>128.896894</td>\n",
       "      <td>6474.652866</td>\n",
       "      <td>26.166072</td>\n",
       "      <td>119.559420</td>\n",
       "      <td>21.978000</td>\n",
       "      <td>0</td>\n",
       "    </tr>\n",
       "    <tr>\n",
       "      <th>615</th>\n",
       "      <td>0.363205</td>\n",
       "      <td>1263.53524</td>\n",
       "      <td>85.200147</td>\n",
       "      <td>23.685856</td>\n",
       "      <td>8.138688</td>\n",
       "      <td>7.981959</td>\n",
       "      <td>0.025578</td>\n",
       "      <td>7.524588</td>\n",
       "      <td>1.229900</td>\n",
       "      <td>4517.86560</td>\n",
       "      <td>...</td>\n",
       "      <td>9.256996</td>\n",
       "      <td>0.78764</td>\n",
       "      <td>0.670527</td>\n",
       "      <td>24.594488</td>\n",
       "      <td>72.611063</td>\n",
       "      <td>1965.343176</td>\n",
       "      <td>25.116750</td>\n",
       "      <td>37.155112</td>\n",
       "      <td>0.184622</td>\n",
       "      <td>0</td>\n",
       "    </tr>\n",
       "    <tr>\n",
       "      <th>616</th>\n",
       "      <td>0.482849</td>\n",
       "      <td>2672.53426</td>\n",
       "      <td>546.663930</td>\n",
       "      <td>112.006102</td>\n",
       "      <td>8.138688</td>\n",
       "      <td>3.198099</td>\n",
       "      <td>0.116928</td>\n",
       "      <td>3.396778</td>\n",
       "      <td>7.948668</td>\n",
       "      <td>2818.01707</td>\n",
       "      <td>...</td>\n",
       "      <td>0.173229</td>\n",
       "      <td>1.14492</td>\n",
       "      <td>0.149006</td>\n",
       "      <td>13.673940</td>\n",
       "      <td>72.611063</td>\n",
       "      <td>6850.484442</td>\n",
       "      <td>45.745974</td>\n",
       "      <td>114.842372</td>\n",
       "      <td>21.978000</td>\n",
       "      <td>0</td>\n",
       "    </tr>\n",
       "  </tbody>\n",
       "</table>\n",
       "<p>617 rows × 57 columns</p>\n",
       "</div>"
      ],
      "text/plain": [
       "           AB          AF          AH          AM         AR        AX  \\\n",
       "0    0.209377  3109.03329   85.200147   22.394407   8.138688  0.699861   \n",
       "1    0.145282   978.76416   85.200147   36.968889   8.138688  3.632190   \n",
       "2    0.470030  2635.10654   85.200147   32.360553   8.138688  6.732840   \n",
       "3    0.252107  3819.65177  120.201618   77.112203   8.138688  3.685344   \n",
       "4    0.380297  3733.04844   85.200147   14.103738   8.138688  3.942255   \n",
       "..        ...         ...         ...         ...        ...       ...   \n",
       "612  0.149555  3130.05946  123.763599    9.513984  13.020852  3.499305   \n",
       "613  0.435846  5462.03438   85.200147   46.551007  15.973224  5.979825   \n",
       "614  0.427300  2459.10720  130.138587   55.355778  10.005552  8.070549   \n",
       "615  0.363205  1263.53524   85.200147   23.685856   8.138688  7.981959   \n",
       "616  0.482849  2672.53426  546.663930  112.006102   8.138688  3.198099   \n",
       "\n",
       "           AY         AZ          BC         BD   ...         FL        FR  \\\n",
       "0    0.025578   9.812214    5.555634  4126.58731  ...   7.298162   1.73855   \n",
       "1    0.025578  13.517790    1.229900  5496.92824  ...   0.173229   0.49706   \n",
       "2    0.025578  12.824570    1.229900  5135.78024  ...   7.709560   0.97556   \n",
       "3    0.025578  11.053708    1.229900  4169.67738  ...   6.122162   0.49706   \n",
       "4    0.054810   3.396778  102.151980  5728.73412  ...   8.153058  48.50134   \n",
       "..        ...        ...         ...         ...  ...        ...       ...   \n",
       "612  0.077343   8.545512    2.804172  4157.68439  ...   0.173229   1.26092   \n",
       "613  0.025882  12.622906    3.777550  5654.07556  ...  10.223150   1.24236   \n",
       "614  0.025578  15.408390    1.229900  5888.87769  ...   0.173229   0.49706   \n",
       "615  0.025578   7.524588    1.229900  4517.86560  ...   9.256996   0.78764   \n",
       "616  0.116928   3.396778    7.948668  2818.01707  ...   0.173229   1.14492   \n",
       "\n",
       "           FS         GB          GE            GF         GH          GI  \\\n",
       "0    0.094822  11.339138   72.611063   2003.810319  22.136229   69.834944   \n",
       "1    0.568932   9.292698   72.611063  27981.562750  29.135430   32.131996   \n",
       "2    1.198821  37.077772   88.609437  13676.957810  28.022851   35.192676   \n",
       "3    0.284466  18.529584   82.416803   2094.262452  39.948656   90.493248   \n",
       "4    0.121914  16.408728  146.109943   8524.370502  45.381316   36.262628   \n",
       "..        ...        ...         ...           ...        ...         ...   \n",
       "612  0.067730   8.967128  217.148554   8095.932828  24.640462   69.191944   \n",
       "613  0.426699  35.896418  496.994214   3085.308063  29.648928  124.808872   \n",
       "614  0.067730  19.962092  128.896894   6474.652866  26.166072  119.559420   \n",
       "615  0.670527  24.594488   72.611063   1965.343176  25.116750   37.155112   \n",
       "616  0.149006  13.673940   72.611063   6850.484442  45.745974  114.842372   \n",
       "\n",
       "            GL  Class  \n",
       "0     0.120343      1  \n",
       "1    21.978000      0  \n",
       "2     0.196941      0  \n",
       "3     0.155829      0  \n",
       "4     0.096614      1  \n",
       "..         ...    ...  \n",
       "612  21.978000      0  \n",
       "613   0.145340      0  \n",
       "614  21.978000      0  \n",
       "615   0.184622      0  \n",
       "616  21.978000      0  \n",
       "\n",
       "[617 rows x 57 columns]"
      ]
     },
     "execution_count": 7,
     "metadata": {},
     "output_type": "execute_result"
    }
   ],
   "source": [
    "imp = KNNImputer()\n",
    "labels = train[\"Class\"]\n",
    "train = train.drop(columns=\"Class\")\n",
    "data = imp.fit_transform(train)\n",
    "tmp = pd.DataFrame(columns=train.columns, data=data)\n",
    "train = pd.concat([tmp, labels], axis=1)\n",
    "train"
   ]
  },
  {
   "cell_type": "code",
   "execution_count": null,
   "id": "fee60141",
   "metadata": {
    "execution": {
     "iopub.execute_input": "2023-06-23T13:33:29.129391Z",
     "iopub.status.busy": "2023-06-23T13:33:29.128123Z",
     "iopub.status.idle": "2023-06-23T13:33:29.209558Z",
     "shell.execute_reply": "2023-06-23T13:33:29.206789Z",
     "shell.execute_reply.started": "2023-06-23T13:33:29.129338Z"
    }
   },
   "outputs": [],
   "source": [
    "###############\n",
    "### z-score ###\n",
    "###############\n",
    "is_z = True\n",
    "if is_z:\n",
    "    # seperate class 0,1\n",
    "    train_0 = train[train.Class == 0.0]\n",
    "    train_1 = train[train.Class == 1.0]\n",
    "\n",
    "    # calculate z-score\n",
    "    train_0_mean = np.mean(train_0)\n",
    "    train_0_std = np.std(train_0)\n",
    "\n",
    "    z = (train_0 - train_0_mean) / train_0_std\n",
    "\n",
    "    # find outliars base on z-score\n",
    "    drop_index_list = list(set(sum([list(z[(z[i] > 3) | (z[i] < -3)].index) for i in train.columns[:-3]], [])))\n",
    "\n",
    "    # assign을 이용해 z-score column을 새로 만드는 법.\n",
    "    # train = train.assign(z_score = lambda x : x.AB.sub(x.AB.mean()).div(x.AB.std()))\n",
    "    # train[['AB', 'z_score']]\n",
    "\n",
    "    print(f'train_0에서 z-score로 걸러내는 column의 수 : {len(drop_index_list)}\\n')\n",
    "\n",
    "    print('--------------------------------------------------')\n",
    "    print('Class_0에 있는 outliars만 제거한 후 Class 0, 1의 수 :')\n",
    "    print(train.drop(index=drop_index_list).Class.value_counts())\n",
    "    \n",
    "    \n",
    "    train.drop(index=drop_index_list, inplace=True)\n",
    "    print(train.info())"
   ]
  },
  {
   "cell_type": "code",
   "execution_count": null,
   "id": "4ce6bc10",
   "metadata": {
    "execution": {
     "iopub.execute_input": "2023-06-23T13:33:29.211954Z",
     "iopub.status.busy": "2023-06-23T13:33:29.211517Z",
     "iopub.status.idle": "2023-06-23T13:33:29.229713Z",
     "shell.execute_reply": "2023-06-23T13:33:29.228473Z",
     "shell.execute_reply.started": "2023-06-23T13:33:29.211915Z"
    },
    "papermill": {
     "duration": 0.045007,
     "end_time": "2023-06-22T17:39:57.780649",
     "exception": false,
     "start_time": "2023-06-22T17:39:57.735642",
     "status": "completed"
    },
    "tags": []
   },
   "outputs": [],
   "source": [
    "# check missing data\n",
    "train[train.isnull().any(axis=1)]"
   ]
  },
  {
   "cell_type": "code",
   "execution_count": null,
   "id": "a42bb319",
   "metadata": {
    "execution": {
     "iopub.execute_input": "2023-06-23T13:33:29.234796Z",
     "iopub.status.busy": "2023-06-23T13:33:29.234315Z",
     "iopub.status.idle": "2023-06-23T13:33:29.242458Z",
     "shell.execute_reply": "2023-06-23T13:33:29.241177Z",
     "shell.execute_reply.started": "2023-06-23T13:33:29.234762Z"
    },
    "papermill": {
     "duration": 0.02157,
     "end_time": "2023-06-22T17:39:57.815483",
     "exception": false,
     "start_time": "2023-06-22T17:39:57.793913",
     "status": "completed"
    },
    "tags": []
   },
   "outputs": [],
   "source": [
    "def check_vif(df):\n",
    "    vifs = [variance_inflation_factor(df, i) for i in range(df.shape[1])]\n",
    "    vif_df = pd.DataFrame({\"features\":df.columns, \"VIF\" : vifs})\n",
    "    vif_df = vif_df.sort_values(by=\"VIF\", ascending=False)\n",
    "    remove_col = vif_df.iloc[0, 0]\n",
    "    top_vif = vif_df.iloc[0, 1]\n",
    "    return vif_df, remove_col, top_vif"
   ]
  },
  {
   "cell_type": "code",
   "execution_count": null,
   "id": "71ddd86b",
   "metadata": {
    "execution": {
     "iopub.execute_input": "2023-06-23T13:33:29.244904Z",
     "iopub.status.busy": "2023-06-23T13:33:29.244209Z",
     "iopub.status.idle": "2023-06-23T13:33:29.296040Z",
     "shell.execute_reply": "2023-06-23T13:33:29.294476Z",
     "shell.execute_reply.started": "2023-06-23T13:33:29.244855Z"
    },
    "papermill": {
     "duration": 0.02108,
     "end_time": "2023-06-22T17:39:57.849397",
     "exception": false,
     "start_time": "2023-06-22T17:39:57.828317",
     "status": "completed"
    },
    "tags": []
   },
   "outputs": [],
   "source": [
    "# remove all features when VIF is over 10.\n",
    "if apply_vif:\n",
    "    top_vif = 100\n",
    "\n",
    "    while(top_vif > 5):\n",
    "        vif_df, remove_col, top_vif = check_vif(train)\n",
    "        print(remove_col, top_vif)\n",
    "        if top_vif < 5:\n",
    "            break\n",
    "        train = train.drop(columns=remove_col)\n",
    "\n",
    "    display(train)"
   ]
  },
  {
   "cell_type": "code",
   "execution_count": null,
   "id": "ef759690",
   "metadata": {
    "execution": {
     "iopub.execute_input": "2023-06-23T13:33:29.298713Z",
     "iopub.status.busy": "2023-06-23T13:33:29.298298Z",
     "iopub.status.idle": "2023-06-23T13:33:29.746220Z",
     "shell.execute_reply": "2023-06-23T13:33:29.745077Z",
     "shell.execute_reply.started": "2023-06-23T13:33:29.298665Z"
    },
    "papermill": {
     "duration": 0.472156,
     "end_time": "2023-06-22T17:39:58.334562",
     "exception": false,
     "start_time": "2023-06-22T17:39:57.862406",
     "status": "completed"
    },
    "tags": []
   },
   "outputs": [],
   "source": [
    "# feature selection via Feature Importance\n",
    "X = train.drop(columns=[\"Class\"])\n",
    "y = train['Class']\n",
    "\n",
    "if feature_selection:\n",
    "    rf = RandomForestClassifier()\n",
    "    rf.fit(X, y)\n",
    "    print(\"Train ACC : %.4f\" % accuracy_score(y, rf.predict(X)))\n",
    "    fi_df = pd.DataFrame({'feature':X.columns, 'importance':rf.feature_importances_})\n",
    "    selected_cols = fi_df.sort_values(by=\"importance\", ascending=False)[:m][\"feature\"].values\n",
    "    \n",
    "    display(selected_cols)\n",
    "    \n",
    "    X = train[selected_cols]\n",
    "    display(X)"
   ]
  },
  {
   "cell_type": "markdown",
   "id": "6f23d430",
   "metadata": {
    "papermill": {
     "duration": 0.025769,
     "end_time": "2023-06-22T17:39:58.388044",
     "exception": false,
     "start_time": "2023-06-22T17:39:58.362275",
     "status": "completed"
    },
    "tags": []
   },
   "source": [
    "## 3. Data preprocessing"
   ]
  },
  {
   "cell_type": "code",
   "execution_count": null,
   "id": "fb899326",
   "metadata": {
    "execution": {
     "iopub.execute_input": "2023-06-23T13:33:29.748712Z",
     "iopub.status.busy": "2023-06-23T13:33:29.748015Z",
     "iopub.status.idle": "2023-06-23T13:33:29.755882Z",
     "shell.execute_reply": "2023-06-23T13:33:29.754769Z",
     "shell.execute_reply.started": "2023-06-23T13:33:29.748649Z"
    },
    "papermill": {
     "duration": 0.022864,
     "end_time": "2023-06-22T17:39:58.433521",
     "exception": false,
     "start_time": "2023-06-22T17:39:58.410657",
     "status": "completed"
    },
    "tags": []
   },
   "outputs": [],
   "source": [
    "# class imbalance handling\n",
    "## 1. undersampling\n",
    "if sampling_method == 'under':\n",
    "    c1 = train[train.Class == 1]\n",
    "    c0 = train[train.Class == 0]\n",
    "    print(c1.shape, c0.shape) # 108, 509 -> 108, 108\n",
    "    c0 = c0.sample(n=c1.shape[0], random_state=42) # 509 -> 108\n",
    "    train = pd.concat([c0, c1])\n",
    "    print(train.shape)"
   ]
  },
  {
   "cell_type": "code",
   "execution_count": null,
   "id": "ae753487",
   "metadata": {
    "execution": {
     "iopub.execute_input": "2023-06-23T13:33:29.758063Z",
     "iopub.status.busy": "2023-06-23T13:33:29.757195Z",
     "iopub.status.idle": "2023-06-23T13:33:29.772457Z",
     "shell.execute_reply": "2023-06-23T13:33:29.771361Z",
     "shell.execute_reply.started": "2023-06-23T13:33:29.758027Z"
    },
    "papermill": {
     "duration": 0.020079,
     "end_time": "2023-06-22T17:39:58.467111",
     "exception": false,
     "start_time": "2023-06-22T17:39:58.447032",
     "status": "completed"
    },
    "tags": []
   },
   "outputs": [],
   "source": [
    "## before oversampling\n",
    "# df = train[selected_cols]\n",
    "# df[\"Class\"] = train[\"Class\"]\n",
    "# pd.pivot_table(index=\"Class\", data=df)"
   ]
  },
  {
   "cell_type": "code",
   "execution_count": null,
   "id": "90e7f238",
   "metadata": {
    "execution": {
     "iopub.execute_input": "2023-06-23T13:33:29.774690Z",
     "iopub.status.busy": "2023-06-23T13:33:29.773655Z",
     "iopub.status.idle": "2023-06-23T13:33:29.787570Z",
     "shell.execute_reply": "2023-06-23T13:33:29.786422Z",
     "shell.execute_reply.started": "2023-06-23T13:33:29.774654Z"
    },
    "papermill": {
     "duration": 0.022184,
     "end_time": "2023-06-22T17:39:58.502504",
     "exception": false,
     "start_time": "2023-06-22T17:39:58.480320",
     "status": "completed"
    },
    "tags": []
   },
   "outputs": [],
   "source": [
    "## 2. oversampling -> SMOTE\n",
    "if sampling_method == 'over':\n",
    "    X = train[selected_cols]\n",
    "    y = train['Class']\n",
    "\n",
    "    smote = SMOTE(k_neighbors=5, random_state=42)\n",
    "    # fit_resample 함수가 자동으로 minority class를 y 기준으로 찾아서, 1:1로 맞춰줌.\n",
    "    X_resampled, y_resampled = smote.fit_resample(X, y)\n",
    "    print(X_resampled.shape, y_resampled.shape)\n",
    "    X_resampled[\"Class\"] = y_resampled\n",
    "    train = X_resampled"
   ]
  },
  {
   "cell_type": "code",
   "execution_count": null,
   "id": "8ac4a5cc",
   "metadata": {
    "execution": {
     "iopub.execute_input": "2023-06-23T13:33:29.789892Z",
     "iopub.status.busy": "2023-06-23T13:33:29.788930Z",
     "iopub.status.idle": "2023-06-23T13:33:29.802419Z",
     "shell.execute_reply": "2023-06-23T13:33:29.801250Z",
     "shell.execute_reply.started": "2023-06-23T13:33:29.789857Z"
    },
    "papermill": {
     "duration": 0.020544,
     "end_time": "2023-06-22T17:39:58.536616",
     "exception": false,
     "start_time": "2023-06-22T17:39:58.516072",
     "status": "completed"
    },
    "tags": []
   },
   "outputs": [],
   "source": [
    "# After SMOTE\n",
    "# df = X_resampled.copy()\n",
    "# df[\"Class\"] = y_resampled\n",
    "# pd.pivot_table(index=\"Class\", data=df)"
   ]
  },
  {
   "cell_type": "code",
   "execution_count": null,
   "id": "eeb246da",
   "metadata": {
    "execution": {
     "iopub.execute_input": "2023-06-23T13:33:29.804238Z",
     "iopub.status.busy": "2023-06-23T13:33:29.803876Z",
     "iopub.status.idle": "2023-06-23T13:33:29.918916Z",
     "shell.execute_reply": "2023-06-23T13:33:29.917578Z",
     "shell.execute_reply.started": "2023-06-23T13:33:29.804207Z"
    },
    "papermill": {
     "duration": 0.148677,
     "end_time": "2023-06-22T17:39:58.699943",
     "exception": false,
     "start_time": "2023-06-22T17:39:58.551266",
     "status": "completed"
    },
    "tags": []
   },
   "outputs": [],
   "source": [
    "# 3. hybrid approach\n",
    "## class0 : 509 -> 300\n",
    "## class1 : 108 -> 300\n",
    "if sampling_method == 'hybrid':\n",
    "    N = 300\n",
    "    c1 = train[train.Class == 1]\n",
    "    c0 = train[train.Class == 0]\n",
    "    print(c1.shape, c0.shape)\n",
    "    c0 = c0.sample(n=N) # 509 -> 300\n",
    "    train = pd.concat([c0, c1])\n",
    "    print(train.shape)\n",
    "    \n",
    "    if feature_selection:\n",
    "        X = train[selected_cols]\n",
    "    else:\n",
    "        X = train.drop(\"Class\", axis=1)\n",
    "    y = train.Class\n",
    "\n",
    "    smote = SMOTE(k_neighbors=5, random_state=42)\n",
    "    # The fit_resample function automatically finds the minority class by y and fits it 1:1.\n",
    "    X, y = smote.fit_resample(X, y) # 300, 108 --> 300, 300\n",
    "    print(X.shape, y.shape)\n",
    "    display(X), display(y)"
   ]
  },
  {
   "cell_type": "code",
   "execution_count": null,
   "id": "d1b488f4",
   "metadata": {
    "execution": {
     "iopub.execute_input": "2023-06-23T13:33:29.921528Z",
     "iopub.status.busy": "2023-06-23T13:33:29.920356Z",
     "iopub.status.idle": "2023-06-23T13:33:29.926261Z",
     "shell.execute_reply": "2023-06-23T13:33:29.924935Z",
     "shell.execute_reply.started": "2023-06-23T13:33:29.921490Z"
    },
    "papermill": {
     "duration": 0.022305,
     "end_time": "2023-06-22T17:39:58.737016",
     "exception": false,
     "start_time": "2023-06-22T17:39:58.714711",
     "status": "completed"
    },
    "tags": []
   },
   "outputs": [],
   "source": [
    "## we don't need anymore because we dropped, valid set.\n",
    "\n",
    "# # to make OOF prediction\n",
    "# from sklearn.model_selection import train_test_split\n",
    "\n",
    "# #X = train.drop(columns=[\"Class\"])\n",
    "# X = train[selected_cols]\n",
    "# y = train['Class']\n",
    "\n",
    "# X_train, X_val, y_train, y_val = train_test_split(X, y, test_size=0.15, stratify=y, random_state=42)\n",
    "# print(X_train.shape, X_val.shape, y_train.shape, y_val.shape)"
   ]
  },
  {
   "cell_type": "markdown",
   "id": "8c99b5ce",
   "metadata": {
    "papermill": {
     "duration": 0.014079,
     "end_time": "2023-06-22T17:39:58.765735",
     "exception": false,
     "start_time": "2023-06-22T17:39:58.751656",
     "status": "completed"
    },
    "tags": []
   },
   "source": [
    "### feature scaling\n",
    "\n",
    "- Use StandardScaler"
   ]
  },
  {
   "cell_type": "code",
   "execution_count": null,
   "id": "9b733d03",
   "metadata": {
    "execution": {
     "iopub.execute_input": "2023-06-23T13:33:29.927915Z",
     "iopub.status.busy": "2023-06-23T13:33:29.927529Z",
     "iopub.status.idle": "2023-06-23T13:33:29.969447Z",
     "shell.execute_reply": "2023-06-23T13:33:29.968587Z",
     "shell.execute_reply.started": "2023-06-23T13:33:29.927875Z"
    },
    "papermill": {
     "duration": 0.049137,
     "end_time": "2023-06-22T17:39:58.829739",
     "exception": false,
     "start_time": "2023-06-22T17:39:58.780602",
     "status": "completed"
    },
    "tags": []
   },
   "outputs": [],
   "source": [
    "from sklearn.preprocessing import StandardScaler\n",
    "\n",
    "if is_scaling:\n",
    "    scaler = StandardScaler()\n",
    "    data_ = scaler.fit_transform(X)\n",
    "    X = pd.DataFrame(data=data_, columns=X.columns)\n",
    "    display(X)\n",
    "    \n",
    "#     data_ = scaler.fit_transform(X_train)\n",
    "#     X_train = pd.DataFrame(data=data_, columns=X_train.columns)\n",
    "#     data_ = scaler.transform(X_val)\n",
    "#     X_val = pd.DataFrame(data=data_, columns=X_val.columns)\n",
    "#     display(X_train)"
   ]
  },
  {
   "cell_type": "code",
   "execution_count": null,
   "id": "a3188432",
   "metadata": {
    "execution": {
     "iopub.execute_input": "2023-06-23T13:33:29.971091Z",
     "iopub.status.busy": "2023-06-23T13:33:29.970683Z",
     "iopub.status.idle": "2023-06-23T13:33:29.978163Z",
     "shell.execute_reply": "2023-06-23T13:33:29.976889Z",
     "shell.execute_reply.started": "2023-06-23T13:33:29.971057Z"
    },
    "papermill": {
     "duration": 0.023246,
     "end_time": "2023-06-22T17:39:58.868591",
     "exception": false,
     "start_time": "2023-06-22T17:39:58.845345",
     "status": "completed"
    },
    "tags": []
   },
   "outputs": [],
   "source": [
    "if is_pca:\n",
    "    from sklearn.decomposition import PCA\n",
    "    \n",
    "    pca = PCA(n_components=0.90, random_state=42)\n",
    "    data_ = pca.fit_transform(X)\n",
    "    X = pd.DataFrame(data=data_, columns=[f\"PC{i}\" for i in range(1, data_.shape[1]+1)])\n",
    "    display(X)\n",
    "\n",
    "#     data_ = pca.fit_transform(X_train)\n",
    "#     X_train = pd.DataFrame(data=data_, columns=[f\"PC{i}\" for i in range(1, data_.shape[1]+1)])\n",
    "#     data_ = pca.transform(X_val)\n",
    "#     X_val = pd.DataFrame(data=data_, columns=[f\"PC{i}\" for i in range(1, data_.shape[1]+1)])\n",
    "\n",
    "#     display(X_train)"
   ]
  },
  {
   "cell_type": "markdown",
   "id": "bf7dad3e",
   "metadata": {
    "papermill": {
     "duration": 0.014328,
     "end_time": "2023-06-22T17:39:58.897507",
     "exception": false,
     "start_time": "2023-06-22T17:39:58.883179",
     "status": "completed"
    },
    "tags": []
   },
   "source": [
    "## 4. Fitting and Evaluation\n",
    "\n",
    "\n",
    "- does not need anymore."
   ]
  },
  {
   "cell_type": "code",
   "execution_count": null,
   "id": "a9e22902",
   "metadata": {
    "execution": {
     "iopub.execute_input": "2023-06-23T13:33:29.980670Z",
     "iopub.status.busy": "2023-06-23T13:33:29.979790Z",
     "iopub.status.idle": "2023-06-23T13:33:29.995173Z",
     "shell.execute_reply": "2023-06-23T13:33:29.993894Z",
     "shell.execute_reply.started": "2023-06-23T13:33:29.980633Z"
    },
    "papermill": {
     "duration": 0.021699,
     "end_time": "2023-06-22T17:39:58.934057",
     "exception": false,
     "start_time": "2023-06-22T17:39:58.912358",
     "status": "completed"
    },
    "tags": []
   },
   "outputs": [],
   "source": [
    "# set metric\n",
    "evaluation_metric = balance_logloss\n",
    "#evaluation_metric_keras = b_logloss_keras"
   ]
  },
  {
   "cell_type": "markdown",
   "id": "0b995aeb",
   "metadata": {
    "papermill": {
     "duration": 0.014427,
     "end_time": "2023-06-22T17:39:58.963077",
     "exception": false,
     "start_time": "2023-06-22T17:39:58.948650",
     "status": "completed"
    },
    "tags": []
   },
   "source": [
    "## 5. (Super)Hyper-parameter Tuning and OOF prediction"
   ]
  },
  {
   "cell_type": "markdown",
   "id": "6eccae1e",
   "metadata": {
    "papermill": {
     "duration": 0.014426,
     "end_time": "2023-06-22T17:39:58.991883",
     "exception": false,
     "start_time": "2023-06-22T17:39:58.977457",
     "status": "completed"
    },
    "tags": []
   },
   "source": [
    "Let's try hyper-parameter tuning using optuna, an AutoML framework.\n",
    "\n",
    "Optuna defines a target function to optimize and then optimizes that function.\n",
    "\n",
    "For each model, we define an optimizer function separately and then burn optuna."
   ]
  },
  {
   "cell_type": "code",
   "execution_count": null,
   "id": "797be28e",
   "metadata": {
    "execution": {
     "iopub.execute_input": "2023-06-23T13:33:29.998258Z",
     "iopub.status.busy": "2023-06-23T13:33:29.996904Z",
     "iopub.status.idle": "2023-06-23T13:33:30.016233Z",
     "shell.execute_reply": "2023-06-23T13:33:30.014726Z",
     "shell.execute_reply.started": "2023-06-23T13:33:29.998210Z"
    },
    "papermill": {
     "duration": 0.026663,
     "end_time": "2023-06-22T17:39:59.033792",
     "exception": false,
     "start_time": "2023-06-22T17:39:59.007129",
     "status": "completed"
    },
    "tags": []
   },
   "outputs": [],
   "source": [
    "# make oof predictions\n",
    "submission = pd.read_csv('../input/icr-identify-age-related-conditions/sample_submission.csv')\n",
    "final_preds = []\n",
    "# rf_preds = pd.DataFrame(columns=submission.columns, data=np.zeros((train.shape[0], submission.shape[1])))\n",
    "# svm_preds = pd.DataFrame(columns=submission.columns, data=np.zeros((train.shape[0], submission.shape[1])))\n",
    "# xgb_preds = pd.DataFrame(columns=submission.columns, data=np.zeros((train.shape[0], submission.shape[1])))"
   ]
  },
  {
   "cell_type": "code",
   "execution_count": null,
   "id": "d70e1d86",
   "metadata": {
    "execution": {
     "iopub.execute_input": "2023-06-23T13:33:30.018687Z",
     "iopub.status.busy": "2023-06-23T13:33:30.018204Z",
     "iopub.status.idle": "2023-06-23T13:33:30.056502Z",
     "shell.execute_reply": "2023-06-23T13:33:30.055435Z",
     "shell.execute_reply.started": "2023-06-23T13:33:30.018641Z"
    },
    "papermill": {
     "duration": 0.049791,
     "end_time": "2023-06-22T17:39:59.098267",
     "exception": false,
     "start_time": "2023-06-22T17:39:59.048476",
     "status": "completed"
    },
    "tags": []
   },
   "outputs": [],
   "source": [
    "# apply same preprocessing in Testset\n",
    "test.EJ = lb.transform(test.EJ)  # A->0, B->1\n",
    "test = test.drop(columns=[\"Id\"])\n",
    "\n",
    "if apply_vif or feature_selection:\n",
    "    X_test = pd.DataFrame(columns=test.columns, data=imp.transform(test))\n",
    "    if apply_vif:\n",
    "        X_test = X_test[train.columns.drop(\"Class\")]\n",
    "    else:\n",
    "        X_test = X_test[selected_cols]\n",
    "    X_test = pd.DataFrame(columns=X_test.columns, data=scaler.transform(X_test))\n",
    "elif is_pca:\n",
    "    X_test = pd.DataFrame(columns=test.columns, data=scaler.transform(imp.transform(test)))\n",
    "    data_ = pca.fit_transform(X_test)\n",
    "    X_test = pd.DataFrame(data=data_, columns=[f\"PC{i}\" for i in range(1, data_.shape[1]+1)])\n",
    "else:\n",
    "    X_test = pd.DataFrame(columns=test.columns, data=scaler.transform(imp.transform(test)))\n",
    "\n",
    "X_test"
   ]
  },
  {
   "cell_type": "code",
   "execution_count": null,
   "id": "22fb3ff2",
   "metadata": {
    "execution": {
     "iopub.execute_input": "2023-06-23T13:33:30.058740Z",
     "iopub.status.busy": "2023-06-23T13:33:30.058351Z",
     "iopub.status.idle": "2023-06-23T13:33:30.067109Z",
     "shell.execute_reply": "2023-06-23T13:33:30.065969Z",
     "shell.execute_reply.started": "2023-06-23T13:33:30.058684Z"
    },
    "papermill": {
     "duration": 0.02621,
     "end_time": "2023-06-22T17:39:59.139762",
     "exception": false,
     "start_time": "2023-06-22T17:39:59.113552",
     "status": "completed"
    },
    "tags": []
   },
   "outputs": [],
   "source": [
    "def rf_optimizer(trial, X, y, K):\n",
    "    # define parameter to tune    \n",
    "    n_estimators = trial.suggest_categorical('n_estimators', [50, 100, 200])\n",
    "    max_depth = trial.suggest_int('max_depth', 4, 10)\n",
    "    max_features = trial.suggest_categorical('max_features', [0.6, 0.7, 0.8])\n",
    "    \n",
    "    \n",
    "    # set model\n",
    "    model = RandomForestClassifier(n_estimators=n_estimators,\n",
    "                                   max_depth=max_depth,\n",
    "                                   max_features=max_features,\n",
    "                                   criterion='log_loss',\n",
    "                                   class_weight='balanced'\n",
    "                                  )\n",
    "    \n",
    "    # K-Fold Cross validation\n",
    "    folds = StratifiedKFold(n_splits=K, shuffle=True, random_state=42)\n",
    "    losses = []\n",
    "    \n",
    "    for train_idx, val_idx in folds.split(X, y):\n",
    "        X_train = X.iloc[train_idx, :]\n",
    "        y_train = y.iloc[train_idx]\n",
    "        \n",
    "        X_val = X.iloc[val_idx, :]\n",
    "        y_val = y.iloc[val_idx]\n",
    "        \n",
    "        model.fit(X_train, y_train)\n",
    "        preds = model.predict_proba(X_val)\n",
    "        loss = evaluation_metric(y_val, preds)\n",
    "        losses.append(loss)\n",
    "    \n",
    "    \n",
    "    # return mean score of CV\n",
    "    return np.mean(losses)"
   ]
  },
  {
   "cell_type": "code",
   "execution_count": null,
   "id": "c1ee4654",
   "metadata": {
    "execution": {
     "iopub.execute_input": "2023-06-23T13:33:30.069109Z",
     "iopub.status.busy": "2023-06-23T13:33:30.068642Z",
     "iopub.status.idle": "2023-06-23T13:33:30.085685Z",
     "shell.execute_reply": "2023-06-23T13:33:30.084865Z",
     "shell.execute_reply.started": "2023-06-23T13:33:30.069066Z"
    },
    "papermill": {
     "duration": 0.026497,
     "end_time": "2023-06-22T17:39:59.181155",
     "exception": false,
     "start_time": "2023-06-22T17:39:59.154658",
     "status": "completed"
    },
    "tags": []
   },
   "outputs": [],
   "source": [
    "def xgb_optimizer(trial, X, y, K):\n",
    "    \n",
    "    n_estimators = trial.suggest_categorical('n_estimators', [500, 1000, 2000])\n",
    "    max_depth = trial.suggest_int('max_depth', 4, 10)\n",
    "    colsample_bytree = trial.suggest_categorical('colsample_bytree', [0.5, 0.6, 0.7, 0.8])\n",
    "    learning_rate = trial.suggest_float('learning_rate', 1e-3, 1e-2)\n",
    "    reg_lambda = trial.suggest_categorical('reg_lambda', [0.1, 0.5, 1, 2])\n",
    "    \n",
    "    \n",
    "    model = XGBClassifier(n_estimators=n_estimators,\n",
    "                          max_depth=max_depth,\n",
    "                          colsample_bytree=colsample_bytree,\n",
    "                          learning_rate=learning_rate,\n",
    "                          reg_lambda=reg_lambda,\n",
    "                          random_state=42)\n",
    "#                          scale_pos_weight=4.71)  ## we set class imbalance by using sampling method.\n",
    "    \n",
    "    \n",
    "    folds = StratifiedKFold(n_splits=K, shuffle=True, random_state=42)\n",
    "    losses = []\n",
    "    \n",
    "    for train_idx, val_idx in folds.split(X, y):\n",
    "        X_train = X.iloc[train_idx, :]\n",
    "        y_train = y.iloc[train_idx]\n",
    "        \n",
    "        X_val = X.iloc[val_idx, :]\n",
    "        y_val = y.iloc[val_idx]\n",
    "        \n",
    "        model.fit(X_train, y_train)\n",
    "        preds = model.predict_proba(X_val)\n",
    "        loss = evaluation_metric(y_val, preds)\n",
    "        losses.append(loss)\n",
    "    \n",
    "    \n",
    "    return np.mean(losses)"
   ]
  },
  {
   "cell_type": "code",
   "execution_count": null,
   "id": "1a1617c5",
   "metadata": {
    "execution": {
     "iopub.execute_input": "2023-06-23T13:33:30.087225Z",
     "iopub.status.busy": "2023-06-23T13:33:30.086823Z",
     "iopub.status.idle": "2023-06-23T13:34:20.231323Z",
     "shell.execute_reply": "2023-06-23T13:34:20.230102Z",
     "shell.execute_reply.started": "2023-06-23T13:33:30.087187Z"
    },
    "papermill": {
     "duration": 91.730227,
     "end_time": "2023-06-22T17:41:30.926584",
     "exception": false,
     "start_time": "2023-06-22T17:39:59.196357",
     "status": "completed"
    },
    "tags": []
   },
   "outputs": [],
   "source": [
    "K = 4 # set K of K-Fold\n",
    "opt_func = partial(rf_optimizer, X=X, y=y, K=K)\n",
    "\n",
    "if is_tuning:\n",
    "    rf_study = optuna.create_study(direction=\"minimize\", sampler=sampler) # determine minimize or maximize sth\n",
    "    rf_study.optimize(opt_func, n_trials=n_trials)"
   ]
  },
  {
   "cell_type": "code",
   "execution_count": null,
   "id": "f6a75d1a",
   "metadata": {
    "execution": {
     "iopub.execute_input": "2023-06-23T13:34:20.233122Z",
     "iopub.status.busy": "2023-06-23T13:34:20.232685Z",
     "iopub.status.idle": "2023-06-23T13:34:21.039174Z",
     "shell.execute_reply": "2023-06-23T13:34:21.038359Z",
     "shell.execute_reply.started": "2023-06-23T13:34:20.233090Z"
    },
    "papermill": {
     "duration": 18.070321,
     "end_time": "2023-06-22T17:41:49.015930",
     "exception": false,
     "start_time": "2023-06-22T17:41:30.945609",
     "status": "completed"
    },
    "tags": []
   },
   "outputs": [],
   "source": [
    "K = 4 \n",
    "\n",
    "if is_tuning:\n",
    "    best_loss = 9999.0\n",
    "    best_C = 0\n",
    "    kernel = 'linear'\n",
    "    folds = StratifiedKFold(n_splits=K, random_state=42, shuffle=True)\n",
    "\n",
    "#     # for Linear SVM\n",
    "#     for C in tqdm([1, 2, 5, 10, 100]):\n",
    "#         losses = []\n",
    "#         l_svm = LinearSVC(C=C, probability=True) ## cuml version. (faster model)\n",
    "\n",
    "#         for train_idx, val_idx in folds.split(X, y):\n",
    "#             X_train = X.iloc[train_idx, :]\n",
    "#             y_train = y.iloc[train_idx]\n",
    "#             X_val = X.iloc[val_idx, :]\n",
    "#             y_val = y.iloc[val_idx]\n",
    "\n",
    "#             l_svm.fit(X_train, y_train)\n",
    "#             preds = l_svm.predict_proba(X_val).values\n",
    "#             loss = evaluation_metric(y_val, preds)\n",
    "#             losses.append(loss)\n",
    "\n",
    "#         avg_loss = np.mean(losses)\n",
    "#         if avg_loss < best_loss:\n",
    "#             best_loss = avg_loss\n",
    "#             best_C = C\n",
    "\n",
    "    # for SVM with RBF kernel.\n",
    "    for C in tqdm([1, 2, 5, 10, 100]):\n",
    "        losses = []\n",
    "        r_svm = SVC(C=C, probability=True) ## cuml version. (with rbf kernel)\n",
    "\n",
    "        for train_idx, val_idx in folds.split(X, y):\n",
    "            X_train = X.iloc[train_idx, :]\n",
    "            y_train = y.iloc[train_idx]\n",
    "            X_val = X.iloc[val_idx, :]\n",
    "            y_val = y.iloc[val_idx]\n",
    "\n",
    "            r_svm.fit(X_train, y_train)\n",
    "            preds = r_svm.predict_proba(X_val)\n",
    "            loss = evaluation_metric(y_val, preds)\n",
    "            losses.append(loss)\n",
    "\n",
    "        avg_loss = np.mean(losses)\n",
    "        if avg_loss < best_loss:\n",
    "            best_loss = avg_loss\n",
    "            best_C = C\n",
    "            kernel = 'rbf'\n",
    "\n",
    "    print(\"SVM(%s) log loss : %.4f\" % (kernel, best_loss))"
   ]
  },
  {
   "cell_type": "code",
   "execution_count": null,
   "id": "6e3cca14",
   "metadata": {
    "execution": {
     "iopub.execute_input": "2023-06-23T13:34:21.044637Z",
     "iopub.status.busy": "2023-06-23T13:34:21.043863Z",
     "iopub.status.idle": "2023-06-23T13:34:21.052679Z",
     "shell.execute_reply": "2023-06-23T13:34:21.051275Z",
     "shell.execute_reply.started": "2023-06-23T13:34:21.044605Z"
    }
   },
   "outputs": [],
   "source": [
    "def svm_optimizer(trial, X, y, K):\n",
    "    C = trial.suggest_float('C', 0.45, 0.55)\n",
    "    kernel = trial.suggest_categorical('kernel', ['rbf'])\n",
    "\n",
    "\n",
    "    model = SVC(C=C,\n",
    "                kernel=kernel,\n",
    "                # class_weight='balanced', # if class imbalanced\n",
    "                probability=True,\n",
    "                # cache_size=1000,\n",
    "                random_state=42\n",
    "               )\n",
    "\n",
    "    folds = StratifiedKFold(n_splits=K, random_state=42, shuffle=True)\n",
    "    losses = []\n",
    "\n",
    "    for train_idx, val_idx in folds.split(X, y):\n",
    "        X_train = X.iloc[train_idx, :]\n",
    "        y_train = y.iloc[train_idx]\n",
    "\n",
    "        X_val = X.iloc[val_idx, :]\n",
    "        y_val = y.iloc[val_idx]\n",
    "\n",
    "        model.fit(X_train, y_train)\n",
    "        preds = model.predict_proba(X_val)\n",
    "        loss = evaluation_metric(y_val, preds)\n",
    "        losses.append(loss)\n",
    "\n",
    "    return np.mean(losses)"
   ]
  },
  {
   "cell_type": "code",
   "execution_count": null,
   "id": "850a6aa7",
   "metadata": {
    "execution": {
     "iopub.execute_input": "2023-06-23T13:34:21.055567Z",
     "iopub.status.busy": "2023-06-23T13:34:21.054303Z",
     "iopub.status.idle": "2023-06-23T13:34:25.748131Z",
     "shell.execute_reply": "2023-06-23T13:34:25.746879Z",
     "shell.execute_reply.started": "2023-06-23T13:34:21.055516Z"
    }
   },
   "outputs": [],
   "source": [
    "K = 4\n",
    "opt_func = partial(svm_optimizer, X=X, y=y, K=K)\n",
    "\n",
    "if is_tuning:\n",
    "    svm_study = optuna.create_study(direction=\"minimize\", sampler=sampler)\n",
    "    svm_study.optimize(opt_func, n_trials=n_trials)"
   ]
  },
  {
   "cell_type": "code",
   "execution_count": null,
   "id": "6281240a",
   "metadata": {
    "execution": {
     "iopub.execute_input": "2023-06-23T13:34:25.750149Z",
     "iopub.status.busy": "2023-06-23T13:34:25.749683Z",
     "iopub.status.idle": "2023-06-23T13:36:54.268780Z",
     "shell.execute_reply": "2023-06-23T13:36:54.267659Z",
     "shell.execute_reply.started": "2023-06-23T13:34:25.750109Z"
    },
    "papermill": {
     "duration": 274.657507,
     "end_time": "2023-06-22T17:46:23.692880",
     "exception": false,
     "start_time": "2023-06-22T17:41:49.035373",
     "status": "completed"
    },
    "tags": []
   },
   "outputs": [],
   "source": [
    "K = 4\n",
    "opt_func = partial(xgb_optimizer, X=X, y=y, K=K)\n",
    "\n",
    "if is_tuning:\n",
    "    xgb_study = optuna.create_study(direction=\"minimize\", sampler=sampler)\n",
    "    xgb_study.optimize(opt_func, n_trials=n_trials)"
   ]
  },
  {
   "cell_type": "code",
   "execution_count": null,
   "id": "7422b3d3",
   "metadata": {
    "execution": {
     "iopub.execute_input": "2023-06-23T13:36:54.271677Z",
     "iopub.status.busy": "2023-06-23T13:36:54.270625Z",
     "iopub.status.idle": "2023-06-23T13:36:54.280005Z",
     "shell.execute_reply": "2023-06-23T13:36:54.278726Z",
     "shell.execute_reply.started": "2023-06-23T13:36:54.271624Z"
    },
    "papermill": {
     "duration": 0.032366,
     "end_time": "2023-06-22T17:46:23.749239",
     "exception": false,
     "start_time": "2023-06-22T17:46:23.716873",
     "status": "completed"
    },
    "tags": []
   },
   "outputs": [],
   "source": [
    "# visualize experiment logs\n",
    "def display_experiment_log(study):\n",
    "    display(study.trials_dataframe())\n",
    "    print(\"Best Score: %.4f\" % study.best_value)\n",
    "    print(\"Best params: \", study.best_trial.params)\n",
    "    history = study.trials_dataframe()\n",
    "    display(history[history.value == study.best_value])\n",
    "    optuna.visualization.plot_optimization_history(study).show()\n",
    "    optuna.visualization.plot_param_importances(study).show()"
   ]
  },
  {
   "cell_type": "code",
   "execution_count": null,
   "id": "c14eb297",
   "metadata": {
    "execution": {
     "iopub.execute_input": "2023-06-23T13:36:54.282044Z",
     "iopub.status.busy": "2023-06-23T13:36:54.281526Z",
     "iopub.status.idle": "2023-06-23T13:36:55.233661Z",
     "shell.execute_reply": "2023-06-23T13:36:55.232751Z",
     "shell.execute_reply.started": "2023-06-23T13:36:54.281996Z"
    },
    "papermill": {
     "duration": 1.06211,
     "end_time": "2023-06-22T17:46:24.834508",
     "exception": false,
     "start_time": "2023-06-22T17:46:23.772398",
     "status": "completed"
    },
    "tags": []
   },
   "outputs": [],
   "source": [
    "if is_tuning:\n",
    "    display_experiment_log(rf_study)"
   ]
  },
  {
   "cell_type": "code",
   "execution_count": null,
   "id": "0832a752",
   "metadata": {
    "execution": {
     "iopub.execute_input": "2023-06-23T13:36:55.235319Z",
     "iopub.status.busy": "2023-06-23T13:36:55.235023Z",
     "iopub.status.idle": "2023-06-23T13:36:55.868100Z",
     "shell.execute_reply": "2023-06-23T13:36:55.866781Z",
     "shell.execute_reply.started": "2023-06-23T13:36:55.235292Z"
    },
    "papermill": {
     "duration": 1.271277,
     "end_time": "2023-06-22T17:46:26.131974",
     "exception": false,
     "start_time": "2023-06-22T17:46:24.860697",
     "status": "completed"
    },
    "tags": []
   },
   "outputs": [],
   "source": [
    "if is_tuning:\n",
    "    display_experiment_log(xgb_study)"
   ]
  },
  {
   "cell_type": "markdown",
   "id": "8c6419b1",
   "metadata": {
    "papermill": {
     "duration": 0.026837,
     "end_time": "2023-06-22T17:46:26.186280",
     "exception": false,
     "start_time": "2023-06-22T17:46:26.159443",
     "status": "completed"
    },
    "tags": []
   },
   "source": [
    "## 6. Test Prediction and Make Submission"
   ]
  },
  {
   "cell_type": "code",
   "execution_count": null,
   "id": "f1892d7c",
   "metadata": {
    "execution": {
     "iopub.execute_input": "2023-06-23T13:36:55.870413Z",
     "iopub.status.busy": "2023-06-23T13:36:55.869895Z",
     "iopub.status.idle": "2023-06-23T13:36:55.877238Z",
     "shell.execute_reply": "2023-06-23T13:36:55.876369Z",
     "shell.execute_reply.started": "2023-06-23T13:36:55.870366Z"
    },
    "papermill": {
     "duration": 0.03566,
     "end_time": "2023-06-22T17:46:26.248083",
     "exception": false,
     "start_time": "2023-06-22T17:46:26.212423",
     "status": "completed"
    },
    "tags": []
   },
   "outputs": [],
   "source": [
    "# Finalize Models\n",
    "if is_tuning:\n",
    "    rf_best_params = rf_study.best_params\n",
    "    xgb_best_params = xgb_study.best_params\n",
    "\n",
    "    best_rf = RandomForestClassifier(**rf_best_params)\n",
    "    best_xgb = XGBClassifier(**xgb_best_params)\n",
    "    best_svm = r_svm\n",
    "#     if kernel == 'linear':\n",
    "#         best_svm = l_svm\n",
    "#     else:\n",
    "#         best_svm = r_svm"
   ]
  },
  {
   "cell_type": "markdown",
   "id": "64c8aa67",
   "metadata": {
    "papermill": {
     "duration": 0.025943,
     "end_time": "2023-06-22T17:46:26.299879",
     "exception": false,
     "start_time": "2023-06-22T17:46:26.273936",
     "status": "completed"
    },
    "tags": []
   },
   "source": [
    "### Need to validate OOF prediction score.\n",
    "\n",
    "- OOF score is not correlated with LB score."
   ]
  },
  {
   "cell_type": "code",
   "execution_count": null,
   "id": "c6321e44",
   "metadata": {
    "execution": {
     "iopub.execute_input": "2023-06-23T13:36:55.879364Z",
     "iopub.status.busy": "2023-06-23T13:36:55.878742Z",
     "iopub.status.idle": "2023-06-23T13:36:55.897680Z",
     "shell.execute_reply": "2023-06-23T13:36:55.896776Z",
     "shell.execute_reply.started": "2023-06-23T13:36:55.879329Z"
    },
    "papermill": {
     "duration": 0.041189,
     "end_time": "2023-06-22T17:46:26.367000",
     "exception": false,
     "start_time": "2023-06-22T17:46:26.325811",
     "status": "completed"
    },
    "tags": []
   },
   "outputs": [],
   "source": [
    "# Make KFold OOF prediction\n",
    "def oof_preds(best_model, svm=False):\n",
    "    # call global variable\n",
    "    global final_preds\n",
    "    \n",
    "    # make KFold\n",
    "    folds = StratifiedKFold(n_splits=K, random_state=42, shuffle=True)\n",
    "    losses = []\n",
    "            \n",
    "    if svm: # cuml SVC\n",
    "        if kernel == 'linear':\n",
    "            svm = LinearSVC(C=best_C, probability=True)\n",
    "        else:\n",
    "            svm = SVC(C=best_C, probability=True)\n",
    "            \n",
    "\n",
    "        for i, (train_idx, val_idx) in enumerate(folds.split(X, y)):\n",
    "            X_train = X.iloc[train_idx, :]\n",
    "            y_train = y.iloc[train_idx]\n",
    "            X_val = X.iloc[val_idx, :]\n",
    "            y_val = y.iloc[val_idx]\n",
    "\n",
    "            print(f\"========== Fold {i+1} ==========\")\n",
    "            svm.fit(X_train, y_train)\n",
    "            preds = svm.predict_proba(X_val)\n",
    "            test_preds = svm.predict_proba(X_test)\n",
    "            final_preds.append(test_preds)\n",
    "            loss = evaluation_metric(y_val, preds)\n",
    "            print(f\"Loss : {loss:.4f}\")\n",
    "            losses.append(loss)\n",
    "    \n",
    "    else:\n",
    "        # fitting with best_model\n",
    "        for i, (train_idx, val_idx) in enumerate(folds.split(X, y)):\n",
    "            X_train = X.iloc[train_idx, :]\n",
    "            y_train = y.iloc[train_idx]\n",
    "            X_val = X.iloc[val_idx, :]\n",
    "            y_val = y.iloc[val_idx]\n",
    "\n",
    "            print(f\"========== Fold {i+1} ==========\")\n",
    "            best_model.fit(X_train, y_train)\n",
    "            preds = best_model.predict_proba(X_val)\n",
    "            test_preds = best_model.predict_proba(X_test)\n",
    "            final_preds.append(test_preds)\n",
    "            loss = evaluation_metric(y_val, preds)\n",
    "            print(f\"Loss : {loss:.4f}\")\n",
    "            losses.append(loss)\n",
    "\n",
    "    avg_loss = np.mean(losses)\n",
    "    return avg_loss"
   ]
  },
  {
   "cell_type": "code",
   "execution_count": null,
   "id": "c0112b84",
   "metadata": {
    "execution": {
     "iopub.execute_input": "2023-06-23T13:36:55.899786Z",
     "iopub.status.busy": "2023-06-23T13:36:55.899161Z",
     "iopub.status.idle": "2023-06-23T13:37:03.876828Z",
     "shell.execute_reply": "2023-06-23T13:37:03.875855Z",
     "shell.execute_reply.started": "2023-06-23T13:36:55.899750Z"
    },
    "papermill": {
     "duration": 10.174187,
     "end_time": "2023-06-22T17:46:36.567117",
     "exception": false,
     "start_time": "2023-06-22T17:46:26.392930",
     "status": "completed"
    },
    "tags": []
   },
   "outputs": [],
   "source": [
    "print(\"Random Forest\")\n",
    "rf_loss = oof_preds(best_model=best_rf, svm=False)\n",
    "print(\"Avg Loss : %.4f\" % rf_loss)\n",
    "print(\"\\nXGBoost\")\n",
    "xgb_loss = oof_preds(best_model=best_xgb, svm=False)\n",
    "print(\"Avg Loss : %.4f\" % xgb_loss)\n",
    "print(\"\\nSupport Vector Machine\")\n",
    "svm_loss = oof_preds(best_model=best_svm, svm=True)\n",
    "print(\"Avg Loss : %.4f\" % svm_loss)\n",
    "print(\"\\nRF + SVM\")\n",
    "print(\"Avg Loss : %.4f\" % np.mean([rf_loss, svm_loss]))\n",
    "print(\"\\nRF + XGB\")\n",
    "print(\"Avg Loss : %.4f\" % np.mean([rf_loss, xgb_loss]))\n",
    "print(\"\\nSVM + XGB\")\n",
    "print(\"Avg Loss : %.4f\" % np.mean([xgb_loss, svm_loss]))\n",
    "print(\"\\nTotal logloss : %.4f\" % np.mean([rf_loss, xgb_loss, svm_loss]))"
   ]
  },
  {
   "cell_type": "code",
   "execution_count": null,
   "id": "998ec58d",
   "metadata": {
    "execution": {
     "iopub.execute_input": "2023-06-23T13:37:03.878951Z",
     "iopub.status.busy": "2023-06-23T13:37:03.877914Z",
     "iopub.status.idle": "2023-06-23T13:37:03.907834Z",
     "shell.execute_reply": "2023-06-23T13:37:03.906957Z",
     "shell.execute_reply.started": "2023-06-23T13:37:03.878916Z"
    },
    "papermill": {
     "duration": 0.059427,
     "end_time": "2023-06-22T17:46:36.654287",
     "exception": false,
     "start_time": "2023-06-22T17:46:36.594860",
     "status": "completed"
    },
    "tags": []
   },
   "outputs": [],
   "source": [
    "pd.DataFrame(columns=[0, 1], data=best_rf.predict_proba(X_val)).head()"
   ]
  },
  {
   "cell_type": "code",
   "execution_count": null,
   "id": "283858d4",
   "metadata": {
    "execution": {
     "iopub.execute_input": "2023-06-23T13:37:03.909975Z",
     "iopub.status.busy": "2023-06-23T13:37:03.908998Z",
     "iopub.status.idle": "2023-06-23T13:37:03.923554Z",
     "shell.execute_reply": "2023-06-23T13:37:03.922141Z",
     "shell.execute_reply.started": "2023-06-23T13:37:03.909906Z"
    },
    "papermill": {
     "duration": 0.05235,
     "end_time": "2023-06-22T17:46:36.736726",
     "exception": false,
     "start_time": "2023-06-22T17:46:36.684376",
     "status": "completed"
    },
    "tags": []
   },
   "outputs": [],
   "source": [
    "best_svm.predict_proba(X_val)"
   ]
  },
  {
   "cell_type": "code",
   "execution_count": null,
   "id": "6959a0cb",
   "metadata": {
    "execution": {
     "iopub.execute_input": "2023-06-23T13:37:03.926203Z",
     "iopub.status.busy": "2023-06-23T13:37:03.925200Z",
     "iopub.status.idle": "2023-06-23T13:37:03.931816Z",
     "shell.execute_reply": "2023-06-23T13:37:03.930917Z",
     "shell.execute_reply.started": "2023-06-23T13:37:03.926159Z"
    },
    "papermill": {
     "duration": 0.036057,
     "end_time": "2023-06-22T17:46:36.801208",
     "exception": false,
     "start_time": "2023-06-22T17:46:36.765151",
     "status": "completed"
    },
    "tags": []
   },
   "outputs": [],
   "source": [
    "final_preds = final_preds[:-4] # remove SVM KFold predictions"
   ]
  },
  {
   "cell_type": "code",
   "execution_count": null,
   "id": "776d117d",
   "metadata": {
    "execution": {
     "iopub.execute_input": "2023-06-23T13:37:03.933680Z",
     "iopub.status.busy": "2023-06-23T13:37:03.933346Z",
     "iopub.status.idle": "2023-06-23T13:37:03.953428Z",
     "shell.execute_reply": "2023-06-23T13:37:03.952215Z",
     "shell.execute_reply.started": "2023-06-23T13:37:03.933654Z"
    },
    "papermill": {
     "duration": 0.042742,
     "end_time": "2023-06-22T17:46:36.872320",
     "exception": false,
     "start_time": "2023-06-22T17:46:36.829578",
     "status": "completed"
    },
    "tags": []
   },
   "outputs": [],
   "source": [
    "submission[['class_0', 'class_1']] = np.mean(final_preds, axis=0)\n",
    "submission"
   ]
  },
  {
   "cell_type": "code",
   "execution_count": null,
   "id": "adf2a863",
   "metadata": {
    "execution": {
     "iopub.execute_input": "2023-06-23T13:41:09.472197Z",
     "iopub.status.busy": "2023-06-23T13:41:09.471800Z",
     "iopub.status.idle": "2023-06-23T13:41:09.477601Z",
     "shell.execute_reply": "2023-06-23T13:41:09.476578Z",
     "shell.execute_reply.started": "2023-06-23T13:41:09.472170Z"
    },
    "papermill": {
     "duration": 0.036783,
     "end_time": "2023-06-22T17:46:36.939008",
     "exception": false,
     "start_time": "2023-06-22T17:46:36.902225",
     "status": "completed"
    },
    "tags": []
   },
   "outputs": [],
   "source": [
    "# #voting_weights = [0.1, 0.1, 0.25, 0.25, 0.3]\n",
    "# #voting_weights = [0.2, 0.2, 0.2, 0.2, 0.2]\n",
    "# #voting_weights = [0.25, 0.25, 0.25, 0.25]\n",
    "# #voting_weights = [0.5, 0.5]\n",
    "# voting_weights = [0.35, 0.35, 0.3]\n",
    "# submission['class_0'] = voting_weights[0]*preds_rf[:, 0] + voting_weights[1]*preds_lr[:, 0] + voting_weights[2]*preds_xgb[:, 0] + voting_weights[3]*preds_nn[:, 0] + voting_weights[4]*preds_svm[:, 0]\n",
    "# submission['class_1'] = voting_weights[0]*preds_rf[:, 1] + voting_weights[1]*preds_lr[:, 1] + voting_weights[2]*preds_xgb[:, 1] + voting_weights[3]*preds_nn[:, 1] + voting_weights[4]*preds_svm[:, 1]\n",
    "# submission['class_0'] = voting_weights[0]*preds_rf[:, 0] + voting_weights[1]*preds_lr[:, 0] + voting_weights[2]*preds_xgb[:, 0] + voting_weights[3]*preds_svm[:, 0]\n",
    "# submission['class_1'] = voting_weights[0]*preds_rf[:, 1] + voting_weights[1]*preds_lr[:, 1] + voting_weights[2]*preds_xgb[:, 1] + voting_weights[3]*preds_svm[:, 1]\n",
    "# submission['class_0'] = voting_weights[0]*preds_rf[:, 0] + voting_weights[1]*preds_xgb[:, 0] + voting_weights[2]*preds_svm[:, 0]\n",
    "# submission['class_1'] = voting_weights[0]*preds_rf[:, 1] + voting_weights[1]*preds_xgb[:, 1] + voting_weights[2]*preds_svm[:, 1]\n",
    "# # submission"
   ]
  },
  {
   "cell_type": "code",
   "execution_count": null,
   "id": "f82bca34",
   "metadata": {
    "execution": {
     "iopub.status.busy": "2023-06-23T13:37:04.545365Z",
     "iopub.status.idle": "2023-06-23T13:37:04.546093Z",
     "shell.execute_reply": "2023-06-23T13:37:04.545801Z",
     "shell.execute_reply.started": "2023-06-23T13:37:04.545768Z"
    },
    "papermill": {
     "duration": 0.044558,
     "end_time": "2023-06-22T17:46:37.012366",
     "exception": false,
     "start_time": "2023-06-22T17:46:36.967808",
     "status": "completed"
    },
    "tags": []
   },
   "outputs": [],
   "source": [
    "submission.to_csv(\"submission.csv\", index=False)"
   ]
  },
  {
   "cell_type": "code",
   "execution_count": null,
   "id": "e728f00f",
   "metadata": {
    "papermill": {
     "duration": 0.028634,
     "end_time": "2023-06-22T17:46:37.072145",
     "exception": false,
     "start_time": "2023-06-22T17:46:37.043511",
     "status": "completed"
    },
    "tags": []
   },
   "outputs": [],
   "source": []
  }
 ],
 "metadata": {
  "kernelspec": {
   "display_name": "Python 3 (ipykernel)",
   "language": "python",
   "name": "python3"
  },
  "language_info": {
   "codemirror_mode": {
    "name": "ipython",
    "version": 3
   },
   "file_extension": ".py",
   "mimetype": "text/x-python",
   "name": "python",
   "nbconvert_exporter": "python",
   "pygments_lexer": "ipython3",
   "version": "3.9.16"
  },
  "papermill": {
   "default_parameters": {},
   "duration": 428.956178,
   "end_time": "2023-06-22T17:46:40.182709",
   "environment_variables": {},
   "exception": null,
   "input_path": "__notebook__.ipynb",
   "output_path": "__notebook__.ipynb",
   "parameters": {},
   "start_time": "2023-06-22T17:39:31.226531",
   "version": "2.4.0"
  },
  "widgets": {
   "application/vnd.jupyter.widget-state+json": {
    "state": {
     "0267bbb360e84a6a9a650ea972b490f6": {
      "model_module": "@jupyter-widgets/controls",
      "model_module_version": "1.5.0",
      "model_name": "HTMLModel",
      "state": {
       "_dom_classes": [],
       "_model_module": "@jupyter-widgets/controls",
       "_model_module_version": "1.5.0",
       "_model_name": "HTMLModel",
       "_view_count": null,
       "_view_module": "@jupyter-widgets/controls",
       "_view_module_version": "1.5.0",
       "_view_name": "HTMLView",
       "description": "",
       "description_tooltip": null,
       "layout": "IPY_MODEL_664a1e5f8cef41f98d9aa56b51a35965",
       "placeholder": "​",
       "style": "IPY_MODEL_1a581f5593f1412d89b3721289e1101e",
       "value": "100%"
      }
     },
     "099f23d50bf646a49f1db24fb0e9754c": {
      "model_module": "@jupyter-widgets/base",
      "model_module_version": "1.2.0",
      "model_name": "LayoutModel",
      "state": {
       "_model_module": "@jupyter-widgets/base",
       "_model_module_version": "1.2.0",
       "_model_name": "LayoutModel",
       "_view_count": null,
       "_view_module": "@jupyter-widgets/base",
       "_view_module_version": "1.2.0",
       "_view_name": "LayoutView",
       "align_content": null,
       "align_items": null,
       "align_self": null,
       "border": null,
       "bottom": null,
       "display": null,
       "flex": null,
       "flex_flow": null,
       "grid_area": null,
       "grid_auto_columns": null,
       "grid_auto_flow": null,
       "grid_auto_rows": null,
       "grid_column": null,
       "grid_gap": null,
       "grid_row": null,
       "grid_template_areas": null,
       "grid_template_columns": null,
       "grid_template_rows": null,
       "height": null,
       "justify_content": null,
       "justify_items": null,
       "left": null,
       "margin": null,
       "max_height": null,
       "max_width": null,
       "min_height": null,
       "min_width": null,
       "object_fit": null,
       "object_position": null,
       "order": null,
       "overflow": null,
       "overflow_x": null,
       "overflow_y": null,
       "padding": null,
       "right": null,
       "top": null,
       "visibility": null,
       "width": null
      }
     },
     "1a581f5593f1412d89b3721289e1101e": {
      "model_module": "@jupyter-widgets/controls",
      "model_module_version": "1.5.0",
      "model_name": "DescriptionStyleModel",
      "state": {
       "_model_module": "@jupyter-widgets/controls",
       "_model_module_version": "1.5.0",
       "_model_name": "DescriptionStyleModel",
       "_view_count": null,
       "_view_module": "@jupyter-widgets/base",
       "_view_module_version": "1.2.0",
       "_view_name": "StyleView",
       "description_width": ""
      }
     },
     "20aa729aa9b94fb4b013891f38db6f56": {
      "model_module": "@jupyter-widgets/controls",
      "model_module_version": "1.5.0",
      "model_name": "ProgressStyleModel",
      "state": {
       "_model_module": "@jupyter-widgets/controls",
       "_model_module_version": "1.5.0",
       "_model_name": "ProgressStyleModel",
       "_view_count": null,
       "_view_module": "@jupyter-widgets/base",
       "_view_module_version": "1.2.0",
       "_view_name": "StyleView",
       "bar_color": null,
       "description_width": ""
      }
     },
     "4848d934306e4662bb6636e227081ce5": {
      "model_module": "@jupyter-widgets/controls",
      "model_module_version": "1.5.0",
      "model_name": "FloatProgressModel",
      "state": {
       "_dom_classes": [],
       "_model_module": "@jupyter-widgets/controls",
       "_model_module_version": "1.5.0",
       "_model_name": "FloatProgressModel",
       "_view_count": null,
       "_view_module": "@jupyter-widgets/controls",
       "_view_module_version": "1.5.0",
       "_view_name": "ProgressView",
       "bar_style": "success",
       "description": "",
       "description_tooltip": null,
       "layout": "IPY_MODEL_ee001a187d9941b894608910e54b0e75",
       "max": 5,
       "min": 0,
       "orientation": "horizontal",
       "style": "IPY_MODEL_f28ced96c6804b9fbc0e6740ef3610ef",
       "value": 5
      }
     },
     "4d8945e9362b426aacf2bf15486a3ee2": {
      "model_module": "@jupyter-widgets/base",
      "model_module_version": "1.2.0",
      "model_name": "LayoutModel",
      "state": {
       "_model_module": "@jupyter-widgets/base",
       "_model_module_version": "1.2.0",
       "_model_name": "LayoutModel",
       "_view_count": null,
       "_view_module": "@jupyter-widgets/base",
       "_view_module_version": "1.2.0",
       "_view_name": "LayoutView",
       "align_content": null,
       "align_items": null,
       "align_self": null,
       "border": null,
       "bottom": null,
       "display": null,
       "flex": null,
       "flex_flow": null,
       "grid_area": null,
       "grid_auto_columns": null,
       "grid_auto_flow": null,
       "grid_auto_rows": null,
       "grid_column": null,
       "grid_gap": null,
       "grid_row": null,
       "grid_template_areas": null,
       "grid_template_columns": null,
       "grid_template_rows": null,
       "height": null,
       "justify_content": null,
       "justify_items": null,
       "left": null,
       "margin": null,
       "max_height": null,
       "max_width": null,
       "min_height": null,
       "min_width": null,
       "object_fit": null,
       "object_position": null,
       "order": null,
       "overflow": null,
       "overflow_x": null,
       "overflow_y": null,
       "padding": null,
       "right": null,
       "top": null,
       "visibility": null,
       "width": null
      }
     },
     "56090cb1deee4f6c9e73efb544619b2c": {
      "model_module": "@jupyter-widgets/controls",
      "model_module_version": "1.5.0",
      "model_name": "DescriptionStyleModel",
      "state": {
       "_model_module": "@jupyter-widgets/controls",
       "_model_module_version": "1.5.0",
       "_model_name": "DescriptionStyleModel",
       "_view_count": null,
       "_view_module": "@jupyter-widgets/base",
       "_view_module_version": "1.2.0",
       "_view_name": "StyleView",
       "description_width": ""
      }
     },
     "5f1669263b114e158ba80e53251e5b5a": {
      "model_module": "@jupyter-widgets/controls",
      "model_module_version": "1.5.0",
      "model_name": "DescriptionStyleModel",
      "state": {
       "_model_module": "@jupyter-widgets/controls",
       "_model_module_version": "1.5.0",
       "_model_name": "DescriptionStyleModel",
       "_view_count": null,
       "_view_module": "@jupyter-widgets/base",
       "_view_module_version": "1.2.0",
       "_view_name": "StyleView",
       "description_width": ""
      }
     },
     "62f990535c834f6d869f6824fb8cbd0b": {
      "model_module": "@jupyter-widgets/base",
      "model_module_version": "1.2.0",
      "model_name": "LayoutModel",
      "state": {
       "_model_module": "@jupyter-widgets/base",
       "_model_module_version": "1.2.0",
       "_model_name": "LayoutModel",
       "_view_count": null,
       "_view_module": "@jupyter-widgets/base",
       "_view_module_version": "1.2.0",
       "_view_name": "LayoutView",
       "align_content": null,
       "align_items": null,
       "align_self": null,
       "border": null,
       "bottom": null,
       "display": null,
       "flex": null,
       "flex_flow": null,
       "grid_area": null,
       "grid_auto_columns": null,
       "grid_auto_flow": null,
       "grid_auto_rows": null,
       "grid_column": null,
       "grid_gap": null,
       "grid_row": null,
       "grid_template_areas": null,
       "grid_template_columns": null,
       "grid_template_rows": null,
       "height": null,
       "justify_content": null,
       "justify_items": null,
       "left": null,
       "margin": null,
       "max_height": null,
       "max_width": null,
       "min_height": null,
       "min_width": null,
       "object_fit": null,
       "object_position": null,
       "order": null,
       "overflow": null,
       "overflow_x": null,
       "overflow_y": null,
       "padding": null,
       "right": null,
       "top": null,
       "visibility": null,
       "width": null
      }
     },
     "664a1e5f8cef41f98d9aa56b51a35965": {
      "model_module": "@jupyter-widgets/base",
      "model_module_version": "1.2.0",
      "model_name": "LayoutModel",
      "state": {
       "_model_module": "@jupyter-widgets/base",
       "_model_module_version": "1.2.0",
       "_model_name": "LayoutModel",
       "_view_count": null,
       "_view_module": "@jupyter-widgets/base",
       "_view_module_version": "1.2.0",
       "_view_name": "LayoutView",
       "align_content": null,
       "align_items": null,
       "align_self": null,
       "border": null,
       "bottom": null,
       "display": null,
       "flex": null,
       "flex_flow": null,
       "grid_area": null,
       "grid_auto_columns": null,
       "grid_auto_flow": null,
       "grid_auto_rows": null,
       "grid_column": null,
       "grid_gap": null,
       "grid_row": null,
       "grid_template_areas": null,
       "grid_template_columns": null,
       "grid_template_rows": null,
       "height": null,
       "justify_content": null,
       "justify_items": null,
       "left": null,
       "margin": null,
       "max_height": null,
       "max_width": null,
       "min_height": null,
       "min_width": null,
       "object_fit": null,
       "object_position": null,
       "order": null,
       "overflow": null,
       "overflow_x": null,
       "overflow_y": null,
       "padding": null,
       "right": null,
       "top": null,
       "visibility": null,
       "width": null
      }
     },
     "6cacee5dba524f3ba68516a09d2da40b": {
      "model_module": "@jupyter-widgets/controls",
      "model_module_version": "1.5.0",
      "model_name": "DescriptionStyleModel",
      "state": {
       "_model_module": "@jupyter-widgets/controls",
       "_model_module_version": "1.5.0",
       "_model_name": "DescriptionStyleModel",
       "_view_count": null,
       "_view_module": "@jupyter-widgets/base",
       "_view_module_version": "1.2.0",
       "_view_name": "StyleView",
       "description_width": ""
      }
     },
     "82efb24ffd87472e940efee6fbd38821": {
      "model_module": "@jupyter-widgets/base",
      "model_module_version": "1.2.0",
      "model_name": "LayoutModel",
      "state": {
       "_model_module": "@jupyter-widgets/base",
       "_model_module_version": "1.2.0",
       "_model_name": "LayoutModel",
       "_view_count": null,
       "_view_module": "@jupyter-widgets/base",
       "_view_module_version": "1.2.0",
       "_view_name": "LayoutView",
       "align_content": null,
       "align_items": null,
       "align_self": null,
       "border": null,
       "bottom": null,
       "display": null,
       "flex": null,
       "flex_flow": null,
       "grid_area": null,
       "grid_auto_columns": null,
       "grid_auto_flow": null,
       "grid_auto_rows": null,
       "grid_column": null,
       "grid_gap": null,
       "grid_row": null,
       "grid_template_areas": null,
       "grid_template_columns": null,
       "grid_template_rows": null,
       "height": null,
       "justify_content": null,
       "justify_items": null,
       "left": null,
       "margin": null,
       "max_height": null,
       "max_width": null,
       "min_height": null,
       "min_width": null,
       "object_fit": null,
       "object_position": null,
       "order": null,
       "overflow": null,
       "overflow_x": null,
       "overflow_y": null,
       "padding": null,
       "right": null,
       "top": null,
       "visibility": null,
       "width": null
      }
     },
     "84a787d964124413a9a11566811add63": {
      "model_module": "@jupyter-widgets/controls",
      "model_module_version": "1.5.0",
      "model_name": "FloatProgressModel",
      "state": {
       "_dom_classes": [],
       "_model_module": "@jupyter-widgets/controls",
       "_model_module_version": "1.5.0",
       "_model_name": "FloatProgressModel",
       "_view_count": null,
       "_view_module": "@jupyter-widgets/controls",
       "_view_module_version": "1.5.0",
       "_view_name": "ProgressView",
       "bar_style": "success",
       "description": "",
       "description_tooltip": null,
       "layout": "IPY_MODEL_099f23d50bf646a49f1db24fb0e9754c",
       "max": 5,
       "min": 0,
       "orientation": "horizontal",
       "style": "IPY_MODEL_20aa729aa9b94fb4b013891f38db6f56",
       "value": 5
      }
     },
     "97fbecb70f5d4eccb50eb298f87b9379": {
      "model_module": "@jupyter-widgets/controls",
      "model_module_version": "1.5.0",
      "model_name": "HTMLModel",
      "state": {
       "_dom_classes": [],
       "_model_module": "@jupyter-widgets/controls",
       "_model_module_version": "1.5.0",
       "_model_name": "HTMLModel",
       "_view_count": null,
       "_view_module": "@jupyter-widgets/controls",
       "_view_module_version": "1.5.0",
       "_view_name": "HTMLView",
       "description": "",
       "description_tooltip": null,
       "layout": "IPY_MODEL_d313174c5665439db7a26a1cc50db552",
       "placeholder": "​",
       "style": "IPY_MODEL_56090cb1deee4f6c9e73efb544619b2c",
       "value": " 5/5 [00:07&lt;00:00,  1.21s/it]"
      }
     },
     "af7f661c31ac4fa2939e1c5679613d81": {
      "model_module": "@jupyter-widgets/controls",
      "model_module_version": "1.5.0",
      "model_name": "HBoxModel",
      "state": {
       "_dom_classes": [],
       "_model_module": "@jupyter-widgets/controls",
       "_model_module_version": "1.5.0",
       "_model_name": "HBoxModel",
       "_view_count": null,
       "_view_module": "@jupyter-widgets/controls",
       "_view_module_version": "1.5.0",
       "_view_name": "HBoxView",
       "box_style": "",
       "children": [
        "IPY_MODEL_f31672de6c7145abbcf48317fe5a7fc4",
        "IPY_MODEL_84a787d964124413a9a11566811add63",
        "IPY_MODEL_97fbecb70f5d4eccb50eb298f87b9379"
       ],
       "layout": "IPY_MODEL_4d8945e9362b426aacf2bf15486a3ee2"
      }
     },
     "d313174c5665439db7a26a1cc50db552": {
      "model_module": "@jupyter-widgets/base",
      "model_module_version": "1.2.0",
      "model_name": "LayoutModel",
      "state": {
       "_model_module": "@jupyter-widgets/base",
       "_model_module_version": "1.2.0",
       "_model_name": "LayoutModel",
       "_view_count": null,
       "_view_module": "@jupyter-widgets/base",
       "_view_module_version": "1.2.0",
       "_view_name": "LayoutView",
       "align_content": null,
       "align_items": null,
       "align_self": null,
       "border": null,
       "bottom": null,
       "display": null,
       "flex": null,
       "flex_flow": null,
       "grid_area": null,
       "grid_auto_columns": null,
       "grid_auto_flow": null,
       "grid_auto_rows": null,
       "grid_column": null,
       "grid_gap": null,
       "grid_row": null,
       "grid_template_areas": null,
       "grid_template_columns": null,
       "grid_template_rows": null,
       "height": null,
       "justify_content": null,
       "justify_items": null,
       "left": null,
       "margin": null,
       "max_height": null,
       "max_width": null,
       "min_height": null,
       "min_width": null,
       "object_fit": null,
       "object_position": null,
       "order": null,
       "overflow": null,
       "overflow_x": null,
       "overflow_y": null,
       "padding": null,
       "right": null,
       "top": null,
       "visibility": null,
       "width": null
      }
     },
     "d592766ca53c4220aa56246f6b31bf23": {
      "model_module": "@jupyter-widgets/base",
      "model_module_version": "1.2.0",
      "model_name": "LayoutModel",
      "state": {
       "_model_module": "@jupyter-widgets/base",
       "_model_module_version": "1.2.0",
       "_model_name": "LayoutModel",
       "_view_count": null,
       "_view_module": "@jupyter-widgets/base",
       "_view_module_version": "1.2.0",
       "_view_name": "LayoutView",
       "align_content": null,
       "align_items": null,
       "align_self": null,
       "border": null,
       "bottom": null,
       "display": null,
       "flex": null,
       "flex_flow": null,
       "grid_area": null,
       "grid_auto_columns": null,
       "grid_auto_flow": null,
       "grid_auto_rows": null,
       "grid_column": null,
       "grid_gap": null,
       "grid_row": null,
       "grid_template_areas": null,
       "grid_template_columns": null,
       "grid_template_rows": null,
       "height": null,
       "justify_content": null,
       "justify_items": null,
       "left": null,
       "margin": null,
       "max_height": null,
       "max_width": null,
       "min_height": null,
       "min_width": null,
       "object_fit": null,
       "object_position": null,
       "order": null,
       "overflow": null,
       "overflow_x": null,
       "overflow_y": null,
       "padding": null,
       "right": null,
       "top": null,
       "visibility": null,
       "width": null
      }
     },
     "e8ecc443ea2a4289bf0f77c3d1f18633": {
      "model_module": "@jupyter-widgets/controls",
      "model_module_version": "1.5.0",
      "model_name": "HTMLModel",
      "state": {
       "_dom_classes": [],
       "_model_module": "@jupyter-widgets/controls",
       "_model_module_version": "1.5.0",
       "_model_name": "HTMLModel",
       "_view_count": null,
       "_view_module": "@jupyter-widgets/controls",
       "_view_module_version": "1.5.0",
       "_view_name": "HTMLView",
       "description": "",
       "description_tooltip": null,
       "layout": "IPY_MODEL_62f990535c834f6d869f6824fb8cbd0b",
       "placeholder": "​",
       "style": "IPY_MODEL_5f1669263b114e158ba80e53251e5b5a",
       "value": " 5/5 [00:10&lt;00:00,  1.92s/it]"
      }
     },
     "e9b81c30502d46b083d98ee9b79fdfe6": {
      "model_module": "@jupyter-widgets/controls",
      "model_module_version": "1.5.0",
      "model_name": "HBoxModel",
      "state": {
       "_dom_classes": [],
       "_model_module": "@jupyter-widgets/controls",
       "_model_module_version": "1.5.0",
       "_model_name": "HBoxModel",
       "_view_count": null,
       "_view_module": "@jupyter-widgets/controls",
       "_view_module_version": "1.5.0",
       "_view_name": "HBoxView",
       "box_style": "",
       "children": [
        "IPY_MODEL_0267bbb360e84a6a9a650ea972b490f6",
        "IPY_MODEL_4848d934306e4662bb6636e227081ce5",
        "IPY_MODEL_e8ecc443ea2a4289bf0f77c3d1f18633"
       ],
       "layout": "IPY_MODEL_d592766ca53c4220aa56246f6b31bf23"
      }
     },
     "ee001a187d9941b894608910e54b0e75": {
      "model_module": "@jupyter-widgets/base",
      "model_module_version": "1.2.0",
      "model_name": "LayoutModel",
      "state": {
       "_model_module": "@jupyter-widgets/base",
       "_model_module_version": "1.2.0",
       "_model_name": "LayoutModel",
       "_view_count": null,
       "_view_module": "@jupyter-widgets/base",
       "_view_module_version": "1.2.0",
       "_view_name": "LayoutView",
       "align_content": null,
       "align_items": null,
       "align_self": null,
       "border": null,
       "bottom": null,
       "display": null,
       "flex": null,
       "flex_flow": null,
       "grid_area": null,
       "grid_auto_columns": null,
       "grid_auto_flow": null,
       "grid_auto_rows": null,
       "grid_column": null,
       "grid_gap": null,
       "grid_row": null,
       "grid_template_areas": null,
       "grid_template_columns": null,
       "grid_template_rows": null,
       "height": null,
       "justify_content": null,
       "justify_items": null,
       "left": null,
       "margin": null,
       "max_height": null,
       "max_width": null,
       "min_height": null,
       "min_width": null,
       "object_fit": null,
       "object_position": null,
       "order": null,
       "overflow": null,
       "overflow_x": null,
       "overflow_y": null,
       "padding": null,
       "right": null,
       "top": null,
       "visibility": null,
       "width": null
      }
     },
     "f28ced96c6804b9fbc0e6740ef3610ef": {
      "model_module": "@jupyter-widgets/controls",
      "model_module_version": "1.5.0",
      "model_name": "ProgressStyleModel",
      "state": {
       "_model_module": "@jupyter-widgets/controls",
       "_model_module_version": "1.5.0",
       "_model_name": "ProgressStyleModel",
       "_view_count": null,
       "_view_module": "@jupyter-widgets/base",
       "_view_module_version": "1.2.0",
       "_view_name": "StyleView",
       "bar_color": null,
       "description_width": ""
      }
     },
     "f31672de6c7145abbcf48317fe5a7fc4": {
      "model_module": "@jupyter-widgets/controls",
      "model_module_version": "1.5.0",
      "model_name": "HTMLModel",
      "state": {
       "_dom_classes": [],
       "_model_module": "@jupyter-widgets/controls",
       "_model_module_version": "1.5.0",
       "_model_name": "HTMLModel",
       "_view_count": null,
       "_view_module": "@jupyter-widgets/controls",
       "_view_module_version": "1.5.0",
       "_view_name": "HTMLView",
       "description": "",
       "description_tooltip": null,
       "layout": "IPY_MODEL_82efb24ffd87472e940efee6fbd38821",
       "placeholder": "​",
       "style": "IPY_MODEL_6cacee5dba524f3ba68516a09d2da40b",
       "value": "100%"
      }
     }
    },
    "version_major": 2,
    "version_minor": 0
   }
  }
 },
 "nbformat": 4,
 "nbformat_minor": 5
}
