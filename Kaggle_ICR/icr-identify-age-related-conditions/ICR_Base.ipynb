{
 "cells": [
  {
   "cell_type": "code",
   "execution_count": 23,
   "id": "05f44cd3",
   "metadata": {
    "scrolled": true
   },
   "outputs": [],
   "source": [
    "# Base\n",
    "\n",
    "import pandas as pd\n",
    "import numpy as np\n",
    "import matplotlib.pyplot as plt\n",
    "import seaborn as sns\n",
    "\n",
    "import os\n",
    "import re\n",
    "import sys\n",
    "\n",
    "# Preprocessing\n",
    "\n",
    "from impyute.imputation.cs import fast_knn\n",
    "\n",
    "from sklearn.metrics import accuracy_score, classification_report, mean_squared_error as mse\n",
    "from sklearn.preprocessing import LabelEncoder, StandardScaler\n",
    "import torch\n",
    "import torch.nn.functional as F\n",
    "from tqdm import tqdm\n",
    "import warnings\n",
    "warnings.filterwarnings('ignore')\n",
    "import random as rd\n",
    "from sklearn.model_selection import train_test_split\n",
    "from sklearn.model_selection import GridSearchCV as GSCV\n",
    "from torch.optim import Adam\n",
    "from torch.utils.data import Dataset, DataLoader\n",
    "\n",
    "import tensorflow as tf\n",
    "\n",
    "from lightgbm import LGBMClassifier as lgb\n",
    "from sklearn.model_selection import StratifiedKFold\n",
    "import xgboost.sklearn as xgb\n",
    "\n",
    "import optuna"
   ]
  },
  {
   "cell_type": "code",
   "execution_count": 7,
   "id": "dc4e0069",
   "metadata": {},
   "outputs": [],
   "source": [
    "class config:\n",
    "    seed = 42\n",
    "    device = \"cuda:0\"    \n",
    "        \n",
    "    lr = 1e-3\n",
    "    epochs = 25\n",
    "    batch_size = 32\n",
    "    num_workers = 4\n",
    "    train_5_folds = True"
   ]
  },
  {
   "cell_type": "code",
   "execution_count": 9,
   "id": "49879efe",
   "metadata": {},
   "outputs": [],
   "source": [
    "def seed_everything(seed: int = 42):\n",
    "    rd.seed(seed)\n",
    "    np.random.seed(seed)\n",
    "    os.environ[\"PYTHONHASHSEED\"] = str(seed)\n",
    "    torch.manual_seed(seed)\n",
    "    torch.cuda.manual_seed(seed)\n",
    "    torch.backends.cudnn.deterministic=True\n",
    "    torch.backends.cudnn.benchmark=True\n",
    "    \n",
    "seed_everything(config.seed)"
   ]
  },
  {
   "cell_type": "code",
   "execution_count": 10,
   "id": "45c79dbb",
   "metadata": {},
   "outputs": [],
   "source": [
    "def balance_logloss(y_true, y_pred):\n",
    "    y_pred = np.clip(y_pred, 1e-15, 1-1e-15)\n",
    "    y_pred /= np.sum(y_pred, axis=1)[:, None]\n",
    "    nc = np.bincount(y_true)\n",
    "    \n",
    "    logloss = (-1/nc[0]*(np.sum(np.where(y_true==0,1,0) * np.log(y_pred[:,0]))) - 1/nc[1]*(np.sum(np.where(y_true!=0,1,0) * np.log(y_pred[:,1])))) / 2\n",
    "    \n",
    "    return logloss\n",
    "\n",
    "# def balance_loglossv2(y_true, y_pred):\n",
    "#     from sklearn.metrics import log_loss\n",
    "    \n",
    "#     target_mean = y_true.mean()\n",
    "#     w0 = 1/(1-target_mean)\n",
    "#     w1 = 1/target_mean\n",
    "#     sample_weight = [w0 if y == 0 else w1 for y in y_true]\n",
    "#     loss = log_loss(y_true, y_pred, sample_weight=sample_weight)\n",
    "    \n",
    "#     return loss\n",
    "\n",
    "def b_logloss_keras(y_true, y_pred):\n",
    "    #(2, ) -> (1, ) inverse_one_hot encoding\n",
    "    #y_true = y_true[:, 0] * (1 - y_true[:, 1]) + y_true[:, 1] * (1 - y_true[:, 0])\n",
    "    y_true = y_true[:, 1] * (1 - y_true[:, 0])\n",
    "    y_true = tf.cast(y_true, tf.int64)\n",
    "    score = tf.py_function(func=balance_logloss, inp=[y_true, y_pred], Tout=tf.float32)\n",
    "    return score"
   ]
  },
  {
   "cell_type": "code",
   "execution_count": 11,
   "id": "cc187dfe",
   "metadata": {},
   "outputs": [],
   "source": [
    "train = pd.read_csv('./train.csv')\n",
    "test = pd.read_csv('./test.csv')\n",
    "greeks = pd.read_csv('./greeks.csv')\n",
    "submission = pd.read_csv('./sample_submission.csv')"
   ]
  },
  {
   "cell_type": "code",
   "execution_count": 47,
   "id": "a4e84b79",
   "metadata": {},
   "outputs": [
    {
     "name": "stdout",
     "output_type": "stream",
     "text": [
      "<class 'pandas.core.frame.DataFrame'>\n",
      "RangeIndex: 617 entries, 0 to 616\n",
      "Data columns (total 58 columns):\n",
      " #   Column  Non-Null Count  Dtype  \n",
      "---  ------  --------------  -----  \n",
      " 0   Id      617 non-null    object \n",
      " 1   AB      617 non-null    float64\n",
      " 2   AF      617 non-null    float64\n",
      " 3   AH      617 non-null    float64\n",
      " 4   AM      617 non-null    float64\n",
      " 5   AR      617 non-null    float64\n",
      " 6   AX      617 non-null    float64\n",
      " 7   AY      617 non-null    float64\n",
      " 8   AZ      617 non-null    float64\n",
      " 9   BC      617 non-null    float64\n",
      " 10  BD      617 non-null    float64\n",
      " 11  BN      617 non-null    float64\n",
      " 12  BP      617 non-null    float64\n",
      " 13  BQ      557 non-null    float64\n",
      " 14  BR      617 non-null    float64\n",
      " 15  BZ      617 non-null    float64\n",
      " 16  CB      615 non-null    float64\n",
      " 17  CC      614 non-null    float64\n",
      " 18  CD      617 non-null    float64\n",
      " 19  CF      617 non-null    float64\n",
      " 20  CH      617 non-null    float64\n",
      " 21  CL      617 non-null    float64\n",
      " 22  CR      617 non-null    float64\n",
      " 23  CS      617 non-null    float64\n",
      " 24  CU      617 non-null    float64\n",
      " 25  CW      617 non-null    float64\n",
      " 26  DA      617 non-null    float64\n",
      " 27  DE      617 non-null    float64\n",
      " 28  DF      617 non-null    float64\n",
      " 29  DH      617 non-null    float64\n",
      " 30  DI      617 non-null    float64\n",
      " 31  DL      617 non-null    float64\n",
      " 32  DN      617 non-null    float64\n",
      " 33  DU      616 non-null    float64\n",
      " 34  DV      617 non-null    float64\n",
      " 35  DY      617 non-null    float64\n",
      " 36  EB      617 non-null    float64\n",
      " 37  EE      617 non-null    float64\n",
      " 38  EG      617 non-null    float64\n",
      " 39  EH      617 non-null    float64\n",
      " 40  EJ      617 non-null    object \n",
      " 41  EL      557 non-null    float64\n",
      " 42  EP      617 non-null    float64\n",
      " 43  EU      617 non-null    float64\n",
      " 44  FC      616 non-null    float64\n",
      " 45  FD      617 non-null    float64\n",
      " 46  FE      617 non-null    float64\n",
      " 47  FI      617 non-null    float64\n",
      " 48  FL      616 non-null    float64\n",
      " 49  FR      617 non-null    float64\n",
      " 50  FS      615 non-null    float64\n",
      " 51  GB      617 non-null    float64\n",
      " 52  GE      617 non-null    float64\n",
      " 53  GF      617 non-null    float64\n",
      " 54  GH      617 non-null    float64\n",
      " 55  GI      617 non-null    float64\n",
      " 56  GL      616 non-null    float64\n",
      " 57  Class   617 non-null    int64  \n",
      "dtypes: float64(55), int64(1), object(2)\n",
      "memory usage: 279.7+ KB\n",
      "/n__________________________________/n\n",
      "<class 'pandas.core.frame.DataFrame'>\n",
      "Int64Index: 30 entries, 1 to 35\n",
      "Data columns (total 58 columns):\n",
      " #   Column  Non-Null Count  Dtype  \n",
      "---  ------  --------------  -----  \n",
      " 0   Id      30 non-null     object \n",
      " 1   AB      30 non-null     float64\n",
      " 2   AF      30 non-null     float64\n",
      " 3   AH      30 non-null     float64\n",
      " 4   AM      30 non-null     float64\n",
      " 5   AR      30 non-null     float64\n",
      " 6   AX      30 non-null     float64\n",
      " 7   AY      30 non-null     float64\n",
      " 8   AZ      30 non-null     float64\n",
      " 9   BC      30 non-null     float64\n",
      " 10  BD      30 non-null     float64\n",
      " 11  BN      30 non-null     float64\n",
      " 12  BP      30 non-null     float64\n",
      " 13  BQ      26 non-null     float64\n",
      " 14  BR      30 non-null     float64\n",
      " 15  BZ      30 non-null     float64\n",
      " 16  CB      29 non-null     float64\n",
      " 17  CC      29 non-null     float64\n",
      " 18  CD      30 non-null     float64\n",
      " 19  CF      30 non-null     float64\n",
      " 20  CH      30 non-null     float64\n",
      " 21  CL      30 non-null     float64\n",
      " 22  CR      30 non-null     float64\n",
      " 23  CS      30 non-null     float64\n",
      " 24  CU      30 non-null     float64\n",
      " 25  CW      30 non-null     float64\n",
      " 26  DA      30 non-null     float64\n",
      " 27  DE      30 non-null     float64\n",
      " 28  DF      30 non-null     float64\n",
      " 29  DH      30 non-null     float64\n",
      " 30  DI      30 non-null     float64\n",
      " 31  DL      30 non-null     float64\n",
      " 32  DN      30 non-null     float64\n",
      " 33  DU      30 non-null     float64\n",
      " 34  DV      30 non-null     float64\n",
      " 35  DY      30 non-null     float64\n",
      " 36  EB      30 non-null     float64\n",
      " 37  EE      30 non-null     float64\n",
      " 38  EG      30 non-null     float64\n",
      " 39  EH      30 non-null     float64\n",
      " 40  EJ      30 non-null     object \n",
      " 41  EL      26 non-null     float64\n",
      " 42  EP      30 non-null     float64\n",
      " 43  EU      30 non-null     float64\n",
      " 44  FC      30 non-null     float64\n",
      " 45  FD      30 non-null     float64\n",
      " 46  FE      30 non-null     float64\n",
      " 47  FI      30 non-null     float64\n",
      " 48  FL      30 non-null     float64\n",
      " 49  FR      30 non-null     float64\n",
      " 50  FS      30 non-null     float64\n",
      " 51  GB      30 non-null     float64\n",
      " 52  GE      30 non-null     float64\n",
      " 53  GF      30 non-null     float64\n",
      " 54  GH      30 non-null     float64\n",
      " 55  GI      30 non-null     float64\n",
      " 56  GL      30 non-null     float64\n",
      " 57  Class   30 non-null     int64  \n",
      "dtypes: float64(55), int64(1), object(2)\n",
      "memory usage: 13.8+ KB\n",
      "/n__________________________________/n\n",
      "<class 'pandas.core.frame.DataFrame'>\n",
      "RangeIndex: 617 entries, 0 to 616\n",
      "Data columns (total 6 columns):\n",
      " #   Column   Non-Null Count  Dtype \n",
      "---  ------   --------------  ----- \n",
      " 0   Id       617 non-null    object\n",
      " 1   Alpha    617 non-null    object\n",
      " 2   Beta     617 non-null    object\n",
      " 3   Gamma    617 non-null    object\n",
      " 4   Delta    617 non-null    object\n",
      " 5   Epsilon  617 non-null    object\n",
      "dtypes: object(6)\n",
      "memory usage: 29.0+ KB\n"
     ]
    }
   ],
   "source": [
    "train.info()\n",
    "print('/n__________________________________/n')\n",
    "test.info()\n",
    "print('/n__________________________________/n')\n",
    "greeks.info()"
   ]
  },
  {
   "cell_type": "code",
   "execution_count": 45,
   "id": "03021c46",
   "metadata": {},
   "outputs": [
    {
     "data": {
      "text/plain": [
       "0    509\n",
       "1    108\n",
       "Name: Class, dtype: int64"
      ]
     },
     "execution_count": 45,
     "metadata": {},
     "output_type": "execute_result"
    }
   ],
   "source": [
    "# train으로 test셋 만들기\n",
    "train.Class.value_counts() # 0 : 509, 1 : 108"
   ]
  },
  {
   "cell_type": "code",
   "execution_count": 46,
   "id": "18360df6",
   "metadata": {},
   "outputs": [],
   "source": [
    "# 60개(class : 0, class : 1) 테스트 셋 만들기\n",
    "## 30개 class : 0\n",
    "mask = train.Class == 0\n",
    "test =  train[mask][:30]\n",
    "dropIndex1 = train[mask][:30].index"
   ]
  },
  {
   "cell_type": "code",
   "execution_count": 49,
   "id": "c4b95e82",
   "metadata": {},
   "outputs": [
    {
     "name": "stdout",
     "output_type": "stream",
     "text": [
      "(90, 58)\n",
      "(90, 57)\n"
     ]
    }
   ],
   "source": [
    "## 30개 class : 1\n",
    "mask = train.Class == 1\n",
    "test = test.append(train[mask][:30]) \n",
    "dropIndex2 = train[mask][:30].index\n",
    "test.Class.value_counts() # 0 : 30, 1 : 30\n",
    "print(test.shape)\n",
    "test = test.drop(columns = ['Class'], axis = 1)\n",
    "print(test.shape)"
   ]
  },
  {
   "cell_type": "code",
   "execution_count": 50,
   "id": "a18b44f2",
   "metadata": {},
   "outputs": [
    {
     "name": "stdout",
     "output_type": "stream",
     "text": [
      "(617, 58)\n",
      "(557, 58)\n"
     ]
    }
   ],
   "source": [
    "# drop\n",
    "print(train.shape)\n",
    "train = train.drop(index=dropIndex1)\n",
    "train = train.drop(index=dropIndex2)\n",
    "print(train.shape)"
   ]
  },
  {
   "cell_type": "code",
   "execution_count": 53,
   "id": "b7b21235",
   "metadata": {},
   "outputs": [],
   "source": [
    "test.to_csv('./test(make).csv',index = False)\n",
    "train.to_csv('./train(make).csv',index = False)"
   ]
  },
  {
   "cell_type": "code",
   "execution_count": 54,
   "id": "9ee48117",
   "metadata": {},
   "outputs": [],
   "source": [
    "train_make = pd.read_csv('./train(make).csv')"
   ]
  },
  {
   "cell_type": "code",
   "execution_count": null,
   "id": "1bff9f44",
   "metadata": {},
   "outputs": [],
   "source": []
  },
  {
   "cell_type": "code",
   "execution_count": 13,
   "id": "67a21c1f",
   "metadata": {},
   "outputs": [],
   "source": [
    "train_modifying = train.drop(columns=['Id'])"
   ]
  },
  {
   "cell_type": "code",
   "execution_count": 16,
   "id": "467881b9",
   "metadata": {},
   "outputs": [
    {
     "data": {
      "text/plain": [
       "0      1\n",
       "1      0\n",
       "2      1\n",
       "3      1\n",
       "4      1\n",
       "      ..\n",
       "612    0\n",
       "613    1\n",
       "614    0\n",
       "615    1\n",
       "616    0\n",
       "Name: EJ, Length: 617, dtype: int64"
      ]
     },
     "execution_count": 16,
     "metadata": {},
     "output_type": "execute_result"
    }
   ],
   "source": [
    "label_encoder = LabelEncoder()\n",
    "train_modifying['EJ'] = label_encoder.fit_transform(train_modifying['EJ'])\n",
    "train_modifying['EJ']"
   ]
  },
  {
   "cell_type": "code",
   "execution_count": 34,
   "id": "9169cd92",
   "metadata": {},
   "outputs": [
    {
     "data": {
      "text/plain": [
       "AB        0\n",
       "AF        0\n",
       "AH        0\n",
       "AM        0\n",
       "AR        0\n",
       "AX        0\n",
       "AY        0\n",
       "AZ        0\n",
       "BC        0\n",
       "BD        0\n",
       "BN        0\n",
       "BP        0\n",
       "BQ       60\n",
       "BR        0\n",
       "BZ        0\n",
       "CB        2\n",
       "CC        3\n",
       "CD        0\n",
       "CF        0\n",
       "CH        0\n",
       "CL        0\n",
       "CR        0\n",
       "CS        0\n",
       "CU        0\n",
       "CW        0\n",
       "DA        0\n",
       "DE        0\n",
       "DF        0\n",
       "DH        0\n",
       "DI        0\n",
       "DL        0\n",
       "DN        0\n",
       "DU        1\n",
       "DV        0\n",
       "DY        0\n",
       "EB        0\n",
       "EE        0\n",
       "EG        0\n",
       "EH        0\n",
       "EJ        0\n",
       "EL       60\n",
       "EP        0\n",
       "EU        0\n",
       "FC        1\n",
       "FD        0\n",
       "FE        0\n",
       "FI        0\n",
       "FL        1\n",
       "FR        0\n",
       "FS        2\n",
       "GB        0\n",
       "GE        0\n",
       "GF        0\n",
       "GH        0\n",
       "GI        0\n",
       "GL        1\n",
       "Class     0\n",
       "dtype: int64"
      ]
     },
     "execution_count": 34,
     "metadata": {},
     "output_type": "execute_result"
    }
   ],
   "source": [
    "missing_data = train_modifying.isnull().sum()\n",
    "missing_data"
   ]
  },
  {
   "cell_type": "code",
   "execution_count": 35,
   "id": "63a9e6a9",
   "metadata": {},
   "outputs": [],
   "source": [
    "correlation_threshold = 0.7"
   ]
  },
  {
   "cell_type": "code",
   "execution_count": 44,
   "id": "fdd78f99",
   "metadata": {},
   "outputs": [],
   "source": [
    "correlated_cols = {}\n",
    "for column in train_modifying.columns:\n",
    "    if train_modifying[column].isnull().sum() > 0:\n",
    "        correlated_cols[column] = train_modifying.corr().abs()[column].sort_values(ascending=False)\n",
    "        correlated_cols[column] = correlated_cols[column][correlated_cols[column].index != column]\n",
    "        correlated_cols[column] = correlated_cols[column][correlated_cols[column] > correlation_threshold]\n",
    "        \n",
    "for column, correlated_columns in correlated_cols.items():\n",
    "    for correlated_column, correlated_value in correlated_columns.items():\n",
    "        missing_indices = train_modifying[train_modifying[column].isnull()].index\n",
    "        for index in missing_indices:\n",
    "            if not pd.isnull(train_modifying[correlated_column][index]):\n",
    "                train_modifying[column][index] = train_modifying[correlated_column][index]\n",
    "\n",
    "                train_modifying.loc[index, column] = non_null_cols.mode().iloc[0]\n",
    "\n",
    "train_modifying.to_csv('./train_modifying.csv', index=False)\n",
    "                \n",
    "        \n",
    "        "
   ]
  },
  {
   "cell_type": "code",
   "execution_count": null,
   "id": "26f1c75a",
   "metadata": {},
   "outputs": [],
   "source": []
  }
 ],
 "metadata": {
  "kernelspec": {
   "display_name": "Python 3 (ipykernel)",
   "language": "python",
   "name": "python3"
  },
  "language_info": {
   "codemirror_mode": {
    "name": "ipython",
    "version": 3
   },
   "file_extension": ".py",
   "mimetype": "text/x-python",
   "name": "python",
   "nbconvert_exporter": "python",
   "pygments_lexer": "ipython3",
   "version": "3.10.9"
  }
 },
 "nbformat": 4,
 "nbformat_minor": 5
}
