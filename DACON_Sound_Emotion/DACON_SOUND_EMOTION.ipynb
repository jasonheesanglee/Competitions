{
 "cells": [
  {
   "cell_type": "code",
   "execution_count": null,
   "id": "28421751",
   "metadata": {},
   "outputs": [],
   "source": [
    "!pip install librosa"
   ]
  },
  {
   "cell_type": "code",
   "execution_count": 41,
   "id": "c2a82cb3",
   "metadata": {},
   "outputs": [],
   "source": [
    "import os\n",
    "import sys\n",
    "import numpy as np\n",
    "import pandas as pd\n",
    "import matplotlib.pyplot as plt\n",
    "import glob\n",
    "import shutil\n",
    "import librosa\n",
    "import random\n",
    "from tqdm import tqdm\n",
    "import torch\n",
    "import torch.nn as nn\n",
    "import torch.nn.functional as F\n",
    "from sklearn.tree import DecisionTreeClassifier\n",
    "\n",
    "import warnings\n",
    "warnings.filterwarnings(action='ignore')"
   ]
  },
  {
   "cell_type": "code",
   "execution_count": 2,
   "id": "659f25e5",
   "metadata": {},
   "outputs": [],
   "source": [
    "CFG = {\n",
    "    'SR':16000,\n",
    "    'N_MFCC':32, # Melspectrogram 벡터를 추출할 개수\n",
    "    'SEED':42\n",
    "}"
   ]
  },
  {
   "cell_type": "code",
   "execution_count": 29,
   "id": "0eca65b8",
   "metadata": {},
   "outputs": [],
   "source": [
    "train_df = pd.read_csv('./open//train.csv')\n",
    "test_df = pd.read_csv('./open/test.csv')"
   ]
  },
  {
   "cell_type": "code",
   "execution_count": 30,
   "id": "e106f493",
   "metadata": {},
   "outputs": [],
   "source": [
    "# Folder Locations\n",
    "\n",
    "dataset = \"./open/\"\n",
    "TRAIN_WAV = dataset + \"train/\"\n",
    "TEST_WAV = dataset + \"test/\"\n",
    "PREPROCESSED = dataset + \"preprocessed_data/\"\n",
    "TRAIN_LABEL_SEP = PREPROCESSED + \"train_label_sep/\"\n",
    "WAV_TRAIN_LABEL_SEP = PREPROCESSED + \"wav_train_label_sep/\"\n",
    "\n",
    "\n",
    "if not os.path.exists(dataset + \"preprocessed_data\"):\n",
    "    os.mkdir(dataset + \"preprocessed_data\")\n",
    "    \n",
    "if not os.path.exists(PREPROCESSED + \"train_label_sep\"):\n",
    "    os.mkdir(PREPROCESSED + \"train_label_sep\")\n",
    "    \n",
    "if not os.path.exists(PREPROCESSED + \"wav_train_label_sep\"):\n",
    "    os.mkdir(PREPROCESSED + \"wav_train_label_sep\")"
   ]
  },
  {
   "cell_type": "code",
   "execution_count": 31,
   "id": "a61266a7",
   "metadata": {},
   "outputs": [],
   "source": [
    "wav_file_dict = {\"train_wav\" : TRAIN_WAV,\n",
    "                \"test_wav\" : TEST_WAV,\n",
    "                 \"wav_sep\" : WAV_TRAIN_LABEL_SEP\n",
    "                 }\n",
    "\n",
    "wav_file_locations = {}\n",
    "for key, value in wav_file_dict.items():\n",
    "    wav_file_locations[key] = glob.glob(value + \"*.wav\")\n",
    "    \n",
    "csv_file_dict = {\"train_label_sep\" : TRAIN_LABEL_SEP,\n",
    "                 \"wav_train_label_sep\" : WAV_TRAIN_LABEL_SEP\n",
    "                }\n",
    "\n",
    "csv_file_location = {}\n",
    "for key, value in csv_file_dict.items():\n",
    "    csv_file_location[key] = glob.glob(value + \"*.csv\")"
   ]
  },
  {
   "cell_type": "code",
   "execution_count": 32,
   "id": "f0ad5496",
   "metadata": {},
   "outputs": [],
   "source": [
    "# Local definitions - 1\n",
    "\n",
    "def clean_name(column_name):\n",
    "    '''\n",
    "    column name 중 변경할 사항이 있다면 아래 코드를 변경해주세요, \n",
    "    ~ 로 스플릿한 구절 중 0번째 len이 7인 경우; 예시: \"(220123\"\n",
    "    ) 이후의 course name을 return합니다.\n",
    "    \n",
    "    아래와 같이 사용해 주시면 편합니다.\n",
    "    df[\"course_name\"] = df[\"course_name\"].apply(clean_course_name)\n",
    "\n",
    "    '''\n",
    "    if column_name.startswith(\".\"):\n",
    "        # Classify the date range to cleanse.\n",
    "        temp = column_name.replace(\".\",\"\")\n",
    "        temp = temp.replace(\"wav\", \".wav\")\n",
    "        column_name = \"./open\" + temp\n",
    "        return column_name\n",
    "    else:\n",
    "        return column_name"
   ]
  },
  {
   "cell_type": "code",
   "execution_count": 33,
   "id": "494a716f",
   "metadata": {},
   "outputs": [],
   "source": [
    "# Transformer\n",
    "\n",
    "class TransformerModel(nn.Module):\n",
    "    def __init__(self, input_dim, output_dim, num_heads, num_layers, hidden_dim, dropout):\n",
    "        super(TransformerModel, self).__init__()\n",
    "        \n",
    "        self.embedding = nn.Linear(input_dim, hidden_dim)\n",
    "        self.pos_encoding = PositionalEncoding(hidden_dim)\n",
    "        \n",
    "        self.transformer_encoder = nn.TransformerEncoder(\n",
    "            nn.TransformerEncoderLayer(hidden_dim, num_heads, dim_feedforward=hidden_dim, dropout=dropout),\n",
    "            num_layers\n",
    "        )\n",
    "        \n",
    "        self.fc = nn.Linear(hidden_dim, output_dim)\n",
    "        \n",
    "    def forward(self, x):\n",
    "        x = self.embedding(x)\n",
    "        x = self.pos_encoding(x)\n",
    "        \n",
    "        x = x.permute(1, 0, 2)  # Reshape for transformer input\n",
    "        x = self.transformer_encoder(x)\n",
    "        \n",
    "        x = x.permute(1, 0, 2)  # Reshape back to (batch_size, seq_len, hidden_dim)\n",
    "        x = torch.mean(x, dim=1)  # Average pooling over sequence length\n",
    "        \n",
    "        x = self.fc(x)\n",
    "        return F.softmax(x, dim=1)\n",
    "\n",
    "# positional encoding\n",
    "\n",
    "class PositionalEncoding(nn.Module):\n",
    "    def __init__(self, hidden_dim, max_len=5000):\n",
    "        super(PositionalEncoding, self).__init__()\n",
    "\n",
    "        pe = torch.zeros(max_len, hidden_dim)\n",
    "        position = torch.arange(0, max_len, dtype=torch.float).unsqueeze(1)\n",
    "        div_term = torch.exp(torch.arange(0, hidden_dim, 2).float() * (-math.log(10000.0) / hidden_dim))\n",
    "        pe[:, 0::2] = torch.sin(position * div_term)\n",
    "        pe[:, 1::2] = torch.cos(position * div_term)\n",
    "        pe = pe.unsqueeze(0).transpose(0, 1)\n",
    "        \n",
    "        self.register_buffer('pe', pe)\n",
    "        \n",
    "    def forward(self, x):\n",
    "        x = x + self.pe[:x.size(0), :]\n",
    "        return x"
   ]
  },
  {
   "cell_type": "code",
   "execution_count": 34,
   "id": "8c3ebf5e",
   "metadata": {},
   "outputs": [],
   "source": [
    "def seed_everything(seed):\n",
    "    random.seed(seed)\n",
    "    os.environ['PYTHONHASHSEED'] = str(seed)\n",
    "    np.random.seed(seed)\n",
    "\n",
    "seed_everything(CFG['SEED'])"
   ]
  },
  {
   "cell_type": "code",
   "execution_count": 35,
   "id": "56596564",
   "metadata": {},
   "outputs": [],
   "source": [
    "def get_mfcc_feature(df):\n",
    "    features = []\n",
    "    for path in tqdm(df['path']):\n",
    "        # librosa패키지를 사용하여 wav 파일 load\n",
    "        y, sr = librosa.load(path, sr=CFG['SR'])\n",
    "        # librosa패키지를 사용하여 mfcc 추출\n",
    "        mfcc = librosa.feature.mfcc(y=y, sr=sr, n_mfcc=CFG['N_MFCC'])\n",
    "        y_feature = []\n",
    "        # 추출된 MFCC들의 평균을 Feature로 사용\n",
    "        for e in mfcc:\n",
    "            y_feature.append(np.mean(e))\n",
    "        features.append(y_feature)\n",
    "\n",
    "    mfcc_df = pd.DataFrame(features, columns=['mfcc_'+str(x) for x in range(1,CFG['N_MFCC']+1)])\n",
    "    return mfcc_df\n"
   ]
  },
  {
   "cell_type": "code",
   "execution_count": 36,
   "id": "8a7d659d",
   "metadata": {
    "scrolled": false
   },
   "outputs": [
    {
     "data": {
      "text/html": [
       "<div>\n",
       "<style scoped>\n",
       "    .dataframe tbody tr th:only-of-type {\n",
       "        vertical-align: middle;\n",
       "    }\n",
       "\n",
       "    .dataframe tbody tr th {\n",
       "        vertical-align: top;\n",
       "    }\n",
       "\n",
       "    .dataframe thead th {\n",
       "        text-align: right;\n",
       "    }\n",
       "</style>\n",
       "<table border=\"1\" class=\"dataframe\">\n",
       "  <thead>\n",
       "    <tr style=\"text-align: right;\">\n",
       "      <th></th>\n",
       "      <th>id</th>\n",
       "      <th>path</th>\n",
       "      <th>label</th>\n",
       "    </tr>\n",
       "  </thead>\n",
       "  <tbody>\n",
       "    <tr>\n",
       "      <th>0</th>\n",
       "      <td>TRAIN_0000</td>\n",
       "      <td>./train/TRAIN_0000.wav</td>\n",
       "      <td>1</td>\n",
       "    </tr>\n",
       "    <tr>\n",
       "      <th>1</th>\n",
       "      <td>TRAIN_0001</td>\n",
       "      <td>./train/TRAIN_0001.wav</td>\n",
       "      <td>2</td>\n",
       "    </tr>\n",
       "    <tr>\n",
       "      <th>2</th>\n",
       "      <td>TRAIN_0002</td>\n",
       "      <td>./train/TRAIN_0002.wav</td>\n",
       "      <td>4</td>\n",
       "    </tr>\n",
       "    <tr>\n",
       "      <th>3</th>\n",
       "      <td>TRAIN_0003</td>\n",
       "      <td>./train/TRAIN_0003.wav</td>\n",
       "      <td>5</td>\n",
       "    </tr>\n",
       "    <tr>\n",
       "      <th>4</th>\n",
       "      <td>TRAIN_0004</td>\n",
       "      <td>./train/TRAIN_0004.wav</td>\n",
       "      <td>4</td>\n",
       "    </tr>\n",
       "    <tr>\n",
       "      <th>...</th>\n",
       "      <td>...</td>\n",
       "      <td>...</td>\n",
       "      <td>...</td>\n",
       "    </tr>\n",
       "    <tr>\n",
       "      <th>4996</th>\n",
       "      <td>TRAIN_4996</td>\n",
       "      <td>./train/TRAIN_4996.wav</td>\n",
       "      <td>5</td>\n",
       "    </tr>\n",
       "    <tr>\n",
       "      <th>4997</th>\n",
       "      <td>TRAIN_4997</td>\n",
       "      <td>./train/TRAIN_4997.wav</td>\n",
       "      <td>0</td>\n",
       "    </tr>\n",
       "    <tr>\n",
       "      <th>4998</th>\n",
       "      <td>TRAIN_4998</td>\n",
       "      <td>./train/TRAIN_4998.wav</td>\n",
       "      <td>1</td>\n",
       "    </tr>\n",
       "    <tr>\n",
       "      <th>4999</th>\n",
       "      <td>TRAIN_4999</td>\n",
       "      <td>./train/TRAIN_4999.wav</td>\n",
       "      <td>1</td>\n",
       "    </tr>\n",
       "    <tr>\n",
       "      <th>5000</th>\n",
       "      <td>TRAIN_5000</td>\n",
       "      <td>./train/TRAIN_5000.wav</td>\n",
       "      <td>4</td>\n",
       "    </tr>\n",
       "  </tbody>\n",
       "</table>\n",
       "<p>5001 rows × 3 columns</p>\n",
       "</div>"
      ],
      "text/plain": [
       "              id                    path  label\n",
       "0     TRAIN_0000  ./train/TRAIN_0000.wav      1\n",
       "1     TRAIN_0001  ./train/TRAIN_0001.wav      2\n",
       "2     TRAIN_0002  ./train/TRAIN_0002.wav      4\n",
       "3     TRAIN_0003  ./train/TRAIN_0003.wav      5\n",
       "4     TRAIN_0004  ./train/TRAIN_0004.wav      4\n",
       "...          ...                     ...    ...\n",
       "4996  TRAIN_4996  ./train/TRAIN_4996.wav      5\n",
       "4997  TRAIN_4997  ./train/TRAIN_4997.wav      0\n",
       "4998  TRAIN_4998  ./train/TRAIN_4998.wav      1\n",
       "4999  TRAIN_4999  ./train/TRAIN_4999.wav      1\n",
       "5000  TRAIN_5000  ./train/TRAIN_5000.wav      4\n",
       "\n",
       "[5001 rows x 3 columns]"
      ]
     },
     "execution_count": 36,
     "metadata": {},
     "output_type": "execute_result"
    }
   ],
   "source": [
    "train_df"
   ]
  },
  {
   "cell_type": "code",
   "execution_count": 37,
   "id": "da175c19",
   "metadata": {},
   "outputs": [
    {
     "data": {
      "text/plain": [
       "(              id                         path  label\n",
       " 0     TRAIN_0000  ./open/train/TRAIN_0000.wav      1\n",
       " 1     TRAIN_0001  ./open/train/TRAIN_0001.wav      2\n",
       " 2     TRAIN_0002  ./open/train/TRAIN_0002.wav      4\n",
       " 3     TRAIN_0003  ./open/train/TRAIN_0003.wav      5\n",
       " 4     TRAIN_0004  ./open/train/TRAIN_0004.wav      4\n",
       " ...          ...                          ...    ...\n",
       " 4996  TRAIN_4996  ./open/train/TRAIN_4996.wav      5\n",
       " 4997  TRAIN_4997  ./open/train/TRAIN_4997.wav      0\n",
       " 4998  TRAIN_4998  ./open/train/TRAIN_4998.wav      1\n",
       " 4999  TRAIN_4999  ./open/train/TRAIN_4999.wav      1\n",
       " 5000  TRAIN_5000  ./open/train/TRAIN_5000.wav      4\n",
       " \n",
       " [5001 rows x 3 columns],\n",
       "              id                       path\n",
       " 0     TEST_0000  ./open/test/TEST_0000.wav\n",
       " 1     TEST_0001  ./open/test/TEST_0001.wav\n",
       " 2     TEST_0002  ./open/test/TEST_0002.wav\n",
       " 3     TEST_0003  ./open/test/TEST_0003.wav\n",
       " 4     TEST_0004  ./open/test/TEST_0004.wav\n",
       " ...         ...                        ...\n",
       " 1876  TEST_1876  ./open/test/TEST_1876.wav\n",
       " 1877  TEST_1877  ./open/test/TEST_1877.wav\n",
       " 1878  TEST_1878  ./open/test/TEST_1878.wav\n",
       " 1879  TEST_1879  ./open/test/TEST_1879.wav\n",
       " 1880  TEST_1880  ./open/test/TEST_1880.wav\n",
       " \n",
       " [1881 rows x 2 columns])"
      ]
     },
     "execution_count": 37,
     "metadata": {},
     "output_type": "execute_result"
    }
   ],
   "source": [
    "train_df['path'] = train_df['path'].apply(clean_name)\n",
    "test_df['path'] = test_df['path'].apply(clean_name)\n",
    "train_df, test_df"
   ]
  },
  {
   "cell_type": "code",
   "execution_count": 38,
   "id": "f93e2cd2",
   "metadata": {},
   "outputs": [],
   "source": [
    "for label in train_df['label'].unique():\n",
    "    filtered_csv = train_df[train_df['label'] == label]\n",
    "    filename = f\"label_{label}.csv\"\n",
    "    filtered_csv.to_csv(TRAIN_LABEL_SEP + filename, index=False)"
   ]
  },
  {
   "cell_type": "markdown",
   "id": "f527887f",
   "metadata": {},
   "source": [
    "for file in csv_file_location[\"train_label_sep\"]:\n",
    "    csv_file = pd.read_csv(file)\n",
    "    csv_file['path'] = csv_file['path'].apply(clean_name)\n",
    "    filename = os.path.basename(file)\n",
    "    csv_file.to_csv(TRAIN_LABEL_SEP + filename, index=False)\n",
    "    "
   ]
  },
  {
   "cell_type": "code",
   "execution_count": null,
   "id": "671f4b52",
   "metadata": {},
   "outputs": [],
   "source": [
    "parent_folder = TRAIN_WAV\n",
    "\n",
    "for label in tqdm(train_df['label'].unique(), desc='Processing folders'):\n",
    "    features_df = pd.DataFrame()\n",
    "    filtered_csv_filename = f\"label_{label}.csv\"\n",
    "    filtered_csv = pd.read_csv(os.path.join(TRAIN_LABEL_SEP, filtered_csv_filename))\n",
    "    \n",
    "    target_folder = os.path.join(WAV_TRAIN_LABEL_SEP, f\"label_{label}\")\n",
    "    \n",
    "    for path in filtered_csv['path']:\n",
    "        wav_filename = os.path.basename(path)\n",
    "        target_path = os.path.join(parent_folder, wav_filename)\n",
    "        audio, sr = librosa.load(target_path)\n",
    "        mfcc = librosa.feature.mfcc(y=audio, sr=sr)\n",
    "        mfcc_flattened = mfcc.flatten()\n",
    "        row = pd.DataFrame([list(mfcc_flattened) + [label]])\n",
    "        index_name = wav_filename.split(\".\")[0]\n",
    "        row.index = [index_name]\n",
    "        features_df = pd.concat([features_df, row])\n",
    "    \n",
    "    \n",
    "\n",
    "    features_df.sort_index(inplace=True)\n",
    "    filename = WAV_TRAIN_LABEL_SEP + f\"label_{label}.csv\"\n",
    "    features_df.to_csv(filename)"
   ]
  },
  {
   "cell_type": "code",
   "execution_count": 39,
   "id": "8265e449",
   "metadata": {},
   "outputs": [],
   "source": [
    "def get_mfcc_feature(df):\n",
    "    features = []\n",
    "    for path in tqdm(df['path']):\n",
    "        # librosa패키지를 사용하여 wav 파일 load\n",
    "        y, sr = librosa.load(path, sr=CFG['SR'])\n",
    "        # librosa패키지를 사용하여 mfcc 추출\n",
    "        mfcc = librosa.feature.mfcc(y=y, sr=sr, n_mfcc=CFG['N_MFCC'])\n",
    "        y_feature = []\n",
    "        # 추출된 MFCC들의 평균을 Feature로 사용\n",
    "        for e in mfcc:\n",
    "            y_feature.append(np.mean(e))\n",
    "        features.append(y_feature)\n",
    "\n",
    "    mfcc_df = pd.DataFrame(features, columns=['mfcc_'+str(x) for x in range(1,CFG['N_MFCC']+1)])\n",
    "    return mfcc_df"
   ]
  },
  {
   "cell_type": "code",
   "execution_count": 40,
   "id": "2276bcbd",
   "metadata": {
    "scrolled": true
   },
   "outputs": [
    {
     "name": "stderr",
     "output_type": "stream",
     "text": [
      "100%|██████████████████████████████████████| 5001/5001 [00:40<00:00, 123.23it/s]\n",
      "100%|██████████████████████████████████████| 1881/1881 [00:15<00:00, 118.93it/s]\n"
     ]
    }
   ],
   "source": [
    "train_x = get_mfcc_feature(train_df)\n",
    "test_x = get_mfcc_feature(test_df)"
   ]
  },
  {
   "cell_type": "markdown",
   "id": "9bbedaef",
   "metadata": {},
   "source": [
    "for file in csv_file_location[\"wav_train_label_sep\"]:\n",
    "    df = pd.read_csv(file)\n",
    "    df.info()\n",
    "    print(\"*\"*10)"
   ]
  },
  {
   "cell_type": "markdown",
   "id": "f93c43c6",
   "metadata": {},
   "source": [
    "for file in csv_file_location[\"wav_train_label_sep\"]:\n",
    "    df = pd.read_csv(file)\n",
    "    print(df.describe())\n",
    "    print(\"*\"*10)"
   ]
  },
  {
   "cell_type": "code",
   "execution_count": 42,
   "id": "ab25f065",
   "metadata": {},
   "outputs": [],
   "source": [
    "train_y = train_df['label']"
   ]
  },
  {
   "cell_type": "code",
   "execution_count": 45,
   "id": "533248d7",
   "metadata": {},
   "outputs": [
    {
     "data": {
      "text/html": [
       "<style>#sk-container-id-1 {color: black;background-color: white;}#sk-container-id-1 pre{padding: 0;}#sk-container-id-1 div.sk-toggleable {background-color: white;}#sk-container-id-1 label.sk-toggleable__label {cursor: pointer;display: block;width: 100%;margin-bottom: 0;padding: 0.3em;box-sizing: border-box;text-align: center;}#sk-container-id-1 label.sk-toggleable__label-arrow:before {content: \"▸\";float: left;margin-right: 0.25em;color: #696969;}#sk-container-id-1 label.sk-toggleable__label-arrow:hover:before {color: black;}#sk-container-id-1 div.sk-estimator:hover label.sk-toggleable__label-arrow:before {color: black;}#sk-container-id-1 div.sk-toggleable__content {max-height: 0;max-width: 0;overflow: hidden;text-align: left;background-color: #f0f8ff;}#sk-container-id-1 div.sk-toggleable__content pre {margin: 0.2em;color: black;border-radius: 0.25em;background-color: #f0f8ff;}#sk-container-id-1 input.sk-toggleable__control:checked~div.sk-toggleable__content {max-height: 200px;max-width: 100%;overflow: auto;}#sk-container-id-1 input.sk-toggleable__control:checked~label.sk-toggleable__label-arrow:before {content: \"▾\";}#sk-container-id-1 div.sk-estimator input.sk-toggleable__control:checked~label.sk-toggleable__label {background-color: #d4ebff;}#sk-container-id-1 div.sk-label input.sk-toggleable__control:checked~label.sk-toggleable__label {background-color: #d4ebff;}#sk-container-id-1 input.sk-hidden--visually {border: 0;clip: rect(1px 1px 1px 1px);clip: rect(1px, 1px, 1px, 1px);height: 1px;margin: -1px;overflow: hidden;padding: 0;position: absolute;width: 1px;}#sk-container-id-1 div.sk-estimator {font-family: monospace;background-color: #f0f8ff;border: 1px dotted black;border-radius: 0.25em;box-sizing: border-box;margin-bottom: 0.5em;}#sk-container-id-1 div.sk-estimator:hover {background-color: #d4ebff;}#sk-container-id-1 div.sk-parallel-item::after {content: \"\";width: 100%;border-bottom: 1px solid gray;flex-grow: 1;}#sk-container-id-1 div.sk-label:hover label.sk-toggleable__label {background-color: #d4ebff;}#sk-container-id-1 div.sk-serial::before {content: \"\";position: absolute;border-left: 1px solid gray;box-sizing: border-box;top: 0;bottom: 0;left: 50%;z-index: 0;}#sk-container-id-1 div.sk-serial {display: flex;flex-direction: column;align-items: center;background-color: white;padding-right: 0.2em;padding-left: 0.2em;position: relative;}#sk-container-id-1 div.sk-item {position: relative;z-index: 1;}#sk-container-id-1 div.sk-parallel {display: flex;align-items: stretch;justify-content: center;background-color: white;position: relative;}#sk-container-id-1 div.sk-item::before, #sk-container-id-1 div.sk-parallel-item::before {content: \"\";position: absolute;border-left: 1px solid gray;box-sizing: border-box;top: 0;bottom: 0;left: 50%;z-index: -1;}#sk-container-id-1 div.sk-parallel-item {display: flex;flex-direction: column;z-index: 1;position: relative;background-color: white;}#sk-container-id-1 div.sk-parallel-item:first-child::after {align-self: flex-end;width: 50%;}#sk-container-id-1 div.sk-parallel-item:last-child::after {align-self: flex-start;width: 50%;}#sk-container-id-1 div.sk-parallel-item:only-child::after {width: 0;}#sk-container-id-1 div.sk-dashed-wrapped {border: 1px dashed gray;margin: 0 0.4em 0.5em 0.4em;box-sizing: border-box;padding-bottom: 0.4em;background-color: white;}#sk-container-id-1 div.sk-label label {font-family: monospace;font-weight: bold;display: inline-block;line-height: 1.2em;}#sk-container-id-1 div.sk-label-container {text-align: center;}#sk-container-id-1 div.sk-container {/* jupyter's `normalize.less` sets `[hidden] { display: none; }` but bootstrap.min.css set `[hidden] { display: none !important; }` so we also need the `!important` here to be able to override the default hidden behavior on the sphinx rendered scikit-learn.org. See: https://github.com/scikit-learn/scikit-learn/issues/21755 */display: inline-block !important;position: relative;}#sk-container-id-1 div.sk-text-repr-fallback {display: none;}</style><div id=\"sk-container-id-1\" class=\"sk-top-container\"><div class=\"sk-text-repr-fallback\"><pre>DecisionTreeClassifier(random_state=42)</pre><b>In a Jupyter environment, please rerun this cell to show the HTML representation or trust the notebook. <br />On GitHub, the HTML representation is unable to render, please try loading this page with nbviewer.org.</b></div><div class=\"sk-container\" hidden><div class=\"sk-item\"><div class=\"sk-estimator sk-toggleable\"><input class=\"sk-toggleable__control sk-hidden--visually\" id=\"sk-estimator-id-1\" type=\"checkbox\" checked><label for=\"sk-estimator-id-1\" class=\"sk-toggleable__label sk-toggleable__label-arrow\">DecisionTreeClassifier</label><div class=\"sk-toggleable__content\"><pre>DecisionTreeClassifier(random_state=42)</pre></div></div></div></div></div>"
      ],
      "text/plain": [
       "DecisionTreeClassifier(random_state=42)"
      ]
     },
     "execution_count": 45,
     "metadata": {},
     "output_type": "execute_result"
    }
   ],
   "source": [
    "model = DecisionTreeClassifier(random_state=CFG['SEED'])\n",
    "model.fit(train_x, train_y)"
   ]
  },
  {
   "cell_type": "code",
   "execution_count": 46,
   "id": "cd37b50d",
   "metadata": {},
   "outputs": [],
   "source": [
    "preds = model.predict(test_x)"
   ]
  },
  {
   "cell_type": "code",
   "execution_count": 48,
   "id": "5d859af3",
   "metadata": {},
   "outputs": [],
   "source": [
    "submission = pd.read_csv(dataset + 'sample_submission.csv')\n",
    "submission['label'] = preds\n",
    "submission.to_csv(dataset + \"baseline_submission.csv\", index=False)"
   ]
  },
  {
   "cell_type": "code",
   "execution_count": null,
   "id": "f6d6b03b",
   "metadata": {},
   "outputs": [],
   "source": []
  }
 ],
 "metadata": {
  "kernelspec": {
   "display_name": "Python 3 (ipykernel)",
   "language": "python",
   "name": "python3"
  },
  "language_info": {
   "codemirror_mode": {
    "name": "ipython",
    "version": 3
   },
   "file_extension": ".py",
   "mimetype": "text/x-python",
   "name": "python",
   "nbconvert_exporter": "python",
   "pygments_lexer": "ipython3",
   "version": "3.10.9"
  }
 },
 "nbformat": 4,
 "nbformat_minor": 5
}
