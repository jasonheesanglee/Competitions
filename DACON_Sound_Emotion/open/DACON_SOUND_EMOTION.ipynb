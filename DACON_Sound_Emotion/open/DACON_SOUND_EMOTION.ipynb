{
 "cells": [
  {
   "cell_type": "code",
   "execution_count": 25,
   "id": "28421751",
   "metadata": {
    "scrolled": true
   },
   "outputs": [
    {
     "name": "stdout",
     "output_type": "stream",
     "text": [
      "Requirement already satisfied: librosa in /opt/homebrew/Caskroom/miniconda/base/lib/python3.10/site-packages (0.10.0.post2)\n",
      "Requirement already satisfied: decorator>=4.3.0 in /opt/homebrew/Caskroom/miniconda/base/lib/python3.10/site-packages (from librosa) (5.1.1)\n",
      "Requirement already satisfied: scipy>=1.2.0 in /opt/homebrew/Caskroom/miniconda/base/lib/python3.10/site-packages (from librosa) (1.10.1)\n",
      "Requirement already satisfied: typing-extensions>=4.1.1 in /opt/homebrew/Caskroom/miniconda/base/lib/python3.10/site-packages (from librosa) (4.5.0)\n",
      "Requirement already satisfied: soundfile>=0.12.1 in /opt/homebrew/Caskroom/miniconda/base/lib/python3.10/site-packages (from librosa) (0.12.1)\n",
      "Requirement already satisfied: soxr>=0.3.2 in /opt/homebrew/Caskroom/miniconda/base/lib/python3.10/site-packages (from librosa) (0.3.5)\n",
      "Requirement already satisfied: numpy!=1.22.0,!=1.22.1,!=1.22.2,>=1.20.3 in /opt/homebrew/Caskroom/miniconda/base/lib/python3.10/site-packages (from librosa) (1.23.5)\n",
      "Requirement already satisfied: pooch<1.7,>=1.0 in /opt/homebrew/Caskroom/miniconda/base/lib/python3.10/site-packages (from librosa) (1.4.0)\n",
      "Requirement already satisfied: numba>=0.51.0 in /opt/homebrew/Caskroom/miniconda/base/lib/python3.10/site-packages (from librosa) (0.57.0)\n",
      "Requirement already satisfied: joblib>=0.14 in /opt/homebrew/Caskroom/miniconda/base/lib/python3.10/site-packages (from librosa) (1.2.0)\n",
      "Requirement already satisfied: lazy-loader>=0.1 in /opt/homebrew/Caskroom/miniconda/base/lib/python3.10/site-packages (from librosa) (0.2)\n",
      "Requirement already satisfied: msgpack>=1.0 in /opt/homebrew/Caskroom/miniconda/base/lib/python3.10/site-packages (from librosa) (1.0.5)\n",
      "Requirement already satisfied: audioread>=2.1.9 in /opt/homebrew/Caskroom/miniconda/base/lib/python3.10/site-packages (from librosa) (3.0.0)\n",
      "Requirement already satisfied: scikit-learn>=0.20.0 in /opt/homebrew/Caskroom/miniconda/base/lib/python3.10/site-packages (from librosa) (1.2.2)\n",
      "Requirement already satisfied: llvmlite<0.41,>=0.40.0dev0 in /opt/homebrew/Caskroom/miniconda/base/lib/python3.10/site-packages (from numba>=0.51.0->librosa) (0.40.0)\n",
      "Requirement already satisfied: packaging in /opt/homebrew/Caskroom/miniconda/base/lib/python3.10/site-packages (from pooch<1.7,>=1.0->librosa) (23.0)\n",
      "Requirement already satisfied: requests in /opt/homebrew/Caskroom/miniconda/base/lib/python3.10/site-packages (from pooch<1.7,>=1.0->librosa) (2.29.0)\n",
      "Requirement already satisfied: appdirs in /opt/homebrew/Caskroom/miniconda/base/lib/python3.10/site-packages (from pooch<1.7,>=1.0->librosa) (1.4.4)\n",
      "Requirement already satisfied: threadpoolctl>=2.0.0 in /opt/homebrew/Caskroom/miniconda/base/lib/python3.10/site-packages (from scikit-learn>=0.20.0->librosa) (3.1.0)\n",
      "Requirement already satisfied: cffi>=1.0 in /opt/homebrew/Caskroom/miniconda/base/lib/python3.10/site-packages (from soundfile>=0.12.1->librosa) (1.15.1)\n",
      "Requirement already satisfied: pycparser in /opt/homebrew/Caskroom/miniconda/base/lib/python3.10/site-packages (from cffi>=1.0->soundfile>=0.12.1->librosa) (2.21)\n",
      "Requirement already satisfied: urllib3<1.27,>=1.21.1 in /opt/homebrew/Caskroom/miniconda/base/lib/python3.10/site-packages (from requests->pooch<1.7,>=1.0->librosa) (1.26.15)\n",
      "Requirement already satisfied: certifi>=2017.4.17 in /opt/homebrew/Caskroom/miniconda/base/lib/python3.10/site-packages (from requests->pooch<1.7,>=1.0->librosa) (2022.12.7)\n",
      "Requirement already satisfied: charset-normalizer<4,>=2 in /opt/homebrew/Caskroom/miniconda/base/lib/python3.10/site-packages (from requests->pooch<1.7,>=1.0->librosa) (2.0.4)\n",
      "Requirement already satisfied: idna<4,>=2.5 in /opt/homebrew/Caskroom/miniconda/base/lib/python3.10/site-packages (from requests->pooch<1.7,>=1.0->librosa) (3.4)\n",
      "Requirement already satisfied: transformers==4.28.0 in /opt/homebrew/Caskroom/miniconda/base/lib/python3.10/site-packages (4.28.0)\n",
      "Requirement already satisfied: datasets in /opt/homebrew/Caskroom/miniconda/base/lib/python3.10/site-packages (2.12.0)\n",
      "Requirement already satisfied: evaluate in /opt/homebrew/Caskroom/miniconda/base/lib/python3.10/site-packages (0.4.0)\n",
      "Requirement already satisfied: requests in /opt/homebrew/Caskroom/miniconda/base/lib/python3.10/site-packages (from transformers==4.28.0) (2.29.0)\n",
      "Requirement already satisfied: pyyaml>=5.1 in /opt/homebrew/Caskroom/miniconda/base/lib/python3.10/site-packages (from transformers==4.28.0) (6.0)\n",
      "Requirement already satisfied: huggingface-hub<1.0,>=0.11.0 in /opt/homebrew/Caskroom/miniconda/base/lib/python3.10/site-packages (from transformers==4.28.0) (0.15.1)\n",
      "Requirement already satisfied: filelock in /opt/homebrew/Caskroom/miniconda/base/lib/python3.10/site-packages (from transformers==4.28.0) (3.12.0)\n",
      "Requirement already satisfied: packaging>=20.0 in /opt/homebrew/Caskroom/miniconda/base/lib/python3.10/site-packages (from transformers==4.28.0) (23.0)\n",
      "Requirement already satisfied: tokenizers!=0.11.3,<0.14,>=0.11.1 in /opt/homebrew/Caskroom/miniconda/base/lib/python3.10/site-packages (from transformers==4.28.0) (0.13.3)\n",
      "Requirement already satisfied: tqdm>=4.27 in /opt/homebrew/Caskroom/miniconda/base/lib/python3.10/site-packages (from transformers==4.28.0) (4.65.0)\n",
      "Requirement already satisfied: regex!=2019.12.17 in /opt/homebrew/Caskroom/miniconda/base/lib/python3.10/site-packages (from transformers==4.28.0) (2023.3.23)\n",
      "Requirement already satisfied: numpy>=1.17 in /opt/homebrew/Caskroom/miniconda/base/lib/python3.10/site-packages (from transformers==4.28.0) (1.23.5)\n",
      "Requirement already satisfied: fsspec[http]>=2021.11.1 in /opt/homebrew/Caskroom/miniconda/base/lib/python3.10/site-packages (from datasets) (2023.5.0)\n",
      "Requirement already satisfied: xxhash in /opt/homebrew/Caskroom/miniconda/base/lib/python3.10/site-packages (from datasets) (3.2.0)\n",
      "Requirement already satisfied: aiohttp in /opt/homebrew/Caskroom/miniconda/base/lib/python3.10/site-packages (from datasets) (3.8.4)\n",
      "Requirement already satisfied: multiprocess in /opt/homebrew/Caskroom/miniconda/base/lib/python3.10/site-packages (from datasets) (0.70.14)\n",
      "Requirement already satisfied: responses<0.19 in /opt/homebrew/Caskroom/miniconda/base/lib/python3.10/site-packages (from datasets) (0.18.0)\n",
      "Requirement already satisfied: pyarrow>=8.0.0 in /opt/homebrew/Caskroom/miniconda/base/lib/python3.10/site-packages (from datasets) (12.0.0)\n",
      "Requirement already satisfied: pandas in /opt/homebrew/Caskroom/miniconda/base/lib/python3.10/site-packages (from datasets) (1.5.3)\n",
      "Requirement already satisfied: dill<0.3.7,>=0.3.0 in /opt/homebrew/Caskroom/miniconda/base/lib/python3.10/site-packages (from datasets) (0.3.6)\n",
      "Requirement already satisfied: frozenlist>=1.1.1 in /opt/homebrew/Caskroom/miniconda/base/lib/python3.10/site-packages (from aiohttp->datasets) (1.3.3)\n",
      "Requirement already satisfied: async-timeout<5.0,>=4.0.0a3 in /opt/homebrew/Caskroom/miniconda/base/lib/python3.10/site-packages (from aiohttp->datasets) (4.0.2)\n",
      "Requirement already satisfied: attrs>=17.3.0 in /opt/homebrew/Caskroom/miniconda/base/lib/python3.10/site-packages (from aiohttp->datasets) (22.1.0)\n",
      "Requirement already satisfied: aiosignal>=1.1.2 in /opt/homebrew/Caskroom/miniconda/base/lib/python3.10/site-packages (from aiohttp->datasets) (1.3.1)\n",
      "Requirement already satisfied: yarl<2.0,>=1.0 in /opt/homebrew/Caskroom/miniconda/base/lib/python3.10/site-packages (from aiohttp->datasets) (1.9.2)\n",
      "Requirement already satisfied: charset-normalizer<4.0,>=2.0 in /opt/homebrew/Caskroom/miniconda/base/lib/python3.10/site-packages (from aiohttp->datasets) (2.0.4)\n",
      "Requirement already satisfied: multidict<7.0,>=4.5 in /opt/homebrew/Caskroom/miniconda/base/lib/python3.10/site-packages (from aiohttp->datasets) (6.0.4)\n",
      "Requirement already satisfied: typing-extensions>=3.7.4.3 in /opt/homebrew/Caskroom/miniconda/base/lib/python3.10/site-packages (from huggingface-hub<1.0,>=0.11.0->transformers==4.28.0) (4.5.0)\n",
      "Requirement already satisfied: urllib3<1.27,>=1.21.1 in /opt/homebrew/Caskroom/miniconda/base/lib/python3.10/site-packages (from requests->transformers==4.28.0) (1.26.15)\n",
      "Requirement already satisfied: certifi>=2017.4.17 in /opt/homebrew/Caskroom/miniconda/base/lib/python3.10/site-packages (from requests->transformers==4.28.0) (2022.12.7)\n",
      "Requirement already satisfied: idna<4,>=2.5 in /opt/homebrew/Caskroom/miniconda/base/lib/python3.10/site-packages (from requests->transformers==4.28.0) (3.4)\n"
     ]
    },
    {
     "name": "stdout",
     "output_type": "stream",
     "text": [
      "Requirement already satisfied: python-dateutil>=2.8.1 in /opt/homebrew/Caskroom/miniconda/base/lib/python3.10/site-packages (from pandas->datasets) (2.8.2)\n",
      "Requirement already satisfied: pytz>=2020.1 in /opt/homebrew/Caskroom/miniconda/base/lib/python3.10/site-packages (from pandas->datasets) (2022.7)\n",
      "Requirement already satisfied: six>=1.5 in /opt/homebrew/Caskroom/miniconda/base/lib/python3.10/site-packages (from python-dateutil>=2.8.1->pandas->datasets) (1.16.0)\n",
      "Requirement already satisfied: xgboost in /opt/homebrew/Caskroom/miniconda/base/lib/python3.10/site-packages (1.7.5)\n",
      "Requirement already satisfied: numpy in /opt/homebrew/Caskroom/miniconda/base/lib/python3.10/site-packages (from xgboost) (1.23.5)\n",
      "Requirement already satisfied: scipy in /opt/homebrew/Caskroom/miniconda/base/lib/python3.10/site-packages (from xgboost) (1.10.1)\n",
      "Requirement already satisfied: cmake in /opt/homebrew/Caskroom/miniconda/base/lib/python3.10/site-packages (3.26.3)\n",
      "Running `brew update --auto-update`...\n",
      "\u001b[34m==>\u001b[0m \u001b[1mAuto-updated Homebrew!\u001b[0m\n",
      "Updated 2 taps (homebrew/core and homebrew/cask).\n",
      "\u001b[34m==>\u001b[0m \u001b[1mNew Formulae\u001b[0m\n",
      "ansible@7                                melange\n",
      "apko                                     mods\n",
      "aws-amplify                              nexttrace\n",
      "bashate                                  openfga\n",
      "boolector                                procps@3\n",
      "clive                                    roblox-ts\n",
      "fastgron                                 rojo\n",
      "git-credential-oauth                     rye\n",
      "joshuto                                  shodan\n",
      "libabigail                               spotify_player\n",
      "libecpint                                swift-outdated\n",
      "libfastjson                              tailwindcss-language-server\n",
      "libint                                   tern\n",
      "libmediainfo                             votca\n",
      "libomemo-c                               wzprof\n",
      "libpaho-mqtt                             yamlfmt\n",
      "libzen\n",
      "\u001b[34m==>\u001b[0m \u001b[1mNew Casks\u001b[0m\n",
      "chatbox             engine-dj           firefly-shimmer     processmonitor\n",
      "copilot             eu                  lasso               skiff\n",
      "craft               eusamanager         loupedeck           tea\n",
      "dintch              filemonitor         motu-m-series       yealink-meeting\n",
      "\n",
      "You have \u001b[1m14\u001b[0m outdated formulae installed.\n",
      "\n",
      "\u001b[32m==>\u001b[0m \u001b[1mFetching dependencies for lightgbm: \u001b[32mlibomp\u001b[39m\u001b[0m\n",
      "\u001b[32m==>\u001b[0m \u001b[1mFetching \u001b[32mlibomp\u001b[39m\u001b[0m\n",
      "\u001b[34m==>\u001b[0m \u001b[1mDownloading https://ghcr.io/v2/homebrew/core/libomp/manifests/16.0.5\u001b[0m\n",
      "######################################################################### 100.0%\n",
      "\u001b[34m==>\u001b[0m \u001b[1mDownloading https://ghcr.io/v2/homebrew/core/libomp/blobs/sha256:6c62909e437\u001b[0m\n",
      "\u001b[34m==>\u001b[0m \u001b[1mDownloading from https://pkg-containers.githubusercontent.com/ghcr1/blobs/sh\u001b[0m\n",
      "######################################################################### 100.0%\n",
      "\u001b[32m==>\u001b[0m \u001b[1mFetching \u001b[32mlightgbm\u001b[39m\u001b[0m\n",
      "\u001b[34m==>\u001b[0m \u001b[1mDownloading https://ghcr.io/v2/homebrew/core/lightgbm/manifests/3.3.5\u001b[0m\n",
      "######################################################################### 100.0%\n",
      "\u001b[34m==>\u001b[0m \u001b[1mDownloading https://ghcr.io/v2/homebrew/core/lightgbm/blobs/sha256:7d94dc108\u001b[0m\n",
      "\u001b[34m==>\u001b[0m \u001b[1mDownloading from https://pkg-containers.githubusercontent.com/ghcr1/blobs/sh\u001b[0m\n",
      "######################################################################### 100.0%\n",
      "\u001b[32m==>\u001b[0m \u001b[1mInstalling dependencies for lightgbm: \u001b[32mlibomp\u001b[39m\u001b[0m\n",
      "\u001b[32m==>\u001b[0m \u001b[1mInstalling lightgbm dependency: \u001b[32mlibomp\u001b[39m\u001b[0m\n",
      "\u001b[34m==>\u001b[0m \u001b[1mPouring libomp--16.0.5.arm64_ventura.bottle.tar.gz\u001b[0m\n",
      "🍺  /opt/homebrew/Cellar/libomp/16.0.5: 7 files, 1.7MB\n",
      "\u001b[32m==>\u001b[0m \u001b[1mInstalling \u001b[32mlightgbm\u001b[39m\u001b[0m\n",
      "\u001b[34m==>\u001b[0m \u001b[1mPouring lightgbm--3.3.5.arm64_ventura.bottle.tar.gz\u001b[0m\n",
      "🍺  /opt/homebrew/Cellar/lightgbm/3.3.5: 98 files, 17.6MB\n",
      "\u001b[34m==>\u001b[0m \u001b[1mRunning `brew cleanup lightgbm`...\u001b[0m\n",
      "Disable this behaviour by setting HOMEBREW_NO_INSTALL_CLEANUP.\n",
      "Hide these hints with HOMEBREW_NO_ENV_HINTS (see `man brew`).\n",
      "\u001b[32m==>\u001b[0m \u001b[1m`brew cleanup` has not been run in the last 30 days, running now...\u001b[0m\n",
      "Disable this behaviour by setting HOMEBREW_NO_INSTALL_CLEANUP.\n",
      "Hide these hints with HOMEBREW_NO_ENV_HINTS (see `man brew`).\n",
      "Removing: /Users/b05/Library/Caches/Homebrew/ca-certificates--2023-01-10... (122.6KB)\n",
      "Removing: /Users/b05/Library/Caches/Homebrew/cmake--3.26.3... (15MB)\n",
      "Removing: /Users/b05/Library/Caches/Homebrew/libnghttp2--1.52.0... (211.3KB)\n",
      "Removing: /Users/b05/Library/Caches/Homebrew/mysql--8.0.32... (79.0MB)\n",
      "Removing: /Users/b05/Library/Caches/Homebrew/nettle--3.8.1... (932KB)\n",
      "Removing: /Users/b05/Library/Caches/Homebrew/openssl@1.1--1.1.1t... (5.3MB)\n",
      "Removing: /Users/b05/Library/Caches/Homebrew/openssl@3--3.1.0... (7.6MB)\n",
      "Removing: /Users/b05/Library/Caches/Homebrew/wget--1.21.3_1... (1.4MB)\n",
      "Removing: /Users/b05/Library/Caches/Homebrew/xz--5.4.2... (650.4KB)\n",
      "Removing: /Users/b05/Library/Logs/Homebrew/git-lfs... (64B)\n"
     ]
    }
   ],
   "source": [
    "!pip install librosa\n",
    "!pip install transformers==4.28.0 datasets evaluate\n",
    "!pip install xgboost\n",
    "!pip install cmake"
   ]
  },
  {
   "cell_type": "code",
   "execution_count": 27,
   "id": "c2a82cb3",
   "metadata": {},
   "outputs": [
    {
     "ename": "ModuleNotFoundError",
     "evalue": "No module named 'lightgbm'",
     "output_type": "error",
     "traceback": [
      "\u001b[0;31m---------------------------------------------------------------------------\u001b[0m",
      "\u001b[0;31mModuleNotFoundError\u001b[0m                       Traceback (most recent call last)",
      "Cell \u001b[0;32mIn[27], line 17\u001b[0m\n\u001b[1;32m     15\u001b[0m \u001b[38;5;28;01mfrom\u001b[39;00m \u001b[38;5;21;01msklearn\u001b[39;00m\u001b[38;5;21;01m.\u001b[39;00m\u001b[38;5;21;01mmetrics\u001b[39;00m \u001b[38;5;28;01mimport\u001b[39;00m accuracy_score\n\u001b[1;32m     16\u001b[0m \u001b[38;5;28;01mfrom\u001b[39;00m \u001b[38;5;21;01mxgboost\u001b[39;00m\u001b[38;5;21;01m.\u001b[39;00m\u001b[38;5;21;01msklearn\u001b[39;00m \u001b[38;5;28;01mimport\u001b[39;00m XGBClassifier\n\u001b[0;32m---> 17\u001b[0m \u001b[38;5;28;01mfrom\u001b[39;00m \u001b[38;5;21;01mlightgbm\u001b[39;00m \u001b[38;5;28;01mimport\u001b[39;00m LGBMClassifier\n",
      "\u001b[0;31mModuleNotFoundError\u001b[0m: No module named 'lightgbm'"
     ]
    }
   ],
   "source": [
    "import os\n",
    "import sys\n",
    "import numpy as np\n",
    "import pandas as pd\n",
    "import matplotlib.pyplot as plt\n",
    "import glob\n",
    "from tqdm.auto import tqdm\n",
    "from sklearn.model_selection import train_test_split\n",
    "import evaluate\n",
    "import librosa\n",
    "import random\n",
    "from sklearn.tree import DecisionTreeClassifier\n",
    "from sklearn.ensemble import RandomForestClassifier\n",
    "from datasets import load_dataset, Audio\n",
    "from sklearn.metrics import accuracy_score\n",
    "from xgboost.sklearn import XGBClassifier\n",
    "from lightgbm import LGBMClassifier"
   ]
  },
  {
   "cell_type": "code",
   "execution_count": 2,
   "id": "d78f6e1c",
   "metadata": {},
   "outputs": [],
   "source": [
    "CFG = {\n",
    "    'SR':16000,\n",
    "    'N_MFCC':32, # Melspectrogram 벡터를 추출할 개수\n",
    "    'SEED':42\n",
    "}"
   ]
  },
  {
   "cell_type": "code",
   "execution_count": 3,
   "id": "0eca65b8",
   "metadata": {},
   "outputs": [
    {
     "name": "stdout",
     "output_type": "stream",
     "text": [
      "<class 'pandas.core.frame.DataFrame'>\n",
      "RangeIndex: 5001 entries, 0 to 5000\n",
      "Data columns (total 3 columns):\n",
      " #   Column  Non-Null Count  Dtype \n",
      "---  ------  --------------  ----- \n",
      " 0   id      5001 non-null   object\n",
      " 1   path    5001 non-null   object\n",
      " 2   label   5001 non-null   int64 \n",
      "dtypes: int64(1), object(2)\n",
      "memory usage: 117.3+ KB\n",
      "None\n",
      "\n",
      "<class 'pandas.core.frame.DataFrame'>\n",
      "RangeIndex: 1881 entries, 0 to 1880\n",
      "Data columns (total 2 columns):\n",
      " #   Column  Non-Null Count  Dtype \n",
      "---  ------  --------------  ----- \n",
      " 0   id      1881 non-null   object\n",
      " 1   path    1881 non-null   object\n",
      "dtypes: object(2)\n",
      "memory usage: 29.5+ KB\n",
      "None\n"
     ]
    }
   ],
   "source": [
    "train_df = pd.read_csv('./train.csv')\n",
    "print(train_df.info())\n",
    "print()\n",
    "test_df = pd.read_csv('./test.csv')\n",
    "print(test_df.info())"
   ]
  },
  {
   "cell_type": "code",
   "execution_count": 4,
   "id": "449d8d21",
   "metadata": {},
   "outputs": [],
   "source": [
    "# Folder Locations\n",
    "dataset = \"./\""
   ]
  },
  {
   "cell_type": "code",
   "execution_count": 5,
   "id": "56596564",
   "metadata": {},
   "outputs": [],
   "source": [
    "def get_mfcc_feature(df):\n",
    "    features = []\n",
    "    for path in tqdm(df['path']):\n",
    "        # librosa패키지를 사용하여 wav 파일 load\n",
    "        y, sr = librosa.load(path, sr=CFG['SR'])\n",
    "        # librosa패키지를 사용하여 mfcc 추출\n",
    "        mfcc = librosa.feature.mfcc(y=y, sr=sr, n_mfcc=CFG['N_MFCC'])\n",
    "        y_feature = []\n",
    "        # 추출된 MFCC들의 평균을 Feature로 사용\n",
    "        for e in mfcc:\n",
    "            y_feature.append(np.mean(e))\n",
    "        features.append(y_feature)\n",
    "\n",
    "    mfcc_df = pd.DataFrame(features, columns=['mfcc_'+str(x) for x in range(1,CFG['N_MFCC']+1)])\n",
    "    return mfcc_df\n"
   ]
  },
  {
   "cell_type": "code",
   "execution_count": 6,
   "id": "2276bcbd",
   "metadata": {
    "scrolled": true
   },
   "outputs": [
    {
     "data": {
      "application/vnd.jupyter.widget-view+json": {
       "model_id": "c27e973b8cf942cd8265be98005b3a33",
       "version_major": 2,
       "version_minor": 0
      },
      "text/plain": [
       "  0%|          | 0/5001 [00:00<?, ?it/s]"
      ]
     },
     "metadata": {},
     "output_type": "display_data"
    },
    {
     "name": "stdout",
     "output_type": "stream",
     "text": [
      "          mfcc_1      mfcc_2     mfcc_3     mfcc_4     mfcc_5    mfcc_6  \\\n",
      "0    -414.755737  110.100639  46.699074  23.939814  14.766221  4.820827   \n",
      "1    -399.769531   83.051300  55.473316  31.782587  22.040754  0.985082   \n",
      "2    -341.145081   97.399071  38.274349  19.811539   0.731027  0.838704   \n",
      "3    -376.963715  118.961670  34.490349  24.178417  -1.065604 -1.613391   \n",
      "4    -352.863220  117.553337  29.948687  31.094315   5.406391 -5.591998   \n",
      "...          ...         ...        ...        ...        ...       ...   \n",
      "4996 -416.181305  112.938484  47.294231  23.111433  16.048231  6.795750   \n",
      "4997 -237.811432   72.207787   3.371584  14.646128 -10.546066  7.671333   \n",
      "4998 -368.228119  103.887871  40.081417  21.763754  14.120455  5.778781   \n",
      "4999 -407.114288  103.880676  44.980690  23.265039  13.279220  6.904113   \n",
      "5000 -359.754608   89.241714  20.517361  24.043827  16.926319 -7.636394   \n",
      "\n",
      "        mfcc_7     mfcc_8    mfcc_9    mfcc_10  ...   mfcc_23   mfcc_24  \\\n",
      "0     1.445079  -0.926153  2.892509   4.465990  ... -2.615444 -1.620636   \n",
      "1     3.712760  -2.359319 -0.026561   0.393656  ...  1.074466  1.944394   \n",
      "2    -1.911201 -10.645283 -1.595291  -2.305276  ... -1.521030  1.525717   \n",
      "3     2.888371  -7.865876 -2.260846  -5.609926  ... -1.049496 -3.562966   \n",
      "4    -4.809399 -11.500415 -6.894947   2.946273  ... -0.323433  0.386383   \n",
      "...        ...        ...       ...        ...  ...       ...       ...   \n",
      "4996  0.194628  -3.153772 -5.016596  -7.414401  ... -1.217834 -2.810278   \n",
      "4997 -1.676355  -8.311659  5.224692  -3.619729  ...  0.276754  1.673036   \n",
      "4998 -3.776188  -4.852784 -3.689436  -0.837069  ...  0.427912  1.294595   \n",
      "4999 -1.792801   3.526099  2.991546  -1.412130  ...  0.797132  1.962759   \n",
      "5000 -6.266701  -0.879193 -1.824082 -10.422786  ... -2.481820 -5.475562   \n",
      "\n",
      "       mfcc_25   mfcc_26   mfcc_27   mfcc_28   mfcc_29   mfcc_30   mfcc_31  \\\n",
      "0    -1.285819 -1.538144 -1.629623 -0.110236  0.022208  3.912367  4.398968   \n",
      "1     0.017539 -0.097045  0.061731  1.764198  0.311808  2.248236  0.097092   \n",
      "2     0.446549 -0.879012 -0.619363  3.587360  4.218766  3.195291 -0.777671   \n",
      "3    -3.667920 -2.209875 -0.537536 -1.000548 -3.482561 -2.733938 -0.503050   \n",
      "4    -3.801968 -2.157103 -0.022309  1.282429  1.643818  2.032169 -0.533625   \n",
      "...        ...       ...       ...       ...       ...       ...       ...   \n",
      "4996 -3.939800 -4.212123 -1.823620  0.406775  0.249249  0.091639 -1.120363   \n",
      "4997 -2.383266 -1.866506 -4.395771 -1.290971 -0.243260 -0.217550  0.025551   \n",
      "4998  1.419106  2.330357  1.584116  2.376555  0.746695  3.503192  1.551537   \n",
      "4999  0.478440 -1.340471  0.208459  3.158219  2.288530  1.665004 -0.770613   \n",
      "5000 -1.680754 -2.730674 -3.256532 -0.626901 -2.973576  1.013279  1.561999   \n",
      "\n",
      "       mfcc_32  \n",
      "0     2.815795  \n",
      "1    -0.008172  \n",
      "2    -0.989654  \n",
      "3    -0.844000  \n",
      "4    -1.729753  \n",
      "...        ...  \n",
      "4996 -1.970424  \n",
      "4997  0.289345  \n",
      "4998 -0.069177  \n",
      "4999  0.064017  \n",
      "5000 -2.942966  \n",
      "\n",
      "[5001 rows x 32 columns]\n"
     ]
    },
    {
     "data": {
      "application/vnd.jupyter.widget-view+json": {
       "model_id": "b2f3235338554ee3aadfdfcee7dfcb6a",
       "version_major": 2,
       "version_minor": 0
      },
      "text/plain": [
       "  0%|          | 0/1881 [00:00<?, ?it/s]"
      ]
     },
     "metadata": {},
     "output_type": "display_data"
    },
    {
     "name": "stdout",
     "output_type": "stream",
     "text": [
      "          mfcc_1      mfcc_2     mfcc_3     mfcc_4     mfcc_5    mfcc_6  \\\n",
      "0    -335.757324  125.215431  22.145767  14.351713  -1.045251  0.567860   \n",
      "1    -295.973053   92.839684  24.976181  22.831310 -10.278670  7.804742   \n",
      "2    -444.395996  109.385201  55.236771  26.486050  12.487712  9.069915   \n",
      "3    -384.600220  112.463974  47.454556  17.336460  13.556947  4.677102   \n",
      "4    -273.304077   97.817047  12.370095  24.591480   3.248469 -9.987856   \n",
      "...          ...         ...        ...        ...        ...       ...   \n",
      "1876 -250.254913   69.372955  17.328987  12.005389  -2.463175 -7.652928   \n",
      "1877 -348.593842  107.067047  27.683287  17.207047   2.634121  1.812742   \n",
      "1878 -295.658112   99.606911  -9.669126   4.676853   4.752311 -5.689676   \n",
      "1879 -450.677094  122.865677  46.413559  21.616255  13.785479  5.433998   \n",
      "1880 -366.914154  113.387276  43.263287  15.806440   8.695131  6.917760   \n",
      "\n",
      "        mfcc_7     mfcc_8    mfcc_9    mfcc_10  ...   mfcc_23   mfcc_24  \\\n",
      "0    -0.666742  -8.114830 -7.136742  -0.890950  ... -0.452362 -1.410518   \n",
      "1    -7.779604 -11.835019 -9.290084  -2.127427  ...  1.778805  2.596544   \n",
      "2     2.790433  -0.485667 -2.200089  -3.334617  ... -0.988734 -3.927215   \n",
      "3    -5.572524  -1.354830 -2.386853   0.361085  ... -1.371162 -1.021333   \n",
      "4    -6.246259 -13.113685 -1.204894   0.282557  ...  2.007670 -1.133698   \n",
      "...        ...        ...       ...        ...  ...       ...       ...   \n",
      "1876 -5.683615  -2.965508  1.244487  -1.624788  ...  1.999792 -3.934587   \n",
      "1877 -1.466079  -5.889251  3.410136   1.865329  ...  0.566558  5.903645   \n",
      "1878  1.521859  -8.851722 -3.052611 -10.759281  ... -4.568923 -1.418633   \n",
      "1879 -2.776925  -0.925962 -1.236971  -5.947121  ...  2.544887 -1.345986   \n",
      "1880 -7.379910  -4.027730 -3.587318  -1.590748  ... -3.402888 -2.253915   \n",
      "\n",
      "       mfcc_25   mfcc_26   mfcc_27   mfcc_28   mfcc_29   mfcc_30   mfcc_31  \\\n",
      "0    -2.177118  0.198908  1.068798  0.964545 -2.613074  2.812386  0.901755   \n",
      "1    -1.626948  0.363650 -1.242502 -1.523350  0.161729  2.599890  0.549057   \n",
      "2    -4.373907 -1.453163 -3.116022  0.184532 -3.222616 -0.724788 -1.841568   \n",
      "3    -3.315773 -2.259278 -1.717189 -0.019883 -0.051858  0.199551  2.846354   \n",
      "4     1.177092 -0.153630 -1.755448  1.917316 -2.084666 -1.174302 -0.747732   \n",
      "...        ...       ...       ...       ...       ...       ...       ...   \n",
      "1876 -0.296250 -0.949789 -0.430385 -2.024839 -3.166185  3.210045  2.162896   \n",
      "1877  3.492442  1.928877  0.612623 -0.503881  0.614712  3.338864  1.078280   \n",
      "1878 -6.151373 -2.744540 -3.983426 -5.843061 -1.557026  1.383257  0.714763   \n",
      "1879 -1.827730 -2.109568 -2.891415 -0.612319 -2.212980 -1.055952 -1.289654   \n",
      "1880 -2.139054 -4.618435 -0.188326  0.892588 -4.297170 -0.811239  2.563804   \n",
      "\n",
      "       mfcc_32  \n",
      "0     1.809820  \n",
      "1    -0.346372  \n",
      "2    -4.278657  \n",
      "3     5.373621  \n",
      "4    -1.348814  \n",
      "...        ...  \n",
      "1876  1.188407  \n",
      "1877  1.294158  \n",
      "1878 -2.767536  \n",
      "1879 -1.245361  \n",
      "1880 -0.798751  \n",
      "\n",
      "[1881 rows x 32 columns]\n"
     ]
    }
   ],
   "source": [
    "train_x = get_mfcc_feature(train_df)\n",
    "print(train_x)\n",
    "test_x = get_mfcc_feature(test_df)\n",
    "print(test_x)"
   ]
  },
  {
   "cell_type": "code",
   "execution_count": 8,
   "id": "c0c03656",
   "metadata": {},
   "outputs": [
    {
     "name": "stdout",
     "output_type": "stream",
     "text": [
      "<class 'pandas.core.frame.DataFrame'>\n",
      "RangeIndex: 5001 entries, 0 to 5000\n",
      "Data columns (total 32 columns):\n",
      " #   Column   Non-Null Count  Dtype  \n",
      "---  ------   --------------  -----  \n",
      " 0   mfcc_1   5001 non-null   float32\n",
      " 1   mfcc_2   5001 non-null   float32\n",
      " 2   mfcc_3   5001 non-null   float32\n",
      " 3   mfcc_4   5001 non-null   float32\n",
      " 4   mfcc_5   5001 non-null   float32\n",
      " 5   mfcc_6   5001 non-null   float32\n",
      " 6   mfcc_7   5001 non-null   float32\n",
      " 7   mfcc_8   5001 non-null   float32\n",
      " 8   mfcc_9   5001 non-null   float32\n",
      " 9   mfcc_10  5001 non-null   float32\n",
      " 10  mfcc_11  5001 non-null   float32\n",
      " 11  mfcc_12  5001 non-null   float32\n",
      " 12  mfcc_13  5001 non-null   float32\n",
      " 13  mfcc_14  5001 non-null   float32\n",
      " 14  mfcc_15  5001 non-null   float32\n",
      " 15  mfcc_16  5001 non-null   float32\n",
      " 16  mfcc_17  5001 non-null   float32\n",
      " 17  mfcc_18  5001 non-null   float32\n",
      " 18  mfcc_19  5001 non-null   float32\n",
      " 19  mfcc_20  5001 non-null   float32\n",
      " 20  mfcc_21  5001 non-null   float32\n",
      " 21  mfcc_22  5001 non-null   float32\n",
      " 22  mfcc_23  5001 non-null   float32\n",
      " 23  mfcc_24  5001 non-null   float32\n",
      " 24  mfcc_25  5001 non-null   float32\n",
      " 25  mfcc_26  5001 non-null   float32\n",
      " 26  mfcc_27  5001 non-null   float32\n",
      " 27  mfcc_28  5001 non-null   float32\n",
      " 28  mfcc_29  5001 non-null   float32\n",
      " 29  mfcc_30  5001 non-null   float32\n",
      " 30  mfcc_31  5001 non-null   float32\n",
      " 31  mfcc_32  5001 non-null   float32\n",
      "dtypes: float32(32)\n",
      "memory usage: 625.2 KB\n",
      "None\n",
      "\n",
      " \n",
      " \n",
      "\n",
      "<class 'pandas.core.frame.DataFrame'>\n",
      "RangeIndex: 1881 entries, 0 to 1880\n",
      "Data columns (total 32 columns):\n",
      " #   Column   Non-Null Count  Dtype  \n",
      "---  ------   --------------  -----  \n",
      " 0   mfcc_1   1881 non-null   float32\n",
      " 1   mfcc_2   1881 non-null   float32\n",
      " 2   mfcc_3   1881 non-null   float32\n",
      " 3   mfcc_4   1881 non-null   float32\n",
      " 4   mfcc_5   1881 non-null   float32\n",
      " 5   mfcc_6   1881 non-null   float32\n",
      " 6   mfcc_7   1881 non-null   float32\n",
      " 7   mfcc_8   1881 non-null   float32\n",
      " 8   mfcc_9   1881 non-null   float32\n",
      " 9   mfcc_10  1881 non-null   float32\n",
      " 10  mfcc_11  1881 non-null   float32\n",
      " 11  mfcc_12  1881 non-null   float32\n",
      " 12  mfcc_13  1881 non-null   float32\n",
      " 13  mfcc_14  1881 non-null   float32\n",
      " 14  mfcc_15  1881 non-null   float32\n",
      " 15  mfcc_16  1881 non-null   float32\n",
      " 16  mfcc_17  1881 non-null   float32\n",
      " 17  mfcc_18  1881 non-null   float32\n",
      " 18  mfcc_19  1881 non-null   float32\n",
      " 19  mfcc_20  1881 non-null   float32\n",
      " 20  mfcc_21  1881 non-null   float32\n",
      " 21  mfcc_22  1881 non-null   float32\n",
      " 22  mfcc_23  1881 non-null   float32\n",
      " 23  mfcc_24  1881 non-null   float32\n",
      " 24  mfcc_25  1881 non-null   float32\n",
      " 25  mfcc_26  1881 non-null   float32\n",
      " 26  mfcc_27  1881 non-null   float32\n",
      " 27  mfcc_28  1881 non-null   float32\n",
      " 28  mfcc_29  1881 non-null   float32\n",
      " 29  mfcc_30  1881 non-null   float32\n",
      " 30  mfcc_31  1881 non-null   float32\n",
      " 31  mfcc_32  1881 non-null   float32\n",
      "dtypes: float32(32)\n",
      "memory usage: 235.2 KB\n",
      "None\n"
     ]
    }
   ],
   "source": [
    "print(train_x.info())\n",
    "print('\\n \\n \\n')\n",
    "print(test_x.info())"
   ]
  },
  {
   "cell_type": "code",
   "execution_count": 9,
   "id": "ab25f065",
   "metadata": {},
   "outputs": [
    {
     "name": "stdout",
     "output_type": "stream",
     "text": [
      "0       1\n",
      "1       2\n",
      "2       4\n",
      "3       5\n",
      "4       4\n",
      "       ..\n",
      "4996    5\n",
      "4997    0\n",
      "4998    1\n",
      "4999    1\n",
      "5000    4\n",
      "Name: label, Length: 5001, dtype: int64\n"
     ]
    }
   ],
   "source": [
    "train_y = train_df['label']\n",
    "print(train_y)"
   ]
  },
  {
   "cell_type": "code",
   "execution_count": null,
   "id": "2a7ab285",
   "metadata": {},
   "outputs": [],
   "source": [
    "model = DecisionTreeClassifier(random_state=CFG['SEED'])\n",
    "model.fit(train_x, train_y)"
   ]
  },
  {
   "cell_type": "code",
   "execution_count": null,
   "id": "e365dc11",
   "metadata": {},
   "outputs": [],
   "source": [
    "preds = model.predict(test_x)"
   ]
  },
  {
   "cell_type": "code",
   "execution_count": null,
   "id": "dcf8650c",
   "metadata": {},
   "outputs": [],
   "source": [
    "submission = pd.read_csv(dataset + 'sample_submission.csv')\n",
    "submission['label'] = preds\n",
    "submission.to_csv(dataset + \"baseline_submission.csv\", index=False)"
   ]
  },
  {
   "cell_type": "code",
   "execution_count": null,
   "id": "156349d4",
   "metadata": {},
   "outputs": [],
   "source": []
  },
  {
   "cell_type": "code",
   "execution_count": null,
   "id": "13215c76",
   "metadata": {},
   "outputs": [],
   "source": []
  },
  {
   "cell_type": "code",
   "execution_count": 11,
   "id": "89208881",
   "metadata": {},
   "outputs": [],
   "source": [
    "rf = RandomForestClassifier(n_estimators=50,\n",
    "                           max_depth=4,\n",
    "                           min_samples_split=2,\n",
    "                           max_features=0.85,\n",
    "                           n_jobs=-1,\n",
    "                           random_state=CFG['SEED'])"
   ]
  },
  {
   "cell_type": "code",
   "execution_count": 16,
   "id": "4cdd9ecd",
   "metadata": {},
   "outputs": [
    {
     "name": "stdout",
     "output_type": "stream",
     "text": [
      "(4000, 32) (1001, 32) (4000,) (1001,)\n"
     ]
    }
   ],
   "source": [
    "X_train, X_val, y_train, y_val = train_test_split(train_x, train_y, test_size=0.2, random_state=CFG['SEED'])\n",
    "print(X_train.shape, X_val.shape, y_train.shape, y_val.shape)"
   ]
  },
  {
   "cell_type": "code",
   "execution_count": 12,
   "id": "004de036",
   "metadata": {},
   "outputs": [
    {
     "data": {
      "text/html": [
       "<style>#sk-container-id-1 {color: black;background-color: white;}#sk-container-id-1 pre{padding: 0;}#sk-container-id-1 div.sk-toggleable {background-color: white;}#sk-container-id-1 label.sk-toggleable__label {cursor: pointer;display: block;width: 100%;margin-bottom: 0;padding: 0.3em;box-sizing: border-box;text-align: center;}#sk-container-id-1 label.sk-toggleable__label-arrow:before {content: \"▸\";float: left;margin-right: 0.25em;color: #696969;}#sk-container-id-1 label.sk-toggleable__label-arrow:hover:before {color: black;}#sk-container-id-1 div.sk-estimator:hover label.sk-toggleable__label-arrow:before {color: black;}#sk-container-id-1 div.sk-toggleable__content {max-height: 0;max-width: 0;overflow: hidden;text-align: left;background-color: #f0f8ff;}#sk-container-id-1 div.sk-toggleable__content pre {margin: 0.2em;color: black;border-radius: 0.25em;background-color: #f0f8ff;}#sk-container-id-1 input.sk-toggleable__control:checked~div.sk-toggleable__content {max-height: 200px;max-width: 100%;overflow: auto;}#sk-container-id-1 input.sk-toggleable__control:checked~label.sk-toggleable__label-arrow:before {content: \"▾\";}#sk-container-id-1 div.sk-estimator input.sk-toggleable__control:checked~label.sk-toggleable__label {background-color: #d4ebff;}#sk-container-id-1 div.sk-label input.sk-toggleable__control:checked~label.sk-toggleable__label {background-color: #d4ebff;}#sk-container-id-1 input.sk-hidden--visually {border: 0;clip: rect(1px 1px 1px 1px);clip: rect(1px, 1px, 1px, 1px);height: 1px;margin: -1px;overflow: hidden;padding: 0;position: absolute;width: 1px;}#sk-container-id-1 div.sk-estimator {font-family: monospace;background-color: #f0f8ff;border: 1px dotted black;border-radius: 0.25em;box-sizing: border-box;margin-bottom: 0.5em;}#sk-container-id-1 div.sk-estimator:hover {background-color: #d4ebff;}#sk-container-id-1 div.sk-parallel-item::after {content: \"\";width: 100%;border-bottom: 1px solid gray;flex-grow: 1;}#sk-container-id-1 div.sk-label:hover label.sk-toggleable__label {background-color: #d4ebff;}#sk-container-id-1 div.sk-serial::before {content: \"\";position: absolute;border-left: 1px solid gray;box-sizing: border-box;top: 0;bottom: 0;left: 50%;z-index: 0;}#sk-container-id-1 div.sk-serial {display: flex;flex-direction: column;align-items: center;background-color: white;padding-right: 0.2em;padding-left: 0.2em;position: relative;}#sk-container-id-1 div.sk-item {position: relative;z-index: 1;}#sk-container-id-1 div.sk-parallel {display: flex;align-items: stretch;justify-content: center;background-color: white;position: relative;}#sk-container-id-1 div.sk-item::before, #sk-container-id-1 div.sk-parallel-item::before {content: \"\";position: absolute;border-left: 1px solid gray;box-sizing: border-box;top: 0;bottom: 0;left: 50%;z-index: -1;}#sk-container-id-1 div.sk-parallel-item {display: flex;flex-direction: column;z-index: 1;position: relative;background-color: white;}#sk-container-id-1 div.sk-parallel-item:first-child::after {align-self: flex-end;width: 50%;}#sk-container-id-1 div.sk-parallel-item:last-child::after {align-self: flex-start;width: 50%;}#sk-container-id-1 div.sk-parallel-item:only-child::after {width: 0;}#sk-container-id-1 div.sk-dashed-wrapped {border: 1px dashed gray;margin: 0 0.4em 0.5em 0.4em;box-sizing: border-box;padding-bottom: 0.4em;background-color: white;}#sk-container-id-1 div.sk-label label {font-family: monospace;font-weight: bold;display: inline-block;line-height: 1.2em;}#sk-container-id-1 div.sk-label-container {text-align: center;}#sk-container-id-1 div.sk-container {/* jupyter's `normalize.less` sets `[hidden] { display: none; }` but bootstrap.min.css set `[hidden] { display: none !important; }` so we also need the `!important` here to be able to override the default hidden behavior on the sphinx rendered scikit-learn.org. See: https://github.com/scikit-learn/scikit-learn/issues/21755 */display: inline-block !important;position: relative;}#sk-container-id-1 div.sk-text-repr-fallback {display: none;}</style><div id=\"sk-container-id-1\" class=\"sk-top-container\"><div class=\"sk-text-repr-fallback\"><pre>RandomForestClassifier(max_depth=4, max_features=0.85, n_estimators=50,\n",
       "                       n_jobs=-1, random_state=42)</pre><b>In a Jupyter environment, please rerun this cell to show the HTML representation or trust the notebook. <br />On GitHub, the HTML representation is unable to render, please try loading this page with nbviewer.org.</b></div><div class=\"sk-container\" hidden><div class=\"sk-item\"><div class=\"sk-estimator sk-toggleable\"><input class=\"sk-toggleable__control sk-hidden--visually\" id=\"sk-estimator-id-1\" type=\"checkbox\" checked><label for=\"sk-estimator-id-1\" class=\"sk-toggleable__label sk-toggleable__label-arrow\">RandomForestClassifier</label><div class=\"sk-toggleable__content\"><pre>RandomForestClassifier(max_depth=4, max_features=0.85, n_estimators=50,\n",
       "                       n_jobs=-1, random_state=42)</pre></div></div></div></div></div>"
      ],
      "text/plain": [
       "RandomForestClassifier(max_depth=4, max_features=0.85, n_estimators=50,\n",
       "                       n_jobs=-1, random_state=42)"
      ]
     },
     "execution_count": 12,
     "metadata": {},
     "output_type": "execute_result"
    }
   ],
   "source": [
    "rf.fit(train_x, train_y)"
   ]
  },
  {
   "cell_type": "code",
   "execution_count": 17,
   "id": "784c16fb",
   "metadata": {},
   "outputs": [
    {
     "name": "stdout",
     "output_type": "stream",
     "text": [
      "\n",
      "-- Random Forest --\n",
      "Train ACC : 0.423\n",
      "Val ACC : 0.431\n"
     ]
    }
   ],
   "source": [
    "print(\"-- Random Forest --\")\n",
    "print(\"Train ACC : %.3f\" % accuracy_score(y_train, rf.predict(X_train)))\n",
    "print(\"Val ACC : %.3f\" % accuracy_score(y_val, rf.predict(X_val)))"
   ]
  },
  {
   "cell_type": "code",
   "execution_count": 19,
   "id": "01251cd7",
   "metadata": {},
   "outputs": [
    {
     "data": {
      "text/plain": [
       "array([5, 0, 2, ..., 0, 2, 4])"
      ]
     },
     "execution_count": 19,
     "metadata": {},
     "output_type": "execute_result"
    }
   ],
   "source": [
    "X_test = pd.get_dummies(data=test_x)\n",
    "pred = rf.predict(X_test)\n",
    "pred"
   ]
  },
  {
   "cell_type": "code",
   "execution_count": 20,
   "id": "8840a3e4",
   "metadata": {},
   "outputs": [],
   "source": [
    "submission = pd.read_csv(dataset + 'sample_submission.csv')\n",
    "submission['label'] = pred\n",
    "submission.to_csv(dataset + \"baseline_submission.csv\", index=False)"
   ]
  },
  {
   "cell_type": "code",
   "execution_count": null,
   "id": "cbc744b0",
   "metadata": {},
   "outputs": [],
   "source": []
  }
 ],
 "metadata": {
  "kernelspec": {
   "display_name": "Python 3 (ipykernel)",
   "language": "python",
   "name": "python3"
  },
  "language_info": {
   "codemirror_mode": {
    "name": "ipython",
    "version": 3
   },
   "file_extension": ".py",
   "mimetype": "text/x-python",
   "name": "python",
   "nbconvert_exporter": "python",
   "pygments_lexer": "ipython3",
   "version": "3.10.9"
  }
 },
 "nbformat": 4,
 "nbformat_minor": 5
}
