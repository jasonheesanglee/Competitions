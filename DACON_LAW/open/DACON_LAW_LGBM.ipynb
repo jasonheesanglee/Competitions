{
 "cells": [
  {
   "cell_type": "code",
   "execution_count": 199,
   "id": "adc258d5",
   "metadata": {
    "scrolled": true
   },
   "outputs": [],
   "source": [
    "import pandas as pd\n",
    "import numpy as np\n",
    "import optuna\n",
    "import dacon_law_class as dlc\n",
    "from dacon_law_class import SimpleOps as so\n",
    "from sklearn.model_selection import StratifiedKFold\n",
    "from lightgbm import LGBMClassifier as lgb\n",
    "import re\n",
    "from sentence_transformers import SentenceTransformer\n",
    "from sklearn.model_selection import train_test_split\n",
    "from sklearn.metrics import accuracy_score, classification_report\n",
    "from sklearn.preprocessing import LabelEncoder, StandardScaler\n",
    "import torch\n",
    "from sklearn.model_selection import GridSearchCV as GSCV\n",
    "import torch.nn.functional as F\n",
    "from transformers import AutoTokenizer, AutoModel\n",
    "from tqdm import tqdm\n",
    "import xgboost.sklearn as xgb\n",
    "import warnings\n",
    "warnings.filterwarnings('ignore')\n",
    "\n",
    "\n",
    "from pytorch_transformers import BertTokenizer, BertForSequenceClassification, BertConfig\n",
    "from torch.optim import Adam\n",
    "from torch.utils.data import Dataset, DataLoader"
   ]
  },
  {
   "cell_type": "code",
   "execution_count": 2,
   "id": "247af21d",
   "metadata": {},
   "outputs": [],
   "source": [
    "train = pd.read_csv('./train.csv')\n",
    "test = pd.read_csv('./test.csv')\n",
    "sample_submission = pd.read_csv('./sample_submission.csv')\n",
    "# model = SentenceTransformer('paraphrase-MiniLM-L6-v2')"
   ]
  },
  {
   "cell_type": "code",
   "execution_count": null,
   "id": "8011b50f",
   "metadata": {},
   "outputs": [],
   "source": [
    "# train\n",
    "# test\n",
    "# sample_submission"
   ]
  },
  {
   "cell_type": "code",
   "execution_count": 3,
   "id": "eb2ef6ca",
   "metadata": {
    "scrolled": true
   },
   "outputs": [
    {
     "name": "stdout",
     "output_type": "stream",
     "text": [
      "<class 'pandas.core.frame.DataFrame'>\n",
      "RangeIndex: 2478 entries, 0 to 2477\n",
      "Data columns (total 5 columns):\n",
      " #   Column              Non-Null Count  Dtype \n",
      "---  ------              --------------  ----- \n",
      " 0   ID                  2478 non-null   object\n",
      " 1   first_party         2478 non-null   object\n",
      " 2   second_party        2478 non-null   object\n",
      " 3   facts               2478 non-null   object\n",
      " 4   first_party_winner  2478 non-null   int64 \n",
      "dtypes: int64(1), object(4)\n",
      "memory usage: 96.9+ KB\n",
      "\n",
      "\n",
      "\n",
      "\n",
      "<class 'pandas.core.frame.DataFrame'>\n",
      "RangeIndex: 1240 entries, 0 to 1239\n",
      "Data columns (total 4 columns):\n",
      " #   Column        Non-Null Count  Dtype \n",
      "---  ------        --------------  ----- \n",
      " 0   ID            1240 non-null   object\n",
      " 1   first_party   1240 non-null   object\n",
      " 2   second_party  1240 non-null   object\n",
      " 3   facts         1240 non-null   object\n",
      "dtypes: object(4)\n",
      "memory usage: 38.9+ KB\n"
     ]
    }
   ],
   "source": [
    "train.info()\n",
    "print('\\n\\n\\n')\n",
    "test.info()"
   ]
  },
  {
   "cell_type": "code",
   "execution_count": 4,
   "id": "9b052690",
   "metadata": {
    "scrolled": true
   },
   "outputs": [],
   "source": [
    "train_cleansed = dlc.alpha_only_3_cols(train, 'first_party', 'second_party', 'facts')\n",
    "train_cleansed = train.drop(columns='ID')\n",
    "test_cleansed = dlc.alpha_only_3_cols(test, 'first_party', 'second_party', 'facts')\n",
    "test_cleansed = test.drop(columns='ID')"
   ]
  },
  {
   "cell_type": "markdown",
   "id": "01a8f896",
   "metadata": {},
   "source": [
    "## BERT\n",
    "\n",
    "@article{turc2019,\n",
    "  title={Well-Read Students Learn Better: On the Importance of Pre-training Compact Models},\n",
    "  author={Turc, Iulia and Chang, Ming-Wei and Lee, Kenton and Toutanova, Kristina},\n",
    "  journal={arXiv preprint arXiv:1908.08962v2 },\n",
    "  year={2019}\n",
    "}\n"
   ]
  },
  {
   "cell_type": "code",
   "execution_count": null,
   "id": "82f4953b",
   "metadata": {},
   "outputs": [],
   "source": [
    "train_facts = pd.DataFrame(train_cleansed['facts'])\n",
    "test_fact = pd.DataFrame(test_cleansed['facts'])"
   ]
  },
  {
   "cell_type": "code",
   "execution_count": null,
   "id": "03cfbfbe",
   "metadata": {},
   "outputs": [],
   "source": [
    "test_fact"
   ]
  },
  {
   "cell_type": "code",
   "execution_count": null,
   "id": "38e7b527",
   "metadata": {
    "scrolled": true
   },
   "outputs": [],
   "source": [
    "train_to_ml, test_ready_to_ml = dlc.rename_tokenized(train_cleansed, test_cleansed, 'first_party', 'second_party', 'facts', 'first_party_winner')\n"
   ]
  },
  {
   "cell_type": "markdown",
   "id": "89c0cff0",
   "metadata": {},
   "source": [
    "# 여기"
   ]
  },
  {
   "cell_type": "code",
   "execution_count": 163,
   "id": "6df3457f",
   "metadata": {},
   "outputs": [],
   "source": [
    "train_to_ml = pd.read_csv('./embeddings/1_train_legal.csv')\n",
    "test_ready_to_ml = pd.read_csv('./embeddings/2_test_legal.csv')\n"
   ]
  },
  {
   "cell_type": "markdown",
   "id": "2161c82b",
   "metadata": {},
   "source": [
    "train_to_ml"
   ]
  },
  {
   "cell_type": "markdown",
   "id": "9bc5854c",
   "metadata": {},
   "source": [
    "test_ready_to_ml"
   ]
  },
  {
   "cell_type": "markdown",
   "id": "3598d0bb",
   "metadata": {
    "scrolled": true
   },
   "source": [
    "to_be_X, to_be_test_x = dlc.X2_T2(train_to_ml, test_ready_to_ml, 'first_party_winner')"
   ]
  },
  {
   "cell_type": "code",
   "execution_count": 164,
   "id": "feea3088",
   "metadata": {},
   "outputs": [],
   "source": [
    "train_fp_df = pd.DataFrame(train_to_ml['first_party_berted'])\n",
    "train_sp_df = pd.DataFrame(train_to_ml['second_party_berted'])\n",
    "train_facts_df = pd.DataFrame(train_to_ml['facts_berted'])\n",
    "\n",
    "test_fp_df = pd.DataFrame(test_ready_to_ml['first_party_berted'])\n",
    "test_sp_df = pd.DataFrame(test_ready_to_ml['second_party_berted'])\n",
    "test_facts_df = pd.DataFrame(test_ready_to_ml['facts_berted'])"
   ]
  },
  {
   "cell_type": "code",
   "execution_count": 165,
   "id": "b24ee238",
   "metadata": {
    "scrolled": false
   },
   "outputs": [
    {
     "name": "stderr",
     "output_type": "stream",
     "text": [
      "100%|██████████████████████| 2478/2478 [00:01<00:00, 2160.80it/s]\n",
      "100%|██████████████████████| 2478/2478 [00:01<00:00, 2228.75it/s]\n",
      "100%|██████████████████████| 2478/2478 [00:01<00:00, 2259.91it/s]\n",
      "100%|██████████████████████| 1240/1240 [00:00<00:00, 2254.79it/s]\n",
      "100%|██████████████████████| 1240/1240 [00:00<00:00, 2272.71it/s]\n",
      "100%|██████████████████████| 1240/1240 [00:00<00:00, 2142.32it/s]\n"
     ]
    }
   ],
   "source": [
    "train_fp_df = dlc.tensor_separator(train_fp_df, 'first_party_berted')\n",
    "train_sp_df = dlc.tensor_separator(train_sp_df, 'second_party_berted')\n",
    "train_facts_df = dlc.tensor_separator(train_facts_df, 'facts_berted')\n",
    "test_fp_df = dlc.tensor_separator(test_fp_df, 'first_party_berted')\n",
    "test_sp_df = dlc.tensor_separator(test_sp_df, 'second_party_berted')\n",
    "test_facts_df = dlc.tensor_separator(test_facts_df, 'facts_berted')\n",
    "train_fp_df = train_fp_df.astype('float64')\n",
    "train_sp_df = train_sp_df.astype('float64')\n",
    "train_facts_df = train_facts_df.astype('float64')\n",
    "test_fp_df = test_fp_df.astype('float64')\n",
    "test_sp_df = test_sp_df.astype('float64')\n",
    "test_facts_df = test_facts_df.astype('float64')"
   ]
  },
  {
   "cell_type": "code",
   "execution_count": 166,
   "id": "791a2004",
   "metadata": {},
   "outputs": [],
   "source": [
    "t_f_p = pd.Series(train['first_party'])"
   ]
  },
  {
   "cell_type": "code",
   "execution_count": 167,
   "id": "aa47a2fa",
   "metadata": {},
   "outputs": [],
   "source": [
    "label_encoder = LabelEncoder()\n",
    "y_train_first_party = label_encoder.fit_transform(t_f_p)"
   ]
  },
  {
   "cell_type": "code",
   "execution_count": 182,
   "id": "0162d890",
   "metadata": {},
   "outputs": [],
   "source": [
    "y_train_first_party = pd.Series(y_train_first_party)\n",
    "y_train_first_party = y_train_first_party.set_axis(train['ID'])"
   ]
  },
  {
   "cell_type": "code",
   "execution_count": 184,
   "id": "d716c696",
   "metadata": {},
   "outputs": [
    {
     "data": {
      "text/plain": [
       "ID\n",
       "TRAIN_0000    1559\n",
       "TRAIN_0001     711\n",
       "TRAIN_0002     223\n",
       "TRAIN_0003    1213\n",
       "TRAIN_0004    2040\n",
       "              ... \n",
       "TRAIN_2473     877\n",
       "TRAIN_2474    1759\n",
       "TRAIN_2475    1555\n",
       "TRAIN_2476     912\n",
       "TRAIN_2477      80\n",
       "Length: 2478, dtype: int64"
      ]
     },
     "execution_count": 184,
     "metadata": {},
     "output_type": "execute_result"
    }
   ],
   "source": [
    "y_train_first_party"
   ]
  },
  {
   "cell_type": "code",
   "execution_count": 185,
   "id": "db937724",
   "metadata": {},
   "outputs": [],
   "source": [
    "train_facts_df = train_facts_df.set_index(train['ID'])"
   ]
  },
  {
   "cell_type": "code",
   "execution_count": 186,
   "id": "7755146e",
   "metadata": {},
   "outputs": [
    {
     "data": {
      "text/html": [
       "<div>\n",
       "<style scoped>\n",
       "    .dataframe tbody tr th:only-of-type {\n",
       "        vertical-align: middle;\n",
       "    }\n",
       "\n",
       "    .dataframe tbody tr th {\n",
       "        vertical-align: top;\n",
       "    }\n",
       "\n",
       "    .dataframe thead th {\n",
       "        text-align: right;\n",
       "    }\n",
       "</style>\n",
       "<table border=\"1\" class=\"dataframe\">\n",
       "  <thead>\n",
       "    <tr style=\"text-align: right;\">\n",
       "      <th></th>\n",
       "      <th>0</th>\n",
       "      <th>1</th>\n",
       "      <th>2</th>\n",
       "      <th>3</th>\n",
       "      <th>4</th>\n",
       "      <th>5</th>\n",
       "      <th>6</th>\n",
       "      <th>7</th>\n",
       "      <th>8</th>\n",
       "      <th>9</th>\n",
       "      <th>...</th>\n",
       "      <th>758</th>\n",
       "      <th>759</th>\n",
       "      <th>760</th>\n",
       "      <th>761</th>\n",
       "      <th>762</th>\n",
       "      <th>763</th>\n",
       "      <th>764</th>\n",
       "      <th>765</th>\n",
       "      <th>766</th>\n",
       "      <th>767</th>\n",
       "    </tr>\n",
       "    <tr>\n",
       "      <th>ID</th>\n",
       "      <th></th>\n",
       "      <th></th>\n",
       "      <th></th>\n",
       "      <th></th>\n",
       "      <th></th>\n",
       "      <th></th>\n",
       "      <th></th>\n",
       "      <th></th>\n",
       "      <th></th>\n",
       "      <th></th>\n",
       "      <th></th>\n",
       "      <th></th>\n",
       "      <th></th>\n",
       "      <th></th>\n",
       "      <th></th>\n",
       "      <th></th>\n",
       "      <th></th>\n",
       "      <th></th>\n",
       "      <th></th>\n",
       "      <th></th>\n",
       "      <th></th>\n",
       "    </tr>\n",
       "  </thead>\n",
       "  <tbody>\n",
       "    <tr>\n",
       "      <th>TRAIN_0000</th>\n",
       "      <td>-0.033830</td>\n",
       "      <td>0.011217</td>\n",
       "      <td>0.021617</td>\n",
       "      <td>-0.010866</td>\n",
       "      <td>0.032392</td>\n",
       "      <td>-0.011158</td>\n",
       "      <td>0.041054</td>\n",
       "      <td>0.025290</td>\n",
       "      <td>-0.003034</td>\n",
       "      <td>-0.026867</td>\n",
       "      <td>...</td>\n",
       "      <td>-0.041736</td>\n",
       "      <td>-0.006480</td>\n",
       "      <td>-0.024972</td>\n",
       "      <td>0.022913</td>\n",
       "      <td>0.003499</td>\n",
       "      <td>-0.013559</td>\n",
       "      <td>-0.056562</td>\n",
       "      <td>-0.020698</td>\n",
       "      <td>0.003666</td>\n",
       "      <td>-0.021622</td>\n",
       "    </tr>\n",
       "    <tr>\n",
       "      <th>TRAIN_0001</th>\n",
       "      <td>-0.038728</td>\n",
       "      <td>0.011993</td>\n",
       "      <td>0.011954</td>\n",
       "      <td>-0.009163</td>\n",
       "      <td>0.013441</td>\n",
       "      <td>-0.006253</td>\n",
       "      <td>0.049216</td>\n",
       "      <td>0.016051</td>\n",
       "      <td>0.003694</td>\n",
       "      <td>-0.029397</td>\n",
       "      <td>...</td>\n",
       "      <td>-0.021081</td>\n",
       "      <td>-0.004596</td>\n",
       "      <td>-0.020107</td>\n",
       "      <td>0.020765</td>\n",
       "      <td>-0.001840</td>\n",
       "      <td>-0.008348</td>\n",
       "      <td>-0.056933</td>\n",
       "      <td>-0.008860</td>\n",
       "      <td>0.011146</td>\n",
       "      <td>-0.012924</td>\n",
       "    </tr>\n",
       "    <tr>\n",
       "      <th>TRAIN_0002</th>\n",
       "      <td>-0.049457</td>\n",
       "      <td>0.009322</td>\n",
       "      <td>0.026977</td>\n",
       "      <td>-0.003048</td>\n",
       "      <td>0.018507</td>\n",
       "      <td>-0.012445</td>\n",
       "      <td>0.039873</td>\n",
       "      <td>0.004032</td>\n",
       "      <td>-0.004505</td>\n",
       "      <td>-0.018547</td>\n",
       "      <td>...</td>\n",
       "      <td>-0.024970</td>\n",
       "      <td>0.005365</td>\n",
       "      <td>-0.023475</td>\n",
       "      <td>0.023403</td>\n",
       "      <td>0.001966</td>\n",
       "      <td>-0.016449</td>\n",
       "      <td>-0.067600</td>\n",
       "      <td>-0.012318</td>\n",
       "      <td>0.021940</td>\n",
       "      <td>-0.015223</td>\n",
       "    </tr>\n",
       "    <tr>\n",
       "      <th>TRAIN_0003</th>\n",
       "      <td>-0.068268</td>\n",
       "      <td>0.014492</td>\n",
       "      <td>0.018610</td>\n",
       "      <td>0.007739</td>\n",
       "      <td>0.045458</td>\n",
       "      <td>-0.029632</td>\n",
       "      <td>0.019533</td>\n",
       "      <td>0.015546</td>\n",
       "      <td>-0.011195</td>\n",
       "      <td>-0.046313</td>\n",
       "      <td>...</td>\n",
       "      <td>-0.003665</td>\n",
       "      <td>-0.003942</td>\n",
       "      <td>-0.015112</td>\n",
       "      <td>0.014614</td>\n",
       "      <td>-0.015617</td>\n",
       "      <td>-0.004508</td>\n",
       "      <td>-0.037920</td>\n",
       "      <td>-0.019136</td>\n",
       "      <td>0.023042</td>\n",
       "      <td>-0.018693</td>\n",
       "    </tr>\n",
       "    <tr>\n",
       "      <th>TRAIN_0004</th>\n",
       "      <td>-0.039468</td>\n",
       "      <td>0.010202</td>\n",
       "      <td>0.022965</td>\n",
       "      <td>-0.003174</td>\n",
       "      <td>0.036305</td>\n",
       "      <td>-0.011503</td>\n",
       "      <td>0.041285</td>\n",
       "      <td>0.014516</td>\n",
       "      <td>0.000238</td>\n",
       "      <td>-0.039284</td>\n",
       "      <td>...</td>\n",
       "      <td>-0.014759</td>\n",
       "      <td>-0.013484</td>\n",
       "      <td>-0.016750</td>\n",
       "      <td>0.010149</td>\n",
       "      <td>-0.005003</td>\n",
       "      <td>-0.010588</td>\n",
       "      <td>-0.055886</td>\n",
       "      <td>-0.029736</td>\n",
       "      <td>0.021987</td>\n",
       "      <td>-0.014409</td>\n",
       "    </tr>\n",
       "    <tr>\n",
       "      <th>...</th>\n",
       "      <td>...</td>\n",
       "      <td>...</td>\n",
       "      <td>...</td>\n",
       "      <td>...</td>\n",
       "      <td>...</td>\n",
       "      <td>...</td>\n",
       "      <td>...</td>\n",
       "      <td>...</td>\n",
       "      <td>...</td>\n",
       "      <td>...</td>\n",
       "      <td>...</td>\n",
       "      <td>...</td>\n",
       "      <td>...</td>\n",
       "      <td>...</td>\n",
       "      <td>...</td>\n",
       "      <td>...</td>\n",
       "      <td>...</td>\n",
       "      <td>...</td>\n",
       "      <td>...</td>\n",
       "      <td>...</td>\n",
       "      <td>...</td>\n",
       "    </tr>\n",
       "    <tr>\n",
       "      <th>TRAIN_2473</th>\n",
       "      <td>-0.038044</td>\n",
       "      <td>0.016973</td>\n",
       "      <td>0.025856</td>\n",
       "      <td>0.017497</td>\n",
       "      <td>0.034284</td>\n",
       "      <td>-0.011928</td>\n",
       "      <td>0.013811</td>\n",
       "      <td>0.021045</td>\n",
       "      <td>-0.022041</td>\n",
       "      <td>-0.034271</td>\n",
       "      <td>...</td>\n",
       "      <td>-0.028971</td>\n",
       "      <td>-0.032330</td>\n",
       "      <td>-0.023707</td>\n",
       "      <td>0.034244</td>\n",
       "      <td>0.009421</td>\n",
       "      <td>-0.030279</td>\n",
       "      <td>-0.023804</td>\n",
       "      <td>-0.008327</td>\n",
       "      <td>0.003461</td>\n",
       "      <td>-0.017760</td>\n",
       "    </tr>\n",
       "    <tr>\n",
       "      <th>TRAIN_2474</th>\n",
       "      <td>-0.052684</td>\n",
       "      <td>0.014010</td>\n",
       "      <td>0.043104</td>\n",
       "      <td>0.012380</td>\n",
       "      <td>0.038227</td>\n",
       "      <td>-0.001981</td>\n",
       "      <td>0.007584</td>\n",
       "      <td>0.016783</td>\n",
       "      <td>0.012787</td>\n",
       "      <td>-0.033677</td>\n",
       "      <td>...</td>\n",
       "      <td>-0.001821</td>\n",
       "      <td>-0.013834</td>\n",
       "      <td>-0.000324</td>\n",
       "      <td>0.022426</td>\n",
       "      <td>0.014847</td>\n",
       "      <td>-0.018254</td>\n",
       "      <td>-0.063964</td>\n",
       "      <td>-0.009734</td>\n",
       "      <td>0.003993</td>\n",
       "      <td>0.003585</td>\n",
       "    </tr>\n",
       "    <tr>\n",
       "      <th>TRAIN_2475</th>\n",
       "      <td>-0.062706</td>\n",
       "      <td>-0.007085</td>\n",
       "      <td>0.018795</td>\n",
       "      <td>-0.002208</td>\n",
       "      <td>0.011292</td>\n",
       "      <td>-0.012623</td>\n",
       "      <td>0.041803</td>\n",
       "      <td>0.015978</td>\n",
       "      <td>-0.013886</td>\n",
       "      <td>-0.016605</td>\n",
       "      <td>...</td>\n",
       "      <td>-0.009397</td>\n",
       "      <td>0.004355</td>\n",
       "      <td>-0.002171</td>\n",
       "      <td>0.011380</td>\n",
       "      <td>-0.009125</td>\n",
       "      <td>-0.017224</td>\n",
       "      <td>-0.055894</td>\n",
       "      <td>-0.013227</td>\n",
       "      <td>0.014364</td>\n",
       "      <td>-0.011625</td>\n",
       "    </tr>\n",
       "    <tr>\n",
       "      <th>TRAIN_2476</th>\n",
       "      <td>-0.042257</td>\n",
       "      <td>0.023962</td>\n",
       "      <td>0.020516</td>\n",
       "      <td>-0.015240</td>\n",
       "      <td>0.027739</td>\n",
       "      <td>-0.015085</td>\n",
       "      <td>0.050874</td>\n",
       "      <td>-0.005060</td>\n",
       "      <td>0.009996</td>\n",
       "      <td>-0.040408</td>\n",
       "      <td>...</td>\n",
       "      <td>-0.012835</td>\n",
       "      <td>-0.001382</td>\n",
       "      <td>-0.018021</td>\n",
       "      <td>0.019966</td>\n",
       "      <td>0.004999</td>\n",
       "      <td>-0.027998</td>\n",
       "      <td>-0.057431</td>\n",
       "      <td>-0.015786</td>\n",
       "      <td>0.009186</td>\n",
       "      <td>-0.018314</td>\n",
       "    </tr>\n",
       "    <tr>\n",
       "      <th>TRAIN_2477</th>\n",
       "      <td>-0.032483</td>\n",
       "      <td>0.017138</td>\n",
       "      <td>0.030561</td>\n",
       "      <td>0.004342</td>\n",
       "      <td>0.051819</td>\n",
       "      <td>-0.003600</td>\n",
       "      <td>0.022761</td>\n",
       "      <td>0.011990</td>\n",
       "      <td>0.005013</td>\n",
       "      <td>-0.041031</td>\n",
       "      <td>...</td>\n",
       "      <td>-0.012277</td>\n",
       "      <td>-0.013040</td>\n",
       "      <td>-0.018146</td>\n",
       "      <td>0.029210</td>\n",
       "      <td>-0.002913</td>\n",
       "      <td>-0.000240</td>\n",
       "      <td>-0.036736</td>\n",
       "      <td>-0.023509</td>\n",
       "      <td>0.004010</td>\n",
       "      <td>-0.005042</td>\n",
       "    </tr>\n",
       "  </tbody>\n",
       "</table>\n",
       "<p>2478 rows × 768 columns</p>\n",
       "</div>"
      ],
      "text/plain": [
       "                 0         1         2         3         4         5    \\\n",
       "ID                                                                       \n",
       "TRAIN_0000 -0.033830  0.011217  0.021617 -0.010866  0.032392 -0.011158   \n",
       "TRAIN_0001 -0.038728  0.011993  0.011954 -0.009163  0.013441 -0.006253   \n",
       "TRAIN_0002 -0.049457  0.009322  0.026977 -0.003048  0.018507 -0.012445   \n",
       "TRAIN_0003 -0.068268  0.014492  0.018610  0.007739  0.045458 -0.029632   \n",
       "TRAIN_0004 -0.039468  0.010202  0.022965 -0.003174  0.036305 -0.011503   \n",
       "...              ...       ...       ...       ...       ...       ...   \n",
       "TRAIN_2473 -0.038044  0.016973  0.025856  0.017497  0.034284 -0.011928   \n",
       "TRAIN_2474 -0.052684  0.014010  0.043104  0.012380  0.038227 -0.001981   \n",
       "TRAIN_2475 -0.062706 -0.007085  0.018795 -0.002208  0.011292 -0.012623   \n",
       "TRAIN_2476 -0.042257  0.023962  0.020516 -0.015240  0.027739 -0.015085   \n",
       "TRAIN_2477 -0.032483  0.017138  0.030561  0.004342  0.051819 -0.003600   \n",
       "\n",
       "                 6         7         8         9    ...       758       759  \\\n",
       "ID                                                  ...                       \n",
       "TRAIN_0000  0.041054  0.025290 -0.003034 -0.026867  ... -0.041736 -0.006480   \n",
       "TRAIN_0001  0.049216  0.016051  0.003694 -0.029397  ... -0.021081 -0.004596   \n",
       "TRAIN_0002  0.039873  0.004032 -0.004505 -0.018547  ... -0.024970  0.005365   \n",
       "TRAIN_0003  0.019533  0.015546 -0.011195 -0.046313  ... -0.003665 -0.003942   \n",
       "TRAIN_0004  0.041285  0.014516  0.000238 -0.039284  ... -0.014759 -0.013484   \n",
       "...              ...       ...       ...       ...  ...       ...       ...   \n",
       "TRAIN_2473  0.013811  0.021045 -0.022041 -0.034271  ... -0.028971 -0.032330   \n",
       "TRAIN_2474  0.007584  0.016783  0.012787 -0.033677  ... -0.001821 -0.013834   \n",
       "TRAIN_2475  0.041803  0.015978 -0.013886 -0.016605  ... -0.009397  0.004355   \n",
       "TRAIN_2476  0.050874 -0.005060  0.009996 -0.040408  ... -0.012835 -0.001382   \n",
       "TRAIN_2477  0.022761  0.011990  0.005013 -0.041031  ... -0.012277 -0.013040   \n",
       "\n",
       "                 760       761       762       763       764       765  \\\n",
       "ID                                                                       \n",
       "TRAIN_0000 -0.024972  0.022913  0.003499 -0.013559 -0.056562 -0.020698   \n",
       "TRAIN_0001 -0.020107  0.020765 -0.001840 -0.008348 -0.056933 -0.008860   \n",
       "TRAIN_0002 -0.023475  0.023403  0.001966 -0.016449 -0.067600 -0.012318   \n",
       "TRAIN_0003 -0.015112  0.014614 -0.015617 -0.004508 -0.037920 -0.019136   \n",
       "TRAIN_0004 -0.016750  0.010149 -0.005003 -0.010588 -0.055886 -0.029736   \n",
       "...              ...       ...       ...       ...       ...       ...   \n",
       "TRAIN_2473 -0.023707  0.034244  0.009421 -0.030279 -0.023804 -0.008327   \n",
       "TRAIN_2474 -0.000324  0.022426  0.014847 -0.018254 -0.063964 -0.009734   \n",
       "TRAIN_2475 -0.002171  0.011380 -0.009125 -0.017224 -0.055894 -0.013227   \n",
       "TRAIN_2476 -0.018021  0.019966  0.004999 -0.027998 -0.057431 -0.015786   \n",
       "TRAIN_2477 -0.018146  0.029210 -0.002913 -0.000240 -0.036736 -0.023509   \n",
       "\n",
       "                 766       767  \n",
       "ID                              \n",
       "TRAIN_0000  0.003666 -0.021622  \n",
       "TRAIN_0001  0.011146 -0.012924  \n",
       "TRAIN_0002  0.021940 -0.015223  \n",
       "TRAIN_0003  0.023042 -0.018693  \n",
       "TRAIN_0004  0.021987 -0.014409  \n",
       "...              ...       ...  \n",
       "TRAIN_2473  0.003461 -0.017760  \n",
       "TRAIN_2474  0.003993  0.003585  \n",
       "TRAIN_2475  0.014364 -0.011625  \n",
       "TRAIN_2476  0.009186 -0.018314  \n",
       "TRAIN_2477  0.004010 -0.005042  \n",
       "\n",
       "[2478 rows x 768 columns]"
      ]
     },
     "execution_count": 186,
     "metadata": {},
     "output_type": "execute_result"
    }
   ],
   "source": [
    "X = train_facts_df\n",
    "X\n"
   ]
  },
  {
   "cell_type": "code",
   "execution_count": 175,
   "id": "17af5fc1",
   "metadata": {},
   "outputs": [
    {
     "name": "stdout",
     "output_type": "stream",
     "text": [
      "<class 'pandas.core.frame.DataFrame'>\n",
      "RangeIndex: 2478 entries, 0 to 2477\n",
      "Columns: 768 entries, 0 to 767\n",
      "dtypes: float64(768)\n",
      "memory usage: 14.5 MB\n"
     ]
    }
   ],
   "source": [
    "X.info()"
   ]
  },
  {
   "cell_type": "code",
   "execution_count": 187,
   "id": "58a8405a",
   "metadata": {},
   "outputs": [],
   "source": [
    "y = y_train_first_party"
   ]
  },
  {
   "cell_type": "code",
   "execution_count": 188,
   "id": "32c11522",
   "metadata": {},
   "outputs": [],
   "source": [
    "X_train, X_val, y_train, y_val = train_test_split(X, y, test_size=0.3, random_state=42)\n"
   ]
  },
  {
   "cell_type": "code",
   "execution_count": null,
   "id": "903cd0e7",
   "metadata": {},
   "outputs": [],
   "source": [
    "# to_be_X.info(), to_be_test_x.info()"
   ]
  },
  {
   "cell_type": "markdown",
   "id": "cf1bbdcf",
   "metadata": {},
   "source": [
    "X_train, X_val, y_train, y_val, test_X = dlc.test_val_separator(train_fp_df, train_fp_df, 0.3)\n"
   ]
  },
  {
   "cell_type": "markdown",
   "id": "ddaa9f30",
   "metadata": {},
   "source": [
    "y_train = y_train['first_party'].astype(int)\n",
    "y_val = y_val['first_party'].astype(int)"
   ]
  },
  {
   "cell_type": "code",
   "execution_count": 189,
   "id": "aa135ecb",
   "metadata": {
    "scrolled": true
   },
   "outputs": [
    {
     "name": "stdout",
     "output_type": "stream",
     "text": [
      "(1734, 768) (744, 768) (1734,) (744,)\n"
     ]
    }
   ],
   "source": [
    "print(X_train.shape, X_val.shape, y_train.shape, y_val.shape)"
   ]
  },
  {
   "cell_type": "code",
   "execution_count": 190,
   "id": "6d272285",
   "metadata": {
    "scrolled": true
   },
   "outputs": [
    {
     "name": "stdout",
     "output_type": "stream",
     "text": [
      "                 0         1         2         3         4         5    \\\n",
      "ID                                                                       \n",
      "TRAIN_1490 -0.048583  0.017428  0.041742 -0.004135  0.027642 -0.010154   \n",
      "TRAIN_0552 -0.039892  0.016475  0.034347  0.014294  0.037033 -0.017109   \n",
      "TRAIN_0087 -0.027427  0.031979  0.010358 -0.011227  0.027284 -0.006320   \n",
      "TRAIN_0690 -0.030769  0.015130  0.028391  0.004179  0.020853  0.002137   \n",
      "TRAIN_1929 -0.033910  0.023402  0.033990  0.003569  0.025818 -0.019636   \n",
      "...              ...       ...       ...       ...       ...       ...   \n",
      "TRAIN_1638 -0.021466  0.022234  0.039807  0.012977  0.034737 -0.019180   \n",
      "TRAIN_1095 -0.032917  0.014242  0.021594 -0.005423  0.031188 -0.011909   \n",
      "TRAIN_1130 -0.025655  0.000746  0.030883  0.009022  0.036475 -0.032818   \n",
      "TRAIN_1294 -0.029932  0.021282  0.033949  0.004277  0.032167 -0.001339   \n",
      "TRAIN_0860 -0.002219  0.007421  0.034606 -0.015948  0.037497  0.002776   \n",
      "\n",
      "                 6         7         8         9    ...       758       759  \\\n",
      "ID                                                  ...                       \n",
      "TRAIN_1490  0.026569 -0.000673  0.000352 -0.043007  ... -0.019504 -0.015370   \n",
      "TRAIN_0552  0.018380  0.010486 -0.013630 -0.036601  ... -0.021515 -0.026682   \n",
      "TRAIN_0087  0.035996  0.018723 -0.003411 -0.035467  ... -0.019501 -0.010531   \n",
      "TRAIN_0690  0.030743  0.025925 -0.011226 -0.016376  ... -0.032919 -0.017364   \n",
      "TRAIN_1929  0.030564  0.018069  0.005059 -0.042594  ...  0.001237 -0.008808   \n",
      "...              ...       ...       ...       ...  ...       ...       ...   \n",
      "TRAIN_1638  0.029937  0.007597  0.004374 -0.043364  ... -0.018617 -0.013498   \n",
      "TRAIN_1095  0.018580  0.008501 -0.005990 -0.032236  ... -0.012179 -0.015536   \n",
      "TRAIN_1130  0.029572  0.029450 -0.011258 -0.029531  ... -0.035859  0.001839   \n",
      "TRAIN_1294  0.024010  0.004280 -0.007561 -0.031751  ... -0.021352 -0.016065   \n",
      "TRAIN_0860  0.022329  0.011155 -0.009642 -0.052607  ... -0.018746 -0.013261   \n",
      "\n",
      "                 760       761       762       763       764       765  \\\n",
      "ID                                                                       \n",
      "TRAIN_1490 -0.009833  0.020425 -0.001772 -0.036891 -0.066851 -0.010201   \n",
      "TRAIN_0552 -0.009178  0.016706  0.010256 -0.026148 -0.066513 -0.007912   \n",
      "TRAIN_0087 -0.039781  0.005964 -0.009015 -0.002959 -0.046610 -0.017515   \n",
      "TRAIN_0690 -0.027363  0.015214 -0.010142 -0.010874 -0.031212 -0.015126   \n",
      "TRAIN_1929 -0.012246  0.015645  0.015446 -0.018673 -0.054587 -0.018898   \n",
      "...              ...       ...       ...       ...       ...       ...   \n",
      "TRAIN_1638 -0.016622  0.032806  0.015552 -0.028809 -0.055512 -0.000483   \n",
      "TRAIN_1095  0.002860  0.020607  0.009740 -0.027615 -0.062541 -0.022267   \n",
      "TRAIN_1130 -0.013105  0.015411 -0.009077 -0.000819 -0.046471 -0.036659   \n",
      "TRAIN_1294 -0.009118  0.015054  0.014627 -0.019267 -0.062650  0.008589   \n",
      "TRAIN_0860 -0.029519  0.017344  0.024495 -0.009730 -0.068165 -0.008551   \n",
      "\n",
      "                 766       767  \n",
      "ID                              \n",
      "TRAIN_1490  0.015107 -0.002468  \n",
      "TRAIN_0552 -0.001534 -0.021815  \n",
      "TRAIN_0087  0.010147 -0.001312  \n",
      "TRAIN_0690  0.027593 -0.007868  \n",
      "TRAIN_1929  0.000039 -0.003336  \n",
      "...              ...       ...  \n",
      "TRAIN_1638  0.011705  0.010480  \n",
      "TRAIN_1095 -0.006221  0.004086  \n",
      "TRAIN_1130  0.006766  0.001447  \n",
      "TRAIN_1294  0.013634 -0.002827  \n",
      "TRAIN_0860 -0.017201 -0.006710  \n",
      "\n",
      "[1734 rows x 768 columns]                  0         1         2         3         4         5    \\\n",
      "ID                                                                       \n",
      "TRAIN_1753 -0.008637  0.039079  0.036059 -0.009894  0.036015 -0.000104   \n",
      "TRAIN_0259 -0.008420  0.024638  0.012054 -0.000198  0.019544 -0.017937   \n",
      "TRAIN_2072 -0.032838  0.023179  0.016778  0.005018  0.009618 -0.002109   \n",
      "TRAIN_1000 -0.026717  0.019350  0.013175  0.009334  0.043298 -0.009285   \n",
      "TRAIN_0056 -0.031434  0.028884  0.004020 -0.008765  0.035878  0.005070   \n",
      "...              ...       ...       ...       ...       ...       ...   \n",
      "TRAIN_0591 -0.019607  0.037739  0.014382 -0.010201  0.037336 -0.002133   \n",
      "TRAIN_2415 -0.060967  0.012502  0.039206 -0.012430  0.027623 -0.007276   \n",
      "TRAIN_1446 -0.016834  0.018917  0.022860  0.003901  0.019966 -0.020240   \n",
      "TRAIN_1839 -0.040657  0.029172  0.013315  0.001364  0.014707 -0.001471   \n",
      "TRAIN_1975 -0.050166  0.022700  0.023352 -0.011817  0.025833 -0.003976   \n",
      "\n",
      "                 6         7         8         9    ...       758       759  \\\n",
      "ID                                                  ...                       \n",
      "TRAIN_1753  0.032461 -0.006665 -0.014535 -0.027719  ... -0.035130  0.006555   \n",
      "TRAIN_0259  0.021146  0.023049 -0.004333 -0.017592  ... -0.011679 -0.008363   \n",
      "TRAIN_2072  0.034223  0.002916  0.006688 -0.030002  ... -0.024958 -0.000730   \n",
      "TRAIN_1000  0.037421  0.030666 -0.013539 -0.051243  ... -0.019143 -0.014893   \n",
      "TRAIN_0056  0.037333  0.005614  0.008926 -0.035571  ... -0.018885 -0.009678   \n",
      "...              ...       ...       ...       ...  ...       ...       ...   \n",
      "TRAIN_0591  0.034891  0.005829  0.004906 -0.057319  ... -0.015872 -0.025970   \n",
      "TRAIN_2415  0.038459  0.013077 -0.027478 -0.008821  ... -0.021169  0.012283   \n",
      "TRAIN_1446  0.031076  0.028517  0.011526 -0.053182  ... -0.017195 -0.013809   \n",
      "TRAIN_1839  0.034041  0.012636 -0.027253 -0.032677  ... -0.031527 -0.011450   \n",
      "TRAIN_1975  0.055077  0.017094 -0.015268 -0.017982  ... -0.027179 -0.004288   \n",
      "\n",
      "                 760       761       762       763       764       765  \\\n",
      "ID                                                                       \n",
      "TRAIN_1753 -0.020006  0.001536  0.008151 -0.016318 -0.075685 -0.015686   \n",
      "TRAIN_0259 -0.025909  0.010482 -0.005675 -0.002428 -0.043917 -0.027897   \n",
      "TRAIN_2072 -0.015729  0.014745  0.004592 -0.023133 -0.036078 -0.020687   \n",
      "TRAIN_1000 -0.008514  0.016314 -0.001389 -0.007273 -0.045961 -0.020045   \n",
      "TRAIN_0056 -0.028301  0.015385  0.004613 -0.022204 -0.050845 -0.017997   \n",
      "...              ...       ...       ...       ...       ...       ...   \n",
      "TRAIN_0591 -0.025211  0.024962  0.008439 -0.010730 -0.059753 -0.022290   \n",
      "TRAIN_2415 -0.023595  0.013418 -0.009930  0.001757 -0.056248 -0.004068   \n",
      "TRAIN_1446 -0.014634  0.017540  0.009756 -0.031004 -0.036634 -0.020461   \n",
      "TRAIN_1839 -0.027966  0.008427 -0.001637 -0.013468 -0.048354 -0.016322   \n",
      "TRAIN_1975 -0.021321  0.014861 -0.003530 -0.017192 -0.066626 -0.023138   \n",
      "\n",
      "                 766       767  \n",
      "ID                              \n",
      "TRAIN_1753  0.001455 -0.011300  \n",
      "TRAIN_0259  0.016910  0.016409  \n",
      "TRAIN_2072  0.010751 -0.007260  \n",
      "TRAIN_1000  0.003891 -0.002028  \n",
      "TRAIN_0056  0.017628 -0.017459  \n",
      "...              ...       ...  \n",
      "TRAIN_0591  0.008957 -0.012354  \n",
      "TRAIN_2415  0.003817 -0.029492  \n",
      "TRAIN_1446  0.011114 -0.002321  \n",
      "TRAIN_1839  0.012817 -0.013352  \n",
      "TRAIN_1975  0.015774 -0.039940  \n",
      "\n",
      "[744 rows x 768 columns]\n"
     ]
    }
   ],
   "source": [
    "print(X_train, X_val)"
   ]
  },
  {
   "cell_type": "code",
   "execution_count": 153,
   "id": "7ac6cfcc",
   "metadata": {},
   "outputs": [],
   "source": [
    "y_train = y_train.rename('first_name')"
   ]
  },
  {
   "cell_type": "code",
   "execution_count": 154,
   "id": "2400a7cb",
   "metadata": {},
   "outputs": [],
   "source": [
    "y_val = y_val.rename('first_name')"
   ]
  },
  {
   "cell_type": "code",
   "execution_count": 191,
   "id": "c40cbf0f",
   "metadata": {},
   "outputs": [
    {
     "data": {
      "text/plain": [
       "ID\n",
       "TRAIN_1490    1028\n",
       "TRAIN_0552     635\n",
       "TRAIN_0087     908\n",
       "TRAIN_0690    1453\n",
       "TRAIN_1929     925\n",
       "              ... \n",
       "TRAIN_1638     251\n",
       "TRAIN_1095    1777\n",
       "TRAIN_1130     289\n",
       "TRAIN_1294      79\n",
       "TRAIN_0860     196\n",
       "Length: 1734, dtype: int64"
      ]
     },
     "execution_count": 191,
     "metadata": {},
     "output_type": "execute_result"
    }
   ],
   "source": [
    "y_train"
   ]
  },
  {
   "cell_type": "code",
   "execution_count": 192,
   "id": "54640ddb",
   "metadata": {},
   "outputs": [
    {
     "name": "stdout",
     "output_type": "stream",
     "text": [
      "<class 'pandas.core.series.Series'>\n",
      "Index: 744 entries, TRAIN_1753 to TRAIN_1975\n",
      "Series name: None\n",
      "Non-Null Count  Dtype\n",
      "--------------  -----\n",
      "744 non-null    int64\n",
      "dtypes: int64(1)\n",
      "memory usage: 11.6+ KB\n"
     ]
    }
   ],
   "source": [
    "y_val.info()"
   ]
  },
  {
   "cell_type": "code",
   "execution_count": 204,
   "id": "edda425b",
   "metadata": {},
   "outputs": [],
   "source": [
    "def xgb_objective(trial):\n",
    "    xgb_params = {\n",
    "        'objective': 'multi:softmax',\n",
    "        'num_class' : 1500,\n",
    "        'eval_metric': 'merror',\n",
    "        'booster': trial.suggest_categorical('booster', ['gbtree', 'dart']),\n",
    "        'nthread': trial.suggest_int('nthread', 1, 15),\n",
    "        'n_estimators' : trial.suggest_int('n_estimators', 25, 1000),\n",
    "        'max_depth': trial.suggest_int('max_depth', 4, 15),\n",
    "        'subsample': trial.suggest_uniform('subsample', 0.1, 0.3),\n",
    "        'learning_rate': trial.suggest_loguniform('learning_rate', 0.01, 0.5),\n",
    "        'colsample_bytree': trial.suggest_uniform('colsample_bytree', 0.5, 0.7),\n",
    "        'lambda': trial.suggest_loguniform('lambda', 0.2, 200),\n",
    "        'random_state': 42,\n",
    "        'min_child_weight': trial.suggest_int('min_child_weight', 1, 3)\n",
    "    }\n",
    "    \n",
    "    X_train_np = X_train.to_numpy()\n",
    "    y_train_np = y_train.to_numpy()\n",
    "    \n",
    "    X_train_np, X_val_np, y_train_np, y_val_np = train_test_split(\n",
    "    X_train_np, y_train_np, test_size=0.2, random_state=42)\n",
    "    \n",
    "    dtrain = xgb.DMatrix(X_train_np, label=y_train_np)\n",
    "    dval = xgb.DMatrix(X_val_np, label = y_val_np)\n",
    "    \n",
    "    evallist = [(dval, 'eval')]\n",
    "    \n",
    "    \n",
    "    xgb_model = xgb.train(\n",
    "        xgb_params,\n",
    "        dtrain,\n",
    "        evals=evallist,\n",
    "        verbose_eval=False,\n",
    "        early_stopping_rounds=10,\n",
    "    )\n",
    "    \n",
    "    xgb_preds = xgb_model.predict(dval)\n",
    "    accuracy = 1.0 - accuracy_score(y_val_np, xgb_preds)\n",
    "    \n",
    "    return accuracy\n"
   ]
  },
  {
   "cell_type": "markdown",
   "id": "f3a27bc2",
   "metadata": {},
   "source": [
    "def lgb_objective(trial):\n",
    "    lgb_params = {\n",
    "        'application': 'binary',\n",
    "        'max_depth': -1,\n",
    "        'metric': 'accuracy',\n",
    "        'boosting_type': trial.suggest_categorical('boosting_type', ['gbdt',  'dart']),\n",
    "        'num_leaves': trial.suggest_int('num_leaves', 10, 2000),\n",
    "        'n_estimators' : trial.suggest_int('n_estimators', 1, 500),\n",
    "        'num_iteration': 500,\n",
    "        'n_jobs': -1,\n",
    "        'learning_rate': trial.suggest_float('learning_rate', 0.05, 0.1),\n",
    "        'feature_fraction': trial.suggest_uniform('feature_fraction', 0.7, 0.9),\n",
    "        'bagging_fraction': trial.suggest_uniform('bagging_fraction', 0.1, 0.8),\n",
    "        'bagging_freq' : trial.suggest_int('bagging_freq', 1, 500),\n",
    "        'random_state': 42\n",
    "                                           }\n",
    "    \n",
    "    lgb_model = lgb.LGBMClassifier(**lgb_params)\n",
    "    lgb_model.fit(X_train, y_train)\n",
    "    lgb_preds = lgb_model.predict(X_val)\n",
    "    \n",
    "    return accuracy_score(y_val, lgb_preds)\n"
   ]
  },
  {
   "cell_type": "markdown",
   "id": "8c6c81a6",
   "metadata": {},
   "source": [
    "def cat_objective(trial):\n",
    "    params = {\n",
    "            'loss_function': 'Logloss',\n",
    "            'learning_rate': learning_rate,\n",
    "            'depth': trial.suggest_int('depth', 3, 10),\n",
    "            'random_state': 42\n",
    "        }\n",
    "\n",
    "\n",
    "    model = cat.CatBoostClassifier(**params)\n",
    "    model.fit(X_train, y_train)\n",
    "    pred = model.predict(X_val)\n",
    "    \n",
    "    return accuracy_score(y_val, pred)"
   ]
  },
  {
   "cell_type": "code",
   "execution_count": 194,
   "id": "2227a07f",
   "metadata": {},
   "outputs": [
    {
     "data": {
      "text/plain": [
       "(ID\n",
       " TRAIN_1490    1028\n",
       " TRAIN_0552     635\n",
       " TRAIN_0087     908\n",
       " TRAIN_0690    1453\n",
       " TRAIN_1929     925\n",
       "               ... \n",
       " TRAIN_1638     251\n",
       " TRAIN_1095    1777\n",
       " TRAIN_1130     289\n",
       " TRAIN_1294      79\n",
       " TRAIN_0860     196\n",
       " Length: 1734, dtype: int64,\n",
       " ID\n",
       " TRAIN_1753     719\n",
       " TRAIN_0259     814\n",
       " TRAIN_2072     230\n",
       " TRAIN_1000    2085\n",
       " TRAIN_0056    1601\n",
       "               ... \n",
       " TRAIN_0591      73\n",
       " TRAIN_2415    1488\n",
       " TRAIN_1446     220\n",
       " TRAIN_1839     195\n",
       " TRAIN_1975    1940\n",
       " Length: 744, dtype: int64)"
      ]
     },
     "execution_count": 194,
     "metadata": {},
     "output_type": "execute_result"
    }
   ],
   "source": [
    "y_train, y_val"
   ]
  },
  {
   "cell_type": "code",
   "execution_count": 205,
   "id": "f59c40ae",
   "metadata": {},
   "outputs": [
    {
     "name": "stderr",
     "output_type": "stream",
     "text": [
      "[I 2023-06-12 23:57:55,034] A new study created in memory with name: no-name-e811a640-1ba0-4236-9aff-08364a04b518\n",
      "[W 2023-06-12 23:57:55,094] Trial 0 failed with parameters: {'booster': 'dart', 'nthread': 5, 'n_estimators': 824, 'max_depth': 12, 'subsample': 0.21932483628574134, 'learning_rate': 0.031631224227365605, 'colsample_bytree': 0.5965356605554805, 'lambda': 2.886113872543456, 'min_child_weight': 2} because of the following error: XGBoostError('[23:57:55] /Users/runner/work/xgboost/xgboost/python-package/build/temp.macosx-11.0-arm64-cpython-38/xgboost/src/objective/multiclass_obj.cu:123: SoftmaxMultiClassObj: label must be in [0, num_class).\\nStack trace:\\n  [bt] (0) 1   libxgboost.dylib                    0x0000000162dddbc8 dmlc::LogMessageFatal::~LogMessageFatal() + 124\\n  [bt] (1) 2   libxgboost.dylib                    0x0000000162f33f1c xgboost::obj::SoftmaxMultiClassObj::GetGradient(xgboost::HostDeviceVector<float> const&, xgboost::MetaInfo const&, int, xgboost::HostDeviceVector<xgboost::detail::GradientPairInternal<float>>*) + 844\\n  [bt] (2) 3   libxgboost.dylib                    0x0000000162ede6ac xgboost::LearnerImpl::UpdateOneIter(int, std::__1::shared_ptr<xgboost::DMatrix>) + 608\\n  [bt] (3) 4   libxgboost.dylib                    0x0000000162df7418 XGBoosterUpdateOneIter + 144\\n  [bt] (4) 5   libffi.8.dylib                      0x0000000104d2804c ffi_call_SYSV + 76\\n  [bt] (5) 6   libffi.8.dylib                      0x0000000104d257d4 ffi_call_int + 1336\\n  [bt] (6) 7   _ctypes.cpython-310-darwin.so       0x0000000104d0811c _ctypes_callproc + 944\\n  [bt] (7) 8   _ctypes.cpython-310-darwin.so       0x0000000104d023fc PyCFuncPtr_call + 228\\n  [bt] (8) 9   python3.10                          0x000000010455f350 _PyEval_EvalFrameDefault + 59104\\n\\n').\n",
      "Traceback (most recent call last):\n",
      "  File \"/opt/homebrew/Caskroom/miniconda/base/lib/python3.10/site-packages/optuna/study/_optimize.py\", line 200, in _run_trial\n",
      "    value_or_values = func(trial)\n",
      "  File \"/var/folders/0t/816d84452dn7h591gjkg32_m0000gn/T/ipykernel_20466/4270946722.py\", line 30, in xgb_objective\n",
      "    xgb_model = xgb.train(\n",
      "  File \"/opt/homebrew/Caskroom/miniconda/base/lib/python3.10/site-packages/xgboost/core.py\", line 620, in inner_f\n",
      "    return func(**kwargs)\n",
      "  File \"/opt/homebrew/Caskroom/miniconda/base/lib/python3.10/site-packages/xgboost/training.py\", line 185, in train\n",
      "    bst.update(dtrain, i, obj)\n",
      "  File \"/opt/homebrew/Caskroom/miniconda/base/lib/python3.10/site-packages/xgboost/core.py\", line 1918, in update\n",
      "    _check_call(_LIB.XGBoosterUpdateOneIter(self.handle,\n",
      "  File \"/opt/homebrew/Caskroom/miniconda/base/lib/python3.10/site-packages/xgboost/core.py\", line 279, in _check_call\n",
      "    raise XGBoostError(py_str(_LIB.XGBGetLastError()))\n",
      "xgboost.core.XGBoostError: [23:57:55] /Users/runner/work/xgboost/xgboost/python-package/build/temp.macosx-11.0-arm64-cpython-38/xgboost/src/objective/multiclass_obj.cu:123: SoftmaxMultiClassObj: label must be in [0, num_class).\n",
      "Stack trace:\n",
      "  [bt] (0) 1   libxgboost.dylib                    0x0000000162dddbc8 dmlc::LogMessageFatal::~LogMessageFatal() + 124\n",
      "  [bt] (1) 2   libxgboost.dylib                    0x0000000162f33f1c xgboost::obj::SoftmaxMultiClassObj::GetGradient(xgboost::HostDeviceVector<float> const&, xgboost::MetaInfo const&, int, xgboost::HostDeviceVector<xgboost::detail::GradientPairInternal<float>>*) + 844\n",
      "  [bt] (2) 3   libxgboost.dylib                    0x0000000162ede6ac xgboost::LearnerImpl::UpdateOneIter(int, std::__1::shared_ptr<xgboost::DMatrix>) + 608\n",
      "  [bt] (3) 4   libxgboost.dylib                    0x0000000162df7418 XGBoosterUpdateOneIter + 144\n",
      "  [bt] (4) 5   libffi.8.dylib                      0x0000000104d2804c ffi_call_SYSV + 76\n",
      "  [bt] (5) 6   libffi.8.dylib                      0x0000000104d257d4 ffi_call_int + 1336\n",
      "  [bt] (6) 7   _ctypes.cpython-310-darwin.so       0x0000000104d0811c _ctypes_callproc + 944\n",
      "  [bt] (7) 8   _ctypes.cpython-310-darwin.so       0x0000000104d023fc PyCFuncPtr_call + 228\n",
      "  [bt] (8) 9   python3.10                          0x000000010455f350 _PyEval_EvalFrameDefault + 59104\n",
      "\n",
      "\n",
      "[W 2023-06-12 23:57:55,095] Trial 0 failed with value None.\n"
     ]
    },
    {
     "name": "stdout",
     "output_type": "stream",
     "text": [
      "[23:57:55] WARNING: /Users/runner/work/xgboost/xgboost/python-package/build/temp.macosx-11.0-arm64-cpython-38/xgboost/src/learner.cc:767: \n",
      "Parameters: { \"n_estimators\" } are not used.\n",
      "\n"
     ]
    },
    {
     "ename": "XGBoostError",
     "evalue": "[23:57:55] /Users/runner/work/xgboost/xgboost/python-package/build/temp.macosx-11.0-arm64-cpython-38/xgboost/src/objective/multiclass_obj.cu:123: SoftmaxMultiClassObj: label must be in [0, num_class).\nStack trace:\n  [bt] (0) 1   libxgboost.dylib                    0x0000000162dddbc8 dmlc::LogMessageFatal::~LogMessageFatal() + 124\n  [bt] (1) 2   libxgboost.dylib                    0x0000000162f33f1c xgboost::obj::SoftmaxMultiClassObj::GetGradient(xgboost::HostDeviceVector<float> const&, xgboost::MetaInfo const&, int, xgboost::HostDeviceVector<xgboost::detail::GradientPairInternal<float>>*) + 844\n  [bt] (2) 3   libxgboost.dylib                    0x0000000162ede6ac xgboost::LearnerImpl::UpdateOneIter(int, std::__1::shared_ptr<xgboost::DMatrix>) + 608\n  [bt] (3) 4   libxgboost.dylib                    0x0000000162df7418 XGBoosterUpdateOneIter + 144\n  [bt] (4) 5   libffi.8.dylib                      0x0000000104d2804c ffi_call_SYSV + 76\n  [bt] (5) 6   libffi.8.dylib                      0x0000000104d257d4 ffi_call_int + 1336\n  [bt] (6) 7   _ctypes.cpython-310-darwin.so       0x0000000104d0811c _ctypes_callproc + 944\n  [bt] (7) 8   _ctypes.cpython-310-darwin.so       0x0000000104d023fc PyCFuncPtr_call + 228\n  [bt] (8) 9   python3.10                          0x000000010455f350 _PyEval_EvalFrameDefault + 59104\n\n",
     "output_type": "error",
     "traceback": [
      "\u001b[0;31m---------------------------------------------------------------------------\u001b[0m",
      "\u001b[0;31mXGBoostError\u001b[0m                              Traceback (most recent call last)",
      "Cell \u001b[0;32mIn[205], line 2\u001b[0m\n\u001b[1;32m      1\u001b[0m study \u001b[38;5;241m=\u001b[39m optuna\u001b[38;5;241m.\u001b[39mcreate_study(direction\u001b[38;5;241m=\u001b[39m\u001b[38;5;124m'\u001b[39m\u001b[38;5;124mminimize\u001b[39m\u001b[38;5;124m'\u001b[39m)\n\u001b[0;32m----> 2\u001b[0m \u001b[43mstudy\u001b[49m\u001b[38;5;241;43m.\u001b[39;49m\u001b[43moptimize\u001b[49m\u001b[43m(\u001b[49m\u001b[43mxgb_objective\u001b[49m\u001b[43m,\u001b[49m\u001b[43m \u001b[49m\u001b[43mn_trials\u001b[49m\u001b[38;5;241;43m=\u001b[39;49m\u001b[38;5;241;43m500\u001b[39;49m\u001b[43m)\u001b[49m\n",
      "File \u001b[0;32m/opt/homebrew/Caskroom/miniconda/base/lib/python3.10/site-packages/optuna/study/study.py:443\u001b[0m, in \u001b[0;36mStudy.optimize\u001b[0;34m(self, func, n_trials, timeout, n_jobs, catch, callbacks, gc_after_trial, show_progress_bar)\u001b[0m\n\u001b[1;32m    339\u001b[0m \u001b[38;5;28;01mdef\u001b[39;00m \u001b[38;5;21moptimize\u001b[39m(\n\u001b[1;32m    340\u001b[0m     \u001b[38;5;28mself\u001b[39m,\n\u001b[1;32m    341\u001b[0m     func: ObjectiveFuncType,\n\u001b[0;32m   (...)\u001b[0m\n\u001b[1;32m    348\u001b[0m     show_progress_bar: \u001b[38;5;28mbool\u001b[39m \u001b[38;5;241m=\u001b[39m \u001b[38;5;28;01mFalse\u001b[39;00m,\n\u001b[1;32m    349\u001b[0m ) \u001b[38;5;241m-\u001b[39m\u001b[38;5;241m>\u001b[39m \u001b[38;5;28;01mNone\u001b[39;00m:\n\u001b[1;32m    350\u001b[0m     \u001b[38;5;124;03m\"\"\"Optimize an objective function.\u001b[39;00m\n\u001b[1;32m    351\u001b[0m \n\u001b[1;32m    352\u001b[0m \u001b[38;5;124;03m    Optimization is done by choosing a suitable set of hyperparameter values from a given\u001b[39;00m\n\u001b[0;32m   (...)\u001b[0m\n\u001b[1;32m    440\u001b[0m \u001b[38;5;124;03m            If nested invocation of this method occurs.\u001b[39;00m\n\u001b[1;32m    441\u001b[0m \u001b[38;5;124;03m    \"\"\"\u001b[39;00m\n\u001b[0;32m--> 443\u001b[0m     \u001b[43m_optimize\u001b[49m\u001b[43m(\u001b[49m\n\u001b[1;32m    444\u001b[0m \u001b[43m        \u001b[49m\u001b[43mstudy\u001b[49m\u001b[38;5;241;43m=\u001b[39;49m\u001b[38;5;28;43mself\u001b[39;49m\u001b[43m,\u001b[49m\n\u001b[1;32m    445\u001b[0m \u001b[43m        \u001b[49m\u001b[43mfunc\u001b[49m\u001b[38;5;241;43m=\u001b[39;49m\u001b[43mfunc\u001b[49m\u001b[43m,\u001b[49m\n\u001b[1;32m    446\u001b[0m \u001b[43m        \u001b[49m\u001b[43mn_trials\u001b[49m\u001b[38;5;241;43m=\u001b[39;49m\u001b[43mn_trials\u001b[49m\u001b[43m,\u001b[49m\n\u001b[1;32m    447\u001b[0m \u001b[43m        \u001b[49m\u001b[43mtimeout\u001b[49m\u001b[38;5;241;43m=\u001b[39;49m\u001b[43mtimeout\u001b[49m\u001b[43m,\u001b[49m\n\u001b[1;32m    448\u001b[0m \u001b[43m        \u001b[49m\u001b[43mn_jobs\u001b[49m\u001b[38;5;241;43m=\u001b[39;49m\u001b[43mn_jobs\u001b[49m\u001b[43m,\u001b[49m\n\u001b[1;32m    449\u001b[0m \u001b[43m        \u001b[49m\u001b[43mcatch\u001b[49m\u001b[38;5;241;43m=\u001b[39;49m\u001b[38;5;28;43mtuple\u001b[39;49m\u001b[43m(\u001b[49m\u001b[43mcatch\u001b[49m\u001b[43m)\u001b[49m\u001b[43m \u001b[49m\u001b[38;5;28;43;01mif\u001b[39;49;00m\u001b[43m \u001b[49m\u001b[38;5;28;43misinstance\u001b[39;49m\u001b[43m(\u001b[49m\u001b[43mcatch\u001b[49m\u001b[43m,\u001b[49m\u001b[43m \u001b[49m\u001b[43mIterable\u001b[49m\u001b[43m)\u001b[49m\u001b[43m \u001b[49m\u001b[38;5;28;43;01melse\u001b[39;49;00m\u001b[43m \u001b[49m\u001b[43m(\u001b[49m\u001b[43mcatch\u001b[49m\u001b[43m,\u001b[49m\u001b[43m)\u001b[49m\u001b[43m,\u001b[49m\n\u001b[1;32m    450\u001b[0m \u001b[43m        \u001b[49m\u001b[43mcallbacks\u001b[49m\u001b[38;5;241;43m=\u001b[39;49m\u001b[43mcallbacks\u001b[49m\u001b[43m,\u001b[49m\n\u001b[1;32m    451\u001b[0m \u001b[43m        \u001b[49m\u001b[43mgc_after_trial\u001b[49m\u001b[38;5;241;43m=\u001b[39;49m\u001b[43mgc_after_trial\u001b[49m\u001b[43m,\u001b[49m\n\u001b[1;32m    452\u001b[0m \u001b[43m        \u001b[49m\u001b[43mshow_progress_bar\u001b[49m\u001b[38;5;241;43m=\u001b[39;49m\u001b[43mshow_progress_bar\u001b[49m\u001b[43m,\u001b[49m\n\u001b[1;32m    453\u001b[0m \u001b[43m    \u001b[49m\u001b[43m)\u001b[49m\n",
      "File \u001b[0;32m/opt/homebrew/Caskroom/miniconda/base/lib/python3.10/site-packages/optuna/study/_optimize.py:66\u001b[0m, in \u001b[0;36m_optimize\u001b[0;34m(study, func, n_trials, timeout, n_jobs, catch, callbacks, gc_after_trial, show_progress_bar)\u001b[0m\n\u001b[1;32m     64\u001b[0m \u001b[38;5;28;01mtry\u001b[39;00m:\n\u001b[1;32m     65\u001b[0m     \u001b[38;5;28;01mif\u001b[39;00m n_jobs \u001b[38;5;241m==\u001b[39m \u001b[38;5;241m1\u001b[39m:\n\u001b[0;32m---> 66\u001b[0m         \u001b[43m_optimize_sequential\u001b[49m\u001b[43m(\u001b[49m\n\u001b[1;32m     67\u001b[0m \u001b[43m            \u001b[49m\u001b[43mstudy\u001b[49m\u001b[43m,\u001b[49m\n\u001b[1;32m     68\u001b[0m \u001b[43m            \u001b[49m\u001b[43mfunc\u001b[49m\u001b[43m,\u001b[49m\n\u001b[1;32m     69\u001b[0m \u001b[43m            \u001b[49m\u001b[43mn_trials\u001b[49m\u001b[43m,\u001b[49m\n\u001b[1;32m     70\u001b[0m \u001b[43m            \u001b[49m\u001b[43mtimeout\u001b[49m\u001b[43m,\u001b[49m\n\u001b[1;32m     71\u001b[0m \u001b[43m            \u001b[49m\u001b[43mcatch\u001b[49m\u001b[43m,\u001b[49m\n\u001b[1;32m     72\u001b[0m \u001b[43m            \u001b[49m\u001b[43mcallbacks\u001b[49m\u001b[43m,\u001b[49m\n\u001b[1;32m     73\u001b[0m \u001b[43m            \u001b[49m\u001b[43mgc_after_trial\u001b[49m\u001b[43m,\u001b[49m\n\u001b[1;32m     74\u001b[0m \u001b[43m            \u001b[49m\u001b[43mreseed_sampler_rng\u001b[49m\u001b[38;5;241;43m=\u001b[39;49m\u001b[38;5;28;43;01mFalse\u001b[39;49;00m\u001b[43m,\u001b[49m\n\u001b[1;32m     75\u001b[0m \u001b[43m            \u001b[49m\u001b[43mtime_start\u001b[49m\u001b[38;5;241;43m=\u001b[39;49m\u001b[38;5;28;43;01mNone\u001b[39;49;00m\u001b[43m,\u001b[49m\n\u001b[1;32m     76\u001b[0m \u001b[43m            \u001b[49m\u001b[43mprogress_bar\u001b[49m\u001b[38;5;241;43m=\u001b[39;49m\u001b[43mprogress_bar\u001b[49m\u001b[43m,\u001b[49m\n\u001b[1;32m     77\u001b[0m \u001b[43m        \u001b[49m\u001b[43m)\u001b[49m\n\u001b[1;32m     78\u001b[0m     \u001b[38;5;28;01melse\u001b[39;00m:\n\u001b[1;32m     79\u001b[0m         \u001b[38;5;28;01mif\u001b[39;00m n_jobs \u001b[38;5;241m==\u001b[39m \u001b[38;5;241m-\u001b[39m\u001b[38;5;241m1\u001b[39m:\n",
      "File \u001b[0;32m/opt/homebrew/Caskroom/miniconda/base/lib/python3.10/site-packages/optuna/study/_optimize.py:163\u001b[0m, in \u001b[0;36m_optimize_sequential\u001b[0;34m(study, func, n_trials, timeout, catch, callbacks, gc_after_trial, reseed_sampler_rng, time_start, progress_bar)\u001b[0m\n\u001b[1;32m    160\u001b[0m         \u001b[38;5;28;01mbreak\u001b[39;00m\n\u001b[1;32m    162\u001b[0m \u001b[38;5;28;01mtry\u001b[39;00m:\n\u001b[0;32m--> 163\u001b[0m     frozen_trial \u001b[38;5;241m=\u001b[39m \u001b[43m_run_trial\u001b[49m\u001b[43m(\u001b[49m\u001b[43mstudy\u001b[49m\u001b[43m,\u001b[49m\u001b[43m \u001b[49m\u001b[43mfunc\u001b[49m\u001b[43m,\u001b[49m\u001b[43m \u001b[49m\u001b[43mcatch\u001b[49m\u001b[43m)\u001b[49m\n\u001b[1;32m    164\u001b[0m \u001b[38;5;28;01mfinally\u001b[39;00m:\n\u001b[1;32m    165\u001b[0m     \u001b[38;5;66;03m# The following line mitigates memory problems that can be occurred in some\u001b[39;00m\n\u001b[1;32m    166\u001b[0m     \u001b[38;5;66;03m# environments (e.g., services that use computing containers such as GitHub Actions).\u001b[39;00m\n\u001b[1;32m    167\u001b[0m     \u001b[38;5;66;03m# Please refer to the following PR for further details:\u001b[39;00m\n\u001b[1;32m    168\u001b[0m     \u001b[38;5;66;03m# https://github.com/optuna/optuna/pull/325.\u001b[39;00m\n\u001b[1;32m    169\u001b[0m     \u001b[38;5;28;01mif\u001b[39;00m gc_after_trial:\n",
      "File \u001b[0;32m/opt/homebrew/Caskroom/miniconda/base/lib/python3.10/site-packages/optuna/study/_optimize.py:251\u001b[0m, in \u001b[0;36m_run_trial\u001b[0;34m(study, func, catch)\u001b[0m\n\u001b[1;32m    244\u001b[0m         \u001b[38;5;28;01massert\u001b[39;00m \u001b[38;5;28;01mFalse\u001b[39;00m, \u001b[38;5;124m\"\u001b[39m\u001b[38;5;124mShould not reach.\u001b[39m\u001b[38;5;124m\"\u001b[39m\n\u001b[1;32m    246\u001b[0m \u001b[38;5;28;01mif\u001b[39;00m (\n\u001b[1;32m    247\u001b[0m     frozen_trial\u001b[38;5;241m.\u001b[39mstate \u001b[38;5;241m==\u001b[39m TrialState\u001b[38;5;241m.\u001b[39mFAIL\n\u001b[1;32m    248\u001b[0m     \u001b[38;5;129;01mand\u001b[39;00m func_err \u001b[38;5;129;01mis\u001b[39;00m \u001b[38;5;129;01mnot\u001b[39;00m \u001b[38;5;28;01mNone\u001b[39;00m\n\u001b[1;32m    249\u001b[0m     \u001b[38;5;129;01mand\u001b[39;00m \u001b[38;5;129;01mnot\u001b[39;00m \u001b[38;5;28misinstance\u001b[39m(func_err, catch)\n\u001b[1;32m    250\u001b[0m ):\n\u001b[0;32m--> 251\u001b[0m     \u001b[38;5;28;01mraise\u001b[39;00m func_err\n\u001b[1;32m    252\u001b[0m \u001b[38;5;28;01mreturn\u001b[39;00m frozen_trial\n",
      "File \u001b[0;32m/opt/homebrew/Caskroom/miniconda/base/lib/python3.10/site-packages/optuna/study/_optimize.py:200\u001b[0m, in \u001b[0;36m_run_trial\u001b[0;34m(study, func, catch)\u001b[0m\n\u001b[1;32m    198\u001b[0m \u001b[38;5;28;01mwith\u001b[39;00m get_heartbeat_thread(trial\u001b[38;5;241m.\u001b[39m_trial_id, study\u001b[38;5;241m.\u001b[39m_storage):\n\u001b[1;32m    199\u001b[0m     \u001b[38;5;28;01mtry\u001b[39;00m:\n\u001b[0;32m--> 200\u001b[0m         value_or_values \u001b[38;5;241m=\u001b[39m \u001b[43mfunc\u001b[49m\u001b[43m(\u001b[49m\u001b[43mtrial\u001b[49m\u001b[43m)\u001b[49m\n\u001b[1;32m    201\u001b[0m     \u001b[38;5;28;01mexcept\u001b[39;00m exceptions\u001b[38;5;241m.\u001b[39mTrialPruned \u001b[38;5;28;01mas\u001b[39;00m e:\n\u001b[1;32m    202\u001b[0m         \u001b[38;5;66;03m# TODO(mamu): Handle multi-objective cases.\u001b[39;00m\n\u001b[1;32m    203\u001b[0m         state \u001b[38;5;241m=\u001b[39m TrialState\u001b[38;5;241m.\u001b[39mPRUNED\n",
      "Cell \u001b[0;32mIn[204], line 30\u001b[0m, in \u001b[0;36mxgb_objective\u001b[0;34m(trial)\u001b[0m\n\u001b[1;32m     25\u001b[0m dval \u001b[38;5;241m=\u001b[39m xgb\u001b[38;5;241m.\u001b[39mDMatrix(X_val_np, label \u001b[38;5;241m=\u001b[39m y_val_np)\n\u001b[1;32m     27\u001b[0m evallist \u001b[38;5;241m=\u001b[39m [(dval, \u001b[38;5;124m'\u001b[39m\u001b[38;5;124meval\u001b[39m\u001b[38;5;124m'\u001b[39m)]\n\u001b[0;32m---> 30\u001b[0m xgb_model \u001b[38;5;241m=\u001b[39m \u001b[43mxgb\u001b[49m\u001b[38;5;241;43m.\u001b[39;49m\u001b[43mtrain\u001b[49m\u001b[43m(\u001b[49m\n\u001b[1;32m     31\u001b[0m \u001b[43m    \u001b[49m\u001b[43mxgb_params\u001b[49m\u001b[43m,\u001b[49m\n\u001b[1;32m     32\u001b[0m \u001b[43m    \u001b[49m\u001b[43mdtrain\u001b[49m\u001b[43m,\u001b[49m\n\u001b[1;32m     33\u001b[0m \u001b[43m    \u001b[49m\u001b[43mevals\u001b[49m\u001b[38;5;241;43m=\u001b[39;49m\u001b[43mevallist\u001b[49m\u001b[43m,\u001b[49m\n\u001b[1;32m     34\u001b[0m \u001b[43m    \u001b[49m\u001b[43mverbose_eval\u001b[49m\u001b[38;5;241;43m=\u001b[39;49m\u001b[38;5;28;43;01mFalse\u001b[39;49;00m\u001b[43m,\u001b[49m\n\u001b[1;32m     35\u001b[0m \u001b[43m    \u001b[49m\u001b[43mearly_stopping_rounds\u001b[49m\u001b[38;5;241;43m=\u001b[39;49m\u001b[38;5;241;43m10\u001b[39;49m\u001b[43m,\u001b[49m\n\u001b[1;32m     36\u001b[0m \u001b[43m\u001b[49m\u001b[43m)\u001b[49m\n\u001b[1;32m     38\u001b[0m xgb_preds \u001b[38;5;241m=\u001b[39m xgb_model\u001b[38;5;241m.\u001b[39mpredict(dval)\n\u001b[1;32m     39\u001b[0m accuracy \u001b[38;5;241m=\u001b[39m \u001b[38;5;241m1.0\u001b[39m \u001b[38;5;241m-\u001b[39m accuracy_score(y_val_np, xgb_preds)\n",
      "File \u001b[0;32m/opt/homebrew/Caskroom/miniconda/base/lib/python3.10/site-packages/xgboost/core.py:620\u001b[0m, in \u001b[0;36mrequire_keyword_args.<locals>.throw_if.<locals>.inner_f\u001b[0;34m(*args, **kwargs)\u001b[0m\n\u001b[1;32m    618\u001b[0m \u001b[38;5;28;01mfor\u001b[39;00m k, arg \u001b[38;5;129;01min\u001b[39;00m \u001b[38;5;28mzip\u001b[39m(sig\u001b[38;5;241m.\u001b[39mparameters, args):\n\u001b[1;32m    619\u001b[0m     kwargs[k] \u001b[38;5;241m=\u001b[39m arg\n\u001b[0;32m--> 620\u001b[0m \u001b[38;5;28;01mreturn\u001b[39;00m \u001b[43mfunc\u001b[49m\u001b[43m(\u001b[49m\u001b[38;5;241;43m*\u001b[39;49m\u001b[38;5;241;43m*\u001b[39;49m\u001b[43mkwargs\u001b[49m\u001b[43m)\u001b[49m\n",
      "File \u001b[0;32m/opt/homebrew/Caskroom/miniconda/base/lib/python3.10/site-packages/xgboost/training.py:185\u001b[0m, in \u001b[0;36mtrain\u001b[0;34m(params, dtrain, num_boost_round, evals, obj, feval, maximize, early_stopping_rounds, evals_result, verbose_eval, xgb_model, callbacks, custom_metric)\u001b[0m\n\u001b[1;32m    183\u001b[0m \u001b[38;5;28;01mif\u001b[39;00m cb_container\u001b[38;5;241m.\u001b[39mbefore_iteration(bst, i, dtrain, evals):\n\u001b[1;32m    184\u001b[0m     \u001b[38;5;28;01mbreak\u001b[39;00m\n\u001b[0;32m--> 185\u001b[0m \u001b[43mbst\u001b[49m\u001b[38;5;241;43m.\u001b[39;49m\u001b[43mupdate\u001b[49m\u001b[43m(\u001b[49m\u001b[43mdtrain\u001b[49m\u001b[43m,\u001b[49m\u001b[43m \u001b[49m\u001b[43mi\u001b[49m\u001b[43m,\u001b[49m\u001b[43m \u001b[49m\u001b[43mobj\u001b[49m\u001b[43m)\u001b[49m\n\u001b[1;32m    186\u001b[0m \u001b[38;5;28;01mif\u001b[39;00m cb_container\u001b[38;5;241m.\u001b[39mafter_iteration(bst, i, dtrain, evals):\n\u001b[1;32m    187\u001b[0m     \u001b[38;5;28;01mbreak\u001b[39;00m\n",
      "File \u001b[0;32m/opt/homebrew/Caskroom/miniconda/base/lib/python3.10/site-packages/xgboost/core.py:1918\u001b[0m, in \u001b[0;36mBooster.update\u001b[0;34m(self, dtrain, iteration, fobj)\u001b[0m\n\u001b[1;32m   1915\u001b[0m \u001b[38;5;28mself\u001b[39m\u001b[38;5;241m.\u001b[39m_validate_dmatrix_features(dtrain)\n\u001b[1;32m   1917\u001b[0m \u001b[38;5;28;01mif\u001b[39;00m fobj \u001b[38;5;129;01mis\u001b[39;00m \u001b[38;5;28;01mNone\u001b[39;00m:\n\u001b[0;32m-> 1918\u001b[0m     \u001b[43m_check_call\u001b[49m\u001b[43m(\u001b[49m\u001b[43m_LIB\u001b[49m\u001b[38;5;241;43m.\u001b[39;49m\u001b[43mXGBoosterUpdateOneIter\u001b[49m\u001b[43m(\u001b[49m\u001b[38;5;28;43mself\u001b[39;49m\u001b[38;5;241;43m.\u001b[39;49m\u001b[43mhandle\u001b[49m\u001b[43m,\u001b[49m\n\u001b[1;32m   1919\u001b[0m \u001b[43m                                            \u001b[49m\u001b[43mctypes\u001b[49m\u001b[38;5;241;43m.\u001b[39;49m\u001b[43mc_int\u001b[49m\u001b[43m(\u001b[49m\u001b[43miteration\u001b[49m\u001b[43m)\u001b[49m\u001b[43m,\u001b[49m\n\u001b[1;32m   1920\u001b[0m \u001b[43m                                            \u001b[49m\u001b[43mdtrain\u001b[49m\u001b[38;5;241;43m.\u001b[39;49m\u001b[43mhandle\u001b[49m\u001b[43m)\u001b[49m\u001b[43m)\u001b[49m\n\u001b[1;32m   1921\u001b[0m \u001b[38;5;28;01melse\u001b[39;00m:\n\u001b[1;32m   1922\u001b[0m     pred \u001b[38;5;241m=\u001b[39m \u001b[38;5;28mself\u001b[39m\u001b[38;5;241m.\u001b[39mpredict(dtrain, output_margin\u001b[38;5;241m=\u001b[39m\u001b[38;5;28;01mTrue\u001b[39;00m, training\u001b[38;5;241m=\u001b[39m\u001b[38;5;28;01mTrue\u001b[39;00m)\n",
      "File \u001b[0;32m/opt/homebrew/Caskroom/miniconda/base/lib/python3.10/site-packages/xgboost/core.py:279\u001b[0m, in \u001b[0;36m_check_call\u001b[0;34m(ret)\u001b[0m\n\u001b[1;32m    268\u001b[0m \u001b[38;5;124;03m\"\"\"Check the return value of C API call\u001b[39;00m\n\u001b[1;32m    269\u001b[0m \n\u001b[1;32m    270\u001b[0m \u001b[38;5;124;03mThis function will raise exception when error occurs.\u001b[39;00m\n\u001b[0;32m   (...)\u001b[0m\n\u001b[1;32m    276\u001b[0m \u001b[38;5;124;03m    return value from API calls\u001b[39;00m\n\u001b[1;32m    277\u001b[0m \u001b[38;5;124;03m\"\"\"\u001b[39;00m\n\u001b[1;32m    278\u001b[0m \u001b[38;5;28;01mif\u001b[39;00m ret \u001b[38;5;241m!=\u001b[39m \u001b[38;5;241m0\u001b[39m:\n\u001b[0;32m--> 279\u001b[0m     \u001b[38;5;28;01mraise\u001b[39;00m XGBoostError(py_str(_LIB\u001b[38;5;241m.\u001b[39mXGBGetLastError()))\n",
      "\u001b[0;31mXGBoostError\u001b[0m: [23:57:55] /Users/runner/work/xgboost/xgboost/python-package/build/temp.macosx-11.0-arm64-cpython-38/xgboost/src/objective/multiclass_obj.cu:123: SoftmaxMultiClassObj: label must be in [0, num_class).\nStack trace:\n  [bt] (0) 1   libxgboost.dylib                    0x0000000162dddbc8 dmlc::LogMessageFatal::~LogMessageFatal() + 124\n  [bt] (1) 2   libxgboost.dylib                    0x0000000162f33f1c xgboost::obj::SoftmaxMultiClassObj::GetGradient(xgboost::HostDeviceVector<float> const&, xgboost::MetaInfo const&, int, xgboost::HostDeviceVector<xgboost::detail::GradientPairInternal<float>>*) + 844\n  [bt] (2) 3   libxgboost.dylib                    0x0000000162ede6ac xgboost::LearnerImpl::UpdateOneIter(int, std::__1::shared_ptr<xgboost::DMatrix>) + 608\n  [bt] (3) 4   libxgboost.dylib                    0x0000000162df7418 XGBoosterUpdateOneIter + 144\n  [bt] (4) 5   libffi.8.dylib                      0x0000000104d2804c ffi_call_SYSV + 76\n  [bt] (5) 6   libffi.8.dylib                      0x0000000104d257d4 ffi_call_int + 1336\n  [bt] (6) 7   _ctypes.cpython-310-darwin.so       0x0000000104d0811c _ctypes_callproc + 944\n  [bt] (7) 8   _ctypes.cpython-310-darwin.so       0x0000000104d023fc PyCFuncPtr_call + 228\n  [bt] (8) 9   python3.10                          0x000000010455f350 _PyEval_EvalFrameDefault + 59104\n\n"
     ]
    }
   ],
   "source": [
    "study = optuna.create_study(direction='minimize')\n",
    "study.optimize(xgb_objective, n_trials=500)"
   ]
  },
  {
   "cell_type": "markdown",
   "id": "85bdfd55",
   "metadata": {},
   "source": [
    "print('Number of finished XGB trials: {}'.format(len(xgb_study.trials)))\n",
    "print('XGB Best trial:')\n",
    "xgb_trial = xgb_study.best_trial\n",
    "\n",
    "print('  Value: {}'.format(xgb_trial.value))\n",
    "print('  Params: ')\n",
    "\n",
    "for key, value in xgb_trial.params.items():\n",
    "    print('    {}: {}'.format(key, value))"
   ]
  },
  {
   "cell_type": "code",
   "execution_count": null,
   "id": "27c5a429",
   "metadata": {},
   "outputs": [],
   "source": [
    "print('Number of finished study trials: {}'.format(len(study.trials)))\n",
    "print('study Best trial:')\n",
    "study_trial = study.best_trial\n",
    "\n",
    "print('  Value: {}'.format(study_trial.value))\n",
    "print('  Params: ')\n",
    "\n",
    "for key, value in study_trial.params.items():\n",
    "    print('    {}: {}'.format(key, value))\n"
   ]
  },
  {
   "cell_type": "code",
   "execution_count": null,
   "id": "fe29f5ba",
   "metadata": {},
   "outputs": [],
   "source": [
    "study_best_params = study.best_params\n",
    "study_best_params['random_state'] = 42\n",
    "# if study_best_params['model_type'] == 'lgbm':\n",
    "model = lgb.LGBMClassifier(**study_best_params)\n",
    "# elif study_best_params['model_type'] == 'xgb':\n",
    "#     model = xgb(**study_best_params)\n",
    "model.fit(X_train, y_train)\n"
   ]
  },
  {
   "cell_type": "code",
   "execution_count": null,
   "id": "d7b83ae9",
   "metadata": {},
   "outputs": [],
   "source": [
    "preds = model.predict(X_val)\n",
    "accuracy = accuracy_score(y_val, preds)"
   ]
  },
  {
   "cell_type": "markdown",
   "id": "f1b8cde3",
   "metadata": {},
   "source": [
    "XGB_pred = XGB.predict(X_val)\n",
    "accuracy = accuracy_score(y_val, XGB_pred)\n",
    "print(\"\\nAccuracy after tuning: %.2f%%\" % (accuracy * 100.0))"
   ]
  },
  {
   "cell_type": "code",
   "execution_count": null,
   "id": "b814de49",
   "metadata": {},
   "outputs": [],
   "source": [
    "print(f\"-- Best_Model: {study_best_params} --\")\n",
    "print(\"Train ACC : %.3f\" % accuracy_score(y_train, model.predict(X_train)))\n",
    "print(\"Val ACC : %.3f\" % accuracy_score(y_val, model.predict(X_val)))"
   ]
  },
  {
   "cell_type": "code",
   "execution_count": null,
   "id": "e6a05bd6",
   "metadata": {},
   "outputs": [],
   "source": [
    "print(classification_report(y_val, preds))\n"
   ]
  },
  {
   "cell_type": "code",
   "execution_count": null,
   "id": "e440ccae",
   "metadata": {
    "scrolled": true
   },
   "outputs": [],
   "source": [
    "X_test = pd.get_dummies(data=test_X)\n",
    "print(X_test)\n",
    "preds = model.predict(X_test)"
   ]
  },
  {
   "cell_type": "code",
   "execution_count": null,
   "id": "74283b81",
   "metadata": {},
   "outputs": [],
   "source": [
    "sample_submission = pd.read_csv('./sample_submission.csv')\n",
    "final_pred = pd.DataFrame(preds.astype(int))\n",
    "final_pred = final_pred.rename(columns={0:'first_party_winner'})"
   ]
  },
  {
   "cell_type": "code",
   "execution_count": null,
   "id": "6ee2e450",
   "metadata": {},
   "outputs": [],
   "source": [
    "final_pred"
   ]
  },
  {
   "cell_type": "code",
   "execution_count": null,
   "id": "b94333a9",
   "metadata": {},
   "outputs": [],
   "source": [
    "sample_submission['first_party_winner'] = final_pred['first_party_winner']"
   ]
  },
  {
   "cell_type": "code",
   "execution_count": null,
   "id": "981719b6",
   "metadata": {},
   "outputs": [],
   "source": [
    "sample_submission['first_party_winner'].value_counts()"
   ]
  },
  {
   "cell_type": "code",
   "execution_count": null,
   "id": "70fc5e8e",
   "metadata": {},
   "outputs": [],
   "source": []
  },
  {
   "cell_type": "code",
   "execution_count": null,
   "id": "c686c436",
   "metadata": {},
   "outputs": [],
   "source": []
  },
  {
   "cell_type": "code",
   "execution_count": null,
   "id": "a5781585",
   "metadata": {},
   "outputs": [],
   "source": []
  },
  {
   "cell_type": "code",
   "execution_count": null,
   "id": "d58c5a38",
   "metadata": {},
   "outputs": [],
   "source": [
    "sample_submission.to_csv(\"./results/{Model}_submission_{Train:.03f}_{Val:.03f}.csv\".format(Model='LGBM', Train=accuracy_score(y_train, model.predict(X_train)), Val = accuracy_score(y_val, model.predict(X_val))), index=False)\n"
   ]
  },
  {
   "cell_type": "code",
   "execution_count": null,
   "id": "55745403",
   "metadata": {},
   "outputs": [],
   "source": [
    "# XGB_submission = pd.read_csv('./sample_submission.csv')\n",
    "# XGB_pred = pd.DataFrame(XGB_pred.astype(int))\n",
    "# XGB_submission['first_party_winner'] = XGB_pred\n",
    "# XGB_submission.to_csv(\"./Bert_XGB_submission_{Train:.03f}_{Val:.03f}.csv\".format(Train=accuracy_score(y_train, XGB.predict(X_train)), Val = accuracy_score(y_val, XGB.predict(X_val))), index=False)"
   ]
  },
  {
   "cell_type": "code",
   "execution_count": null,
   "id": "9fc45434",
   "metadata": {},
   "outputs": [],
   "source": [
    "XGB_submission"
   ]
  },
  {
   "cell_type": "code",
   "execution_count": null,
   "id": "fa76b24c",
   "metadata": {},
   "outputs": [],
   "source": [
    "LGB_submission"
   ]
  },
  {
   "cell_type": "code",
   "execution_count": null,
   "id": "30d2bed7",
   "metadata": {},
   "outputs": [],
   "source": []
  },
  {
   "cell_type": "code",
   "execution_count": null,
   "id": "e6b1f0d8",
   "metadata": {},
   "outputs": [],
   "source": []
  },
  {
   "cell_type": "code",
   "execution_count": null,
   "id": "29adf1f1",
   "metadata": {},
   "outputs": [],
   "source": []
  },
  {
   "cell_type": "code",
   "execution_count": null,
   "id": "9880a93f",
   "metadata": {},
   "outputs": [],
   "source": [
    "param_xgb_gscv = {\n",
    "    'max_depth' : [i for i in range(1,3)],\n",
    "    'min_child_weight' : [i for i in range(1, 3)],\n",
    "    'n_estimators' : [i for i in range(1, 3)]\n",
    "}"
   ]
  },
  {
   "cell_type": "code",
   "execution_count": null,
   "id": "8ed1b40f",
   "metadata": {},
   "outputs": [],
   "source": [
    "param_lgb_gscv = {\n",
    "    'max_depth' : -1,\n",
    "    'learning_rate' : [i for i in np.arange(0, 1,0.0001)],\n",
    "    'num_leaves' : [i for i in range(1, 2000)],\n",
    "    'n_estimators' : [i for i in range(1, 3000)]\n",
    "}"
   ]
  },
  {
   "cell_type": "code",
   "execution_count": null,
   "id": "8a3dbb28",
   "metadata": {},
   "outputs": [],
   "source": [
    "xgb_classifier = XGBClassifier()"
   ]
  },
  {
   "cell_type": "code",
   "execution_count": null,
   "id": "cbd62a85",
   "metadata": {},
   "outputs": [],
   "source": [
    "gscv_xgb = GSCV(estimator = xgb_classifier, param_grid = param_xgb_gscv, scoring = 'accuracy', cv = StratifiedKFold(n_splits=2, shuffle=True, random_state=42), refit=True, n_jobs=2, return_train_score=True, verbose=10)\n"
   ]
  },
  {
   "cell_type": "code",
   "execution_count": null,
   "id": "3ddff47d",
   "metadata": {},
   "outputs": [],
   "source": [
    "gscv_xgb.fit(X_train, y_train)"
   ]
  },
  {
   "cell_type": "code",
   "execution_count": null,
   "id": "87267ac1",
   "metadata": {},
   "outputs": [],
   "source": [
    "print(\"=\"*30)\n",
    "print('XGB 파라미터: ', gscv_xgb.best_params_)\n",
    "print('XGB 예측 정확도: {:.4f}'.format(gscv_xgb.best_score_))"
   ]
  },
  {
   "cell_type": "code",
   "execution_count": null,
   "id": "1f9b3e81",
   "metadata": {},
   "outputs": [],
   "source": [
    "preds = gscv_xgb.predict(X_val)\n",
    "accuracy = accuracy_score(y_val, preds)"
   ]
  },
  {
   "cell_type": "code",
   "execution_count": null,
   "id": "e42e69f0",
   "metadata": {},
   "outputs": [],
   "source": [
    "print(\"-- Best_Model --\")\n",
    "print(\"Train ACC : %.3f\" % accuracy_score(y_train, gscv_xgb.predict(X_train)))\n",
    "print(\"Val ACC : %.3f\" % accuracy_score(y_val, gscv_xgb.predict(X_val)))"
   ]
  },
  {
   "cell_type": "code",
   "execution_count": null,
   "id": "b073653a",
   "metadata": {},
   "outputs": [],
   "source": [
    "print(classification_report(y_val, preds))\n"
   ]
  },
  {
   "cell_type": "code",
   "execution_count": null,
   "id": "67695acd",
   "metadata": {},
   "outputs": [],
   "source": [
    "X_test = pd.get_dummies(data=test_X)\n",
    "print(X_test)\n",
    "preds = gscv_xgb.predict(X_test)"
   ]
  },
  {
   "cell_type": "code",
   "execution_count": null,
   "id": "56f6a410",
   "metadata": {},
   "outputs": [],
   "source": [
    "sample_submission = pd.read_csv('./sample_submission.csv')\n",
    "final_pred = pd.DataFrame(preds.astype(int))\n",
    "final_pred = final_pred.rename(columns={0:'first_party_winner'})"
   ]
  },
  {
   "cell_type": "code",
   "execution_count": null,
   "id": "53560979",
   "metadata": {},
   "outputs": [],
   "source": [
    "final_pred"
   ]
  },
  {
   "cell_type": "code",
   "execution_count": null,
   "id": "bd428310",
   "metadata": {},
   "outputs": [],
   "source": [
    "sample_submission['first_party_winner'] = final_pred['first_party_winner']"
   ]
  },
  {
   "cell_type": "code",
   "execution_count": null,
   "id": "b193a8c5",
   "metadata": {},
   "outputs": [],
   "source": [
    "sample_submission['first_party_winner'].value_counts()"
   ]
  },
  {
   "cell_type": "code",
   "execution_count": null,
   "id": "60e36e38",
   "metadata": {},
   "outputs": [],
   "source": [
    "sample_submission.to_csv(\"./results/{Model}_submission_{Train:.03f}_{Val:.03f}.csv\".format(Model='XGB', Train=accuracy_score(y_train, model.predict(X_train)), Val = accuracy_score(y_val, model.predict(X_val))), index=False)\n"
   ]
  },
  {
   "cell_type": "code",
   "execution_count": null,
   "id": "066fa085",
   "metadata": {},
   "outputs": [],
   "source": []
  },
  {
   "cell_type": "code",
   "execution_count": null,
   "id": "77f9cfcb",
   "metadata": {},
   "outputs": [],
   "source": []
  },
  {
   "cell_type": "code",
   "execution_count": null,
   "id": "9a879847",
   "metadata": {},
   "outputs": [],
   "source": []
  },
  {
   "cell_type": "code",
   "execution_count": null,
   "id": "951c59e5",
   "metadata": {},
   "outputs": [],
   "source": []
  },
  {
   "cell_type": "code",
   "execution_count": null,
   "id": "01b99063",
   "metadata": {},
   "outputs": [],
   "source": []
  },
  {
   "cell_type": "code",
   "execution_count": null,
   "id": "d40ea9a1",
   "metadata": {},
   "outputs": [],
   "source": []
  },
  {
   "cell_type": "code",
   "execution_count": null,
   "id": "bd3fa2d2",
   "metadata": {},
   "outputs": [],
   "source": []
  },
  {
   "cell_type": "code",
   "execution_count": null,
   "id": "fe4cbbd3",
   "metadata": {},
   "outputs": [],
   "source": []
  },
  {
   "cell_type": "code",
   "execution_count": null,
   "id": "cf7c970b",
   "metadata": {},
   "outputs": [],
   "source": []
  },
  {
   "cell_type": "code",
   "execution_count": null,
   "id": "7d43e800",
   "metadata": {},
   "outputs": [],
   "source": []
  },
  {
   "cell_type": "code",
   "execution_count": null,
   "id": "453dbeb5",
   "metadata": {},
   "outputs": [],
   "source": []
  },
  {
   "cell_type": "code",
   "execution_count": null,
   "id": "970d2650",
   "metadata": {},
   "outputs": [],
   "source": [
    "# 3D to 2D\n",
    "\n",
    "attention_mask_df = dlc.tensor_2_2d(train_bert_tokenized, 0)\n",
    "input_ids_df = dlc.tensor_2_2d(train_bert_tokenized, 1)\n",
    "token_type_ids_df = dlc.tensor_2_2d(train_bert_tokenized, 2)\n",
    "\n",
    "attention_mask_df.info()\n",
    "print('\\n _______________________________ \\n')\n",
    "input_ids_df.info()\n",
    "print('\\n _______________________________ \\n')\n",
    "token_type_ids_df.info()\n"
   ]
  },
  {
   "cell_type": "code",
   "execution_count": null,
   "id": "0b4903d3",
   "metadata": {},
   "outputs": [],
   "source": [
    "# attention_mask_df.info()\n",
    "attention_mask_df\n",
    "# input_ids_df.info()\n",
    "# input_ids_df\n",
    "# token_type_ids_df.info()\n",
    "# token_type_ids_df\n"
   ]
  },
  {
   "cell_type": "code",
   "execution_count": null,
   "id": "adae125e",
   "metadata": {
    "scrolled": true
   },
   "outputs": [],
   "source": [
    "temp = pd.DataFrame()\n",
    "temp = pd.concat([train_cleansed['ID'], attention_mask_df], axis=1)\n",
    "temp = pd.concat([temp, input_ids_df], axis=1)\n",
    "train_BertToken_df = pd.concat([temp, token_type_ids_df], axis=1)\n",
    "train_BertToken_df\n"
   ]
  },
  {
   "cell_type": "code",
   "execution_count": null,
   "id": "cb0a7d6e",
   "metadata": {},
   "outputs": [],
   "source": [
    "tBTdf = so.right_merger(train_cleansed, train_BertToken_df, 0)\n",
    "tBTdf"
   ]
  },
  {
   "cell_type": "code",
   "execution_count": null,
   "id": "437cbeda",
   "metadata": {},
   "outputs": [],
   "source": []
  },
  {
   "cell_type": "code",
   "execution_count": null,
   "id": "7b3a9613",
   "metadata": {},
   "outputs": [],
   "source": []
  },
  {
   "cell_type": "code",
   "execution_count": null,
   "id": "d369596d",
   "metadata": {},
   "outputs": [],
   "source": [
    "\n"
   ]
  },
  {
   "cell_type": "code",
   "execution_count": null,
   "id": "8acfb622",
   "metadata": {},
   "outputs": [],
   "source": []
  },
  {
   "cell_type": "code",
   "execution_count": null,
   "id": "a80f31d1",
   "metadata": {},
   "outputs": [],
   "source": []
  },
  {
   "cell_type": "code",
   "execution_count": null,
   "id": "0c0818f8",
   "metadata": {},
   "outputs": [],
   "source": []
  },
  {
   "cell_type": "code",
   "execution_count": null,
   "id": "07e7ce3d",
   "metadata": {},
   "outputs": [],
   "source": []
  },
  {
   "cell_type": "code",
   "execution_count": null,
   "id": "1145d24e",
   "metadata": {},
   "outputs": [],
   "source": []
  },
  {
   "cell_type": "code",
   "execution_count": null,
   "id": "5a0007f7",
   "metadata": {},
   "outputs": [],
   "source": []
  }
 ],
 "metadata": {
  "kernelspec": {
   "display_name": "Python 3 (ipykernel)",
   "language": "python",
   "name": "python3"
  },
  "language_info": {
   "codemirror_mode": {
    "name": "ipython",
    "version": 3
   },
   "file_extension": ".py",
   "mimetype": "text/x-python",
   "name": "python",
   "nbconvert_exporter": "python",
   "pygments_lexer": "ipython3",
   "version": "3.10.9"
  }
 },
 "nbformat": 4,
 "nbformat_minor": 5
}
