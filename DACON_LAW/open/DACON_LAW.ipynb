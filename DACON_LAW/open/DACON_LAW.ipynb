{
 "cells": [
  {
   "cell_type": "code",
   "execution_count": null,
   "id": "adc258d5",
   "metadata": {
    "scrolled": true
   },
   "outputs": [],
   "source": [
    "import pandas as pd\n",
    "import numpy as np\n",
    "import optuna\n",
    "from sklearn.model_selection import StratifiedKFold\n",
    "from lightgbm import LGBMClassifier as lgb\n",
    "import re\n",
    "from sentence_transformers import SentenceTransformer\n",
    "from sklearn.model_selection import train_test_split\n",
    "from sklearn.metrics import accuracy_score, classification_report\n",
    "from sklearn.metrics import mean_squared_error as mse\n",
    "from sklearn.preprocessing import LabelEncoder, StandardScaler\n",
    "import torch\n",
    "from sklearn.model_selection import GridSearchCV as GSCV\n",
    "import torch.nn.functional as F\n",
    "from transformers import AutoTokenizer, AutoModel\n",
    "from tqdm import tqdm\n",
    "import xgboost.sklearn as xgb\n",
    "import warnings\n",
    "warnings.filterwarnings('ignore')\n",
    "import spacy\n",
    "spacy.prefer_gpu()\n",
    "\n",
    "from pytorch_transformers import BertTokenizer, BertForSequenceClassification, BertConfig\n",
    "from torch.optim import Adam\n",
    "from torch.utils.data import Dataset, DataLoader\n",
    "\n",
    "import dacon_law_class as dlc\n",
    "from dacon_law_class import SimpleOps as so\n"
   ]
  },
  {
   "cell_type": "code",
   "execution_count": null,
   "id": "247af21d",
   "metadata": {},
   "outputs": [],
   "source": [
    "train = pd.read_csv('./train.csv')\n",
    "test = pd.read_csv('./test.csv')\n",
    "sample_submission = pd.read_csv('./sample_submission.csv')"
   ]
  },
  {
   "cell_type": "code",
   "execution_count": null,
   "id": "8011b50f",
   "metadata": {
    "scrolled": false
   },
   "outputs": [],
   "source": [
    "train.head()\n",
    "# test\n",
    "# sample_submission"
   ]
  },
  {
   "cell_type": "markdown",
   "id": "01a8f896",
   "metadata": {},
   "source": [
    "## BERT\n",
    "\n",
    "@article{turc2019,\n",
    "  title={Well-Read Students Learn Better: On the Importance of Pre-training Compact Models},\n",
    "  author={Turc, Iulia and Chang, Ming-Wei and Lee, Kenton and Toutanova, Kristina},\n",
    "  journal={arXiv preprint arXiv:1908.08962v2 },\n",
    "  year={2019}\n",
    "}\n"
   ]
  },
  {
   "cell_type": "code",
   "execution_count": null,
   "id": "c4f6e5b4",
   "metadata": {},
   "outputs": [],
   "source": [
    "train_facts = dlc.alpha_numeric_3_cols(train, 'first_party', 'second_party', 'facts')\n",
    "test_facts = dlc.alpha_numeric_3_cols(test, 'first_party', 'second_party', 'facts')"
   ]
  },
  {
   "cell_type": "code",
   "execution_count": null,
   "id": "82f4953b",
   "metadata": {},
   "outputs": [],
   "source": [
    "train_facts = pd.DataFrame(train['facts'])\n",
    "test_fact = pd.DataFrame(test['facts'])"
   ]
  },
  {
   "cell_type": "code",
   "execution_count": null,
   "id": "38e7b527",
   "metadata": {
    "scrolled": true
   },
   "outputs": [],
   "source": [
    "train_to_ml, test_ready_to_ml = dlc.rename_tokenized(train, test, 'first_party', 'second_party', 'facts', 'first_party_winner')\n"
   ]
  },
  {
   "cell_type": "code",
   "execution_count": null,
   "id": "dfe77da5",
   "metadata": {},
   "outputs": [],
   "source": [
    "train_to_ml.to_csv('./embeddings/1_train_ready_to_ml.csv', index=False)\n",
    "test_ready_to_ml.to_csv('./embeddings/2_test_ready_to_ml.csv', index=False)"
   ]
  },
  {
   "cell_type": "markdown",
   "id": "89c0cff0",
   "metadata": {},
   "source": [
    "# 여기"
   ]
  },
  {
   "cell_type": "code",
   "execution_count": null,
   "id": "6df3457f",
   "metadata": {},
   "outputs": [],
   "source": [
    "train_to_ml = pd.read_csv('./embeddings/1_train_ready_to_ml.csv')\n",
    "test_ready_to_ml = pd.read_csv('./embeddings/2_test_ready_to_ml.csv')\n"
   ]
  },
  {
   "cell_type": "code",
   "execution_count": null,
   "id": "26caa054",
   "metadata": {},
   "outputs": [],
   "source": [
    "X_temp = pd.DataFrame()\n",
    "temp_train = train_to_ml.drop(columns=['first_party_berted', 'first_party_winner'])\n",
    "temp_train.head()"
   ]
  },
  {
   "cell_type": "code",
   "execution_count": null,
   "id": "2e617da2",
   "metadata": {},
   "outputs": [],
   "source": [
    "facts_only_tensor = pd.concat([X_temp, dlc.tensor_separator(temp_train, 'facts_berted')], axis=1)\n",
    "facts_only_tensor = facts_only_tensor.astype(\"float64\")\n",
    "facts_only_tensor"
   ]
  },
  {
   "cell_type": "code",
   "execution_count": null,
   "id": "0d29b245",
   "metadata": {},
   "outputs": [],
   "source": [
    "first_y = train_to_ml['first_party_berted']\n",
    "second_y = train_to_ml['first_party_winner']"
   ]
  },
  {
   "cell_type": "code",
   "execution_count": null,
   "id": "32c11522",
   "metadata": {},
   "outputs": [],
   "source": [
    "X_train, X_val, y_train, y_val = train_test_split(X, first_y, test_size=0.3, random_state=42)\n",
    "X_train_1, X_train_2, y_train_1, y_train_2 = train_test_split(X, second_y, test_size=0.3, random_state=42)"
   ]
  },
  {
   "cell_type": "code",
   "execution_count": null,
   "id": "6260a9c0",
   "metadata": {},
   "outputs": [],
   "source": [
    "xgb_encoder = LabelEncoder()\n",
    "y_train = xgb_encoder.fit_transform(y_train)\n",
    "y_val = xgb_encoder.fit_transform(y_val)"
   ]
  },
  {
   "cell_type": "code",
   "execution_count": null,
   "id": "c0fd1e5d",
   "metadata": {},
   "outputs": [],
   "source": [
    "def xgb_first(trial):\n",
    "    params_1 = {'objective':'reg:linear', \n",
    "                'eval_metric' : 'error',\n",
    "                'booster' : trial.suggest_categorical('booster', ['gbtree', 'dart']),\n",
    "                'max_depth' : 15,\n",
    "                'subsample' : 0.2,\n",
    "                'verbose':False\n",
    "               }\n",
    "    \n",
    "    \n",
    "def xgb_second(trial):\n",
    "    params_2 = {'objective': 'binary:logistic',\n",
    "                'eval_metric': 'error',\n",
    "                'booster': 'gbtree',\n",
    "                'nthread': trial.suggest_int('nthread', 1, 15),\n",
    "                'n_estimators' : trial.suggest_int('n_estimators', 25, 1000),\n",
    "                'max_depth': trial.suggest_int('max_depth', 4, 15),\n",
    "                'subsample': trial.suggest_uniform('subsample', 0.1, 0.3),\n",
    "                'learning_rate': trial.suggest_loguniform('learning_rate', 0.01, 0.5),\n",
    "                'colsample_bytree': trial.suggest_uniform('colsample_bytree', 0.5, 0.7),\n",
    "                'lambda': trial.suggest_loguniform('lambda', 0.2, 200),\n",
    "                'random_state': 42,\n",
    "                'min_child_weight': trial.suggest_int('min_child_weight', 1, 3),\n",
    "                'warm_start':True\n",
    "               }"
   ]
  },
  {
   "cell_type": "code",
   "execution_count": null,
   "id": "7ac6cfcc",
   "metadata": {},
   "outputs": [],
   "source": [
    "xgb_encoder = LabelEncoder()\n",
    "y_train = xgb_encoder.fit_transform(y_train)\n",
    "y_val = xgb_encoder.fit_transform(y_val)"
   ]
  },
  {
   "cell_type": "code",
   "execution_count": null,
   "id": "edda425b",
   "metadata": {},
   "outputs": [],
   "source": [
    "def xgb_objective(trial):\n",
    "    xgb_params = {\n",
    "        'objective': 'binary:logistic',\n",
    "        'eval_metric': 'error',\n",
    "        'booster': 'gbtree',\n",
    "        'nthread': trial.suggest_int('nthread', 1, 15),\n",
    "        'n_estimators' : trial.suggest_int('n_estimators', 25, 1000),\n",
    "        'max_depth': trial.suggest_int('max_depth', 4, 15),\n",
    "        'subsample': trial.suggest_uniform('subsample', 0.1, 0.3),\n",
    "        'learning_rate': trial.suggest_loguniform('learning_rate', 0.01, 0.5),\n",
    "        'colsample_bytree': trial.suggest_uniform('colsample_bytree', 0.5, 0.7),\n",
    "        'lambda': trial.suggest_loguniform('lambda', 0.2, 200),\n",
    "        'random_state': 42,\n",
    "        'min_child_weight': trial.suggest_int('min_child_weight', 1, 3),\n",
    "        'warm_start':True\n",
    "    }\n",
    "    \n",
    "\n",
    "\n",
    "    xgb_model = xgb.XGBClassifier(**xgb_params)\n",
    "    xgb_model.fit(X_train, y_train)\n",
    "    xgb_preds = xgb_model.predict(X_val)\n",
    "    \n",
    "    return accuracy_score(y_val, xgb_preds)\n"
   ]
  },
  {
   "cell_type": "markdown",
   "id": "f3a27bc2",
   "metadata": {},
   "source": [
    "def lgb_objective(trial):\n",
    "    lgb_params = {\n",
    "        'application': 'binary',\n",
    "        'max_depth': -1,\n",
    "        'metric': 'accuracy',\n",
    "        'boosting_type': trial.suggest_categorical('boosting_type', ['gbdt',  'dart']),\n",
    "        'num_leaves': trial.suggest_int('num_leaves', 10, 2000),\n",
    "        'n_estimators' : trial.suggest_int('n_estimators', 1, 500),\n",
    "        'num_iteration': 500,\n",
    "        'n_jobs': -1,\n",
    "        'learning_rate': trial.suggest_float('learning_rate', 0.05, 0.1),\n",
    "        'feature_fraction': trial.suggest_uniform('feature_fraction', 0.7, 0.9),\n",
    "        'bagging_fraction': trial.suggest_uniform('bagging_fraction', 0.1, 0.8),\n",
    "        'bagging_freq' : trial.suggest_int('bagging_freq', 1, 500),\n",
    "        'random_state': 42\n",
    "                                           }\n",
    "    \n",
    "    lgb_model = lgb.LGBMClassifier(**lgb_params)\n",
    "    lgb_model.fit(X_train, y_train)\n",
    "    lgb_preds = lgb_model.predict(X_val)\n",
    "    \n",
    "    return accuracy_score(y_val, lgb_preds)\n"
   ]
  },
  {
   "cell_type": "markdown",
   "id": "8c6c81a6",
   "metadata": {},
   "source": [
    "def cat_objective(trial):\n",
    "    params = {\n",
    "            'loss_function': 'Logloss',\n",
    "            'learning_rate': learning_rate,\n",
    "            'depth': trial.suggest_int('depth', 3, 10),\n",
    "            'random_state': 42\n",
    "        }\n",
    "\n",
    "\n",
    "    model = cat.CatBoostClassifier(**params)\n",
    "    model.fit(X_train, y_train)\n",
    "    pred = model.predict(X_val)\n",
    "    \n",
    "    return accuracy_score(y_val, pred)"
   ]
  },
  {
   "cell_type": "code",
   "execution_count": null,
   "id": "24d88a2f",
   "metadata": {},
   "outputs": [],
   "source": [
    "name_fact_study = optuna.create_study(direction='minimize')\n",
    "name_fact_study.optimize(xgb_objective, n_trials=2)"
   ]
  },
  {
   "cell_type": "markdown",
   "id": "85bdfd55",
   "metadata": {},
   "source": [
    "print('Number of finished XGB trials: {}'.format(len(xgb_study.trials)))\n",
    "print('XGB Best trial:')\n",
    "xgb_trial = xgb_study.best_trial\n",
    "\n",
    "print('  Value: {}'.format(xgb_trial.value))\n",
    "print('  Params: ')\n",
    "\n",
    "for key, value in xgb_trial.params.items():\n",
    "    print('    {}: {}'.format(key, value))"
   ]
  },
  {
   "cell_type": "code",
   "execution_count": null,
   "id": "27c5a429",
   "metadata": {},
   "outputs": [],
   "source": [
    "print('Number of finished study trials: {}'.format(len(study.trials)))\n",
    "print('study Best trial:')\n",
    "study_trial = study.best_trial\n",
    "\n",
    "print('  Value: {}'.format(study_trial.value))\n",
    "print('  Params: ')\n",
    "\n",
    "for key, value in study_trial.params.items():\n",
    "    print('    {}: {}'.format(key, value))\n"
   ]
  },
  {
   "cell_type": "code",
   "execution_count": null,
   "id": "fe29f5ba",
   "metadata": {},
   "outputs": [],
   "source": [
    "study_best_params = study.best_params\n",
    "study_best_params['random_state'] = 42\n",
    "# if study_best_params['model_type'] == 'lgbm':\n",
    "model = lgb.LGBMClassifier(**study_best_params)\n",
    "# elif study_best_params['model_type'] == 'xgb':\n",
    "#     model = xgb(**study_best_params)\n",
    "model.fit(X_train, y_train)\n"
   ]
  },
  {
   "cell_type": "code",
   "execution_count": null,
   "id": "d7b83ae9",
   "metadata": {},
   "outputs": [],
   "source": [
    "preds = model.predict(X_val)\n",
    "accuracy = accuracy_score(y_val, preds)"
   ]
  },
  {
   "cell_type": "markdown",
   "id": "f1b8cde3",
   "metadata": {},
   "source": [
    "XGB_pred = XGB.predict(X_val)\n",
    "accuracy = accuracy_score(y_val, XGB_pred)\n",
    "print(\"\\nAccuracy after tuning: %.2f%%\" % (accuracy * 100.0))"
   ]
  },
  {
   "cell_type": "code",
   "execution_count": null,
   "id": "b814de49",
   "metadata": {},
   "outputs": [],
   "source": [
    "print(f\"-- Best_Model: {study_best_params} --\")\n",
    "print(\"Train ACC : %.3f\" % accuracy_score(y_train, model.predict(X_train)))\n",
    "print(\"Val ACC : %.3f\" % accuracy_score(y_val, model.predict(X_val)))"
   ]
  },
  {
   "cell_type": "code",
   "execution_count": null,
   "id": "e6a05bd6",
   "metadata": {},
   "outputs": [],
   "source": [
    "print(classification_report(y_val, preds))\n"
   ]
  },
  {
   "cell_type": "code",
   "execution_count": null,
   "id": "e440ccae",
   "metadata": {
    "scrolled": true
   },
   "outputs": [],
   "source": [
    "X_test = pd.get_dummies(data=test_X)\n",
    "print(X_test)\n",
    "preds = model.predict(X_test)"
   ]
  },
  {
   "cell_type": "code",
   "execution_count": null,
   "id": "74283b81",
   "metadata": {},
   "outputs": [],
   "source": [
    "sample_submission = pd.read_csv('./sample_submission.csv')\n",
    "final_pred = pd.DataFrame(preds.astype(int))\n",
    "final_pred = final_pred.rename(columns={0:'first_party_winner'})"
   ]
  },
  {
   "cell_type": "code",
   "execution_count": null,
   "id": "6ee2e450",
   "metadata": {},
   "outputs": [],
   "source": [
    "final_pred"
   ]
  },
  {
   "cell_type": "code",
   "execution_count": null,
   "id": "b94333a9",
   "metadata": {},
   "outputs": [],
   "source": [
    "sample_submission['first_party_winner'] = final_pred['first_party_winner']"
   ]
  },
  {
   "cell_type": "code",
   "execution_count": null,
   "id": "981719b6",
   "metadata": {},
   "outputs": [],
   "source": [
    "sample_submission['first_party_winner'].value_counts()"
   ]
  },
  {
   "cell_type": "code",
   "execution_count": null,
   "id": "70fc5e8e",
   "metadata": {},
   "outputs": [],
   "source": []
  },
  {
   "cell_type": "code",
   "execution_count": null,
   "id": "c686c436",
   "metadata": {},
   "outputs": [],
   "source": []
  },
  {
   "cell_type": "code",
   "execution_count": null,
   "id": "a5781585",
   "metadata": {},
   "outputs": [],
   "source": []
  },
  {
   "cell_type": "code",
   "execution_count": null,
   "id": "d58c5a38",
   "metadata": {},
   "outputs": [],
   "source": [
    "sample_submission.to_csv(\"./results/{Model}_submission_{Train:.03f}_{Val:.03f}.csv\".format(Model='LGBM', Train=accuracy_score(y_train, model.predict(X_train)), Val = accuracy_score(y_val, model.predict(X_val))), index=False)\n"
   ]
  },
  {
   "cell_type": "code",
   "execution_count": null,
   "id": "55745403",
   "metadata": {},
   "outputs": [],
   "source": [
    "# XGB_submission = pd.read_csv('./sample_submission.csv')\n",
    "# XGB_pred = pd.DataFrame(XGB_pred.astype(int))\n",
    "# XGB_submission['first_party_winner'] = XGB_pred\n",
    "# XGB_submission.to_csv(\"./Bert_XGB_submission_{Train:.03f}_{Val:.03f}.csv\".format(Train=accuracy_score(y_train, XGB.predict(X_train)), Val = accuracy_score(y_val, XGB.predict(X_val))), index=False)"
   ]
  },
  {
   "cell_type": "code",
   "execution_count": null,
   "id": "9fc45434",
   "metadata": {},
   "outputs": [],
   "source": [
    "XGB_submission"
   ]
  },
  {
   "cell_type": "code",
   "execution_count": null,
   "id": "fa76b24c",
   "metadata": {},
   "outputs": [],
   "source": [
    "LGB_submission"
   ]
  },
  {
   "cell_type": "code",
   "execution_count": null,
   "id": "30d2bed7",
   "metadata": {},
   "outputs": [],
   "source": []
  },
  {
   "cell_type": "code",
   "execution_count": null,
   "id": "e6b1f0d8",
   "metadata": {},
   "outputs": [],
   "source": []
  },
  {
   "cell_type": "code",
   "execution_count": null,
   "id": "29adf1f1",
   "metadata": {},
   "outputs": [],
   "source": []
  },
  {
   "cell_type": "code",
   "execution_count": null,
   "id": "9880a93f",
   "metadata": {},
   "outputs": [],
   "source": [
    "param_xgb_gscv = {\n",
    "    'max_depth' : [i for i in range(1,3)],\n",
    "    'min_child_weight' : [i for i in range(1, 3)],\n",
    "    'n_estimators' : [i for i in range(1, 3)]\n",
    "}"
   ]
  },
  {
   "cell_type": "code",
   "execution_count": null,
   "id": "8ed1b40f",
   "metadata": {},
   "outputs": [],
   "source": [
    "param_lgb_gscv = {\n",
    "    'max_depth' : -1,\n",
    "    'learning_rate' : [i for i in np.arange(0, 1,0.0001)],\n",
    "    'num_leaves' : [i for i in range(1, 2000)],\n",
    "    'n_estimators' : [i for i in range(1, 3000)]\n",
    "}"
   ]
  },
  {
   "cell_type": "code",
   "execution_count": null,
   "id": "8a3dbb28",
   "metadata": {},
   "outputs": [],
   "source": [
    "xgb_classifier = XGBClassifier()"
   ]
  },
  {
   "cell_type": "code",
   "execution_count": null,
   "id": "cbd62a85",
   "metadata": {},
   "outputs": [],
   "source": [
    "gscv_xgb = GSCV(estimator = xgb_classifier, param_grid = param_xgb_gscv, scoring = 'accuracy', cv = StratifiedKFold(n_splits=2, shuffle=True, random_state=42), refit=True, n_jobs=2, return_train_score=True, verbose=10)\n"
   ]
  },
  {
   "cell_type": "code",
   "execution_count": null,
   "id": "3ddff47d",
   "metadata": {},
   "outputs": [],
   "source": [
    "gscv_xgb.fit(X_train, y_train)"
   ]
  },
  {
   "cell_type": "code",
   "execution_count": null,
   "id": "87267ac1",
   "metadata": {},
   "outputs": [],
   "source": [
    "print(\"=\"*30)\n",
    "print('XGB 파라미터: ', gscv_xgb.best_params_)\n",
    "print('XGB 예측 정확도: {:.4f}'.format(gscv_xgb.best_score_))"
   ]
  },
  {
   "cell_type": "code",
   "execution_count": null,
   "id": "1f9b3e81",
   "metadata": {},
   "outputs": [],
   "source": [
    "preds = gscv_xgb.predict(X_val)\n",
    "accuracy = accuracy_score(y_val, preds)"
   ]
  },
  {
   "cell_type": "code",
   "execution_count": null,
   "id": "e42e69f0",
   "metadata": {},
   "outputs": [],
   "source": [
    "print(\"-- Best_Model --\")\n",
    "print(\"Train ACC : %.3f\" % accuracy_score(y_train, gscv_xgb.predict(X_train)))\n",
    "print(\"Val ACC : %.3f\" % accuracy_score(y_val, gscv_xgb.predict(X_val)))"
   ]
  },
  {
   "cell_type": "code",
   "execution_count": null,
   "id": "b073653a",
   "metadata": {},
   "outputs": [],
   "source": [
    "print(classification_report(y_val, preds))\n"
   ]
  },
  {
   "cell_type": "code",
   "execution_count": null,
   "id": "67695acd",
   "metadata": {},
   "outputs": [],
   "source": [
    "X_test = pd.get_dummies(data=test_X)\n",
    "print(X_test)\n",
    "preds = gscv_xgb.predict(X_test)"
   ]
  },
  {
   "cell_type": "code",
   "execution_count": null,
   "id": "56f6a410",
   "metadata": {},
   "outputs": [],
   "source": [
    "sample_submission = pd.read_csv('./sample_submission.csv')\n",
    "final_pred = pd.DataFrame(preds.astype(int))\n",
    "final_pred = final_pred.rename(columns={0:'first_party_winner'})"
   ]
  },
  {
   "cell_type": "code",
   "execution_count": null,
   "id": "53560979",
   "metadata": {},
   "outputs": [],
   "source": [
    "final_pred"
   ]
  },
  {
   "cell_type": "code",
   "execution_count": null,
   "id": "bd428310",
   "metadata": {},
   "outputs": [],
   "source": [
    "sample_submission['first_party_winner'] = final_pred['first_party_winner']"
   ]
  },
  {
   "cell_type": "code",
   "execution_count": null,
   "id": "b193a8c5",
   "metadata": {},
   "outputs": [],
   "source": [
    "sample_submission['first_party_winner'].value_counts()"
   ]
  },
  {
   "cell_type": "code",
   "execution_count": null,
   "id": "60e36e38",
   "metadata": {},
   "outputs": [],
   "source": [
    "sample_submission.to_csv(\"./results/{Model}_submission_{Train:.03f}_{Val:.03f}.csv\".format(Model='XGB', Train=accuracy_score(y_train, model.predict(X_train)), Val = accuracy_score(y_val, model.predict(X_val))), index=False)\n"
   ]
  },
  {
   "cell_type": "code",
   "execution_count": null,
   "id": "066fa085",
   "metadata": {},
   "outputs": [],
   "source": []
  },
  {
   "cell_type": "code",
   "execution_count": null,
   "id": "77f9cfcb",
   "metadata": {},
   "outputs": [],
   "source": []
  },
  {
   "cell_type": "code",
   "execution_count": null,
   "id": "9a879847",
   "metadata": {},
   "outputs": [],
   "source": []
  },
  {
   "cell_type": "code",
   "execution_count": null,
   "id": "951c59e5",
   "metadata": {},
   "outputs": [],
   "source": []
  },
  {
   "cell_type": "code",
   "execution_count": null,
   "id": "01b99063",
   "metadata": {},
   "outputs": [],
   "source": []
  },
  {
   "cell_type": "code",
   "execution_count": null,
   "id": "d40ea9a1",
   "metadata": {},
   "outputs": [],
   "source": []
  },
  {
   "cell_type": "code",
   "execution_count": null,
   "id": "bd3fa2d2",
   "metadata": {},
   "outputs": [],
   "source": []
  },
  {
   "cell_type": "code",
   "execution_count": null,
   "id": "fe4cbbd3",
   "metadata": {},
   "outputs": [],
   "source": []
  },
  {
   "cell_type": "code",
   "execution_count": null,
   "id": "cf7c970b",
   "metadata": {},
   "outputs": [],
   "source": []
  },
  {
   "cell_type": "code",
   "execution_count": null,
   "id": "7d43e800",
   "metadata": {},
   "outputs": [],
   "source": []
  },
  {
   "cell_type": "code",
   "execution_count": null,
   "id": "453dbeb5",
   "metadata": {},
   "outputs": [],
   "source": []
  },
  {
   "cell_type": "code",
   "execution_count": null,
   "id": "970d2650",
   "metadata": {},
   "outputs": [],
   "source": [
    "# 3D to 2D\n",
    "\n",
    "attention_mask_df = dlc.tensor_2_2d(train_bert_tokenized, 0)\n",
    "input_ids_df = dlc.tensor_2_2d(train_bert_tokenized, 1)\n",
    "token_type_ids_df = dlc.tensor_2_2d(train_bert_tokenized, 2)\n",
    "\n",
    "attention_mask_df.info()\n",
    "print('\\n _______________________________ \\n')\n",
    "input_ids_df.info()\n",
    "print('\\n _______________________________ \\n')\n",
    "token_type_ids_df.info()\n"
   ]
  },
  {
   "cell_type": "code",
   "execution_count": null,
   "id": "0b4903d3",
   "metadata": {},
   "outputs": [],
   "source": [
    "# attention_mask_df.info()\n",
    "attention_mask_df\n",
    "# input_ids_df.info()\n",
    "# input_ids_df\n",
    "# token_type_ids_df.info()\n",
    "# token_type_ids_df\n"
   ]
  },
  {
   "cell_type": "code",
   "execution_count": null,
   "id": "adae125e",
   "metadata": {
    "scrolled": true
   },
   "outputs": [],
   "source": [
    "temp = pd.DataFrame()\n",
    "temp = pd.concat([train_cleansed['ID'], attention_mask_df], axis=1)\n",
    "temp = pd.concat([temp, input_ids_df], axis=1)\n",
    "train_BertToken_df = pd.concat([temp, token_type_ids_df], axis=1)\n",
    "train_BertToken_df\n"
   ]
  },
  {
   "cell_type": "code",
   "execution_count": null,
   "id": "cb0a7d6e",
   "metadata": {},
   "outputs": [],
   "source": [
    "tBTdf = so.right_merger(train_cleansed, train_BertToken_df, 0)\n",
    "tBTdf"
   ]
  },
  {
   "cell_type": "code",
   "execution_count": null,
   "id": "437cbeda",
   "metadata": {},
   "outputs": [],
   "source": []
  },
  {
   "cell_type": "code",
   "execution_count": null,
   "id": "7b3a9613",
   "metadata": {},
   "outputs": [],
   "source": []
  },
  {
   "cell_type": "code",
   "execution_count": null,
   "id": "d369596d",
   "metadata": {},
   "outputs": [],
   "source": [
    "\n"
   ]
  },
  {
   "cell_type": "code",
   "execution_count": null,
   "id": "8acfb622",
   "metadata": {},
   "outputs": [],
   "source": []
  },
  {
   "cell_type": "code",
   "execution_count": null,
   "id": "a80f31d1",
   "metadata": {},
   "outputs": [],
   "source": []
  },
  {
   "cell_type": "code",
   "execution_count": null,
   "id": "0c0818f8",
   "metadata": {},
   "outputs": [],
   "source": []
  },
  {
   "cell_type": "code",
   "execution_count": null,
   "id": "07e7ce3d",
   "metadata": {},
   "outputs": [],
   "source": []
  },
  {
   "cell_type": "code",
   "execution_count": null,
   "id": "1145d24e",
   "metadata": {},
   "outputs": [],
   "source": []
  },
  {
   "cell_type": "code",
   "execution_count": null,
   "id": "5a0007f7",
   "metadata": {},
   "outputs": [],
   "source": []
  }
 ],
 "metadata": {
  "kernelspec": {
   "display_name": "Python 3 (ipykernel)",
   "language": "python",
   "name": "python3"
  },
  "language_info": {
   "codemirror_mode": {
    "name": "ipython",
    "version": 3
   },
   "file_extension": ".py",
   "mimetype": "text/x-python",
   "name": "python",
   "nbconvert_exporter": "python",
   "pygments_lexer": "ipython3",
   "version": "3.10.9"
  }
 },
 "nbformat": 4,
 "nbformat_minor": 5
}
