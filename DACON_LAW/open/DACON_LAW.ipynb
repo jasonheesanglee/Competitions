{
 "cells": [
  {
   "cell_type": "code",
   "execution_count": 1,
   "id": "adc258d5",
   "metadata": {},
   "outputs": [
    {
     "name": "stdout",
     "output_type": "stream",
     "text": [
      " ___________________________\n",
      "|                           |\n",
      "|======== YearDream ========|\n",
      "|===========================|\n",
      "|==== DLC Well Imported ====|\n",
      "|===========================|\n",
      "|========= BYJASON =========|\n",
      "|___________________________|\n",
      "\n"
     ]
    }
   ],
   "source": [
    "import pandas as pd\n",
    "import numpy as np\n",
    "import optuna\n",
    "import dacon_law_class as dlc\n",
    "from dacon_law_class import SimpleOps as so\n",
    "import lightgbm as lgb\n",
    "import re\n",
    "from sentence_transformers import SentenceTransformer\n",
    "from sklearn.model_selection import train_test_split\n",
    "from sklearn.metrics import accuracy_score, classification_report\n",
    "from sklearn.preprocessing import LabelEncoder, StandardScaler\n",
    "import torch\n",
    "import torch.nn.functional as F\n",
    "from transformers import AutoTokenizer, AutoModel\n",
    "from tqdm import tqdm\n",
    "from xgboost.sklearn import XGBClassifier as xgb\n",
    "# import xgboost as xgb\n",
    "import warnings\n",
    "warnings.filterwarnings('ignore')\n",
    "\n",
    "\n",
    "from pytorch_transformers import BertTokenizer, BertForSequenceClassification, BertConfig\n",
    "from torch.optim import Adam\n",
    "from torch.utils.data import Dataset, DataLoader"
   ]
  },
  {
   "cell_type": "code",
   "execution_count": null,
   "id": "c5130825",
   "metadata": {
    "collapsed": true
   },
   "outputs": [],
   "source": []
  },
  {
   "cell_type": "code",
   "execution_count": 2,
   "id": "247af21d",
   "metadata": {},
   "outputs": [],
   "source": [
    "train = pd.read_csv('./train.csv')\n",
    "test = pd.read_csv('./test.csv')\n",
    "sample_submission = pd.read_csv('./sample_submission.csv')\n",
    "# model = SentenceTransformer('paraphrase-MiniLM-L6-v2')"
   ]
  },
  {
   "cell_type": "code",
   "execution_count": 3,
   "id": "8011b50f",
   "metadata": {},
   "outputs": [],
   "source": [
    "# train\n",
    "# test\n",
    "# sample_submission"
   ]
  },
  {
   "cell_type": "code",
   "execution_count": 4,
   "id": "eb2ef6ca",
   "metadata": {
    "scrolled": true
   },
   "outputs": [
    {
     "name": "stdout",
     "output_type": "stream",
     "text": [
      "<class 'pandas.core.frame.DataFrame'>\n",
      "RangeIndex: 2478 entries, 0 to 2477\n",
      "Data columns (total 5 columns):\n",
      " #   Column              Non-Null Count  Dtype \n",
      "---  ------              --------------  ----- \n",
      " 0   ID                  2478 non-null   object\n",
      " 1   first_party         2478 non-null   object\n",
      " 2   second_party        2478 non-null   object\n",
      " 3   facts               2478 non-null   object\n",
      " 4   first_party_winner  2478 non-null   int64 \n",
      "dtypes: int64(1), object(4)\n",
      "memory usage: 96.9+ KB\n",
      "\n",
      "\n",
      "\n",
      "\n"
     ]
    }
   ],
   "source": [
    "train.info()\n",
    "print('\\n\\n\\n')\n",
    "# test.info()"
   ]
  },
  {
   "cell_type": "code",
   "execution_count": 5,
   "id": "9b052690",
   "metadata": {
    "scrolled": true
   },
   "outputs": [
    {
     "data": {
      "text/html": [
       "<div>\n",
       "<style scoped>\n",
       "    .dataframe tbody tr th:only-of-type {\n",
       "        vertical-align: middle;\n",
       "    }\n",
       "\n",
       "    .dataframe tbody tr th {\n",
       "        vertical-align: top;\n",
       "    }\n",
       "\n",
       "    .dataframe thead th {\n",
       "        text-align: right;\n",
       "    }\n",
       "</style>\n",
       "<table border=\"1\" class=\"dataframe\">\n",
       "  <thead>\n",
       "    <tr style=\"text-align: right;\">\n",
       "      <th></th>\n",
       "      <th>facts</th>\n",
       "    </tr>\n",
       "  </thead>\n",
       "  <tbody>\n",
       "    <tr>\n",
       "      <th>0</th>\n",
       "      <td>phil amant caidate for public office made tele...</td>\n",
       "    </tr>\n",
       "    <tr>\n",
       "      <th>1</th>\n",
       "      <td>ramon nelson was ridin his bike when he suffer...</td>\n",
       "    </tr>\n",
       "    <tr>\n",
       "      <th>2</th>\n",
       "      <td>an alabama ate court convicted billy joe mawoo...</td>\n",
       "    </tr>\n",
       "    <tr>\n",
       "      <th>3</th>\n",
       "      <td>victor linkletter was convicted in ate court o...</td>\n",
       "    </tr>\n",
       "    <tr>\n",
       "      <th>4</th>\n",
       "      <td>in selma alabama an intruder broke into apartm...</td>\n",
       "    </tr>\n",
       "    <tr>\n",
       "      <th>...</th>\n",
       "      <td>...</td>\n",
       "    </tr>\n",
       "    <tr>\n",
       "      <th>2473</th>\n",
       "      <td>conress ameed clean air act rouh enery policy ...</td>\n",
       "    </tr>\n",
       "    <tr>\n",
       "      <th>2474</th>\n",
       "      <td>alliance bo fu inc an invement fu purchased ap...</td>\n",
       "    </tr>\n",
       "    <tr>\n",
       "      <th>2475</th>\n",
       "      <td>in dirict court sentenced manuel peuero to mon...</td>\n",
       "    </tr>\n",
       "    <tr>\n",
       "      <th>2476</th>\n",
       "      <td>enrico cyr lawful permanent resident pled uilt...</td>\n",
       "    </tr>\n",
       "    <tr>\n",
       "      <th>2477</th>\n",
       "      <td>herbert an owns patent to syem at tracks cloin...</td>\n",
       "    </tr>\n",
       "  </tbody>\n",
       "</table>\n",
       "<p>2478 rows × 1 columns</p>\n",
       "</div>"
      ],
      "text/plain": [
       "                                                  facts\n",
       "0     phil amant caidate for public office made tele...\n",
       "1     ramon nelson was ridin his bike when he suffer...\n",
       "2     an alabama ate court convicted billy joe mawoo...\n",
       "3     victor linkletter was convicted in ate court o...\n",
       "4     in selma alabama an intruder broke into apartm...\n",
       "...                                                 ...\n",
       "2473  conress ameed clean air act rouh enery policy ...\n",
       "2474  alliance bo fu inc an invement fu purchased ap...\n",
       "2475  in dirict court sentenced manuel peuero to mon...\n",
       "2476  enrico cyr lawful permanent resident pled uilt...\n",
       "2477  herbert an owns patent to syem at tracks cloin...\n",
       "\n",
       "[2478 rows x 1 columns]"
      ]
     },
     "execution_count": 5,
     "metadata": {},
     "output_type": "execute_result"
    }
   ],
   "source": [
    "df = pd.DataFrame(train['facts'])\n",
    "df = dlc.law_preprocessor(df, 'facts')\n",
    "df"
   ]
  },
  {
   "cell_type": "code",
   "execution_count": 6,
   "id": "9e387af2",
   "metadata": {},
   "outputs": [
    {
     "data": {
      "text/html": [
       "<div>\n",
       "<style scoped>\n",
       "    .dataframe tbody tr th:only-of-type {\n",
       "        vertical-align: middle;\n",
       "    }\n",
       "\n",
       "    .dataframe tbody tr th {\n",
       "        vertical-align: top;\n",
       "    }\n",
       "\n",
       "    .dataframe thead th {\n",
       "        text-align: right;\n",
       "    }\n",
       "</style>\n",
       "<table border=\"1\" class=\"dataframe\">\n",
       "  <thead>\n",
       "    <tr style=\"text-align: right;\">\n",
       "      <th></th>\n",
       "      <th>ID</th>\n",
       "      <th>first_party</th>\n",
       "      <th>second_party</th>\n",
       "      <th>facts</th>\n",
       "      <th>first_party_winner</th>\n",
       "    </tr>\n",
       "  </thead>\n",
       "  <tbody>\n",
       "    <tr>\n",
       "      <th>0</th>\n",
       "      <td>TRAIN_0000</td>\n",
       "      <td>Phil A. St. Amant</td>\n",
       "      <td>Herman A. Thompson</td>\n",
       "      <td>phil amant caidate for public office made tele...</td>\n",
       "      <td>1</td>\n",
       "    </tr>\n",
       "    <tr>\n",
       "      <th>1</th>\n",
       "      <td>TRAIN_0001</td>\n",
       "      <td>Stephen Duncan</td>\n",
       "      <td>Lawrence Owens</td>\n",
       "      <td>ramon nelson was ridin his bike when he suffer...</td>\n",
       "      <td>0</td>\n",
       "    </tr>\n",
       "    <tr>\n",
       "      <th>2</th>\n",
       "      <td>TRAIN_0002</td>\n",
       "      <td>Billy Joe Magwood</td>\n",
       "      <td>Tony Patterson, Warden, et al.</td>\n",
       "      <td>an alabama ate court convicted billy joe mawoo...</td>\n",
       "      <td>1</td>\n",
       "    </tr>\n",
       "    <tr>\n",
       "      <th>3</th>\n",
       "      <td>TRAIN_0003</td>\n",
       "      <td>Linkletter</td>\n",
       "      <td>Walker</td>\n",
       "      <td>victor linkletter was convicted in ate court o...</td>\n",
       "      <td>0</td>\n",
       "    </tr>\n",
       "    <tr>\n",
       "      <th>4</th>\n",
       "      <td>TRAIN_0004</td>\n",
       "      <td>William Earl Fikes</td>\n",
       "      <td>Alabama</td>\n",
       "      <td>in selma alabama an intruder broke into apartm...</td>\n",
       "      <td>1</td>\n",
       "    </tr>\n",
       "    <tr>\n",
       "      <th>...</th>\n",
       "      <td>...</td>\n",
       "      <td>...</td>\n",
       "      <td>...</td>\n",
       "      <td>...</td>\n",
       "      <td>...</td>\n",
       "    </tr>\n",
       "    <tr>\n",
       "      <th>2473</th>\n",
       "      <td>TRAIN_2473</td>\n",
       "      <td>HollyFrontier Cheyenne Refining, LLC, et al.</td>\n",
       "      <td>Renewable Fuels Association, et al.</td>\n",
       "      <td>conress ameed clean air act rouh enery policy ...</td>\n",
       "      <td>1</td>\n",
       "    </tr>\n",
       "    <tr>\n",
       "      <th>2474</th>\n",
       "      <td>TRAIN_2474</td>\n",
       "      <td>Grupo Mexicano de Desarrollo, S. A.</td>\n",
       "      <td>Alliance Bond Fund, Inc.</td>\n",
       "      <td>alliance bo fu inc an invement fu purchased ap...</td>\n",
       "      <td>1</td>\n",
       "    </tr>\n",
       "    <tr>\n",
       "      <th>2475</th>\n",
       "      <td>TRAIN_2475</td>\n",
       "      <td>Peguero</td>\n",
       "      <td>United States</td>\n",
       "      <td>in dirict court sentenced manuel peuero to mon...</td>\n",
       "      <td>0</td>\n",
       "    </tr>\n",
       "    <tr>\n",
       "      <th>2476</th>\n",
       "      <td>TRAIN_2476</td>\n",
       "      <td>Immigration and Naturalization Service</td>\n",
       "      <td>St. Cyr</td>\n",
       "      <td>enrico cyr lawful permanent resident pled uilt...</td>\n",
       "      <td>0</td>\n",
       "    </tr>\n",
       "    <tr>\n",
       "      <th>2477</th>\n",
       "      <td>TRAIN_2477</td>\n",
       "      <td>Markman</td>\n",
       "      <td>Westview Instruments, Inc.</td>\n",
       "      <td>herbert an owns patent to syem at tracks cloin...</td>\n",
       "      <td>0</td>\n",
       "    </tr>\n",
       "  </tbody>\n",
       "</table>\n",
       "<p>2478 rows × 5 columns</p>\n",
       "</div>"
      ],
      "text/plain": [
       "              ID                                   first_party  \\\n",
       "0     TRAIN_0000                             Phil A. St. Amant   \n",
       "1     TRAIN_0001                                Stephen Duncan   \n",
       "2     TRAIN_0002                             Billy Joe Magwood   \n",
       "3     TRAIN_0003                                    Linkletter   \n",
       "4     TRAIN_0004                            William Earl Fikes   \n",
       "...          ...                                           ...   \n",
       "2473  TRAIN_2473  HollyFrontier Cheyenne Refining, LLC, et al.   \n",
       "2474  TRAIN_2474           Grupo Mexicano de Desarrollo, S. A.   \n",
       "2475  TRAIN_2475                                       Peguero   \n",
       "2476  TRAIN_2476        Immigration and Naturalization Service   \n",
       "2477  TRAIN_2477                                       Markman   \n",
       "\n",
       "                             second_party  \\\n",
       "0                      Herman A. Thompson   \n",
       "1                          Lawrence Owens   \n",
       "2          Tony Patterson, Warden, et al.   \n",
       "3                                  Walker   \n",
       "4                                 Alabama   \n",
       "...                                   ...   \n",
       "2473  Renewable Fuels Association, et al.   \n",
       "2474             Alliance Bond Fund, Inc.   \n",
       "2475                        United States   \n",
       "2476                              St. Cyr   \n",
       "2477           Westview Instruments, Inc.   \n",
       "\n",
       "                                                  facts  first_party_winner  \n",
       "0     phil amant caidate for public office made tele...                   1  \n",
       "1     ramon nelson was ridin his bike when he suffer...                   0  \n",
       "2     an alabama ate court convicted billy joe mawoo...                   1  \n",
       "3     victor linkletter was convicted in ate court o...                   0  \n",
       "4     in selma alabama an intruder broke into apartm...                   1  \n",
       "...                                                 ...                 ...  \n",
       "2473  conress ameed clean air act rouh enery policy ...                   1  \n",
       "2474  alliance bo fu inc an invement fu purchased ap...                   1  \n",
       "2475  in dirict court sentenced manuel peuero to mon...                   0  \n",
       "2476  enrico cyr lawful permanent resident pled uilt...                   0  \n",
       "2477  herbert an owns patent to syem at tracks cloin...                   0  \n",
       "\n",
       "[2478 rows x 5 columns]"
      ]
     },
     "execution_count": 6,
     "metadata": {},
     "output_type": "execute_result"
    }
   ],
   "source": [
    "train_cleansed = so.law_train_clean(train, df)\n",
    "train_cleansed"
   ]
  },
  {
   "cell_type": "markdown",
   "id": "01a8f896",
   "metadata": {},
   "source": [
    "## BERT\n"
   ]
  },
  {
   "cell_type": "code",
   "execution_count": 7,
   "id": "d039004f",
   "metadata": {},
   "outputs": [
    {
     "data": {
      "text/plain": [
       "'\\n@article{turc2019,\\n  title={Well-Read Students Learn Better: On the Importance of Pre-training Compact Models},\\n  author={Turc, Iulia and Chang, Ming-Wei and Lee, Kenton and Toutanova, Kristina},\\n  journal={arXiv preprint arXiv:1908.08962v2 },\\n  year={2019}\\n}\\n'"
      ]
     },
     "execution_count": 7,
     "metadata": {},
     "output_type": "execute_result"
    }
   ],
   "source": [
    "'''\n",
    "@article{turc2019,\n",
    "  title={Well-Read Students Learn Better: On the Importance of Pre-training Compact Models},\n",
    "  author={Turc, Iulia and Chang, Ming-Wei and Lee, Kenton and Toutanova, Kristina},\n",
    "  journal={arXiv preprint arXiv:1908.08962v2 },\n",
    "  year={2019}\n",
    "}\n",
    "'''"
   ]
  },
  {
   "cell_type": "code",
   "execution_count": 8,
   "id": "82f4953b",
   "metadata": {},
   "outputs": [],
   "source": [
    "train_facts = pd.DataFrame(train_cleansed['facts'])"
   ]
  },
  {
   "cell_type": "code",
   "execution_count": 12,
   "id": "dbb78703",
   "metadata": {},
   "outputs": [
    {
     "name": "stderr",
     "output_type": "stream",
     "text": [
      "100%|█████████████████████████████████████| 2478/2478 [00:01<00:00, 2115.62it/s]\n"
     ]
    }
   ],
   "source": [
    "# combined_se_df = pd.DataFrame()\n",
    "# for fact in tqdm(train_facts['facts']):\n",
    "#     encoded_input = tokenizer(fact, padding='max_length', max_length=512, truncation=True, return_tensors='pt')\n",
    "#     df = pd.DataFrame(encoded_input.items())\n",
    "#     combined_se_df = pd.concat([combined_se_df, df])\n",
    "    \n",
    "\n",
    "# combined_se_df = combined_se_df.rename(columns={0:'tbd', 1:'hmm'})\n",
    "# combined_se_df\n",
    "model_input_df = dlc.bert_tokenizer(train_facts, 'facts')\n",
    "# train_bert_tokenized.to_csv(\"./train_bert_tokenized.csv\", index=False)"
   ]
  },
  {
   "cell_type": "code",
   "execution_count": 13,
   "id": "aa796a90",
   "metadata": {
    "scrolled": true
   },
   "outputs": [
    {
     "name": "stdout",
     "output_type": "stream",
     "text": [
      "<class 'pandas.core.frame.DataFrame'>\n",
      "RangeIndex: 2478 entries, 0 to 2477\n",
      "Data columns (total 1 columns):\n",
      " #   Column  Non-Null Count  Dtype \n",
      "---  ------  --------------  ----- \n",
      " 0   0       2478 non-null   object\n",
      "dtypes: object(1)\n",
      "memory usage: 19.5+ KB\n"
     ]
    }
   ],
   "source": [
    "model_input_df.info()"
   ]
  },
  {
   "cell_type": "code",
   "execution_count": 15,
   "id": "496e2442",
   "metadata": {},
   "outputs": [
    {
     "name": "stderr",
     "output_type": "stream",
     "text": [
      "Some weights of the model checkpoint at bert-base-uncased were not used when initializing BertModel: ['cls.predictions.transform.dense.bias', 'cls.predictions.bias', 'cls.predictions.transform.dense.weight', 'cls.predictions.transform.LayerNorm.bias', 'cls.seq_relationship.bias', 'cls.predictions.transform.LayerNorm.weight', 'bert.pooler.dense.bias', 'cls.seq_relationship.weight', 'bert.pooler.dense.weight', 'cls.predictions.decoder.weight']\n",
      "- This IS expected if you are initializing BertModel from the checkpoint of a model trained on another task or with another architecture (e.g. initializing a BertForSequenceClassification model from a BertForPreTraining model).\n",
      "- This IS NOT expected if you are initializing BertModel from the checkpoint of a model that you expect to be exactly identical (initializing a BertForSequenceClassification model from a BertForSequenceClassification model).\n"
     ]
    },
    {
     "data": {
      "text/plain": [
       "108891648"
      ]
     },
     "execution_count": 15,
     "metadata": {},
     "output_type": "execute_result"
    }
   ],
   "source": [
    "from transformers import BertModel\n",
    "\n",
    "model = BertModel.from_pretrained(\"bert-base-uncased\", add_pooling_layer=False, output_hidden_states=True, output_attentions=True)\n",
    "model.num_parameters()"
   ]
  },
  {
   "cell_type": "code",
   "execution_count": null,
   "id": "c4eb2ffb",
   "metadata": {},
   "outputs": [
    {
     "name": "stderr",
     "output_type": "stream",
     "text": [
      "  5%|█▊                                      | 114/2478 [01:13<40:30,  1.03s/it]"
     ]
    }
   ],
   "source": [
    "\n",
    "output_total_list = []\n",
    "for index in tqdm(range(len(model_input_df))):\n",
    "    output = model(**model_input_df.iloc[index, 0])\n",
    "#     words_embedding = model.embeddings.word_embeddings\n",
    "#     position_embedding = model.embeddings.position_embeddings\n",
    "#     token_type_embedding = model.embeddings.token_type_embeddings\n",
    "    output_total_list.append(output)\n",
    "\n",
    "output_df = pd.DataFrame(output_total_list)\n"
   ]
  },
  {
   "cell_type": "code",
   "execution_count": null,
   "id": "6981908c",
   "metadata": {},
   "outputs": [],
   "source": []
  },
  {
   "cell_type": "code",
   "execution_count": null,
   "id": "4b727fc8",
   "metadata": {},
   "outputs": [],
   "source": []
  },
  {
   "cell_type": "code",
   "execution_count": null,
   "id": "46c5a700",
   "metadata": {},
   "outputs": [],
   "source": []
  },
  {
   "cell_type": "code",
   "execution_count": null,
   "id": "29adf1f1",
   "metadata": {},
   "outputs": [],
   "source": []
  },
  {
   "cell_type": "code",
   "execution_count": null,
   "id": "970d2650",
   "metadata": {},
   "outputs": [],
   "source": [
    "# 3D to 2D\n",
    "\n",
    "attention_mask_df = dlc.tensor_2_2d(train_bert_tokenized, 0)\n",
    "input_ids_df = dlc.tensor_2_2d(train_bert_tokenized, 1)\n",
    "token_type_ids_df = dlc.tensor_2_2d(train_bert_tokenized, 2)\n",
    "\n",
    "attention_mask_df.info()\n",
    "print('\\n _______________________________ \\n')\n",
    "input_ids_df.info()\n",
    "print('\\n _______________________________ \\n')\n",
    "token_type_ids_df.info()\n"
   ]
  },
  {
   "cell_type": "code",
   "execution_count": null,
   "id": "0b4903d3",
   "metadata": {},
   "outputs": [],
   "source": [
    "# attention_mask_df.info()\n",
    "attention_mask_df\n",
    "# input_ids_df.info()\n",
    "# input_ids_df\n",
    "# token_type_ids_df.info()\n",
    "# token_type_ids_df\n"
   ]
  },
  {
   "cell_type": "code",
   "execution_count": null,
   "id": "adae125e",
   "metadata": {
    "scrolled": true
   },
   "outputs": [],
   "source": [
    "temp = pd.DataFrame()\n",
    "temp = pd.concat([train_cleansed['ID'], attention_mask_df], axis=1)\n",
    "temp = pd.concat([temp, input_ids_df], axis=1)\n",
    "train_BertToken_df = pd.concat([temp, token_type_ids_df], axis=1)\n",
    "train_BertToken_df\n"
   ]
  },
  {
   "cell_type": "code",
   "execution_count": null,
   "id": "cb0a7d6e",
   "metadata": {},
   "outputs": [],
   "source": [
    "tBTdf = so.right_merger(train_cleansed, train_BertToken_df, 0)\n",
    "tBTdf"
   ]
  },
  {
   "cell_type": "code",
   "execution_count": null,
   "id": "437cbeda",
   "metadata": {},
   "outputs": [],
   "source": []
  },
  {
   "cell_type": "code",
   "execution_count": null,
   "id": "7b3a9613",
   "metadata": {},
   "outputs": [],
   "source": []
  },
  {
   "cell_type": "code",
   "execution_count": null,
   "id": "d369596d",
   "metadata": {},
   "outputs": [],
   "source": [
    "\n"
   ]
  },
  {
   "cell_type": "code",
   "execution_count": null,
   "id": "8acfb622",
   "metadata": {},
   "outputs": [],
   "source": []
  },
  {
   "cell_type": "code",
   "execution_count": null,
   "id": "a80f31d1",
   "metadata": {},
   "outputs": [],
   "source": []
  },
  {
   "cell_type": "code",
   "execution_count": null,
   "id": "0c0818f8",
   "metadata": {},
   "outputs": [],
   "source": []
  },
  {
   "cell_type": "code",
   "execution_count": null,
   "id": "07e7ce3d",
   "metadata": {},
   "outputs": [],
   "source": []
  },
  {
   "cell_type": "code",
   "execution_count": null,
   "id": "1145d24e",
   "metadata": {},
   "outputs": [],
   "source": []
  },
  {
   "cell_type": "code",
   "execution_count": null,
   "id": "5a0007f7",
   "metadata": {},
   "outputs": [],
   "source": []
  }
 ],
 "metadata": {
  "kernelspec": {
   "display_name": "Python 3 (ipykernel)",
   "language": "python",
   "name": "python3"
  },
  "language_info": {
   "codemirror_mode": {
    "name": "ipython",
    "version": 3
   },
   "file_extension": ".py",
   "mimetype": "text/x-python",
   "name": "python",
   "nbconvert_exporter": "python",
   "pygments_lexer": "ipython3",
   "version": "3.10.9"
  }
 },
 "nbformat": 4,
 "nbformat_minor": 5
}
