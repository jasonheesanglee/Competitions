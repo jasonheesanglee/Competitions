{
 "cells": [
  {
   "cell_type": "code",
   "execution_count": null,
   "id": "db0ce4e5",
   "metadata": {},
   "outputs": [],
   "source": [
    "!pip install lightgbm"
   ]
  },
  {
   "cell_type": "code",
   "execution_count": 1,
   "id": "adc258d5",
   "metadata": {},
   "outputs": [],
   "source": [
    "import pandas as pd\n",
    "import numpy as np\n",
    "import matplotlib.pyplot as plt\n",
    "import seaborn as sns\n",
    "import optuna\n",
    "from dacon_law_class import mean_pooling, text_processor\n",
    "import lightgbm as lgb\n",
    "import re\n",
    "from sentence_transformers import SentenceTransformer\n",
    "from sklearn.model_selection import train_test_split\n",
    "from sklearn.metrics import accuracy_score, classification_report\n",
    "from sklearn.datasets import load_wine\n",
    "from sklearn.preprocessing import LabelEncoder, StandardScaler\n",
    "import torch\n",
    "import torch.nn.functional as F\n",
    "from transformers import AutoTokenizer, AutoModel\n",
    "from tqdm import tqdm\n",
    "from xgboost.sklearn import XGBClassifier as xgb\n",
    "# import xgboost as xgb\n",
    "import warnings\n",
    "warnings.filterwarnings('ignore')"
   ]
  },
  {
   "cell_type": "code",
   "execution_count": 2,
   "id": "247af21d",
   "metadata": {},
   "outputs": [],
   "source": [
    "train = pd.read_csv('./train.csv')\n",
    "test = pd.read_csv('./test.csv')\n",
    "sample_submission = pd.read_csv('./sample_submission.csv')\n",
    "model = SentenceTransformer('paraphrase-MiniLM-L6-v2')"
   ]
  },
  {
   "cell_type": "code",
   "execution_count": 3,
   "id": "05839546",
   "metadata": {},
   "outputs": [
    {
     "data": {
      "text/html": [
       "<div>\n",
       "<style scoped>\n",
       "    .dataframe tbody tr th:only-of-type {\n",
       "        vertical-align: middle;\n",
       "    }\n",
       "\n",
       "    .dataframe tbody tr th {\n",
       "        vertical-align: top;\n",
       "    }\n",
       "\n",
       "    .dataframe thead th {\n",
       "        text-align: right;\n",
       "    }\n",
       "</style>\n",
       "<table border=\"1\" class=\"dataframe\">\n",
       "  <thead>\n",
       "    <tr style=\"text-align: right;\">\n",
       "      <th></th>\n",
       "      <th>ID</th>\n",
       "      <th>first_party</th>\n",
       "      <th>second_party</th>\n",
       "      <th>facts</th>\n",
       "      <th>first_party_winner</th>\n",
       "    </tr>\n",
       "  </thead>\n",
       "  <tbody>\n",
       "    <tr>\n",
       "      <th>0</th>\n",
       "      <td>TRAIN_0000</td>\n",
       "      <td>Phil A. St. Amant</td>\n",
       "      <td>Herman A. Thompson</td>\n",
       "      <td>On June 27, 1962, Phil St. Amant, a candidate ...</td>\n",
       "      <td>1</td>\n",
       "    </tr>\n",
       "    <tr>\n",
       "      <th>1</th>\n",
       "      <td>TRAIN_0001</td>\n",
       "      <td>Stephen Duncan</td>\n",
       "      <td>Lawrence Owens</td>\n",
       "      <td>Ramon Nelson was riding his bike when he suffe...</td>\n",
       "      <td>0</td>\n",
       "    </tr>\n",
       "    <tr>\n",
       "      <th>2</th>\n",
       "      <td>TRAIN_0002</td>\n",
       "      <td>Billy Joe Magwood</td>\n",
       "      <td>Tony Patterson, Warden, et al.</td>\n",
       "      <td>An Alabama state court convicted Billy Joe Mag...</td>\n",
       "      <td>1</td>\n",
       "    </tr>\n",
       "    <tr>\n",
       "      <th>3</th>\n",
       "      <td>TRAIN_0003</td>\n",
       "      <td>Linkletter</td>\n",
       "      <td>Walker</td>\n",
       "      <td>Victor Linkletter was convicted in state court...</td>\n",
       "      <td>0</td>\n",
       "    </tr>\n",
       "    <tr>\n",
       "      <th>4</th>\n",
       "      <td>TRAIN_0004</td>\n",
       "      <td>William Earl Fikes</td>\n",
       "      <td>Alabama</td>\n",
       "      <td>On April 24, 1953 in Selma, Alabama, an intrud...</td>\n",
       "      <td>1</td>\n",
       "    </tr>\n",
       "    <tr>\n",
       "      <th>...</th>\n",
       "      <td>...</td>\n",
       "      <td>...</td>\n",
       "      <td>...</td>\n",
       "      <td>...</td>\n",
       "      <td>...</td>\n",
       "    </tr>\n",
       "    <tr>\n",
       "      <th>2473</th>\n",
       "      <td>TRAIN_2473</td>\n",
       "      <td>HollyFrontier Cheyenne Refining, LLC, et al.</td>\n",
       "      <td>Renewable Fuels Association, et al.</td>\n",
       "      <td>Congress amended the Clean Air Act through the...</td>\n",
       "      <td>1</td>\n",
       "    </tr>\n",
       "    <tr>\n",
       "      <th>2474</th>\n",
       "      <td>TRAIN_2474</td>\n",
       "      <td>Grupo Mexicano de Desarrollo, S. A.</td>\n",
       "      <td>Alliance Bond Fund, Inc.</td>\n",
       "      <td>Alliance Bond Fund, Inc., an investment fund, ...</td>\n",
       "      <td>1</td>\n",
       "    </tr>\n",
       "    <tr>\n",
       "      <th>2475</th>\n",
       "      <td>TRAIN_2475</td>\n",
       "      <td>Peguero</td>\n",
       "      <td>United States</td>\n",
       "      <td>In 1992, the District Court sentenced Manuel D...</td>\n",
       "      <td>0</td>\n",
       "    </tr>\n",
       "    <tr>\n",
       "      <th>2476</th>\n",
       "      <td>TRAIN_2476</td>\n",
       "      <td>Immigration and Naturalization Service</td>\n",
       "      <td>St. Cyr</td>\n",
       "      <td>On March 8, 1996, Enrico St. Cyr, a lawful per...</td>\n",
       "      <td>0</td>\n",
       "    </tr>\n",
       "    <tr>\n",
       "      <th>2477</th>\n",
       "      <td>TRAIN_2477</td>\n",
       "      <td>Markman</td>\n",
       "      <td>Westview Instruments, Inc.</td>\n",
       "      <td>Herbert Markman owns the patent to a system th...</td>\n",
       "      <td>0</td>\n",
       "    </tr>\n",
       "  </tbody>\n",
       "</table>\n",
       "<p>2478 rows × 5 columns</p>\n",
       "</div>"
      ],
      "text/plain": [
       "              ID                                   first_party  \\\n",
       "0     TRAIN_0000                             Phil A. St. Amant   \n",
       "1     TRAIN_0001                                Stephen Duncan   \n",
       "2     TRAIN_0002                             Billy Joe Magwood   \n",
       "3     TRAIN_0003                                    Linkletter   \n",
       "4     TRAIN_0004                            William Earl Fikes   \n",
       "...          ...                                           ...   \n",
       "2473  TRAIN_2473  HollyFrontier Cheyenne Refining, LLC, et al.   \n",
       "2474  TRAIN_2474           Grupo Mexicano de Desarrollo, S. A.   \n",
       "2475  TRAIN_2475                                       Peguero   \n",
       "2476  TRAIN_2476        Immigration and Naturalization Service   \n",
       "2477  TRAIN_2477                                       Markman   \n",
       "\n",
       "                             second_party  \\\n",
       "0                      Herman A. Thompson   \n",
       "1                          Lawrence Owens   \n",
       "2          Tony Patterson, Warden, et al.   \n",
       "3                                  Walker   \n",
       "4                                 Alabama   \n",
       "...                                   ...   \n",
       "2473  Renewable Fuels Association, et al.   \n",
       "2474             Alliance Bond Fund, Inc.   \n",
       "2475                        United States   \n",
       "2476                              St. Cyr   \n",
       "2477           Westview Instruments, Inc.   \n",
       "\n",
       "                                                  facts  first_party_winner  \n",
       "0     On June 27, 1962, Phil St. Amant, a candidate ...                   1  \n",
       "1     Ramon Nelson was riding his bike when he suffe...                   0  \n",
       "2     An Alabama state court convicted Billy Joe Mag...                   1  \n",
       "3     Victor Linkletter was convicted in state court...                   0  \n",
       "4     On April 24, 1953 in Selma, Alabama, an intrud...                   1  \n",
       "...                                                 ...                 ...  \n",
       "2473  Congress amended the Clean Air Act through the...                   1  \n",
       "2474  Alliance Bond Fund, Inc., an investment fund, ...                   1  \n",
       "2475  In 1992, the District Court sentenced Manuel D...                   0  \n",
       "2476  On March 8, 1996, Enrico St. Cyr, a lawful per...                   0  \n",
       "2477  Herbert Markman owns the patent to a system th...                   0  \n",
       "\n",
       "[2478 rows x 5 columns]"
      ]
     },
     "execution_count": 3,
     "metadata": {},
     "output_type": "execute_result"
    }
   ],
   "source": [
    "train"
   ]
  },
  {
   "cell_type": "code",
   "execution_count": 4,
   "id": "8011b50f",
   "metadata": {},
   "outputs": [
    {
     "data": {
      "text/html": [
       "<div>\n",
       "<style scoped>\n",
       "    .dataframe tbody tr th:only-of-type {\n",
       "        vertical-align: middle;\n",
       "    }\n",
       "\n",
       "    .dataframe tbody tr th {\n",
       "        vertical-align: top;\n",
       "    }\n",
       "\n",
       "    .dataframe thead th {\n",
       "        text-align: right;\n",
       "    }\n",
       "</style>\n",
       "<table border=\"1\" class=\"dataframe\">\n",
       "  <thead>\n",
       "    <tr style=\"text-align: right;\">\n",
       "      <th></th>\n",
       "      <th>ID</th>\n",
       "      <th>first_party</th>\n",
       "      <th>second_party</th>\n",
       "      <th>facts</th>\n",
       "    </tr>\n",
       "  </thead>\n",
       "  <tbody>\n",
       "    <tr>\n",
       "      <th>0</th>\n",
       "      <td>TEST_0000</td>\n",
       "      <td>Salerno</td>\n",
       "      <td>United States</td>\n",
       "      <td>The 1984 Bail Reform Act allowed the federal c...</td>\n",
       "    </tr>\n",
       "    <tr>\n",
       "      <th>1</th>\n",
       "      <td>TEST_0001</td>\n",
       "      <td>Milberg Weiss Bershad Hynes and Lerach</td>\n",
       "      <td>Lexecon, Inc.</td>\n",
       "      <td>Lexecon Inc. was a defendant in a class action...</td>\n",
       "    </tr>\n",
       "    <tr>\n",
       "      <th>2</th>\n",
       "      <td>TEST_0002</td>\n",
       "      <td>No. 07-582\\t Title: \\t Federal Communications ...</td>\n",
       "      <td>Fox Television Stations, Inc., et al.</td>\n",
       "      <td>In 2002 and 2003, Fox Television Stations broa...</td>\n",
       "    </tr>\n",
       "    <tr>\n",
       "      <th>3</th>\n",
       "      <td>TEST_0003</td>\n",
       "      <td>Harold Kaufman</td>\n",
       "      <td>United States</td>\n",
       "      <td>During his trial for armed robbery of a federa...</td>\n",
       "    </tr>\n",
       "    <tr>\n",
       "      <th>4</th>\n",
       "      <td>TEST_0004</td>\n",
       "      <td>Berger</td>\n",
       "      <td>Hanlon</td>\n",
       "      <td>In 1993, a magistrate judge issued a warrant a...</td>\n",
       "    </tr>\n",
       "    <tr>\n",
       "      <th>...</th>\n",
       "      <td>...</td>\n",
       "      <td>...</td>\n",
       "      <td>...</td>\n",
       "      <td>...</td>\n",
       "    </tr>\n",
       "    <tr>\n",
       "      <th>1235</th>\n",
       "      <td>TEST_1235</td>\n",
       "      <td>Haitian Centers Council, Inc., et al.</td>\n",
       "      <td>Chris Sale, Acting Commissioner, Immigration A...</td>\n",
       "      <td>According to Executive Order No. 12807 signed ...</td>\n",
       "    </tr>\n",
       "    <tr>\n",
       "      <th>1236</th>\n",
       "      <td>TEST_1236</td>\n",
       "      <td>Whitman</td>\n",
       "      <td>American Trucking Associations, Inc.</td>\n",
       "      <td>Section 109(a) of the Clean Air Act (CAA) requ...</td>\n",
       "    </tr>\n",
       "    <tr>\n",
       "      <th>1237</th>\n",
       "      <td>TEST_1237</td>\n",
       "      <td>Linda A. Matteo and John J. Madigan</td>\n",
       "      <td>William G. Barr</td>\n",
       "      <td>Linda Matteo and John Madigan created a plan f...</td>\n",
       "    </tr>\n",
       "    <tr>\n",
       "      <th>1238</th>\n",
       "      <td>TEST_1238</td>\n",
       "      <td>Washington State Apple Advertising Commission</td>\n",
       "      <td>Hunt</td>\n",
       "      <td>In 1972, the North Carolina Board of Agricultu...</td>\n",
       "    </tr>\n",
       "    <tr>\n",
       "      <th>1239</th>\n",
       "      <td>TEST_1239</td>\n",
       "      <td>Theodore Stovall</td>\n",
       "      <td>Wilfred Denno, Warden</td>\n",
       "      <td>On August 23, 1961, Dr. Paul Berheldt was stab...</td>\n",
       "    </tr>\n",
       "  </tbody>\n",
       "</table>\n",
       "<p>1240 rows × 4 columns</p>\n",
       "</div>"
      ],
      "text/plain": [
       "             ID                                        first_party  \\\n",
       "0     TEST_0000                                            Salerno   \n",
       "1     TEST_0001             Milberg Weiss Bershad Hynes and Lerach   \n",
       "2     TEST_0002  No. 07-582\\t Title: \\t Federal Communications ...   \n",
       "3     TEST_0003                                    Harold Kaufman    \n",
       "4     TEST_0004                                             Berger   \n",
       "...         ...                                                ...   \n",
       "1235  TEST_1235              Haitian Centers Council, Inc., et al.   \n",
       "1236  TEST_1236                                            Whitman   \n",
       "1237  TEST_1237                Linda A. Matteo and John J. Madigan   \n",
       "1238  TEST_1238      Washington State Apple Advertising Commission   \n",
       "1239  TEST_1239                                   Theodore Stovall   \n",
       "\n",
       "                                           second_party  \\\n",
       "0                                         United States   \n",
       "1                                         Lexecon, Inc.   \n",
       "2                 Fox Television Stations, Inc., et al.   \n",
       "3                                         United States   \n",
       "4                                                Hanlon   \n",
       "...                                                 ...   \n",
       "1235  Chris Sale, Acting Commissioner, Immigration A...   \n",
       "1236               American Trucking Associations, Inc.   \n",
       "1237                                    William G. Barr   \n",
       "1238                                               Hunt   \n",
       "1239                              Wilfred Denno, Warden   \n",
       "\n",
       "                                                  facts  \n",
       "0     The 1984 Bail Reform Act allowed the federal c...  \n",
       "1     Lexecon Inc. was a defendant in a class action...  \n",
       "2     In 2002 and 2003, Fox Television Stations broa...  \n",
       "3     During his trial for armed robbery of a federa...  \n",
       "4     In 1993, a magistrate judge issued a warrant a...  \n",
       "...                                                 ...  \n",
       "1235  According to Executive Order No. 12807 signed ...  \n",
       "1236  Section 109(a) of the Clean Air Act (CAA) requ...  \n",
       "1237  Linda Matteo and John Madigan created a plan f...  \n",
       "1238  In 1972, the North Carolina Board of Agricultu...  \n",
       "1239  On August 23, 1961, Dr. Paul Berheldt was stab...  \n",
       "\n",
       "[1240 rows x 4 columns]"
      ]
     },
     "execution_count": 4,
     "metadata": {},
     "output_type": "execute_result"
    }
   ],
   "source": [
    "test"
   ]
  },
  {
   "cell_type": "code",
   "execution_count": 5,
   "id": "597b85e8",
   "metadata": {},
   "outputs": [
    {
     "data": {
      "text/html": [
       "<div>\n",
       "<style scoped>\n",
       "    .dataframe tbody tr th:only-of-type {\n",
       "        vertical-align: middle;\n",
       "    }\n",
       "\n",
       "    .dataframe tbody tr th {\n",
       "        vertical-align: top;\n",
       "    }\n",
       "\n",
       "    .dataframe thead th {\n",
       "        text-align: right;\n",
       "    }\n",
       "</style>\n",
       "<table border=\"1\" class=\"dataframe\">\n",
       "  <thead>\n",
       "    <tr style=\"text-align: right;\">\n",
       "      <th></th>\n",
       "      <th>ID</th>\n",
       "      <th>first_party_winner</th>\n",
       "    </tr>\n",
       "  </thead>\n",
       "  <tbody>\n",
       "    <tr>\n",
       "      <th>0</th>\n",
       "      <td>TEST_0000</td>\n",
       "      <td>0</td>\n",
       "    </tr>\n",
       "    <tr>\n",
       "      <th>1</th>\n",
       "      <td>TEST_0001</td>\n",
       "      <td>0</td>\n",
       "    </tr>\n",
       "    <tr>\n",
       "      <th>2</th>\n",
       "      <td>TEST_0002</td>\n",
       "      <td>0</td>\n",
       "    </tr>\n",
       "    <tr>\n",
       "      <th>3</th>\n",
       "      <td>TEST_0003</td>\n",
       "      <td>0</td>\n",
       "    </tr>\n",
       "    <tr>\n",
       "      <th>4</th>\n",
       "      <td>TEST_0004</td>\n",
       "      <td>0</td>\n",
       "    </tr>\n",
       "    <tr>\n",
       "      <th>...</th>\n",
       "      <td>...</td>\n",
       "      <td>...</td>\n",
       "    </tr>\n",
       "    <tr>\n",
       "      <th>1235</th>\n",
       "      <td>TEST_1235</td>\n",
       "      <td>0</td>\n",
       "    </tr>\n",
       "    <tr>\n",
       "      <th>1236</th>\n",
       "      <td>TEST_1236</td>\n",
       "      <td>0</td>\n",
       "    </tr>\n",
       "    <tr>\n",
       "      <th>1237</th>\n",
       "      <td>TEST_1237</td>\n",
       "      <td>0</td>\n",
       "    </tr>\n",
       "    <tr>\n",
       "      <th>1238</th>\n",
       "      <td>TEST_1238</td>\n",
       "      <td>0</td>\n",
       "    </tr>\n",
       "    <tr>\n",
       "      <th>1239</th>\n",
       "      <td>TEST_1239</td>\n",
       "      <td>0</td>\n",
       "    </tr>\n",
       "  </tbody>\n",
       "</table>\n",
       "<p>1240 rows × 2 columns</p>\n",
       "</div>"
      ],
      "text/plain": [
       "             ID  first_party_winner\n",
       "0     TEST_0000                   0\n",
       "1     TEST_0001                   0\n",
       "2     TEST_0002                   0\n",
       "3     TEST_0003                   0\n",
       "4     TEST_0004                   0\n",
       "...         ...                 ...\n",
       "1235  TEST_1235                   0\n",
       "1236  TEST_1236                   0\n",
       "1237  TEST_1237                   0\n",
       "1238  TEST_1238                   0\n",
       "1239  TEST_1239                   0\n",
       "\n",
       "[1240 rows x 2 columns]"
      ]
     },
     "execution_count": 5,
     "metadata": {},
     "output_type": "execute_result"
    }
   ],
   "source": [
    "sample_submission"
   ]
  },
  {
   "cell_type": "code",
   "execution_count": 6,
   "id": "eb2ef6ca",
   "metadata": {},
   "outputs": [
    {
     "name": "stdout",
     "output_type": "stream",
     "text": [
      "<class 'pandas.core.frame.DataFrame'>\n",
      "RangeIndex: 2478 entries, 0 to 2477\n",
      "Data columns (total 5 columns):\n",
      " #   Column              Non-Null Count  Dtype \n",
      "---  ------              --------------  ----- \n",
      " 0   ID                  2478 non-null   object\n",
      " 1   first_party         2478 non-null   object\n",
      " 2   second_party        2478 non-null   object\n",
      " 3   facts               2478 non-null   object\n",
      " 4   first_party_winner  2478 non-null   int64 \n",
      "dtypes: int64(1), object(4)\n",
      "memory usage: 96.9+ KB\n",
      "\n",
      "\n",
      "\n",
      "\n",
      "<class 'pandas.core.frame.DataFrame'>\n",
      "RangeIndex: 1240 entries, 0 to 1239\n",
      "Data columns (total 4 columns):\n",
      " #   Column        Non-Null Count  Dtype \n",
      "---  ------        --------------  ----- \n",
      " 0   ID            1240 non-null   object\n",
      " 1   first_party   1240 non-null   object\n",
      " 2   second_party  1240 non-null   object\n",
      " 3   facts         1240 non-null   object\n",
      "dtypes: object(4)\n",
      "memory usage: 38.9+ KB\n"
     ]
    }
   ],
   "source": [
    "train.info()\n",
    "print('\\n\\n\\n')\n",
    "test.info()"
   ]
  },
  {
   "cell_type": "code",
   "execution_count": 7,
   "id": "9b052690",
   "metadata": {
    "scrolled": true
   },
   "outputs": [
    {
     "data": {
      "text/html": [
       "<div>\n",
       "<style scoped>\n",
       "    .dataframe tbody tr th:only-of-type {\n",
       "        vertical-align: middle;\n",
       "    }\n",
       "\n",
       "    .dataframe tbody tr th {\n",
       "        vertical-align: top;\n",
       "    }\n",
       "\n",
       "    .dataframe thead th {\n",
       "        text-align: right;\n",
       "    }\n",
       "</style>\n",
       "<table border=\"1\" class=\"dataframe\">\n",
       "  <thead>\n",
       "    <tr style=\"text-align: right;\">\n",
       "      <th></th>\n",
       "      <th>facts</th>\n",
       "    </tr>\n",
       "  </thead>\n",
       "  <tbody>\n",
       "    <tr>\n",
       "      <th>0</th>\n",
       "      <td>On June 27, 1962, Phil St. Amant, a candidate ...</td>\n",
       "    </tr>\n",
       "    <tr>\n",
       "      <th>1</th>\n",
       "      <td>Ramon Nelson was riding his bike when he suffe...</td>\n",
       "    </tr>\n",
       "    <tr>\n",
       "      <th>2</th>\n",
       "      <td>An Alabama state court convicted Billy Joe Mag...</td>\n",
       "    </tr>\n",
       "    <tr>\n",
       "      <th>3</th>\n",
       "      <td>Victor Linkletter was convicted in state court...</td>\n",
       "    </tr>\n",
       "    <tr>\n",
       "      <th>4</th>\n",
       "      <td>On April 24, 1953 in Selma, Alabama, an intrud...</td>\n",
       "    </tr>\n",
       "    <tr>\n",
       "      <th>...</th>\n",
       "      <td>...</td>\n",
       "    </tr>\n",
       "    <tr>\n",
       "      <th>2473</th>\n",
       "      <td>Congress amended the Clean Air Act through the...</td>\n",
       "    </tr>\n",
       "    <tr>\n",
       "      <th>2474</th>\n",
       "      <td>Alliance Bond Fund, Inc., an investment fund, ...</td>\n",
       "    </tr>\n",
       "    <tr>\n",
       "      <th>2475</th>\n",
       "      <td>In 1992, the District Court sentenced Manuel D...</td>\n",
       "    </tr>\n",
       "    <tr>\n",
       "      <th>2476</th>\n",
       "      <td>On March 8, 1996, Enrico St. Cyr, a lawful per...</td>\n",
       "    </tr>\n",
       "    <tr>\n",
       "      <th>2477</th>\n",
       "      <td>Herbert Markman owns the patent to a system th...</td>\n",
       "    </tr>\n",
       "  </tbody>\n",
       "</table>\n",
       "<p>2478 rows × 1 columns</p>\n",
       "</div>"
      ],
      "text/plain": [
       "                                                  facts\n",
       "0     On June 27, 1962, Phil St. Amant, a candidate ...\n",
       "1     Ramon Nelson was riding his bike when he suffe...\n",
       "2     An Alabama state court convicted Billy Joe Mag...\n",
       "3     Victor Linkletter was convicted in state court...\n",
       "4     On April 24, 1953 in Selma, Alabama, an intrud...\n",
       "...                                                 ...\n",
       "2473  Congress amended the Clean Air Act through the...\n",
       "2474  Alliance Bond Fund, Inc., an investment fund, ...\n",
       "2475  In 1992, the District Court sentenced Manuel D...\n",
       "2476  On March 8, 1996, Enrico St. Cyr, a lawful per...\n",
       "2477  Herbert Markman owns the patent to a system th...\n",
       "\n",
       "[2478 rows x 1 columns]"
      ]
     },
     "execution_count": 7,
     "metadata": {},
     "output_type": "execute_result"
    }
   ],
   "source": [
    "df = pd.DataFrame(train['facts'])\n",
    "df"
   ]
  },
  {
   "cell_type": "code",
   "execution_count": 8,
   "id": "6553fed8",
   "metadata": {
    "scrolled": true
   },
   "outputs": [
    {
     "data": {
      "text/html": [
       "<div>\n",
       "<style scoped>\n",
       "    .dataframe tbody tr th:only-of-type {\n",
       "        vertical-align: middle;\n",
       "    }\n",
       "\n",
       "    .dataframe tbody tr th {\n",
       "        vertical-align: top;\n",
       "    }\n",
       "\n",
       "    .dataframe thead th {\n",
       "        text-align: right;\n",
       "    }\n",
       "</style>\n",
       "<table border=\"1\" class=\"dataframe\">\n",
       "  <thead>\n",
       "    <tr style=\"text-align: right;\">\n",
       "      <th></th>\n",
       "      <th>facts</th>\n",
       "    </tr>\n",
       "  </thead>\n",
       "  <tbody>\n",
       "    <tr>\n",
       "      <th>0</th>\n",
       "      <td>on june phil st amant candidate for public off...</td>\n",
       "    </tr>\n",
       "    <tr>\n",
       "      <th>1</th>\n",
       "      <td>ramon nelson was ridin his bike when he suffer...</td>\n",
       "    </tr>\n",
       "    <tr>\n",
       "      <th>2</th>\n",
       "      <td>an alabama state court convicted billy joe maw...</td>\n",
       "    </tr>\n",
       "    <tr>\n",
       "      <th>3</th>\n",
       "      <td>victor linkletter was convicted in state court...</td>\n",
       "    </tr>\n",
       "    <tr>\n",
       "      <th>4</th>\n",
       "      <td>on april in selma alabama an intruder broke in...</td>\n",
       "    </tr>\n",
       "    <tr>\n",
       "      <th>...</th>\n",
       "      <td>...</td>\n",
       "    </tr>\n",
       "    <tr>\n",
       "      <th>2473</th>\n",
       "      <td>conress amended the clean air act throuh the e...</td>\n",
       "    </tr>\n",
       "    <tr>\n",
       "      <th>2474</th>\n",
       "      <td>alliance bond fund inc an investment fund purc...</td>\n",
       "    </tr>\n",
       "    <tr>\n",
       "      <th>2475</th>\n",
       "      <td>in the district court sentenced manuel peuero ...</td>\n",
       "    </tr>\n",
       "    <tr>\n",
       "      <th>2476</th>\n",
       "      <td>on march enrico st cyr lawful permanent reside...</td>\n",
       "    </tr>\n",
       "    <tr>\n",
       "      <th>2477</th>\n",
       "      <td>herbert maran owns the patent to system that t...</td>\n",
       "    </tr>\n",
       "  </tbody>\n",
       "</table>\n",
       "<p>2478 rows × 1 columns</p>\n",
       "</div>"
      ],
      "text/plain": [
       "                                                  facts\n",
       "0     on june phil st amant candidate for public off...\n",
       "1     ramon nelson was ridin his bike when he suffer...\n",
       "2     an alabama state court convicted billy joe maw...\n",
       "3     victor linkletter was convicted in state court...\n",
       "4     on april in selma alabama an intruder broke in...\n",
       "...                                                 ...\n",
       "2473  conress amended the clean air act throuh the e...\n",
       "2474  alliance bond fund inc an investment fund purc...\n",
       "2475  in the district court sentenced manuel peuero ...\n",
       "2476  on march enrico st cyr lawful permanent reside...\n",
       "2477  herbert maran owns the patent to system that t...\n",
       "\n",
       "[2478 rows x 1 columns]"
      ]
     },
     "execution_count": 8,
     "metadata": {},
     "output_type": "execute_result"
    }
   ],
   "source": [
    "temp = []\n",
    "for i in range(len(df)):\n",
    "    temp.append(text_processor(df['facts'][i]))\n",
    "\n",
    "temp_dict = {\"facts\" : temp}\n",
    "    \n",
    "df = pd.DataFrame(temp_dict)\n",
    "df"
   ]
  },
  {
   "cell_type": "code",
   "execution_count": 9,
   "id": "463e8274",
   "metadata": {
    "scrolled": true
   },
   "outputs": [
    {
     "data": {
      "text/html": [
       "<div>\n",
       "<style scoped>\n",
       "    .dataframe tbody tr th:only-of-type {\n",
       "        vertical-align: middle;\n",
       "    }\n",
       "\n",
       "    .dataframe tbody tr th {\n",
       "        vertical-align: top;\n",
       "    }\n",
       "\n",
       "    .dataframe thead th {\n",
       "        text-align: right;\n",
       "    }\n",
       "</style>\n",
       "<table border=\"1\" class=\"dataframe\">\n",
       "  <thead>\n",
       "    <tr style=\"text-align: right;\">\n",
       "      <th></th>\n",
       "      <th>ID</th>\n",
       "      <th>first_party</th>\n",
       "      <th>second_party</th>\n",
       "      <th>facts</th>\n",
       "      <th>first_party_winner</th>\n",
       "    </tr>\n",
       "  </thead>\n",
       "  <tbody>\n",
       "    <tr>\n",
       "      <th>0</th>\n",
       "      <td>TRAIN_0000</td>\n",
       "      <td>Phil A. St. Amant</td>\n",
       "      <td>Herman A. Thompson</td>\n",
       "      <td>on june phil st amant candidate for public off...</td>\n",
       "      <td>1</td>\n",
       "    </tr>\n",
       "    <tr>\n",
       "      <th>1</th>\n",
       "      <td>TRAIN_0001</td>\n",
       "      <td>Stephen Duncan</td>\n",
       "      <td>Lawrence Owens</td>\n",
       "      <td>ramon nelson was ridin his bike when he suffer...</td>\n",
       "      <td>0</td>\n",
       "    </tr>\n",
       "    <tr>\n",
       "      <th>2</th>\n",
       "      <td>TRAIN_0002</td>\n",
       "      <td>Billy Joe Magwood</td>\n",
       "      <td>Tony Patterson, Warden, et al.</td>\n",
       "      <td>an alabama state court convicted billy joe maw...</td>\n",
       "      <td>1</td>\n",
       "    </tr>\n",
       "    <tr>\n",
       "      <th>3</th>\n",
       "      <td>TRAIN_0003</td>\n",
       "      <td>Linkletter</td>\n",
       "      <td>Walker</td>\n",
       "      <td>victor linkletter was convicted in state court...</td>\n",
       "      <td>0</td>\n",
       "    </tr>\n",
       "    <tr>\n",
       "      <th>4</th>\n",
       "      <td>TRAIN_0004</td>\n",
       "      <td>William Earl Fikes</td>\n",
       "      <td>Alabama</td>\n",
       "      <td>on april in selma alabama an intruder broke in...</td>\n",
       "      <td>1</td>\n",
       "    </tr>\n",
       "    <tr>\n",
       "      <th>...</th>\n",
       "      <td>...</td>\n",
       "      <td>...</td>\n",
       "      <td>...</td>\n",
       "      <td>...</td>\n",
       "      <td>...</td>\n",
       "    </tr>\n",
       "    <tr>\n",
       "      <th>2473</th>\n",
       "      <td>TRAIN_2473</td>\n",
       "      <td>HollyFrontier Cheyenne Refining, LLC, et al.</td>\n",
       "      <td>Renewable Fuels Association, et al.</td>\n",
       "      <td>conress amended the clean air act throuh the e...</td>\n",
       "      <td>1</td>\n",
       "    </tr>\n",
       "    <tr>\n",
       "      <th>2474</th>\n",
       "      <td>TRAIN_2474</td>\n",
       "      <td>Grupo Mexicano de Desarrollo, S. A.</td>\n",
       "      <td>Alliance Bond Fund, Inc.</td>\n",
       "      <td>alliance bond fund inc an investment fund purc...</td>\n",
       "      <td>1</td>\n",
       "    </tr>\n",
       "    <tr>\n",
       "      <th>2475</th>\n",
       "      <td>TRAIN_2475</td>\n",
       "      <td>Peguero</td>\n",
       "      <td>United States</td>\n",
       "      <td>in the district court sentenced manuel peuero ...</td>\n",
       "      <td>0</td>\n",
       "    </tr>\n",
       "    <tr>\n",
       "      <th>2476</th>\n",
       "      <td>TRAIN_2476</td>\n",
       "      <td>Immigration and Naturalization Service</td>\n",
       "      <td>St. Cyr</td>\n",
       "      <td>on march enrico st cyr lawful permanent reside...</td>\n",
       "      <td>0</td>\n",
       "    </tr>\n",
       "    <tr>\n",
       "      <th>2477</th>\n",
       "      <td>TRAIN_2477</td>\n",
       "      <td>Markman</td>\n",
       "      <td>Westview Instruments, Inc.</td>\n",
       "      <td>herbert maran owns the patent to system that t...</td>\n",
       "      <td>0</td>\n",
       "    </tr>\n",
       "  </tbody>\n",
       "</table>\n",
       "<p>2478 rows × 5 columns</p>\n",
       "</div>"
      ],
      "text/plain": [
       "              ID                                   first_party  \\\n",
       "0     TRAIN_0000                             Phil A. St. Amant   \n",
       "1     TRAIN_0001                                Stephen Duncan   \n",
       "2     TRAIN_0002                             Billy Joe Magwood   \n",
       "3     TRAIN_0003                                    Linkletter   \n",
       "4     TRAIN_0004                            William Earl Fikes   \n",
       "...          ...                                           ...   \n",
       "2473  TRAIN_2473  HollyFrontier Cheyenne Refining, LLC, et al.   \n",
       "2474  TRAIN_2474           Grupo Mexicano de Desarrollo, S. A.   \n",
       "2475  TRAIN_2475                                       Peguero   \n",
       "2476  TRAIN_2476        Immigration and Naturalization Service   \n",
       "2477  TRAIN_2477                                       Markman   \n",
       "\n",
       "                             second_party  \\\n",
       "0                      Herman A. Thompson   \n",
       "1                          Lawrence Owens   \n",
       "2          Tony Patterson, Warden, et al.   \n",
       "3                                  Walker   \n",
       "4                                 Alabama   \n",
       "...                                   ...   \n",
       "2473  Renewable Fuels Association, et al.   \n",
       "2474             Alliance Bond Fund, Inc.   \n",
       "2475                        United States   \n",
       "2476                              St. Cyr   \n",
       "2477           Westview Instruments, Inc.   \n",
       "\n",
       "                                                  facts  first_party_winner  \n",
       "0     on june phil st amant candidate for public off...                   1  \n",
       "1     ramon nelson was ridin his bike when he suffer...                   0  \n",
       "2     an alabama state court convicted billy joe maw...                   1  \n",
       "3     victor linkletter was convicted in state court...                   0  \n",
       "4     on april in selma alabama an intruder broke in...                   1  \n",
       "...                                                 ...                 ...  \n",
       "2473  conress amended the clean air act throuh the e...                   1  \n",
       "2474  alliance bond fund inc an investment fund purc...                   1  \n",
       "2475  in the district court sentenced manuel peuero ...                   0  \n",
       "2476  on march enrico st cyr lawful permanent reside...                   0  \n",
       "2477  herbert maran owns the patent to system that t...                   0  \n",
       "\n",
       "[2478 rows x 5 columns]"
      ]
     },
     "execution_count": 9,
     "metadata": {},
     "output_type": "execute_result"
    }
   ],
   "source": [
    "df = pd.concat([train['ID'], df],axis=1)\n",
    "temp = train.drop(columns=['facts', 'first_party_winner'], axis=1)\n",
    "temp = pd.merge(temp, df, how='right', on='ID')\n",
    "temptemp = train.drop(columns=['first_party', 'second_party', 'facts'], axis=1)\n",
    "train_cleansed = pd.merge(temp, temptemp, how='right', on='ID')\n",
    "\n",
    "train_cleansed"
   ]
  },
  {
   "cell_type": "code",
   "execution_count": 10,
   "id": "acd36af6",
   "metadata": {},
   "outputs": [
    {
     "name": "stderr",
     "output_type": "stream",
     "text": [
      "100%|███████████████████████████████████████| 2478/2478 [01:20<00:00, 30.76it/s]"
     ]
    },
    {
     "name": "stdout",
     "output_type": "stream",
     "text": [
      "         0         1         2         3         4         5         6    \\\n",
      "0  -0.056451  0.047922 -0.030178 -0.049104  0.034502  0.083147  0.012897   \n",
      "0  -0.073512  0.097178 -0.079573 -0.011533  0.100122  0.059827  0.086047   \n",
      "0  -0.034082  0.032845 -0.040954 -0.061393 -0.029500  0.053743  0.027276   \n",
      "0  -0.018114  0.094008  0.046437 -0.053822  0.049093  0.126505  0.017560   \n",
      "0  -0.114015  0.080557 -0.007738 -0.025155  0.045192  0.034664  0.063482   \n",
      "..       ...       ...       ...       ...       ...       ...       ...   \n",
      "0  -0.061531  0.057405  0.101133  0.030702  0.074230  0.022840 -0.027709   \n",
      "0  -0.090417  0.028924 -0.081324 -0.029430 -0.046380 -0.019520  0.008959   \n",
      "0  -0.041580  0.084520  0.010638 -0.033893 -0.020766  0.053962  0.088730   \n",
      "0  -0.059591  0.043161 -0.011872 -0.036926  0.003213  0.039996  0.025882   \n",
      "0  -0.069190 -0.021553  0.004690 -0.090577 -0.030628  0.035812  0.073266   \n",
      "\n",
      "         7         8         9    ...       374       375       376       377  \\\n",
      "0   0.013408  0.031619 -0.013063  ...  0.059764  0.020019  0.077356  0.069215   \n",
      "0   0.058176 -0.035421  0.058338  ...  0.035652 -0.008983  0.024879 -0.018461   \n",
      "0  -0.026623  0.042603  0.028693  ...  0.093546 -0.014960  0.080000 -0.001093   \n",
      "0   0.026142 -0.055703  0.028071  ...  0.076705  0.018375  0.103841 -0.029115   \n",
      "0   0.029306  0.025646  0.063673  ...  0.111089  0.035143  0.029037  0.073725   \n",
      "..       ...       ...       ...  ...       ...       ...       ...       ...   \n",
      "0  -0.024411 -0.101617 -0.011733  ...  0.016205  0.003931 -0.028398  0.024224   \n",
      "0   0.040005  0.026914  0.003984  ... -0.000156 -0.050407 -0.021934  0.048777   \n",
      "0   0.119078  0.009728  0.042931  ...  0.080647  0.032001  0.047340 -0.020110   \n",
      "0   0.038786 -0.020471 -0.010772  ...  0.113809  0.029224  0.006738  0.075058   \n",
      "0   0.039189  0.011387  0.002842  ... -0.007853  0.054305  0.055049 -0.041417   \n",
      "\n",
      "         378       379       380       381       382       383  \n",
      "0  -0.025085 -0.074835  0.006206  0.013560  0.006444  0.017760  \n",
      "0  -0.122706 -0.032589  0.050659  0.005404  0.059110 -0.043093  \n",
      "0  -0.004269 -0.078398  0.076893  0.006247  0.071419 -0.018286  \n",
      "0  -0.106306 -0.058419  0.019161  0.066408  0.027543 -0.005833  \n",
      "0  -0.061873 -0.016580 -0.007208  0.064021  0.066289  0.010115  \n",
      "..       ...       ...       ...       ...       ...       ...  \n",
      "0  -0.111673 -0.031965  0.082727  0.019761  0.026495 -0.007869  \n",
      "0  -0.010920 -0.051516 -0.013899 -0.057847  0.070234 -0.006851  \n",
      "0  -0.061947  0.003582  0.006040  0.048944  0.035704  0.014053  \n",
      "0  -0.087660 -0.021949 -0.001429  0.032241  0.061118  0.018392  \n",
      "0  -0.026889  0.015221  0.089885 -0.019540  0.075225  0.018811  \n",
      "\n",
      "[2478 rows x 384 columns]\n"
     ]
    },
    {
     "name": "stderr",
     "output_type": "stream",
     "text": [
      "\n"
     ]
    }
   ],
   "source": [
    "tokenizer = AutoTokenizer.from_pretrained('sentence-transformers/all-MiniLM-L6-v2')\n",
    "model = AutoModel.from_pretrained('sentence-transformers/all-MiniLM-L6-v2')\n",
    "\n",
    "combined_se_df = pd.DataFrame()\n",
    "for fact in tqdm(train_cleansed['facts']):\n",
    "    encoded_input = tokenizer(fact, padding=True, truncation=True, return_tensors='pt')\n",
    "    with torch.no_grad():\n",
    "        model_output = model(**encoded_input)\n",
    "    sentence_embeddings = mean_pooling(model_output, encoded_input['attention_mask'])\n",
    "    sentence_embeddings = F.normalize(sentence_embeddings, p=2, dim=1)\n",
    "    se_df = pd.DataFrame(sentence_embeddings)\n",
    "    combined_se_df = pd.concat([combined_se_df, se_df])\n",
    "    \n",
    "print(combined_se_df)"
   ]
  },
  {
   "cell_type": "code",
   "execution_count": 11,
   "id": "3786fde2",
   "metadata": {},
   "outputs": [
    {
     "data": {
      "text/html": [
       "<div>\n",
       "<style scoped>\n",
       "    .dataframe tbody tr th:only-of-type {\n",
       "        vertical-align: middle;\n",
       "    }\n",
       "\n",
       "    .dataframe tbody tr th {\n",
       "        vertical-align: top;\n",
       "    }\n",
       "\n",
       "    .dataframe thead th {\n",
       "        text-align: right;\n",
       "    }\n",
       "</style>\n",
       "<table border=\"1\" class=\"dataframe\">\n",
       "  <thead>\n",
       "    <tr style=\"text-align: right;\">\n",
       "      <th></th>\n",
       "      <th>0</th>\n",
       "      <th>1</th>\n",
       "      <th>2</th>\n",
       "      <th>3</th>\n",
       "      <th>4</th>\n",
       "      <th>5</th>\n",
       "      <th>6</th>\n",
       "      <th>7</th>\n",
       "      <th>8</th>\n",
       "      <th>9</th>\n",
       "      <th>...</th>\n",
       "      <th>374</th>\n",
       "      <th>375</th>\n",
       "      <th>376</th>\n",
       "      <th>377</th>\n",
       "      <th>378</th>\n",
       "      <th>379</th>\n",
       "      <th>380</th>\n",
       "      <th>381</th>\n",
       "      <th>382</th>\n",
       "      <th>383</th>\n",
       "    </tr>\n",
       "    <tr>\n",
       "      <th>ID</th>\n",
       "      <th></th>\n",
       "      <th></th>\n",
       "      <th></th>\n",
       "      <th></th>\n",
       "      <th></th>\n",
       "      <th></th>\n",
       "      <th></th>\n",
       "      <th></th>\n",
       "      <th></th>\n",
       "      <th></th>\n",
       "      <th></th>\n",
       "      <th></th>\n",
       "      <th></th>\n",
       "      <th></th>\n",
       "      <th></th>\n",
       "      <th></th>\n",
       "      <th></th>\n",
       "      <th></th>\n",
       "      <th></th>\n",
       "      <th></th>\n",
       "      <th></th>\n",
       "    </tr>\n",
       "  </thead>\n",
       "  <tbody>\n",
       "    <tr>\n",
       "      <th>TRAIN_0000</th>\n",
       "      <td>-0.056451</td>\n",
       "      <td>0.047922</td>\n",
       "      <td>-0.030178</td>\n",
       "      <td>-0.049104</td>\n",
       "      <td>0.034502</td>\n",
       "      <td>0.083147</td>\n",
       "      <td>0.012897</td>\n",
       "      <td>0.013408</td>\n",
       "      <td>0.031619</td>\n",
       "      <td>-0.013063</td>\n",
       "      <td>...</td>\n",
       "      <td>0.059764</td>\n",
       "      <td>0.020019</td>\n",
       "      <td>0.077356</td>\n",
       "      <td>0.069215</td>\n",
       "      <td>-0.025085</td>\n",
       "      <td>-0.074835</td>\n",
       "      <td>0.006206</td>\n",
       "      <td>0.013560</td>\n",
       "      <td>0.006444</td>\n",
       "      <td>0.017760</td>\n",
       "    </tr>\n",
       "    <tr>\n",
       "      <th>TRAIN_0001</th>\n",
       "      <td>-0.073512</td>\n",
       "      <td>0.097178</td>\n",
       "      <td>-0.079573</td>\n",
       "      <td>-0.011533</td>\n",
       "      <td>0.100122</td>\n",
       "      <td>0.059827</td>\n",
       "      <td>0.086047</td>\n",
       "      <td>0.058176</td>\n",
       "      <td>-0.035421</td>\n",
       "      <td>0.058338</td>\n",
       "      <td>...</td>\n",
       "      <td>0.035652</td>\n",
       "      <td>-0.008983</td>\n",
       "      <td>0.024879</td>\n",
       "      <td>-0.018461</td>\n",
       "      <td>-0.122706</td>\n",
       "      <td>-0.032589</td>\n",
       "      <td>0.050659</td>\n",
       "      <td>0.005404</td>\n",
       "      <td>0.059110</td>\n",
       "      <td>-0.043093</td>\n",
       "    </tr>\n",
       "    <tr>\n",
       "      <th>TRAIN_0002</th>\n",
       "      <td>-0.034082</td>\n",
       "      <td>0.032845</td>\n",
       "      <td>-0.040954</td>\n",
       "      <td>-0.061393</td>\n",
       "      <td>-0.029500</td>\n",
       "      <td>0.053743</td>\n",
       "      <td>0.027276</td>\n",
       "      <td>-0.026623</td>\n",
       "      <td>0.042603</td>\n",
       "      <td>0.028693</td>\n",
       "      <td>...</td>\n",
       "      <td>0.093546</td>\n",
       "      <td>-0.014960</td>\n",
       "      <td>0.080000</td>\n",
       "      <td>-0.001093</td>\n",
       "      <td>-0.004269</td>\n",
       "      <td>-0.078398</td>\n",
       "      <td>0.076893</td>\n",
       "      <td>0.006247</td>\n",
       "      <td>0.071419</td>\n",
       "      <td>-0.018286</td>\n",
       "    </tr>\n",
       "    <tr>\n",
       "      <th>TRAIN_0003</th>\n",
       "      <td>-0.018114</td>\n",
       "      <td>0.094008</td>\n",
       "      <td>0.046437</td>\n",
       "      <td>-0.053822</td>\n",
       "      <td>0.049093</td>\n",
       "      <td>0.126505</td>\n",
       "      <td>0.017560</td>\n",
       "      <td>0.026142</td>\n",
       "      <td>-0.055703</td>\n",
       "      <td>0.028071</td>\n",
       "      <td>...</td>\n",
       "      <td>0.076705</td>\n",
       "      <td>0.018375</td>\n",
       "      <td>0.103841</td>\n",
       "      <td>-0.029115</td>\n",
       "      <td>-0.106306</td>\n",
       "      <td>-0.058419</td>\n",
       "      <td>0.019161</td>\n",
       "      <td>0.066408</td>\n",
       "      <td>0.027543</td>\n",
       "      <td>-0.005833</td>\n",
       "    </tr>\n",
       "    <tr>\n",
       "      <th>TRAIN_0004</th>\n",
       "      <td>-0.114015</td>\n",
       "      <td>0.080557</td>\n",
       "      <td>-0.007738</td>\n",
       "      <td>-0.025155</td>\n",
       "      <td>0.045192</td>\n",
       "      <td>0.034664</td>\n",
       "      <td>0.063482</td>\n",
       "      <td>0.029306</td>\n",
       "      <td>0.025646</td>\n",
       "      <td>0.063673</td>\n",
       "      <td>...</td>\n",
       "      <td>0.111089</td>\n",
       "      <td>0.035143</td>\n",
       "      <td>0.029037</td>\n",
       "      <td>0.073725</td>\n",
       "      <td>-0.061873</td>\n",
       "      <td>-0.016580</td>\n",
       "      <td>-0.007208</td>\n",
       "      <td>0.064021</td>\n",
       "      <td>0.066289</td>\n",
       "      <td>0.010115</td>\n",
       "    </tr>\n",
       "    <tr>\n",
       "      <th>...</th>\n",
       "      <td>...</td>\n",
       "      <td>...</td>\n",
       "      <td>...</td>\n",
       "      <td>...</td>\n",
       "      <td>...</td>\n",
       "      <td>...</td>\n",
       "      <td>...</td>\n",
       "      <td>...</td>\n",
       "      <td>...</td>\n",
       "      <td>...</td>\n",
       "      <td>...</td>\n",
       "      <td>...</td>\n",
       "      <td>...</td>\n",
       "      <td>...</td>\n",
       "      <td>...</td>\n",
       "      <td>...</td>\n",
       "      <td>...</td>\n",
       "      <td>...</td>\n",
       "      <td>...</td>\n",
       "      <td>...</td>\n",
       "      <td>...</td>\n",
       "    </tr>\n",
       "    <tr>\n",
       "      <th>TRAIN_2473</th>\n",
       "      <td>-0.061531</td>\n",
       "      <td>0.057405</td>\n",
       "      <td>0.101133</td>\n",
       "      <td>0.030702</td>\n",
       "      <td>0.074230</td>\n",
       "      <td>0.022840</td>\n",
       "      <td>-0.027709</td>\n",
       "      <td>-0.024411</td>\n",
       "      <td>-0.101617</td>\n",
       "      <td>-0.011733</td>\n",
       "      <td>...</td>\n",
       "      <td>0.016205</td>\n",
       "      <td>0.003931</td>\n",
       "      <td>-0.028398</td>\n",
       "      <td>0.024224</td>\n",
       "      <td>-0.111673</td>\n",
       "      <td>-0.031965</td>\n",
       "      <td>0.082727</td>\n",
       "      <td>0.019761</td>\n",
       "      <td>0.026495</td>\n",
       "      <td>-0.007869</td>\n",
       "    </tr>\n",
       "    <tr>\n",
       "      <th>TRAIN_2474</th>\n",
       "      <td>-0.090417</td>\n",
       "      <td>0.028924</td>\n",
       "      <td>-0.081324</td>\n",
       "      <td>-0.029430</td>\n",
       "      <td>-0.046380</td>\n",
       "      <td>-0.019520</td>\n",
       "      <td>0.008959</td>\n",
       "      <td>0.040005</td>\n",
       "      <td>0.026914</td>\n",
       "      <td>0.003984</td>\n",
       "      <td>...</td>\n",
       "      <td>-0.000156</td>\n",
       "      <td>-0.050407</td>\n",
       "      <td>-0.021934</td>\n",
       "      <td>0.048777</td>\n",
       "      <td>-0.010920</td>\n",
       "      <td>-0.051516</td>\n",
       "      <td>-0.013899</td>\n",
       "      <td>-0.057847</td>\n",
       "      <td>0.070234</td>\n",
       "      <td>-0.006851</td>\n",
       "    </tr>\n",
       "    <tr>\n",
       "      <th>TRAIN_2475</th>\n",
       "      <td>-0.041580</td>\n",
       "      <td>0.084520</td>\n",
       "      <td>0.010638</td>\n",
       "      <td>-0.033893</td>\n",
       "      <td>-0.020766</td>\n",
       "      <td>0.053962</td>\n",
       "      <td>0.088730</td>\n",
       "      <td>0.119078</td>\n",
       "      <td>0.009728</td>\n",
       "      <td>0.042931</td>\n",
       "      <td>...</td>\n",
       "      <td>0.080647</td>\n",
       "      <td>0.032001</td>\n",
       "      <td>0.047340</td>\n",
       "      <td>-0.020110</td>\n",
       "      <td>-0.061947</td>\n",
       "      <td>0.003582</td>\n",
       "      <td>0.006040</td>\n",
       "      <td>0.048944</td>\n",
       "      <td>0.035704</td>\n",
       "      <td>0.014053</td>\n",
       "    </tr>\n",
       "    <tr>\n",
       "      <th>TRAIN_2476</th>\n",
       "      <td>-0.059591</td>\n",
       "      <td>0.043161</td>\n",
       "      <td>-0.011872</td>\n",
       "      <td>-0.036926</td>\n",
       "      <td>0.003213</td>\n",
       "      <td>0.039996</td>\n",
       "      <td>0.025882</td>\n",
       "      <td>0.038786</td>\n",
       "      <td>-0.020471</td>\n",
       "      <td>-0.010772</td>\n",
       "      <td>...</td>\n",
       "      <td>0.113809</td>\n",
       "      <td>0.029224</td>\n",
       "      <td>0.006738</td>\n",
       "      <td>0.075058</td>\n",
       "      <td>-0.087660</td>\n",
       "      <td>-0.021949</td>\n",
       "      <td>-0.001429</td>\n",
       "      <td>0.032241</td>\n",
       "      <td>0.061118</td>\n",
       "      <td>0.018392</td>\n",
       "    </tr>\n",
       "    <tr>\n",
       "      <th>TRAIN_2477</th>\n",
       "      <td>-0.069190</td>\n",
       "      <td>-0.021553</td>\n",
       "      <td>0.004690</td>\n",
       "      <td>-0.090577</td>\n",
       "      <td>-0.030628</td>\n",
       "      <td>0.035812</td>\n",
       "      <td>0.073266</td>\n",
       "      <td>0.039189</td>\n",
       "      <td>0.011387</td>\n",
       "      <td>0.002842</td>\n",
       "      <td>...</td>\n",
       "      <td>-0.007853</td>\n",
       "      <td>0.054305</td>\n",
       "      <td>0.055049</td>\n",
       "      <td>-0.041417</td>\n",
       "      <td>-0.026889</td>\n",
       "      <td>0.015221</td>\n",
       "      <td>0.089885</td>\n",
       "      <td>-0.019540</td>\n",
       "      <td>0.075225</td>\n",
       "      <td>0.018811</td>\n",
       "    </tr>\n",
       "  </tbody>\n",
       "</table>\n",
       "<p>2478 rows × 384 columns</p>\n",
       "</div>"
      ],
      "text/plain": [
       "                 0         1         2         3         4         5    \\\n",
       "ID                                                                       \n",
       "TRAIN_0000 -0.056451  0.047922 -0.030178 -0.049104  0.034502  0.083147   \n",
       "TRAIN_0001 -0.073512  0.097178 -0.079573 -0.011533  0.100122  0.059827   \n",
       "TRAIN_0002 -0.034082  0.032845 -0.040954 -0.061393 -0.029500  0.053743   \n",
       "TRAIN_0003 -0.018114  0.094008  0.046437 -0.053822  0.049093  0.126505   \n",
       "TRAIN_0004 -0.114015  0.080557 -0.007738 -0.025155  0.045192  0.034664   \n",
       "...              ...       ...       ...       ...       ...       ...   \n",
       "TRAIN_2473 -0.061531  0.057405  0.101133  0.030702  0.074230  0.022840   \n",
       "TRAIN_2474 -0.090417  0.028924 -0.081324 -0.029430 -0.046380 -0.019520   \n",
       "TRAIN_2475 -0.041580  0.084520  0.010638 -0.033893 -0.020766  0.053962   \n",
       "TRAIN_2476 -0.059591  0.043161 -0.011872 -0.036926  0.003213  0.039996   \n",
       "TRAIN_2477 -0.069190 -0.021553  0.004690 -0.090577 -0.030628  0.035812   \n",
       "\n",
       "                 6         7         8         9    ...       374       375  \\\n",
       "ID                                                  ...                       \n",
       "TRAIN_0000  0.012897  0.013408  0.031619 -0.013063  ...  0.059764  0.020019   \n",
       "TRAIN_0001  0.086047  0.058176 -0.035421  0.058338  ...  0.035652 -0.008983   \n",
       "TRAIN_0002  0.027276 -0.026623  0.042603  0.028693  ...  0.093546 -0.014960   \n",
       "TRAIN_0003  0.017560  0.026142 -0.055703  0.028071  ...  0.076705  0.018375   \n",
       "TRAIN_0004  0.063482  0.029306  0.025646  0.063673  ...  0.111089  0.035143   \n",
       "...              ...       ...       ...       ...  ...       ...       ...   \n",
       "TRAIN_2473 -0.027709 -0.024411 -0.101617 -0.011733  ...  0.016205  0.003931   \n",
       "TRAIN_2474  0.008959  0.040005  0.026914  0.003984  ... -0.000156 -0.050407   \n",
       "TRAIN_2475  0.088730  0.119078  0.009728  0.042931  ...  0.080647  0.032001   \n",
       "TRAIN_2476  0.025882  0.038786 -0.020471 -0.010772  ...  0.113809  0.029224   \n",
       "TRAIN_2477  0.073266  0.039189  0.011387  0.002842  ... -0.007853  0.054305   \n",
       "\n",
       "                 376       377       378       379       380       381  \\\n",
       "ID                                                                       \n",
       "TRAIN_0000  0.077356  0.069215 -0.025085 -0.074835  0.006206  0.013560   \n",
       "TRAIN_0001  0.024879 -0.018461 -0.122706 -0.032589  0.050659  0.005404   \n",
       "TRAIN_0002  0.080000 -0.001093 -0.004269 -0.078398  0.076893  0.006247   \n",
       "TRAIN_0003  0.103841 -0.029115 -0.106306 -0.058419  0.019161  0.066408   \n",
       "TRAIN_0004  0.029037  0.073725 -0.061873 -0.016580 -0.007208  0.064021   \n",
       "...              ...       ...       ...       ...       ...       ...   \n",
       "TRAIN_2473 -0.028398  0.024224 -0.111673 -0.031965  0.082727  0.019761   \n",
       "TRAIN_2474 -0.021934  0.048777 -0.010920 -0.051516 -0.013899 -0.057847   \n",
       "TRAIN_2475  0.047340 -0.020110 -0.061947  0.003582  0.006040  0.048944   \n",
       "TRAIN_2476  0.006738  0.075058 -0.087660 -0.021949 -0.001429  0.032241   \n",
       "TRAIN_2477  0.055049 -0.041417 -0.026889  0.015221  0.089885 -0.019540   \n",
       "\n",
       "                 382       383  \n",
       "ID                              \n",
       "TRAIN_0000  0.006444  0.017760  \n",
       "TRAIN_0001  0.059110 -0.043093  \n",
       "TRAIN_0002  0.071419 -0.018286  \n",
       "TRAIN_0003  0.027543 -0.005833  \n",
       "TRAIN_0004  0.066289  0.010115  \n",
       "...              ...       ...  \n",
       "TRAIN_2473  0.026495 -0.007869  \n",
       "TRAIN_2474  0.070234 -0.006851  \n",
       "TRAIN_2475  0.035704  0.014053  \n",
       "TRAIN_2476  0.061118  0.018392  \n",
       "TRAIN_2477  0.075225  0.018811  \n",
       "\n",
       "[2478 rows x 384 columns]"
      ]
     },
     "execution_count": 11,
     "metadata": {},
     "output_type": "execute_result"
    }
   ],
   "source": [
    "facts_embeddings = combined_se_df.set_index(train['ID'])\n",
    "facts_embeddings\n"
   ]
  },
  {
   "cell_type": "code",
   "execution_count": 14,
   "id": "5921e287",
   "metadata": {},
   "outputs": [
    {
     "data": {
      "text/html": [
       "<div>\n",
       "<style scoped>\n",
       "    .dataframe tbody tr th:only-of-type {\n",
       "        vertical-align: middle;\n",
       "    }\n",
       "\n",
       "    .dataframe tbody tr th {\n",
       "        vertical-align: top;\n",
       "    }\n",
       "\n",
       "    .dataframe thead th {\n",
       "        text-align: right;\n",
       "    }\n",
       "</style>\n",
       "<table border=\"1\" class=\"dataframe\">\n",
       "  <thead>\n",
       "    <tr style=\"text-align: right;\">\n",
       "      <th></th>\n",
       "      <th>0</th>\n",
       "      <th>1</th>\n",
       "      <th>2</th>\n",
       "      <th>3</th>\n",
       "      <th>4</th>\n",
       "      <th>5</th>\n",
       "      <th>6</th>\n",
       "      <th>7</th>\n",
       "      <th>8</th>\n",
       "      <th>9</th>\n",
       "      <th>...</th>\n",
       "      <th>374</th>\n",
       "      <th>375</th>\n",
       "      <th>376</th>\n",
       "      <th>377</th>\n",
       "      <th>378</th>\n",
       "      <th>379</th>\n",
       "      <th>380</th>\n",
       "      <th>381</th>\n",
       "      <th>382</th>\n",
       "      <th>383</th>\n",
       "    </tr>\n",
       "    <tr>\n",
       "      <th>ID</th>\n",
       "      <th></th>\n",
       "      <th></th>\n",
       "      <th></th>\n",
       "      <th></th>\n",
       "      <th></th>\n",
       "      <th></th>\n",
       "      <th></th>\n",
       "      <th></th>\n",
       "      <th></th>\n",
       "      <th></th>\n",
       "      <th></th>\n",
       "      <th></th>\n",
       "      <th></th>\n",
       "      <th></th>\n",
       "      <th></th>\n",
       "      <th></th>\n",
       "      <th></th>\n",
       "      <th></th>\n",
       "      <th></th>\n",
       "      <th></th>\n",
       "      <th></th>\n",
       "    </tr>\n",
       "  </thead>\n",
       "  <tbody>\n",
       "    <tr>\n",
       "      <th>TRAIN_0000</th>\n",
       "      <td>-0.056451</td>\n",
       "      <td>0.047922</td>\n",
       "      <td>-0.030178</td>\n",
       "      <td>-0.049104</td>\n",
       "      <td>0.034502</td>\n",
       "      <td>0.083147</td>\n",
       "      <td>0.012897</td>\n",
       "      <td>0.013408</td>\n",
       "      <td>0.031619</td>\n",
       "      <td>-0.013063</td>\n",
       "      <td>...</td>\n",
       "      <td>0.059764</td>\n",
       "      <td>0.020019</td>\n",
       "      <td>0.077356</td>\n",
       "      <td>0.069215</td>\n",
       "      <td>-0.025085</td>\n",
       "      <td>-0.074835</td>\n",
       "      <td>0.006206</td>\n",
       "      <td>0.013560</td>\n",
       "      <td>0.006444</td>\n",
       "      <td>0.017760</td>\n",
       "    </tr>\n",
       "    <tr>\n",
       "      <th>TRAIN_0001</th>\n",
       "      <td>-0.073512</td>\n",
       "      <td>0.097178</td>\n",
       "      <td>-0.079573</td>\n",
       "      <td>-0.011533</td>\n",
       "      <td>0.100122</td>\n",
       "      <td>0.059827</td>\n",
       "      <td>0.086047</td>\n",
       "      <td>0.058176</td>\n",
       "      <td>-0.035421</td>\n",
       "      <td>0.058338</td>\n",
       "      <td>...</td>\n",
       "      <td>0.035652</td>\n",
       "      <td>-0.008983</td>\n",
       "      <td>0.024879</td>\n",
       "      <td>-0.018461</td>\n",
       "      <td>-0.122706</td>\n",
       "      <td>-0.032589</td>\n",
       "      <td>0.050659</td>\n",
       "      <td>0.005404</td>\n",
       "      <td>0.059110</td>\n",
       "      <td>-0.043093</td>\n",
       "    </tr>\n",
       "    <tr>\n",
       "      <th>TRAIN_0002</th>\n",
       "      <td>-0.034082</td>\n",
       "      <td>0.032845</td>\n",
       "      <td>-0.040954</td>\n",
       "      <td>-0.061393</td>\n",
       "      <td>-0.029500</td>\n",
       "      <td>0.053743</td>\n",
       "      <td>0.027276</td>\n",
       "      <td>-0.026623</td>\n",
       "      <td>0.042603</td>\n",
       "      <td>0.028693</td>\n",
       "      <td>...</td>\n",
       "      <td>0.093546</td>\n",
       "      <td>-0.014960</td>\n",
       "      <td>0.080000</td>\n",
       "      <td>-0.001093</td>\n",
       "      <td>-0.004269</td>\n",
       "      <td>-0.078398</td>\n",
       "      <td>0.076893</td>\n",
       "      <td>0.006247</td>\n",
       "      <td>0.071419</td>\n",
       "      <td>-0.018286</td>\n",
       "    </tr>\n",
       "    <tr>\n",
       "      <th>TRAIN_0003</th>\n",
       "      <td>-0.018114</td>\n",
       "      <td>0.094008</td>\n",
       "      <td>0.046437</td>\n",
       "      <td>-0.053822</td>\n",
       "      <td>0.049093</td>\n",
       "      <td>0.126505</td>\n",
       "      <td>0.017560</td>\n",
       "      <td>0.026142</td>\n",
       "      <td>-0.055703</td>\n",
       "      <td>0.028071</td>\n",
       "      <td>...</td>\n",
       "      <td>0.076705</td>\n",
       "      <td>0.018375</td>\n",
       "      <td>0.103841</td>\n",
       "      <td>-0.029115</td>\n",
       "      <td>-0.106306</td>\n",
       "      <td>-0.058419</td>\n",
       "      <td>0.019161</td>\n",
       "      <td>0.066408</td>\n",
       "      <td>0.027543</td>\n",
       "      <td>-0.005833</td>\n",
       "    </tr>\n",
       "    <tr>\n",
       "      <th>TRAIN_0004</th>\n",
       "      <td>-0.114015</td>\n",
       "      <td>0.080557</td>\n",
       "      <td>-0.007738</td>\n",
       "      <td>-0.025155</td>\n",
       "      <td>0.045192</td>\n",
       "      <td>0.034664</td>\n",
       "      <td>0.063482</td>\n",
       "      <td>0.029306</td>\n",
       "      <td>0.025646</td>\n",
       "      <td>0.063673</td>\n",
       "      <td>...</td>\n",
       "      <td>0.111089</td>\n",
       "      <td>0.035143</td>\n",
       "      <td>0.029037</td>\n",
       "      <td>0.073725</td>\n",
       "      <td>-0.061873</td>\n",
       "      <td>-0.016580</td>\n",
       "      <td>-0.007208</td>\n",
       "      <td>0.064021</td>\n",
       "      <td>0.066289</td>\n",
       "      <td>0.010115</td>\n",
       "    </tr>\n",
       "    <tr>\n",
       "      <th>...</th>\n",
       "      <td>...</td>\n",
       "      <td>...</td>\n",
       "      <td>...</td>\n",
       "      <td>...</td>\n",
       "      <td>...</td>\n",
       "      <td>...</td>\n",
       "      <td>...</td>\n",
       "      <td>...</td>\n",
       "      <td>...</td>\n",
       "      <td>...</td>\n",
       "      <td>...</td>\n",
       "      <td>...</td>\n",
       "      <td>...</td>\n",
       "      <td>...</td>\n",
       "      <td>...</td>\n",
       "      <td>...</td>\n",
       "      <td>...</td>\n",
       "      <td>...</td>\n",
       "      <td>...</td>\n",
       "      <td>...</td>\n",
       "      <td>...</td>\n",
       "    </tr>\n",
       "    <tr>\n",
       "      <th>TRAIN_2473</th>\n",
       "      <td>-0.061531</td>\n",
       "      <td>0.057405</td>\n",
       "      <td>0.101133</td>\n",
       "      <td>0.030702</td>\n",
       "      <td>0.074230</td>\n",
       "      <td>0.022840</td>\n",
       "      <td>-0.027709</td>\n",
       "      <td>-0.024411</td>\n",
       "      <td>-0.101617</td>\n",
       "      <td>-0.011733</td>\n",
       "      <td>...</td>\n",
       "      <td>0.016205</td>\n",
       "      <td>0.003931</td>\n",
       "      <td>-0.028398</td>\n",
       "      <td>0.024224</td>\n",
       "      <td>-0.111673</td>\n",
       "      <td>-0.031965</td>\n",
       "      <td>0.082727</td>\n",
       "      <td>0.019761</td>\n",
       "      <td>0.026495</td>\n",
       "      <td>-0.007869</td>\n",
       "    </tr>\n",
       "    <tr>\n",
       "      <th>TRAIN_2474</th>\n",
       "      <td>-0.090417</td>\n",
       "      <td>0.028924</td>\n",
       "      <td>-0.081324</td>\n",
       "      <td>-0.029430</td>\n",
       "      <td>-0.046380</td>\n",
       "      <td>-0.019520</td>\n",
       "      <td>0.008959</td>\n",
       "      <td>0.040005</td>\n",
       "      <td>0.026914</td>\n",
       "      <td>0.003984</td>\n",
       "      <td>...</td>\n",
       "      <td>-0.000156</td>\n",
       "      <td>-0.050407</td>\n",
       "      <td>-0.021934</td>\n",
       "      <td>0.048777</td>\n",
       "      <td>-0.010920</td>\n",
       "      <td>-0.051516</td>\n",
       "      <td>-0.013899</td>\n",
       "      <td>-0.057847</td>\n",
       "      <td>0.070234</td>\n",
       "      <td>-0.006851</td>\n",
       "    </tr>\n",
       "    <tr>\n",
       "      <th>TRAIN_2475</th>\n",
       "      <td>-0.041580</td>\n",
       "      <td>0.084520</td>\n",
       "      <td>0.010638</td>\n",
       "      <td>-0.033893</td>\n",
       "      <td>-0.020766</td>\n",
       "      <td>0.053962</td>\n",
       "      <td>0.088730</td>\n",
       "      <td>0.119078</td>\n",
       "      <td>0.009728</td>\n",
       "      <td>0.042931</td>\n",
       "      <td>...</td>\n",
       "      <td>0.080647</td>\n",
       "      <td>0.032001</td>\n",
       "      <td>0.047340</td>\n",
       "      <td>-0.020110</td>\n",
       "      <td>-0.061947</td>\n",
       "      <td>0.003582</td>\n",
       "      <td>0.006040</td>\n",
       "      <td>0.048944</td>\n",
       "      <td>0.035704</td>\n",
       "      <td>0.014053</td>\n",
       "    </tr>\n",
       "    <tr>\n",
       "      <th>TRAIN_2476</th>\n",
       "      <td>-0.059591</td>\n",
       "      <td>0.043161</td>\n",
       "      <td>-0.011872</td>\n",
       "      <td>-0.036926</td>\n",
       "      <td>0.003213</td>\n",
       "      <td>0.039996</td>\n",
       "      <td>0.025882</td>\n",
       "      <td>0.038786</td>\n",
       "      <td>-0.020471</td>\n",
       "      <td>-0.010772</td>\n",
       "      <td>...</td>\n",
       "      <td>0.113809</td>\n",
       "      <td>0.029224</td>\n",
       "      <td>0.006738</td>\n",
       "      <td>0.075058</td>\n",
       "      <td>-0.087660</td>\n",
       "      <td>-0.021949</td>\n",
       "      <td>-0.001429</td>\n",
       "      <td>0.032241</td>\n",
       "      <td>0.061118</td>\n",
       "      <td>0.018392</td>\n",
       "    </tr>\n",
       "    <tr>\n",
       "      <th>TRAIN_2477</th>\n",
       "      <td>-0.069190</td>\n",
       "      <td>-0.021553</td>\n",
       "      <td>0.004690</td>\n",
       "      <td>-0.090577</td>\n",
       "      <td>-0.030628</td>\n",
       "      <td>0.035812</td>\n",
       "      <td>0.073266</td>\n",
       "      <td>0.039189</td>\n",
       "      <td>0.011387</td>\n",
       "      <td>0.002842</td>\n",
       "      <td>...</td>\n",
       "      <td>-0.007853</td>\n",
       "      <td>0.054305</td>\n",
       "      <td>0.055049</td>\n",
       "      <td>-0.041417</td>\n",
       "      <td>-0.026889</td>\n",
       "      <td>0.015221</td>\n",
       "      <td>0.089885</td>\n",
       "      <td>-0.019540</td>\n",
       "      <td>0.075225</td>\n",
       "      <td>0.018811</td>\n",
       "    </tr>\n",
       "  </tbody>\n",
       "</table>\n",
       "<p>2478 rows × 384 columns</p>\n",
       "</div>"
      ],
      "text/plain": [
       "                 0         1         2         3         4         5    \\\n",
       "ID                                                                       \n",
       "TRAIN_0000 -0.056451  0.047922 -0.030178 -0.049104  0.034502  0.083147   \n",
       "TRAIN_0001 -0.073512  0.097178 -0.079573 -0.011533  0.100122  0.059827   \n",
       "TRAIN_0002 -0.034082  0.032845 -0.040954 -0.061393 -0.029500  0.053743   \n",
       "TRAIN_0003 -0.018114  0.094008  0.046437 -0.053822  0.049093  0.126505   \n",
       "TRAIN_0004 -0.114015  0.080557 -0.007738 -0.025155  0.045192  0.034664   \n",
       "...              ...       ...       ...       ...       ...       ...   \n",
       "TRAIN_2473 -0.061531  0.057405  0.101133  0.030702  0.074230  0.022840   \n",
       "TRAIN_2474 -0.090417  0.028924 -0.081324 -0.029430 -0.046380 -0.019520   \n",
       "TRAIN_2475 -0.041580  0.084520  0.010638 -0.033893 -0.020766  0.053962   \n",
       "TRAIN_2476 -0.059591  0.043161 -0.011872 -0.036926  0.003213  0.039996   \n",
       "TRAIN_2477 -0.069190 -0.021553  0.004690 -0.090577 -0.030628  0.035812   \n",
       "\n",
       "                 6         7         8         9    ...       374       375  \\\n",
       "ID                                                  ...                       \n",
       "TRAIN_0000  0.012897  0.013408  0.031619 -0.013063  ...  0.059764  0.020019   \n",
       "TRAIN_0001  0.086047  0.058176 -0.035421  0.058338  ...  0.035652 -0.008983   \n",
       "TRAIN_0002  0.027276 -0.026623  0.042603  0.028693  ...  0.093546 -0.014960   \n",
       "TRAIN_0003  0.017560  0.026142 -0.055703  0.028071  ...  0.076705  0.018375   \n",
       "TRAIN_0004  0.063482  0.029306  0.025646  0.063673  ...  0.111089  0.035143   \n",
       "...              ...       ...       ...       ...  ...       ...       ...   \n",
       "TRAIN_2473 -0.027709 -0.024411 -0.101617 -0.011733  ...  0.016205  0.003931   \n",
       "TRAIN_2474  0.008959  0.040005  0.026914  0.003984  ... -0.000156 -0.050407   \n",
       "TRAIN_2475  0.088730  0.119078  0.009728  0.042931  ...  0.080647  0.032001   \n",
       "TRAIN_2476  0.025882  0.038786 -0.020471 -0.010772  ...  0.113809  0.029224   \n",
       "TRAIN_2477  0.073266  0.039189  0.011387  0.002842  ... -0.007853  0.054305   \n",
       "\n",
       "                 376       377       378       379       380       381  \\\n",
       "ID                                                                       \n",
       "TRAIN_0000  0.077356  0.069215 -0.025085 -0.074835  0.006206  0.013560   \n",
       "TRAIN_0001  0.024879 -0.018461 -0.122706 -0.032589  0.050659  0.005404   \n",
       "TRAIN_0002  0.080000 -0.001093 -0.004269 -0.078398  0.076893  0.006247   \n",
       "TRAIN_0003  0.103841 -0.029115 -0.106306 -0.058419  0.019161  0.066408   \n",
       "TRAIN_0004  0.029037  0.073725 -0.061873 -0.016580 -0.007208  0.064021   \n",
       "...              ...       ...       ...       ...       ...       ...   \n",
       "TRAIN_2473 -0.028398  0.024224 -0.111673 -0.031965  0.082727  0.019761   \n",
       "TRAIN_2474 -0.021934  0.048777 -0.010920 -0.051516 -0.013899 -0.057847   \n",
       "TRAIN_2475  0.047340 -0.020110 -0.061947  0.003582  0.006040  0.048944   \n",
       "TRAIN_2476  0.006738  0.075058 -0.087660 -0.021949 -0.001429  0.032241   \n",
       "TRAIN_2477  0.055049 -0.041417 -0.026889  0.015221  0.089885 -0.019540   \n",
       "\n",
       "                 382       383  \n",
       "ID                              \n",
       "TRAIN_0000  0.006444  0.017760  \n",
       "TRAIN_0001  0.059110 -0.043093  \n",
       "TRAIN_0002  0.071419 -0.018286  \n",
       "TRAIN_0003  0.027543 -0.005833  \n",
       "TRAIN_0004  0.066289  0.010115  \n",
       "...              ...       ...  \n",
       "TRAIN_2473  0.026495 -0.007869  \n",
       "TRAIN_2474  0.070234 -0.006851  \n",
       "TRAIN_2475  0.035704  0.014053  \n",
       "TRAIN_2476  0.061118  0.018392  \n",
       "TRAIN_2477  0.075225  0.018811  \n",
       "\n",
       "[2478 rows x 384 columns]"
      ]
     },
     "execution_count": 14,
     "metadata": {},
     "output_type": "execute_result"
    }
   ],
   "source": [
    "# X = pd.merge(facts_embeddings, first_party_weights, how='right', on='ID')\n",
    "# X = pd.merge(X, second_party_weights, how='right', on='ID')\n",
    "# X = facts_embeddings.drop(columns=['ID'])\n",
    "X = facts_embeddings\n",
    "X"
   ]
  },
  {
   "cell_type": "code",
   "execution_count": 15,
   "id": "e0718e9e",
   "metadata": {},
   "outputs": [],
   "source": [
    "y = train_cleansed['first_party_winner']"
   ]
  },
  {
   "cell_type": "code",
   "execution_count": 16,
   "id": "071168aa",
   "metadata": {
    "scrolled": true
   },
   "outputs": [
    {
     "name": "stdout",
     "output_type": "stream",
     "text": [
      "(1982, 384) (496, 384) (1982,) (496,)\n"
     ]
    }
   ],
   "source": [
    "X_train, X_val, y_train, y_val = train_test_split(X, y, test_size=0.2, random_state=42)\n",
    "print(X_train.shape, X_val.shape, y_train.shape, y_val.shape)"
   ]
  },
  {
   "cell_type": "code",
   "execution_count": 17,
   "id": "7a7bc172",
   "metadata": {},
   "outputs": [],
   "source": [
    "def lgb_objective(trial):\n",
    "    lgb_params = {\n",
    "        'objective': 'binary',\n",
    "        'metric': 'binary_logloss',\n",
    "        'boosting_type': 'dart',\n",
    "        'application': 'multiclass',\n",
    "        'max_depth': trial.suggest_int('max_depth', 4, 25),\n",
    "        'num_boost_round': trial.suggest_int('num_boost_round', 100, 300),\n",
    "        'min_data_in_leaf': trial.suggest_int('min_data_in_leaf', 10, 20),\n",
    "        'n_estimators' : trial.suggest_int('n_estimators', 50, 2000),\n",
    "        'num_leaves': trial.suggest_int('num_leaves', 10, 2000),\n",
    "        'learning_rate': trial.suggest_loguniform('learning_rate', 0.01, 0.1),\n",
    "        'feature_fraction': trial.suggest_uniform('feature_fraction', 0.1, 0.8),\n",
    "        'bagging_fraction': trial.suggest_uniform('bagging_fraction', 0.1, 0.8),\n",
    "        'bagging_freq': trial.suggest_int('bagging_freq', 1, 10),\n",
    "        'lambda_l1': trial.suggest_loguniform('lambda_l1', 0.01, 1.0),\n",
    "        'lambda_l2': trial.suggest_loguniform('lambda_l2', 0.01, 1.0),\n",
    "        'random_state': 42\n",
    "    }\n",
    "    lgb_model = lgb.LGBMClassifier(**lgb_params)\n",
    "    lgb_model.fit(X_train, y_train)\n",
    "    lgb_preds = lgb_model.predict(X_val)\n",
    "    return accuracy_score(y_val, lgb_preds)"
   ]
  },
  {
   "cell_type": "code",
   "execution_count": 33,
   "id": "d895b9e9",
   "metadata": {},
   "outputs": [],
   "source": [
    "def xgb_objective(trial):\n",
    "    xgb_params = {\n",
    "        'objective': 'binary:logistic',\n",
    "        'eval_metric': 'logloss',\n",
    "        'booster': 'gbtree',\n",
    "        'n_estimators' : trial.suggest_int('n_estimators', 25, 2000),\n",
    "        'eta': trial.suggest_loguniform('eta', 0.01, 0.1),\n",
    "        'max_depth': trial.suggest_int('max_depth', 4, 15),\n",
    "        'subsample': trial.suggest_uniform('subsample', 0.1, 1.0),\n",
    "        'learning_rate': trial.suggest_categorical('learning_rate', [1e-2, 5e-2, 1e-3, 5e-3, 1e-4, 5e-4, 1e-1]),\n",
    "        'colsample_bytree': trial.suggest_uniform('colsample_bytree', 0.1, 0.9),\n",
    "        'lambda': trial.suggest_loguniform('lambda', 0.2, 200),\n",
    "        'random_state': 42\n",
    "    }\n",
    "    \n",
    "\n",
    "\n",
    "    xgb_model = xgb(**xgb_params)\n",
    "    xgb_model.fit(X_train, y_train)\n",
    "    xgb_preds = xgb_model.predict(X_val)\n",
    "    return accuracy_score(y_val, xgb_preds)\n"
   ]
  },
  {
   "cell_type": "code",
   "execution_count": 19,
   "id": "b078cc75",
   "metadata": {},
   "outputs": [
    {
     "name": "stderr",
     "output_type": "stream",
     "text": [
      "[I 2023-06-06 16:48:46,212] A new study created in memory with name: no-name-c99e9a91-a0e6-46b3-84d2-3c0746513bbc\n"
     ]
    },
    {
     "name": "stdout",
     "output_type": "stream",
     "text": [
      "[LightGBM] [Warning] bagging_freq is set=4, subsample_freq=0 will be ignored. Current value: bagging_freq=4\n",
      "[LightGBM] [Warning] lambda_l1 is set=0.10438030150094596, reg_alpha=0.0 will be ignored. Current value: lambda_l1=0.10438030150094596\n",
      "[LightGBM] [Warning] min_data_in_leaf is set=15, min_child_samples=20 will be ignored. Current value: min_data_in_leaf=15\n",
      "[LightGBM] [Warning] num_iterations is set=163, num_boost_round=163 will be ignored. Current value: num_iterations=163\n",
      "[LightGBM] [Warning] lambda_l2 is set=0.25837187338424994, reg_lambda=0.0 will be ignored. Current value: lambda_l2=0.25837187338424994\n",
      "[LightGBM] [Warning] feature_fraction is set=0.41153784833865553, colsample_bytree=1.0 will be ignored. Current value: feature_fraction=0.41153784833865553\n",
      "[LightGBM] [Warning] bagging_fraction is set=0.39623803810751823, subsample=1.0 will be ignored. Current value: bagging_fraction=0.39623803810751823\n"
     ]
    },
    {
     "name": "stderr",
     "output_type": "stream",
     "text": [
      "[I 2023-06-06 16:48:47,093] Trial 0 finished with value: 0.655241935483871 and parameters: {'max_depth': 7, 'num_boost_round': 163, 'min_data_in_leaf': 15, 'n_estimators': 1732, 'num_leaves': 1213, 'learning_rate': 0.024210046025646033, 'feature_fraction': 0.41153784833865553, 'bagging_fraction': 0.39623803810751823, 'bagging_freq': 4, 'lambda_l1': 0.10438030150094596, 'lambda_l2': 0.25837187338424994}. Best is trial 0 with value: 0.655241935483871.\n"
     ]
    },
    {
     "name": "stdout",
     "output_type": "stream",
     "text": [
      "[LightGBM] [Warning] bagging_freq is set=10, subsample_freq=0 will be ignored. Current value: bagging_freq=10\n",
      "[LightGBM] [Warning] lambda_l1 is set=0.061522454515566614, reg_alpha=0.0 will be ignored. Current value: lambda_l1=0.061522454515566614\n",
      "[LightGBM] [Warning] min_data_in_leaf is set=20, min_child_samples=20 will be ignored. Current value: min_data_in_leaf=20\n",
      "[LightGBM] [Warning] num_iterations is set=226, num_boost_round=226 will be ignored. Current value: num_iterations=226\n",
      "[LightGBM] [Warning] lambda_l2 is set=0.016718761736309148, reg_lambda=0.0 will be ignored. Current value: lambda_l2=0.016718761736309148\n",
      "[LightGBM] [Warning] feature_fraction is set=0.6664522188590496, colsample_bytree=1.0 will be ignored. Current value: feature_fraction=0.6664522188590496\n",
      "[LightGBM] [Warning] bagging_fraction is set=0.6920484728356738, subsample=1.0 will be ignored. Current value: bagging_fraction=0.6920484728356738\n"
     ]
    },
    {
     "name": "stderr",
     "output_type": "stream",
     "text": [
      "[I 2023-06-06 16:48:47,941] Trial 1 finished with value: 0.6612903225806451 and parameters: {'max_depth': 4, 'num_boost_round': 226, 'min_data_in_leaf': 20, 'n_estimators': 1709, 'num_leaves': 1123, 'learning_rate': 0.013437873448570878, 'feature_fraction': 0.6664522188590496, 'bagging_fraction': 0.6920484728356738, 'bagging_freq': 10, 'lambda_l1': 0.061522454515566614, 'lambda_l2': 0.016718761736309148}. Best is trial 1 with value: 0.6612903225806451.\n"
     ]
    },
    {
     "name": "stdout",
     "output_type": "stream",
     "text": [
      "[LightGBM] [Warning] bagging_freq is set=10, subsample_freq=0 will be ignored. Current value: bagging_freq=10\n",
      "[LightGBM] [Warning] lambda_l1 is set=0.033832240220502095, reg_alpha=0.0 will be ignored. Current value: lambda_l1=0.033832240220502095\n",
      "[LightGBM] [Warning] min_data_in_leaf is set=15, min_child_samples=20 will be ignored. Current value: min_data_in_leaf=15\n",
      "[LightGBM] [Warning] num_iterations is set=135, num_boost_round=135 will be ignored. Current value: num_iterations=135\n",
      "[LightGBM] [Warning] lambda_l2 is set=0.087598769246419, reg_lambda=0.0 will be ignored. Current value: lambda_l2=0.087598769246419\n",
      "[LightGBM] [Warning] feature_fraction is set=0.12931416267231882, colsample_bytree=1.0 will be ignored. Current value: feature_fraction=0.12931416267231882\n",
      "[LightGBM] [Warning] bagging_fraction is set=0.6327474499105684, subsample=1.0 will be ignored. Current value: bagging_fraction=0.6327474499105684\n"
     ]
    },
    {
     "name": "stderr",
     "output_type": "stream",
     "text": [
      "[I 2023-06-06 16:48:48,412] Trial 2 finished with value: 0.655241935483871 and parameters: {'max_depth': 6, 'num_boost_round': 135, 'min_data_in_leaf': 15, 'n_estimators': 1297, 'num_leaves': 1040, 'learning_rate': 0.04788126930953853, 'feature_fraction': 0.12931416267231882, 'bagging_fraction': 0.6327474499105684, 'bagging_freq': 10, 'lambda_l1': 0.033832240220502095, 'lambda_l2': 0.087598769246419}. Best is trial 1 with value: 0.6612903225806451.\n"
     ]
    },
    {
     "name": "stdout",
     "output_type": "stream",
     "text": [
      "[LightGBM] [Warning] bagging_freq is set=5, subsample_freq=0 will be ignored. Current value: bagging_freq=5\n",
      "[LightGBM] [Warning] lambda_l1 is set=0.8065328549668326, reg_alpha=0.0 will be ignored. Current value: lambda_l1=0.8065328549668326\n",
      "[LightGBM] [Warning] min_data_in_leaf is set=12, min_child_samples=20 will be ignored. Current value: min_data_in_leaf=12\n",
      "[LightGBM] [Warning] num_iterations is set=217, num_boost_round=217 will be ignored. Current value: num_iterations=217\n",
      "[LightGBM] [Warning] lambda_l2 is set=0.14217307624316378, reg_lambda=0.0 will be ignored. Current value: lambda_l2=0.14217307624316378\n",
      "[LightGBM] [Warning] feature_fraction is set=0.628672978414422, colsample_bytree=1.0 will be ignored. Current value: feature_fraction=0.628672978414422\n",
      "[LightGBM] [Warning] bagging_fraction is set=0.2894080531085827, subsample=1.0 will be ignored. Current value: bagging_fraction=0.2894080531085827\n"
     ]
    },
    {
     "name": "stderr",
     "output_type": "stream",
     "text": [
      "[I 2023-06-06 16:48:49,083] Trial 3 finished with value: 0.6612903225806451 and parameters: {'max_depth': 4, 'num_boost_round': 217, 'min_data_in_leaf': 12, 'n_estimators': 108, 'num_leaves': 1919, 'learning_rate': 0.016822195366143645, 'feature_fraction': 0.628672978414422, 'bagging_fraction': 0.2894080531085827, 'bagging_freq': 5, 'lambda_l1': 0.8065328549668326, 'lambda_l2': 0.14217307624316378}. Best is trial 1 with value: 0.6612903225806451.\n"
     ]
    },
    {
     "name": "stdout",
     "output_type": "stream",
     "text": [
      "[LightGBM] [Warning] bagging_freq is set=9, subsample_freq=0 will be ignored. Current value: bagging_freq=9\n",
      "[LightGBM] [Warning] lambda_l1 is set=0.11379986425516575, reg_alpha=0.0 will be ignored. Current value: lambda_l1=0.11379986425516575\n",
      "[LightGBM] [Warning] min_data_in_leaf is set=16, min_child_samples=20 will be ignored. Current value: min_data_in_leaf=16\n",
      "[LightGBM] [Warning] num_iterations is set=222, num_boost_round=222 will be ignored. Current value: num_iterations=222\n",
      "[LightGBM] [Warning] lambda_l2 is set=0.17521811329933235, reg_lambda=0.0 will be ignored. Current value: lambda_l2=0.17521811329933235\n",
      "[LightGBM] [Warning] feature_fraction is set=0.41622818867583283, colsample_bytree=1.0 will be ignored. Current value: feature_fraction=0.41622818867583283\n",
      "[LightGBM] [Warning] bagging_fraction is set=0.20020846940853007, subsample=1.0 will be ignored. Current value: bagging_fraction=0.20020846940853007\n"
     ]
    },
    {
     "name": "stderr",
     "output_type": "stream",
     "text": [
      "[I 2023-06-06 16:48:49,904] Trial 4 finished with value: 0.6592741935483871 and parameters: {'max_depth': 7, 'num_boost_round': 222, 'min_data_in_leaf': 16, 'n_estimators': 1767, 'num_leaves': 1163, 'learning_rate': 0.02192814174538275, 'feature_fraction': 0.41622818867583283, 'bagging_fraction': 0.20020846940853007, 'bagging_freq': 9, 'lambda_l1': 0.11379986425516575, 'lambda_l2': 0.17521811329933235}. Best is trial 1 with value: 0.6612903225806451.\n"
     ]
    },
    {
     "name": "stdout",
     "output_type": "stream",
     "text": [
      "[LightGBM] [Warning] bagging_freq is set=9, subsample_freq=0 will be ignored. Current value: bagging_freq=9\n",
      "[LightGBM] [Warning] lambda_l1 is set=0.05212722316898338, reg_alpha=0.0 will be ignored. Current value: lambda_l1=0.05212722316898338\n",
      "[LightGBM] [Warning] min_data_in_leaf is set=13, min_child_samples=20 will be ignored. Current value: min_data_in_leaf=13\n",
      "[LightGBM] [Warning] num_iterations is set=132, num_boost_round=132 will be ignored. Current value: num_iterations=132\n",
      "[LightGBM] [Warning] lambda_l2 is set=0.011685037709115886, reg_lambda=0.0 will be ignored. Current value: lambda_l2=0.011685037709115886\n",
      "[LightGBM] [Warning] feature_fraction is set=0.14556675523165774, colsample_bytree=1.0 will be ignored. Current value: feature_fraction=0.14556675523165774\n",
      "[LightGBM] [Warning] bagging_fraction is set=0.25447131232569997, subsample=1.0 will be ignored. Current value: bagging_fraction=0.25447131232569997\n"
     ]
    },
    {
     "name": "stderr",
     "output_type": "stream",
     "text": [
      "[I 2023-06-06 16:48:50,218] Trial 5 finished with value: 0.6612903225806451 and parameters: {'max_depth': 5, 'num_boost_round': 132, 'min_data_in_leaf': 13, 'n_estimators': 432, 'num_leaves': 1954, 'learning_rate': 0.019193858997895955, 'feature_fraction': 0.14556675523165774, 'bagging_fraction': 0.25447131232569997, 'bagging_freq': 9, 'lambda_l1': 0.05212722316898338, 'lambda_l2': 0.011685037709115886}. Best is trial 1 with value: 0.6612903225806451.\n"
     ]
    },
    {
     "name": "stdout",
     "output_type": "stream",
     "text": [
      "[LightGBM] [Warning] bagging_freq is set=10, subsample_freq=0 will be ignored. Current value: bagging_freq=10\n",
      "[LightGBM] [Warning] lambda_l1 is set=0.010428911420039634, reg_alpha=0.0 will be ignored. Current value: lambda_l1=0.010428911420039634\n",
      "[LightGBM] [Warning] min_data_in_leaf is set=10, min_child_samples=20 will be ignored. Current value: min_data_in_leaf=10\n",
      "[LightGBM] [Warning] num_iterations is set=223, num_boost_round=223 will be ignored. Current value: num_iterations=223\n",
      "[LightGBM] [Warning] lambda_l2 is set=0.4649599723889718, reg_lambda=0.0 will be ignored. Current value: lambda_l2=0.4649599723889718\n",
      "[LightGBM] [Warning] feature_fraction is set=0.5740985219930236, colsample_bytree=1.0 will be ignored. Current value: feature_fraction=0.5740985219930236\n",
      "[LightGBM] [Warning] bagging_fraction is set=0.2304307922597024, subsample=1.0 will be ignored. Current value: bagging_fraction=0.2304307922597024\n"
     ]
    },
    {
     "name": "stderr",
     "output_type": "stream",
     "text": [
      "[I 2023-06-06 16:48:51,289] Trial 6 finished with value: 0.6491935483870968 and parameters: {'max_depth': 6, 'num_boost_round': 223, 'min_data_in_leaf': 10, 'n_estimators': 1262, 'num_leaves': 1459, 'learning_rate': 0.03725260302985317, 'feature_fraction': 0.5740985219930236, 'bagging_fraction': 0.2304307922597024, 'bagging_freq': 10, 'lambda_l1': 0.010428911420039634, 'lambda_l2': 0.4649599723889718}. Best is trial 1 with value: 0.6612903225806451.\n"
     ]
    },
    {
     "name": "stdout",
     "output_type": "stream",
     "text": [
      "[LightGBM] [Warning] bagging_freq is set=8, subsample_freq=0 will be ignored. Current value: bagging_freq=8\n",
      "[LightGBM] [Warning] lambda_l1 is set=0.20317474432352275, reg_alpha=0.0 will be ignored. Current value: lambda_l1=0.20317474432352275\n",
      "[LightGBM] [Warning] min_data_in_leaf is set=17, min_child_samples=20 will be ignored. Current value: min_data_in_leaf=17\n",
      "[LightGBM] [Warning] num_iterations is set=293, num_boost_round=293 will be ignored. Current value: num_iterations=293\n",
      "[LightGBM] [Warning] lambda_l2 is set=0.8064494369889883, reg_lambda=0.0 will be ignored. Current value: lambda_l2=0.8064494369889883\n",
      "[LightGBM] [Warning] feature_fraction is set=0.14076584133606718, colsample_bytree=1.0 will be ignored. Current value: feature_fraction=0.14076584133606718\n",
      "[LightGBM] [Warning] bagging_fraction is set=0.7601521964545814, subsample=1.0 will be ignored. Current value: bagging_fraction=0.7601521964545814\n"
     ]
    },
    {
     "name": "stderr",
     "output_type": "stream",
     "text": [
      "[I 2023-06-06 16:48:53,017] Trial 7 finished with value: 0.6612903225806451 and parameters: {'max_depth': 8, 'num_boost_round': 293, 'min_data_in_leaf': 17, 'n_estimators': 1356, 'num_leaves': 855, 'learning_rate': 0.015337782317230202, 'feature_fraction': 0.14076584133606718, 'bagging_fraction': 0.7601521964545814, 'bagging_freq': 8, 'lambda_l1': 0.20317474432352275, 'lambda_l2': 0.8064494369889883}. Best is trial 1 with value: 0.6612903225806451.\n"
     ]
    },
    {
     "name": "stdout",
     "output_type": "stream",
     "text": [
      "[LightGBM] [Warning] bagging_freq is set=7, subsample_freq=0 will be ignored. Current value: bagging_freq=7\n",
      "[LightGBM] [Warning] lambda_l1 is set=0.17259292833526466, reg_alpha=0.0 will be ignored. Current value: lambda_l1=0.17259292833526466\n",
      "[LightGBM] [Warning] min_data_in_leaf is set=12, min_child_samples=20 will be ignored. Current value: min_data_in_leaf=12\n",
      "[LightGBM] [Warning] num_iterations is set=142, num_boost_round=142 will be ignored. Current value: num_iterations=142\n",
      "[LightGBM] [Warning] lambda_l2 is set=0.019372098248948852, reg_lambda=0.0 will be ignored. Current value: lambda_l2=0.019372098248948852\n",
      "[LightGBM] [Warning] feature_fraction is set=0.7999543207679377, colsample_bytree=1.0 will be ignored. Current value: feature_fraction=0.7999543207679377\n",
      "[LightGBM] [Warning] bagging_fraction is set=0.7695438067802726, subsample=1.0 will be ignored. Current value: bagging_fraction=0.7695438067802726\n"
     ]
    },
    {
     "name": "stderr",
     "output_type": "stream",
     "text": [
      "[I 2023-06-06 16:48:54,216] Trial 8 finished with value: 0.657258064516129 and parameters: {'max_depth': 6, 'num_boost_round': 142, 'min_data_in_leaf': 12, 'n_estimators': 692, 'num_leaves': 801, 'learning_rate': 0.04131024386990243, 'feature_fraction': 0.7999543207679377, 'bagging_fraction': 0.7695438067802726, 'bagging_freq': 7, 'lambda_l1': 0.17259292833526466, 'lambda_l2': 0.019372098248948852}. Best is trial 1 with value: 0.6612903225806451.\n"
     ]
    },
    {
     "name": "stdout",
     "output_type": "stream",
     "text": [
      "[LightGBM] [Warning] bagging_freq is set=5, subsample_freq=0 will be ignored. Current value: bagging_freq=5\n",
      "[LightGBM] [Warning] lambda_l1 is set=0.18020988443604957, reg_alpha=0.0 will be ignored. Current value: lambda_l1=0.18020988443604957\n",
      "[LightGBM] [Warning] min_data_in_leaf is set=10, min_child_samples=20 will be ignored. Current value: min_data_in_leaf=10\n",
      "[LightGBM] [Warning] num_iterations is set=230, num_boost_round=230 will be ignored. Current value: num_iterations=230\n",
      "[LightGBM] [Warning] lambda_l2 is set=0.575500514401433, reg_lambda=0.0 will be ignored. Current value: lambda_l2=0.575500514401433\n",
      "[LightGBM] [Warning] feature_fraction is set=0.7039362747175533, colsample_bytree=1.0 will be ignored. Current value: feature_fraction=0.7039362747175533\n",
      "[LightGBM] [Warning] bagging_fraction is set=0.6583202242513504, subsample=1.0 will be ignored. Current value: bagging_fraction=0.6583202242513504\n"
     ]
    },
    {
     "name": "stderr",
     "output_type": "stream",
     "text": [
      "[I 2023-06-06 16:48:56,950] Trial 9 finished with value: 0.6633064516129032 and parameters: {'max_depth': 8, 'num_boost_round': 230, 'min_data_in_leaf': 10, 'n_estimators': 1830, 'num_leaves': 216, 'learning_rate': 0.027306079989713957, 'feature_fraction': 0.7039362747175533, 'bagging_fraction': 0.6583202242513504, 'bagging_freq': 5, 'lambda_l1': 0.18020988443604957, 'lambda_l2': 0.575500514401433}. Best is trial 9 with value: 0.6633064516129032.\n"
     ]
    },
    {
     "name": "stdout",
     "output_type": "stream",
     "text": [
      "[LightGBM] [Warning] bagging_freq is set=1, subsample_freq=0 will be ignored. Current value: bagging_freq=1\n",
      "[LightGBM] [Warning] lambda_l1 is set=0.48728628148517544, reg_alpha=0.0 will be ignored. Current value: lambda_l1=0.48728628148517544\n",
      "[LightGBM] [Warning] min_data_in_leaf is set=10, min_child_samples=20 will be ignored. Current value: min_data_in_leaf=10\n",
      "[LightGBM] [Warning] num_iterations is set=281, num_boost_round=281 will be ignored. Current value: num_iterations=281\n",
      "[LightGBM] [Warning] lambda_l2 is set=0.9625808078427991, reg_lambda=0.0 will be ignored. Current value: lambda_l2=0.9625808078427991\n",
      "[LightGBM] [Warning] feature_fraction is set=0.7926801732124698, colsample_bytree=1.0 will be ignored. Current value: feature_fraction=0.7926801732124698\n",
      "[LightGBM] [Warning] bagging_fraction is set=0.5524455539669599, subsample=1.0 will be ignored. Current value: bagging_fraction=0.5524455539669599\n"
     ]
    },
    {
     "name": "stderr",
     "output_type": "stream",
     "text": [
      "[I 2023-06-06 16:49:00,105] Trial 10 finished with value: 0.657258064516129 and parameters: {'max_depth': 8, 'num_boost_round': 281, 'min_data_in_leaf': 10, 'n_estimators': 865, 'num_leaves': 75, 'learning_rate': 0.08298219578138753, 'feature_fraction': 0.7926801732124698, 'bagging_fraction': 0.5524455539669599, 'bagging_freq': 1, 'lambda_l1': 0.48728628148517544, 'lambda_l2': 0.9625808078427991}. Best is trial 9 with value: 0.6633064516129032.\n"
     ]
    },
    {
     "name": "stdout",
     "output_type": "stream",
     "text": [
      "[LightGBM] [Warning] bagging_freq is set=3, subsample_freq=0 will be ignored. Current value: bagging_freq=3\n",
      "[LightGBM] [Warning] lambda_l1 is set=0.3366116091069459, reg_alpha=0.0 will be ignored. Current value: lambda_l1=0.3366116091069459\n",
      "[LightGBM] [Warning] min_data_in_leaf is set=20, min_child_samples=20 will be ignored. Current value: min_data_in_leaf=20\n",
      "[LightGBM] [Warning] num_iterations is set=260, num_boost_round=260 will be ignored. Current value: num_iterations=260\n",
      "[LightGBM] [Warning] lambda_l2 is set=0.04821830546385577, reg_lambda=0.0 will be ignored. Current value: lambda_l2=0.04821830546385577\n",
      "[LightGBM] [Warning] feature_fraction is set=0.647933391819022, colsample_bytree=1.0 will be ignored. Current value: feature_fraction=0.647933391819022\n",
      "[LightGBM] [Warning] bagging_fraction is set=0.631779802057112, subsample=1.0 will be ignored. Current value: bagging_fraction=0.631779802057112\n"
     ]
    },
    {
     "name": "stderr",
     "output_type": "stream",
     "text": [
      "[I 2023-06-06 16:49:01,068] Trial 11 finished with value: 0.6592741935483871 and parameters: {'max_depth': 4, 'num_boost_round': 260, 'min_data_in_leaf': 20, 'n_estimators': 1997, 'num_leaves': 349, 'learning_rate': 0.01322487505783839, 'feature_fraction': 0.647933391819022, 'bagging_fraction': 0.631779802057112, 'bagging_freq': 3, 'lambda_l1': 0.3366116091069459, 'lambda_l2': 0.04821830546385577}. Best is trial 9 with value: 0.6633064516129032.\n"
     ]
    },
    {
     "name": "stdout",
     "output_type": "stream",
     "text": [
      "[LightGBM] [Warning] bagging_freq is set=6, subsample_freq=0 will be ignored. Current value: bagging_freq=6\n",
      "[LightGBM] [Warning] lambda_l1 is set=0.05623560233604693, reg_alpha=0.0 will be ignored. Current value: lambda_l1=0.05623560233604693\n",
      "[LightGBM] [Warning] min_data_in_leaf is set=20, min_child_samples=20 will be ignored. Current value: min_data_in_leaf=20\n",
      "[LightGBM] [Warning] num_iterations is set=184, num_boost_round=184 will be ignored. Current value: num_iterations=184\n",
      "[LightGBM] [Warning] lambda_l2 is set=0.04378548342730668, reg_lambda=0.0 will be ignored. Current value: lambda_l2=0.04378548342730668\n",
      "[LightGBM] [Warning] feature_fraction is set=0.7025718229750103, colsample_bytree=1.0 will be ignored. Current value: feature_fraction=0.7025718229750103\n",
      "[LightGBM] [Warning] bagging_fraction is set=0.5356878869930655, subsample=1.0 will be ignored. Current value: bagging_fraction=0.5356878869930655\n"
     ]
    },
    {
     "name": "stderr",
     "output_type": "stream",
     "text": [
      "[I 2023-06-06 16:49:01,978] Trial 12 finished with value: 0.6612903225806451 and parameters: {'max_depth': 5, 'num_boost_round': 184, 'min_data_in_leaf': 20, 'n_estimators': 1600, 'num_leaves': 397, 'learning_rate': 0.010027913100171107, 'feature_fraction': 0.7025718229750103, 'bagging_fraction': 0.5356878869930655, 'bagging_freq': 6, 'lambda_l1': 0.05623560233604693, 'lambda_l2': 0.04378548342730668}. Best is trial 9 with value: 0.6633064516129032.\n"
     ]
    },
    {
     "name": "stdout",
     "output_type": "stream",
     "text": [
      "[LightGBM] [Warning] bagging_freq is set=2, subsample_freq=0 will be ignored. Current value: bagging_freq=2\n",
      "[LightGBM] [Warning] lambda_l1 is set=0.25642933614021607, reg_alpha=0.0 will be ignored. Current value: lambda_l1=0.25642933614021607\n",
      "[LightGBM] [Warning] min_data_in_leaf is set=18, min_child_samples=20 will be ignored. Current value: min_data_in_leaf=18\n",
      "[LightGBM] [Warning] num_iterations is set=246, num_boost_round=246 will be ignored. Current value: num_iterations=246\n",
      "[LightGBM] [Warning] lambda_l2 is set=0.4009244348684754, reg_lambda=0.0 will be ignored. Current value: lambda_l2=0.4009244348684754\n",
      "[LightGBM] [Warning] feature_fraction is set=0.5560152815010073, colsample_bytree=1.0 will be ignored. Current value: feature_fraction=0.5560152815010073\n",
      "[LightGBM] [Warning] bagging_fraction is set=0.679093462790592, subsample=1.0 will be ignored. Current value: bagging_fraction=0.679093462790592\n"
     ]
    },
    {
     "name": "stderr",
     "output_type": "stream",
     "text": [
      "[I 2023-06-06 16:49:03,132] Trial 13 finished with value: 0.6633064516129032 and parameters: {'max_depth': 5, 'num_boost_round': 246, 'min_data_in_leaf': 18, 'n_estimators': 1960, 'num_leaves': 534, 'learning_rate': 0.027643509939712964, 'feature_fraction': 0.5560152815010073, 'bagging_fraction': 0.679093462790592, 'bagging_freq': 2, 'lambda_l1': 0.25642933614021607, 'lambda_l2': 0.4009244348684754}. Best is trial 9 with value: 0.6633064516129032.\n"
     ]
    },
    {
     "name": "stdout",
     "output_type": "stream",
     "text": [
      "[LightGBM] [Warning] bagging_freq is set=2, subsample_freq=0 will be ignored. Current value: bagging_freq=2\n",
      "[LightGBM] [Warning] lambda_l1 is set=0.27302353830156134, reg_alpha=0.0 will be ignored. Current value: lambda_l1=0.27302353830156134\n",
      "[LightGBM] [Warning] min_data_in_leaf is set=18, min_child_samples=20 will be ignored. Current value: min_data_in_leaf=18\n",
      "[LightGBM] [Warning] num_iterations is set=256, num_boost_round=256 will be ignored. Current value: num_iterations=256\n",
      "[LightGBM] [Warning] lambda_l2 is set=0.4340729174699152, reg_lambda=0.0 will be ignored. Current value: lambda_l2=0.4340729174699152\n",
      "[LightGBM] [Warning] feature_fraction is set=0.511544887744663, colsample_bytree=1.0 will be ignored. Current value: feature_fraction=0.511544887744663\n",
      "[LightGBM] [Warning] bagging_fraction is set=0.47847126862892364, subsample=1.0 will be ignored. Current value: bagging_fraction=0.47847126862892364\n"
     ]
    },
    {
     "name": "stderr",
     "output_type": "stream",
     "text": [
      "[I 2023-06-06 16:49:04,182] Trial 14 finished with value: 0.6592741935483871 and parameters: {'max_depth': 5, 'num_boost_round': 256, 'min_data_in_leaf': 18, 'n_estimators': 1861, 'num_leaves': 426, 'learning_rate': 0.028348202816605002, 'feature_fraction': 0.511544887744663, 'bagging_fraction': 0.47847126862892364, 'bagging_freq': 2, 'lambda_l1': 0.27302353830156134, 'lambda_l2': 0.4340729174699152}. Best is trial 9 with value: 0.6633064516129032.\n"
     ]
    },
    {
     "name": "stdout",
     "output_type": "stream",
     "text": [
      "[LightGBM] [Warning] bagging_freq is set=4, subsample_freq=0 will be ignored. Current value: bagging_freq=4\n",
      "[LightGBM] [Warning] lambda_l1 is set=0.5011258584767907, reg_alpha=0.0 will be ignored. Current value: lambda_l1=0.5011258584767907\n",
      "[LightGBM] [Warning] min_data_in_leaf is set=18, min_child_samples=20 will be ignored. Current value: min_data_in_leaf=18\n",
      "[LightGBM] [Warning] num_iterations is set=103, num_boost_round=103 will be ignored. Current value: num_iterations=103\n",
      "[LightGBM] [Warning] lambda_l2 is set=0.42119563254321213, reg_lambda=0.0 will be ignored. Current value: lambda_l2=0.42119563254321213\n",
      "[LightGBM] [Warning] feature_fraction is set=0.5374490158186626, colsample_bytree=1.0 will be ignored. Current value: feature_fraction=0.5374490158186626\n",
      "[LightGBM] [Warning] bagging_fraction is set=0.7960174581311935, subsample=1.0 will be ignored. Current value: bagging_fraction=0.7960174581311935\n"
     ]
    },
    {
     "name": "stderr",
     "output_type": "stream",
     "text": [
      "[I 2023-06-06 16:49:04,949] Trial 15 finished with value: 0.6673387096774194 and parameters: {'max_depth': 7, 'num_boost_round': 103, 'min_data_in_leaf': 18, 'n_estimators': 1463, 'num_leaves': 66, 'learning_rate': 0.027911338962503505, 'feature_fraction': 0.5374490158186626, 'bagging_fraction': 0.7960174581311935, 'bagging_freq': 4, 'lambda_l1': 0.5011258584767907, 'lambda_l2': 0.42119563254321213}. Best is trial 15 with value: 0.6673387096774194.\n"
     ]
    },
    {
     "name": "stdout",
     "output_type": "stream",
     "text": [
      "[LightGBM] [Warning] bagging_freq is set=5, subsample_freq=0 will be ignored. Current value: bagging_freq=5\n",
      "[LightGBM] [Warning] lambda_l1 is set=0.817400803059278, reg_alpha=0.0 will be ignored. Current value: lambda_l1=0.817400803059278\n",
      "[LightGBM] [Warning] min_data_in_leaf is set=13, min_child_samples=20 will be ignored. Current value: min_data_in_leaf=13\n",
      "[LightGBM] [Warning] num_iterations is set=106, num_boost_round=106 will be ignored. Current value: num_iterations=106\n",
      "[LightGBM] [Warning] lambda_l2 is set=0.6335898071518126, reg_lambda=0.0 will be ignored. Current value: lambda_l2=0.6335898071518126\n",
      "[LightGBM] [Warning] feature_fraction is set=0.47557100738833147, colsample_bytree=1.0 will be ignored. Current value: feature_fraction=0.47557100738833147\n",
      "[LightGBM] [Warning] bagging_fraction is set=0.7957688748178535, subsample=1.0 will be ignored. Current value: bagging_fraction=0.7957688748178535\n"
     ]
    },
    {
     "name": "stderr",
     "output_type": "stream",
     "text": [
      "[I 2023-06-06 16:49:05,777] Trial 16 finished with value: 0.6653225806451613 and parameters: {'max_depth': 7, 'num_boost_round': 106, 'min_data_in_leaf': 13, 'n_estimators': 1463, 'num_leaves': 79, 'learning_rate': 0.03133503081451613, 'feature_fraction': 0.47557100738833147, 'bagging_fraction': 0.7957688748178535, 'bagging_freq': 5, 'lambda_l1': 0.817400803059278, 'lambda_l2': 0.6335898071518126}. Best is trial 15 with value: 0.6673387096774194.\n"
     ]
    },
    {
     "name": "stdout",
     "output_type": "stream",
     "text": [
      "[LightGBM] [Warning] bagging_freq is set=4, subsample_freq=0 will be ignored. Current value: bagging_freq=4\n",
      "[LightGBM] [Warning] lambda_l1 is set=0.9009029180591772, reg_alpha=0.0 will be ignored. Current value: lambda_l1=0.9009029180591772\n",
      "[LightGBM] [Warning] min_data_in_leaf is set=14, min_child_samples=20 will be ignored. Current value: min_data_in_leaf=14\n",
      "[LightGBM] [Warning] num_iterations is set=106, num_boost_round=106 will be ignored. Current value: num_iterations=106\n",
      "[LightGBM] [Warning] lambda_l2 is set=0.2588719378220534, reg_lambda=0.0 will be ignored. Current value: lambda_l2=0.2588719378220534\n",
      "[LightGBM] [Warning] feature_fraction is set=0.46851044022993216, colsample_bytree=1.0 will be ignored. Current value: feature_fraction=0.46851044022993216\n",
      "[LightGBM] [Warning] bagging_fraction is set=0.7988006499601393, subsample=1.0 will be ignored. Current value: bagging_fraction=0.7988006499601393\n"
     ]
    },
    {
     "name": "stderr",
     "output_type": "stream",
     "text": [
      "[I 2023-06-06 16:49:06,546] Trial 17 finished with value: 0.6633064516129032 and parameters: {'max_depth': 7, 'num_boost_round': 106, 'min_data_in_leaf': 14, 'n_estimators': 1071, 'num_leaves': 41, 'learning_rate': 0.0513401880617866, 'feature_fraction': 0.46851044022993216, 'bagging_fraction': 0.7988006499601393, 'bagging_freq': 4, 'lambda_l1': 0.9009029180591772, 'lambda_l2': 0.2588719378220534}. Best is trial 15 with value: 0.6673387096774194.\n"
     ]
    },
    {
     "name": "stdout",
     "output_type": "stream",
     "text": [
      "[LightGBM] [Warning] bagging_freq is set=6, subsample_freq=0 will be ignored. Current value: bagging_freq=6\n",
      "[LightGBM] [Warning] lambda_l1 is set=0.5297739697969079, reg_alpha=0.0 will be ignored. Current value: lambda_l1=0.5297739697969079\n",
      "[LightGBM] [Warning] min_data_in_leaf is set=18, min_child_samples=20 will be ignored. Current value: min_data_in_leaf=18\n",
      "[LightGBM] [Warning] num_iterations is set=100, num_boost_round=100 will be ignored. Current value: num_iterations=100\n",
      "[LightGBM] [Warning] lambda_l2 is set=0.9803947007742653, reg_lambda=0.0 will be ignored. Current value: lambda_l2=0.9803947007742653\n",
      "[LightGBM] [Warning] feature_fraction is set=0.3492528637364562, colsample_bytree=1.0 will be ignored. Current value: feature_fraction=0.3492528637364562\n",
      "[LightGBM] [Warning] bagging_fraction is set=0.12754316193456028, subsample=1.0 will be ignored. Current value: bagging_fraction=0.12754316193456028\n"
     ]
    },
    {
     "name": "stderr",
     "output_type": "stream",
     "text": [
      "[I 2023-06-06 16:49:06,784] Trial 18 finished with value: 0.6612903225806451 and parameters: {'max_depth': 7, 'num_boost_round': 100, 'min_data_in_leaf': 18, 'n_estimators': 1448, 'num_leaves': 603, 'learning_rate': 0.03674561786556729, 'feature_fraction': 0.3492528637364562, 'bagging_fraction': 0.12754316193456028, 'bagging_freq': 6, 'lambda_l1': 0.5297739697969079, 'lambda_l2': 0.9803947007742653}. Best is trial 15 with value: 0.6673387096774194.\n"
     ]
    },
    {
     "name": "stdout",
     "output_type": "stream",
     "text": [
      "[LightGBM] [Warning] bagging_freq is set=4, subsample_freq=0 will be ignored. Current value: bagging_freq=4\n",
      "[LightGBM] [Warning] lambda_l1 is set=0.8955425826794343, reg_alpha=0.0 will be ignored. Current value: lambda_l1=0.8955425826794343\n",
      "[LightGBM] [Warning] min_data_in_leaf is set=13, min_child_samples=20 will be ignored. Current value: min_data_in_leaf=13\n",
      "[LightGBM] [Warning] num_iterations is set=175, num_boost_round=175 will be ignored. Current value: num_iterations=175\n",
      "[LightGBM] [Warning] lambda_l2 is set=0.6470842060805184, reg_lambda=0.0 will be ignored. Current value: lambda_l2=0.6470842060805184\n",
      "[LightGBM] [Warning] feature_fraction is set=0.3241514075787281, colsample_bytree=1.0 will be ignored. Current value: feature_fraction=0.3241514075787281\n",
      "[LightGBM] [Warning] bagging_fraction is set=0.7320773353803336, subsample=1.0 will be ignored. Current value: bagging_fraction=0.7320773353803336\n"
     ]
    },
    {
     "name": "stderr",
     "output_type": "stream",
     "text": [
      "[I 2023-06-06 16:49:07,951] Trial 19 finished with value: 0.655241935483871 and parameters: {'max_depth': 7, 'num_boost_round': 175, 'min_data_in_leaf': 13, 'n_estimators': 1016, 'num_leaves': 227, 'learning_rate': 0.03261729691344729, 'feature_fraction': 0.3241514075787281, 'bagging_fraction': 0.7320773353803336, 'bagging_freq': 4, 'lambda_l1': 0.8955425826794343, 'lambda_l2': 0.6470842060805184}. Best is trial 15 with value: 0.6673387096774194.\n"
     ]
    },
    {
     "name": "stdout",
     "output_type": "stream",
     "text": [
      "[LightGBM] [Warning] bagging_freq is set=7, subsample_freq=0 will be ignored. Current value: bagging_freq=7\n",
      "[LightGBM] [Warning] lambda_l1 is set=0.4895090852605208, reg_alpha=0.0 will be ignored. Current value: lambda_l1=0.4895090852605208\n",
      "[LightGBM] [Warning] min_data_in_leaf is set=16, min_child_samples=20 will be ignored. Current value: min_data_in_leaf=16\n",
      "[LightGBM] [Warning] num_iterations is set=117, num_boost_round=117 will be ignored. Current value: num_iterations=117\n",
      "[LightGBM] [Warning] lambda_l2 is set=0.2734184085228672, reg_lambda=0.0 will be ignored. Current value: lambda_l2=0.2734184085228672\n",
      "[LightGBM] [Warning] feature_fraction is set=0.509824306391744, colsample_bytree=1.0 will be ignored. Current value: feature_fraction=0.509824306391744\n",
      "[LightGBM] [Warning] bagging_fraction is set=0.78785364373879, subsample=1.0 will be ignored. Current value: bagging_fraction=0.78785364373879\n"
     ]
    },
    {
     "name": "stderr",
     "output_type": "stream",
     "text": [
      "[I 2023-06-06 16:49:08,988] Trial 20 finished with value: 0.6693548387096774 and parameters: {'max_depth': 8, 'num_boost_round': 117, 'min_data_in_leaf': 16, 'n_estimators': 1552, 'num_leaves': 710, 'learning_rate': 0.021241344620454832, 'feature_fraction': 0.509824306391744, 'bagging_fraction': 0.78785364373879, 'bagging_freq': 7, 'lambda_l1': 0.4895090852605208, 'lambda_l2': 0.2734184085228672}. Best is trial 20 with value: 0.6693548387096774.\n"
     ]
    },
    {
     "name": "stdout",
     "output_type": "stream",
     "text": [
      "[LightGBM] [Warning] bagging_freq is set=7, subsample_freq=0 will be ignored. Current value: bagging_freq=7\n",
      "[LightGBM] [Warning] lambda_l1 is set=0.5005286153029905, reg_alpha=0.0 will be ignored. Current value: lambda_l1=0.5005286153029905\n",
      "[LightGBM] [Warning] min_data_in_leaf is set=16, min_child_samples=20 will be ignored. Current value: min_data_in_leaf=16\n",
      "[LightGBM] [Warning] num_iterations is set=118, num_boost_round=118 will be ignored. Current value: num_iterations=118\n",
      "[LightGBM] [Warning] lambda_l2 is set=0.3074201351017661, reg_lambda=0.0 will be ignored. Current value: lambda_l2=0.3074201351017661\n",
      "[LightGBM] [Warning] feature_fraction is set=0.5047892648753154, colsample_bytree=1.0 will be ignored. Current value: feature_fraction=0.5047892648753154\n",
      "[LightGBM] [Warning] bagging_fraction is set=0.7909683759104871, subsample=1.0 will be ignored. Current value: bagging_fraction=0.7909683759104871\n"
     ]
    },
    {
     "name": "stderr",
     "output_type": "stream",
     "text": [
      "[I 2023-06-06 16:49:10,074] Trial 21 finished with value: 0.6653225806451613 and parameters: {'max_depth': 8, 'num_boost_round': 118, 'min_data_in_leaf': 16, 'n_estimators': 1534, 'num_leaves': 716, 'learning_rate': 0.021415235539030245, 'feature_fraction': 0.5047892648753154, 'bagging_fraction': 0.7909683759104871, 'bagging_freq': 7, 'lambda_l1': 0.5005286153029905, 'lambda_l2': 0.3074201351017661}. Best is trial 20 with value: 0.6693548387096774.\n"
     ]
    },
    {
     "name": "stdout",
     "output_type": "stream",
     "text": [
      "[LightGBM] [Warning] bagging_freq is set=7, subsample_freq=0 will be ignored. Current value: bagging_freq=7\n",
      "[LightGBM] [Warning] lambda_l1 is set=0.3735844171012603, reg_alpha=0.0 will be ignored. Current value: lambda_l1=0.3735844171012603\n",
      "[LightGBM] [Warning] min_data_in_leaf is set=17, min_child_samples=20 will be ignored. Current value: min_data_in_leaf=17\n",
      "[LightGBM] [Warning] num_iterations is set=153, num_boost_round=153 will be ignored. Current value: num_iterations=153\n",
      "[LightGBM] [Warning] lambda_l2 is set=0.5931441817106612, reg_lambda=0.0 will be ignored. Current value: lambda_l2=0.5931441817106612\n",
      "[LightGBM] [Warning] feature_fraction is set=0.5679077825003157, colsample_bytree=1.0 will be ignored. Current value: feature_fraction=0.5679077825003157\n",
      "[LightGBM] [Warning] bagging_fraction is set=0.7206634286109164, subsample=1.0 will be ignored. Current value: bagging_fraction=0.7206634286109164\n"
     ]
    },
    {
     "name": "stderr",
     "output_type": "stream",
     "text": [
      "[I 2023-06-06 16:49:11,421] Trial 22 finished with value: 0.6612903225806451 and parameters: {'max_depth': 8, 'num_boost_round': 153, 'min_data_in_leaf': 17, 'n_estimators': 1106, 'num_leaves': 1446, 'learning_rate': 0.023940178694027616, 'feature_fraction': 0.5679077825003157, 'bagging_fraction': 0.7206634286109164, 'bagging_freq': 7, 'lambda_l1': 0.3735844171012603, 'lambda_l2': 0.5931441817106612}. Best is trial 20 with value: 0.6693548387096774.\n"
     ]
    },
    {
     "name": "stdout",
     "output_type": "stream",
     "text": [
      "[LightGBM] [Warning] bagging_freq is set=5, subsample_freq=0 will be ignored. Current value: bagging_freq=5\n",
      "[LightGBM] [Warning] lambda_l1 is set=0.5653940264057212, reg_alpha=0.0 will be ignored. Current value: lambda_l1=0.5653940264057212\n",
      "[LightGBM] [Warning] min_data_in_leaf is set=14, min_child_samples=20 will be ignored. Current value: min_data_in_leaf=14\n",
      "[LightGBM] [Warning] num_iterations is set=115, num_boost_round=115 will be ignored. Current value: num_iterations=115\n",
      "[LightGBM] [Warning] lambda_l2 is set=0.3461179630298296, reg_lambda=0.0 will be ignored. Current value: lambda_l2=0.3461179630298296\n",
      "[LightGBM] [Warning] feature_fraction is set=0.4765731224489703, colsample_bytree=1.0 will be ignored. Current value: feature_fraction=0.4765731224489703\n",
      "[LightGBM] [Warning] bagging_fraction is set=0.7989727461985534, subsample=1.0 will be ignored. Current value: bagging_fraction=0.7989727461985534\n"
     ]
    },
    {
     "name": "stderr",
     "output_type": "stream",
     "text": [
      "[I 2023-06-06 16:49:12,330] Trial 23 finished with value: 0.655241935483871 and parameters: {'max_depth': 7, 'num_boost_round': 115, 'min_data_in_leaf': 14, 'n_estimators': 1555, 'num_leaves': 211, 'learning_rate': 0.031082091434393642, 'feature_fraction': 0.4765731224489703, 'bagging_fraction': 0.7989727461985534, 'bagging_freq': 5, 'lambda_l1': 0.5653940264057212, 'lambda_l2': 0.3461179630298296}. Best is trial 20 with value: 0.6693548387096774.\n"
     ]
    },
    {
     "name": "stdout",
     "output_type": "stream",
     "text": [
      "[LightGBM] [Warning] bagging_freq is set=3, subsample_freq=0 will be ignored. Current value: bagging_freq=3\n",
      "[LightGBM] [Warning] lambda_l1 is set=0.5959057012457536, reg_alpha=0.0 will be ignored. Current value: lambda_l1=0.5959057012457536\n",
      "[LightGBM] [Warning] min_data_in_leaf is set=19, min_child_samples=20 will be ignored. Current value: min_data_in_leaf=19\n",
      "[LightGBM] [Warning] num_iterations is set=131, num_boost_round=131 will be ignored. Current value: num_iterations=131\n",
      "[LightGBM] [Warning] lambda_l2 is set=0.20159118300987522, reg_lambda=0.0 will be ignored. Current value: lambda_l2=0.20159118300987522\n",
      "[LightGBM] [Warning] feature_fraction is set=0.5333361677797116, colsample_bytree=1.0 will be ignored. Current value: feature_fraction=0.5333361677797116\n",
      "[LightGBM] [Warning] bagging_fraction is set=0.7219831200410314, subsample=1.0 will be ignored. Current value: bagging_fraction=0.7219831200410314\n"
     ]
    },
    {
     "name": "stderr",
     "output_type": "stream",
     "text": [
      "[I 2023-06-06 16:49:13,211] Trial 24 finished with value: 0.6653225806451613 and parameters: {'max_depth': 7, 'num_boost_round': 131, 'min_data_in_leaf': 19, 'n_estimators': 1190, 'num_leaves': 62, 'learning_rate': 0.019268268108473763, 'feature_fraction': 0.5333361677797116, 'bagging_fraction': 0.7219831200410314, 'bagging_freq': 3, 'lambda_l1': 0.5959057012457536, 'lambda_l2': 0.20159118300987522}. Best is trial 20 with value: 0.6693548387096774.\n"
     ]
    },
    {
     "name": "stdout",
     "output_type": "stream",
     "text": [
      "[LightGBM] [Warning] bagging_freq is set=6, subsample_freq=0 will be ignored. Current value: bagging_freq=6\n",
      "[LightGBM] [Warning] lambda_l1 is set=0.9339385885853403, reg_alpha=0.0 will be ignored. Current value: lambda_l1=0.9339385885853403\n",
      "[LightGBM] [Warning] min_data_in_leaf is set=16, min_child_samples=20 will be ignored. Current value: min_data_in_leaf=16\n",
      "[LightGBM] [Warning] num_iterations is set=120, num_boost_round=120 will be ignored. Current value: num_iterations=120\n",
      "[LightGBM] [Warning] lambda_l2 is set=0.49689710271563087, reg_lambda=0.0 will be ignored. Current value: lambda_l2=0.49689710271563087\n",
      "[LightGBM] [Warning] feature_fraction is set=0.43506562869376597, colsample_bytree=1.0 will be ignored. Current value: feature_fraction=0.43506562869376597\n",
      "[LightGBM] [Warning] bagging_fraction is set=0.6137689065794085, subsample=1.0 will be ignored. Current value: bagging_fraction=0.6137689065794085\n"
     ]
    },
    {
     "name": "stderr",
     "output_type": "stream",
     "text": [
      "[I 2023-06-06 16:49:13,842] Trial 25 finished with value: 0.6633064516129032 and parameters: {'max_depth': 6, 'num_boost_round': 120, 'min_data_in_leaf': 16, 'n_estimators': 1417, 'num_leaves': 522, 'learning_rate': 0.024195206611870617, 'feature_fraction': 0.43506562869376597, 'bagging_fraction': 0.6137689065794085, 'bagging_freq': 6, 'lambda_l1': 0.9339385885853403, 'lambda_l2': 0.49689710271563087}. Best is trial 20 with value: 0.6693548387096774.\n"
     ]
    },
    {
     "name": "stdout",
     "output_type": "stream",
     "text": [
      "[LightGBM] [Warning] bagging_freq is set=3, subsample_freq=0 will be ignored. Current value: bagging_freq=3\n",
      "[LightGBM] [Warning] lambda_l1 is set=0.3444854238234955, reg_alpha=0.0 will be ignored. Current value: lambda_l1=0.3444854238234955\n",
      "[LightGBM] [Warning] min_data_in_leaf is set=17, min_child_samples=20 will be ignored. Current value: min_data_in_leaf=17\n",
      "[LightGBM] [Warning] num_iterations is set=153, num_boost_round=153 will be ignored. Current value: num_iterations=153\n",
      "[LightGBM] [Warning] lambda_l2 is set=0.32190717279983505, reg_lambda=0.0 will be ignored. Current value: lambda_l2=0.32190717279983505\n",
      "[LightGBM] [Warning] feature_fraction is set=0.5996426902668317, colsample_bytree=1.0 will be ignored. Current value: feature_fraction=0.5996426902668317\n",
      "[LightGBM] [Warning] bagging_fraction is set=0.7298975471329071, subsample=1.0 will be ignored. Current value: bagging_fraction=0.7298975471329071\n"
     ]
    },
    {
     "name": "stderr",
     "output_type": "stream",
     "text": [
      "[I 2023-06-06 16:49:15,243] Trial 26 finished with value: 0.6733870967741935 and parameters: {'max_depth': 8, 'num_boost_round': 153, 'min_data_in_leaf': 17, 'n_estimators': 934, 'num_leaves': 290, 'learning_rate': 0.03303130202695269, 'feature_fraction': 0.5996426902668317, 'bagging_fraction': 0.7298975471329071, 'bagging_freq': 3, 'lambda_l1': 0.3444854238234955, 'lambda_l2': 0.32190717279983505}. Best is trial 26 with value: 0.6733870967741935.\n"
     ]
    },
    {
     "name": "stdout",
     "output_type": "stream",
     "text": [
      "[LightGBM] [Warning] bagging_freq is set=3, subsample_freq=0 will be ignored. Current value: bagging_freq=3\n",
      "[LightGBM] [Warning] lambda_l1 is set=0.36332541895184733, reg_alpha=0.0 will be ignored. Current value: lambda_l1=0.36332541895184733\n",
      "[LightGBM] [Warning] min_data_in_leaf is set=17, min_child_samples=20 will be ignored. Current value: min_data_in_leaf=17\n",
      "[LightGBM] [Warning] num_iterations is set=196, num_boost_round=196 will be ignored. Current value: num_iterations=196\n",
      "[LightGBM] [Warning] lambda_l2 is set=0.3018251165270762, reg_lambda=0.0 will be ignored. Current value: lambda_l2=0.3018251165270762\n",
      "[LightGBM] [Warning] feature_fraction is set=0.6102259829773049, colsample_bytree=1.0 will be ignored. Current value: feature_fraction=0.6102259829773049\n",
      "[LightGBM] [Warning] bagging_fraction is set=0.725775363771315, subsample=1.0 will be ignored. Current value: bagging_fraction=0.725775363771315\n"
     ]
    },
    {
     "name": "stderr",
     "output_type": "stream",
     "text": [
      "[I 2023-06-06 16:49:17,056] Trial 27 finished with value: 0.6633064516129032 and parameters: {'max_depth': 8, 'num_boost_round': 196, 'min_data_in_leaf': 17, 'n_estimators': 826, 'num_leaves': 627, 'learning_rate': 0.0461998253064977, 'feature_fraction': 0.6102259829773049, 'bagging_fraction': 0.725775363771315, 'bagging_freq': 3, 'lambda_l1': 0.36332541895184733, 'lambda_l2': 0.3018251165270762}. Best is trial 26 with value: 0.6733870967741935.\n"
     ]
    },
    {
     "name": "stdout",
     "output_type": "stream",
     "text": [
      "[LightGBM] [Warning] bagging_freq is set=1, subsample_freq=0 will be ignored. Current value: bagging_freq=1\n",
      "[LightGBM] [Warning] lambda_l1 is set=0.33019842114492454, reg_alpha=0.0 will be ignored. Current value: lambda_l1=0.33019842114492454\n",
      "[LightGBM] [Warning] min_data_in_leaf is set=19, min_child_samples=20 will be ignored. Current value: min_data_in_leaf=19\n",
      "[LightGBM] [Warning] num_iterations is set=153, num_boost_round=153 will be ignored. Current value: num_iterations=153\n",
      "[LightGBM] [Warning] lambda_l2 is set=0.21426237225379052, reg_lambda=0.0 will be ignored. Current value: lambda_l2=0.21426237225379052\n",
      "[LightGBM] [Warning] feature_fraction is set=0.586988569719735, colsample_bytree=1.0 will be ignored. Current value: feature_fraction=0.586988569719735\n",
      "[LightGBM] [Warning] bagging_fraction is set=0.6810346418439888, subsample=1.0 will be ignored. Current value: bagging_fraction=0.6810346418439888\n"
     ]
    },
    {
     "name": "stderr",
     "output_type": "stream",
     "text": [
      "[I 2023-06-06 16:49:18,353] Trial 28 finished with value: 0.6653225806451613 and parameters: {'max_depth': 8, 'num_boost_round': 153, 'min_data_in_leaf': 19, 'n_estimators': 617, 'num_leaves': 293, 'learning_rate': 0.01921675844538717, 'feature_fraction': 0.586988569719735, 'bagging_fraction': 0.6810346418439888, 'bagging_freq': 1, 'lambda_l1': 0.33019842114492454, 'lambda_l2': 0.21426237225379052}. Best is trial 26 with value: 0.6733870967741935.\n"
     ]
    },
    {
     "name": "stdout",
     "output_type": "stream",
     "text": [
      "[LightGBM] [Warning] bagging_freq is set=2, subsample_freq=0 will be ignored. Current value: bagging_freq=2\n",
      "[LightGBM] [Warning] lambda_l1 is set=0.6709584182371829, reg_alpha=0.0 will be ignored. Current value: lambda_l1=0.6709584182371829\n",
      "[LightGBM] [Warning] min_data_in_leaf is set=15, min_child_samples=20 will be ignored. Current value: min_data_in_leaf=15\n",
      "[LightGBM] [Warning] num_iterations is set=165, num_boost_round=165 will be ignored. Current value: num_iterations=165\n",
      "[LightGBM] [Warning] lambda_l2 is set=0.3669170596861734, reg_lambda=0.0 will be ignored. Current value: lambda_l2=0.3669170596861734\n",
      "[LightGBM] [Warning] feature_fraction is set=0.5415529650035293, colsample_bytree=1.0 will be ignored. Current value: feature_fraction=0.5415529650035293\n",
      "[LightGBM] [Warning] bagging_fraction is set=0.5734334727785433, subsample=1.0 will be ignored. Current value: bagging_fraction=0.5734334727785433\n"
     ]
    },
    {
     "name": "stderr",
     "output_type": "stream",
     "text": [
      "[I 2023-06-06 16:49:19,656] Trial 29 finished with value: 0.6612903225806451 and parameters: {'max_depth': 8, 'num_boost_round': 165, 'min_data_in_leaf': 15, 'n_estimators': 936, 'num_leaves': 895, 'learning_rate': 0.026209320607081976, 'feature_fraction': 0.5415529650035293, 'bagging_fraction': 0.5734334727785433, 'bagging_freq': 2, 'lambda_l1': 0.6709584182371829, 'lambda_l2': 0.3669170596861734}. Best is trial 26 with value: 0.6733870967741935.\n"
     ]
    },
    {
     "name": "stdout",
     "output_type": "stream",
     "text": [
      "[LightGBM] [Warning] bagging_freq is set=4, subsample_freq=0 will be ignored. Current value: bagging_freq=4\n",
      "[LightGBM] [Warning] lambda_l1 is set=0.23970464498016156, reg_alpha=0.0 will be ignored. Current value: lambda_l1=0.23970464498016156\n",
      "[LightGBM] [Warning] min_data_in_leaf is set=19, min_child_samples=20 will be ignored. Current value: min_data_in_leaf=19\n",
      "[LightGBM] [Warning] num_iterations is set=145, num_boost_round=145 will be ignored. Current value: num_iterations=145\n",
      "[LightGBM] [Warning] lambda_l2 is set=0.1384907243674338, reg_lambda=0.0 will be ignored. Current value: lambda_l2=0.1384907243674338\n",
      "[LightGBM] [Warning] feature_fraction is set=0.3910048722005683, colsample_bytree=1.0 will be ignored. Current value: feature_fraction=0.3910048722005683\n",
      "[LightGBM] [Warning] bagging_fraction is set=0.74003359396461, subsample=1.0 will be ignored. Current value: bagging_fraction=0.74003359396461\n"
     ]
    },
    {
     "name": "stderr",
     "output_type": "stream",
     "text": [
      "[I 2023-06-06 16:49:20,634] Trial 30 finished with value: 0.6592741935483871 and parameters: {'max_depth': 7, 'num_boost_round': 145, 'min_data_in_leaf': 19, 'n_estimators': 489, 'num_leaves': 1353, 'learning_rate': 0.023568681471418062, 'feature_fraction': 0.3910048722005683, 'bagging_fraction': 0.74003359396461, 'bagging_freq': 4, 'lambda_l1': 0.23970464498016156, 'lambda_l2': 0.1384907243674338}. Best is trial 26 with value: 0.6733870967741935.\n"
     ]
    },
    {
     "name": "stdout",
     "output_type": "stream",
     "text": [
      "[LightGBM] [Warning] bagging_freq is set=5, subsample_freq=0 will be ignored. Current value: bagging_freq=5\n",
      "[LightGBM] [Warning] lambda_l1 is set=0.6583595517735001, reg_alpha=0.0 will be ignored. Current value: lambda_l1=0.6583595517735001\n",
      "[LightGBM] [Warning] min_data_in_leaf is set=16, min_child_samples=20 will be ignored. Current value: min_data_in_leaf=16\n",
      "[LightGBM] [Warning] num_iterations is set=110, num_boost_round=110 will be ignored. Current value: num_iterations=110\n",
      "[LightGBM] [Warning] lambda_l2 is set=0.28164725321125933, reg_lambda=0.0 will be ignored. Current value: lambda_l2=0.28164725321125933\n",
      "[LightGBM] [Warning] feature_fraction is set=0.49297390474123914, colsample_bytree=1.0 will be ignored. Current value: feature_fraction=0.49297390474123914\n",
      "[LightGBM] [Warning] bagging_fraction is set=0.7509919222600697, subsample=1.0 will be ignored. Current value: bagging_fraction=0.7509919222600697\n"
     ]
    },
    {
     "name": "stderr",
     "output_type": "stream",
     "text": [
      "[I 2023-06-06 16:49:21,601] Trial 31 finished with value: 0.6673387096774194 and parameters: {'max_depth': 8, 'num_boost_round': 110, 'min_data_in_leaf': 16, 'n_estimators': 1687, 'num_leaves': 147, 'learning_rate': 0.03153240927677654, 'feature_fraction': 0.49297390474123914, 'bagging_fraction': 0.7509919222600697, 'bagging_freq': 5, 'lambda_l1': 0.6583595517735001, 'lambda_l2': 0.28164725321125933}. Best is trial 26 with value: 0.6733870967741935.\n"
     ]
    },
    {
     "name": "stdout",
     "output_type": "stream",
     "text": [
      "[LightGBM] [Warning] bagging_freq is set=3, subsample_freq=0 will be ignored. Current value: bagging_freq=3\n",
      "[LightGBM] [Warning] lambda_l1 is set=0.4037677034232654, reg_alpha=0.0 will be ignored. Current value: lambda_l1=0.4037677034232654\n",
      "[LightGBM] [Warning] min_data_in_leaf is set=16, min_child_samples=20 will be ignored. Current value: min_data_in_leaf=16\n",
      "[LightGBM] [Warning] num_iterations is set=123, num_boost_round=123 will be ignored. Current value: num_iterations=123\n",
      "[LightGBM] [Warning] lambda_l2 is set=0.25286452848266233, reg_lambda=0.0 will be ignored. Current value: lambda_l2=0.25286452848266233\n",
      "[LightGBM] [Warning] feature_fraction is set=0.5185690451818195, colsample_bytree=1.0 will be ignored. Current value: feature_fraction=0.5185690451818195\n",
      "[LightGBM] [Warning] bagging_fraction is set=0.6840139864770938, subsample=1.0 will be ignored. Current value: bagging_fraction=0.6840139864770938\n"
     ]
    },
    {
     "name": "stderr",
     "output_type": "stream",
     "text": [
      "[I 2023-06-06 16:49:22,639] Trial 32 finished with value: 0.6592741935483871 and parameters: {'max_depth': 8, 'num_boost_round': 123, 'min_data_in_leaf': 16, 'n_estimators': 1675, 'num_leaves': 198, 'learning_rate': 0.03621151175526355, 'feature_fraction': 0.5185690451818195, 'bagging_fraction': 0.6840139864770938, 'bagging_freq': 3, 'lambda_l1': 0.4037677034232654, 'lambda_l2': 0.25286452848266233}. Best is trial 26 with value: 0.6733870967741935.\n"
     ]
    },
    {
     "name": "stdout",
     "output_type": "stream",
     "text": [
      "[LightGBM] [Warning] bagging_freq is set=4, subsample_freq=0 will be ignored. Current value: bagging_freq=4\n",
      "[LightGBM] [Warning] lambda_l1 is set=0.7062392824588116, reg_alpha=0.0 will be ignored. Current value: lambda_l1=0.7062392824588116\n",
      "[LightGBM] [Warning] min_data_in_leaf is set=17, min_child_samples=20 will be ignored. Current value: min_data_in_leaf=17\n",
      "[LightGBM] [Warning] num_iterations is set=110, num_boost_round=110 will be ignored. Current value: num_iterations=110\n",
      "[LightGBM] [Warning] lambda_l2 is set=0.2884938731720657, reg_lambda=0.0 will be ignored. Current value: lambda_l2=0.2884938731720657\n",
      "[LightGBM] [Warning] feature_fraction is set=0.44659591690383704, colsample_bytree=1.0 will be ignored. Current value: feature_fraction=0.44659591690383704\n",
      "[LightGBM] [Warning] bagging_fraction is set=0.73925160947658, subsample=1.0 will be ignored. Current value: bagging_fraction=0.73925160947658\n"
     ]
    },
    {
     "name": "stderr",
     "output_type": "stream",
     "text": [
      "[I 2023-06-06 16:49:23,522] Trial 33 finished with value: 0.655241935483871 and parameters: {'max_depth': 8, 'num_boost_round': 110, 'min_data_in_leaf': 17, 'n_estimators': 1678, 'num_leaves': 408, 'learning_rate': 0.03025578631767343, 'feature_fraction': 0.44659591690383704, 'bagging_fraction': 0.73925160947658, 'bagging_freq': 4, 'lambda_l1': 0.7062392824588116, 'lambda_l2': 0.2884938731720657}. Best is trial 26 with value: 0.6733870967741935.\n"
     ]
    },
    {
     "name": "stdout",
     "output_type": "stream",
     "text": [
      "[LightGBM] [Warning] bagging_freq is set=8, subsample_freq=0 will be ignored. Current value: bagging_freq=8\n",
      "[LightGBM] [Warning] lambda_l1 is set=0.4185548376678754, reg_alpha=0.0 will be ignored. Current value: lambda_l1=0.4185548376678754\n",
      "[LightGBM] [Warning] min_data_in_leaf is set=15, min_child_samples=20 will be ignored. Current value: min_data_in_leaf=15\n",
      "[LightGBM] [Warning] num_iterations is set=127, num_boost_round=127 will be ignored. Current value: num_iterations=127\n",
      "[LightGBM] [Warning] lambda_l2 is set=0.4438860870089944, reg_lambda=0.0 will be ignored. Current value: lambda_l2=0.4438860870089944\n",
      "[LightGBM] [Warning] feature_fraction is set=0.6099424587427238, colsample_bytree=1.0 will be ignored. Current value: feature_fraction=0.6099424587427238\n",
      "[LightGBM] [Warning] bagging_fraction is set=0.6963703774379661, subsample=1.0 will be ignored. Current value: bagging_fraction=0.6963703774379661\n"
     ]
    },
    {
     "name": "stderr",
     "output_type": "stream",
     "text": [
      "[I 2023-06-06 16:49:24,775] Trial 34 finished with value: 0.6512096774193549 and parameters: {'max_depth': 8, 'num_boost_round': 127, 'min_data_in_leaf': 15, 'n_estimators': 1180, 'num_leaves': 189, 'learning_rate': 0.025367727381319462, 'feature_fraction': 0.6099424587427238, 'bagging_fraction': 0.6963703774379661, 'bagging_freq': 8, 'lambda_l1': 0.4185548376678754, 'lambda_l2': 0.4438860870089944}. Best is trial 26 with value: 0.6733870967741935.\n"
     ]
    },
    {
     "name": "stdout",
     "output_type": "stream",
     "text": [
      "[LightGBM] [Warning] bagging_freq is set=6, subsample_freq=0 will be ignored. Current value: bagging_freq=6\n",
      "[LightGBM] [Warning] lambda_l1 is set=0.6913301155856539, reg_alpha=0.0 will be ignored. Current value: lambda_l1=0.6913301155856539\n",
      "[LightGBM] [Warning] min_data_in_leaf is set=18, min_child_samples=20 will be ignored. Current value: min_data_in_leaf=18\n",
      "[LightGBM] [Warning] num_iterations is set=162, num_boost_round=162 will be ignored. Current value: num_iterations=162\n",
      "[LightGBM] [Warning] lambda_l2 is set=0.15569598891895192, reg_lambda=0.0 will be ignored. Current value: lambda_l2=0.15569598891895192\n",
      "[LightGBM] [Warning] feature_fraction is set=0.5791028739146163, colsample_bytree=1.0 will be ignored. Current value: feature_fraction=0.5791028739146163\n",
      "[LightGBM] [Warning] bagging_fraction is set=0.7584418146101408, subsample=1.0 will be ignored. Current value: bagging_fraction=0.7584418146101408\n"
     ]
    },
    {
     "name": "stderr",
     "output_type": "stream",
     "text": [
      "[I 2023-06-06 16:49:26,058] Trial 35 finished with value: 0.6592741935483871 and parameters: {'max_depth': 7, 'num_boost_round': 162, 'min_data_in_leaf': 18, 'n_estimators': 1353, 'num_leaves': 1001, 'learning_rate': 0.035066479608069225, 'feature_fraction': 0.5791028739146163, 'bagging_fraction': 0.7584418146101408, 'bagging_freq': 6, 'lambda_l1': 0.6913301155856539, 'lambda_l2': 0.15569598891895192}. Best is trial 26 with value: 0.6733870967741935.\n"
     ]
    },
    {
     "name": "stdout",
     "output_type": "stream",
     "text": [
      "[LightGBM] [Warning] bagging_freq is set=5, subsample_freq=0 will be ignored. Current value: bagging_freq=5\n",
      "[LightGBM] [Warning] lambda_l1 is set=0.44197886236738854, reg_alpha=0.0 will be ignored. Current value: lambda_l1=0.44197886236738854\n",
      "[LightGBM] [Warning] min_data_in_leaf is set=16, min_child_samples=20 will be ignored. Current value: min_data_in_leaf=16\n",
      "[LightGBM] [Warning] num_iterations is set=139, num_boost_round=139 will be ignored. Current value: num_iterations=139\n",
      "[LightGBM] [Warning] lambda_l2 is set=0.21014937245857782, reg_lambda=0.0 will be ignored. Current value: lambda_l2=0.21014937245857782\n",
      "[LightGBM] [Warning] feature_fraction is set=0.49477028869699313, colsample_bytree=1.0 will be ignored. Current value: feature_fraction=0.49477028869699313\n",
      "[LightGBM] [Warning] bagging_fraction is set=0.639826103974912, subsample=1.0 will be ignored. Current value: bagging_fraction=0.639826103974912\n"
     ]
    },
    {
     "name": "stderr",
     "output_type": "stream",
     "text": [
      "[I 2023-06-06 16:49:27,185] Trial 36 finished with value: 0.6633064516129032 and parameters: {'max_depth': 8, 'num_boost_round': 139, 'min_data_in_leaf': 16, 'n_estimators': 1752, 'num_leaves': 523, 'learning_rate': 0.022278289151124762, 'feature_fraction': 0.49477028869699313, 'bagging_fraction': 0.639826103974912, 'bagging_freq': 5, 'lambda_l1': 0.44197886236738854, 'lambda_l2': 0.21014937245857782}. Best is trial 26 with value: 0.6733870967741935.\n"
     ]
    },
    {
     "name": "stdout",
     "output_type": "stream",
     "text": [
      "[LightGBM] [Warning] bagging_freq is set=8, subsample_freq=0 will be ignored. Current value: bagging_freq=8\n",
      "[LightGBM] [Warning] lambda_l1 is set=0.6226071791509522, reg_alpha=0.0 will be ignored. Current value: lambda_l1=0.6226071791509522\n",
      "[LightGBM] [Warning] min_data_in_leaf is set=17, min_child_samples=20 will be ignored. Current value: min_data_in_leaf=17\n",
      "[LightGBM] [Warning] num_iterations is set=101, num_boost_round=101 will be ignored. Current value: num_iterations=101\n",
      "[LightGBM] [Warning] lambda_l2 is set=0.12714428676477638, reg_lambda=0.0 will be ignored. Current value: lambda_l2=0.12714428676477638\n",
      "[LightGBM] [Warning] feature_fraction is set=0.6262582411571607, colsample_bytree=1.0 will be ignored. Current value: feature_fraction=0.6262582411571607\n",
      "[LightGBM] [Warning] bagging_fraction is set=0.3904982120722051, subsample=1.0 will be ignored. Current value: bagging_fraction=0.3904982120722051\n"
     ]
    },
    {
     "name": "stderr",
     "output_type": "stream",
     "text": [
      "[I 2023-06-06 16:49:27,777] Trial 37 finished with value: 0.6512096774193549 and parameters: {'max_depth': 7, 'num_boost_round': 101, 'min_data_in_leaf': 17, 'n_estimators': 1249, 'num_leaves': 1752, 'learning_rate': 0.043080414077694196, 'feature_fraction': 0.6262582411571607, 'bagging_fraction': 0.3904982120722051, 'bagging_freq': 8, 'lambda_l1': 0.6226071791509522, 'lambda_l2': 0.12714428676477638}. Best is trial 26 with value: 0.6733870967741935.\n"
     ]
    },
    {
     "name": "stdout",
     "output_type": "stream",
     "text": [
      "[LightGBM] [Warning] bagging_freq is set=3, subsample_freq=0 will be ignored. Current value: bagging_freq=3\n",
      "[LightGBM] [Warning] lambda_l1 is set=0.14864972217277225, reg_alpha=0.0 will be ignored. Current value: lambda_l1=0.14864972217277225\n",
      "[LightGBM] [Warning] min_data_in_leaf is set=14, min_child_samples=20 will be ignored. Current value: min_data_in_leaf=14\n",
      "[LightGBM] [Warning] num_iterations is set=131, num_boost_round=131 will be ignored. Current value: num_iterations=131\n",
      "[LightGBM] [Warning] lambda_l2 is set=0.34168075117537045, reg_lambda=0.0 will be ignored. Current value: lambda_l2=0.34168075117537045\n",
      "[LightGBM] [Warning] feature_fraction is set=0.5425207977041333, colsample_bytree=1.0 will be ignored. Current value: feature_fraction=0.5425207977041333\n",
      "[LightGBM] [Warning] bagging_fraction is set=0.7580984906684368, subsample=1.0 will be ignored. Current value: bagging_fraction=0.7580984906684368\n"
     ]
    },
    {
     "name": "stderr",
     "output_type": "stream",
     "text": [
      "[I 2023-06-06 16:49:28,457] Trial 38 finished with value: 0.6592741935483871 and parameters: {'max_depth': 8, 'num_boost_round': 131, 'min_data_in_leaf': 14, 'n_estimators': 287, 'num_leaves': 15, 'learning_rate': 0.02847407229047476, 'feature_fraction': 0.5425207977041333, 'bagging_fraction': 0.7580984906684368, 'bagging_freq': 3, 'lambda_l1': 0.14864972217277225, 'lambda_l2': 0.34168075117537045}. Best is trial 26 with value: 0.6733870967741935.\n"
     ]
    },
    {
     "name": "stdout",
     "output_type": "stream",
     "text": [
      "[LightGBM] [Warning] bagging_freq is set=7, subsample_freq=0 will be ignored. Current value: bagging_freq=7\n",
      "[LightGBM] [Warning] lambda_l1 is set=0.3003991474365167, reg_alpha=0.0 will be ignored. Current value: lambda_l1=0.3003991474365167\n",
      "[LightGBM] [Warning] min_data_in_leaf is set=16, min_child_samples=20 will be ignored. Current value: min_data_in_leaf=16\n",
      "[LightGBM] [Warning] num_iterations is set=150, num_boost_round=150 will be ignored. Current value: num_iterations=150\n",
      "[LightGBM] [Warning] lambda_l2 is set=0.1775910194318739, reg_lambda=0.0 will be ignored. Current value: lambda_l2=0.1775910194318739\n",
      "[LightGBM] [Warning] feature_fraction is set=0.39404605412300786, colsample_bytree=1.0 will be ignored. Current value: feature_fraction=0.39404605412300786\n",
      "[LightGBM] [Warning] bagging_fraction is set=0.7005712085664147, subsample=1.0 will be ignored. Current value: bagging_fraction=0.7005712085664147\n"
     ]
    },
    {
     "name": "stderr",
     "output_type": "stream",
     "text": [
      "[I 2023-06-06 16:49:29,508] Trial 39 finished with value: 0.6653225806451613 and parameters: {'max_depth': 7, 'num_boost_round': 150, 'min_data_in_leaf': 16, 'n_estimators': 1608, 'num_leaves': 160, 'learning_rate': 0.02046667573094473, 'feature_fraction': 0.39404605412300786, 'bagging_fraction': 0.7005712085664147, 'bagging_freq': 7, 'lambda_l1': 0.3003991474365167, 'lambda_l2': 0.1775910194318739}. Best is trial 26 with value: 0.6733870967741935.\n"
     ]
    },
    {
     "name": "stdout",
     "output_type": "stream",
     "text": [
      "[LightGBM] [Warning] bagging_freq is set=5, subsample_freq=0 will be ignored. Current value: bagging_freq=5\n",
      "[LightGBM] [Warning] lambda_l1 is set=0.9865022975813809, reg_alpha=0.0 will be ignored. Current value: lambda_l1=0.9865022975813809\n",
      "[LightGBM] [Warning] min_data_in_leaf is set=15, min_child_samples=20 will be ignored. Current value: min_data_in_leaf=15\n",
      "[LightGBM] [Warning] num_iterations is set=203, num_boost_round=203 will be ignored. Current value: num_iterations=203\n",
      "[LightGBM] [Warning] lambda_l2 is set=0.25714333088988683, reg_lambda=0.0 will be ignored. Current value: lambda_l2=0.25714333088988683\n",
      "[LightGBM] [Warning] feature_fraction is set=0.6558564874541717, colsample_bytree=1.0 will be ignored. Current value: feature_fraction=0.6558564874541717\n",
      "[LightGBM] [Warning] bagging_fraction is set=0.6589192779380377, subsample=1.0 will be ignored. Current value: bagging_fraction=0.6589192779380377\n"
     ]
    },
    {
     "name": "stderr",
     "output_type": "stream",
     "text": [
      "[I 2023-06-06 16:49:31,405] Trial 40 finished with value: 0.657258064516129 and parameters: {'max_depth': 8, 'num_boost_round': 203, 'min_data_in_leaf': 15, 'n_estimators': 1862, 'num_leaves': 719, 'learning_rate': 0.017269632040941833, 'feature_fraction': 0.6558564874541717, 'bagging_fraction': 0.6589192779380377, 'bagging_freq': 5, 'lambda_l1': 0.9865022975813809, 'lambda_l2': 0.25714333088988683}. Best is trial 26 with value: 0.6733870967741935.\n"
     ]
    },
    {
     "name": "stdout",
     "output_type": "stream",
     "text": [
      "[LightGBM] [Warning] bagging_freq is set=5, subsample_freq=0 will be ignored. Current value: bagging_freq=5\n",
      "[LightGBM] [Warning] lambda_l1 is set=0.7601299781828581, reg_alpha=0.0 will be ignored. Current value: lambda_l1=0.7601299781828581\n",
      "[LightGBM] [Warning] min_data_in_leaf is set=11, min_child_samples=20 will be ignored. Current value: min_data_in_leaf=11\n",
      "[LightGBM] [Warning] num_iterations is set=110, num_boost_round=110 will be ignored. Current value: num_iterations=110\n",
      "[LightGBM] [Warning] lambda_l2 is set=0.7183130200534874, reg_lambda=0.0 will be ignored. Current value: lambda_l2=0.7183130200534874\n",
      "[LightGBM] [Warning] feature_fraction is set=0.49153880879869066, colsample_bytree=1.0 will be ignored. Current value: feature_fraction=0.49153880879869066\n",
      "[LightGBM] [Warning] bagging_fraction is set=0.7726832022097285, subsample=1.0 will be ignored. Current value: bagging_fraction=0.7726832022097285\n"
     ]
    },
    {
     "name": "stderr",
     "output_type": "stream",
     "text": [
      "[I 2023-06-06 16:49:32,326] Trial 41 finished with value: 0.6653225806451613 and parameters: {'max_depth': 7, 'num_boost_round': 110, 'min_data_in_leaf': 11, 'n_estimators': 1470, 'num_leaves': 317, 'learning_rate': 0.03430292882182618, 'feature_fraction': 0.49153880879869066, 'bagging_fraction': 0.7726832022097285, 'bagging_freq': 5, 'lambda_l1': 0.7601299781828581, 'lambda_l2': 0.7183130200534874}. Best is trial 26 with value: 0.6733870967741935.\n"
     ]
    },
    {
     "name": "stdout",
     "output_type": "stream",
     "text": [
      "[LightGBM] [Warning] bagging_freq is set=4, subsample_freq=0 will be ignored. Current value: bagging_freq=4\n",
      "[LightGBM] [Warning] lambda_l1 is set=0.5275142174507832, reg_alpha=0.0 will be ignored. Current value: lambda_l1=0.5275142174507832\n",
      "[LightGBM] [Warning] min_data_in_leaf is set=12, min_child_samples=20 will be ignored. Current value: min_data_in_leaf=12\n",
      "[LightGBM] [Warning] num_iterations is set=113, num_boost_round=113 will be ignored. Current value: num_iterations=113\n",
      "[LightGBM] [Warning] lambda_l2 is set=0.49161118701210305, reg_lambda=0.0 will be ignored. Current value: lambda_l2=0.49161118701210305\n",
      "[LightGBM] [Warning] feature_fraction is set=0.4650793979089524, colsample_bytree=1.0 will be ignored. Current value: feature_fraction=0.4650793979089524\n",
      "[LightGBM] [Warning] bagging_fraction is set=0.7724701322439866, subsample=1.0 will be ignored. Current value: bagging_fraction=0.7724701322439866\n"
     ]
    },
    {
     "name": "stderr",
     "output_type": "stream",
     "text": [
      "[I 2023-06-06 16:49:33,041] Trial 42 finished with value: 0.6693548387096774 and parameters: {'max_depth': 6, 'num_boost_round': 113, 'min_data_in_leaf': 12, 'n_estimators': 1301, 'num_leaves': 117, 'learning_rate': 0.03142475375056811, 'feature_fraction': 0.4650793979089524, 'bagging_fraction': 0.7724701322439866, 'bagging_freq': 4, 'lambda_l1': 0.5275142174507832, 'lambda_l2': 0.49161118701210305}. Best is trial 26 with value: 0.6733870967741935.\n"
     ]
    },
    {
     "name": "stdout",
     "output_type": "stream",
     "text": [
      "[LightGBM] [Warning] bagging_freq is set=4, subsample_freq=0 will be ignored. Current value: bagging_freq=4\n",
      "[LightGBM] [Warning] lambda_l1 is set=0.4874113751948518, reg_alpha=0.0 will be ignored. Current value: lambda_l1=0.4874113751948518\n",
      "[LightGBM] [Warning] min_data_in_leaf is set=17, min_child_samples=20 will be ignored. Current value: min_data_in_leaf=17\n",
      "[LightGBM] [Warning] num_iterations is set=121, num_boost_round=121 will be ignored. Current value: num_iterations=121\n",
      "[LightGBM] [Warning] lambda_l2 is set=0.511667322440907, reg_lambda=0.0 will be ignored. Current value: lambda_l2=0.511667322440907\n",
      "[LightGBM] [Warning] feature_fraction is set=0.4370591479814703, colsample_bytree=1.0 will be ignored. Current value: feature_fraction=0.4370591479814703\n",
      "[LightGBM] [Warning] bagging_fraction is set=0.7669354891462956, subsample=1.0 will be ignored. Current value: bagging_fraction=0.7669354891462956\n"
     ]
    },
    {
     "name": "stderr",
     "output_type": "stream",
     "text": [
      "[I 2023-06-06 16:49:33,749] Trial 43 finished with value: 0.6633064516129032 and parameters: {'max_depth': 6, 'num_boost_round': 121, 'min_data_in_leaf': 17, 'n_estimators': 1328, 'num_leaves': 466, 'learning_rate': 0.04070530612766683, 'feature_fraction': 0.4370591479814703, 'bagging_fraction': 0.7669354891462956, 'bagging_freq': 4, 'lambda_l1': 0.4874113751948518, 'lambda_l2': 0.511667322440907}. Best is trial 26 with value: 0.6733870967741935.\n"
     ]
    },
    {
     "name": "stdout",
     "output_type": "stream",
     "text": [
      "[LightGBM] [Warning] bagging_freq is set=2, subsample_freq=0 will be ignored. Current value: bagging_freq=2\n",
      "[LightGBM] [Warning] lambda_l1 is set=0.4270706979547866, reg_alpha=0.0 will be ignored. Current value: lambda_l1=0.4270706979547866\n",
      "[LightGBM] [Warning] min_data_in_leaf is set=11, min_child_samples=20 will be ignored. Current value: min_data_in_leaf=11\n",
      "[LightGBM] [Warning] num_iterations is set=135, num_boost_round=135 will be ignored. Current value: num_iterations=135\n",
      "[LightGBM] [Warning] lambda_l2 is set=0.39469893786803856, reg_lambda=0.0 will be ignored. Current value: lambda_l2=0.39469893786803856\n",
      "[LightGBM] [Warning] feature_fraction is set=0.5260661221181007, colsample_bytree=1.0 will be ignored. Current value: feature_fraction=0.5260661221181007\n",
      "[LightGBM] [Warning] bagging_fraction is set=0.7198400170796314, subsample=1.0 will be ignored. Current value: bagging_fraction=0.7198400170796314\n"
     ]
    },
    {
     "name": "stderr",
     "output_type": "stream",
     "text": [
      "[I 2023-06-06 16:49:34,635] Trial 44 finished with value: 0.657258064516129 and parameters: {'max_depth': 6, 'num_boost_round': 135, 'min_data_in_leaf': 11, 'n_estimators': 759, 'num_leaves': 116, 'learning_rate': 0.02592474151539127, 'feature_fraction': 0.5260661221181007, 'bagging_fraction': 0.7198400170796314, 'bagging_freq': 2, 'lambda_l1': 0.4270706979547866, 'lambda_l2': 0.39469893786803856}. Best is trial 26 with value: 0.6733870967741935.\n"
     ]
    },
    {
     "name": "stdout",
     "output_type": "stream",
     "text": [
      "[LightGBM] [Warning] bagging_freq is set=4, subsample_freq=0 will be ignored. Current value: bagging_freq=4\n",
      "[LightGBM] [Warning] lambda_l1 is set=0.5965506547164828, reg_alpha=0.0 will be ignored. Current value: lambda_l1=0.5965506547164828\n",
      "[LightGBM] [Warning] min_data_in_leaf is set=18, min_child_samples=20 will be ignored. Current value: min_data_in_leaf=18\n",
      "[LightGBM] [Warning] num_iterations is set=110, num_boost_round=110 will be ignored. Current value: num_iterations=110\n",
      "[LightGBM] [Warning] lambda_l2 is set=0.5184494657441205, reg_lambda=0.0 will be ignored. Current value: lambda_l2=0.5184494657441205\n",
      "[LightGBM] [Warning] feature_fraction is set=0.5917979977447594, colsample_bytree=1.0 will be ignored. Current value: feature_fraction=0.5917979977447594\n",
      "[LightGBM] [Warning] bagging_fraction is set=0.7539489652486011, subsample=1.0 will be ignored. Current value: bagging_fraction=0.7539489652486011\n"
     ]
    },
    {
     "name": "stderr",
     "output_type": "stream",
     "text": [
      "[I 2023-06-06 16:49:35,352] Trial 45 finished with value: 0.6653225806451613 and parameters: {'max_depth': 6, 'num_boost_round': 110, 'min_data_in_leaf': 18, 'n_estimators': 958, 'num_leaves': 287, 'learning_rate': 0.030472190489829885, 'feature_fraction': 0.5917979977447594, 'bagging_fraction': 0.7539489652486011, 'bagging_freq': 4, 'lambda_l1': 0.5965506547164828, 'lambda_l2': 0.5184494657441205}. Best is trial 26 with value: 0.6733870967741935.\n"
     ]
    },
    {
     "name": "stdout",
     "output_type": "stream",
     "text": [
      "[LightGBM] [Warning] bagging_freq is set=3, subsample_freq=0 will be ignored. Current value: bagging_freq=3\n",
      "[LightGBM] [Warning] lambda_l1 is set=0.24616386188637526, reg_alpha=0.0 will be ignored. Current value: lambda_l1=0.24616386188637526\n",
      "[LightGBM] [Warning] min_data_in_leaf is set=15, min_child_samples=20 will be ignored. Current value: min_data_in_leaf=15\n",
      "[LightGBM] [Warning] num_iterations is set=100, num_boost_round=100 will be ignored. Current value: num_iterations=100\n",
      "[LightGBM] [Warning] lambda_l2 is set=0.7706326371806355, reg_lambda=0.0 will be ignored. Current value: lambda_l2=0.7706326371806355\n",
      "[LightGBM] [Warning] feature_fraction is set=0.5547381106428442, colsample_bytree=1.0 will be ignored. Current value: feature_fraction=0.5547381106428442\n",
      "[LightGBM] [Warning] bagging_fraction is set=0.7002012994744022, subsample=1.0 will be ignored. Current value: bagging_fraction=0.7002012994744022\n"
     ]
    },
    {
     "name": "stderr",
     "output_type": "stream",
     "text": [
      "[I 2023-06-06 16:49:35,841] Trial 46 finished with value: 0.6633064516129032 and parameters: {'max_depth': 5, 'num_boost_round': 100, 'min_data_in_leaf': 15, 'n_estimators': 1150, 'num_leaves': 282, 'learning_rate': 0.03897747258798665, 'feature_fraction': 0.5547381106428442, 'bagging_fraction': 0.7002012994744022, 'bagging_freq': 3, 'lambda_l1': 0.24616386188637526, 'lambda_l2': 0.7706326371806355}. Best is trial 26 with value: 0.6733870967741935.\n"
     ]
    },
    {
     "name": "stdout",
     "output_type": "stream",
     "text": [
      "[LightGBM] [Warning] bagging_freq is set=9, subsample_freq=0 will be ignored. Current value: bagging_freq=9\n",
      "[LightGBM] [Warning] lambda_l1 is set=0.3094777898948676, reg_alpha=0.0 will be ignored. Current value: lambda_l1=0.3094777898948676\n",
      "[LightGBM] [Warning] min_data_in_leaf is set=16, min_child_samples=20 will be ignored. Current value: min_data_in_leaf=16\n",
      "[LightGBM] [Warning] num_iterations is set=141, num_boost_round=141 will be ignored. Current value: num_iterations=141\n",
      "[LightGBM] [Warning] lambda_l2 is set=0.40250869457611016, reg_lambda=0.0 will be ignored. Current value: lambda_l2=0.40250869457611016\n",
      "[LightGBM] [Warning] feature_fraction is set=0.46680988703466064, colsample_bytree=1.0 will be ignored. Current value: feature_fraction=0.46680988703466064\n",
      "[LightGBM] [Warning] bagging_fraction is set=0.7745176346635995, subsample=1.0 will be ignored. Current value: bagging_fraction=0.7745176346635995\n"
     ]
    },
    {
     "name": "stderr",
     "output_type": "stream",
     "text": [
      "[I 2023-06-06 16:49:36,658] Trial 47 finished with value: 0.6592741935483871 and parameters: {'max_depth': 6, 'num_boost_round': 141, 'min_data_in_leaf': 16, 'n_estimators': 1277, 'num_leaves': 1050, 'learning_rate': 0.02245142918722138, 'feature_fraction': 0.46680988703466064, 'bagging_fraction': 0.7745176346635995, 'bagging_freq': 9, 'lambda_l1': 0.3094777898948676, 'lambda_l2': 0.40250869457611016}. Best is trial 26 with value: 0.6733870967741935.\n"
     ]
    },
    {
     "name": "stdout",
     "output_type": "stream",
     "text": [
      "[LightGBM] [Warning] bagging_freq is set=6, subsample_freq=0 will be ignored. Current value: bagging_freq=6\n",
      "[LightGBM] [Warning] lambda_l1 is set=0.20287663158199512, reg_alpha=0.0 will be ignored. Current value: lambda_l1=0.20287663158199512\n",
      "[LightGBM] [Warning] min_data_in_leaf is set=19, min_child_samples=20 will be ignored. Current value: min_data_in_leaf=19\n",
      "[LightGBM] [Warning] num_iterations is set=126, num_boost_round=126 will be ignored. Current value: num_iterations=126\n",
      "[LightGBM] [Warning] lambda_l2 is set=0.5537899330553732, reg_lambda=0.0 will be ignored. Current value: lambda_l2=0.5537899330553732\n",
      "[LightGBM] [Warning] feature_fraction is set=0.5046077826180507, colsample_bytree=1.0 will be ignored. Current value: feature_fraction=0.5046077826180507\n",
      "[LightGBM] [Warning] bagging_fraction is set=0.7975467367043592, subsample=1.0 will be ignored. Current value: bagging_fraction=0.7975467367043592\n"
     ]
    },
    {
     "name": "stderr",
     "output_type": "stream",
     "text": [
      "[I 2023-06-06 16:49:37,765] Trial 48 finished with value: 0.6673387096774194 and parameters: {'max_depth': 8, 'num_boost_round': 126, 'min_data_in_leaf': 19, 'n_estimators': 1626, 'num_leaves': 132, 'learning_rate': 0.033512668748046114, 'feature_fraction': 0.5046077826180507, 'bagging_fraction': 0.7975467367043592, 'bagging_freq': 6, 'lambda_l1': 0.20287663158199512, 'lambda_l2': 0.5537899330553732}. Best is trial 26 with value: 0.6733870967741935.\n"
     ]
    },
    {
     "name": "stdout",
     "output_type": "stream",
     "text": [
      "[LightGBM] [Warning] bagging_freq is set=4, subsample_freq=0 will be ignored. Current value: bagging_freq=4\n",
      "[LightGBM] [Warning] lambda_l1 is set=0.5082622104791577, reg_alpha=0.0 will be ignored. Current value: lambda_l1=0.5082622104791577\n",
      "[LightGBM] [Warning] min_data_in_leaf is set=12, min_child_samples=20 will be ignored. Current value: min_data_in_leaf=12\n",
      "[LightGBM] [Warning] num_iterations is set=113, num_boost_round=113 will be ignored. Current value: num_iterations=113\n",
      "[LightGBM] [Warning] lambda_l2 is set=0.3452498585081512, reg_lambda=0.0 will be ignored. Current value: lambda_l2=0.3452498585081512\n",
      "[LightGBM] [Warning] feature_fraction is set=0.6344642450602794, colsample_bytree=1.0 will be ignored. Current value: feature_fraction=0.6344642450602794\n",
      "[LightGBM] [Warning] bagging_fraction is set=0.668337126965147, subsample=1.0 will be ignored. Current value: bagging_fraction=0.668337126965147\n"
     ]
    },
    {
     "name": "stderr",
     "output_type": "stream",
     "text": [
      "[I 2023-06-06 16:49:39,039] Trial 49 finished with value: 0.6612903225806451 and parameters: {'max_depth': 8, 'num_boost_round': 113, 'min_data_in_leaf': 12, 'n_estimators': 1789, 'num_leaves': 363, 'learning_rate': 0.02827037398383559, 'feature_fraction': 0.6344642450602794, 'bagging_fraction': 0.668337126965147, 'bagging_freq': 4, 'lambda_l1': 0.5082622104791577, 'lambda_l2': 0.3452498585081512}. Best is trial 26 with value: 0.6733870967741935.\n"
     ]
    },
    {
     "name": "stdout",
     "output_type": "stream",
     "text": [
      "[LightGBM] [Warning] bagging_freq is set=2, subsample_freq=0 will be ignored. Current value: bagging_freq=2\n",
      "[LightGBM] [Warning] lambda_l1 is set=0.35765805398248046, reg_alpha=0.0 will be ignored. Current value: lambda_l1=0.35765805398248046\n",
      "[LightGBM] [Warning] min_data_in_leaf is set=14, min_child_samples=20 will be ignored. Current value: min_data_in_leaf=14\n",
      "[LightGBM] [Warning] num_iterations is set=163, num_boost_round=163 will be ignored. Current value: num_iterations=163\n",
      "[LightGBM] [Warning] lambda_l2 is set=0.786349380692303, reg_lambda=0.0 will be ignored. Current value: lambda_l2=0.786349380692303\n",
      "[LightGBM] [Warning] feature_fraction is set=0.6861704068956291, colsample_bytree=1.0 will be ignored. Current value: feature_fraction=0.6861704068956291\n",
      "[LightGBM] [Warning] bagging_fraction is set=0.7503175508225121, subsample=1.0 will be ignored. Current value: bagging_fraction=0.7503175508225121\n"
     ]
    },
    {
     "name": "stderr",
     "output_type": "stream",
     "text": [
      "[I 2023-06-06 16:49:40,250] Trial 50 finished with value: 0.6693548387096774 and parameters: {'max_depth': 6, 'num_boost_round': 163, 'min_data_in_leaf': 14, 'n_estimators': 1523, 'num_leaves': 609, 'learning_rate': 0.02608283920473879, 'feature_fraction': 0.6861704068956291, 'bagging_fraction': 0.7503175508225121, 'bagging_freq': 2, 'lambda_l1': 0.35765805398248046, 'lambda_l2': 0.786349380692303}. Best is trial 26 with value: 0.6733870967741935.\n"
     ]
    },
    {
     "name": "stdout",
     "output_type": "stream",
     "text": [
      "[LightGBM] [Warning] bagging_freq is set=2, subsample_freq=0 will be ignored. Current value: bagging_freq=2\n",
      "[LightGBM] [Warning] lambda_l1 is set=0.3494625598349255, reg_alpha=0.0 will be ignored. Current value: lambda_l1=0.3494625598349255\n",
      "[LightGBM] [Warning] min_data_in_leaf is set=13, min_child_samples=20 will be ignored. Current value: min_data_in_leaf=13\n",
      "[LightGBM] [Warning] num_iterations is set=177, num_boost_round=177 will be ignored. Current value: num_iterations=177\n",
      "[LightGBM] [Warning] lambda_l2 is set=0.7563940128089319, reg_lambda=0.0 will be ignored. Current value: lambda_l2=0.7563940128089319\n",
      "[LightGBM] [Warning] feature_fraction is set=0.6758152540417104, colsample_bytree=1.0 will be ignored. Current value: feature_fraction=0.6758152540417104\n",
      "[LightGBM] [Warning] bagging_fraction is set=0.7497441346845846, subsample=1.0 will be ignored. Current value: bagging_fraction=0.7497441346845846\n"
     ]
    },
    {
     "name": "stderr",
     "output_type": "stream",
     "text": [
      "[I 2023-06-06 16:49:41,598] Trial 51 finished with value: 0.6592741935483871 and parameters: {'max_depth': 6, 'num_boost_round': 177, 'min_data_in_leaf': 13, 'n_estimators': 1397, 'num_leaves': 654, 'learning_rate': 0.025233331974337886, 'feature_fraction': 0.6758152540417104, 'bagging_fraction': 0.7497441346845846, 'bagging_freq': 2, 'lambda_l1': 0.3494625598349255, 'lambda_l2': 0.7563940128089319}. Best is trial 26 with value: 0.6733870967741935.\n"
     ]
    },
    {
     "name": "stdout",
     "output_type": "stream",
     "text": [
      "[LightGBM] [Warning] bagging_freq is set=1, subsample_freq=0 will be ignored. Current value: bagging_freq=1\n",
      "[LightGBM] [Warning] lambda_l1 is set=0.7852968135171288, reg_alpha=0.0 will be ignored. Current value: lambda_l1=0.7852968135171288\n",
      "[LightGBM] [Warning] min_data_in_leaf is set=14, min_child_samples=20 will be ignored. Current value: min_data_in_leaf=14\n",
      "[LightGBM] [Warning] num_iterations is set=159, num_boost_round=159 will be ignored. Current value: num_iterations=159\n",
      "[LightGBM] [Warning] lambda_l2 is set=0.46190520267003576, reg_lambda=0.0 will be ignored. Current value: lambda_l2=0.46190520267003576\n",
      "[LightGBM] [Warning] feature_fraction is set=0.5544087240085384, colsample_bytree=1.0 will be ignored. Current value: feature_fraction=0.5544087240085384\n",
      "[LightGBM] [Warning] bagging_fraction is set=0.7072003940179299, subsample=1.0 will be ignored. Current value: bagging_fraction=0.7072003940179299\n"
     ]
    },
    {
     "name": "stderr",
     "output_type": "stream",
     "text": [
      "[I 2023-06-06 16:49:42,604] Trial 52 finished with value: 0.6532258064516129 and parameters: {'max_depth': 6, 'num_boost_round': 159, 'min_data_in_leaf': 14, 'n_estimators': 1518, 'num_leaves': 855, 'learning_rate': 0.028285306240049178, 'feature_fraction': 0.5544087240085384, 'bagging_fraction': 0.7072003940179299, 'bagging_freq': 1, 'lambda_l1': 0.7852968135171288, 'lambda_l2': 0.46190520267003576}. Best is trial 26 with value: 0.6733870967741935.\n"
     ]
    },
    {
     "name": "stdout",
     "output_type": "stream",
     "text": [
      "[LightGBM] [Warning] bagging_freq is set=3, subsample_freq=0 will be ignored. Current value: bagging_freq=3\n",
      "[LightGBM] [Warning] lambda_l1 is set=0.43328783620006023, reg_alpha=0.0 will be ignored. Current value: lambda_l1=0.43328783620006023\n",
      "[LightGBM] [Warning] min_data_in_leaf is set=12, min_child_samples=20 will be ignored. Current value: min_data_in_leaf=12\n",
      "[LightGBM] [Warning] num_iterations is set=170, num_boost_round=170 will be ignored. Current value: num_iterations=170\n",
      "[LightGBM] [Warning] lambda_l2 is set=0.9005933911872813, reg_lambda=0.0 will be ignored. Current value: lambda_l2=0.9005933911872813\n",
      "[LightGBM] [Warning] feature_fraction is set=0.7344365332106499, colsample_bytree=1.0 will be ignored. Current value: feature_fraction=0.7344365332106499\n",
      "[LightGBM] [Warning] bagging_fraction is set=0.7712624364876266, subsample=1.0 will be ignored. Current value: bagging_fraction=0.7712624364876266\n"
     ]
    },
    {
     "name": "stderr",
     "output_type": "stream",
     "text": [
      "[I 2023-06-06 16:49:43,947] Trial 53 finished with value: 0.6592741935483871 and parameters: {'max_depth': 6, 'num_boost_round': 170, 'min_data_in_leaf': 12, 'n_estimators': 1907, 'num_leaves': 767, 'learning_rate': 0.031162875746629064, 'feature_fraction': 0.7344365332106499, 'bagging_fraction': 0.7712624364876266, 'bagging_freq': 3, 'lambda_l1': 0.43328783620006023, 'lambda_l2': 0.9005933911872813}. Best is trial 26 with value: 0.6733870967741935.\n"
     ]
    },
    {
     "name": "stdout",
     "output_type": "stream",
     "text": [
      "[LightGBM] [Warning] bagging_freq is set=2, subsample_freq=0 will be ignored. Current value: bagging_freq=2\n",
      "[LightGBM] [Warning] lambda_l1 is set=0.539877019912393, reg_alpha=0.0 will be ignored. Current value: lambda_l1=0.539877019912393\n",
      "[LightGBM] [Warning] min_data_in_leaf is set=11, min_child_samples=20 will be ignored. Current value: min_data_in_leaf=11\n",
      "[LightGBM] [Warning] num_iterations is set=183, num_boost_round=183 will be ignored. Current value: num_iterations=183\n",
      "[LightGBM] [Warning] lambda_l2 is set=0.6628874513572486, reg_lambda=0.0 will be ignored. Current value: lambda_l2=0.6628874513572486\n",
      "[LightGBM] [Warning] feature_fraction is set=0.5966713114426117, colsample_bytree=1.0 will be ignored. Current value: feature_fraction=0.5966713114426117\n",
      "[LightGBM] [Warning] bagging_fraction is set=0.7352333772117108, subsample=1.0 will be ignored. Current value: bagging_fraction=0.7352333772117108\n"
     ]
    },
    {
     "name": "stderr",
     "output_type": "stream",
     "text": [
      "[I 2023-06-06 16:49:45,271] Trial 54 finished with value: 0.6592741935483871 and parameters: {'max_depth': 6, 'num_boost_round': 183, 'min_data_in_leaf': 11, 'n_estimators': 1695, 'num_leaves': 959, 'learning_rate': 0.0365774049933855, 'feature_fraction': 0.5966713114426117, 'bagging_fraction': 0.7352333772117108, 'bagging_freq': 2, 'lambda_l1': 0.539877019912393, 'lambda_l2': 0.6628874513572486}. Best is trial 26 with value: 0.6733870967741935.\n"
     ]
    },
    {
     "name": "stdout",
     "output_type": "stream",
     "text": [
      "[LightGBM] [Warning] bagging_freq is set=10, subsample_freq=0 will be ignored. Current value: bagging_freq=10\n",
      "[LightGBM] [Warning] lambda_l1 is set=0.2847460681232784, reg_alpha=0.0 will be ignored. Current value: lambda_l1=0.2847460681232784\n",
      "[LightGBM] [Warning] min_data_in_leaf is set=17, min_child_samples=20 will be ignored. Current value: min_data_in_leaf=17\n",
      "[LightGBM] [Warning] num_iterations is set=208, num_boost_round=208 will be ignored. Current value: num_iterations=208\n",
      "[LightGBM] [Warning] lambda_l2 is set=0.5928779699492869, reg_lambda=0.0 will be ignored. Current value: lambda_l2=0.5928779699492869\n",
      "[LightGBM] [Warning] feature_fraction is set=0.5744814789157039, colsample_bytree=1.0 will be ignored. Current value: feature_fraction=0.5744814789157039\n",
      "[LightGBM] [Warning] bagging_fraction is set=0.7977129627721675, subsample=1.0 will be ignored. Current value: bagging_fraction=0.7977129627721675\n"
     ]
    },
    {
     "name": "stderr",
     "output_type": "stream",
     "text": [
      "[I 2023-06-06 16:49:46,329] Trial 55 finished with value: 0.6633064516129032 and parameters: {'max_depth': 5, 'num_boost_round': 208, 'min_data_in_leaf': 17, 'n_estimators': 1569, 'num_leaves': 465, 'learning_rate': 0.020954643757063546, 'feature_fraction': 0.5744814789157039, 'bagging_fraction': 0.7977129627721675, 'bagging_freq': 10, 'lambda_l1': 0.2847460681232784, 'lambda_l2': 0.5928779699492869}. Best is trial 26 with value: 0.6733870967741935.\n"
     ]
    },
    {
     "name": "stdout",
     "output_type": "stream",
     "text": [
      "[LightGBM] [Warning] bagging_freq is set=5, subsample_freq=0 will be ignored. Current value: bagging_freq=5\n",
      "[LightGBM] [Warning] lambda_l1 is set=0.6252609474060039, reg_alpha=0.0 will be ignored. Current value: lambda_l1=0.6252609474060039\n",
      "[LightGBM] [Warning] min_data_in_leaf is set=15, min_child_samples=20 will be ignored. Current value: min_data_in_leaf=15\n",
      "[LightGBM] [Warning] num_iterations is set=193, num_boost_round=193 will be ignored. Current value: num_iterations=193\n",
      "[LightGBM] [Warning] lambda_l2 is set=0.802078133560441, reg_lambda=0.0 will be ignored. Current value: lambda_l2=0.802078133560441\n",
      "[LightGBM] [Warning] feature_fraction is set=0.5235312971711169, colsample_bytree=1.0 will be ignored. Current value: feature_fraction=0.5235312971711169\n",
      "[LightGBM] [Warning] bagging_fraction is set=0.7024727353024385, subsample=1.0 will be ignored. Current value: bagging_fraction=0.7024727353024385\n"
     ]
    },
    {
     "name": "stderr",
     "output_type": "stream",
     "text": [
      "[I 2023-06-06 16:49:47,768] Trial 56 finished with value: 0.6633064516129032 and parameters: {'max_depth': 7, 'num_boost_round': 193, 'min_data_in_leaf': 15, 'n_estimators': 1511, 'num_leaves': 1235, 'learning_rate': 0.02668912040167094, 'feature_fraction': 0.5235312971711169, 'bagging_fraction': 0.7024727353024385, 'bagging_freq': 5, 'lambda_l1': 0.6252609474060039, 'lambda_l2': 0.802078133560441}. Best is trial 26 with value: 0.6733870967741935.\n"
     ]
    },
    {
     "name": "stdout",
     "output_type": "stream",
     "text": [
      "[LightGBM] [Warning] bagging_freq is set=4, subsample_freq=0 will be ignored. Current value: bagging_freq=4\n",
      "[LightGBM] [Warning] lambda_l1 is set=0.3649094565814718, reg_alpha=0.0 will be ignored. Current value: lambda_l1=0.3649094565814718\n",
      "[LightGBM] [Warning] min_data_in_leaf is set=14, min_child_samples=20 will be ignored. Current value: min_data_in_leaf=14\n",
      "[LightGBM] [Warning] num_iterations is set=146, num_boost_round=146 will be ignored. Current value: num_iterations=146\n",
      "[LightGBM] [Warning] lambda_l2 is set=0.4606087436932565, reg_lambda=0.0 will be ignored. Current value: lambda_l2=0.4606087436932565\n",
      "[LightGBM] [Warning] feature_fraction is set=0.6771903155607482, colsample_bytree=1.0 will be ignored. Current value: feature_fraction=0.6771903155607482\n",
      "[LightGBM] [Warning] bagging_fraction is set=0.7748673802345882, subsample=1.0 will be ignored. Current value: bagging_fraction=0.7748673802345882\n"
     ]
    },
    {
     "name": "stderr",
     "output_type": "stream",
     "text": [
      "[I 2023-06-06 16:49:49,138] Trial 57 finished with value: 0.6451612903225806 and parameters: {'max_depth': 7, 'num_boost_round': 146, 'min_data_in_leaf': 14, 'n_estimators': 1261, 'num_leaves': 136, 'learning_rate': 0.0332075042732594, 'feature_fraction': 0.6771903155607482, 'bagging_fraction': 0.7748673802345882, 'bagging_freq': 4, 'lambda_l1': 0.3649094565814718, 'lambda_l2': 0.4606087436932565}. Best is trial 26 with value: 0.6733870967741935.\n"
     ]
    },
    {
     "name": "stdout",
     "output_type": "stream",
     "text": [
      "[LightGBM] [Warning] bagging_freq is set=3, subsample_freq=0 will be ignored. Current value: bagging_freq=3\n",
      "[LightGBM] [Warning] lambda_l1 is set=0.7999356144965442, reg_alpha=0.0 will be ignored. Current value: lambda_l1=0.7999356144965442\n",
      "[LightGBM] [Warning] min_data_in_leaf is set=13, min_child_samples=20 will be ignored. Current value: min_data_in_leaf=13\n",
      "[LightGBM] [Warning] num_iterations is set=117, num_boost_round=117 will be ignored. Current value: num_iterations=117\n",
      "[LightGBM] [Warning] lambda_l2 is set=0.28749646456463857, reg_lambda=0.0 will be ignored. Current value: lambda_l2=0.28749646456463857\n",
      "[LightGBM] [Warning] feature_fraction is set=0.623823857452955, colsample_bytree=1.0 will be ignored. Current value: feature_fraction=0.623823857452955\n",
      "[LightGBM] [Warning] bagging_fraction is set=0.6571649312372876, subsample=1.0 will be ignored. Current value: bagging_fraction=0.6571649312372876\n"
     ]
    },
    {
     "name": "stderr",
     "output_type": "stream",
     "text": [
      "[I 2023-06-06 16:49:49,555] Trial 58 finished with value: 0.6592741935483871 and parameters: {'max_depth': 4, 'num_boost_round': 117, 'min_data_in_leaf': 13, 'n_estimators': 1394, 'num_leaves': 248, 'learning_rate': 0.022519927269081513, 'feature_fraction': 0.623823857452955, 'bagging_fraction': 0.6571649312372876, 'bagging_freq': 3, 'lambda_l1': 0.7999356144965442, 'lambda_l2': 0.28749646456463857}. Best is trial 26 with value: 0.6733870967741935.\n"
     ]
    },
    {
     "name": "stdout",
     "output_type": "stream",
     "text": [
      "[LightGBM] [Warning] bagging_freq is set=6, subsample_freq=0 will be ignored. Current value: bagging_freq=6\n",
      "[LightGBM] [Warning] lambda_l1 is set=0.5029288395005537, reg_alpha=0.0 will be ignored. Current value: lambda_l1=0.5029288395005537\n",
      "[LightGBM] [Warning] min_data_in_leaf is set=18, min_child_samples=20 will be ignored. Current value: min_data_in_leaf=18\n",
      "[LightGBM] [Warning] num_iterations is set=135, num_boost_round=135 will be ignored. Current value: num_iterations=135\n",
      "[LightGBM] [Warning] lambda_l2 is set=0.9969872341571179, reg_lambda=0.0 will be ignored. Current value: lambda_l2=0.9969872341571179\n",
      "[LightGBM] [Warning] feature_fraction is set=0.47127456988092564, colsample_bytree=1.0 will be ignored. Current value: feature_fraction=0.47127456988092564\n",
      "[LightGBM] [Warning] bagging_fraction is set=0.7346018220833028, subsample=1.0 will be ignored. Current value: bagging_fraction=0.7346018220833028\n"
     ]
    },
    {
     "name": "stderr",
     "output_type": "stream",
     "text": [
      "[I 2023-06-06 16:49:50,304] Trial 59 finished with value: 0.6592741935483871 and parameters: {'max_depth': 6, 'num_boost_round': 135, 'min_data_in_leaf': 18, 'n_estimators': 1005, 'num_leaves': 563, 'learning_rate': 0.029866228642133275, 'feature_fraction': 0.47127456988092564, 'bagging_fraction': 0.7346018220833028, 'bagging_freq': 6, 'lambda_l1': 0.5029288395005537, 'lambda_l2': 0.9969872341571179}. Best is trial 26 with value: 0.6733870967741935.\n"
     ]
    },
    {
     "name": "stdout",
     "output_type": "stream",
     "text": [
      "[LightGBM] [Warning] bagging_freq is set=2, subsample_freq=0 will be ignored. Current value: bagging_freq=2\n",
      "[LightGBM] [Warning] lambda_l1 is set=0.0930312321141844, reg_alpha=0.0 will be ignored. Current value: lambda_l1=0.0930312321141844\n",
      "[LightGBM] [Warning] min_data_in_leaf is set=16, min_child_samples=20 will be ignored. Current value: min_data_in_leaf=16\n",
      "[LightGBM] [Warning] num_iterations is set=105, num_boost_round=105 will be ignored. Current value: num_iterations=105\n",
      "[LightGBM] [Warning] lambda_l2 is set=0.3927061735640637, reg_lambda=0.0 will be ignored. Current value: lambda_l2=0.3927061735640637\n",
      "[LightGBM] [Warning] feature_fraction is set=0.5623420226209088, colsample_bytree=1.0 will be ignored. Current value: feature_fraction=0.5623420226209088\n",
      "[LightGBM] [Warning] bagging_fraction is set=0.7139688320804511, subsample=1.0 will be ignored. Current value: bagging_fraction=0.7139688320804511\n"
     ]
    },
    {
     "name": "stderr",
     "output_type": "stream",
     "text": [
      "[I 2023-06-06 16:49:50,812] Trial 60 finished with value: 0.6592741935483871 and parameters: {'max_depth': 5, 'num_boost_round': 105, 'min_data_in_leaf': 16, 'n_estimators': 1770, 'num_leaves': 361, 'learning_rate': 0.02396866287964519, 'feature_fraction': 0.5623420226209088, 'bagging_fraction': 0.7139688320804511, 'bagging_freq': 2, 'lambda_l1': 0.0930312321141844, 'lambda_l2': 0.3927061735640637}. Best is trial 26 with value: 0.6733870967741935.\n"
     ]
    },
    {
     "name": "stdout",
     "output_type": "stream",
     "text": [
      "[LightGBM] [Warning] bagging_freq is set=7, subsample_freq=0 will be ignored. Current value: bagging_freq=7\n",
      "[LightGBM] [Warning] lambda_l1 is set=0.21633724974385465, reg_alpha=0.0 will be ignored. Current value: lambda_l1=0.21633724974385465\n",
      "[LightGBM] [Warning] min_data_in_leaf is set=19, min_child_samples=20 will be ignored. Current value: min_data_in_leaf=19\n",
      "[LightGBM] [Warning] num_iterations is set=125, num_boost_round=125 will be ignored. Current value: num_iterations=125\n",
      "[LightGBM] [Warning] lambda_l2 is set=0.5305063631639285, reg_lambda=0.0 will be ignored. Current value: lambda_l2=0.5305063631639285\n",
      "[LightGBM] [Warning] feature_fraction is set=0.5170217914931444, colsample_bytree=1.0 will be ignored. Current value: feature_fraction=0.5170217914931444\n",
      "[LightGBM] [Warning] bagging_fraction is set=0.7947006196444314, subsample=1.0 will be ignored. Current value: bagging_fraction=0.7947006196444314\n"
     ]
    },
    {
     "name": "stderr",
     "output_type": "stream",
     "text": [
      "[I 2023-06-06 16:49:51,884] Trial 61 finished with value: 0.657258064516129 and parameters: {'max_depth': 8, 'num_boost_round': 125, 'min_data_in_leaf': 19, 'n_estimators': 1649, 'num_leaves': 82, 'learning_rate': 0.032650198316666275, 'feature_fraction': 0.5170217914931444, 'bagging_fraction': 0.7947006196444314, 'bagging_freq': 7, 'lambda_l1': 0.21633724974385465, 'lambda_l2': 0.5305063631639285}. Best is trial 26 with value: 0.6733870967741935.\n"
     ]
    },
    {
     "name": "stdout",
     "output_type": "stream",
     "text": [
      "[LightGBM] [Warning] bagging_freq is set=6, subsample_freq=0 will be ignored. Current value: bagging_freq=6\n",
      "[LightGBM] [Warning] lambda_l1 is set=0.2926763599327433, reg_alpha=0.0 will be ignored. Current value: lambda_l1=0.2926763599327433\n",
      "[LightGBM] [Warning] min_data_in_leaf is set=19, min_child_samples=20 will be ignored. Current value: min_data_in_leaf=19\n",
      "[LightGBM] [Warning] num_iterations is set=128, num_boost_round=128 will be ignored. Current value: num_iterations=128\n",
      "[LightGBM] [Warning] lambda_l2 is set=0.5748312765680418, reg_lambda=0.0 will be ignored. Current value: lambda_l2=0.5748312765680418\n",
      "[LightGBM] [Warning] feature_fraction is set=0.4967461237317246, colsample_bytree=1.0 will be ignored. Current value: feature_fraction=0.4967461237317246\n",
      "[LightGBM] [Warning] bagging_fraction is set=0.7993255812027893, subsample=1.0 will be ignored. Current value: bagging_fraction=0.7993255812027893\n"
     ]
    },
    {
     "name": "stderr",
     "output_type": "stream",
     "text": [
      "[I 2023-06-06 16:49:52,838] Trial 62 finished with value: 0.6633064516129032 and parameters: {'max_depth': 8, 'num_boost_round': 128, 'min_data_in_leaf': 19, 'n_estimators': 1464, 'num_leaves': 33, 'learning_rate': 0.03330006638949151, 'feature_fraction': 0.4967461237317246, 'bagging_fraction': 0.7993255812027893, 'bagging_freq': 6, 'lambda_l1': 0.2926763599327433, 'lambda_l2': 0.5748312765680418}. Best is trial 26 with value: 0.6733870967741935.\n"
     ]
    },
    {
     "name": "stdout",
     "output_type": "stream",
     "text": [
      "[LightGBM] [Warning] bagging_freq is set=5, subsample_freq=0 will be ignored. Current value: bagging_freq=5\n",
      "[LightGBM] [Warning] lambda_l1 is set=0.3472891411796653, reg_alpha=0.0 will be ignored. Current value: lambda_l1=0.3472891411796653\n",
      "[LightGBM] [Warning] min_data_in_leaf is set=18, min_child_samples=20 will be ignored. Current value: min_data_in_leaf=18\n",
      "[LightGBM] [Warning] num_iterations is set=114, num_boost_round=114 will be ignored. Current value: num_iterations=114\n",
      "[LightGBM] [Warning] lambda_l2 is set=0.679580014633949, reg_lambda=0.0 will be ignored. Current value: lambda_l2=0.679580014633949\n",
      "[LightGBM] [Warning] feature_fraction is set=0.4549195419631557, colsample_bytree=1.0 will be ignored. Current value: feature_fraction=0.4549195419631557\n",
      "[LightGBM] [Warning] bagging_fraction is set=0.7548556436385333, subsample=1.0 will be ignored. Current value: bagging_fraction=0.7548556436385333\n"
     ]
    },
    {
     "name": "stderr",
     "output_type": "stream",
     "text": [
      "[I 2023-06-06 16:49:53,755] Trial 63 finished with value: 0.6733870967741935 and parameters: {'max_depth': 8, 'num_boost_round': 114, 'min_data_in_leaf': 18, 'n_estimators': 1593, 'num_leaves': 136, 'learning_rate': 0.039356363693781884, 'feature_fraction': 0.4549195419631557, 'bagging_fraction': 0.7548556436385333, 'bagging_freq': 5, 'lambda_l1': 0.3472891411796653, 'lambda_l2': 0.679580014633949}. Best is trial 26 with value: 0.6733870967741935.\n"
     ]
    },
    {
     "name": "stdout",
     "output_type": "stream",
     "text": [
      "[LightGBM] [Warning] bagging_freq is set=5, subsample_freq=0 will be ignored. Current value: bagging_freq=5\n",
      "[LightGBM] [Warning] lambda_l1 is set=0.37997676985710543, reg_alpha=0.0 will be ignored. Current value: lambda_l1=0.37997676985710543\n",
      "[LightGBM] [Warning] min_data_in_leaf is set=18, min_child_samples=20 will be ignored. Current value: min_data_in_leaf=18\n",
      "[LightGBM] [Warning] num_iterations is set=116, num_boost_round=116 will be ignored. Current value: num_iterations=116\n",
      "[LightGBM] [Warning] lambda_l2 is set=0.6345441081338224, reg_lambda=0.0 will be ignored. Current value: lambda_l2=0.6345441081338224\n",
      "[LightGBM] [Warning] feature_fraction is set=0.4247726634944306, colsample_bytree=1.0 will be ignored. Current value: feature_fraction=0.4247726634944306\n",
      "[LightGBM] [Warning] bagging_fraction is set=0.7447797817069396, subsample=1.0 will be ignored. Current value: bagging_fraction=0.7447797817069396\n"
     ]
    },
    {
     "name": "stderr",
     "output_type": "stream",
     "text": [
      "[I 2023-06-06 16:49:54,655] Trial 64 finished with value: 0.6673387096774194 and parameters: {'max_depth': 8, 'num_boost_round': 116, 'min_data_in_leaf': 18, 'n_estimators': 1581, 'num_leaves': 226, 'learning_rate': 0.03679475843367921, 'feature_fraction': 0.4247726634944306, 'bagging_fraction': 0.7447797817069396, 'bagging_freq': 5, 'lambda_l1': 0.37997676985710543, 'lambda_l2': 0.6345441081338224}. Best is trial 26 with value: 0.6733870967741935.\n"
     ]
    },
    {
     "name": "stdout",
     "output_type": "stream",
     "text": [
      "[LightGBM] [Warning] bagging_freq is set=4, subsample_freq=0 will be ignored. Current value: bagging_freq=4\n",
      "[LightGBM] [Warning] lambda_l1 is set=0.47440203073912834, reg_alpha=0.0 will be ignored. Current value: lambda_l1=0.47440203073912834\n",
      "[LightGBM] [Warning] min_data_in_leaf is set=17, min_child_samples=20 will be ignored. Current value: min_data_in_leaf=17\n",
      "[LightGBM] [Warning] num_iterations is set=107, num_boost_round=107 will be ignored. Current value: num_iterations=107\n",
      "[LightGBM] [Warning] lambda_l2 is set=0.3216391865255687, reg_lambda=0.0 will be ignored. Current value: lambda_l2=0.3216391865255687\n",
      "[LightGBM] [Warning] feature_fraction is set=0.44636019086104883, colsample_bytree=1.0 will be ignored. Current value: feature_fraction=0.44636019086104883\n",
      "[LightGBM] [Warning] bagging_fraction is set=0.7705605118402863, subsample=1.0 will be ignored. Current value: bagging_fraction=0.7705605118402863\n"
     ]
    },
    {
     "name": "stderr",
     "output_type": "stream",
     "text": [
      "[I 2023-06-06 16:49:55,565] Trial 65 finished with value: 0.655241935483871 and parameters: {'max_depth': 8, 'num_boost_round': 107, 'min_data_in_leaf': 17, 'n_estimators': 1081, 'num_leaves': 447, 'learning_rate': 0.038741146832692704, 'feature_fraction': 0.44636019086104883, 'bagging_fraction': 0.7705605118402863, 'bagging_freq': 4, 'lambda_l1': 0.47440203073912834, 'lambda_l2': 0.3216391865255687}. Best is trial 26 with value: 0.6733870967741935.\n"
     ]
    },
    {
     "name": "stdout",
     "output_type": "stream",
     "text": [
      "[LightGBM] [Warning] bagging_freq is set=5, subsample_freq=0 will be ignored. Current value: bagging_freq=5\n",
      "[LightGBM] [Warning] lambda_l1 is set=0.3261591890118502, reg_alpha=0.0 will be ignored. Current value: lambda_l1=0.3261591890118502\n",
      "[LightGBM] [Warning] min_data_in_leaf is set=17, min_child_samples=20 will be ignored. Current value: min_data_in_leaf=17\n",
      "[LightGBM] [Warning] num_iterations is set=120, num_boost_round=120 will be ignored. Current value: num_iterations=120\n",
      "[LightGBM] [Warning] lambda_l2 is set=0.8744156961636261, reg_lambda=0.0 will be ignored. Current value: lambda_l2=0.8744156961636261\n",
      "[LightGBM] [Warning] feature_fraction is set=0.4610218257408374, colsample_bytree=1.0 will be ignored. Current value: feature_fraction=0.4610218257408374\n",
      "[LightGBM] [Warning] bagging_fraction is set=0.6811830419005205, subsample=1.0 will be ignored. Current value: bagging_fraction=0.6811830419005205\n"
     ]
    },
    {
     "name": "stderr",
     "output_type": "stream",
     "text": [
      "[I 2023-06-06 16:49:56,166] Trial 66 finished with value: 0.6612903225806451 and parameters: {'max_depth': 8, 'num_boost_round': 120, 'min_data_in_leaf': 17, 'n_estimators': 1731, 'num_leaves': 17, 'learning_rate': 0.04995913245736869, 'feature_fraction': 0.4610218257408374, 'bagging_fraction': 0.6811830419005205, 'bagging_freq': 5, 'lambda_l1': 0.3261591890118502, 'lambda_l2': 0.8744156961636261}. Best is trial 26 with value: 0.6733870967741935.\n"
     ]
    },
    {
     "name": "stdout",
     "output_type": "stream",
     "text": [
      "[LightGBM] [Warning] bagging_freq is set=4, subsample_freq=0 will be ignored. Current value: bagging_freq=4\n",
      "[LightGBM] [Warning] lambda_l1 is set=0.5796221674513594, reg_alpha=0.0 will be ignored. Current value: lambda_l1=0.5796221674513594\n",
      "[LightGBM] [Warning] min_data_in_leaf is set=20, min_child_samples=20 will be ignored. Current value: min_data_in_leaf=20\n",
      "[LightGBM] [Warning] num_iterations is set=137, num_boost_round=137 will be ignored. Current value: num_iterations=137\n",
      "[LightGBM] [Warning] lambda_l2 is set=0.7088153694623814, reg_lambda=0.0 will be ignored. Current value: lambda_l2=0.7088153694623814\n",
      "[LightGBM] [Warning] feature_fraction is set=0.49265902256409083, colsample_bytree=1.0 will be ignored. Current value: feature_fraction=0.49265902256409083\n",
      "[LightGBM] [Warning] bagging_fraction is set=0.7284389186800388, subsample=1.0 will be ignored. Current value: bagging_fraction=0.7284389186800388\n"
     ]
    },
    {
     "name": "stderr",
     "output_type": "stream",
     "text": [
      "[I 2023-06-06 16:49:57,222] Trial 67 finished with value: 0.6673387096774194 and parameters: {'max_depth': 8, 'num_boost_round': 137, 'min_data_in_leaf': 20, 'n_estimators': 1820, 'num_leaves': 167, 'learning_rate': 0.02715085871176121, 'feature_fraction': 0.49265902256409083, 'bagging_fraction': 0.7284389186800388, 'bagging_freq': 4, 'lambda_l1': 0.5796221674513594, 'lambda_l2': 0.7088153694623814}. Best is trial 26 with value: 0.6733870967741935.\n"
     ]
    },
    {
     "name": "stdout",
     "output_type": "stream",
     "text": [
      "[LightGBM] [Warning] bagging_freq is set=8, subsample_freq=0 will be ignored. Current value: bagging_freq=8\n",
      "[LightGBM] [Warning] lambda_l1 is set=0.2554537224150914, reg_alpha=0.0 will be ignored. Current value: lambda_l1=0.2554537224150914\n",
      "[LightGBM] [Warning] min_data_in_leaf is set=16, min_child_samples=20 will be ignored. Current value: min_data_in_leaf=16\n",
      "[LightGBM] [Warning] num_iterations is set=104, num_boost_round=104 will be ignored. Current value: num_iterations=104\n",
      "[LightGBM] [Warning] lambda_l2 is set=0.42549311740704227, reg_lambda=0.0 will be ignored. Current value: lambda_l2=0.42549311740704227\n",
      "[LightGBM] [Warning] feature_fraction is set=0.4083538289303443, colsample_bytree=1.0 will be ignored. Current value: feature_fraction=0.4083538289303443\n",
      "[LightGBM] [Warning] bagging_fraction is set=0.7530454841822739, subsample=1.0 will be ignored. Current value: bagging_fraction=0.7530454841822739\n"
     ]
    },
    {
     "name": "stderr",
     "output_type": "stream",
     "text": [
      "[I 2023-06-06 16:49:57,982] Trial 68 finished with value: 0.6512096774193549 and parameters: {'max_depth': 7, 'num_boost_round': 104, 'min_data_in_leaf': 16, 'n_estimators': 1502, 'num_leaves': 109, 'learning_rate': 0.02936081001327486, 'feature_fraction': 0.4083538289303443, 'bagging_fraction': 0.7530454841822739, 'bagging_freq': 8, 'lambda_l1': 0.2554537224150914, 'lambda_l2': 0.42549311740704227}. Best is trial 26 with value: 0.6733870967741935.\n"
     ]
    },
    {
     "name": "stdout",
     "output_type": "stream",
     "text": [
      "[LightGBM] [Warning] bagging_freq is set=3, subsample_freq=0 will be ignored. Current value: bagging_freq=3\n",
      "[LightGBM] [Warning] lambda_l1 is set=0.7107074574233087, reg_alpha=0.0 will be ignored. Current value: lambda_l1=0.7107074574233087\n",
      "[LightGBM] [Warning] min_data_in_leaf is set=18, min_child_samples=20 will be ignored. Current value: min_data_in_leaf=18\n",
      "[LightGBM] [Warning] num_iterations is set=151, num_boost_round=151 will be ignored. Current value: num_iterations=151\n",
      "[LightGBM] [Warning] lambda_l2 is set=0.23233851947281467, reg_lambda=0.0 will be ignored. Current value: lambda_l2=0.23233851947281467\n",
      "[LightGBM] [Warning] feature_fraction is set=0.5391372005249484, colsample_bytree=1.0 will be ignored. Current value: feature_fraction=0.5391372005249484\n",
      "[LightGBM] [Warning] bagging_fraction is set=0.7187132645276826, subsample=1.0 will be ignored. Current value: bagging_fraction=0.7187132645276826\n"
     ]
    },
    {
     "name": "stderr",
     "output_type": "stream",
     "text": [
      "[I 2023-06-06 16:49:59,243] Trial 69 finished with value: 0.6612903225806451 and parameters: {'max_depth': 8, 'num_boost_round': 151, 'min_data_in_leaf': 18, 'n_estimators': 877, 'num_leaves': 344, 'learning_rate': 0.043565561626790206, 'feature_fraction': 0.5391372005249484, 'bagging_fraction': 0.7187132645276826, 'bagging_freq': 3, 'lambda_l1': 0.7107074574233087, 'lambda_l2': 0.23233851947281467}. Best is trial 26 with value: 0.6733870967741935.\n"
     ]
    },
    {
     "name": "stdout",
     "output_type": "stream",
     "text": [
      "[LightGBM] [Warning] bagging_freq is set=1, subsample_freq=0 will be ignored. Current value: bagging_freq=1\n",
      "[LightGBM] [Warning] lambda_l1 is set=0.394069939453327, reg_alpha=0.0 will be ignored. Current value: lambda_l1=0.394069939453327\n",
      "[LightGBM] [Warning] min_data_in_leaf is set=18, min_child_samples=20 will be ignored. Current value: min_data_in_leaf=18\n",
      "[LightGBM] [Warning] num_iterations is set=157, num_boost_round=157 will be ignored. Current value: num_iterations=157\n",
      "[LightGBM] [Warning] lambda_l2 is set=0.3583700303359788, reg_lambda=0.0 will be ignored. Current value: lambda_l2=0.3583700303359788\n",
      "[LightGBM] [Warning] feature_fraction is set=0.4778464951609326, colsample_bytree=1.0 will be ignored. Current value: feature_fraction=0.4778464951609326\n",
      "[LightGBM] [Warning] bagging_fraction is set=0.7809387500459746, subsample=1.0 will be ignored. Current value: bagging_fraction=0.7809387500459746\n"
     ]
    },
    {
     "name": "stderr",
     "output_type": "stream",
     "text": [
      "[I 2023-06-06 16:50:00,389] Trial 70 finished with value: 0.6612903225806451 and parameters: {'max_depth': 7, 'num_boost_round': 157, 'min_data_in_leaf': 18, 'n_estimators': 1352, 'num_leaves': 261, 'learning_rate': 0.024966571761598617, 'feature_fraction': 0.4778464951609326, 'bagging_fraction': 0.7809387500459746, 'bagging_freq': 1, 'lambda_l1': 0.394069939453327, 'lambda_l2': 0.3583700303359788}. Best is trial 26 with value: 0.6733870967741935.\n"
     ]
    },
    {
     "name": "stdout",
     "output_type": "stream",
     "text": [
      "[LightGBM] [Warning] bagging_freq is set=6, subsample_freq=0 will be ignored. Current value: bagging_freq=6\n",
      "[LightGBM] [Warning] lambda_l1 is set=0.20757355482024337, reg_alpha=0.0 will be ignored. Current value: lambda_l1=0.20757355482024337\n",
      "[LightGBM] [Warning] min_data_in_leaf is set=19, min_child_samples=20 will be ignored. Current value: min_data_in_leaf=19\n",
      "[LightGBM] [Warning] num_iterations is set=232, num_boost_round=232 will be ignored. Current value: num_iterations=232\n",
      "[LightGBM] [Warning] lambda_l2 is set=0.5460798909523554, reg_lambda=0.0 will be ignored. Current value: lambda_l2=0.5460798909523554\n",
      "[LightGBM] [Warning] feature_fraction is set=0.514605994992722, colsample_bytree=1.0 will be ignored. Current value: feature_fraction=0.514605994992722\n",
      "[LightGBM] [Warning] bagging_fraction is set=0.7761302895408826, subsample=1.0 will be ignored. Current value: bagging_fraction=0.7761302895408826\n"
     ]
    },
    {
     "name": "stderr",
     "output_type": "stream",
     "text": [
      "[I 2023-06-06 16:50:02,360] Trial 71 finished with value: 0.6612903225806451 and parameters: {'max_depth': 8, 'num_boost_round': 232, 'min_data_in_leaf': 19, 'n_estimators': 1609, 'num_leaves': 91, 'learning_rate': 0.03234002018020221, 'feature_fraction': 0.514605994992722, 'bagging_fraction': 0.7761302895408826, 'bagging_freq': 6, 'lambda_l1': 0.20757355482024337, 'lambda_l2': 0.5460798909523554}. Best is trial 26 with value: 0.6733870967741935.\n"
     ]
    },
    {
     "name": "stdout",
     "output_type": "stream",
     "text": [
      "[LightGBM] [Warning] bagging_freq is set=7, subsample_freq=0 will be ignored. Current value: bagging_freq=7\n",
      "[LightGBM] [Warning] lambda_l1 is set=0.44374926174457735, reg_alpha=0.0 will be ignored. Current value: lambda_l1=0.44374926174457735\n",
      "[LightGBM] [Warning] min_data_in_leaf is set=19, min_child_samples=20 will be ignored. Current value: min_data_in_leaf=19\n",
      "[LightGBM] [Warning] num_iterations is set=125, num_boost_round=125 will be ignored. Current value: num_iterations=125\n",
      "[LightGBM] [Warning] lambda_l2 is set=0.6674519843651595, reg_lambda=0.0 will be ignored. Current value: lambda_l2=0.6674519843651595\n",
      "[LightGBM] [Warning] feature_fraction is set=0.45264502146192415, colsample_bytree=1.0 will be ignored. Current value: feature_fraction=0.45264502146192415\n",
      "[LightGBM] [Warning] bagging_fraction is set=0.7583750961879373, subsample=1.0 will be ignored. Current value: bagging_fraction=0.7583750961879373\n"
     ]
    },
    {
     "name": "stderr",
     "output_type": "stream",
     "text": [
      "[I 2023-06-06 16:50:03,368] Trial 72 finished with value: 0.6653225806451613 and parameters: {'max_depth': 8, 'num_boost_round': 125, 'min_data_in_leaf': 19, 'n_estimators': 1637, 'num_leaves': 179, 'learning_rate': 0.034119160991914664, 'feature_fraction': 0.45264502146192415, 'bagging_fraction': 0.7583750961879373, 'bagging_freq': 7, 'lambda_l1': 0.44374926174457735, 'lambda_l2': 0.6674519843651595}. Best is trial 26 with value: 0.6733870967741935.\n"
     ]
    },
    {
     "name": "stdout",
     "output_type": "stream",
     "text": [
      "[LightGBM] [Warning] bagging_freq is set=7, subsample_freq=0 will be ignored. Current value: bagging_freq=7\n",
      "[LightGBM] [Warning] lambda_l1 is set=0.3595912416505298, reg_alpha=0.0 will be ignored. Current value: lambda_l1=0.3595912416505298\n",
      "[LightGBM] [Warning] min_data_in_leaf is set=18, min_child_samples=20 will be ignored. Current value: min_data_in_leaf=18\n",
      "[LightGBM] [Warning] num_iterations is set=131, num_boost_round=131 will be ignored. Current value: num_iterations=131\n",
      "[LightGBM] [Warning] lambda_l2 is set=0.30187520524950223, reg_lambda=0.0 will be ignored. Current value: lambda_l2=0.30187520524950223\n",
      "[LightGBM] [Warning] feature_fraction is set=0.5034141440763237, colsample_bytree=1.0 will be ignored. Current value: feature_fraction=0.5034141440763237\n",
      "[LightGBM] [Warning] bagging_fraction is set=0.7840531664493856, subsample=1.0 will be ignored. Current value: bagging_fraction=0.7840531664493856\n"
     ]
    },
    {
     "name": "stderr",
     "output_type": "stream",
     "text": [
      "[I 2023-06-06 16:50:04,503] Trial 73 finished with value: 0.6653225806451613 and parameters: {'max_depth': 8, 'num_boost_round': 131, 'min_data_in_leaf': 18, 'n_estimators': 1430, 'num_leaves': 141, 'learning_rate': 0.030710871461329958, 'feature_fraction': 0.5034141440763237, 'bagging_fraction': 0.7840531664493856, 'bagging_freq': 7, 'lambda_l1': 0.3595912416505298, 'lambda_l2': 0.30187520524950223}. Best is trial 26 with value: 0.6733870967741935.\n"
     ]
    },
    {
     "name": "stdout",
     "output_type": "stream",
     "text": [
      "[LightGBM] [Warning] bagging_freq is set=6, subsample_freq=0 will be ignored. Current value: bagging_freq=6\n",
      "[LightGBM] [Warning] lambda_l1 is set=0.5420709453051551, reg_alpha=0.0 will be ignored. Current value: lambda_l1=0.5420709453051551\n",
      "[LightGBM] [Warning] min_data_in_leaf is set=17, min_child_samples=20 will be ignored. Current value: min_data_in_leaf=17\n",
      "[LightGBM] [Warning] num_iterations is set=119, num_boost_round=119 will be ignored. Current value: num_iterations=119\n",
      "[LightGBM] [Warning] lambda_l2 is set=0.46831490833729406, reg_lambda=0.0 will be ignored. Current value: lambda_l2=0.46831490833729406\n",
      "[LightGBM] [Warning] feature_fraction is set=0.5362503103307364, colsample_bytree=1.0 will be ignored. Current value: feature_fraction=0.5362503103307364\n",
      "[LightGBM] [Warning] bagging_fraction is set=0.743311015185716, subsample=1.0 will be ignored. Current value: bagging_fraction=0.743311015185716\n"
     ]
    },
    {
     "name": "stderr",
     "output_type": "stream",
     "text": [
      "[I 2023-06-06 16:50:05,589] Trial 74 finished with value: 0.6653225806451613 and parameters: {'max_depth': 8, 'num_boost_round': 119, 'min_data_in_leaf': 17, 'n_estimators': 1711, 'num_leaves': 1776, 'learning_rate': 0.027310091349300507, 'feature_fraction': 0.5362503103307364, 'bagging_fraction': 0.743311015185716, 'bagging_freq': 6, 'lambda_l1': 0.5420709453051551, 'lambda_l2': 0.46831490833729406}. Best is trial 26 with value: 0.6733870967741935.\n"
     ]
    },
    {
     "name": "stdout",
     "output_type": "stream",
     "text": [
      "[LightGBM] [Warning] bagging_freq is set=5, subsample_freq=0 will be ignored. Current value: bagging_freq=5\n",
      "[LightGBM] [Warning] lambda_l1 is set=0.2683922725291969, reg_alpha=0.0 will be ignored. Current value: lambda_l1=0.2683922725291969\n",
      "[LightGBM] [Warning] min_data_in_leaf is set=20, min_child_samples=20 will be ignored. Current value: min_data_in_leaf=20\n",
      "[LightGBM] [Warning] num_iterations is set=113, num_boost_round=113 will be ignored. Current value: num_iterations=113\n",
      "[LightGBM] [Warning] lambda_l2 is set=0.5591233856745418, reg_lambda=0.0 will be ignored. Current value: lambda_l2=0.5591233856745418\n",
      "[LightGBM] [Warning] feature_fraction is set=0.4869721891540093, colsample_bytree=1.0 will be ignored. Current value: feature_fraction=0.4869721891540093\n",
      "[LightGBM] [Warning] bagging_fraction is set=0.7991466481347076, subsample=1.0 will be ignored. Current value: bagging_fraction=0.7991466481347076\n"
     ]
    },
    {
     "name": "stderr",
     "output_type": "stream",
     "text": [
      "[I 2023-06-06 16:50:06,568] Trial 75 finished with value: 0.657258064516129 and parameters: {'max_depth': 8, 'num_boost_round': 113, 'min_data_in_leaf': 20, 'n_estimators': 1208, 'num_leaves': 223, 'learning_rate': 0.03523822770171703, 'feature_fraction': 0.4869721891540093, 'bagging_fraction': 0.7991466481347076, 'bagging_freq': 5, 'lambda_l1': 0.2683922725291969, 'lambda_l2': 0.5591233856745418}. Best is trial 26 with value: 0.6733870967741935.\n"
     ]
    },
    {
     "name": "stdout",
     "output_type": "stream",
     "text": [
      "[LightGBM] [Warning] bagging_freq is set=5, subsample_freq=0 will be ignored. Current value: bagging_freq=5\n",
      "[LightGBM] [Warning] lambda_l1 is set=0.650282444878573, reg_alpha=0.0 will be ignored. Current value: lambda_l1=0.650282444878573\n",
      "[LightGBM] [Warning] min_data_in_leaf is set=16, min_child_samples=20 will be ignored. Current value: min_data_in_leaf=16\n",
      "[LightGBM] [Warning] num_iterations is set=100, num_boost_round=100 will be ignored. Current value: num_iterations=100\n",
      "[LightGBM] [Warning] lambda_l2 is set=0.8627560937786649, reg_lambda=0.0 will be ignored. Current value: lambda_l2=0.8627560937786649\n",
      "[LightGBM] [Warning] feature_fraction is set=0.5752745540603393, colsample_bytree=1.0 will be ignored. Current value: feature_fraction=0.5752745540603393\n",
      "[LightGBM] [Warning] bagging_fraction is set=0.689169858799666, subsample=1.0 will be ignored. Current value: bagging_fraction=0.689169858799666\n"
     ]
    },
    {
     "name": "stderr",
     "output_type": "stream",
     "text": [
      "[I 2023-06-06 16:50:07,214] Trial 76 finished with value: 0.655241935483871 and parameters: {'max_depth': 6, 'num_boost_round': 100, 'min_data_in_leaf': 16, 'n_estimators': 1920, 'num_leaves': 70, 'learning_rate': 0.03915549758587199, 'feature_fraction': 0.5752745540603393, 'bagging_fraction': 0.689169858799666, 'bagging_freq': 5, 'lambda_l1': 0.650282444878573, 'lambda_l2': 0.8627560937786649}. Best is trial 26 with value: 0.6733870967741935.\n"
     ]
    },
    {
     "name": "stdout",
     "output_type": "stream",
     "text": [
      "[LightGBM] [Warning] bagging_freq is set=4, subsample_freq=0 will be ignored. Current value: bagging_freq=4\n",
      "[LightGBM] [Warning] lambda_l1 is set=0.32452541237424193, reg_alpha=0.0 will be ignored. Current value: lambda_l1=0.32452541237424193\n",
      "[LightGBM] [Warning] min_data_in_leaf is set=17, min_child_samples=20 will be ignored. Current value: min_data_in_leaf=17\n",
      "[LightGBM] [Warning] num_iterations is set=145, num_boost_round=145 will be ignored. Current value: num_iterations=145\n",
      "[LightGBM] [Warning] lambda_l2 is set=0.41711784824585785, reg_lambda=0.0 will be ignored. Current value: lambda_l2=0.41711784824585785\n",
      "[LightGBM] [Warning] feature_fraction is set=0.6016644228945316, colsample_bytree=1.0 will be ignored. Current value: feature_fraction=0.6016644228945316\n",
      "[LightGBM] [Warning] bagging_fraction is set=0.7526295936231034, subsample=1.0 will be ignored. Current value: bagging_fraction=0.7526295936231034\n"
     ]
    },
    {
     "name": "stderr",
     "output_type": "stream",
     "text": [
      "[I 2023-06-06 16:50:08,642] Trial 77 finished with value: 0.6673387096774194 and parameters: {'max_depth': 8, 'num_boost_round': 145, 'min_data_in_leaf': 17, 'n_estimators': 1546, 'num_leaves': 410, 'learning_rate': 0.02954912224108677, 'feature_fraction': 0.6016644228945316, 'bagging_fraction': 0.7526295936231034, 'bagging_freq': 4, 'lambda_l1': 0.32452541237424193, 'lambda_l2': 0.41711784824585785}. Best is trial 26 with value: 0.6733870967741935.\n"
     ]
    },
    {
     "name": "stdout",
     "output_type": "stream",
     "text": [
      "[LightGBM] [Warning] bagging_freq is set=4, subsample_freq=0 will be ignored. Current value: bagging_freq=4\n",
      "[LightGBM] [Warning] lambda_l1 is set=0.4463489007762908, reg_alpha=0.0 will be ignored. Current value: lambda_l1=0.4463489007762908\n",
      "[LightGBM] [Warning] min_data_in_leaf is set=15, min_child_samples=20 will be ignored. Current value: min_data_in_leaf=15\n",
      "[LightGBM] [Warning] num_iterations is set=110, num_boost_round=110 will be ignored. Current value: num_iterations=110\n",
      "[LightGBM] [Warning] lambda_l2 is set=0.4896577608256251, reg_lambda=0.0 will be ignored. Current value: lambda_l2=0.4896577608256251\n",
      "[LightGBM] [Warning] feature_fraction is set=0.504514781481671, colsample_bytree=1.0 will be ignored. Current value: feature_fraction=0.504514781481671\n",
      "[LightGBM] [Warning] bagging_fraction is set=0.7225862166900117, subsample=1.0 will be ignored. Current value: bagging_fraction=0.7225862166900117\n"
     ]
    },
    {
     "name": "stderr",
     "output_type": "stream",
     "text": [
      "[I 2023-06-06 16:50:09,655] Trial 78 finished with value: 0.655241935483871 and parameters: {'max_depth': 8, 'num_boost_round': 110, 'min_data_in_leaf': 15, 'n_estimators': 1320, 'num_leaves': 314, 'learning_rate': 0.025978425514811426, 'feature_fraction': 0.504514781481671, 'bagging_fraction': 0.7225862166900117, 'bagging_freq': 4, 'lambda_l1': 0.4463489007762908, 'lambda_l2': 0.4896577608256251}. Best is trial 26 with value: 0.6733870967741935.\n"
     ]
    },
    {
     "name": "stdout",
     "output_type": "stream",
     "text": [
      "[LightGBM] [Warning] bagging_freq is set=6, subsample_freq=0 will be ignored. Current value: bagging_freq=6\n",
      "[LightGBM] [Warning] lambda_l1 is set=0.38876518061819443, reg_alpha=0.0 will be ignored. Current value: lambda_l1=0.38876518061819443\n",
      "[LightGBM] [Warning] min_data_in_leaf is set=18, min_child_samples=20 will be ignored. Current value: min_data_in_leaf=18\n",
      "[LightGBM] [Warning] num_iterations is set=125, num_boost_round=125 will be ignored. Current value: num_iterations=125\n",
      "[LightGBM] [Warning] lambda_l2 is set=0.27159999218311237, reg_lambda=0.0 will be ignored. Current value: lambda_l2=0.27159999218311237\n",
      "[LightGBM] [Warning] feature_fraction is set=0.4606670564350979, colsample_bytree=1.0 will be ignored. Current value: feature_fraction=0.4606670564350979\n",
      "[LightGBM] [Warning] bagging_fraction is set=0.7820787831302266, subsample=1.0 will be ignored. Current value: bagging_fraction=0.7820787831302266\n"
     ]
    },
    {
     "name": "stderr",
     "output_type": "stream",
     "text": [
      "[I 2023-06-06 16:50:10,563] Trial 79 finished with value: 0.6673387096774194 and parameters: {'max_depth': 7, 'num_boost_round': 125, 'min_data_in_leaf': 18, 'n_estimators': 1643, 'num_leaves': 650, 'learning_rate': 0.03164409858009385, 'feature_fraction': 0.4606670564350979, 'bagging_fraction': 0.7820787831302266, 'bagging_freq': 6, 'lambda_l1': 0.38876518061819443, 'lambda_l2': 0.27159999218311237}. Best is trial 26 with value: 0.6733870967741935.\n"
     ]
    },
    {
     "name": "stdout",
     "output_type": "stream",
     "text": [
      "[LightGBM] [Warning] bagging_freq is set=3, subsample_freq=0 will be ignored. Current value: bagging_freq=3\n",
      "[LightGBM] [Warning] lambda_l1 is set=0.889914525270459, reg_alpha=0.0 will be ignored. Current value: lambda_l1=0.889914525270459\n",
      "[LightGBM] [Warning] min_data_in_leaf is set=10, min_child_samples=20 will be ignored. Current value: min_data_in_leaf=10\n",
      "[LightGBM] [Warning] num_iterations is set=289, num_boost_round=289 will be ignored. Current value: num_iterations=289\n",
      "[LightGBM] [Warning] lambda_l2 is set=0.3693921419990962, reg_lambda=0.0 will be ignored. Current value: lambda_l2=0.3693921419990962\n",
      "[LightGBM] [Warning] feature_fraction is set=0.5510729986142745, colsample_bytree=1.0 will be ignored. Current value: feature_fraction=0.5510729986142745\n",
      "[LightGBM] [Warning] bagging_fraction is set=0.702183069837647, subsample=1.0 will be ignored. Current value: bagging_fraction=0.702183069837647\n"
     ]
    },
    {
     "name": "stderr",
     "output_type": "stream",
     "text": [
      "[I 2023-06-06 16:50:13,105] Trial 80 finished with value: 0.6633064516129032 and parameters: {'max_depth': 7, 'num_boost_round': 289, 'min_data_in_leaf': 10, 'n_estimators': 616, 'num_leaves': 579, 'learning_rate': 0.03497439396201402, 'feature_fraction': 0.5510729986142745, 'bagging_fraction': 0.702183069837647, 'bagging_freq': 3, 'lambda_l1': 0.889914525270459, 'lambda_l2': 0.3693921419990962}. Best is trial 26 with value: 0.6733870967741935.\n"
     ]
    },
    {
     "name": "stdout",
     "output_type": "stream",
     "text": [
      "[LightGBM] [Warning] bagging_freq is set=5, subsample_freq=0 will be ignored. Current value: bagging_freq=5\n",
      "[LightGBM] [Warning] lambda_l1 is set=0.3824943373242671, reg_alpha=0.0 will be ignored. Current value: lambda_l1=0.3824943373242671\n",
      "[LightGBM] [Warning] min_data_in_leaf is set=18, min_child_samples=20 will be ignored. Current value: min_data_in_leaf=18\n",
      "[LightGBM] [Warning] num_iterations is set=115, num_boost_round=115 will be ignored. Current value: num_iterations=115\n",
      "[LightGBM] [Warning] lambda_l2 is set=0.6221684384334272, reg_lambda=0.0 will be ignored. Current value: lambda_l2=0.6221684384334272\n",
      "[LightGBM] [Warning] feature_fraction is set=0.43552537470151775, colsample_bytree=1.0 will be ignored. Current value: feature_fraction=0.43552537470151775\n",
      "[LightGBM] [Warning] bagging_fraction is set=0.7377988936628636, subsample=1.0 will be ignored. Current value: bagging_fraction=0.7377988936628636\n"
     ]
    },
    {
     "name": "stderr",
     "output_type": "stream",
     "text": [
      "[I 2023-06-06 16:50:14,006] Trial 81 finished with value: 0.6673387096774194 and parameters: {'max_depth': 8, 'num_boost_round': 115, 'min_data_in_leaf': 18, 'n_estimators': 1563, 'num_leaves': 216, 'learning_rate': 0.03771585417227623, 'feature_fraction': 0.43552537470151775, 'bagging_fraction': 0.7377988936628636, 'bagging_freq': 5, 'lambda_l1': 0.3824943373242671, 'lambda_l2': 0.6221684384334272}. Best is trial 26 with value: 0.6733870967741935.\n"
     ]
    },
    {
     "name": "stdout",
     "output_type": "stream",
     "text": [
      "[LightGBM] [Warning] bagging_freq is set=5, subsample_freq=0 will be ignored. Current value: bagging_freq=5\n",
      "[LightGBM] [Warning] lambda_l1 is set=0.5355449136973285, reg_alpha=0.0 will be ignored. Current value: lambda_l1=0.5355449136973285\n",
      "[LightGBM] [Warning] min_data_in_leaf is set=19, min_child_samples=20 will be ignored. Current value: min_data_in_leaf=19\n",
      "[LightGBM] [Warning] num_iterations is set=117, num_boost_round=117 will be ignored. Current value: num_iterations=117\n",
      "[LightGBM] [Warning] lambda_l2 is set=0.6904692592108037, reg_lambda=0.0 will be ignored. Current value: lambda_l2=0.6904692592108037\n",
      "[LightGBM] [Warning] feature_fraction is set=0.4219536861929949, colsample_bytree=1.0 will be ignored. Current value: feature_fraction=0.4219536861929949\n",
      "[LightGBM] [Warning] bagging_fraction is set=0.7536509360125859, subsample=1.0 will be ignored. Current value: bagging_fraction=0.7536509360125859\n"
     ]
    },
    {
     "name": "stderr",
     "output_type": "stream",
     "text": [
      "[I 2023-06-06 16:50:14,385] Trial 82 finished with value: 0.6633064516129032 and parameters: {'max_depth': 8, 'num_boost_round': 117, 'min_data_in_leaf': 19, 'n_estimators': 1596, 'num_leaves': 10, 'learning_rate': 0.04174674046866501, 'feature_fraction': 0.4219536861929949, 'bagging_fraction': 0.7536509360125859, 'bagging_freq': 5, 'lambda_l1': 0.5355449136973285, 'lambda_l2': 0.6904692592108037}. Best is trial 26 with value: 0.6733870967741935.\n"
     ]
    },
    {
     "name": "stdout",
     "output_type": "stream",
     "text": [
      "[LightGBM] [Warning] bagging_freq is set=5, subsample_freq=0 will be ignored. Current value: bagging_freq=5\n",
      "[LightGBM] [Warning] lambda_l1 is set=0.4654605034385342, reg_alpha=0.0 will be ignored. Current value: lambda_l1=0.4654605034385342\n",
      "[LightGBM] [Warning] min_data_in_leaf is set=17, min_child_samples=20 will be ignored. Current value: min_data_in_leaf=17\n",
      "[LightGBM] [Warning] num_iterations is set=107, num_boost_round=107 will be ignored. Current value: num_iterations=107\n",
      "[LightGBM] [Warning] lambda_l2 is set=0.8019868051997842, reg_lambda=0.0 will be ignored. Current value: lambda_l2=0.8019868051997842\n",
      "[LightGBM] [Warning] feature_fraction is set=0.48346762220425243, colsample_bytree=1.0 will be ignored. Current value: feature_fraction=0.48346762220425243\n",
      "[LightGBM] [Warning] bagging_fraction is set=0.7617690009171231, subsample=1.0 will be ignored. Current value: bagging_fraction=0.7617690009171231\n"
     ]
    },
    {
     "name": "stderr",
     "output_type": "stream",
     "text": [
      "[I 2023-06-06 16:50:15,278] Trial 83 finished with value: 0.6733870967741935 and parameters: {'max_depth': 8, 'num_boost_round': 107, 'min_data_in_leaf': 17, 'n_estimators': 1465, 'num_leaves': 137, 'learning_rate': 0.03704002889311359, 'feature_fraction': 0.48346762220425243, 'bagging_fraction': 0.7617690009171231, 'bagging_freq': 5, 'lambda_l1': 0.4654605034385342, 'lambda_l2': 0.8019868051997842}. Best is trial 26 with value: 0.6733870967741935.\n"
     ]
    },
    {
     "name": "stdout",
     "output_type": "stream",
     "text": [
      "[LightGBM] [Warning] bagging_freq is set=6, subsample_freq=0 will be ignored. Current value: bagging_freq=6\n",
      "[LightGBM] [Warning] lambda_l1 is set=0.5955785445431323, reg_alpha=0.0 will be ignored. Current value: lambda_l1=0.5955785445431323\n",
      "[LightGBM] [Warning] min_data_in_leaf is set=16, min_child_samples=20 will be ignored. Current value: min_data_in_leaf=16\n",
      "[LightGBM] [Warning] num_iterations is set=105, num_boost_round=105 will be ignored. Current value: num_iterations=105\n",
      "[LightGBM] [Warning] lambda_l2 is set=0.8038203604926074, reg_lambda=0.0 will be ignored. Current value: lambda_l2=0.8038203604926074\n",
      "[LightGBM] [Warning] feature_fraction is set=0.5237196455999401, colsample_bytree=1.0 will be ignored. Current value: feature_fraction=0.5237196455999401\n",
      "[LightGBM] [Warning] bagging_fraction is set=0.7651605438504436, subsample=1.0 will be ignored. Current value: bagging_fraction=0.7651605438504436\n"
     ]
    },
    {
     "name": "stderr",
     "output_type": "stream",
     "text": [
      "[I 2023-06-06 16:50:16,194] Trial 84 finished with value: 0.6673387096774194 and parameters: {'max_depth': 8, 'num_boost_round': 105, 'min_data_in_leaf': 16, 'n_estimators': 1473, 'num_leaves': 133, 'learning_rate': 0.032226338553206176, 'feature_fraction': 0.5237196455999401, 'bagging_fraction': 0.7651605438504436, 'bagging_freq': 6, 'lambda_l1': 0.5955785445431323, 'lambda_l2': 0.8038203604926074}. Best is trial 26 with value: 0.6733870967741935.\n"
     ]
    },
    {
     "name": "stdout",
     "output_type": "stream",
     "text": [
      "[LightGBM] [Warning] bagging_freq is set=4, subsample_freq=0 will be ignored. Current value: bagging_freq=4\n",
      "[LightGBM] [Warning] lambda_l1 is set=0.4560996876018124, reg_alpha=0.0 will be ignored. Current value: lambda_l1=0.4560996876018124\n",
      "[LightGBM] [Warning] min_data_in_leaf is set=17, min_child_samples=20 will be ignored. Current value: min_data_in_leaf=17\n",
      "[LightGBM] [Warning] num_iterations is set=110, num_boost_round=110 will be ignored. Current value: num_iterations=110\n",
      "[LightGBM] [Warning] lambda_l2 is set=0.49871684430086544, reg_lambda=0.0 will be ignored. Current value: lambda_l2=0.49871684430086544\n",
      "[LightGBM] [Warning] feature_fraction is set=0.4787822503349017, colsample_bytree=1.0 will be ignored. Current value: feature_fraction=0.4787822503349017\n",
      "[LightGBM] [Warning] bagging_fraction is set=0.7890290319409368, subsample=1.0 will be ignored. Current value: bagging_fraction=0.7890290319409368\n"
     ]
    },
    {
     "name": "stderr",
     "output_type": "stream",
     "text": [
      "[I 2023-06-06 16:50:17,137] Trial 85 finished with value: 0.657258064516129 and parameters: {'max_depth': 8, 'num_boost_round': 110, 'min_data_in_leaf': 17, 'n_estimators': 1392, 'num_leaves': 168, 'learning_rate': 0.028969665450347185, 'feature_fraction': 0.4787822503349017, 'bagging_fraction': 0.7890290319409368, 'bagging_freq': 4, 'lambda_l1': 0.4560996876018124, 'lambda_l2': 0.49871684430086544}. Best is trial 26 with value: 0.6733870967741935.\n"
     ]
    },
    {
     "name": "stdout",
     "output_type": "stream",
     "text": [
      "[LightGBM] [Warning] bagging_freq is set=5, subsample_freq=0 will be ignored. Current value: bagging_freq=5\n",
      "[LightGBM] [Warning] lambda_l1 is set=0.31053417362489316, reg_alpha=0.0 will be ignored. Current value: lambda_l1=0.31053417362489316\n",
      "[LightGBM] [Warning] min_data_in_leaf is set=16, min_child_samples=20 will be ignored. Current value: min_data_in_leaf=16\n",
      "[LightGBM] [Warning] num_iterations is set=131, num_boost_round=131 will be ignored. Current value: num_iterations=131\n",
      "[LightGBM] [Warning] lambda_l2 is set=0.3326977813833621, reg_lambda=0.0 will be ignored. Current value: lambda_l2=0.3326977813833621\n",
      "[LightGBM] [Warning] feature_fraction is set=0.50900066255705, colsample_bytree=1.0 will be ignored. Current value: feature_fraction=0.50900066255705\n",
      "[LightGBM] [Warning] bagging_fraction is set=0.7177778338276347, subsample=1.0 will be ignored. Current value: bagging_fraction=0.7177778338276347\n"
     ]
    },
    {
     "name": "stderr",
     "output_type": "stream",
     "text": [
      "[I 2023-06-06 16:50:18,292] Trial 86 finished with value: 0.6471774193548387 and parameters: {'max_depth': 8, 'num_boost_round': 131, 'min_data_in_leaf': 16, 'n_estimators': 1435, 'num_leaves': 495, 'learning_rate': 0.04487814035875394, 'feature_fraction': 0.50900066255705, 'bagging_fraction': 0.7177778338276347, 'bagging_freq': 5, 'lambda_l1': 0.31053417362489316, 'lambda_l2': 0.3326977813833621}. Best is trial 26 with value: 0.6733870967741935.\n"
     ]
    },
    {
     "name": "stdout",
     "output_type": "stream",
     "text": [
      "[LightGBM] [Warning] bagging_freq is set=2, subsample_freq=0 will be ignored. Current value: bagging_freq=2\n",
      "[LightGBM] [Warning] lambda_l1 is set=0.4946339268477882, reg_alpha=0.0 will be ignored. Current value: lambda_l1=0.4946339268477882\n",
      "[LightGBM] [Warning] min_data_in_leaf is set=17, min_child_samples=20 will be ignored. Current value: min_data_in_leaf=17\n",
      "[LightGBM] [Warning] num_iterations is set=122, num_boost_round=122 will be ignored. Current value: num_iterations=122\n",
      "[LightGBM] [Warning] lambda_l2 is set=0.585300594417422, reg_lambda=0.0 will be ignored. Current value: lambda_l2=0.585300594417422\n",
      "[LightGBM] [Warning] feature_fraction is set=0.5355817500660086, colsample_bytree=1.0 will be ignored. Current value: feature_fraction=0.5355817500660086\n",
      "[LightGBM] [Warning] bagging_fraction is set=0.7795259087891211, subsample=1.0 will be ignored. Current value: bagging_fraction=0.7795259087891211\n"
     ]
    },
    {
     "name": "stderr",
     "output_type": "stream",
     "text": [
      "[I 2023-06-06 16:50:19,027] Trial 87 finished with value: 0.6653225806451613 and parameters: {'max_depth': 6, 'num_boost_round': 122, 'min_data_in_leaf': 17, 'n_estimators': 1822, 'num_leaves': 273, 'learning_rate': 0.03637165246174375, 'feature_fraction': 0.5355817500660086, 'bagging_fraction': 0.7795259087891211, 'bagging_freq': 2, 'lambda_l1': 0.4946339268477882, 'lambda_l2': 0.585300594417422}. Best is trial 26 with value: 0.6733870967741935.\n"
     ]
    },
    {
     "name": "stdout",
     "output_type": "stream",
     "text": [
      "[LightGBM] [Warning] bagging_freq is set=6, subsample_freq=0 will be ignored. Current value: bagging_freq=6\n",
      "[LightGBM] [Warning] lambda_l1 is set=0.6824975653870382, reg_alpha=0.0 will be ignored. Current value: lambda_l1=0.6824975653870382\n",
      "[LightGBM] [Warning] min_data_in_leaf is set=15, min_child_samples=20 will be ignored. Current value: min_data_in_leaf=15\n",
      "[LightGBM] [Warning] num_iterations is set=168, num_boost_round=168 will be ignored. Current value: num_iterations=168\n",
      "[LightGBM] [Warning] lambda_l2 is set=0.7172743238798376, reg_lambda=0.0 will be ignored. Current value: lambda_l2=0.7172743238798376\n",
      "[LightGBM] [Warning] feature_fraction is set=0.5679287050851117, colsample_bytree=1.0 will be ignored. Current value: feature_fraction=0.5679287050851117\n",
      "[LightGBM] [Warning] bagging_fraction is set=0.7619843943519565, subsample=1.0 will be ignored. Current value: bagging_fraction=0.7619843943519565\n"
     ]
    },
    {
     "name": "stderr",
     "output_type": "stream",
     "text": [
      "[I 2023-06-06 16:50:20,577] Trial 88 finished with value: 0.6532258064516129 and parameters: {'max_depth': 8, 'num_boost_round': 168, 'min_data_in_leaf': 15, 'n_estimators': 1123, 'num_leaves': 90, 'learning_rate': 0.03415470802463671, 'feature_fraction': 0.5679287050851117, 'bagging_fraction': 0.7619843943519565, 'bagging_freq': 6, 'lambda_l1': 0.6824975653870382, 'lambda_l2': 0.7172743238798376}. Best is trial 26 with value: 0.6733870967741935.\n"
     ]
    },
    {
     "name": "stdout",
     "output_type": "stream",
     "text": [
      "[LightGBM] [Warning] bagging_freq is set=3, subsample_freq=0 will be ignored. Current value: bagging_freq=3\n",
      "[LightGBM] [Warning] lambda_l1 is set=0.3411803796116647, reg_alpha=0.0 will be ignored. Current value: lambda_l1=0.3411803796116647\n",
      "[LightGBM] [Warning] min_data_in_leaf is set=14, min_child_samples=20 will be ignored. Current value: min_data_in_leaf=14\n",
      "[LightGBM] [Warning] num_iterations is set=140, num_boost_round=140 will be ignored. Current value: num_iterations=140\n",
      "[LightGBM] [Warning] lambda_l2 is set=0.8923398380474773, reg_lambda=0.0 will be ignored. Current value: lambda_l2=0.8923398380474773\n",
      "[LightGBM] [Warning] feature_fraction is set=0.4778974682582833, colsample_bytree=1.0 will be ignored. Current value: feature_fraction=0.4778974682582833\n",
      "[LightGBM] [Warning] bagging_fraction is set=0.7279322117917231, subsample=1.0 will be ignored. Current value: bagging_fraction=0.7279322117917231\n"
     ]
    },
    {
     "name": "stderr",
     "output_type": "stream",
     "text": [
      "[I 2023-06-06 16:50:21,436] Trial 89 finished with value: 0.6673387096774194 and parameters: {'max_depth': 6, 'num_boost_round': 140, 'min_data_in_leaf': 14, 'n_estimators': 1517, 'num_leaves': 63, 'learning_rate': 0.04090672563023388, 'feature_fraction': 0.4778974682582833, 'bagging_fraction': 0.7279322117917231, 'bagging_freq': 3, 'lambda_l1': 0.3411803796116647, 'lambda_l2': 0.8923398380474773}. Best is trial 26 with value: 0.6733870967741935.\n"
     ]
    },
    {
     "name": "stdout",
     "output_type": "stream",
     "text": [
      "[LightGBM] [Warning] bagging_freq is set=7, subsample_freq=0 will be ignored. Current value: bagging_freq=7\n",
      "[LightGBM] [Warning] lambda_l1 is set=0.4155861700514972, reg_alpha=0.0 will be ignored. Current value: lambda_l1=0.4155861700514972\n",
      "[LightGBM] [Warning] min_data_in_leaf is set=12, min_child_samples=20 will be ignored. Current value: min_data_in_leaf=12\n",
      "[LightGBM] [Warning] num_iterations is set=107, num_boost_round=107 will be ignored. Current value: num_iterations=107\n",
      "[LightGBM] [Warning] lambda_l2 is set=0.4352093581356151, reg_lambda=0.0 will be ignored. Current value: lambda_l2=0.4352093581356151\n",
      "[LightGBM] [Warning] feature_fraction is set=0.5892531417578493, colsample_bytree=1.0 will be ignored. Current value: feature_fraction=0.5892531417578493\n",
      "[LightGBM] [Warning] bagging_fraction is set=0.7390130008663084, subsample=1.0 will be ignored. Current value: bagging_fraction=0.7390130008663084\n"
     ]
    },
    {
     "name": "stderr",
     "output_type": "stream",
     "text": [
      "[I 2023-06-06 16:50:22,604] Trial 90 finished with value: 0.6693548387096774 and parameters: {'max_depth': 8, 'num_boost_round': 107, 'min_data_in_leaf': 12, 'n_estimators': 1702, 'num_leaves': 390, 'learning_rate': 0.026988607105018124, 'feature_fraction': 0.5892531417578493, 'bagging_fraction': 0.7390130008663084, 'bagging_freq': 7, 'lambda_l1': 0.4155861700514972, 'lambda_l2': 0.4352093581356151}. Best is trial 26 with value: 0.6733870967741935.\n"
     ]
    },
    {
     "name": "stdout",
     "output_type": "stream",
     "text": [
      "[LightGBM] [Warning] bagging_freq is set=7, subsample_freq=0 will be ignored. Current value: bagging_freq=7\n",
      "[LightGBM] [Warning] lambda_l1 is set=0.41673418026293285, reg_alpha=0.0 will be ignored. Current value: lambda_l1=0.41673418026293285\n",
      "[LightGBM] [Warning] min_data_in_leaf is set=12, min_child_samples=20 will be ignored. Current value: min_data_in_leaf=12\n",
      "[LightGBM] [Warning] num_iterations is set=103, num_boost_round=103 will be ignored. Current value: num_iterations=103\n",
      "[LightGBM] [Warning] lambda_l2 is set=0.4479932785843493, reg_lambda=0.0 will be ignored. Current value: lambda_l2=0.4479932785843493\n",
      "[LightGBM] [Warning] feature_fraction is set=0.588269008615695, colsample_bytree=1.0 will be ignored. Current value: feature_fraction=0.588269008615695\n",
      "[LightGBM] [Warning] bagging_fraction is set=0.7400819957338012, subsample=1.0 will be ignored. Current value: bagging_fraction=0.7400819957338012\n"
     ]
    },
    {
     "name": "stderr",
     "output_type": "stream",
     "text": [
      "[I 2023-06-06 16:50:23,743] Trial 91 finished with value: 0.6612903225806451 and parameters: {'max_depth': 8, 'num_boost_round': 103, 'min_data_in_leaf': 12, 'n_estimators': 1672, 'num_leaves': 345, 'learning_rate': 0.027074534124477297, 'feature_fraction': 0.588269008615695, 'bagging_fraction': 0.7400819957338012, 'bagging_freq': 7, 'lambda_l1': 0.41673418026293285, 'lambda_l2': 0.4479932785843493}. Best is trial 26 with value: 0.6733870967741935.\n"
     ]
    },
    {
     "name": "stdout",
     "output_type": "stream",
     "text": [
      "[LightGBM] [Warning] bagging_freq is set=7, subsample_freq=0 will be ignored. Current value: bagging_freq=7\n",
      "[LightGBM] [Warning] lambda_l1 is set=0.2297470836162949, reg_alpha=0.0 will be ignored. Current value: lambda_l1=0.2297470836162949\n",
      "[LightGBM] [Warning] min_data_in_leaf is set=11, min_child_samples=20 will be ignored. Current value: min_data_in_leaf=11\n",
      "[LightGBM] [Warning] num_iterations is set=108, num_boost_round=108 will be ignored. Current value: num_iterations=108\n",
      "[LightGBM] [Warning] lambda_l2 is set=0.3813607702470726, reg_lambda=0.0 will be ignored. Current value: lambda_l2=0.3813607702470726\n",
      "[LightGBM] [Warning] feature_fraction is set=0.6117207269961028, colsample_bytree=1.0 will be ignored. Current value: feature_fraction=0.6117207269961028\n",
      "[LightGBM] [Warning] bagging_fraction is set=0.7626293144126001, subsample=1.0 will be ignored. Current value: bagging_fraction=0.7626293144126001\n"
     ]
    },
    {
     "name": "stderr",
     "output_type": "stream",
     "text": [
      "[I 2023-06-06 16:50:25,051] Trial 92 finished with value: 0.6673387096774194 and parameters: {'max_depth': 8, 'num_boost_round': 108, 'min_data_in_leaf': 11, 'n_estimators': 1739, 'num_leaves': 384, 'learning_rate': 0.028725497624199372, 'feature_fraction': 0.6117207269961028, 'bagging_fraction': 0.7626293144126001, 'bagging_freq': 7, 'lambda_l1': 0.2297470836162949, 'lambda_l2': 0.3813607702470726}. Best is trial 26 with value: 0.6733870967741935.\n"
     ]
    },
    {
     "name": "stdout",
     "output_type": "stream",
     "text": [
      "[LightGBM] [Warning] bagging_freq is set=8, subsample_freq=0 will be ignored. Current value: bagging_freq=8\n",
      "[LightGBM] [Warning] lambda_l1 is set=0.5592557905590265, reg_alpha=0.0 will be ignored. Current value: lambda_l1=0.5592557905590265\n",
      "[LightGBM] [Warning] min_data_in_leaf is set=12, min_child_samples=20 will be ignored. Current value: min_data_in_leaf=12\n",
      "[LightGBM] [Warning] num_iterations is set=115, num_boost_round=115 will be ignored. Current value: num_iterations=115\n",
      "[LightGBM] [Warning] lambda_l2 is set=0.5191591653049322, reg_lambda=0.0 will be ignored. Current value: lambda_l2=0.5191591653049322\n",
      "[LightGBM] [Warning] feature_fraction is set=0.5651425173347153, colsample_bytree=1.0 will be ignored. Current value: feature_fraction=0.5651425173347153\n",
      "[LightGBM] [Warning] bagging_fraction is set=0.7839890635710999, subsample=1.0 will be ignored. Current value: bagging_fraction=0.7839890635710999\n"
     ]
    },
    {
     "name": "stderr",
     "output_type": "stream",
     "text": [
      "[I 2023-06-06 16:50:26,246] Trial 93 finished with value: 0.657258064516129 and parameters: {'max_depth': 8, 'num_boost_round': 115, 'min_data_in_leaf': 12, 'n_estimators': 1625, 'num_leaves': 686, 'learning_rate': 0.023354770998908994, 'feature_fraction': 0.5651425173347153, 'bagging_fraction': 0.7839890635710999, 'bagging_freq': 8, 'lambda_l1': 0.5592557905590265, 'lambda_l2': 0.5191591653049322}. Best is trial 26 with value: 0.6733870967741935.\n"
     ]
    },
    {
     "name": "stdout",
     "output_type": "stream",
     "text": [
      "[LightGBM] [Warning] bagging_freq is set=7, subsample_freq=0 will be ignored. Current value: bagging_freq=7\n",
      "[LightGBM] [Warning] lambda_l1 is set=0.27241898925939984, reg_alpha=0.0 will be ignored. Current value: lambda_l1=0.27241898925939984\n",
      "[LightGBM] [Warning] min_data_in_leaf is set=11, min_child_samples=20 will be ignored. Current value: min_data_in_leaf=11\n",
      "[LightGBM] [Warning] num_iterations is set=112, num_boost_round=112 will be ignored. Current value: num_iterations=112\n",
      "[LightGBM] [Warning] lambda_l2 is set=0.3149863714170727, reg_lambda=0.0 will be ignored. Current value: lambda_l2=0.3149863714170727\n",
      "[LightGBM] [Warning] feature_fraction is set=0.544634007731615, colsample_bytree=1.0 will be ignored. Current value: feature_fraction=0.544634007731615\n",
      "[LightGBM] [Warning] bagging_fraction is set=0.7092923806403186, subsample=1.0 will be ignored. Current value: bagging_fraction=0.7092923806403186\n"
     ]
    },
    {
     "name": "stderr",
     "output_type": "stream",
     "text": [
      "[I 2023-06-06 16:50:27,453] Trial 94 finished with value: 0.6633064516129032 and parameters: {'max_depth': 8, 'num_boost_round': 112, 'min_data_in_leaf': 11, 'n_estimators': 1702, 'num_leaves': 790, 'learning_rate': 0.02517869368284753, 'feature_fraction': 0.544634007731615, 'bagging_fraction': 0.7092923806403186, 'bagging_freq': 7, 'lambda_l1': 0.27241898925939984, 'lambda_l2': 0.3149863714170727}. Best is trial 26 with value: 0.6733870967741935.\n"
     ]
    },
    {
     "name": "stdout",
     "output_type": "stream",
     "text": [
      "[LightGBM] [Warning] bagging_freq is set=8, subsample_freq=0 will be ignored. Current value: bagging_freq=8\n",
      "[LightGBM] [Warning] lambda_l1 is set=0.4887064460914436, reg_alpha=0.0 will be ignored. Current value: lambda_l1=0.4887064460914436\n",
      "[LightGBM] [Warning] min_data_in_leaf is set=13, min_child_samples=20 will be ignored. Current value: min_data_in_leaf=13\n",
      "[LightGBM] [Warning] num_iterations is set=106, num_boost_round=106 will be ignored. Current value: num_iterations=106\n",
      "[LightGBM] [Warning] lambda_l2 is set=0.41888188457567505, reg_lambda=0.0 will be ignored. Current value: lambda_l2=0.41888188457567505\n",
      "[LightGBM] [Warning] feature_fraction is set=0.6467872547820647, colsample_bytree=1.0 will be ignored. Current value: feature_fraction=0.6467872547820647\n",
      "[LightGBM] [Warning] bagging_fraction is set=0.6875477491582358, subsample=1.0 will be ignored. Current value: bagging_fraction=0.6875477491582358\n"
     ]
    },
    {
     "name": "stderr",
     "output_type": "stream",
     "text": [
      "[I 2023-06-06 16:50:28,571] Trial 95 finished with value: 0.6633064516129032 and parameters: {'max_depth': 8, 'num_boost_round': 106, 'min_data_in_leaf': 13, 'n_estimators': 1502, 'num_leaves': 194, 'learning_rate': 0.030191360403206417, 'feature_fraction': 0.6467872547820647, 'bagging_fraction': 0.6875477491582358, 'bagging_freq': 8, 'lambda_l1': 0.4887064460914436, 'lambda_l2': 0.41888188457567505}. Best is trial 26 with value: 0.6733870967741935.\n"
     ]
    },
    {
     "name": "stdout",
     "output_type": "stream",
     "text": [
      "[LightGBM] [Warning] bagging_freq is set=5, subsample_freq=0 will be ignored. Current value: bagging_freq=5\n",
      "[LightGBM] [Warning] lambda_l1 is set=0.41391038666683105, reg_alpha=0.0 will be ignored. Current value: lambda_l1=0.41391038666683105\n",
      "[LightGBM] [Warning] min_data_in_leaf is set=13, min_child_samples=20 will be ignored. Current value: min_data_in_leaf=13\n",
      "[LightGBM] [Warning] num_iterations is set=100, num_boost_round=100 will be ignored. Current value: num_iterations=100\n",
      "[LightGBM] [Warning] lambda_l2 is set=0.2390801320660226, reg_lambda=0.0 will be ignored. Current value: lambda_l2=0.2390801320660226\n",
      "[LightGBM] [Warning] feature_fraction is set=0.49348600540581244, colsample_bytree=1.0 will be ignored. Current value: feature_fraction=0.49348600540581244\n",
      "[LightGBM] [Warning] bagging_fraction is set=0.7456560087858058, subsample=1.0 will be ignored. Current value: bagging_fraction=0.7456560087858058\n"
     ]
    },
    {
     "name": "stderr",
     "output_type": "stream",
     "text": [
      "[I 2023-06-06 16:50:29,211] Trial 96 finished with value: 0.6592741935483871 and parameters: {'max_depth': 6, 'num_boost_round': 100, 'min_data_in_leaf': 13, 'n_estimators': 1575, 'num_leaves': 302, 'learning_rate': 0.03188963204303432, 'feature_fraction': 0.49348600540581244, 'bagging_fraction': 0.7456560087858058, 'bagging_freq': 5, 'lambda_l1': 0.41391038666683105, 'lambda_l2': 0.2390801320660226}. Best is trial 26 with value: 0.6733870967741935.\n"
     ]
    },
    {
     "name": "stdout",
     "output_type": "stream",
     "text": [
      "[LightGBM] [Warning] bagging_freq is set=6, subsample_freq=0 will be ignored. Current value: bagging_freq=6\n",
      "[LightGBM] [Warning] lambda_l1 is set=0.2918711458189238, reg_alpha=0.0 will be ignored. Current value: lambda_l1=0.2918711458189238\n",
      "[LightGBM] [Warning] min_data_in_leaf is set=12, min_child_samples=20 will be ignored. Current value: min_data_in_leaf=12\n",
      "[LightGBM] [Warning] num_iterations is set=129, num_boost_round=129 will be ignored. Current value: num_iterations=129\n",
      "[LightGBM] [Warning] lambda_l2 is set=0.7549455291629489, reg_lambda=0.0 will be ignored. Current value: lambda_l2=0.7549455291629489\n",
      "[LightGBM] [Warning] feature_fraction is set=0.5210516804745345, colsample_bytree=1.0 will be ignored. Current value: feature_fraction=0.5210516804745345\n",
      "[LightGBM] [Warning] bagging_fraction is set=0.7987201984246936, subsample=1.0 will be ignored. Current value: bagging_fraction=0.7987201984246936\n"
     ]
    },
    {
     "name": "stderr",
     "output_type": "stream",
     "text": [
      "[I 2023-06-06 16:50:30,551] Trial 97 finished with value: 0.6653225806451613 and parameters: {'max_depth': 8, 'num_boost_round': 129, 'min_data_in_leaf': 12, 'n_estimators': 1781, 'num_leaves': 124, 'learning_rate': 0.027826977589801433, 'feature_fraction': 0.5210516804745345, 'bagging_fraction': 0.7987201984246936, 'bagging_freq': 6, 'lambda_l1': 0.2918711458189238, 'lambda_l2': 0.7549455291629489}. Best is trial 26 with value: 0.6733870967741935.\n"
     ]
    },
    {
     "name": "stdout",
     "output_type": "stream",
     "text": [
      "[LightGBM] [Warning] bagging_freq is set=4, subsample_freq=0 will be ignored. Current value: bagging_freq=4\n",
      "[LightGBM] [Warning] lambda_l1 is set=0.34296083297680635, reg_alpha=0.0 will be ignored. Current value: lambda_l1=0.34296083297680635\n",
      "[LightGBM] [Warning] min_data_in_leaf is set=17, min_child_samples=20 will be ignored. Current value: min_data_in_leaf=17\n",
      "[LightGBM] [Warning] num_iterations is set=122, num_boost_round=122 will be ignored. Current value: num_iterations=122\n",
      "[LightGBM] [Warning] lambda_l2 is set=0.6100908659829581, reg_lambda=0.0 will be ignored. Current value: lambda_l2=0.6100908659829581\n",
      "[LightGBM] [Warning] feature_fraction is set=0.45199897262998073, colsample_bytree=1.0 will be ignored. Current value: feature_fraction=0.45199897262998073\n",
      "[LightGBM] [Warning] bagging_fraction is set=0.7684449252523967, subsample=1.0 will be ignored. Current value: bagging_fraction=0.7684449252523967\n"
     ]
    },
    {
     "name": "stderr",
     "output_type": "stream",
     "text": [
      "[I 2023-06-06 16:50:31,587] Trial 98 finished with value: 0.6612903225806451 and parameters: {'max_depth': 8, 'num_boost_round': 122, 'min_data_in_leaf': 17, 'n_estimators': 843, 'num_leaves': 253, 'learning_rate': 0.02449375946190604, 'feature_fraction': 0.45199897262998073, 'bagging_fraction': 0.7684449252523967, 'bagging_freq': 4, 'lambda_l1': 0.34296083297680635, 'lambda_l2': 0.6100908659829581}. Best is trial 26 with value: 0.6733870967741935.\n"
     ]
    },
    {
     "name": "stdout",
     "output_type": "stream",
     "text": [
      "[LightGBM] [Warning] bagging_freq is set=6, subsample_freq=0 will be ignored. Current value: bagging_freq=6\n",
      "[LightGBM] [Warning] lambda_l1 is set=0.6276063501202217, reg_alpha=0.0 will be ignored. Current value: lambda_l1=0.6276063501202217\n",
      "[LightGBM] [Warning] min_data_in_leaf is set=18, min_child_samples=20 will be ignored. Current value: min_data_in_leaf=18\n",
      "[LightGBM] [Warning] num_iterations is set=189, num_boost_round=189 will be ignored. Current value: num_iterations=189\n",
      "[LightGBM] [Warning] lambda_l2 is set=0.2808707938522795, reg_lambda=0.0 will be ignored. Current value: lambda_l2=0.2808707938522795\n",
      "[LightGBM] [Warning] feature_fraction is set=0.5786011090453312, colsample_bytree=1.0 will be ignored. Current value: feature_fraction=0.5786011090453312\n",
      "[LightGBM] [Warning] bagging_fraction is set=0.7292804052804636, subsample=1.0 will be ignored. Current value: bagging_fraction=0.7292804052804636\n"
     ]
    },
    {
     "name": "stderr",
     "output_type": "stream",
     "text": [
      "[I 2023-06-06 16:50:33,198] Trial 99 finished with value: 0.655241935483871 and parameters: {'max_depth': 8, 'num_boost_round': 189, 'min_data_in_leaf': 18, 'n_estimators': 1363, 'num_leaves': 58, 'learning_rate': 0.02632214095758283, 'feature_fraction': 0.5786011090453312, 'bagging_fraction': 0.7292804052804636, 'bagging_freq': 6, 'lambda_l1': 0.6276063501202217, 'lambda_l2': 0.2808707938522795}. Best is trial 26 with value: 0.6733870967741935.\n"
     ]
    },
    {
     "name": "stdout",
     "output_type": "stream",
     "text": [
      "[LightGBM] [Warning] bagging_freq is set=5, subsample_freq=0 will be ignored. Current value: bagging_freq=5\n",
      "[LightGBM] [Warning] lambda_l1 is set=0.47699216789947263, reg_alpha=0.0 will be ignored. Current value: lambda_l1=0.47699216789947263\n",
      "[LightGBM] [Warning] min_data_in_leaf is set=15, min_child_samples=20 will be ignored. Current value: min_data_in_leaf=15\n",
      "[LightGBM] [Warning] num_iterations is set=119, num_boost_round=119 will be ignored. Current value: num_iterations=119\n",
      "[LightGBM] [Warning] lambda_l2 is set=0.9921105432062315, reg_lambda=0.0 will be ignored. Current value: lambda_l2=0.9921105432062315\n",
      "[LightGBM] [Warning] feature_fraction is set=0.5490408587033238, colsample_bytree=1.0 will be ignored. Current value: feature_fraction=0.5490408587033238\n",
      "[LightGBM] [Warning] bagging_fraction is set=0.7864982793183833, subsample=1.0 will be ignored. Current value: bagging_fraction=0.7864982793183833\n"
     ]
    },
    {
     "name": "stderr",
     "output_type": "stream",
     "text": [
      "[I 2023-06-06 16:50:34,185] Trial 100 finished with value: 0.655241935483871 and parameters: {'max_depth': 7, 'num_boost_round': 119, 'min_data_in_leaf': 15, 'n_estimators': 202, 'num_leaves': 492, 'learning_rate': 0.03526362770921549, 'feature_fraction': 0.5490408587033238, 'bagging_fraction': 0.7864982793183833, 'bagging_freq': 5, 'lambda_l1': 0.47699216789947263, 'lambda_l2': 0.9921105432062315}. Best is trial 26 with value: 0.6733870967741935.\n"
     ]
    },
    {
     "name": "stdout",
     "output_type": "stream",
     "text": [
      "[LightGBM] [Warning] bagging_freq is set=5, subsample_freq=0 will be ignored. Current value: bagging_freq=5\n",
      "[LightGBM] [Warning] lambda_l1 is set=0.3784797097402249, reg_alpha=0.0 will be ignored. Current value: lambda_l1=0.3784797097402249\n",
      "[LightGBM] [Warning] min_data_in_leaf is set=18, min_child_samples=20 will be ignored. Current value: min_data_in_leaf=18\n",
      "[LightGBM] [Warning] num_iterations is set=114, num_boost_round=114 will be ignored. Current value: num_iterations=114\n",
      "[LightGBM] [Warning] lambda_l2 is set=0.6387535747865267, reg_lambda=0.0 will be ignored. Current value: lambda_l2=0.6387535747865267\n",
      "[LightGBM] [Warning] feature_fraction is set=0.5046854967859151, colsample_bytree=1.0 will be ignored. Current value: feature_fraction=0.5046854967859151\n",
      "[LightGBM] [Warning] bagging_fraction is set=0.7430824817105153, subsample=1.0 will be ignored. Current value: bagging_fraction=0.7430824817105153\n"
     ]
    },
    {
     "name": "stderr",
     "output_type": "stream",
     "text": [
      "[I 2023-06-06 16:50:35,206] Trial 101 finished with value: 0.6633064516129032 and parameters: {'max_depth': 8, 'num_boost_round': 114, 'min_data_in_leaf': 18, 'n_estimators': 1551, 'num_leaves': 200, 'learning_rate': 0.037738957668006806, 'feature_fraction': 0.5046854967859151, 'bagging_fraction': 0.7430824817105153, 'bagging_freq': 5, 'lambda_l1': 0.3784797097402249, 'lambda_l2': 0.6387535747865267}. Best is trial 26 with value: 0.6733870967741935.\n"
     ]
    },
    {
     "name": "stdout",
     "output_type": "stream",
     "text": [
      "[LightGBM] [Warning] bagging_freq is set=5, subsample_freq=0 will be ignored. Current value: bagging_freq=5\n",
      "[LightGBM] [Warning] lambda_l1 is set=0.4149550896624401, reg_alpha=0.0 will be ignored. Current value: lambda_l1=0.4149550896624401\n",
      "[LightGBM] [Warning] min_data_in_leaf is set=19, min_child_samples=20 will be ignored. Current value: min_data_in_leaf=19\n",
      "[LightGBM] [Warning] num_iterations is set=108, num_boost_round=108 will be ignored. Current value: num_iterations=108\n",
      "[LightGBM] [Warning] lambda_l2 is set=0.5635881312026487, reg_lambda=0.0 will be ignored. Current value: lambda_l2=0.5635881312026487\n",
      "[LightGBM] [Warning] feature_fraction is set=0.42216892695644903, colsample_bytree=1.0 will be ignored. Current value: feature_fraction=0.42216892695644903\n",
      "[LightGBM] [Warning] bagging_fraction is set=0.7510148647460922, subsample=1.0 will be ignored. Current value: bagging_fraction=0.7510148647460922\n"
     ]
    },
    {
     "name": "stderr",
     "output_type": "stream",
     "text": [
      "[I 2023-06-06 16:50:36,068] Trial 102 finished with value: 0.6612903225806451 and parameters: {'max_depth': 8, 'num_boost_round': 108, 'min_data_in_leaf': 19, 'n_estimators': 1471, 'num_leaves': 239, 'learning_rate': 0.033343458473456766, 'feature_fraction': 0.42216892695644903, 'bagging_fraction': 0.7510148647460922, 'bagging_freq': 5, 'lambda_l1': 0.4149550896624401, 'lambda_l2': 0.5635881312026487}. Best is trial 26 with value: 0.6733870967741935.\n"
     ]
    },
    {
     "name": "stdout",
     "output_type": "stream",
     "text": [
      "[LightGBM] [Warning] bagging_freq is set=4, subsample_freq=0 will be ignored. Current value: bagging_freq=4\n",
      "[LightGBM] [Warning] lambda_l1 is set=0.5356982820667657, reg_alpha=0.0 will be ignored. Current value: lambda_l1=0.5356982820667657\n",
      "[LightGBM] [Warning] min_data_in_leaf is set=18, min_child_samples=20 will be ignored. Current value: min_data_in_leaf=18\n",
      "[LightGBM] [Warning] num_iterations is set=136, num_boost_round=136 will be ignored. Current value: num_iterations=136\n",
      "[LightGBM] [Warning] lambda_l2 is set=0.6349933363852127, reg_lambda=0.0 will be ignored. Current value: lambda_l2=0.6349933363852127\n",
      "[LightGBM] [Warning] feature_fraction is set=0.4655307485429837, colsample_bytree=1.0 will be ignored. Current value: feature_fraction=0.4655307485429837\n",
      "[LightGBM] [Warning] bagging_fraction is set=0.7109722511948742, subsample=1.0 will be ignored. Current value: bagging_fraction=0.7109722511948742\n"
     ]
    },
    {
     "name": "stderr",
     "output_type": "stream",
     "text": [
      "[I 2023-06-06 16:50:37,134] Trial 103 finished with value: 0.657258064516129 and parameters: {'max_depth': 8, 'num_boost_round': 136, 'min_data_in_leaf': 18, 'n_estimators': 937, 'num_leaves': 147, 'learning_rate': 0.03670059334255283, 'feature_fraction': 0.4655307485429837, 'bagging_fraction': 0.7109722511948742, 'bagging_freq': 4, 'lambda_l1': 0.5356982820667657, 'lambda_l2': 0.6349933363852127}. Best is trial 26 with value: 0.6733870967741935.\n"
     ]
    },
    {
     "name": "stdout",
     "output_type": "stream",
     "text": [
      "[LightGBM] [Warning] bagging_freq is set=5, subsample_freq=0 will be ignored. Current value: bagging_freq=5\n",
      "[LightGBM] [Warning] lambda_l1 is set=0.3593265113366232, reg_alpha=0.0 will be ignored. Current value: lambda_l1=0.3593265113366232\n",
      "[LightGBM] [Warning] min_data_in_leaf is set=17, min_child_samples=20 will be ignored. Current value: min_data_in_leaf=17\n",
      "[LightGBM] [Warning] num_iterations is set=265, num_boost_round=265 will be ignored. Current value: num_iterations=265\n",
      "[LightGBM] [Warning] lambda_l2 is set=0.8179732612908008, reg_lambda=0.0 will be ignored. Current value: lambda_l2=0.8179732612908008\n",
      "[LightGBM] [Warning] feature_fraction is set=0.4387427277289575, colsample_bytree=1.0 will be ignored. Current value: feature_fraction=0.4387427277289575\n",
      "[LightGBM] [Warning] bagging_fraction is set=0.7651767400177198, subsample=1.0 will be ignored. Current value: bagging_fraction=0.7651767400177198\n"
     ]
    },
    {
     "name": "stderr",
     "output_type": "stream",
     "text": [
      "[I 2023-06-06 16:50:39,395] Trial 104 finished with value: 0.6612903225806451 and parameters: {'max_depth': 8, 'num_boost_round': 265, 'min_data_in_leaf': 17, 'n_estimators': 1604, 'num_leaves': 873, 'learning_rate': 0.030558624307183934, 'feature_fraction': 0.4387427277289575, 'bagging_fraction': 0.7651767400177198, 'bagging_freq': 5, 'lambda_l1': 0.3593265113366232, 'lambda_l2': 0.8179732612908008}. Best is trial 26 with value: 0.6733870967741935.\n"
     ]
    },
    {
     "name": "stdout",
     "output_type": "stream",
     "text": [
      "[LightGBM] [Warning] bagging_freq is set=3, subsample_freq=0 will be ignored. Current value: bagging_freq=3\n",
      "[LightGBM] [Warning] lambda_l1 is set=0.31236291272393446, reg_alpha=0.0 will be ignored. Current value: lambda_l1=0.31236291272393446\n",
      "[LightGBM] [Warning] min_data_in_leaf is set=19, min_child_samples=20 will be ignored. Current value: min_data_in_leaf=19\n",
      "[LightGBM] [Warning] num_iterations is set=127, num_boost_round=127 will be ignored. Current value: num_iterations=127\n",
      "[LightGBM] [Warning] lambda_l2 is set=0.47645168884542916, reg_lambda=0.0 will be ignored. Current value: lambda_l2=0.47645168884542916\n",
      "[LightGBM] [Warning] feature_fraction is set=0.4846672856123926, colsample_bytree=1.0 will be ignored. Current value: feature_fraction=0.4846672856123926\n",
      "[LightGBM] [Warning] bagging_fraction is set=0.7355745297308266, subsample=1.0 will be ignored. Current value: bagging_fraction=0.7355745297308266\n"
     ]
    },
    {
     "name": "stderr",
     "output_type": "stream",
     "text": [
      "[I 2023-06-06 16:50:40,434] Trial 105 finished with value: 0.6612903225806451 and parameters: {'max_depth': 8, 'num_boost_round': 127, 'min_data_in_leaf': 19, 'n_estimators': 1666, 'num_leaves': 337, 'learning_rate': 0.039750106729830204, 'feature_fraction': 0.4846672856123926, 'bagging_fraction': 0.7355745297308266, 'bagging_freq': 3, 'lambda_l1': 0.31236291272393446, 'lambda_l2': 0.47645168884542916}. Best is trial 26 with value: 0.6733870967741935.\n"
     ]
    },
    {
     "name": "stdout",
     "output_type": "stream",
     "text": [
      "[LightGBM] [Warning] bagging_freq is set=2, subsample_freq=0 will be ignored. Current value: bagging_freq=2\n",
      "[LightGBM] [Warning] lambda_l1 is set=0.2567858385286173, reg_alpha=0.0 will be ignored. Current value: lambda_l1=0.2567858385286173\n",
      "[LightGBM] [Warning] min_data_in_leaf is set=16, min_child_samples=20 will be ignored. Current value: min_data_in_leaf=16\n",
      "[LightGBM] [Warning] num_iterations is set=117, num_boost_round=117 will be ignored. Current value: num_iterations=117\n",
      "[LightGBM] [Warning] lambda_l2 is set=0.35806339647656715, reg_lambda=0.0 will be ignored. Current value: lambda_l2=0.35806339647656715\n",
      "[LightGBM] [Warning] feature_fraction is set=0.5291223177914397, colsample_bytree=1.0 will be ignored. Current value: feature_fraction=0.5291223177914397\n",
      "[LightGBM] [Warning] bagging_fraction is set=0.6964337165437678, subsample=1.0 will be ignored. Current value: bagging_fraction=0.6964337165437678\n"
     ]
    },
    {
     "name": "stderr",
     "output_type": "stream",
     "text": [
      "[I 2023-06-06 16:50:41,174] Trial 106 finished with value: 0.6592741935483871 and parameters: {'max_depth': 6, 'num_boost_round': 117, 'min_data_in_leaf': 16, 'n_estimators': 1294, 'num_leaves': 428, 'learning_rate': 0.03786866516969141, 'feature_fraction': 0.5291223177914397, 'bagging_fraction': 0.6964337165437678, 'bagging_freq': 2, 'lambda_l1': 0.2567858385286173, 'lambda_l2': 0.35806339647656715}. Best is trial 26 with value: 0.6733870967741935.\n"
     ]
    },
    {
     "name": "stdout",
     "output_type": "stream",
     "text": [
      "[LightGBM] [Warning] bagging_freq is set=4, subsample_freq=0 will be ignored. Current value: bagging_freq=4\n",
      "[LightGBM] [Warning] lambda_l1 is set=0.45674359191819686, reg_alpha=0.0 will be ignored. Current value: lambda_l1=0.45674359191819686\n",
      "[LightGBM] [Warning] min_data_in_leaf is set=17, min_child_samples=20 will be ignored. Current value: min_data_in_leaf=17\n",
      "[LightGBM] [Warning] num_iterations is set=104, num_boost_round=104 will be ignored. Current value: num_iterations=104\n",
      "[LightGBM] [Warning] lambda_l2 is set=0.6956891200431768, reg_lambda=0.0 will be ignored. Current value: lambda_l2=0.6956891200431768\n",
      "[LightGBM] [Warning] feature_fraction is set=0.47009506463123796, colsample_bytree=1.0 will be ignored. Current value: feature_fraction=0.47009506463123796\n",
      "[LightGBM] [Warning] bagging_fraction is set=0.6683456768236556, subsample=1.0 will be ignored. Current value: bagging_fraction=0.6683456768236556\n"
     ]
    },
    {
     "name": "stderr",
     "output_type": "stream",
     "text": [
      "[I 2023-06-06 16:50:42,029] Trial 107 finished with value: 0.6653225806451613 and parameters: {'max_depth': 8, 'num_boost_round': 104, 'min_data_in_leaf': 17, 'n_estimators': 1235, 'num_leaves': 102, 'learning_rate': 0.03357984517031004, 'feature_fraction': 0.47009506463123796, 'bagging_fraction': 0.6683456768236556, 'bagging_freq': 4, 'lambda_l1': 0.45674359191819686, 'lambda_l2': 0.6956891200431768}. Best is trial 26 with value: 0.6733870967741935.\n"
     ]
    },
    {
     "name": "stdout",
     "output_type": "stream",
     "text": [
      "[LightGBM] [Warning] bagging_freq is set=6, subsample_freq=0 will be ignored. Current value: bagging_freq=6\n",
      "[LightGBM] [Warning] lambda_l1 is set=0.5836789609462982, reg_alpha=0.0 will be ignored. Current value: lambda_l1=0.5836789609462982\n",
      "[LightGBM] [Warning] min_data_in_leaf is set=20, min_child_samples=20 will be ignored. Current value: min_data_in_leaf=20\n",
      "[LightGBM] [Warning] num_iterations is set=112, num_boost_round=112 will be ignored. Current value: num_iterations=112\n",
      "[LightGBM] [Warning] lambda_l2 is set=0.5390207760930084, reg_lambda=0.0 will be ignored. Current value: lambda_l2=0.5390207760930084\n",
      "[LightGBM] [Warning] feature_fraction is set=0.4581065269288922, colsample_bytree=1.0 will be ignored. Current value: feature_fraction=0.4581065269288922\n",
      "[LightGBM] [Warning] bagging_fraction is set=0.7725807246173382, subsample=1.0 will be ignored. Current value: bagging_fraction=0.7725807246173382\n"
     ]
    },
    {
     "name": "stderr",
     "output_type": "stream",
     "text": [
      "[I 2023-06-06 16:50:42,952] Trial 108 finished with value: 0.6633064516129032 and parameters: {'max_depth': 8, 'num_boost_round': 112, 'min_data_in_leaf': 20, 'n_estimators': 1857, 'num_leaves': 172, 'learning_rate': 0.035786323985782756, 'feature_fraction': 0.4581065269288922, 'bagging_fraction': 0.7725807246173382, 'bagging_freq': 6, 'lambda_l1': 0.5836789609462982, 'lambda_l2': 0.5390207760930084}. Best is trial 26 with value: 0.6733870967741935.\n"
     ]
    },
    {
     "name": "stdout",
     "output_type": "stream",
     "text": [
      "[LightGBM] [Warning] bagging_freq is set=7, subsample_freq=0 will be ignored. Current value: bagging_freq=7\n",
      "[LightGBM] [Warning] lambda_l1 is set=0.7278367799419908, reg_alpha=0.0 will be ignored. Current value: lambda_l1=0.7278367799419908\n",
      "[LightGBM] [Warning] min_data_in_leaf is set=18, min_child_samples=20 will be ignored. Current value: min_data_in_leaf=18\n",
      "[LightGBM] [Warning] num_iterations is set=214, num_boost_round=214 will be ignored. Current value: num_iterations=214\n",
      "[LightGBM] [Warning] lambda_l2 is set=0.4327301591971603, reg_lambda=0.0 will be ignored. Current value: lambda_l2=0.4327301591971603\n",
      "[LightGBM] [Warning] feature_fraction is set=0.4873937160778965, colsample_bytree=1.0 will be ignored. Current value: feature_fraction=0.4873937160778965\n",
      "[LightGBM] [Warning] bagging_fraction is set=0.7846060927720997, subsample=1.0 will be ignored. Current value: bagging_fraction=0.7846060927720997\n"
     ]
    },
    {
     "name": "stderr",
     "output_type": "stream",
     "text": [
      "[I 2023-06-06 16:50:44,567] Trial 109 finished with value: 0.6612903225806451 and parameters: {'max_depth': 7, 'num_boost_round': 214, 'min_data_in_leaf': 18, 'n_estimators': 1588, 'num_leaves': 42, 'learning_rate': 0.02947100515552063, 'feature_fraction': 0.4873937160778965, 'bagging_fraction': 0.7846060927720997, 'bagging_freq': 7, 'lambda_l1': 0.7278367799419908, 'lambda_l2': 0.4327301591971603}. Best is trial 26 with value: 0.6733870967741935.\n"
     ]
    },
    {
     "name": "stdout",
     "output_type": "stream",
     "text": [
      "[LightGBM] [Warning] bagging_freq is set=5, subsample_freq=0 will be ignored. Current value: bagging_freq=5\n",
      "[LightGBM] [Warning] lambda_l1 is set=0.19336008331419055, reg_alpha=0.0 will be ignored. Current value: lambda_l1=0.19336008331419055\n",
      "[LightGBM] [Warning] min_data_in_leaf is set=18, min_child_samples=20 will be ignored. Current value: min_data_in_leaf=18\n",
      "[LightGBM] [Warning] num_iterations is set=134, num_boost_round=134 will be ignored. Current value: num_iterations=134\n",
      "[LightGBM] [Warning] lambda_l2 is set=0.3983508706524473, reg_lambda=0.0 will be ignored. Current value: lambda_l2=0.3983508706524473\n",
      "[LightGBM] [Warning] feature_fraction is set=0.5104626979194362, colsample_bytree=1.0 will be ignored. Current value: feature_fraction=0.5104626979194362\n",
      "[LightGBM] [Warning] bagging_fraction is set=0.748465828419998, subsample=1.0 will be ignored. Current value: bagging_fraction=0.748465828419998\n"
     ]
    },
    {
     "name": "stderr",
     "output_type": "stream",
     "text": [
      "[I 2023-06-06 16:50:45,767] Trial 110 finished with value: 0.6733870967741935 and parameters: {'max_depth': 8, 'num_boost_round': 134, 'min_data_in_leaf': 18, 'n_estimators': 998, 'num_leaves': 287, 'learning_rate': 0.03205297917139936, 'feature_fraction': 0.5104626979194362, 'bagging_fraction': 0.748465828419998, 'bagging_freq': 5, 'lambda_l1': 0.19336008331419055, 'lambda_l2': 0.3983508706524473}. Best is trial 26 with value: 0.6733870967741935.\n"
     ]
    },
    {
     "name": "stdout",
     "output_type": "stream",
     "text": [
      "[LightGBM] [Warning] bagging_freq is set=5, subsample_freq=0 will be ignored. Current value: bagging_freq=5\n",
      "[LightGBM] [Warning] lambda_l1 is set=0.18339008221011704, reg_alpha=0.0 will be ignored. Current value: lambda_l1=0.18339008221011704\n",
      "[LightGBM] [Warning] min_data_in_leaf is set=18, min_child_samples=20 will be ignored. Current value: min_data_in_leaf=18\n",
      "[LightGBM] [Warning] num_iterations is set=133, num_boost_round=133 will be ignored. Current value: num_iterations=133\n",
      "[LightGBM] [Warning] lambda_l2 is set=0.3944150561222984, reg_lambda=0.0 will be ignored. Current value: lambda_l2=0.3944150561222984\n",
      "[LightGBM] [Warning] feature_fraction is set=0.5116200878075372, colsample_bytree=1.0 will be ignored. Current value: feature_fraction=0.5116200878075372\n",
      "[LightGBM] [Warning] bagging_fraction is set=0.7510001856737404, subsample=1.0 will be ignored. Current value: bagging_fraction=0.7510001856737404\n"
     ]
    },
    {
     "name": "stderr",
     "output_type": "stream",
     "text": [
      "[I 2023-06-06 16:50:46,982] Trial 111 finished with value: 0.657258064516129 and parameters: {'max_depth': 8, 'num_boost_round': 133, 'min_data_in_leaf': 18, 'n_estimators': 979, 'num_leaves': 291, 'learning_rate': 0.032485515170012226, 'feature_fraction': 0.5116200878075372, 'bagging_fraction': 0.7510001856737404, 'bagging_freq': 5, 'lambda_l1': 0.18339008221011704, 'lambda_l2': 0.3944150561222984}. Best is trial 26 with value: 0.6733870967741935.\n"
     ]
    },
    {
     "name": "stdout",
     "output_type": "stream",
     "text": [
      "[LightGBM] [Warning] bagging_freq is set=5, subsample_freq=0 will be ignored. Current value: bagging_freq=5\n",
      "[LightGBM] [Warning] lambda_l1 is set=0.40269456744139426, reg_alpha=0.0 will be ignored. Current value: lambda_l1=0.40269456744139426\n",
      "[LightGBM] [Warning] min_data_in_leaf is set=18, min_child_samples=20 will be ignored. Current value: min_data_in_leaf=18\n",
      "[LightGBM] [Warning] num_iterations is set=122, num_boost_round=122 will be ignored. Current value: num_iterations=122\n",
      "[LightGBM] [Warning] lambda_l2 is set=0.32142027280755553, reg_lambda=0.0 will be ignored. Current value: lambda_l2=0.32142027280755553\n",
      "[LightGBM] [Warning] feature_fraction is set=0.5298669125261245, colsample_bytree=1.0 will be ignored. Current value: feature_fraction=0.5298669125261245\n",
      "[LightGBM] [Warning] bagging_fraction is set=0.726394821037184, subsample=1.0 will be ignored. Current value: bagging_fraction=0.726394821037184\n"
     ]
    },
    {
     "name": "stderr",
     "output_type": "stream",
     "text": [
      "[I 2023-06-06 16:50:48,049] Trial 112 finished with value: 0.6653225806451613 and parameters: {'max_depth': 8, 'num_boost_round': 122, 'min_data_in_leaf': 18, 'n_estimators': 901, 'num_leaves': 386, 'learning_rate': 0.027904050605394717, 'feature_fraction': 0.5298669125261245, 'bagging_fraction': 0.726394821037184, 'bagging_freq': 5, 'lambda_l1': 0.40269456744139426, 'lambda_l2': 0.32142027280755553}. Best is trial 26 with value: 0.6733870967741935.\n"
     ]
    },
    {
     "name": "stdout",
     "output_type": "stream",
     "text": [
      "[LightGBM] [Warning] bagging_freq is set=9, subsample_freq=0 will be ignored. Current value: bagging_freq=9\n",
      "[LightGBM] [Warning] lambda_l1 is set=0.28159576663703617, reg_alpha=0.0 will be ignored. Current value: lambda_l1=0.28159576663703617\n",
      "[LightGBM] [Warning] min_data_in_leaf is set=19, min_child_samples=20 will be ignored. Current value: min_data_in_leaf=19\n",
      "[LightGBM] [Warning] num_iterations is set=158, num_boost_round=158 will be ignored. Current value: num_iterations=158\n",
      "[LightGBM] [Warning] lambda_l2 is set=0.4924728783496412, reg_lambda=0.0 will be ignored. Current value: lambda_l2=0.4924728783496412\n",
      "[LightGBM] [Warning] feature_fraction is set=0.49562178603198215, colsample_bytree=1.0 will be ignored. Current value: feature_fraction=0.49562178603198215\n",
      "[LightGBM] [Warning] bagging_fraction is set=0.7991001417287342, subsample=1.0 will be ignored. Current value: bagging_fraction=0.7991001417287342\n"
     ]
    },
    {
     "name": "stderr",
     "output_type": "stream",
     "text": [
      "[I 2023-06-06 16:50:49,412] Trial 113 finished with value: 0.6612903225806451 and parameters: {'max_depth': 8, 'num_boost_round': 158, 'min_data_in_leaf': 19, 'n_estimators': 1712, 'num_leaves': 238, 'learning_rate': 0.030647111804206744, 'feature_fraction': 0.49562178603198215, 'bagging_fraction': 0.7991001417287342, 'bagging_freq': 9, 'lambda_l1': 0.28159576663703617, 'lambda_l2': 0.4924728783496412}. Best is trial 26 with value: 0.6733870967741935.\n"
     ]
    },
    {
     "name": "stdout",
     "output_type": "stream",
     "text": [
      "[LightGBM] [Warning] bagging_freq is set=5, subsample_freq=0 will be ignored. Current value: bagging_freq=5\n",
      "[LightGBM] [Warning] lambda_l1 is set=0.22720152216827122, reg_alpha=0.0 will be ignored. Current value: lambda_l1=0.22720152216827122\n",
      "[LightGBM] [Warning] min_data_in_leaf is set=16, min_child_samples=20 will be ignored. Current value: min_data_in_leaf=16\n",
      "[LightGBM] [Warning] num_iterations is set=148, num_boost_round=148 will be ignored. Current value: num_iterations=148\n",
      "[LightGBM] [Warning] lambda_l2 is set=0.45195884602554814, reg_lambda=0.0 will be ignored. Current value: lambda_l2=0.45195884602554814\n",
      "[LightGBM] [Warning] feature_fraction is set=0.5590042696474418, colsample_bytree=1.0 will be ignored. Current value: feature_fraction=0.5590042696474418\n",
      "[LightGBM] [Warning] bagging_fraction is set=0.7654233407967478, subsample=1.0 will be ignored. Current value: bagging_fraction=0.7654233407967478\n"
     ]
    },
    {
     "name": "stderr",
     "output_type": "stream",
     "text": [
      "[I 2023-06-06 16:50:50,885] Trial 114 finished with value: 0.6612903225806451 and parameters: {'max_depth': 8, 'num_boost_round': 148, 'min_data_in_leaf': 16, 'n_estimators': 1034, 'num_leaves': 1144, 'learning_rate': 0.03518462206925392, 'feature_fraction': 0.5590042696474418, 'bagging_fraction': 0.7654233407967478, 'bagging_freq': 5, 'lambda_l1': 0.22720152216827122, 'lambda_l2': 0.45195884602554814}. Best is trial 26 with value: 0.6733870967741935.\n"
     ]
    },
    {
     "name": "stdout",
     "output_type": "stream",
     "text": [
      "[LightGBM] [Warning] bagging_freq is set=4, subsample_freq=0 will be ignored. Current value: bagging_freq=4\n",
      "[LightGBM] [Warning] lambda_l1 is set=0.3421039471041558, reg_alpha=0.0 will be ignored. Current value: lambda_l1=0.3421039471041558\n",
      "[LightGBM] [Warning] min_data_in_leaf is set=17, min_child_samples=20 will be ignored. Current value: min_data_in_leaf=17\n",
      "[LightGBM] [Warning] num_iterations is set=142, num_boost_round=142 will be ignored. Current value: num_iterations=142\n",
      "[LightGBM] [Warning] lambda_l2 is set=0.7612610021730081, reg_lambda=0.0 will be ignored. Current value: lambda_l2=0.7612610021730081\n",
      "[LightGBM] [Warning] feature_fraction is set=0.5118363690013649, colsample_bytree=1.0 will be ignored. Current value: feature_fraction=0.5118363690013649\n",
      "[LightGBM] [Warning] bagging_fraction is set=0.7105429263734129, subsample=1.0 will be ignored. Current value: bagging_fraction=0.7105429263734129\n"
     ]
    },
    {
     "name": "stderr",
     "output_type": "stream",
     "text": [
      "[I 2023-06-06 16:50:51,749] Trial 115 finished with value: 0.6592741935483871 and parameters: {'max_depth': 6, 'num_boost_round': 142, 'min_data_in_leaf': 17, 'n_estimators': 775, 'num_leaves': 743, 'learning_rate': 0.03178575226761518, 'feature_fraction': 0.5118363690013649, 'bagging_fraction': 0.7105429263734129, 'bagging_freq': 4, 'lambda_l1': 0.3421039471041558, 'lambda_l2': 0.7612610021730081}. Best is trial 26 with value: 0.6733870967741935.\n"
     ]
    },
    {
     "name": "stdout",
     "output_type": "stream",
     "text": [
      "[LightGBM] [Warning] bagging_freq is set=6, subsample_freq=0 will be ignored. Current value: bagging_freq=6\n",
      "[LightGBM] [Warning] lambda_l1 is set=0.47013917344372647, reg_alpha=0.0 will be ignored. Current value: lambda_l1=0.47013917344372647\n",
      "[LightGBM] [Warning] min_data_in_leaf is set=18, min_child_samples=20 will be ignored. Current value: min_data_in_leaf=18\n",
      "[LightGBM] [Warning] num_iterations is set=175, num_boost_round=175 will be ignored. Current value: num_iterations=175\n",
      "[LightGBM] [Warning] lambda_l2 is set=0.5888681934947255, reg_lambda=0.0 will be ignored. Current value: lambda_l2=0.5888681934947255\n",
      "[LightGBM] [Warning] feature_fraction is set=0.44588357463459105, colsample_bytree=1.0 will be ignored. Current value: feature_fraction=0.44588357463459105\n",
      "[LightGBM] [Warning] bagging_fraction is set=0.7412883966071743, subsample=1.0 will be ignored. Current value: bagging_fraction=0.7412883966071743\n"
     ]
    },
    {
     "name": "stderr",
     "output_type": "stream",
     "text": [
      "[I 2023-06-06 16:50:53,146] Trial 116 finished with value: 0.6653225806451613 and parameters: {'max_depth': 8, 'num_boost_round': 175, 'min_data_in_leaf': 18, 'n_estimators': 1530, 'num_leaves': 199, 'learning_rate': 0.04038430619812198, 'feature_fraction': 0.44588357463459105, 'bagging_fraction': 0.7412883966071743, 'bagging_freq': 6, 'lambda_l1': 0.47013917344372647, 'lambda_l2': 0.5888681934947255}. Best is trial 26 with value: 0.6733870967741935.\n"
     ]
    },
    {
     "name": "stdout",
     "output_type": "stream",
     "text": [
      "[LightGBM] [Warning] bagging_freq is set=5, subsample_freq=0 will be ignored. Current value: bagging_freq=5\n",
      "[LightGBM] [Warning] lambda_l1 is set=0.5280485797099476, reg_alpha=0.0 will be ignored. Current value: lambda_l1=0.5280485797099476\n",
      "[LightGBM] [Warning] min_data_in_leaf is set=17, min_child_samples=20 will be ignored. Current value: min_data_in_leaf=17\n",
      "[LightGBM] [Warning] num_iterations is set=126, num_boost_round=126 will be ignored. Current value: num_iterations=126\n",
      "[LightGBM] [Warning] lambda_l2 is set=0.34905912396741307, reg_lambda=0.0 will be ignored. Current value: lambda_l2=0.34905912396741307\n",
      "[LightGBM] [Warning] feature_fraction is set=0.4036037510814583, colsample_bytree=1.0 will be ignored. Current value: feature_fraction=0.4036037510814583\n",
      "[LightGBM] [Warning] bagging_fraction is set=0.7749603651743497, subsample=1.0 will be ignored. Current value: bagging_fraction=0.7749603651743497\n"
     ]
    },
    {
     "name": "stderr",
     "output_type": "stream",
     "text": [
      "[I 2023-06-06 16:50:54,168] Trial 117 finished with value: 0.6673387096774194 and parameters: {'max_depth': 8, 'num_boost_round': 126, 'min_data_in_leaf': 17, 'n_estimators': 1039, 'num_leaves': 107, 'learning_rate': 0.026070702971340443, 'feature_fraction': 0.4036037510814583, 'bagging_fraction': 0.7749603651743497, 'bagging_freq': 5, 'lambda_l1': 0.5280485797099476, 'lambda_l2': 0.34905912396741307}. Best is trial 26 with value: 0.6733870967741935.\n"
     ]
    },
    {
     "name": "stdout",
     "output_type": "stream",
     "text": [
      "[LightGBM] [Warning] bagging_freq is set=5, subsample_freq=0 will be ignored. Current value: bagging_freq=5\n",
      "[LightGBM] [Warning] lambda_l1 is set=0.24114922930873137, reg_alpha=0.0 will be ignored. Current value: lambda_l1=0.24114922930873137\n",
      "[LightGBM] [Warning] min_data_in_leaf is set=12, min_child_samples=20 will be ignored. Current value: min_data_in_leaf=12\n",
      "[LightGBM] [Warning] num_iterations is set=117, num_boost_round=117 will be ignored. Current value: num_iterations=117\n",
      "[LightGBM] [Warning] lambda_l2 is set=0.6634652782594648, reg_lambda=0.0 will be ignored. Current value: lambda_l2=0.6634652782594648\n",
      "[LightGBM] [Warning] feature_fraction is set=0.43056476220708656, colsample_bytree=1.0 will be ignored. Current value: feature_fraction=0.43056476220708656\n",
      "[LightGBM] [Warning] bagging_fraction is set=0.7524587685988656, subsample=1.0 will be ignored. Current value: bagging_fraction=0.7524587685988656\n"
     ]
    },
    {
     "name": "stderr",
     "output_type": "stream",
     "text": [
      "[I 2023-06-06 16:50:55,305] Trial 118 finished with value: 0.6612903225806451 and parameters: {'max_depth': 8, 'num_boost_round': 117, 'min_data_in_leaf': 12, 'n_estimators': 1485, 'num_leaves': 266, 'learning_rate': 0.023216326872156117, 'feature_fraction': 0.43056476220708656, 'bagging_fraction': 0.7524587685988656, 'bagging_freq': 5, 'lambda_l1': 0.24114922930873137, 'lambda_l2': 0.6634652782594648}. Best is trial 26 with value: 0.6733870967741935.\n"
     ]
    },
    {
     "name": "stdout",
     "output_type": "stream",
     "text": [
      "[LightGBM] [Warning] bagging_freq is set=6, subsample_freq=0 will be ignored. Current value: bagging_freq=6\n",
      "[LightGBM] [Warning] lambda_l1 is set=0.38539558921614275, reg_alpha=0.0 will be ignored. Current value: lambda_l1=0.38539558921614275\n",
      "[LightGBM] [Warning] min_data_in_leaf is set=19, min_child_samples=20 will be ignored. Current value: min_data_in_leaf=19\n",
      "[LightGBM] [Warning] num_iterations is set=112, num_boost_round=112 will be ignored. Current value: num_iterations=112\n",
      "[LightGBM] [Warning] lambda_l2 is set=0.2683840893306808, reg_lambda=0.0 will be ignored. Current value: lambda_l2=0.2683840893306808\n",
      "[LightGBM] [Warning] feature_fraction is set=0.3827260501600869, colsample_bytree=1.0 will be ignored. Current value: feature_fraction=0.3827260501600869\n",
      "[LightGBM] [Warning] bagging_fraction is set=0.7815529459287095, subsample=1.0 will be ignored. Current value: bagging_fraction=0.7815529459287095\n"
     ]
    },
    {
     "name": "stderr",
     "output_type": "stream",
     "text": [
      "[I 2023-06-06 16:50:55,925] Trial 119 finished with value: 0.6612903225806451 and parameters: {'max_depth': 6, 'num_boost_round': 112, 'min_data_in_leaf': 19, 'n_estimators': 1651, 'num_leaves': 142, 'learning_rate': 0.028927668621419603, 'feature_fraction': 0.3827260501600869, 'bagging_fraction': 0.7815529459287095, 'bagging_freq': 6, 'lambda_l1': 0.38539558921614275, 'lambda_l2': 0.2683840893306808}. Best is trial 26 with value: 0.6733870967741935.\n"
     ]
    },
    {
     "name": "stdout",
     "output_type": "stream",
     "text": [
      "[LightGBM] [Warning] bagging_freq is set=4, subsample_freq=0 will be ignored. Current value: bagging_freq=4\n",
      "[LightGBM] [Warning] lambda_l1 is set=0.6566598932355229, reg_alpha=0.0 will be ignored. Current value: lambda_l1=0.6566598932355229\n",
      "[LightGBM] [Warning] min_data_in_leaf is set=18, min_child_samples=20 will be ignored. Current value: min_data_in_leaf=18\n",
      "[LightGBM] [Warning] num_iterations is set=108, num_boost_round=108 will be ignored. Current value: num_iterations=108\n",
      "[LightGBM] [Warning] lambda_l2 is set=0.9092792956780499, reg_lambda=0.0 will be ignored. Current value: lambda_l2=0.9092792956780499\n",
      "[LightGBM] [Warning] feature_fraction is set=0.5342036184266494, colsample_bytree=1.0 will be ignored. Current value: feature_fraction=0.5342036184266494\n",
      "[LightGBM] [Warning] bagging_fraction is set=0.7228984463520466, subsample=1.0 will be ignored. Current value: bagging_fraction=0.7228984463520466\n"
     ]
    },
    {
     "name": "stderr",
     "output_type": "stream",
     "text": [
      "[I 2023-06-06 16:50:56,820] Trial 120 finished with value: 0.6592741935483871 and parameters: {'max_depth': 8, 'num_boost_round': 108, 'min_data_in_leaf': 18, 'n_estimators': 1746, 'num_leaves': 325, 'learning_rate': 0.021887161540623368, 'feature_fraction': 0.5342036184266494, 'bagging_fraction': 0.7228984463520466, 'bagging_freq': 4, 'lambda_l1': 0.6566598932355229, 'lambda_l2': 0.9092792956780499}. Best is trial 26 with value: 0.6733870967741935.\n"
     ]
    },
    {
     "name": "stdout",
     "output_type": "stream",
     "text": [
      "[LightGBM] [Warning] bagging_freq is set=4, subsample_freq=0 will be ignored. Current value: bagging_freq=4\n",
      "[LightGBM] [Warning] lambda_l1 is set=0.5803453958690075, reg_alpha=0.0 will be ignored. Current value: lambda_l1=0.5803453958690075\n",
      "[LightGBM] [Warning] min_data_in_leaf is set=20, min_child_samples=20 will be ignored. Current value: min_data_in_leaf=20\n",
      "[LightGBM] [Warning] num_iterations is set=138, num_boost_round=138 will be ignored. Current value: num_iterations=138\n",
      "[LightGBM] [Warning] lambda_l2 is set=0.7334524187813942, reg_lambda=0.0 will be ignored. Current value: lambda_l2=0.7334524187813942\n",
      "[LightGBM] [Warning] feature_fraction is set=0.49488800415704287, colsample_bytree=1.0 will be ignored. Current value: feature_fraction=0.49488800415704287\n",
      "[LightGBM] [Warning] bagging_fraction is set=0.7327722373895061, subsample=1.0 will be ignored. Current value: bagging_fraction=0.7327722373895061\n"
     ]
    },
    {
     "name": "stderr",
     "output_type": "stream",
     "text": [
      "[I 2023-06-06 16:50:57,910] Trial 121 finished with value: 0.6592741935483871 and parameters: {'max_depth': 8, 'num_boost_round': 138, 'min_data_in_leaf': 20, 'n_estimators': 1811, 'num_leaves': 168, 'learning_rate': 0.026685346616845598, 'feature_fraction': 0.49488800415704287, 'bagging_fraction': 0.7327722373895061, 'bagging_freq': 4, 'lambda_l1': 0.5803453958690075, 'lambda_l2': 0.7334524187813942}. Best is trial 26 with value: 0.6733870967741935.\n"
     ]
    },
    {
     "name": "stdout",
     "output_type": "stream",
     "text": [
      "[LightGBM] [Warning] bagging_freq is set=3, subsample_freq=0 will be ignored. Current value: bagging_freq=3\n",
      "[LightGBM] [Warning] lambda_l1 is set=0.4330170905162823, reg_alpha=0.0 will be ignored. Current value: lambda_l1=0.4330170905162823\n",
      "[LightGBM] [Warning] min_data_in_leaf is set=20, min_child_samples=20 will be ignored. Current value: min_data_in_leaf=20\n",
      "[LightGBM] [Warning] num_iterations is set=123, num_boost_round=123 will be ignored. Current value: num_iterations=123\n",
      "[LightGBM] [Warning] lambda_l2 is set=0.5336384382916038, reg_lambda=0.0 will be ignored. Current value: lambda_l2=0.5336384382916038\n",
      "[LightGBM] [Warning] feature_fraction is set=0.4769804309358258, colsample_bytree=1.0 will be ignored. Current value: feature_fraction=0.4769804309358258\n",
      "[LightGBM] [Warning] bagging_fraction is set=0.7601127781999608, subsample=1.0 will be ignored. Current value: bagging_fraction=0.7601127781999608\n"
     ]
    },
    {
     "name": "stderr",
     "output_type": "stream",
     "text": [
      "[I 2023-06-06 16:50:58,912] Trial 122 finished with value: 0.6592741935483871 and parameters: {'max_depth': 8, 'num_boost_round': 123, 'min_data_in_leaf': 20, 'n_estimators': 1958, 'num_leaves': 213, 'learning_rate': 0.02744573081486297, 'feature_fraction': 0.4769804309358258, 'bagging_fraction': 0.7601127781999608, 'bagging_freq': 3, 'lambda_l1': 0.4330170905162823, 'lambda_l2': 0.5336384382916038}. Best is trial 26 with value: 0.6733870967741935.\n"
     ]
    },
    {
     "name": "stdout",
     "output_type": "stream",
     "text": [
      "[LightGBM] [Warning] bagging_freq is set=4, subsample_freq=0 will be ignored. Current value: bagging_freq=4\n",
      "[LightGBM] [Warning] lambda_l1 is set=0.15061230206151893, reg_alpha=0.0 will be ignored. Current value: lambda_l1=0.15061230206151893\n",
      "[LightGBM] [Warning] min_data_in_leaf is set=20, min_child_samples=20 will be ignored. Current value: min_data_in_leaf=20\n",
      "[LightGBM] [Warning] num_iterations is set=143, num_boost_round=143 will be ignored. Current value: num_iterations=143\n",
      "[LightGBM] [Warning] lambda_l2 is set=0.6834154121122336, reg_lambda=0.0 will be ignored. Current value: lambda_l2=0.6834154121122336\n",
      "[LightGBM] [Warning] feature_fraction is set=0.4681708204861792, colsample_bytree=1.0 will be ignored. Current value: feature_fraction=0.4681708204861792\n",
      "[LightGBM] [Warning] bagging_fraction is set=0.6946663955650401, subsample=1.0 will be ignored. Current value: bagging_fraction=0.6946663955650401\n"
     ]
    },
    {
     "name": "stderr",
     "output_type": "stream",
     "text": [
      "[I 2023-06-06 16:51:00,010] Trial 123 finished with value: 0.6532258064516129 and parameters: {'max_depth': 8, 'num_boost_round': 143, 'min_data_in_leaf': 20, 'n_estimators': 1437, 'num_leaves': 56, 'learning_rate': 0.03341048715937016, 'feature_fraction': 0.4681708204861792, 'bagging_fraction': 0.6946663955650401, 'bagging_freq': 4, 'lambda_l1': 0.15061230206151893, 'lambda_l2': 0.6834154121122336}. Best is trial 26 with value: 0.6733870967741935.\n"
     ]
    },
    {
     "name": "stdout",
     "output_type": "stream",
     "text": [
      "[LightGBM] [Warning] bagging_freq is set=5, subsample_freq=0 will be ignored. Current value: bagging_freq=5\n",
      "[LightGBM] [Warning] lambda_l1 is set=0.5157201406853852, reg_alpha=0.0 will be ignored. Current value: lambda_l1=0.5157201406853852\n",
      "[LightGBM] [Warning] min_data_in_leaf is set=19, min_child_samples=20 will be ignored. Current value: min_data_in_leaf=19\n",
      "[LightGBM] [Warning] num_iterations is set=136, num_boost_round=136 will be ignored. Current value: num_iterations=136\n",
      "[LightGBM] [Warning] lambda_l2 is set=0.8409123702663647, reg_lambda=0.0 will be ignored. Current value: lambda_l2=0.8409123702663647\n",
      "[LightGBM] [Warning] feature_fraction is set=0.5031209715041443, colsample_bytree=1.0 will be ignored. Current value: feature_fraction=0.5031209715041443\n",
      "[LightGBM] [Warning] bagging_fraction is set=0.7125846373680624, subsample=1.0 will be ignored. Current value: bagging_fraction=0.7125846373680624\n"
     ]
    },
    {
     "name": "stderr",
     "output_type": "stream",
     "text": [
      "[I 2023-06-06 16:51:01,064] Trial 124 finished with value: 0.6592741935483871 and parameters: {'max_depth': 8, 'num_boost_round': 136, 'min_data_in_leaf': 19, 'n_estimators': 1877, 'num_leaves': 152, 'learning_rate': 0.031059958679265125, 'feature_fraction': 0.5031209715041443, 'bagging_fraction': 0.7125846373680624, 'bagging_freq': 5, 'lambda_l1': 0.5157201406853852, 'lambda_l2': 0.8409123702663647}. Best is trial 26 with value: 0.6733870967741935.\n"
     ]
    },
    {
     "name": "stdout",
     "output_type": "stream",
     "text": [
      "[LightGBM] [Warning] bagging_freq is set=4, subsample_freq=0 will be ignored. Current value: bagging_freq=4\n",
      "[LightGBM] [Warning] lambda_l1 is set=0.3113691711354432, reg_alpha=0.0 will be ignored. Current value: lambda_l1=0.3113691711354432\n",
      "[LightGBM] [Warning] min_data_in_leaf is set=16, min_child_samples=20 will be ignored. Current value: min_data_in_leaf=16\n",
      "[LightGBM] [Warning] num_iterations is set=154, num_boost_round=154 will be ignored. Current value: num_iterations=154\n",
      "[LightGBM] [Warning] lambda_l2 is set=0.39647626723415513, reg_lambda=0.0 will be ignored. Current value: lambda_l2=0.39647626723415513\n",
      "[LightGBM] [Warning] feature_fraction is set=0.4530989413477551, colsample_bytree=1.0 will be ignored. Current value: feature_fraction=0.4530989413477551\n",
      "[LightGBM] [Warning] bagging_fraction is set=0.7851766333914179, subsample=1.0 will be ignored. Current value: bagging_fraction=0.7851766333914179\n"
     ]
    },
    {
     "name": "stderr",
     "output_type": "stream",
     "text": [
      "[I 2023-06-06 16:51:01,663] Trial 125 finished with value: 0.657258064516129 and parameters: {'max_depth': 8, 'num_boost_round': 154, 'min_data_in_leaf': 16, 'n_estimators': 1632, 'num_leaves': 11, 'learning_rate': 0.024749588263160587, 'feature_fraction': 0.4530989413477551, 'bagging_fraction': 0.7851766333914179, 'bagging_freq': 4, 'lambda_l1': 0.3113691711354432, 'lambda_l2': 0.39647626723415513}. Best is trial 26 with value: 0.6733870967741935.\n"
     ]
    },
    {
     "name": "stdout",
     "output_type": "stream",
     "text": [
      "[LightGBM] [Warning] bagging_freq is set=3, subsample_freq=0 will be ignored. Current value: bagging_freq=3\n",
      "[LightGBM] [Warning] lambda_l1 is set=0.7634158575242075, reg_alpha=0.0 will be ignored. Current value: lambda_l1=0.7634158575242075\n",
      "[LightGBM] [Warning] min_data_in_leaf is set=18, min_child_samples=20 will be ignored. Current value: min_data_in_leaf=18\n",
      "[LightGBM] [Warning] num_iterations is set=132, num_boost_round=132 will be ignored. Current value: num_iterations=132\n",
      "[LightGBM] [Warning] lambda_l2 is set=0.2977917048211031, reg_lambda=0.0 will be ignored. Current value: lambda_l2=0.2977917048211031\n",
      "[LightGBM] [Warning] feature_fraction is set=0.5462666186551487, colsample_bytree=1.0 will be ignored. Current value: feature_fraction=0.5462666186551487\n",
      "[LightGBM] [Warning] bagging_fraction is set=0.745792211939802, subsample=1.0 will be ignored. Current value: bagging_fraction=0.745792211939802\n"
     ]
    },
    {
     "name": "stderr",
     "output_type": "stream",
     "text": [
      "[I 2023-06-06 16:51:02,793] Trial 126 finished with value: 0.6673387096774194 and parameters: {'max_depth': 8, 'num_boost_round': 132, 'min_data_in_leaf': 18, 'n_estimators': 1536, 'num_leaves': 107, 'learning_rate': 0.042703552204292346, 'feature_fraction': 0.5462666186551487, 'bagging_fraction': 0.745792211939802, 'bagging_freq': 3, 'lambda_l1': 0.7634158575242075, 'lambda_l2': 0.2977917048211031}. Best is trial 26 with value: 0.6733870967741935.\n"
     ]
    },
    {
     "name": "stdout",
     "output_type": "stream",
     "text": [
      "[LightGBM] [Warning] bagging_freq is set=5, subsample_freq=0 will be ignored. Current value: bagging_freq=5\n",
      "[LightGBM] [Warning] lambda_l1 is set=0.6231436083244355, reg_alpha=0.0 will be ignored. Current value: lambda_l1=0.6231436083244355\n",
      "[LightGBM] [Warning] min_data_in_leaf is set=19, min_child_samples=20 will be ignored. Current value: min_data_in_leaf=19\n",
      "[LightGBM] [Warning] num_iterations is set=102, num_boost_round=102 will be ignored. Current value: num_iterations=102\n",
      "[LightGBM] [Warning] lambda_l2 is set=0.6231770245286423, reg_lambda=0.0 will be ignored. Current value: lambda_l2=0.6231770245286423\n",
      "[LightGBM] [Warning] feature_fraction is set=0.5865550072343032, colsample_bytree=1.0 will be ignored. Current value: feature_fraction=0.5865550072343032\n",
      "[LightGBM] [Warning] bagging_fraction is set=0.7298493314762938, subsample=1.0 will be ignored. Current value: bagging_fraction=0.7298493314762938\n"
     ]
    },
    {
     "name": "stderr",
     "output_type": "stream",
     "text": [
      "[I 2023-06-06 16:51:03,677] Trial 127 finished with value: 0.6612903225806451 and parameters: {'max_depth': 8, 'num_boost_round': 102, 'min_data_in_leaf': 19, 'n_estimators': 1680, 'num_leaves': 565, 'learning_rate': 0.03691325576501859, 'feature_fraction': 0.5865550072343032, 'bagging_fraction': 0.7298493314762938, 'bagging_freq': 5, 'lambda_l1': 0.6231436083244355, 'lambda_l2': 0.6231770245286423}. Best is trial 26 with value: 0.6733870967741935.\n"
     ]
    },
    {
     "name": "stdout",
     "output_type": "stream",
     "text": [
      "[LightGBM] [Warning] bagging_freq is set=2, subsample_freq=0 will be ignored. Current value: bagging_freq=2\n",
      "[LightGBM] [Warning] lambda_l1 is set=0.36460168278196403, reg_alpha=0.0 will be ignored. Current value: lambda_l1=0.36460168278196403\n",
      "[LightGBM] [Warning] min_data_in_leaf is set=13, min_child_samples=20 will be ignored. Current value: min_data_in_leaf=13\n",
      "[LightGBM] [Warning] num_iterations is set=120, num_boost_round=120 will be ignored. Current value: num_iterations=120\n",
      "[LightGBM] [Warning] lambda_l2 is set=0.4922780344591887, reg_lambda=0.0 will be ignored. Current value: lambda_l2=0.4922780344591887\n",
      "[LightGBM] [Warning] feature_fraction is set=0.5209668436500909, colsample_bytree=1.0 will be ignored. Current value: feature_fraction=0.5209668436500909\n",
      "[LightGBM] [Warning] bagging_fraction is set=0.6791589094016061, subsample=1.0 will be ignored. Current value: bagging_fraction=0.6791589094016061\n"
     ]
    },
    {
     "name": "stderr",
     "output_type": "stream",
     "text": [
      "[I 2023-06-06 16:51:04,282] Trial 128 finished with value: 0.657258064516129 and parameters: {'max_depth': 5, 'num_boost_round': 120, 'min_data_in_leaf': 13, 'n_estimators': 1397, 'num_leaves': 1075, 'learning_rate': 0.029153511231262703, 'feature_fraction': 0.5209668436500909, 'bagging_fraction': 0.6791589094016061, 'bagging_freq': 2, 'lambda_l1': 0.36460168278196403, 'lambda_l2': 0.4922780344591887}. Best is trial 26 with value: 0.6733870967741935.\n"
     ]
    },
    {
     "name": "stdout",
     "output_type": "stream",
     "text": [
      "[LightGBM] [Warning] bagging_freq is set=1, subsample_freq=0 will be ignored. Current value: bagging_freq=1\n",
      "[LightGBM] [Warning] lambda_l1 is set=0.4573535700949054, reg_alpha=0.0 will be ignored. Current value: lambda_l1=0.4573535700949054\n",
      "[LightGBM] [Warning] min_data_in_leaf is set=17, min_child_samples=20 will be ignored. Current value: min_data_in_leaf=17\n",
      "[LightGBM] [Warning] num_iterations is set=162, num_boost_round=162 will be ignored. Current value: num_iterations=162\n",
      "[LightGBM] [Warning] lambda_l2 is set=0.7796362822253208, reg_lambda=0.0 will be ignored. Current value: lambda_l2=0.7796362822253208\n",
      "[LightGBM] [Warning] feature_fraction is set=0.6141454330275343, colsample_bytree=1.0 will be ignored. Current value: feature_fraction=0.6141454330275343\n",
      "[LightGBM] [Warning] bagging_fraction is set=0.799061445743781, subsample=1.0 will be ignored. Current value: bagging_fraction=0.799061445743781\n"
     ]
    },
    {
     "name": "stderr",
     "output_type": "stream",
     "text": [
      "[I 2023-06-06 16:51:05,863] Trial 129 finished with value: 0.6653225806451613 and parameters: {'max_depth': 8, 'num_boost_round': 162, 'min_data_in_leaf': 17, 'n_estimators': 1779, 'num_leaves': 261, 'learning_rate': 0.02101198158188719, 'feature_fraction': 0.6141454330275343, 'bagging_fraction': 0.799061445743781, 'bagging_freq': 1, 'lambda_l1': 0.4573535700949054, 'lambda_l2': 0.7796362822253208}. Best is trial 26 with value: 0.6733870967741935.\n"
     ]
    },
    {
     "name": "stdout",
     "output_type": "stream",
     "text": [
      "[LightGBM] [Warning] bagging_freq is set=4, subsample_freq=0 will be ignored. Current value: bagging_freq=4\n",
      "[LightGBM] [Warning] lambda_l1 is set=0.5606458431513462, reg_alpha=0.0 will be ignored. Current value: lambda_l1=0.5606458431513462\n",
      "[LightGBM] [Warning] min_data_in_leaf is set=15, min_child_samples=20 will be ignored. Current value: min_data_in_leaf=15\n",
      "[LightGBM] [Warning] num_iterations is set=129, num_boost_round=129 will be ignored. Current value: num_iterations=129\n",
      "[LightGBM] [Warning] lambda_l2 is set=0.4335480432086606, reg_lambda=0.0 will be ignored. Current value: lambda_l2=0.4335480432086606\n",
      "[LightGBM] [Warning] feature_fraction is set=0.4841177885183293, colsample_bytree=1.0 will be ignored. Current value: feature_fraction=0.4841177885183293\n",
      "[LightGBM] [Warning] bagging_fraction is set=0.7626327156188821, subsample=1.0 will be ignored. Current value: bagging_fraction=0.7626327156188821\n"
     ]
    },
    {
     "name": "stderr",
     "output_type": "stream",
     "text": [
      "[I 2023-06-06 16:51:07,031] Trial 130 finished with value: 0.6612903225806451 and parameters: {'max_depth': 8, 'num_boost_round': 129, 'min_data_in_leaf': 15, 'n_estimators': 1581, 'num_leaves': 926, 'learning_rate': 0.0341798330653344, 'feature_fraction': 0.4841177885183293, 'bagging_fraction': 0.7626327156188821, 'bagging_freq': 4, 'lambda_l1': 0.5606458431513462, 'lambda_l2': 0.4335480432086606}. Best is trial 26 with value: 0.6733870967741935.\n"
     ]
    },
    {
     "name": "stdout",
     "output_type": "stream",
     "text": [
      "[LightGBM] [Warning] bagging_freq is set=4, subsample_freq=0 will be ignored. Current value: bagging_freq=4\n",
      "[LightGBM] [Warning] lambda_l1 is set=0.33480617665489865, reg_alpha=0.0 will be ignored. Current value: lambda_l1=0.33480617665489865\n",
      "[LightGBM] [Warning] min_data_in_leaf is set=17, min_child_samples=20 will be ignored. Current value: min_data_in_leaf=17\n",
      "[LightGBM] [Warning] num_iterations is set=152, num_boost_round=152 will be ignored. Current value: num_iterations=152\n",
      "[LightGBM] [Warning] lambda_l2 is set=0.40911588424851886, reg_lambda=0.0 will be ignored. Current value: lambda_l2=0.40911588424851886\n",
      "[LightGBM] [Warning] feature_fraction is set=0.5980481293187576, colsample_bytree=1.0 will be ignored. Current value: feature_fraction=0.5980481293187576\n",
      "[LightGBM] [Warning] bagging_fraction is set=0.7493395425266132, subsample=1.0 will be ignored. Current value: bagging_fraction=0.7493395425266132\n"
     ]
    },
    {
     "name": "stderr",
     "output_type": "stream",
     "text": [
      "[I 2023-06-06 16:51:08,496] Trial 131 finished with value: 0.6653225806451613 and parameters: {'max_depth': 8, 'num_boost_round': 152, 'min_data_in_leaf': 17, 'n_estimators': 1547, 'num_leaves': 412, 'learning_rate': 0.030023164875845245, 'feature_fraction': 0.5980481293187576, 'bagging_fraction': 0.7493395425266132, 'bagging_freq': 4, 'lambda_l1': 0.33480617665489865, 'lambda_l2': 0.40911588424851886}. Best is trial 26 with value: 0.6733870967741935.\n"
     ]
    },
    {
     "name": "stdout",
     "output_type": "stream",
     "text": [
      "[LightGBM] [Warning] bagging_freq is set=4, subsample_freq=0 will be ignored. Current value: bagging_freq=4\n",
      "[LightGBM] [Warning] lambda_l1 is set=0.3118684990010858, reg_alpha=0.0 will be ignored. Current value: lambda_l1=0.3118684990010858\n",
      "[LightGBM] [Warning] min_data_in_leaf is set=17, min_child_samples=20 will be ignored. Current value: min_data_in_leaf=17\n",
      "[LightGBM] [Warning] num_iterations is set=145, num_boost_round=145 will be ignored. Current value: num_iterations=145\n",
      "[LightGBM] [Warning] lambda_l2 is set=0.3680706472414375, reg_lambda=0.0 will be ignored. Current value: lambda_l2=0.3680706472414375\n",
      "[LightGBM] [Warning] feature_fraction is set=0.6370163625780723, colsample_bytree=1.0 will be ignored. Current value: feature_fraction=0.6370163625780723\n",
      "[LightGBM] [Warning] bagging_fraction is set=0.7724096568544243, subsample=1.0 will be ignored. Current value: bagging_fraction=0.7724096568544243\n"
     ]
    },
    {
     "name": "stderr",
     "output_type": "stream",
     "text": [
      "[I 2023-06-06 16:51:10,017] Trial 132 finished with value: 0.6612903225806451 and parameters: {'max_depth': 8, 'num_boost_round': 145, 'min_data_in_leaf': 17, 'n_estimators': 1496, 'num_leaves': 369, 'learning_rate': 0.028801591172902017, 'feature_fraction': 0.6370163625780723, 'bagging_fraction': 0.7724096568544243, 'bagging_freq': 4, 'lambda_l1': 0.3118684990010858, 'lambda_l2': 0.3680706472414375}. Best is trial 26 with value: 0.6733870967741935.\n"
     ]
    },
    {
     "name": "stdout",
     "output_type": "stream",
     "text": [
      "[LightGBM] [Warning] bagging_freq is set=4, subsample_freq=0 will be ignored. Current value: bagging_freq=4\n",
      "[LightGBM] [Warning] lambda_l1 is set=0.3985906771311992, reg_alpha=0.0 will be ignored. Current value: lambda_l1=0.3985906771311992\n",
      "[LightGBM] [Warning] min_data_in_leaf is set=17, min_child_samples=20 will be ignored. Current value: min_data_in_leaf=17\n",
      "[LightGBM] [Warning] num_iterations is set=115, num_boost_round=115 will be ignored. Current value: num_iterations=115\n",
      "[LightGBM] [Warning] lambda_l2 is set=0.5725012665948124, reg_lambda=0.0 will be ignored. Current value: lambda_l2=0.5725012665948124\n",
      "[LightGBM] [Warning] feature_fraction is set=0.5638135780330507, colsample_bytree=1.0 will be ignored. Current value: feature_fraction=0.5638135780330507\n",
      "[LightGBM] [Warning] bagging_fraction is set=0.7562284809308946, subsample=1.0 will be ignored. Current value: bagging_fraction=0.7562284809308946\n"
     ]
    },
    {
     "name": "stderr",
     "output_type": "stream",
     "text": [
      "[I 2023-06-06 16:51:11,099] Trial 133 finished with value: 0.6733870967741935 and parameters: {'max_depth': 8, 'num_boost_round': 115, 'min_data_in_leaf': 17, 'n_estimators': 1617, 'num_leaves': 464, 'learning_rate': 0.027493153071149683, 'feature_fraction': 0.5638135780330507, 'bagging_fraction': 0.7562284809308946, 'bagging_freq': 4, 'lambda_l1': 0.3985906771311992, 'lambda_l2': 0.5725012665948124}. Best is trial 26 with value: 0.6733870967741935.\n"
     ]
    },
    {
     "name": "stdout",
     "output_type": "stream",
     "text": [
      "[LightGBM] [Warning] bagging_freq is set=5, subsample_freq=0 will be ignored. Current value: bagging_freq=5\n",
      "[LightGBM] [Warning] lambda_l1 is set=0.3832786653472961, reg_alpha=0.0 will be ignored. Current value: lambda_l1=0.3832786653472961\n",
      "[LightGBM] [Warning] min_data_in_leaf is set=16, min_child_samples=20 will be ignored. Current value: min_data_in_leaf=16\n",
      "[LightGBM] [Warning] num_iterations is set=115, num_boost_round=115 will be ignored. Current value: num_iterations=115\n",
      "[LightGBM] [Warning] lambda_l2 is set=0.5591825326631957, reg_lambda=0.0 will be ignored. Current value: lambda_l2=0.5591825326631957\n",
      "[LightGBM] [Warning] feature_fraction is set=0.5689536891784656, colsample_bytree=1.0 will be ignored. Current value: feature_fraction=0.5689536891784656\n",
      "[LightGBM] [Warning] bagging_fraction is set=0.7862850650809686, subsample=1.0 will be ignored. Current value: bagging_fraction=0.7862850650809686\n"
     ]
    },
    {
     "name": "stderr",
     "output_type": "stream",
     "text": [
      "[I 2023-06-06 16:51:12,261] Trial 134 finished with value: 0.6653225806451613 and parameters: {'max_depth': 8, 'num_boost_round': 115, 'min_data_in_leaf': 16, 'n_estimators': 1614, 'num_leaves': 471, 'learning_rate': 0.027499349798088008, 'feature_fraction': 0.5689536891784656, 'bagging_fraction': 0.7862850650809686, 'bagging_freq': 5, 'lambda_l1': 0.3832786653472961, 'lambda_l2': 0.5591825326631957}. Best is trial 26 with value: 0.6733870967741935.\n"
     ]
    },
    {
     "name": "stdout",
     "output_type": "stream",
     "text": [
      "[LightGBM] [Warning] bagging_freq is set=7, subsample_freq=0 will be ignored. Current value: bagging_freq=7\n",
      "[LightGBM] [Warning] lambda_l1 is set=0.501459571095599, reg_alpha=0.0 will be ignored. Current value: lambda_l1=0.501459571095599\n",
      "[LightGBM] [Warning] min_data_in_leaf is set=18, min_child_samples=20 will be ignored. Current value: min_data_in_leaf=18\n",
      "[LightGBM] [Warning] num_iterations is set=108, num_boost_round=108 will be ignored. Current value: num_iterations=108\n",
      "[LightGBM] [Warning] lambda_l2 is set=0.5978865422327023, reg_lambda=0.0 will be ignored. Current value: lambda_l2=0.5978865422327023\n",
      "[LightGBM] [Warning] feature_fraction is set=0.5505674043960073, colsample_bytree=1.0 will be ignored. Current value: feature_fraction=0.5505674043960073\n",
      "[LightGBM] [Warning] bagging_fraction is set=0.7301804813160901, subsample=1.0 will be ignored. Current value: bagging_fraction=0.7301804813160901\n"
     ]
    },
    {
     "name": "stderr",
     "output_type": "stream",
     "text": [
      "[I 2023-06-06 16:51:13,239] Trial 135 finished with value: 0.6693548387096774 and parameters: {'max_depth': 8, 'num_boost_round': 108, 'min_data_in_leaf': 18, 'n_estimators': 1706, 'num_leaves': 307, 'learning_rate': 0.023748132009613718, 'feature_fraction': 0.5505674043960073, 'bagging_fraction': 0.7301804813160901, 'bagging_freq': 7, 'lambda_l1': 0.501459571095599, 'lambda_l2': 0.5978865422327023}. Best is trial 26 with value: 0.6733870967741935.\n"
     ]
    },
    {
     "name": "stdout",
     "output_type": "stream",
     "text": [
      "[LightGBM] [Warning] bagging_freq is set=7, subsample_freq=0 will be ignored. Current value: bagging_freq=7\n",
      "[LightGBM] [Warning] lambda_l1 is set=0.4127149625226185, reg_alpha=0.0 will be ignored. Current value: lambda_l1=0.4127149625226185\n",
      "[LightGBM] [Warning] min_data_in_leaf is set=18, min_child_samples=20 will be ignored. Current value: min_data_in_leaf=18\n",
      "[LightGBM] [Warning] num_iterations is set=108, num_boost_round=108 will be ignored. Current value: num_iterations=108\n",
      "[LightGBM] [Warning] lambda_l2 is set=0.5975424984081649, reg_lambda=0.0 will be ignored. Current value: lambda_l2=0.5975424984081649\n",
      "[LightGBM] [Warning] feature_fraction is set=0.5507090451302422, colsample_bytree=1.0 will be ignored. Current value: feature_fraction=0.5507090451302422\n",
      "[LightGBM] [Warning] bagging_fraction is set=0.7382640481445568, subsample=1.0 will be ignored. Current value: bagging_fraction=0.7382640481445568\n"
     ]
    },
    {
     "name": "stderr",
     "output_type": "stream",
     "text": [
      "[I 2023-06-06 16:51:13,943] Trial 136 finished with value: 0.6673387096774194 and parameters: {'max_depth': 6, 'num_boost_round': 108, 'min_data_in_leaf': 18, 'n_estimators': 1729, 'num_leaves': 610, 'learning_rate': 0.024296039034460065, 'feature_fraction': 0.5507090451302422, 'bagging_fraction': 0.7382640481445568, 'bagging_freq': 7, 'lambda_l1': 0.4127149625226185, 'lambda_l2': 0.5975424984081649}. Best is trial 26 with value: 0.6733870967741935.\n"
     ]
    },
    {
     "name": "stdout",
     "output_type": "stream",
     "text": [
      "[LightGBM] [Warning] bagging_freq is set=7, subsample_freq=0 will be ignored. Current value: bagging_freq=7\n",
      "[LightGBM] [Warning] lambda_l1 is set=0.49960317450047287, reg_alpha=0.0 will be ignored. Current value: lambda_l1=0.49960317450047287\n",
      "[LightGBM] [Warning] min_data_in_leaf is set=18, min_child_samples=20 will be ignored. Current value: min_data_in_leaf=18\n",
      "[LightGBM] [Warning] num_iterations is set=104, num_boost_round=104 will be ignored. Current value: num_iterations=104\n",
      "[LightGBM] [Warning] lambda_l2 is set=0.47063489296506567, reg_lambda=0.0 will be ignored. Current value: lambda_l2=0.47063489296506567\n",
      "[LightGBM] [Warning] feature_fraction is set=0.5659245695503822, colsample_bytree=1.0 will be ignored. Current value: feature_fraction=0.5659245695503822\n",
      "[LightGBM] [Warning] bagging_fraction is set=0.624680532003577, subsample=1.0 will be ignored. Current value: bagging_fraction=0.624680532003577\n"
     ]
    },
    {
     "name": "stderr",
     "output_type": "stream",
     "text": [
      "[I 2023-06-06 16:51:14,787] Trial 137 finished with value: 0.6653225806451613 and parameters: {'max_depth': 8, 'num_boost_round': 104, 'min_data_in_leaf': 18, 'n_estimators': 1689, 'num_leaves': 514, 'learning_rate': 0.019954717567337146, 'feature_fraction': 0.5659245695503822, 'bagging_fraction': 0.624680532003577, 'bagging_freq': 7, 'lambda_l1': 0.49960317450047287, 'lambda_l2': 0.47063489296506567}. Best is trial 26 with value: 0.6733870967741935.\n"
     ]
    },
    {
     "name": "stdout",
     "output_type": "stream",
     "text": [
      "[LightGBM] [Warning] bagging_freq is set=7, subsample_freq=0 will be ignored. Current value: bagging_freq=7\n",
      "[LightGBM] [Warning] lambda_l1 is set=0.27832839419021393, reg_alpha=0.0 will be ignored. Current value: lambda_l1=0.27832839419021393\n",
      "[LightGBM] [Warning] min_data_in_leaf is set=18, min_child_samples=20 will be ignored. Current value: min_data_in_leaf=18\n",
      "[LightGBM] [Warning] num_iterations is set=100, num_boost_round=100 will be ignored. Current value: num_iterations=100\n",
      "[LightGBM] [Warning] lambda_l2 is set=0.5148530874178097, reg_lambda=0.0 will be ignored. Current value: lambda_l2=0.5148530874178097\n",
      "[LightGBM] [Warning] feature_fraction is set=0.5884463643490847, colsample_bytree=1.0 will be ignored. Current value: feature_fraction=0.5884463643490847\n",
      "[LightGBM] [Warning] bagging_fraction is set=0.7598698419817259, subsample=1.0 will be ignored. Current value: bagging_fraction=0.7598698419817259\n"
     ]
    },
    {
     "name": "stderr",
     "output_type": "stream",
     "text": [
      "[I 2023-06-06 16:51:15,759] Trial 138 finished with value: 0.6653225806451613 and parameters: {'max_depth': 8, 'num_boost_round': 100, 'min_data_in_leaf': 18, 'n_estimators': 1638, 'num_leaves': 299, 'learning_rate': 0.025569023419798605, 'feature_fraction': 0.5884463643490847, 'bagging_fraction': 0.7598698419817259, 'bagging_freq': 7, 'lambda_l1': 0.27832839419021393, 'lambda_l2': 0.5148530874178097}. Best is trial 26 with value: 0.6733870967741935.\n"
     ]
    },
    {
     "name": "stdout",
     "output_type": "stream",
     "text": [
      "[LightGBM] [Warning] bagging_freq is set=8, subsample_freq=0 will be ignored. Current value: bagging_freq=8\n",
      "[LightGBM] [Warning] lambda_l1 is set=0.4485311014362913, reg_alpha=0.0 will be ignored. Current value: lambda_l1=0.4485311014362913\n",
      "[LightGBM] [Warning] min_data_in_leaf is set=17, min_child_samples=20 will be ignored. Current value: min_data_in_leaf=17\n",
      "[LightGBM] [Warning] num_iterations is set=109, num_boost_round=109 will be ignored. Current value: num_iterations=109\n",
      "[LightGBM] [Warning] lambda_l2 is set=0.3298009675828098, reg_lambda=0.0 will be ignored. Current value: lambda_l2=0.3298009675828098\n",
      "[LightGBM] [Warning] feature_fraction is set=0.5429794439305287, colsample_bytree=1.0 will be ignored. Current value: feature_fraction=0.5429794439305287\n",
      "[LightGBM] [Warning] bagging_fraction is set=0.7228364166846157, subsample=1.0 will be ignored. Current value: bagging_fraction=0.7228364166846157\n"
     ]
    },
    {
     "name": "stderr",
     "output_type": "stream",
     "text": [
      "[I 2023-06-06 16:51:16,449] Trial 139 finished with value: 0.6612903225806451 and parameters: {'max_depth': 6, 'num_boost_round': 109, 'min_data_in_leaf': 17, 'n_estimators': 1152, 'num_leaves': 536, 'learning_rate': 0.031662302919877955, 'feature_fraction': 0.5429794439305287, 'bagging_fraction': 0.7228364166846157, 'bagging_freq': 8, 'lambda_l1': 0.4485311014362913, 'lambda_l2': 0.3298009675828098}. Best is trial 26 with value: 0.6733870967741935.\n"
     ]
    },
    {
     "name": "stdout",
     "output_type": "stream",
     "text": [
      "[LightGBM] [Warning] bagging_freq is set=6, subsample_freq=0 will be ignored. Current value: bagging_freq=6\n",
      "[LightGBM] [Warning] lambda_l1 is set=0.1936334430962899, reg_alpha=0.0 will be ignored. Current value: lambda_l1=0.1936334430962899\n",
      "[LightGBM] [Warning] min_data_in_leaf is set=11, min_child_samples=20 will be ignored. Current value: min_data_in_leaf=11\n",
      "[LightGBM] [Warning] num_iterations is set=114, num_boost_round=114 will be ignored. Current value: num_iterations=114\n",
      "[LightGBM] [Warning] lambda_l2 is set=0.24411940374163021, reg_lambda=0.0 will be ignored. Current value: lambda_l2=0.24411940374163021\n",
      "[LightGBM] [Warning] feature_fraction is set=0.5176433938585611, colsample_bytree=1.0 will be ignored. Current value: feature_fraction=0.5176433938585611\n",
      "[LightGBM] [Warning] bagging_fraction is set=0.7039966297067606, subsample=1.0 will be ignored. Current value: bagging_fraction=0.7039966297067606\n"
     ]
    },
    {
     "name": "stderr",
     "output_type": "stream",
     "text": [
      "[I 2023-06-06 16:51:17,686] Trial 140 finished with value: 0.655241935483871 and parameters: {'max_depth': 8, 'num_boost_round': 114, 'min_data_in_leaf': 11, 'n_estimators': 1565, 'num_leaves': 436, 'learning_rate': 0.02288250140870995, 'feature_fraction': 0.5176433938585611, 'bagging_fraction': 0.7039966297067606, 'bagging_freq': 6, 'lambda_l1': 0.1936334430962899, 'lambda_l2': 0.24411940374163021}. Best is trial 26 with value: 0.6733870967741935.\n"
     ]
    },
    {
     "name": "stdout",
     "output_type": "stream",
     "text": [
      "[LightGBM] [Warning] bagging_freq is set=7, subsample_freq=0 will be ignored. Current value: bagging_freq=7\n",
      "[LightGBM] [Warning] lambda_l1 is set=0.588574808341435, reg_alpha=0.0 will be ignored. Current value: lambda_l1=0.588574808341435\n",
      "[LightGBM] [Warning] min_data_in_leaf is set=19, min_child_samples=20 will be ignored. Current value: min_data_in_leaf=19\n",
      "[LightGBM] [Warning] num_iterations is set=121, num_boost_round=121 will be ignored. Current value: num_iterations=121\n",
      "[LightGBM] [Warning] lambda_l2 is set=0.6808539035032788, reg_lambda=0.0 will be ignored. Current value: lambda_l2=0.6808539035032788\n",
      "[LightGBM] [Warning] feature_fraction is set=0.4999348000136674, colsample_bytree=1.0 will be ignored. Current value: feature_fraction=0.4999348000136674\n",
      "[LightGBM] [Warning] bagging_fraction is set=0.7713128150819167, subsample=1.0 will be ignored. Current value: bagging_fraction=0.7713128150819167\n"
     ]
    },
    {
     "name": "stderr",
     "output_type": "stream",
     "text": [
      "[I 2023-06-06 16:51:18,733] Trial 141 finished with value: 0.6612903225806451 and parameters: {'max_depth': 8, 'num_boost_round': 121, 'min_data_in_leaf': 19, 'n_estimators': 905, 'num_leaves': 228, 'learning_rate': 0.02400399028196393, 'feature_fraction': 0.4999348000136674, 'bagging_fraction': 0.7713128150819167, 'bagging_freq': 7, 'lambda_l1': 0.588574808341435, 'lambda_l2': 0.6808539035032788}. Best is trial 26 with value: 0.6733870967741935.\n"
     ]
    },
    {
     "name": "stdout",
     "output_type": "stream",
     "text": [
      "[LightGBM] [Warning] bagging_freq is set=3, subsample_freq=0 will be ignored. Current value: bagging_freq=3\n",
      "[LightGBM] [Warning] lambda_l1 is set=0.4906371303498198, reg_alpha=0.0 will be ignored. Current value: lambda_l1=0.4906371303498198\n",
      "[LightGBM] [Warning] min_data_in_leaf is set=12, min_child_samples=20 will be ignored. Current value: min_data_in_leaf=12\n",
      "[LightGBM] [Warning] num_iterations is set=118, num_boost_round=118 will be ignored. Current value: num_iterations=118\n",
      "[LightGBM] [Warning] lambda_l2 is set=0.736074013563861, reg_lambda=0.0 will be ignored. Current value: lambda_l2=0.736074013563861\n",
      "[LightGBM] [Warning] feature_fraction is set=0.5324523281063944, colsample_bytree=1.0 will be ignored. Current value: feature_fraction=0.5324523281063944\n",
      "[LightGBM] [Warning] bagging_fraction is set=0.7425707920264335, subsample=1.0 will be ignored. Current value: bagging_fraction=0.7425707920264335\n"
     ]
    },
    {
     "name": "stderr",
     "output_type": "stream",
     "text": [
      "[I 2023-06-06 16:51:19,956] Trial 142 finished with value: 0.6673387096774194 and parameters: {'max_depth': 8, 'num_boost_round': 118, 'min_data_in_leaf': 12, 'n_estimators': 1816, 'num_leaves': 180, 'learning_rate': 0.02738470709101845, 'feature_fraction': 0.5324523281063944, 'bagging_fraction': 0.7425707920264335, 'bagging_freq': 3, 'lambda_l1': 0.4906371303498198, 'lambda_l2': 0.736074013563861}. Best is trial 26 with value: 0.6733870967741935.\n"
     ]
    },
    {
     "name": "stdout",
     "output_type": "stream",
     "text": [
      "[LightGBM] [Warning] bagging_freq is set=5, subsample_freq=0 will be ignored. Current value: bagging_freq=5\n",
      "[LightGBM] [Warning] lambda_l1 is set=0.4114358545517821, reg_alpha=0.0 will be ignored. Current value: lambda_l1=0.4114358545517821\n",
      "[LightGBM] [Warning] min_data_in_leaf is set=18, min_child_samples=20 will be ignored. Current value: min_data_in_leaf=18\n",
      "[LightGBM] [Warning] num_iterations is set=113, num_boost_round=113 will be ignored. Current value: num_iterations=113\n",
      "[LightGBM] [Warning] lambda_l2 is set=0.9298889589372603, reg_lambda=0.0 will be ignored. Current value: lambda_l2=0.9298889589372603\n",
      "[LightGBM] [Warning] feature_fraction is set=0.5571111142222595, colsample_bytree=1.0 will be ignored. Current value: feature_fraction=0.5571111142222595\n",
      "[LightGBM] [Warning] bagging_fraction is set=0.7580748006519064, subsample=1.0 will be ignored. Current value: bagging_fraction=0.7580748006519064\n"
     ]
    },
    {
     "name": "stderr",
     "output_type": "stream",
     "text": [
      "[I 2023-06-06 16:51:20,995] Trial 143 finished with value: 0.657258064516129 and parameters: {'max_depth': 8, 'num_boost_round': 113, 'min_data_in_leaf': 18, 'n_estimators': 1742, 'num_leaves': 332, 'learning_rate': 0.038889834752542624, 'feature_fraction': 0.5571111142222595, 'bagging_fraction': 0.7580748006519064, 'bagging_freq': 5, 'lambda_l1': 0.4114358545517821, 'lambda_l2': 0.9298889589372603}. Best is trial 26 with value: 0.6733870967741935.\n"
     ]
    },
    {
     "name": "stdout",
     "output_type": "stream",
     "text": [
      "[LightGBM] [Warning] bagging_freq is set=8, subsample_freq=0 will be ignored. Current value: bagging_freq=8\n",
      "[LightGBM] [Warning] lambda_l1 is set=0.6784502858480805, reg_alpha=0.0 will be ignored. Current value: lambda_l1=0.6784502858480805\n",
      "[LightGBM] [Warning] min_data_in_leaf is set=17, min_child_samples=20 will be ignored. Current value: min_data_in_leaf=17\n",
      "[LightGBM] [Warning] num_iterations is set=105, num_boost_round=105 will be ignored. Current value: num_iterations=105\n",
      "[LightGBM] [Warning] lambda_l2 is set=0.6293752887170369, reg_lambda=0.0 will be ignored. Current value: lambda_l2=0.6293752887170369\n",
      "[LightGBM] [Warning] feature_fraction is set=0.7007739015067374, colsample_bytree=1.0 will be ignored. Current value: feature_fraction=0.7007739015067374\n",
      "[LightGBM] [Warning] bagging_fraction is set=0.602910194792129, subsample=1.0 will be ignored. Current value: bagging_fraction=0.602910194792129\n"
     ]
    },
    {
     "name": "stderr",
     "output_type": "stream",
     "text": [
      "[I 2023-06-06 16:51:21,399] Trial 144 finished with value: 0.657258064516129 and parameters: {'max_depth': 4, 'num_boost_round': 105, 'min_data_in_leaf': 17, 'n_estimators': 985, 'num_leaves': 90, 'learning_rate': 0.02194695573961215, 'feature_fraction': 0.7007739015067374, 'bagging_fraction': 0.602910194792129, 'bagging_freq': 8, 'lambda_l1': 0.6784502858480805, 'lambda_l2': 0.6293752887170369}. Best is trial 26 with value: 0.6733870967741935.\n"
     ]
    },
    {
     "name": "stdout",
     "output_type": "stream",
     "text": [
      "[LightGBM] [Warning] bagging_freq is set=4, subsample_freq=0 will be ignored. Current value: bagging_freq=4\n",
      "[LightGBM] [Warning] lambda_l1 is set=0.5386045253593676, reg_alpha=0.0 will be ignored. Current value: lambda_l1=0.5386045253593676\n",
      "[LightGBM] [Warning] min_data_in_leaf is set=14, min_child_samples=20 will be ignored. Current value: min_data_in_leaf=14\n",
      "[LightGBM] [Warning] num_iterations is set=124, num_boost_round=124 will be ignored. Current value: num_iterations=124\n",
      "[LightGBM] [Warning] lambda_l2 is set=0.5515603108983668, reg_lambda=0.0 will be ignored. Current value: lambda_l2=0.5515603108983668\n",
      "[LightGBM] [Warning] feature_fraction is set=0.48152828898795014, colsample_bytree=1.0 will be ignored. Current value: feature_fraction=0.48152828898795014\n",
      "[LightGBM] [Warning] bagging_fraction is set=0.7215472463572936, subsample=1.0 will be ignored. Current value: bagging_fraction=0.7215472463572936\n"
     ]
    },
    {
     "name": "stderr",
     "output_type": "stream",
     "text": [
      "[I 2023-06-06 16:51:22,503] Trial 145 finished with value: 0.6592741935483871 and parameters: {'max_depth': 8, 'num_boost_round': 124, 'min_data_in_leaf': 14, 'n_estimators': 1606, 'num_leaves': 142, 'learning_rate': 0.026211217294267345, 'feature_fraction': 0.48152828898795014, 'bagging_fraction': 0.7215472463572936, 'bagging_freq': 4, 'lambda_l1': 0.5386045253593676, 'lambda_l2': 0.5515603108983668}. Best is trial 26 with value: 0.6733870967741935.\n"
     ]
    },
    {
     "name": "stdout",
     "output_type": "stream",
     "text": [
      "[LightGBM] [Warning] bagging_freq is set=5, subsample_freq=0 will be ignored. Current value: bagging_freq=5\n",
      "[LightGBM] [Warning] lambda_l1 is set=0.36157035012774663, reg_alpha=0.0 will be ignored. Current value: lambda_l1=0.36157035012774663\n",
      "[LightGBM] [Warning] min_data_in_leaf is set=19, min_child_samples=20 will be ignored. Current value: min_data_in_leaf=19\n",
      "[LightGBM] [Warning] num_iterations is set=110, num_boost_round=110 will be ignored. Current value: num_iterations=110\n",
      "[LightGBM] [Warning] lambda_l2 is set=0.8415649799456576, reg_lambda=0.0 will be ignored. Current value: lambda_l2=0.8415649799456576\n",
      "[LightGBM] [Warning] feature_fraction is set=0.620226479730427, colsample_bytree=1.0 will be ignored. Current value: feature_fraction=0.620226479730427\n",
      "[LightGBM] [Warning] bagging_fraction is set=0.5143601350584093, subsample=1.0 will be ignored. Current value: bagging_fraction=0.5143601350584093\n"
     ]
    },
    {
     "name": "stderr",
     "output_type": "stream",
     "text": [
      "[I 2023-06-06 16:51:23,316] Trial 146 finished with value: 0.6653225806451613 and parameters: {'max_depth': 8, 'num_boost_round': 110, 'min_data_in_leaf': 19, 'n_estimators': 1064, 'num_leaves': 282, 'learning_rate': 0.03258013439611889, 'feature_fraction': 0.620226479730427, 'bagging_fraction': 0.5143601350584093, 'bagging_freq': 5, 'lambda_l1': 0.36157035012774663, 'lambda_l2': 0.8415649799456576}. Best is trial 26 with value: 0.6733870967741935.\n"
     ]
    },
    {
     "name": "stdout",
     "output_type": "stream",
     "text": [
      "[LightGBM] [Warning] bagging_freq is set=6, subsample_freq=0 will be ignored. Current value: bagging_freq=6\n",
      "[LightGBM] [Warning] lambda_l1 is set=0.44034899255918325, reg_alpha=0.0 will be ignored. Current value: lambda_l1=0.44034899255918325\n",
      "[LightGBM] [Warning] min_data_in_leaf is set=18, min_child_samples=20 will be ignored. Current value: min_data_in_leaf=18\n",
      "[LightGBM] [Warning] num_iterations is set=127, num_boost_round=127 will be ignored. Current value: num_iterations=127\n",
      "[LightGBM] [Warning] lambda_l2 is set=0.716780237348418, reg_lambda=0.0 will be ignored. Current value: lambda_l2=0.716780237348418\n",
      "[LightGBM] [Warning] feature_fraction is set=0.6033857448747902, colsample_bytree=1.0 will be ignored. Current value: feature_fraction=0.6033857448747902\n",
      "[LightGBM] [Warning] bagging_fraction is set=0.780659375398552, subsample=1.0 will be ignored. Current value: bagging_fraction=0.780659375398552\n"
     ]
    },
    {
     "name": "stderr",
     "output_type": "stream",
     "text": [
      "[I 2023-06-06 16:51:24,529] Trial 147 finished with value: 0.657258064516129 and parameters: {'max_depth': 8, 'num_boost_round': 127, 'min_data_in_leaf': 18, 'n_estimators': 1448, 'num_leaves': 197, 'learning_rate': 0.030628294440438623, 'feature_fraction': 0.6033857448747902, 'bagging_fraction': 0.780659375398552, 'bagging_freq': 6, 'lambda_l1': 0.44034899255918325, 'lambda_l2': 0.716780237348418}. Best is trial 26 with value: 0.6733870967741935.\n"
     ]
    },
    {
     "name": "stdout",
     "output_type": "stream",
     "text": [
      "[LightGBM] [Warning] bagging_freq is set=5, subsample_freq=0 will be ignored. Current value: bagging_freq=5\n",
      "[LightGBM] [Warning] lambda_l1 is set=0.3375207909839776, reg_alpha=0.0 will be ignored. Current value: lambda_l1=0.3375207909839776\n",
      "[LightGBM] [Warning] min_data_in_leaf is set=17, min_child_samples=20 will be ignored. Current value: min_data_in_leaf=17\n",
      "[LightGBM] [Warning] num_iterations is set=118, num_boost_round=118 will be ignored. Current value: num_iterations=118\n",
      "[LightGBM] [Warning] lambda_l2 is set=0.4554906379510663, reg_lambda=0.0 will be ignored. Current value: lambda_l2=0.4554906379510663\n",
      "[LightGBM] [Warning] feature_fraction is set=0.5118020890280144, colsample_bytree=1.0 will be ignored. Current value: feature_fraction=0.5118020890280144\n",
      "[LightGBM] [Warning] bagging_fraction is set=0.7325959456454922, subsample=1.0 will be ignored. Current value: bagging_fraction=0.7325959456454922\n"
     ]
    },
    {
     "name": "stderr",
     "output_type": "stream",
     "text": [
      "[I 2023-06-06 16:51:25,618] Trial 148 finished with value: 0.6653225806451613 and parameters: {'max_depth': 8, 'num_boost_round': 118, 'min_data_in_leaf': 17, 'n_estimators': 1685, 'num_leaves': 241, 'learning_rate': 0.025429837397234426, 'feature_fraction': 0.5118020890280144, 'bagging_fraction': 0.7325959456454922, 'bagging_freq': 5, 'lambda_l1': 0.3375207909839776, 'lambda_l2': 0.4554906379510663}. Best is trial 26 with value: 0.6733870967741935.\n"
     ]
    },
    {
     "name": "stdout",
     "output_type": "stream",
     "text": [
      "[LightGBM] [Warning] bagging_freq is set=7, subsample_freq=0 will be ignored. Current value: bagging_freq=7\n",
      "[LightGBM] [Warning] lambda_l1 is set=0.20921012177436354, reg_alpha=0.0 will be ignored. Current value: lambda_l1=0.20921012177436354\n",
      "[LightGBM] [Warning] min_data_in_leaf is set=16, min_child_samples=20 will be ignored. Current value: min_data_in_leaf=16\n",
      "[LightGBM] [Warning] num_iterations is set=107, num_boost_round=107 will be ignored. Current value: num_iterations=107\n",
      "[LightGBM] [Warning] lambda_l2 is set=0.6035558954908683, reg_lambda=0.0 will be ignored. Current value: lambda_l2=0.6035558954908683\n",
      "[LightGBM] [Warning] feature_fraction is set=0.46529644875128234, colsample_bytree=1.0 will be ignored. Current value: feature_fraction=0.46529644875128234\n",
      "[LightGBM] [Warning] bagging_fraction is set=0.6883604187302217, subsample=1.0 will be ignored. Current value: bagging_fraction=0.6883604187302217\n"
     ]
    },
    {
     "name": "stderr",
     "output_type": "stream",
     "text": [
      "[I 2023-06-06 16:51:26,256] Trial 149 finished with value: 0.655241935483871 and parameters: {'max_depth': 6, 'num_boost_round': 107, 'min_data_in_leaf': 16, 'n_estimators': 798, 'num_leaves': 394, 'learning_rate': 0.03486452484308094, 'feature_fraction': 0.46529644875128234, 'bagging_fraction': 0.6883604187302217, 'bagging_freq': 7, 'lambda_l1': 0.20921012177436354, 'lambda_l2': 0.6035558954908683}. Best is trial 26 with value: 0.6733870967741935.\n"
     ]
    },
    {
     "name": "stdout",
     "output_type": "stream",
     "text": [
      "[LightGBM] [Warning] bagging_freq is set=4, subsample_freq=0 will be ignored. Current value: bagging_freq=4\n",
      "[LightGBM] [Warning] lambda_l1 is set=0.8282412571942943, reg_alpha=0.0 will be ignored. Current value: lambda_l1=0.8282412571942943\n",
      "[LightGBM] [Warning] min_data_in_leaf is set=18, min_child_samples=20 will be ignored. Current value: min_data_in_leaf=18\n",
      "[LightGBM] [Warning] num_iterations is set=112, num_boost_round=112 will be ignored. Current value: num_iterations=112\n",
      "[LightGBM] [Warning] lambda_l2 is set=0.1849073610599155, reg_lambda=0.0 will be ignored. Current value: lambda_l2=0.1849073610599155\n",
      "[LightGBM] [Warning] feature_fraction is set=0.5776695190115101, colsample_bytree=1.0 will be ignored. Current value: feature_fraction=0.5776695190115101\n",
      "[LightGBM] [Warning] bagging_fraction is set=0.7890486066341444, subsample=1.0 will be ignored. Current value: bagging_fraction=0.7890486066341444\n"
     ]
    },
    {
     "name": "stderr",
     "output_type": "stream",
     "text": [
      "[I 2023-06-06 16:51:27,329] Trial 150 finished with value: 0.6673387096774194 and parameters: {'max_depth': 8, 'num_boost_round': 112, 'min_data_in_leaf': 18, 'n_estimators': 1780, 'num_leaves': 77, 'learning_rate': 0.03629377162827973, 'feature_fraction': 0.5776695190115101, 'bagging_fraction': 0.7890486066341444, 'bagging_freq': 4, 'lambda_l1': 0.8282412571942943, 'lambda_l2': 0.1849073610599155}. Best is trial 26 with value: 0.6733870967741935.\n"
     ]
    },
    {
     "name": "stdout",
     "output_type": "stream",
     "text": [
      "[LightGBM] [Warning] bagging_freq is set=4, subsample_freq=0 will be ignored. Current value: bagging_freq=4\n",
      "[LightGBM] [Warning] lambda_l1 is set=0.3047060286933192, reg_alpha=0.0 will be ignored. Current value: lambda_l1=0.3047060286933192\n",
      "[LightGBM] [Warning] min_data_in_leaf is set=17, min_child_samples=20 will be ignored. Current value: min_data_in_leaf=17\n",
      "[LightGBM] [Warning] num_iterations is set=139, num_boost_round=139 will be ignored. Current value: num_iterations=139\n",
      "[LightGBM] [Warning] lambda_l2 is set=0.37263515633672206, reg_lambda=0.0 will be ignored. Current value: lambda_l2=0.37263515633672206\n",
      "[LightGBM] [Warning] feature_fraction is set=0.5945996557476436, colsample_bytree=1.0 will be ignored. Current value: feature_fraction=0.5945996557476436\n",
      "[LightGBM] [Warning] bagging_fraction is set=0.7549679398544942, subsample=1.0 will be ignored. Current value: bagging_fraction=0.7549679398544942\n"
     ]
    },
    {
     "name": "stderr",
     "output_type": "stream",
     "text": [
      "[I 2023-06-06 16:51:28,658] Trial 151 finished with value: 0.6633064516129032 and parameters: {'max_depth': 8, 'num_boost_round': 139, 'min_data_in_leaf': 17, 'n_estimators': 1530, 'num_leaves': 1995, 'learning_rate': 0.029317744504432936, 'feature_fraction': 0.5945996557476436, 'bagging_fraction': 0.7549679398544942, 'bagging_freq': 4, 'lambda_l1': 0.3047060286933192, 'lambda_l2': 0.37263515633672206}. Best is trial 26 with value: 0.6733870967741935.\n"
     ]
    },
    {
     "name": "stdout",
     "output_type": "stream",
     "text": [
      "[LightGBM] [Warning] bagging_freq is set=4, subsample_freq=0 will be ignored. Current value: bagging_freq=4\n",
      "[LightGBM] [Warning] lambda_l1 is set=0.3743908838497286, reg_alpha=0.0 will be ignored. Current value: lambda_l1=0.3743908838497286\n",
      "[LightGBM] [Warning] min_data_in_leaf is set=17, min_child_samples=20 will be ignored. Current value: min_data_in_leaf=17\n",
      "[LightGBM] [Warning] num_iterations is set=146, num_boost_round=146 will be ignored. Current value: num_iterations=146\n",
      "[LightGBM] [Warning] lambda_l2 is set=0.4189698551227678, reg_lambda=0.0 will be ignored. Current value: lambda_l2=0.4189698551227678\n",
      "[LightGBM] [Warning] feature_fraction is set=0.6613059106587923, colsample_bytree=1.0 will be ignored. Current value: feature_fraction=0.6613059106587923\n",
      "[LightGBM] [Warning] bagging_fraction is set=0.741085083993801, subsample=1.0 will be ignored. Current value: bagging_fraction=0.741085083993801\n"
     ]
    },
    {
     "name": "stderr",
     "output_type": "stream",
     "text": [
      "[I 2023-06-06 16:51:29,937] Trial 152 finished with value: 0.657258064516129 and parameters: {'max_depth': 7, 'num_boost_round': 146, 'min_data_in_leaf': 17, 'n_estimators': 1577, 'num_leaves': 832, 'learning_rate': 0.028351367898516062, 'feature_fraction': 0.6613059106587923, 'bagging_fraction': 0.741085083993801, 'bagging_freq': 4, 'lambda_l1': 0.3743908838497286, 'lambda_l2': 0.4189698551227678}. Best is trial 26 with value: 0.6733870967741935.\n"
     ]
    },
    {
     "name": "stdout",
     "output_type": "stream",
     "text": [
      "[LightGBM] [Warning] bagging_freq is set=3, subsample_freq=0 will be ignored. Current value: bagging_freq=3\n",
      "[LightGBM] [Warning] lambda_l1 is set=0.49151761980289904, reg_alpha=0.0 will be ignored. Current value: lambda_l1=0.49151761980289904\n",
      "[LightGBM] [Warning] min_data_in_leaf is set=17, min_child_samples=20 will be ignored. Current value: min_data_in_leaf=17\n",
      "[LightGBM] [Warning] num_iterations is set=135, num_boost_round=135 will be ignored. Current value: num_iterations=135\n",
      "[LightGBM] [Warning] lambda_l2 is set=0.5119716104480593, reg_lambda=0.0 will be ignored. Current value: lambda_l2=0.5119716104480593\n",
      "[LightGBM] [Warning] feature_fraction is set=0.6317784462951053, colsample_bytree=1.0 will be ignored. Current value: feature_fraction=0.6317784462951053\n",
      "[LightGBM] [Warning] bagging_fraction is set=0.7692361542018219, subsample=1.0 will be ignored. Current value: bagging_fraction=0.7692361542018219\n"
     ]
    },
    {
     "name": "stderr",
     "output_type": "stream",
     "text": [
      "[I 2023-06-06 16:51:31,286] Trial 153 finished with value: 0.6612903225806451 and parameters: {'max_depth': 8, 'num_boost_round': 135, 'min_data_in_leaf': 17, 'n_estimators': 1657, 'num_leaves': 1211, 'learning_rate': 0.027142158631739105, 'feature_fraction': 0.6317784462951053, 'bagging_fraction': 0.7692361542018219, 'bagging_freq': 3, 'lambda_l1': 0.49151761980289904, 'lambda_l2': 0.5119716104480593}. Best is trial 26 with value: 0.6733870967741935.\n"
     ]
    },
    {
     "name": "stdout",
     "output_type": "stream",
     "text": [
      "[LightGBM] [Warning] bagging_freq is set=4, subsample_freq=0 will be ignored. Current value: bagging_freq=4\n",
      "[LightGBM] [Warning] lambda_l1 is set=0.25617362833389135, reg_alpha=0.0 will be ignored. Current value: lambda_l1=0.25617362833389135\n",
      "[LightGBM] [Warning] min_data_in_leaf is set=20, min_child_samples=20 will be ignored. Current value: min_data_in_leaf=20\n",
      "[LightGBM] [Warning] num_iterations is set=116, num_boost_round=116 will be ignored. Current value: num_iterations=116\n",
      "[LightGBM] [Warning] lambda_l2 is set=0.3390613151326581, reg_lambda=0.0 will be ignored. Current value: lambda_l2=0.3390613151326581\n",
      "[LightGBM] [Warning] feature_fraction is set=0.6068693758354801, colsample_bytree=1.0 will be ignored. Current value: feature_fraction=0.6068693758354801\n",
      "[LightGBM] [Warning] bagging_fraction is set=0.7153023859753579, subsample=1.0 will be ignored. Current value: bagging_fraction=0.7153023859753579\n"
     ]
    },
    {
     "name": "stderr",
     "output_type": "stream",
     "text": [
      "[I 2023-06-06 16:51:32,320] Trial 154 finished with value: 0.6653225806451613 and parameters: {'max_depth': 8, 'num_boost_round': 116, 'min_data_in_leaf': 20, 'n_estimators': 1510, 'num_leaves': 674, 'learning_rate': 0.03019790067470073, 'feature_fraction': 0.6068693758354801, 'bagging_fraction': 0.7153023859753579, 'bagging_freq': 4, 'lambda_l1': 0.25617362833389135, 'lambda_l2': 0.3390613151326581}. Best is trial 26 with value: 0.6733870967741935.\n"
     ]
    },
    {
     "name": "stdout",
     "output_type": "stream",
     "text": [
      "[LightGBM] [Warning] bagging_freq is set=5, subsample_freq=0 will be ignored. Current value: bagging_freq=5\n",
      "[LightGBM] [Warning] lambda_l1 is set=0.4103274095431471, reg_alpha=0.0 will be ignored. Current value: lambda_l1=0.4103274095431471\n",
      "[LightGBM] [Warning] min_data_in_leaf is set=18, min_child_samples=20 will be ignored. Current value: min_data_in_leaf=18\n",
      "[LightGBM] [Warning] num_iterations is set=100, num_boost_round=100 will be ignored. Current value: num_iterations=100\n",
      "[LightGBM] [Warning] lambda_l2 is set=0.6632714751752583, reg_lambda=0.0 will be ignored. Current value: lambda_l2=0.6632714751752583\n",
      "[LightGBM] [Warning] feature_fraction is set=0.5238525411142442, colsample_bytree=1.0 will be ignored. Current value: feature_fraction=0.5238525411142442\n",
      "[LightGBM] [Warning] bagging_fraction is set=0.7593042787485826, subsample=1.0 will be ignored. Current value: bagging_fraction=0.7593042787485826\n"
     ]
    },
    {
     "name": "stderr",
     "output_type": "stream",
     "text": [
      "[I 2023-06-06 16:51:33,186] Trial 155 finished with value: 0.6633064516129032 and parameters: {'max_depth': 8, 'num_boost_round': 100, 'min_data_in_leaf': 18, 'n_estimators': 1467, 'num_leaves': 450, 'learning_rate': 0.0341714266910077, 'feature_fraction': 0.5238525411142442, 'bagging_fraction': 0.7593042787485826, 'bagging_freq': 5, 'lambda_l1': 0.4103274095431471, 'lambda_l2': 0.6632714751752583}. Best is trial 26 with value: 0.6733870967741935.\n"
     ]
    },
    {
     "name": "stdout",
     "output_type": "stream",
     "text": [
      "[LightGBM] [Warning] bagging_freq is set=2, subsample_freq=0 will be ignored. Current value: bagging_freq=2\n",
      "[LightGBM] [Warning] lambda_l1 is set=0.33579222157866306, reg_alpha=0.0 will be ignored. Current value: lambda_l1=0.33579222157866306\n",
      "[LightGBM] [Warning] min_data_in_leaf is set=16, min_child_samples=20 will be ignored. Current value: min_data_in_leaf=16\n",
      "[LightGBM] [Warning] num_iterations is set=150, num_boost_round=150 will be ignored. Current value: num_iterations=150\n",
      "[LightGBM] [Warning] lambda_l2 is set=0.28293216685886335, reg_lambda=0.0 will be ignored. Current value: lambda_l2=0.28293216685886335\n",
      "[LightGBM] [Warning] feature_fraction is set=0.49339803876765065, colsample_bytree=1.0 will be ignored. Current value: feature_fraction=0.49339803876765065\n",
      "[LightGBM] [Warning] bagging_fraction is set=0.7487643550355229, subsample=1.0 will be ignored. Current value: bagging_fraction=0.7487643550355229\n"
     ]
    },
    {
     "name": "stderr",
     "output_type": "stream",
     "text": [
      "[I 2023-06-06 16:51:34,473] Trial 156 finished with value: 0.6633064516129032 and parameters: {'max_depth': 8, 'num_boost_round': 150, 'min_data_in_leaf': 16, 'n_estimators': 1616, 'num_leaves': 365, 'learning_rate': 0.03222844489003379, 'feature_fraction': 0.49339803876765065, 'bagging_fraction': 0.7487643550355229, 'bagging_freq': 2, 'lambda_l1': 0.33579222157866306, 'lambda_l2': 0.28293216685886335}. Best is trial 26 with value: 0.6733870967741935.\n"
     ]
    },
    {
     "name": "stdout",
     "output_type": "stream",
     "text": [
      "[LightGBM] [Warning] bagging_freq is set=4, subsample_freq=0 will be ignored. Current value: bagging_freq=4\n",
      "[LightGBM] [Warning] lambda_l1 is set=0.2252329913185675, reg_alpha=0.0 will be ignored. Current value: lambda_l1=0.2252329913185675\n",
      "[LightGBM] [Warning] min_data_in_leaf is set=18, min_child_samples=20 will be ignored. Current value: min_data_in_leaf=18\n",
      "[LightGBM] [Warning] num_iterations is set=131, num_boost_round=131 will be ignored. Current value: num_iterations=131\n",
      "[LightGBM] [Warning] lambda_l2 is set=0.22213813706862903, reg_lambda=0.0 will be ignored. Current value: lambda_l2=0.22213813706862903\n",
      "[LightGBM] [Warning] feature_fraction is set=0.5817706951082882, colsample_bytree=1.0 will be ignored. Current value: feature_fraction=0.5817706951082882\n",
      "[LightGBM] [Warning] bagging_fraction is set=0.798896419892405, subsample=1.0 will be ignored. Current value: bagging_fraction=0.798896419892405\n"
     ]
    },
    {
     "name": "stderr",
     "output_type": "stream",
     "text": [
      "[I 2023-06-06 16:51:35,777] Trial 157 finished with value: 0.6592741935483871 and parameters: {'max_depth': 8, 'num_boost_round': 131, 'min_data_in_leaf': 18, 'n_estimators': 1413, 'num_leaves': 311, 'learning_rate': 0.02357963781822288, 'feature_fraction': 0.5817706951082882, 'bagging_fraction': 0.798896419892405, 'bagging_freq': 4, 'lambda_l1': 0.2252329913185675, 'lambda_l2': 0.22213813706862903}. Best is trial 26 with value: 0.6733870967741935.\n"
     ]
    },
    {
     "name": "stdout",
     "output_type": "stream",
     "text": [
      "[LightGBM] [Warning] bagging_freq is set=5, subsample_freq=0 will be ignored. Current value: bagging_freq=5\n",
      "[LightGBM] [Warning] lambda_l1 is set=0.27912465715372037, reg_alpha=0.0 will be ignored. Current value: lambda_l1=0.27912465715372037\n",
      "[LightGBM] [Warning] min_data_in_leaf is set=12, min_child_samples=20 will be ignored. Current value: min_data_in_leaf=12\n",
      "[LightGBM] [Warning] num_iterations is set=105, num_boost_round=105 will be ignored. Current value: num_iterations=105\n",
      "[LightGBM] [Warning] lambda_l2 is set=0.5604920877825003, reg_lambda=0.0 will be ignored. Current value: lambda_l2=0.5604920877825003\n",
      "[LightGBM] [Warning] feature_fraction is set=0.5591961025359551, colsample_bytree=1.0 will be ignored. Current value: feature_fraction=0.5591961025359551\n",
      "[LightGBM] [Warning] bagging_fraction is set=0.7304381655871841, subsample=1.0 will be ignored. Current value: bagging_fraction=0.7304381655871841\n"
     ]
    },
    {
     "name": "stderr",
     "output_type": "stream",
     "text": [
      "[I 2023-06-06 16:51:36,892] Trial 158 finished with value: 0.657258064516129 and parameters: {'max_depth': 8, 'num_boost_round': 105, 'min_data_in_leaf': 12, 'n_estimators': 1539, 'num_leaves': 409, 'learning_rate': 0.03828516758214832, 'feature_fraction': 0.5591961025359551, 'bagging_fraction': 0.7304381655871841, 'bagging_freq': 5, 'lambda_l1': 0.27912465715372037, 'lambda_l2': 0.5604920877825003}. Best is trial 26 with value: 0.6733870967741935.\n"
     ]
    },
    {
     "name": "stdout",
     "output_type": "stream",
     "text": [
      "[LightGBM] [Warning] bagging_freq is set=4, subsample_freq=0 will be ignored. Current value: bagging_freq=4\n",
      "[LightGBM] [Warning] lambda_l1 is set=0.6361654920945721, reg_alpha=0.0 will be ignored. Current value: lambda_l1=0.6361654920945721\n",
      "[LightGBM] [Warning] min_data_in_leaf is set=17, min_child_samples=20 will be ignored. Current value: min_data_in_leaf=17\n",
      "[LightGBM] [Warning] num_iterations is set=156, num_boost_round=156 will be ignored. Current value: num_iterations=156\n",
      "[LightGBM] [Warning] lambda_l2 is set=0.8045116127270238, reg_lambda=0.0 will be ignored. Current value: lambda_l2=0.8045116127270238\n",
      "[LightGBM] [Warning] feature_fraction is set=0.4454740411382134, colsample_bytree=1.0 will be ignored. Current value: feature_fraction=0.4454740411382134\n",
      "[LightGBM] [Warning] bagging_fraction is set=0.7754842095189161, subsample=1.0 will be ignored. Current value: bagging_fraction=0.7754842095189161\n"
     ]
    },
    {
     "name": "stderr",
     "output_type": "stream",
     "text": [
      "[I 2023-06-06 16:51:38,174] Trial 159 finished with value: 0.6653225806451613 and parameters: {'max_depth': 8, 'num_boost_round': 156, 'min_data_in_leaf': 17, 'n_estimators': 1362, 'num_leaves': 177, 'learning_rate': 0.026492966841237083, 'feature_fraction': 0.4454740411382134, 'bagging_fraction': 0.7754842095189161, 'bagging_freq': 4, 'lambda_l1': 0.6361654920945721, 'lambda_l2': 0.8045116127270238}. Best is trial 26 with value: 0.6733870967741935.\n"
     ]
    },
    {
     "name": "stdout",
     "output_type": "stream",
     "text": [
      "[LightGBM] [Warning] bagging_freq is set=3, subsample_freq=0 will be ignored. Current value: bagging_freq=3\n",
      "[LightGBM] [Warning] lambda_l1 is set=0.5627386467764071, reg_alpha=0.0 will be ignored. Current value: lambda_l1=0.5627386467764071\n",
      "[LightGBM] [Warning] min_data_in_leaf is set=18, min_child_samples=20 will be ignored. Current value: min_data_in_leaf=18\n",
      "[LightGBM] [Warning] num_iterations is set=167, num_boost_round=167 will be ignored. Current value: num_iterations=167\n",
      "[LightGBM] [Warning] lambda_l2 is set=0.4243197862971599, reg_lambda=0.0 will be ignored. Current value: lambda_l2=0.4243197862971599\n",
      "[LightGBM] [Warning] feature_fraction is set=0.6423065338431174, colsample_bytree=1.0 will be ignored. Current value: feature_fraction=0.6423065338431174\n",
      "[LightGBM] [Warning] bagging_fraction is set=0.7084247611565548, subsample=1.0 will be ignored. Current value: bagging_fraction=0.7084247611565548\n"
     ]
    },
    {
     "name": "stderr",
     "output_type": "stream",
     "text": [
      "[I 2023-06-06 16:51:39,672] Trial 160 finished with value: 0.6612903225806451 and parameters: {'max_depth': 8, 'num_boost_round': 167, 'min_data_in_leaf': 18, 'n_estimators': 707, 'num_leaves': 126, 'learning_rate': 0.024847644536829954, 'feature_fraction': 0.6423065338431174, 'bagging_fraction': 0.7084247611565548, 'bagging_freq': 3, 'lambda_l1': 0.5627386467764071, 'lambda_l2': 0.4243197862971599}. Best is trial 26 with value: 0.6733870967741935.\n"
     ]
    },
    {
     "name": "stdout",
     "output_type": "stream",
     "text": [
      "[LightGBM] [Warning] bagging_freq is set=6, subsample_freq=0 will be ignored. Current value: bagging_freq=6\n",
      "[LightGBM] [Warning] lambda_l1 is set=0.40414825297635304, reg_alpha=0.0 will be ignored. Current value: lambda_l1=0.40414825297635304\n",
      "[LightGBM] [Warning] min_data_in_leaf is set=18, min_child_samples=20 will be ignored. Current value: min_data_in_leaf=18\n",
      "[LightGBM] [Warning] num_iterations is set=125, num_boost_round=125 will be ignored. Current value: num_iterations=125\n",
      "[LightGBM] [Warning] lambda_l2 is set=0.27202896601085624, reg_lambda=0.0 will be ignored. Current value: lambda_l2=0.27202896601085624\n",
      "[LightGBM] [Warning] feature_fraction is set=0.47101080594258465, colsample_bytree=1.0 will be ignored. Current value: feature_fraction=0.47101080594258465\n",
      "[LightGBM] [Warning] bagging_fraction is set=0.7869416290660708, subsample=1.0 will be ignored. Current value: bagging_fraction=0.7869416290660708\n"
     ]
    },
    {
     "name": "stderr",
     "output_type": "stream",
     "text": [
      "[I 2023-06-06 16:51:40,778] Trial 161 finished with value: 0.657258064516129 and parameters: {'max_depth': 8, 'num_boost_round': 125, 'min_data_in_leaf': 18, 'n_estimators': 1650, 'num_leaves': 656, 'learning_rate': 0.03224236034225465, 'feature_fraction': 0.47101080594258465, 'bagging_fraction': 0.7869416290660708, 'bagging_freq': 6, 'lambda_l1': 0.40414825297635304, 'lambda_l2': 0.27202896601085624}. Best is trial 26 with value: 0.6733870967741935.\n"
     ]
    },
    {
     "name": "stdout",
     "output_type": "stream",
     "text": [
      "[LightGBM] [Warning] bagging_freq is set=6, subsample_freq=0 will be ignored. Current value: bagging_freq=6\n",
      "[LightGBM] [Warning] lambda_l1 is set=0.3747734619000116, reg_alpha=0.0 will be ignored. Current value: lambda_l1=0.3747734619000116\n",
      "[LightGBM] [Warning] min_data_in_leaf is set=18, min_child_samples=20 will be ignored. Current value: min_data_in_leaf=18\n",
      "[LightGBM] [Warning] num_iterations is set=122, num_boost_round=122 will be ignored. Current value: num_iterations=122\n",
      "[LightGBM] [Warning] lambda_l2 is set=0.31471357697592856, reg_lambda=0.0 will be ignored. Current value: lambda_l2=0.31471357697592856\n",
      "[LightGBM] [Warning] feature_fraction is set=0.45597131968359994, colsample_bytree=1.0 will be ignored. Current value: feature_fraction=0.45597131968359994\n",
      "[LightGBM] [Warning] bagging_fraction is set=0.7740391523700033, subsample=1.0 will be ignored. Current value: bagging_fraction=0.7740391523700033\n"
     ]
    },
    {
     "name": "stderr",
     "output_type": "stream",
     "text": [
      "[I 2023-06-06 16:51:41,698] Trial 162 finished with value: 0.6592741935483871 and parameters: {'max_depth': 7, 'num_boost_round': 122, 'min_data_in_leaf': 18, 'n_estimators': 1693, 'num_leaves': 718, 'learning_rate': 0.031175597247454036, 'feature_fraction': 0.45597131968359994, 'bagging_fraction': 0.7740391523700033, 'bagging_freq': 6, 'lambda_l1': 0.3747734619000116, 'lambda_l2': 0.31471357697592856}. Best is trial 26 with value: 0.6733870967741935.\n"
     ]
    },
    {
     "name": "stdout",
     "output_type": "stream",
     "text": [
      "[LightGBM] [Warning] bagging_freq is set=6, subsample_freq=0 will be ignored. Current value: bagging_freq=6\n",
      "[LightGBM] [Warning] lambda_l1 is set=0.4500930768808354, reg_alpha=0.0 will be ignored. Current value: lambda_l1=0.4500930768808354\n",
      "[LightGBM] [Warning] min_data_in_leaf is set=18, min_child_samples=20 will be ignored. Current value: min_data_in_leaf=18\n",
      "[LightGBM] [Warning] num_iterations is set=111, num_boost_round=111 will be ignored. Current value: num_iterations=111\n",
      "[LightGBM] [Warning] lambda_l2 is set=0.2078065128518742, reg_lambda=0.0 will be ignored. Current value: lambda_l2=0.2078065128518742\n",
      "[LightGBM] [Warning] feature_fraction is set=0.4924246107369703, colsample_bytree=1.0 will be ignored. Current value: feature_fraction=0.4924246107369703\n",
      "[LightGBM] [Warning] bagging_fraction is set=0.7487409739582643, subsample=1.0 will be ignored. Current value: bagging_fraction=0.7487409739582643\n"
     ]
    },
    {
     "name": "stderr",
     "output_type": "stream",
     "text": [
      "[I 2023-06-06 16:51:42,500] Trial 163 finished with value: 0.655241935483871 and parameters: {'max_depth': 7, 'num_boost_round': 111, 'min_data_in_leaf': 18, 'n_estimators': 1584, 'num_leaves': 609, 'learning_rate': 0.02856329688833339, 'feature_fraction': 0.4924246107369703, 'bagging_fraction': 0.7487409739582643, 'bagging_freq': 6, 'lambda_l1': 0.4500930768808354, 'lambda_l2': 0.2078065128518742}. Best is trial 26 with value: 0.6733870967741935.\n"
     ]
    },
    {
     "name": "stdout",
     "output_type": "stream",
     "text": [
      "[LightGBM] [Warning] bagging_freq is set=7, subsample_freq=0 will be ignored. Current value: bagging_freq=7\n",
      "[LightGBM] [Warning] lambda_l1 is set=0.32732145029584114, reg_alpha=0.0 will be ignored. Current value: lambda_l1=0.32732145029584114\n",
      "[LightGBM] [Warning] min_data_in_leaf is set=17, min_child_samples=20 will be ignored. Current value: min_data_in_leaf=17\n",
      "[LightGBM] [Warning] num_iterations is set=141, num_boost_round=141 will be ignored. Current value: num_iterations=141\n",
      "[LightGBM] [Warning] lambda_l2 is set=0.24765927885562442, reg_lambda=0.0 will be ignored. Current value: lambda_l2=0.24765927885562442\n",
      "[LightGBM] [Warning] feature_fraction is set=0.42773497552936407, colsample_bytree=1.0 will be ignored. Current value: feature_fraction=0.42773497552936407\n",
      "[LightGBM] [Warning] bagging_fraction is set=0.7853526728948794, subsample=1.0 will be ignored. Current value: bagging_fraction=0.7853526728948794\n"
     ]
    },
    {
     "name": "stderr",
     "output_type": "stream",
     "text": [
      "[I 2023-06-06 16:51:43,738] Trial 164 finished with value: 0.6592741935483871 and parameters: {'max_depth': 8, 'num_boost_round': 141, 'min_data_in_leaf': 17, 'n_estimators': 1713, 'num_leaves': 542, 'learning_rate': 0.02992617577030646, 'feature_fraction': 0.42773497552936407, 'bagging_fraction': 0.7853526728948794, 'bagging_freq': 7, 'lambda_l1': 0.32732145029584114, 'lambda_l2': 0.24765927885562442}. Best is trial 26 with value: 0.6733870967741935.\n"
     ]
    },
    {
     "name": "stdout",
     "output_type": "stream",
     "text": [
      "[LightGBM] [Warning] bagging_freq is set=5, subsample_freq=0 will be ignored. Current value: bagging_freq=5\n",
      "[LightGBM] [Warning] lambda_l1 is set=0.15710164977630423, reg_alpha=0.0 will be ignored. Current value: lambda_l1=0.15710164977630423\n",
      "[LightGBM] [Warning] min_data_in_leaf is set=19, min_child_samples=20 will be ignored. Current value: min_data_in_leaf=19\n",
      "[LightGBM] [Warning] num_iterations is set=128, num_boost_round=128 will be ignored. Current value: num_iterations=128\n",
      "[LightGBM] [Warning] lambda_l2 is set=0.37987123020942715, reg_lambda=0.0 will be ignored. Current value: lambda_l2=0.37987123020942715\n",
      "[LightGBM] [Warning] feature_fraction is set=0.5371161640825993, colsample_bytree=1.0 will be ignored. Current value: feature_fraction=0.5371161640825993\n",
      "[LightGBM] [Warning] bagging_fraction is set=0.7617374440217155, subsample=1.0 will be ignored. Current value: bagging_fraction=0.7617374440217155\n"
     ]
    },
    {
     "name": "stderr",
     "output_type": "stream",
     "text": [
      "[I 2023-06-06 16:51:44,371] Trial 165 finished with value: 0.6612903225806451 and parameters: {'max_depth': 5, 'num_boost_round': 128, 'min_data_in_leaf': 19, 'n_estimators': 1636, 'num_leaves': 218, 'learning_rate': 0.03346896036094973, 'feature_fraction': 0.5371161640825993, 'bagging_fraction': 0.7617374440217155, 'bagging_freq': 5, 'lambda_l1': 0.15710164977630423, 'lambda_l2': 0.37987123020942715}. Best is trial 26 with value: 0.6733870967741935.\n"
     ]
    },
    {
     "name": "stdout",
     "output_type": "stream",
     "text": [
      "[LightGBM] [Warning] bagging_freq is set=7, subsample_freq=0 will be ignored. Current value: bagging_freq=7\n",
      "[LightGBM] [Warning] lambda_l1 is set=0.5199368484423225, reg_alpha=0.0 will be ignored. Current value: lambda_l1=0.5199368484423225\n",
      "[LightGBM] [Warning] min_data_in_leaf is set=13, min_child_samples=20 will be ignored. Current value: min_data_in_leaf=13\n",
      "[LightGBM] [Warning] num_iterations is set=119, num_boost_round=119 will be ignored. Current value: num_iterations=119\n",
      "[LightGBM] [Warning] lambda_l2 is set=0.4894027034756591, reg_lambda=0.0 will be ignored. Current value: lambda_l2=0.4894027034756591\n",
      "[LightGBM] [Warning] feature_fraction is set=0.5049848251844217, colsample_bytree=1.0 will be ignored. Current value: feature_fraction=0.5049848251844217\n",
      "[LightGBM] [Warning] bagging_fraction is set=0.7352247520952917, subsample=1.0 will be ignored. Current value: bagging_fraction=0.7352247520952917\n"
     ]
    },
    {
     "name": "stderr",
     "output_type": "stream",
     "text": [
      "[I 2023-06-06 16:51:45,547] Trial 166 finished with value: 0.6592741935483871 and parameters: {'max_depth': 8, 'num_boost_round': 119, 'min_data_in_leaf': 13, 'n_estimators': 1496, 'num_leaves': 487, 'learning_rate': 0.036932962118650395, 'feature_fraction': 0.5049848251844217, 'bagging_fraction': 0.7352247520952917, 'bagging_freq': 7, 'lambda_l1': 0.5199368484423225, 'lambda_l2': 0.4894027034756591}. Best is trial 26 with value: 0.6733870967741935.\n"
     ]
    },
    {
     "name": "stdout",
     "output_type": "stream",
     "text": [
      "[LightGBM] [Warning] bagging_freq is set=5, subsample_freq=0 will be ignored. Current value: bagging_freq=5\n",
      "[LightGBM] [Warning] lambda_l1 is set=0.46863039431622044, reg_alpha=0.0 will be ignored. Current value: lambda_l1=0.46863039431622044\n",
      "[LightGBM] [Warning] min_data_in_leaf is set=18, min_child_samples=20 will be ignored. Current value: min_data_in_leaf=18\n",
      "[LightGBM] [Warning] num_iterations is set=113, num_boost_round=113 will be ignored. Current value: num_iterations=113\n",
      "[LightGBM] [Warning] lambda_l2 is set=0.3102017225177248, reg_lambda=0.0 will be ignored. Current value: lambda_l2=0.3102017225177248\n",
      "[LightGBM] [Warning] feature_fraction is set=0.7418342282120212, colsample_bytree=1.0 will be ignored. Current value: feature_fraction=0.7418342282120212\n",
      "[LightGBM] [Warning] bagging_fraction is set=0.7755451258889902, subsample=1.0 will be ignored. Current value: bagging_fraction=0.7755451258889902\n"
     ]
    },
    {
     "name": "stderr",
     "output_type": "stream",
     "text": [
      "[I 2023-06-06 16:51:46,779] Trial 167 finished with value: 0.6633064516129032 and parameters: {'max_depth': 8, 'num_boost_round': 113, 'min_data_in_leaf': 18, 'n_estimators': 1569, 'num_leaves': 635, 'learning_rate': 0.041257459696549675, 'feature_fraction': 0.7418342282120212, 'bagging_fraction': 0.7755451258889902, 'bagging_freq': 5, 'lambda_l1': 0.46863039431622044, 'lambda_l2': 0.3102017225177248}. Best is trial 26 with value: 0.6733870967741935.\n"
     ]
    },
    {
     "name": "stdout",
     "output_type": "stream",
     "text": [
      "[LightGBM] [Warning] bagging_freq is set=4, subsample_freq=0 will be ignored. Current value: bagging_freq=4\n",
      "[LightGBM] [Warning] lambda_l1 is set=0.1679529054402942, reg_alpha=0.0 will be ignored. Current value: lambda_l1=0.1679529054402942\n",
      "[LightGBM] [Warning] min_data_in_leaf is set=16, min_child_samples=20 will be ignored. Current value: min_data_in_leaf=16\n",
      "[LightGBM] [Warning] num_iterations is set=107, num_boost_round=107 will be ignored. Current value: num_iterations=107\n",
      "[LightGBM] [Warning] lambda_l2 is set=0.2703382786140636, reg_lambda=0.0 will be ignored. Current value: lambda_l2=0.2703382786140636\n",
      "[LightGBM] [Warning] feature_fraction is set=0.46422054034290394, colsample_bytree=1.0 will be ignored. Current value: feature_fraction=0.46422054034290394\n",
      "[LightGBM] [Warning] bagging_fraction is set=0.7522754074500001, subsample=1.0 will be ignored. Current value: bagging_fraction=0.7522754074500001\n"
     ]
    },
    {
     "name": "stderr",
     "output_type": "stream",
     "text": [
      "[I 2023-06-06 16:51:47,659] Trial 168 finished with value: 0.6633064516129032 and parameters: {'max_depth': 7, 'num_boost_round': 107, 'min_data_in_leaf': 16, 'n_estimators': 1744, 'num_leaves': 261, 'learning_rate': 0.03138998177196202, 'feature_fraction': 0.46422054034290394, 'bagging_fraction': 0.7522754074500001, 'bagging_freq': 4, 'lambda_l1': 0.1679529054402942, 'lambda_l2': 0.2703382786140636}. Best is trial 26 with value: 0.6733870967741935.\n"
     ]
    },
    {
     "name": "stdout",
     "output_type": "stream",
     "text": [
      "[LightGBM] [Warning] bagging_freq is set=6, subsample_freq=0 will be ignored. Current value: bagging_freq=6\n",
      "[LightGBM] [Warning] lambda_l1 is set=0.3603203448074913, reg_alpha=0.0 will be ignored. Current value: lambda_l1=0.3603203448074913\n",
      "[LightGBM] [Warning] min_data_in_leaf is set=17, min_child_samples=20 will be ignored. Current value: min_data_in_leaf=17\n",
      "[LightGBM] [Warning] num_iterations is set=134, num_boost_round=134 will be ignored. Current value: num_iterations=134\n",
      "[LightGBM] [Warning] lambda_l2 is set=0.43990295230402054, reg_lambda=0.0 will be ignored. Current value: lambda_l2=0.43990295230402054\n",
      "[LightGBM] [Warning] feature_fraction is set=0.6204582219686154, colsample_bytree=1.0 will be ignored. Current value: feature_fraction=0.6204582219686154\n",
      "[LightGBM] [Warning] bagging_fraction is set=0.39631132208181574, subsample=1.0 will be ignored. Current value: bagging_fraction=0.39631132208181574\n"
     ]
    },
    {
     "name": "stderr",
     "output_type": "stream",
     "text": [
      "[I 2023-06-06 16:51:48,539] Trial 169 finished with value: 0.6532258064516129 and parameters: {'max_depth': 8, 'num_boost_round': 134, 'min_data_in_leaf': 17, 'n_estimators': 1657, 'num_leaves': 578, 'learning_rate': 0.027977633297953535, 'feature_fraction': 0.6204582219686154, 'bagging_fraction': 0.39631132208181574, 'bagging_freq': 6, 'lambda_l1': 0.3603203448074913, 'lambda_l2': 0.43990295230402054}. Best is trial 26 with value: 0.6733870967741935.\n"
     ]
    },
    {
     "name": "stdout",
     "output_type": "stream",
     "text": [
      "[LightGBM] [Warning] bagging_freq is set=5, subsample_freq=0 will be ignored. Current value: bagging_freq=5\n",
      "[LightGBM] [Warning] lambda_l1 is set=0.13308144133290362, reg_alpha=0.0 will be ignored. Current value: lambda_l1=0.13308144133290362\n",
      "[LightGBM] [Warning] min_data_in_leaf is set=10, min_child_samples=20 will be ignored. Current value: min_data_in_leaf=10\n",
      "[LightGBM] [Warning] num_iterations is set=124, num_boost_round=124 will be ignored. Current value: num_iterations=124\n",
      "[LightGBM] [Warning] lambda_l2 is set=0.6007295834288049, reg_lambda=0.0 will be ignored. Current value: lambda_l2=0.6007295834288049\n",
      "[LightGBM] [Warning] feature_fraction is set=0.414301983613552, colsample_bytree=1.0 will be ignored. Current value: feature_fraction=0.414301983613552\n",
      "[LightGBM] [Warning] bagging_fraction is set=0.7223152618462959, subsample=1.0 will be ignored. Current value: bagging_fraction=0.7223152618462959\n"
     ]
    },
    {
     "name": "stderr",
     "output_type": "stream",
     "text": [
      "[I 2023-06-06 16:51:49,740] Trial 170 finished with value: 0.6612903225806451 and parameters: {'max_depth': 8, 'num_boost_round': 124, 'min_data_in_leaf': 10, 'n_estimators': 1601, 'num_leaves': 56, 'learning_rate': 0.03579148574341716, 'feature_fraction': 0.414301983613552, 'bagging_fraction': 0.7223152618462959, 'bagging_freq': 5, 'lambda_l1': 0.13308144133290362, 'lambda_l2': 0.6007295834288049}. Best is trial 26 with value: 0.6733870967741935.\n"
     ]
    },
    {
     "name": "stdout",
     "output_type": "stream",
     "text": [
      "[LightGBM] [Warning] bagging_freq is set=5, subsample_freq=0 will be ignored. Current value: bagging_freq=5\n",
      "[LightGBM] [Warning] lambda_l1 is set=0.3907088822693147, reg_alpha=0.0 will be ignored. Current value: lambda_l1=0.3907088822693147\n",
      "[LightGBM] [Warning] min_data_in_leaf is set=18, min_child_samples=20 will be ignored. Current value: min_data_in_leaf=18\n",
      "[LightGBM] [Warning] num_iterations is set=115, num_boost_round=115 will be ignored. Current value: num_iterations=115\n",
      "[LightGBM] [Warning] lambda_l2 is set=0.6557951340757224, reg_lambda=0.0 will be ignored. Current value: lambda_l2=0.6557951340757224\n",
      "[LightGBM] [Warning] feature_fraction is set=0.43892746270409505, colsample_bytree=1.0 will be ignored. Current value: feature_fraction=0.43892746270409505\n",
      "[LightGBM] [Warning] bagging_fraction is set=0.7390419656453591, subsample=1.0 will be ignored. Current value: bagging_fraction=0.7390419656453591\n"
     ]
    },
    {
     "name": "stderr",
     "output_type": "stream",
     "text": [
      "[I 2023-06-06 16:51:50,678] Trial 171 finished with value: 0.6673387096774194 and parameters: {'max_depth': 8, 'num_boost_round': 115, 'min_data_in_leaf': 18, 'n_estimators': 1549, 'num_leaves': 214, 'learning_rate': 0.038237055871133525, 'feature_fraction': 0.43892746270409505, 'bagging_fraction': 0.7390419656453591, 'bagging_freq': 5, 'lambda_l1': 0.3907088822693147, 'lambda_l2': 0.6557951340757224}. Best is trial 26 with value: 0.6733870967741935.\n"
     ]
    },
    {
     "name": "stdout",
     "output_type": "stream",
     "text": [
      "[LightGBM] [Warning] bagging_freq is set=5, subsample_freq=0 will be ignored. Current value: bagging_freq=5\n",
      "[LightGBM] [Warning] lambda_l1 is set=0.4253181070194674, reg_alpha=0.0 will be ignored. Current value: lambda_l1=0.4253181070194674\n",
      "[LightGBM] [Warning] min_data_in_leaf is set=18, min_child_samples=20 will be ignored. Current value: min_data_in_leaf=18\n",
      "[LightGBM] [Warning] num_iterations is set=116, num_boost_round=116 will be ignored. Current value: num_iterations=116\n",
      "[LightGBM] [Warning] lambda_l2 is set=0.7308176258840932, reg_lambda=0.0 will be ignored. Current value: lambda_l2=0.7308176258840932\n",
      "[LightGBM] [Warning] feature_fraction is set=0.48394910425670534, colsample_bytree=1.0 will be ignored. Current value: feature_fraction=0.48394910425670534\n",
      "[LightGBM] [Warning] bagging_fraction is set=0.7994995837526064, subsample=1.0 will be ignored. Current value: bagging_fraction=0.7994995837526064\n"
     ]
    },
    {
     "name": "stderr",
     "output_type": "stream",
     "text": [
      "[I 2023-06-06 16:51:51,702] Trial 172 finished with value: 0.6512096774193549 and parameters: {'max_depth': 8, 'num_boost_round': 116, 'min_data_in_leaf': 18, 'n_estimators': 1523, 'num_leaves': 145, 'learning_rate': 0.039846332481013706, 'feature_fraction': 0.48394910425670534, 'bagging_fraction': 0.7994995837526064, 'bagging_freq': 5, 'lambda_l1': 0.4253181070194674, 'lambda_l2': 0.7308176258840932}. Best is trial 26 with value: 0.6733870967741935.\n"
     ]
    },
    {
     "name": "stdout",
     "output_type": "stream",
     "text": [
      "[LightGBM] [Warning] bagging_freq is set=5, subsample_freq=0 will be ignored. Current value: bagging_freq=5\n",
      "[LightGBM] [Warning] lambda_l1 is set=0.29543119154505154, reg_alpha=0.0 will be ignored. Current value: lambda_l1=0.29543119154505154\n",
      "[LightGBM] [Warning] min_data_in_leaf is set=19, min_child_samples=20 will be ignored. Current value: min_data_in_leaf=19\n",
      "[LightGBM] [Warning] num_iterations is set=103, num_boost_round=103 will be ignored. Current value: num_iterations=103\n",
      "[LightGBM] [Warning] lambda_l2 is set=0.5305825098095568, reg_lambda=0.0 will be ignored. Current value: lambda_l2=0.5305825098095568\n",
      "[LightGBM] [Warning] feature_fraction is set=0.44088223450889985, colsample_bytree=1.0 will be ignored. Current value: feature_fraction=0.44088223450889985\n",
      "[LightGBM] [Warning] bagging_fraction is set=0.7625634817560475, subsample=1.0 will be ignored. Current value: bagging_fraction=0.7625634817560475\n"
     ]
    },
    {
     "name": "stderr",
     "output_type": "stream",
     "text": [
      "[I 2023-06-06 16:51:52,541] Trial 173 finished with value: 0.6612903225806451 and parameters: {'max_depth': 8, 'num_boost_round': 103, 'min_data_in_leaf': 19, 'n_estimators': 958, 'num_leaves': 330, 'learning_rate': 0.034457039391695726, 'feature_fraction': 0.44088223450889985, 'bagging_fraction': 0.7625634817560475, 'bagging_freq': 5, 'lambda_l1': 0.29543119154505154, 'lambda_l2': 0.5305825098095568}. Best is trial 26 with value: 0.6733870967741935.\n"
     ]
    },
    {
     "name": "stdout",
     "output_type": "stream",
     "text": [
      "[LightGBM] [Warning] bagging_freq is set=6, subsample_freq=0 will be ignored. Current value: bagging_freq=6\n",
      "[LightGBM] [Warning] lambda_l1 is set=0.3986366919188831, reg_alpha=0.0 will be ignored. Current value: lambda_l1=0.3986366919188831\n",
      "[LightGBM] [Warning] min_data_in_leaf is set=15, min_child_samples=20 will be ignored. Current value: min_data_in_leaf=15\n",
      "[LightGBM] [Warning] num_iterations is set=110, num_boost_round=110 will be ignored. Current value: num_iterations=110\n",
      "[LightGBM] [Warning] lambda_l2 is set=0.10204872610244085, reg_lambda=0.0 will be ignored. Current value: lambda_l2=0.10204872610244085\n",
      "[LightGBM] [Warning] feature_fraction is set=0.4547973432162437, colsample_bytree=1.0 will be ignored. Current value: feature_fraction=0.4547973432162437\n",
      "[LightGBM] [Warning] bagging_fraction is set=0.7435370185816379, subsample=1.0 will be ignored. Current value: bagging_fraction=0.7435370185816379\n"
     ]
    },
    {
     "name": "stderr",
     "output_type": "stream",
     "text": [
      "[I 2023-06-06 16:51:53,521] Trial 174 finished with value: 0.657258064516129 and parameters: {'max_depth': 8, 'num_boost_round': 110, 'min_data_in_leaf': 15, 'n_estimators': 1843, 'num_leaves': 109, 'learning_rate': 0.033363248955187885, 'feature_fraction': 0.4547973432162437, 'bagging_fraction': 0.7435370185816379, 'bagging_freq': 6, 'lambda_l1': 0.3986366919188831, 'lambda_l2': 0.10204872610244085}. Best is trial 26 with value: 0.6733870967741935.\n"
     ]
    },
    {
     "name": "stdout",
     "output_type": "stream",
     "text": [
      "[LightGBM] [Warning] bagging_freq is set=5, subsample_freq=0 will be ignored. Current value: bagging_freq=5\n",
      "[LightGBM] [Warning] lambda_l1 is set=0.3217836815157257, reg_alpha=0.0 will be ignored. Current value: lambda_l1=0.3217836815157257\n",
      "[LightGBM] [Warning] min_data_in_leaf is set=18, min_child_samples=20 will be ignored. Current value: min_data_in_leaf=18\n",
      "[LightGBM] [Warning] num_iterations is set=121, num_boost_round=121 will be ignored. Current value: num_iterations=121\n",
      "[LightGBM] [Warning] lambda_l2 is set=0.6342700233799403, reg_lambda=0.0 will be ignored. Current value: lambda_l2=0.6342700233799403\n",
      "[LightGBM] [Warning] feature_fraction is set=0.42671618488189755, colsample_bytree=1.0 will be ignored. Current value: feature_fraction=0.42671618488189755\n",
      "[LightGBM] [Warning] bagging_fraction is set=0.7007820230961449, subsample=1.0 will be ignored. Current value: bagging_fraction=0.7007820230961449\n"
     ]
    },
    {
     "name": "stderr",
     "output_type": "stream",
     "text": [
      "[I 2023-06-06 16:51:54,468] Trial 175 finished with value: 0.657258064516129 and parameters: {'max_depth': 8, 'num_boost_round': 121, 'min_data_in_leaf': 18, 'n_estimators': 1626, 'num_leaves': 161, 'learning_rate': 0.029132000956159688, 'feature_fraction': 0.42671618488189755, 'bagging_fraction': 0.7007820230961449, 'bagging_freq': 5, 'lambda_l1': 0.3217836815157257, 'lambda_l2': 0.6342700233799403}. Best is trial 26 with value: 0.6733870967741935.\n"
     ]
    },
    {
     "name": "stdout",
     "output_type": "stream",
     "text": [
      "[LightGBM] [Warning] bagging_freq is set=7, subsample_freq=0 will be ignored. Current value: bagging_freq=7\n",
      "[LightGBM] [Warning] lambda_l1 is set=0.46536928729689087, reg_alpha=0.0 will be ignored. Current value: lambda_l1=0.46536928729689087\n",
      "[LightGBM] [Warning] min_data_in_leaf is set=17, min_child_samples=20 will be ignored. Current value: min_data_in_leaf=17\n",
      "[LightGBM] [Warning] num_iterations is set=118, num_boost_round=118 will be ignored. Current value: num_iterations=118\n",
      "[LightGBM] [Warning] lambda_l2 is set=0.573738155483368, reg_lambda=0.0 will be ignored. Current value: lambda_l2=0.573738155483368\n",
      "[LightGBM] [Warning] feature_fraction is set=0.5147438779302709, colsample_bytree=1.0 will be ignored. Current value: feature_fraction=0.5147438779302709\n",
      "[LightGBM] [Warning] bagging_fraction is set=0.7713867079313547, subsample=1.0 will be ignored. Current value: bagging_fraction=0.7713867079313547\n"
     ]
    },
    {
     "name": "stderr",
     "output_type": "stream",
     "text": [
      "[I 2023-06-06 16:51:55,555] Trial 176 finished with value: 0.6592741935483871 and parameters: {'max_depth': 8, 'num_boost_round': 118, 'min_data_in_leaf': 17, 'n_estimators': 1575, 'num_leaves': 287, 'learning_rate': 0.03755443999129773, 'feature_fraction': 0.5147438779302709, 'bagging_fraction': 0.7713867079313547, 'bagging_freq': 7, 'lambda_l1': 0.46536928729689087, 'lambda_l2': 0.573738155483368}. Best is trial 26 with value: 0.6733870967741935.\n"
     ]
    },
    {
     "name": "stdout",
     "output_type": "stream",
     "text": [
      "[LightGBM] [Warning] bagging_freq is set=4, subsample_freq=0 will be ignored. Current value: bagging_freq=4\n",
      "[LightGBM] [Warning] lambda_l1 is set=0.3569358024964819, reg_alpha=0.0 will be ignored. Current value: lambda_l1=0.3569358024964819\n",
      "[LightGBM] [Warning] min_data_in_leaf is set=18, min_child_samples=20 will be ignored. Current value: min_data_in_leaf=18\n",
      "[LightGBM] [Warning] num_iterations is set=129, num_boost_round=129 will be ignored. Current value: num_iterations=129\n",
      "[LightGBM] [Warning] lambda_l2 is set=0.46884521481733354, reg_lambda=0.0 will be ignored. Current value: lambda_l2=0.46884521481733354\n",
      "[LightGBM] [Warning] feature_fraction is set=0.5724701293831704, colsample_bytree=1.0 will be ignored. Current value: feature_fraction=0.5724701293831704\n",
      "[LightGBM] [Warning] bagging_fraction is set=0.6523045982970127, subsample=1.0 will be ignored. Current value: bagging_fraction=0.6523045982970127\n"
     ]
    },
    {
     "name": "stderr",
     "output_type": "stream",
     "text": [
      "[I 2023-06-06 16:51:56,632] Trial 177 finished with value: 0.6653225806451613 and parameters: {'max_depth': 8, 'num_boost_round': 129, 'min_data_in_leaf': 18, 'n_estimators': 1475, 'num_leaves': 362, 'learning_rate': 0.035482141933129686, 'feature_fraction': 0.5724701293831704, 'bagging_fraction': 0.6523045982970127, 'bagging_freq': 4, 'lambda_l1': 0.3569358024964819, 'lambda_l2': 0.46884521481733354}. Best is trial 26 with value: 0.6733870967741935.\n"
     ]
    },
    {
     "name": "stdout",
     "output_type": "stream",
     "text": [
      "[LightGBM] [Warning] bagging_freq is set=4, subsample_freq=0 will be ignored. Current value: bagging_freq=4\n",
      "[LightGBM] [Warning] lambda_l1 is set=0.5167114541563956, reg_alpha=0.0 will be ignored. Current value: lambda_l1=0.5167114541563956\n",
      "[LightGBM] [Warning] min_data_in_leaf is set=20, min_child_samples=20 will be ignored. Current value: min_data_in_leaf=20\n",
      "[LightGBM] [Warning] num_iterations is set=108, num_boost_round=108 will be ignored. Current value: num_iterations=108\n",
      "[LightGBM] [Warning] lambda_l2 is set=0.7886520133549564, reg_lambda=0.0 will be ignored. Current value: lambda_l2=0.7886520133549564\n",
      "[LightGBM] [Warning] feature_fraction is set=0.4768861284933409, colsample_bytree=1.0 will be ignored. Current value: feature_fraction=0.4768861284933409\n",
      "[LightGBM] [Warning] bagging_fraction is set=0.7274159734706283, subsample=1.0 will be ignored. Current value: bagging_fraction=0.7274159734706283\n"
     ]
    },
    {
     "name": "stderr",
     "output_type": "stream",
     "text": [
      "[I 2023-06-06 16:51:57,482] Trial 178 finished with value: 0.6592741935483871 and parameters: {'max_depth': 8, 'num_boost_round': 108, 'min_data_in_leaf': 20, 'n_estimators': 1703, 'num_leaves': 228, 'learning_rate': 0.0434583222317737, 'feature_fraction': 0.4768861284933409, 'bagging_fraction': 0.7274159734706283, 'bagging_freq': 4, 'lambda_l1': 0.5167114541563956, 'lambda_l2': 0.7886520133549564}. Best is trial 26 with value: 0.6733870967741935.\n"
     ]
    },
    {
     "name": "stdout",
     "output_type": "stream",
     "text": [
      "[LightGBM] [Warning] bagging_freq is set=1, subsample_freq=0 will be ignored. Current value: bagging_freq=1\n",
      "[LightGBM] [Warning] lambda_l1 is set=0.25830195190711475, reg_alpha=0.0 will be ignored. Current value: lambda_l1=0.25830195190711475\n",
      "[LightGBM] [Warning] min_data_in_leaf is set=19, min_child_samples=20 will be ignored. Current value: min_data_in_leaf=19\n",
      "[LightGBM] [Warning] num_iterations is set=114, num_boost_round=114 will be ignored. Current value: num_iterations=114\n",
      "[LightGBM] [Warning] lambda_l2 is set=0.35039903223890473, reg_lambda=0.0 will be ignored. Current value: lambda_l2=0.35039903223890473\n",
      "[LightGBM] [Warning] feature_fraction is set=0.5469834468608893, colsample_bytree=1.0 will be ignored. Current value: feature_fraction=0.5469834468608893\n",
      "[LightGBM] [Warning] bagging_fraction is set=0.7830738125788341, subsample=1.0 will be ignored. Current value: bagging_fraction=0.7830738125788341\n"
     ]
    },
    {
     "name": "stderr",
     "output_type": "stream",
     "text": [
      "[I 2023-06-06 16:51:58,376] Trial 179 finished with value: 0.6612903225806451 and parameters: {'max_depth': 7, 'num_boost_round': 114, 'min_data_in_leaf': 19, 'n_estimators': 1915, 'num_leaves': 770, 'learning_rate': 0.026062124588730643, 'feature_fraction': 0.5469834468608893, 'bagging_fraction': 0.7830738125788341, 'bagging_freq': 1, 'lambda_l1': 0.25830195190711475, 'lambda_l2': 0.35039903223890473}. Best is trial 26 with value: 0.6733870967741935.\n"
     ]
    },
    {
     "name": "stdout",
     "output_type": "stream",
     "text": [
      "[LightGBM] [Warning] bagging_freq is set=5, subsample_freq=0 will be ignored. Current value: bagging_freq=5\n",
      "[LightGBM] [Warning] lambda_l1 is set=0.5905334252345472, reg_alpha=0.0 will be ignored. Current value: lambda_l1=0.5905334252345472\n",
      "[LightGBM] [Warning] min_data_in_leaf is set=18, min_child_samples=20 will be ignored. Current value: min_data_in_leaf=18\n",
      "[LightGBM] [Warning] num_iterations is set=148, num_boost_round=148 will be ignored. Current value: num_iterations=148\n",
      "[LightGBM] [Warning] lambda_l2 is set=0.38696911594711475, reg_lambda=0.0 will be ignored. Current value: lambda_l2=0.38696911594711475\n",
      "[LightGBM] [Warning] feature_fraction is set=0.6008340480308103, colsample_bytree=1.0 will be ignored. Current value: feature_fraction=0.6008340480308103\n",
      "[LightGBM] [Warning] bagging_fraction is set=0.7529774007459098, subsample=1.0 will be ignored. Current value: bagging_fraction=0.7529774007459098\n"
     ]
    },
    {
     "name": "stderr",
     "output_type": "stream",
     "text": [
      "[I 2023-06-06 16:51:59,736] Trial 180 finished with value: 0.6612903225806451 and parameters: {'max_depth': 8, 'num_boost_round': 148, 'min_data_in_leaf': 18, 'n_estimators': 1557, 'num_leaves': 1349, 'learning_rate': 0.03124230397590968, 'feature_fraction': 0.6008340480308103, 'bagging_fraction': 0.7529774007459098, 'bagging_freq': 5, 'lambda_l1': 0.5905334252345472, 'lambda_l2': 0.38696911594711475}. Best is trial 26 with value: 0.6733870967741935.\n"
     ]
    },
    {
     "name": "stdout",
     "output_type": "stream",
     "text": [
      "[LightGBM] [Warning] bagging_freq is set=6, subsample_freq=0 will be ignored. Current value: bagging_freq=6\n",
      "[LightGBM] [Warning] lambda_l1 is set=0.7261787446240704, reg_alpha=0.0 will be ignored. Current value: lambda_l1=0.7261787446240704\n",
      "[LightGBM] [Warning] min_data_in_leaf is set=16, min_child_samples=20 will be ignored. Current value: min_data_in_leaf=16\n",
      "[LightGBM] [Warning] num_iterations is set=104, num_boost_round=104 will be ignored. Current value: num_iterations=104\n",
      "[LightGBM] [Warning] lambda_l2 is set=0.94340162909696, reg_lambda=0.0 will be ignored. Current value: lambda_l2=0.94340162909696\n",
      "[LightGBM] [Warning] feature_fraction is set=0.5240230640737781, colsample_bytree=1.0 will be ignored. Current value: feature_fraction=0.5240230640737781\n",
      "[LightGBM] [Warning] bagging_fraction is set=0.7638331003581545, subsample=1.0 will be ignored. Current value: bagging_fraction=0.7638331003581545\n"
     ]
    },
    {
     "name": "stderr",
     "output_type": "stream",
     "text": [
      "[I 2023-06-06 16:52:00,645] Trial 181 finished with value: 0.6633064516129032 and parameters: {'max_depth': 8, 'num_boost_round': 104, 'min_data_in_leaf': 16, 'n_estimators': 1444, 'num_leaves': 118, 'learning_rate': 0.03301069292336156, 'feature_fraction': 0.5240230640737781, 'bagging_fraction': 0.7638331003581545, 'bagging_freq': 6, 'lambda_l1': 0.7261787446240704, 'lambda_l2': 0.94340162909696}. Best is trial 26 with value: 0.6733870967741935.\n"
     ]
    },
    {
     "name": "stdout",
     "output_type": "stream",
     "text": [
      "[LightGBM] [Warning] bagging_freq is set=6, subsample_freq=0 will be ignored. Current value: bagging_freq=6\n",
      "[LightGBM] [Warning] lambda_l1 is set=0.61006992231172, reg_alpha=0.0 will be ignored. Current value: lambda_l1=0.61006992231172\n",
      "[LightGBM] [Warning] min_data_in_leaf is set=16, min_child_samples=20 will be ignored. Current value: min_data_in_leaf=16\n",
      "[LightGBM] [Warning] num_iterations is set=110, num_boost_round=110 will be ignored. Current value: num_iterations=110\n",
      "[LightGBM] [Warning] lambda_l2 is set=0.8283029480075106, reg_lambda=0.0 will be ignored. Current value: lambda_l2=0.8283029480075106\n",
      "[LightGBM] [Warning] feature_fraction is set=0.5000604551890262, colsample_bytree=1.0 will be ignored. Current value: feature_fraction=0.5000604551890262\n",
      "[LightGBM] [Warning] bagging_fraction is set=0.7874440089441391, subsample=1.0 will be ignored. Current value: bagging_fraction=0.7874440089441391\n"
     ]
    },
    {
     "name": "stderr",
     "output_type": "stream",
     "text": [
      "[I 2023-06-06 16:52:01,676] Trial 182 finished with value: 0.6633064516129032 and parameters: {'max_depth': 8, 'num_boost_round': 110, 'min_data_in_leaf': 16, 'n_estimators': 1489, 'num_leaves': 179, 'learning_rate': 0.029931313800353708, 'feature_fraction': 0.5000604551890262, 'bagging_fraction': 0.7874440089441391, 'bagging_freq': 6, 'lambda_l1': 0.61006992231172, 'lambda_l2': 0.8283029480075106}. Best is trial 26 with value: 0.6733870967741935.\n"
     ]
    },
    {
     "name": "stdout",
     "output_type": "stream",
     "text": [
      "[LightGBM] [Warning] bagging_freq is set=6, subsample_freq=0 will be ignored. Current value: bagging_freq=6\n",
      "[LightGBM] [Warning] lambda_l1 is set=0.4367218008397926, reg_alpha=0.0 will be ignored. Current value: lambda_l1=0.4367218008397926\n",
      "[LightGBM] [Warning] min_data_in_leaf is set=16, min_child_samples=20 will be ignored. Current value: min_data_in_leaf=16\n",
      "[LightGBM] [Warning] num_iterations is set=104, num_boost_round=104 will be ignored. Current value: num_iterations=104\n",
      "[LightGBM] [Warning] lambda_l2 is set=0.6963033903253446, reg_lambda=0.0 will be ignored. Current value: lambda_l2=0.6963033903253446\n",
      "[LightGBM] [Warning] feature_fraction is set=0.5239988204625586, colsample_bytree=1.0 will be ignored. Current value: feature_fraction=0.5239988204625586\n",
      "[LightGBM] [Warning] bagging_fraction is set=0.7379543664828284, subsample=1.0 will be ignored. Current value: bagging_fraction=0.7379543664828284\n"
     ]
    },
    {
     "name": "stderr",
     "output_type": "stream",
     "text": [
      "[I 2023-06-06 16:52:02,639] Trial 183 finished with value: 0.6612903225806451 and parameters: {'max_depth': 8, 'num_boost_round': 104, 'min_data_in_leaf': 16, 'n_estimators': 1414, 'num_leaves': 73, 'learning_rate': 0.03201704970578044, 'feature_fraction': 0.5239988204625586, 'bagging_fraction': 0.7379543664828284, 'bagging_freq': 6, 'lambda_l1': 0.4367218008397926, 'lambda_l2': 0.6963033903253446}. Best is trial 26 with value: 0.6733870967741935.\n"
     ]
    },
    {
     "name": "stdout",
     "output_type": "stream",
     "text": [
      "[LightGBM] [Warning] bagging_freq is set=7, subsample_freq=0 will be ignored. Current value: bagging_freq=7\n",
      "[LightGBM] [Warning] lambda_l1 is set=0.5552122045984202, reg_alpha=0.0 will be ignored. Current value: lambda_l1=0.5552122045984202\n",
      "[LightGBM] [Warning] min_data_in_leaf is set=17, min_child_samples=20 will be ignored. Current value: min_data_in_leaf=17\n",
      "[LightGBM] [Warning] num_iterations is set=114, num_boost_round=114 will be ignored. Current value: num_iterations=114\n",
      "[LightGBM] [Warning] lambda_l2 is set=0.7582915375872328, reg_lambda=0.0 will be ignored. Current value: lambda_l2=0.7582915375872328\n",
      "[LightGBM] [Warning] feature_fraction is set=0.5436242660745376, colsample_bytree=1.0 will be ignored. Current value: feature_fraction=0.5436242660745376\n",
      "[LightGBM] [Warning] bagging_fraction is set=0.7637944575595453, subsample=1.0 will be ignored. Current value: bagging_fraction=0.7637944575595453\n"
     ]
    },
    {
     "name": "stderr",
     "output_type": "stream",
     "text": [
      "[I 2023-06-06 16:52:03,399] Trial 184 finished with value: 0.6653225806451613 and parameters: {'max_depth': 6, 'num_boost_round': 114, 'min_data_in_leaf': 17, 'n_estimators': 1609, 'num_leaves': 144, 'learning_rate': 0.027480786308300337, 'feature_fraction': 0.5436242660745376, 'bagging_fraction': 0.7637944575595453, 'bagging_freq': 7, 'lambda_l1': 0.5552122045984202, 'lambda_l2': 0.7582915375872328}. Best is trial 26 with value: 0.6733870967741935.\n"
     ]
    },
    {
     "name": "stdout",
     "output_type": "stream",
     "text": [
      "[LightGBM] [Warning] bagging_freq is set=6, subsample_freq=0 will be ignored. Current value: bagging_freq=6\n",
      "[LightGBM] [Warning] lambda_l1 is set=0.3837922713410164, reg_alpha=0.0 will be ignored. Current value: lambda_l1=0.3837922713410164\n",
      "[LightGBM] [Warning] min_data_in_leaf is set=12, min_child_samples=20 will be ignored. Current value: min_data_in_leaf=12\n",
      "[LightGBM] [Warning] num_iterations is set=106, num_boost_round=106 will be ignored. Current value: num_iterations=106\n",
      "[LightGBM] [Warning] lambda_l2 is set=0.8600358608377361, reg_lambda=0.0 will be ignored. Current value: lambda_l2=0.8600358608377361\n",
      "[LightGBM] [Warning] feature_fraction is set=0.4874930177603096, colsample_bytree=1.0 will be ignored. Current value: feature_fraction=0.4874930177603096\n",
      "[LightGBM] [Warning] bagging_fraction is set=0.7499961970719731, subsample=1.0 will be ignored. Current value: bagging_fraction=0.7499961970719731\n"
     ]
    },
    {
     "name": "stderr",
     "output_type": "stream",
     "text": [
      "[I 2023-06-06 16:52:04,464] Trial 185 finished with value: 0.6733870967741935 and parameters: {'max_depth': 8, 'num_boost_round': 106, 'min_data_in_leaf': 12, 'n_estimators': 1668, 'num_leaves': 1615, 'learning_rate': 0.03455567696888542, 'feature_fraction': 0.4874930177603096, 'bagging_fraction': 0.7499961970719731, 'bagging_freq': 6, 'lambda_l1': 0.3837922713410164, 'lambda_l2': 0.8600358608377361}. Best is trial 26 with value: 0.6733870967741935.\n"
     ]
    },
    {
     "name": "stdout",
     "output_type": "stream",
     "text": [
      "[LightGBM] [Warning] bagging_freq is set=5, subsample_freq=0 will be ignored. Current value: bagging_freq=5\n",
      "[LightGBM] [Warning] lambda_l1 is set=0.38483205146254634, reg_alpha=0.0 will be ignored. Current value: lambda_l1=0.38483205146254634\n",
      "[LightGBM] [Warning] min_data_in_leaf is set=12, min_child_samples=20 will be ignored. Current value: min_data_in_leaf=12\n",
      "[LightGBM] [Warning] num_iterations is set=125, num_boost_round=125 will be ignored. Current value: num_iterations=125\n",
      "[LightGBM] [Warning] lambda_l2 is set=0.8473881406281699, reg_lambda=0.0 will be ignored. Current value: lambda_l2=0.8473881406281699\n",
      "[LightGBM] [Warning] feature_fraction is set=0.457963776923166, colsample_bytree=1.0 will be ignored. Current value: feature_fraction=0.457963776923166\n",
      "[LightGBM] [Warning] bagging_fraction is set=0.712422209370163, subsample=1.0 will be ignored. Current value: bagging_fraction=0.712422209370163\n"
     ]
    },
    {
     "name": "stderr",
     "output_type": "stream",
     "text": [
      "[I 2023-06-06 16:52:05,678] Trial 186 finished with value: 0.6653225806451613 and parameters: {'max_depth': 8, 'num_boost_round': 125, 'min_data_in_leaf': 12, 'n_estimators': 1652, 'num_leaves': 1766, 'learning_rate': 0.03606915670334146, 'feature_fraction': 0.457963776923166, 'bagging_fraction': 0.712422209370163, 'bagging_freq': 5, 'lambda_l1': 0.38483205146254634, 'lambda_l2': 0.8473881406281699}. Best is trial 26 with value: 0.6733870967741935.\n"
     ]
    },
    {
     "name": "stdout",
     "output_type": "stream",
     "text": [
      "[LightGBM] [Warning] bagging_freq is set=6, subsample_freq=0 will be ignored. Current value: bagging_freq=6\n",
      "[LightGBM] [Warning] lambda_l1 is set=0.345331621353661, reg_alpha=0.0 will be ignored. Current value: lambda_l1=0.345331621353661\n",
      "[LightGBM] [Warning] min_data_in_leaf is set=12, min_child_samples=20 will be ignored. Current value: min_data_in_leaf=12\n",
      "[LightGBM] [Warning] num_iterations is set=137, num_boost_round=137 will be ignored. Current value: num_iterations=137\n",
      "[LightGBM] [Warning] lambda_l2 is set=0.5236655534381246, reg_lambda=0.0 will be ignored. Current value: lambda_l2=0.5236655534381246\n",
      "[LightGBM] [Warning] feature_fraction is set=0.48319479328065024, colsample_bytree=1.0 will be ignored. Current value: feature_fraction=0.48319479328065024\n",
      "[LightGBM] [Warning] bagging_fraction is set=0.7469116791459237, subsample=1.0 will be ignored. Current value: bagging_fraction=0.7469116791459237\n"
     ]
    },
    {
     "name": "stderr",
     "output_type": "stream",
     "text": [
      "[I 2023-06-06 16:52:07,091] Trial 187 finished with value: 0.6612903225806451 and parameters: {'max_depth': 8, 'num_boost_round': 137, 'min_data_in_leaf': 12, 'n_estimators': 1669, 'num_leaves': 1712, 'learning_rate': 0.022554252575307396, 'feature_fraction': 0.48319479328065024, 'bagging_fraction': 0.7469116791459237, 'bagging_freq': 6, 'lambda_l1': 0.345331621353661, 'lambda_l2': 0.5236655534381246}. Best is trial 26 with value: 0.6733870967741935.\n"
     ]
    },
    {
     "name": "stdout",
     "output_type": "stream",
     "text": [
      "[LightGBM] [Warning] bagging_freq is set=5, subsample_freq=0 will be ignored. Current value: bagging_freq=5\n",
      "[LightGBM] [Warning] lambda_l1 is set=0.31553400582674, reg_alpha=0.0 will be ignored. Current value: lambda_l1=0.31553400582674\n",
      "[LightGBM] [Warning] min_data_in_leaf is set=12, min_child_samples=20 will be ignored. Current value: min_data_in_leaf=12\n",
      "[LightGBM] [Warning] num_iterations is set=119, num_boost_round=119 will be ignored. Current value: num_iterations=119\n",
      "[LightGBM] [Warning] lambda_l2 is set=0.9807936964311881, reg_lambda=0.0 will be ignored. Current value: lambda_l2=0.9807936964311881\n",
      "[LightGBM] [Warning] feature_fraction is set=0.4702703807978926, colsample_bytree=1.0 will be ignored. Current value: feature_fraction=0.4702703807978926\n",
      "[LightGBM] [Warning] bagging_fraction is set=0.7252955149288498, subsample=1.0 will be ignored. Current value: bagging_fraction=0.7252955149288498\n"
     ]
    },
    {
     "name": "stderr",
     "output_type": "stream",
     "text": [
      "[I 2023-06-06 16:52:08,246] Trial 188 finished with value: 0.6653225806451613 and parameters: {'max_depth': 8, 'num_boost_round': 119, 'min_data_in_leaf': 12, 'n_estimators': 1770, 'num_leaves': 1632, 'learning_rate': 0.03474566705693279, 'feature_fraction': 0.4702703807978926, 'bagging_fraction': 0.7252955149288498, 'bagging_freq': 5, 'lambda_l1': 0.31553400582674, 'lambda_l2': 0.9807936964311881}. Best is trial 26 with value: 0.6733870967741935.\n"
     ]
    },
    {
     "name": "stdout",
     "output_type": "stream",
     "text": [
      "[LightGBM] [Warning] bagging_freq is set=4, subsample_freq=0 will be ignored. Current value: bagging_freq=4\n",
      "[LightGBM] [Warning] lambda_l1 is set=0.38434299553252144, reg_alpha=0.0 will be ignored. Current value: lambda_l1=0.38434299553252144\n",
      "[LightGBM] [Warning] min_data_in_leaf is set=12, min_child_samples=20 will be ignored. Current value: min_data_in_leaf=12\n",
      "[LightGBM] [Warning] num_iterations is set=107, num_boost_round=107 will be ignored. Current value: num_iterations=107\n",
      "[LightGBM] [Warning] lambda_l2 is set=0.6024307309644154, reg_lambda=0.0 will be ignored. Current value: lambda_l2=0.6024307309644154\n",
      "[LightGBM] [Warning] feature_fraction is set=0.5078467603455191, colsample_bytree=1.0 will be ignored. Current value: feature_fraction=0.5078467603455191\n",
      "[LightGBM] [Warning] bagging_fraction is set=0.7997560183220775, subsample=1.0 will be ignored. Current value: bagging_fraction=0.7997560183220775\n"
     ]
    },
    {
     "name": "stderr",
     "output_type": "stream",
     "text": [
      "[I 2023-06-06 16:52:09,363] Trial 189 finished with value: 0.6633064516129032 and parameters: {'max_depth': 8, 'num_boost_round': 107, 'min_data_in_leaf': 12, 'n_estimators': 919, 'num_leaves': 247, 'learning_rate': 0.03952873845618317, 'feature_fraction': 0.5078467603455191, 'bagging_fraction': 0.7997560183220775, 'bagging_freq': 4, 'lambda_l1': 0.38434299553252144, 'lambda_l2': 0.6024307309644154}. Best is trial 26 with value: 0.6733870967741935.\n"
     ]
    },
    {
     "name": "stdout",
     "output_type": "stream",
     "text": [
      "[LightGBM] [Warning] bagging_freq is set=3, subsample_freq=0 will be ignored. Current value: bagging_freq=3\n",
      "[LightGBM] [Warning] lambda_l1 is set=0.4753128606999921, reg_alpha=0.0 will be ignored. Current value: lambda_l1=0.4753128606999921\n",
      "[LightGBM] [Warning] min_data_in_leaf is set=11, min_child_samples=20 will be ignored. Current value: min_data_in_leaf=11\n",
      "[LightGBM] [Warning] num_iterations is set=101, num_boost_round=101 will be ignored. Current value: num_iterations=101\n",
      "[LightGBM] [Warning] lambda_l2 is set=0.709568559460302, reg_lambda=0.0 will be ignored. Current value: lambda_l2=0.709568559460302\n",
      "[LightGBM] [Warning] feature_fraction is set=0.48952442974124466, colsample_bytree=1.0 will be ignored. Current value: feature_fraction=0.48952442974124466\n",
      "[LightGBM] [Warning] bagging_fraction is set=0.7755571925572228, subsample=1.0 will be ignored. Current value: bagging_fraction=0.7755571925572228\n"
     ]
    },
    {
     "name": "stderr",
     "output_type": "stream",
     "text": [
      "[I 2023-06-06 16:52:10,414] Trial 190 finished with value: 0.657258064516129 and parameters: {'max_depth': 8, 'num_boost_round': 101, 'min_data_in_leaf': 11, 'n_estimators': 60, 'num_leaves': 978, 'learning_rate': 0.02016610387631548, 'feature_fraction': 0.48952442974124466, 'bagging_fraction': 0.7755571925572228, 'bagging_freq': 3, 'lambda_l1': 0.4753128606999921, 'lambda_l2': 0.709568559460302}. Best is trial 26 with value: 0.6733870967741935.\n"
     ]
    },
    {
     "name": "stdout",
     "output_type": "stream",
     "text": [
      "[LightGBM] [Warning] bagging_freq is set=6, subsample_freq=0 will be ignored. Current value: bagging_freq=6\n",
      "[LightGBM] [Warning] lambda_l1 is set=0.5079887101326188, reg_alpha=0.0 will be ignored. Current value: lambda_l1=0.5079887101326188\n",
      "[LightGBM] [Warning] min_data_in_leaf is set=14, min_child_samples=20 will be ignored. Current value: min_data_in_leaf=14\n",
      "[LightGBM] [Warning] num_iterations is set=111, num_boost_round=111 will be ignored. Current value: num_iterations=111\n",
      "[LightGBM] [Warning] lambda_l2 is set=0.8580414141065235, reg_lambda=0.0 will be ignored. Current value: lambda_l2=0.8580414141065235\n",
      "[LightGBM] [Warning] feature_fraction is set=0.5298128446396299, colsample_bytree=1.0 will be ignored. Current value: feature_fraction=0.5298128446396299\n",
      "[LightGBM] [Warning] bagging_fraction is set=0.7555773619660509, subsample=1.0 will be ignored. Current value: bagging_fraction=0.7555773619660509\n"
     ]
    },
    {
     "name": "stderr",
     "output_type": "stream",
     "text": [
      "[I 2023-06-06 16:52:11,547] Trial 191 finished with value: 0.6612903225806451 and parameters: {'max_depth': 8, 'num_boost_round': 111, 'min_data_in_leaf': 14, 'n_estimators': 1538, 'num_leaves': 209, 'learning_rate': 0.03223049775123746, 'feature_fraction': 0.5298128446396299, 'bagging_fraction': 0.7555773619660509, 'bagging_freq': 6, 'lambda_l1': 0.5079887101326188, 'lambda_l2': 0.8580414141065235}. Best is trial 26 with value: 0.6733870967741935.\n"
     ]
    },
    {
     "name": "stdout",
     "output_type": "stream",
     "text": [
      "[LightGBM] [Warning] bagging_freq is set=6, subsample_freq=0 will be ignored. Current value: bagging_freq=6\n",
      "[LightGBM] [Warning] lambda_l1 is set=0.20163238731026148, reg_alpha=0.0 will be ignored. Current value: lambda_l1=0.20163238731026148\n",
      "[LightGBM] [Warning] min_data_in_leaf is set=17, min_child_samples=20 will be ignored. Current value: min_data_in_leaf=17\n",
      "[LightGBM] [Warning] num_iterations is set=108, num_boost_round=108 will be ignored. Current value: num_iterations=108\n",
      "[LightGBM] [Warning] lambda_l2 is set=0.7728975065826622, reg_lambda=0.0 will be ignored. Current value: lambda_l2=0.7728975065826622\n",
      "[LightGBM] [Warning] feature_fraction is set=0.5574476667747004, colsample_bytree=1.0 will be ignored. Current value: feature_fraction=0.5574476667747004\n",
      "[LightGBM] [Warning] bagging_fraction is set=0.7678687355008619, subsample=1.0 will be ignored. Current value: bagging_fraction=0.7678687355008619\n"
     ]
    },
    {
     "name": "stderr",
     "output_type": "stream",
     "text": [
      "[I 2023-06-06 16:52:12,588] Trial 192 finished with value: 0.6633064516129032 and parameters: {'max_depth': 8, 'num_boost_round': 108, 'min_data_in_leaf': 17, 'n_estimators': 1598, 'num_leaves': 1874, 'learning_rate': 0.030277145874366522, 'feature_fraction': 0.5574476667747004, 'bagging_fraction': 0.7678687355008619, 'bagging_freq': 6, 'lambda_l1': 0.20163238731026148, 'lambda_l2': 0.7728975065826622}. Best is trial 26 with value: 0.6733870967741935.\n"
     ]
    },
    {
     "name": "stdout",
     "output_type": "stream",
     "text": [
      "[LightGBM] [Warning] bagging_freq is set=6, subsample_freq=0 will be ignored. Current value: bagging_freq=6\n",
      "[LightGBM] [Warning] lambda_l1 is set=0.4285393718185312, reg_alpha=0.0 will be ignored. Current value: lambda_l1=0.4285393718185312\n",
      "[LightGBM] [Warning] min_data_in_leaf is set=13, min_child_samples=20 will be ignored. Current value: min_data_in_leaf=13\n",
      "[LightGBM] [Warning] num_iterations is set=104, num_boost_round=104 will be ignored. Current value: num_iterations=104\n",
      "[LightGBM] [Warning] lambda_l2 is set=0.6586007459090959, reg_lambda=0.0 will be ignored. Current value: lambda_l2=0.6586007459090959\n",
      "[LightGBM] [Warning] feature_fraction is set=0.5020953173526242, colsample_bytree=1.0 will be ignored. Current value: feature_fraction=0.5020953173526242\n",
      "[LightGBM] [Warning] bagging_fraction is set=0.6725384746292272, subsample=1.0 will be ignored. Current value: bagging_fraction=0.6725384746292272\n"
     ]
    },
    {
     "name": "stderr",
     "output_type": "stream",
     "text": [
      "[I 2023-06-06 16:52:13,544] Trial 193 finished with value: 0.6592741935483871 and parameters: {'max_depth': 8, 'num_boost_round': 104, 'min_data_in_leaf': 13, 'n_estimators': 1517, 'num_leaves': 111, 'learning_rate': 0.03354053625743268, 'feature_fraction': 0.5020953173526242, 'bagging_fraction': 0.6725384746292272, 'bagging_freq': 6, 'lambda_l1': 0.4285393718185312, 'lambda_l2': 0.6586007459090959}. Best is trial 26 with value: 0.6733870967741935.\n"
     ]
    },
    {
     "name": "stdout",
     "output_type": "stream",
     "text": [
      "[LightGBM] [Warning] bagging_freq is set=6, subsample_freq=0 will be ignored. Current value: bagging_freq=6\n",
      "[LightGBM] [Warning] lambda_l1 is set=0.6587425304170854, reg_alpha=0.0 will be ignored. Current value: lambda_l1=0.6587425304170854\n",
      "[LightGBM] [Warning] min_data_in_leaf is set=18, min_child_samples=20 will be ignored. Current value: min_data_in_leaf=18\n",
      "[LightGBM] [Warning] num_iterations is set=116, num_boost_round=116 will be ignored. Current value: num_iterations=116\n",
      "[LightGBM] [Warning] lambda_l2 is set=0.28591594314323365, reg_lambda=0.0 will be ignored. Current value: lambda_l2=0.28591594314323365\n",
      "[LightGBM] [Warning] feature_fraction is set=0.4417649760630067, colsample_bytree=1.0 will be ignored. Current value: feature_fraction=0.4417649760630067\n",
      "[LightGBM] [Warning] bagging_fraction is set=0.568319656561379, subsample=1.0 will be ignored. Current value: bagging_fraction=0.568319656561379\n"
     ]
    },
    {
     "name": "stderr",
     "output_type": "stream",
     "text": [
      "[I 2023-06-06 16:52:14,377] Trial 194 finished with value: 0.6612903225806451 and parameters: {'max_depth': 8, 'num_boost_round': 116, 'min_data_in_leaf': 18, 'n_estimators': 1730, 'num_leaves': 175, 'learning_rate': 0.037034285720614256, 'feature_fraction': 0.4417649760630067, 'bagging_fraction': 0.568319656561379, 'bagging_freq': 6, 'lambda_l1': 0.6587425304170854, 'lambda_l2': 0.28591594314323365}. Best is trial 26 with value: 0.6733870967741935.\n"
     ]
    },
    {
     "name": "stdout",
     "output_type": "stream",
     "text": [
      "[LightGBM] [Warning] bagging_freq is set=7, subsample_freq=0 will be ignored. Current value: bagging_freq=7\n",
      "[LightGBM] [Warning] lambda_l1 is set=0.28983936868692883, reg_alpha=0.0 will be ignored. Current value: lambda_l1=0.28983936868692883\n",
      "[LightGBM] [Warning] min_data_in_leaf is set=16, min_child_samples=20 will be ignored. Current value: min_data_in_leaf=16\n",
      "[LightGBM] [Warning] num_iterations is set=143, num_boost_round=143 will be ignored. Current value: num_iterations=143\n",
      "[LightGBM] [Warning] lambda_l2 is set=0.87869711033652, reg_lambda=0.0 will be ignored. Current value: lambda_l2=0.87869711033652\n",
      "[LightGBM] [Warning] feature_fraction is set=0.6538093965495079, colsample_bytree=1.0 will be ignored. Current value: feature_fraction=0.6538093965495079\n",
      "[LightGBM] [Warning] bagging_fraction is set=0.7359815857629095, subsample=1.0 will be ignored. Current value: bagging_fraction=0.7359815857629095\n"
     ]
    },
    {
     "name": "stderr",
     "output_type": "stream",
     "text": [
      "[I 2023-06-06 16:52:15,865] Trial 195 finished with value: 0.6673387096774194 and parameters: {'max_depth': 8, 'num_boost_round': 143, 'min_data_in_leaf': 16, 'n_estimators': 1461, 'num_leaves': 1568, 'learning_rate': 0.028238571775847626, 'feature_fraction': 0.6538093965495079, 'bagging_fraction': 0.7359815857629095, 'bagging_freq': 7, 'lambda_l1': 0.28983936868692883, 'lambda_l2': 0.87869711033652}. Best is trial 26 with value: 0.6733870967741935.\n"
     ]
    },
    {
     "name": "stdout",
     "output_type": "stream",
     "text": [
      "[LightGBM] [Warning] bagging_freq is set=5, subsample_freq=0 will be ignored. Current value: bagging_freq=5\n",
      "[LightGBM] [Warning] lambda_l1 is set=0.5596159033905974, reg_alpha=0.0 will be ignored. Current value: lambda_l1=0.5596159033905974\n",
      "[LightGBM] [Warning] min_data_in_leaf is set=15, min_child_samples=20 will be ignored. Current value: min_data_in_leaf=15\n",
      "[LightGBM] [Warning] num_iterations is set=111, num_boost_round=111 will be ignored. Current value: num_iterations=111\n",
      "[LightGBM] [Warning] lambda_l2 is set=0.23731979767889114, reg_lambda=0.0 will be ignored. Current value: lambda_l2=0.23731979767889114\n",
      "[LightGBM] [Warning] feature_fraction is set=0.5132331934324816, colsample_bytree=1.0 will be ignored. Current value: feature_fraction=0.5132331934324816\n",
      "[LightGBM] [Warning] bagging_fraction is set=0.7829572389087535, subsample=1.0 will be ignored. Current value: bagging_fraction=0.7829572389087535\n"
     ]
    },
    {
     "name": "stderr",
     "output_type": "stream",
     "text": [
      "[I 2023-06-06 16:52:16,739] Trial 196 finished with value: 0.6612903225806451 and parameters: {'max_depth': 8, 'num_boost_round': 111, 'min_data_in_leaf': 15, 'n_estimators': 1017, 'num_leaves': 30, 'learning_rate': 0.02503493531769049, 'feature_fraction': 0.5132331934324816, 'bagging_fraction': 0.7829572389087535, 'bagging_freq': 5, 'lambda_l1': 0.5596159033905974, 'lambda_l2': 0.23731979767889114}. Best is trial 26 with value: 0.6733870967741935.\n"
     ]
    },
    {
     "name": "stdout",
     "output_type": "stream",
     "text": [
      "[LightGBM] [Warning] bagging_freq is set=6, subsample_freq=0 will be ignored. Current value: bagging_freq=6\n",
      "[LightGBM] [Warning] lambda_l1 is set=0.3571118760520755, reg_alpha=0.0 will be ignored. Current value: lambda_l1=0.3571118760520755\n",
      "[LightGBM] [Warning] min_data_in_leaf is set=18, min_child_samples=20 will be ignored. Current value: min_data_in_leaf=18\n",
      "[LightGBM] [Warning] num_iterations is set=100, num_boost_round=100 will be ignored. Current value: num_iterations=100\n",
      "[LightGBM] [Warning] lambda_l2 is set=0.41703023271225204, reg_lambda=0.0 will be ignored. Current value: lambda_l2=0.41703023271225204\n",
      "[LightGBM] [Warning] feature_fraction is set=0.5727629146229185, colsample_bytree=1.0 will be ignored. Current value: feature_fraction=0.5727629146229185\n",
      "[LightGBM] [Warning] bagging_fraction is set=0.751605883743882, subsample=1.0 will be ignored. Current value: bagging_fraction=0.751605883743882\n"
     ]
    },
    {
     "name": "stderr",
     "output_type": "stream",
     "text": [
      "[I 2023-06-06 16:52:17,715] Trial 197 finished with value: 0.6612903225806451 and parameters: {'max_depth': 8, 'num_boost_round': 100, 'min_data_in_leaf': 18, 'n_estimators': 1627, 'num_leaves': 687, 'learning_rate': 0.019042708907703026, 'feature_fraction': 0.5727629146229185, 'bagging_fraction': 0.751605883743882, 'bagging_freq': 6, 'lambda_l1': 0.3571118760520755, 'lambda_l2': 0.41703023271225204}. Best is trial 26 with value: 0.6733870967741935.\n"
     ]
    },
    {
     "name": "stdout",
     "output_type": "stream",
     "text": [
      "[LightGBM] [Warning] bagging_freq is set=7, subsample_freq=0 will be ignored. Current value: bagging_freq=7\n",
      "[LightGBM] [Warning] lambda_l1 is set=0.2318681269566261, reg_alpha=0.0 will be ignored. Current value: lambda_l1=0.2318681269566261\n",
      "[LightGBM] [Warning] min_data_in_leaf is set=12, min_child_samples=20 will be ignored. Current value: min_data_in_leaf=12\n",
      "[LightGBM] [Warning] num_iterations is set=106, num_boost_round=106 will be ignored. Current value: num_iterations=106\n",
      "[LightGBM] [Warning] lambda_l2 is set=0.4654130569163095, reg_lambda=0.0 will be ignored. Current value: lambda_l2=0.4654130569163095\n",
      "[LightGBM] [Warning] feature_fraction is set=0.5854816493451364, colsample_bytree=1.0 will be ignored. Current value: feature_fraction=0.5854816493451364\n",
      "[LightGBM] [Warning] bagging_fraction is set=0.7680215235179763, subsample=1.0 will be ignored. Current value: bagging_fraction=0.7680215235179763\n"
     ]
    },
    {
     "name": "stderr",
     "output_type": "stream",
     "text": [
      "[I 2023-06-06 16:52:18,920] Trial 198 finished with value: 0.6633064516129032 and parameters: {'max_depth': 8, 'num_boost_round': 106, 'min_data_in_leaf': 12, 'n_estimators': 872, 'num_leaves': 299, 'learning_rate': 0.03103774126399526, 'feature_fraction': 0.5854816493451364, 'bagging_fraction': 0.7680215235179763, 'bagging_freq': 7, 'lambda_l1': 0.2318681269566261, 'lambda_l2': 0.4654130569163095}. Best is trial 26 with value: 0.6733870967741935.\n"
     ]
    },
    {
     "name": "stdout",
     "output_type": "stream",
     "text": [
      "[LightGBM] [Warning] bagging_freq is set=5, subsample_freq=0 will be ignored. Current value: bagging_freq=5\n",
      "[LightGBM] [Warning] lambda_l1 is set=0.1093463973463942, reg_alpha=0.0 will be ignored. Current value: lambda_l1=0.1093463973463942\n",
      "[LightGBM] [Warning] min_data_in_leaf is set=17, min_child_samples=20 will be ignored. Current value: min_data_in_leaf=17\n",
      "[LightGBM] [Warning] num_iterations is set=121, num_boost_round=121 will be ignored. Current value: num_iterations=121\n",
      "[LightGBM] [Warning] lambda_l2 is set=0.6190838539635144, reg_lambda=0.0 will be ignored. Current value: lambda_l2=0.6190838539635144\n",
      "[LightGBM] [Warning] feature_fraction is set=0.6718128657187572, colsample_bytree=1.0 will be ignored. Current value: feature_fraction=0.6718128657187572\n",
      "[LightGBM] [Warning] bagging_fraction is set=0.7176940252059597, subsample=1.0 will be ignored. Current value: bagging_fraction=0.7176940252059597\n"
     ]
    },
    {
     "name": "stderr",
     "output_type": "stream",
     "text": [
      "[I 2023-06-06 16:52:20,159] Trial 199 finished with value: 0.6592741935483871 and parameters: {'max_depth': 8, 'num_boost_round': 121, 'min_data_in_leaf': 17, 'n_estimators': 1683, 'num_leaves': 406, 'learning_rate': 0.0351655052569127, 'feature_fraction': 0.6718128657187572, 'bagging_fraction': 0.7176940252059597, 'bagging_freq': 5, 'lambda_l1': 0.1093463973463942, 'lambda_l2': 0.6190838539635144}. Best is trial 26 with value: 0.6733870967741935.\n"
     ]
    }
   ],
   "source": [
    "lgb_study = optuna.create_study(direction='maximize')\n",
    "lgb_study.optimize(lgb_objective, n_trials=1000)"
   ]
  },
  {
   "cell_type": "code",
   "execution_count": 27,
   "id": "6006450d",
   "metadata": {},
   "outputs": [
    {
     "name": "stderr",
     "output_type": "stream",
     "text": [
      "[I 2023-06-06 16:58:30,131] A new study created in memory with name: no-name-3a1161a4-0e0a-4e5f-b635-550eda1e0f82\n",
      "[I 2023-06-06 16:58:30,469] Trial 0 finished with value: 0.6612903225806451 and parameters: {'n_estimators': 43, 'eta': 0.03917378769782371, 'max_depth': 6, 'subsample': 0.9703974453537474, 'colsample_bytree': 0.2754533618739384, 'lambda': 32.616971119433735}. Best is trial 0 with value: 0.6612903225806451.\n",
      "[I 2023-06-06 16:58:30,802] Trial 1 finished with value: 0.6512096774193549 and parameters: {'n_estimators': 44, 'eta': 0.012863279957053083, 'max_depth': 9, 'subsample': 0.21817952332918403, 'colsample_bytree': 0.7024478827497808, 'lambda': 0.22519905439054322}. Best is trial 0 with value: 0.6612903225806451.\n",
      "[I 2023-06-06 16:58:31,448] Trial 2 finished with value: 0.655241935483871 and parameters: {'n_estimators': 49, 'eta': 0.0666629433188586, 'max_depth': 13, 'subsample': 0.4254023188967446, 'colsample_bytree': 0.6027789907014804, 'lambda': 1.702567236941908}. Best is trial 0 with value: 0.6612903225806451.\n",
      "[I 2023-06-06 16:58:31,601] Trial 3 finished with value: 0.6612903225806451 and parameters: {'n_estimators': 25, 'eta': 0.08423566752367108, 'max_depth': 7, 'subsample': 0.14852421489700293, 'colsample_bytree': 0.6636099854796368, 'lambda': 164.3981248153021}. Best is trial 0 with value: 0.6612903225806451.\n",
      "[I 2023-06-06 16:58:32,158] Trial 4 finished with value: 0.6612903225806451 and parameters: {'n_estimators': 30, 'eta': 0.05468169086018527, 'max_depth': 13, 'subsample': 0.8668100706596199, 'colsample_bytree': 0.5518361063943882, 'lambda': 31.654317522989437}. Best is trial 0 with value: 0.6612903225806451.\n",
      "[I 2023-06-06 16:58:32,277] Trial 5 finished with value: 0.6169354838709677 and parameters: {'n_estimators': 34, 'eta': 0.057201841824188075, 'max_depth': 12, 'subsample': 0.12664955147403706, 'colsample_bytree': 0.2565311089580176, 'lambda': 1.7437268401630797}. Best is trial 0 with value: 0.6612903225806451.\n",
      "[I 2023-06-06 16:58:33,581] Trial 6 finished with value: 0.6612903225806451 and parameters: {'n_estimators': 44, 'eta': 0.05065824106186232, 'max_depth': 15, 'subsample': 0.8873793928911897, 'colsample_bytree': 0.8474371347844204, 'lambda': 9.486928503106371}. Best is trial 0 with value: 0.6612903225806451.\n",
      "[I 2023-06-06 16:58:33,802] Trial 7 finished with value: 0.6612903225806451 and parameters: {'n_estimators': 48, 'eta': 0.03797992987006092, 'max_depth': 7, 'subsample': 0.5229458194596883, 'colsample_bytree': 0.10121185821078299, 'lambda': 7.011211526444357}. Best is trial 0 with value: 0.6612903225806451.\n",
      "[I 2023-06-06 16:58:34,002] Trial 8 finished with value: 0.6512096774193549 and parameters: {'n_estimators': 43, 'eta': 0.02645735423523775, 'max_depth': 8, 'subsample': 0.25163413684945657, 'colsample_bytree': 0.21746449734049544, 'lambda': 1.374261486155016}. Best is trial 0 with value: 0.6612903225806451.\n",
      "[I 2023-06-06 16:58:34,420] Trial 9 finished with value: 0.6612903225806451 and parameters: {'n_estimators': 36, 'eta': 0.012203967787585706, 'max_depth': 14, 'subsample': 0.2939220385053031, 'colsample_bytree': 0.6328522241396035, 'lambda': 127.40275393898457}. Best is trial 0 with value: 0.6612903225806451.\n",
      "[I 2023-06-06 16:58:34,730] Trial 10 finished with value: 0.6592741935483871 and parameters: {'n_estimators': 40, 'eta': 0.09947558132025047, 'max_depth': 5, 'subsample': 0.9882990106029788, 'colsample_bytree': 0.36312490982755674, 'lambda': 38.93162633146984}. Best is trial 0 with value: 0.6612903225806451.\n",
      "[I 2023-06-06 16:58:34,927] Trial 11 finished with value: 0.6612903225806451 and parameters: {'n_estimators': 25, 'eta': 0.09809005788440031, 'max_depth': 5, 'subsample': 0.6745117385556942, 'colsample_bytree': 0.42715183918538574, 'lambda': 164.88608667503436}. Best is trial 0 with value: 0.6612903225806451.\n",
      "[I 2023-06-06 16:58:35,376] Trial 12 finished with value: 0.6633064516129032 and parameters: {'n_estimators': 26, 'eta': 0.027209807776128678, 'max_depth': 7, 'subsample': 0.6739588651380812, 'colsample_bytree': 0.9864183629463658, 'lambda': 60.190553418313975}. Best is trial 12 with value: 0.6633064516129032.\n",
      "[I 2023-06-06 16:58:36,071] Trial 13 finished with value: 0.6532258064516129 and parameters: {'n_estimators': 31, 'eta': 0.024635347472207674, 'max_depth': 10, 'subsample': 0.696902667767688, 'colsample_bytree': 0.9624976085321593, 'lambda': 48.64888184253105}. Best is trial 12 with value: 0.6633064516129032.\n",
      "[I 2023-06-06 16:58:36,673] Trial 14 finished with value: 0.6633064516129032 and parameters: {'n_estimators': 39, 'eta': 0.03574065639365702, 'max_depth': 6, 'subsample': 0.7319713761441797, 'colsample_bytree': 0.9865828263354618, 'lambda': 17.97977551421352}. Best is trial 12 with value: 0.6633064516129032.\n",
      "[I 2023-06-06 16:58:37,437] Trial 15 finished with value: 0.6592741935483871 and parameters: {'n_estimators': 39, 'eta': 0.021516990827089324, 'max_depth': 8, 'subsample': 0.696828176711396, 'colsample_bytree': 0.9976752271491582, 'lambda': 15.467214815401741}. Best is trial 12 with value: 0.6633064516129032.\n",
      "[I 2023-06-06 16:58:38,090] Trial 16 finished with value: 0.6612903225806451 and parameters: {'n_estimators': 30, 'eta': 0.01808133803826224, 'max_depth': 11, 'subsample': 0.7878203404242001, 'colsample_bytree': 0.8442812884296866, 'lambda': 75.03852990055375}. Best is trial 12 with value: 0.6633064516129032.\n",
      "[I 2023-06-06 16:58:38,501] Trial 17 finished with value: 0.657258064516129 and parameters: {'n_estimators': 33, 'eta': 0.04058831668723503, 'max_depth': 6, 'subsample': 0.5793365256452061, 'colsample_bytree': 0.8679196162554206, 'lambda': 21.238590872368643}. Best is trial 12 with value: 0.6633064516129032.\n",
      "[I 2023-06-06 16:58:38,966] Trial 18 finished with value: 0.6633064516129032 and parameters: {'n_estimators': 27, 'eta': 0.03203215522191157, 'max_depth': 9, 'subsample': 0.7806750107837908, 'colsample_bytree': 0.7505120337850074, 'lambda': 79.73063390088012}. Best is trial 12 with value: 0.6633064516129032.\n",
      "[I 2023-06-06 16:58:39,463] Trial 19 finished with value: 0.657258064516129 and parameters: {'n_estimators': 37, 'eta': 0.02979712141797542, 'max_depth': 7, 'subsample': 0.5761363620601283, 'colsample_bytree': 0.7722107329689292, 'lambda': 14.666528095844212}. Best is trial 12 with value: 0.6633064516129032.\n",
      "[I 2023-06-06 16:58:39,944] Trial 20 finished with value: 0.6592741935483871 and parameters: {'n_estimators': 41, 'eta': 0.01800728079024142, 'max_depth': 6, 'subsample': 0.44712044201431805, 'colsample_bytree': 0.9596344730126751, 'lambda': 75.27003000970971}. Best is trial 12 with value: 0.6633064516129032.\n",
      "[I 2023-06-06 16:58:40,531] Trial 21 finished with value: 0.6653225806451613 and parameters: {'n_estimators': 27, 'eta': 0.03239168304041928, 'max_depth': 9, 'subsample': 0.7816008337145178, 'colsample_bytree': 0.9091327464359157, 'lambda': 74.12278289644591}. Best is trial 21 with value: 0.6653225806451613.\n",
      "[I 2023-06-06 16:58:41,122] Trial 22 finished with value: 0.6653225806451613 and parameters: {'n_estimators': 28, 'eta': 0.03285718607837863, 'max_depth': 9, 'subsample': 0.7714094946195512, 'colsample_bytree': 0.8952803934797051, 'lambda': 50.679846763320256}. Best is trial 21 with value: 0.6653225806451613.\n",
      "[I 2023-06-06 16:58:41,696] Trial 23 finished with value: 0.6612903225806451 and parameters: {'n_estimators': 28, 'eta': 0.027853613260786458, 'max_depth': 10, 'subsample': 0.6438157531074169, 'colsample_bytree': 0.904872068015859, 'lambda': 87.80410443151759}. Best is trial 21 with value: 0.6653225806451613.\n",
      "[I 2023-06-06 16:58:42,215] Trial 24 finished with value: 0.6673387096774194 and parameters: {'n_estimators': 28, 'eta': 0.043457941098048264, 'max_depth': 9, 'subsample': 0.7925093862377911, 'colsample_bytree': 0.8078230848055512, 'lambda': 50.632795960279736}. Best is trial 24 with value: 0.6673387096774194.\n",
      "[I 2023-06-06 16:58:42,839] Trial 25 finished with value: 0.6653225806451613 and parameters: {'n_estimators': 29, 'eta': 0.043644157858411914, 'max_depth': 11, 'subsample': 0.8129674353803542, 'colsample_bytree': 0.7947268251637267, 'lambda': 132.01216868459676}. Best is trial 24 with value: 0.6673387096774194.\n",
      "[I 2023-06-06 16:58:43,511] Trial 26 finished with value: 0.6633064516129032 and parameters: {'n_estimators': 32, 'eta': 0.032571360685681346, 'max_depth': 9, 'subsample': 0.8656064350372051, 'colsample_bytree': 0.8846994026840181, 'lambda': 41.72548351781385}. Best is trial 24 with value: 0.6673387096774194.\n"
     ]
    },
    {
     "name": "stderr",
     "output_type": "stream",
     "text": [
      "[I 2023-06-06 16:58:44,144] Trial 27 finished with value: 0.6612903225806451 and parameters: {'n_estimators': 35, 'eta': 0.04644225911388825, 'max_depth': 10, 'subsample': 0.7432249217533984, 'colsample_bytree': 0.7179529434055802, 'lambda': 192.03418310858177}. Best is trial 24 with value: 0.6673387096774194.\n",
      "[I 2023-06-06 16:58:44,657] Trial 28 finished with value: 0.6633064516129032 and parameters: {'n_estimators': 28, 'eta': 0.034877282557580526, 'max_depth': 8, 'subsample': 0.9048254244341755, 'colsample_bytree': 0.7931873973412895, 'lambda': 27.542435083592615}. Best is trial 24 with value: 0.6673387096774194.\n",
      "[I 2023-06-06 16:58:45,387] Trial 29 finished with value: 0.6673387096774194 and parameters: {'n_estimators': 27, 'eta': 0.04156402578341359, 'max_depth': 11, 'subsample': 0.920955614664501, 'colsample_bytree': 0.904482382195936, 'lambda': 45.359829080132435}. Best is trial 24 with value: 0.6673387096774194.\n",
      "[I 2023-06-06 16:58:46,131] Trial 30 finished with value: 0.6673387096774194 and parameters: {'n_estimators': 31, 'eta': 0.04172147472320874, 'max_depth': 11, 'subsample': 0.9414113480725702, 'colsample_bytree': 0.8000498870784075, 'lambda': 29.108438082533436}. Best is trial 24 with value: 0.6673387096774194.\n",
      "[I 2023-06-06 16:58:47,129] Trial 31 finished with value: 0.6673387096774194 and parameters: {'n_estimators': 32, 'eta': 0.04172977313207513, 'max_depth': 12, 'subsample': 0.9408142648062997, 'colsample_bytree': 0.8226282169284912, 'lambda': 24.869274385041766}. Best is trial 24 with value: 0.6673387096774194.\n",
      "[I 2023-06-06 16:58:47,944] Trial 32 finished with value: 0.6612903225806451 and parameters: {'n_estimators': 32, 'eta': 0.04147088924691587, 'max_depth': 11, 'subsample': 0.9519667687976916, 'colsample_bytree': 0.7019818440611004, 'lambda': 26.763547753379395}. Best is trial 24 with value: 0.6673387096774194.\n",
      "[I 2023-06-06 16:58:48,869] Trial 33 finished with value: 0.6612903225806451 and parameters: {'n_estimators': 30, 'eta': 0.04594804434798231, 'max_depth': 12, 'subsample': 0.9983511657080013, 'colsample_bytree': 0.8133515466097492, 'lambda': 36.11997638188597}. Best is trial 24 with value: 0.6673387096774194.\n",
      "[I 2023-06-06 16:58:49,813] Trial 34 finished with value: 0.657258064516129 and parameters: {'n_estimators': 32, 'eta': 0.06503464361687145, 'max_depth': 12, 'subsample': 0.9215048993077051, 'colsample_bytree': 0.7370181637008549, 'lambda': 12.07994303994032}. Best is trial 24 with value: 0.6673387096774194.\n",
      "[I 2023-06-06 16:58:50,466] Trial 35 finished with value: 0.6633064516129032 and parameters: {'n_estimators': 25, 'eta': 0.03814244706946658, 'max_depth': 13, 'subsample': 0.9477451426263959, 'colsample_bytree': 0.6852439477085268, 'lambda': 23.006079979483776}. Best is trial 24 with value: 0.6673387096774194.\n",
      "[I 2023-06-06 16:58:51,427] Trial 36 finished with value: 0.6633064516129032 and parameters: {'n_estimators': 34, 'eta': 0.05675215102253881, 'max_depth': 13, 'subsample': 0.8525515963217156, 'colsample_bytree': 0.8149713029206135, 'lambda': 31.82767368167432}. Best is trial 24 with value: 0.6673387096774194.\n",
      "[I 2023-06-06 16:58:52,055] Trial 37 finished with value: 0.6612903225806451 and parameters: {'n_estimators': 30, 'eta': 0.05151588328895133, 'max_depth': 11, 'subsample': 0.9443532286506853, 'colsample_bytree': 0.6069974781324863, 'lambda': 21.821851589550846}. Best is trial 24 with value: 0.6673387096774194.\n",
      "[I 2023-06-06 16:58:52,724] Trial 38 finished with value: 0.6612903225806451 and parameters: {'n_estimators': 27, 'eta': 0.06537933270654273, 'max_depth': 12, 'subsample': 0.8547285157729605, 'colsample_bytree': 0.7592330392678492, 'lambda': 10.365403741858305}. Best is trial 24 with value: 0.6673387096774194.\n",
      "[I 2023-06-06 16:58:53,597] Trial 39 finished with value: 0.655241935483871 and parameters: {'n_estimators': 34, 'eta': 0.04796620297270665, 'max_depth': 14, 'subsample': 0.9038361130691884, 'colsample_bytree': 0.655032601634776, 'lambda': 42.50244738037744}. Best is trial 24 with value: 0.6673387096774194.\n",
      "[I 2023-06-06 16:58:54,743] Trial 40 finished with value: 0.6673387096774194 and parameters: {'n_estimators': 47, 'eta': 0.04111838633933612, 'max_depth': 11, 'subsample': 0.8267757728842485, 'colsample_bytree': 0.8428466090189555, 'lambda': 112.21034273629915}. Best is trial 24 with value: 0.6673387096774194.\n",
      "[I 2023-06-06 16:58:55,966] Trial 41 finished with value: 0.6653225806451613 and parameters: {'n_estimators': 47, 'eta': 0.041829284610278045, 'max_depth': 11, 'subsample': 0.8445532783506552, 'colsample_bytree': 0.8352434530275877, 'lambda': 91.83605949163204}. Best is trial 24 with value: 0.6673387096774194.\n",
      "[I 2023-06-06 16:58:57,418] Trial 42 finished with value: 0.6653225806451613 and parameters: {'n_estimators': 50, 'eta': 0.03792819182088308, 'max_depth': 12, 'subsample': 0.9682913877339359, 'colsample_bytree': 0.846667435167863, 'lambda': 52.8847019676817}. Best is trial 24 with value: 0.6673387096774194.\n",
      "[I 2023-06-06 16:58:58,526] Trial 43 finished with value: 0.6633064516129032 and parameters: {'n_estimators': 46, 'eta': 0.05197844457677418, 'max_depth': 10, 'subsample': 0.919148980789934, 'colsample_bytree': 0.7761544348801803, 'lambda': 126.57507195645941}. Best is trial 24 with value: 0.6673387096774194.\n",
      "[I 2023-06-06 16:58:59,313] Trial 44 finished with value: 0.6693548387096774 and parameters: {'n_estimators': 29, 'eta': 0.04409137547175071, 'max_depth': 10, 'subsample': 0.8339559623099321, 'colsample_bytree': 0.9211116181806508, 'lambda': 31.083630397217803}. Best is trial 44 with value: 0.6693548387096774.\n",
      "[I 2023-06-06 16:59:00,152] Trial 45 finished with value: 0.6512096774193549 and parameters: {'n_estimators': 30, 'eta': 0.059608046647286105, 'max_depth': 10, 'subsample': 0.8945008098659873, 'colsample_bytree': 0.9236109291516141, 'lambda': 7.541514287714557}. Best is trial 44 with value: 0.6693548387096774.\n",
      "[I 2023-06-06 16:59:00,863] Trial 46 finished with value: 0.6532258064516129 and parameters: {'n_estimators': 26, 'eta': 0.04909864075370159, 'max_depth': 10, 'subsample': 0.9713179055465204, 'colsample_bytree': 0.9500442919523558, 'lambda': 27.89592723183973}. Best is trial 44 with value: 0.6693548387096774.\n",
      "[I 2023-06-06 16:59:01,514] Trial 47 finished with value: 0.6713709677419355 and parameters: {'n_estimators': 29, 'eta': 0.07237727926897208, 'max_depth': 8, 'subsample': 0.8209717745700611, 'colsample_bytree': 0.9336796616985845, 'lambda': 59.53870409838508}. Best is trial 47 with value: 0.6713709677419355.\n",
      "[I 2023-06-06 16:59:02,156] Trial 48 finished with value: 0.6612903225806451 and parameters: {'n_estimators': 29, 'eta': 0.07719302219059673, 'max_depth': 8, 'subsample': 0.8185870829553177, 'colsample_bytree': 0.9343873138737528, 'lambda': 57.677804094937066}. Best is trial 47 with value: 0.6713709677419355.\n",
      "[I 2023-06-06 16:59:02,740] Trial 49 finished with value: 0.655241935483871 and parameters: {'n_estimators': 26, 'eta': 0.07449801449395807, 'max_depth': 8, 'subsample': 0.8855198039979132, 'colsample_bytree': 0.8847158562698738, 'lambda': 38.289067922137875}. Best is trial 47 with value: 0.6713709677419355.\n",
      "[I 2023-06-06 16:59:03,451] Trial 50 finished with value: 0.6653225806451613 and parameters: {'n_estimators': 29, 'eta': 0.06266310242800716, 'max_depth': 9, 'subsample': 0.8247378510737474, 'colsample_bytree': 0.9537162437925917, 'lambda': 17.432518793009937}. Best is trial 47 with value: 0.6713709677419355.\n",
      "[I 2023-06-06 16:59:04,310] Trial 51 finished with value: 0.6673387096774194 and parameters: {'n_estimators': 31, 'eta': 0.04501848373743894, 'max_depth': 11, 'subsample': 0.9997495324183358, 'colsample_bytree': 0.8702188170020151, 'lambda': 59.76757306761792}. Best is trial 47 with value: 0.6713709677419355.\n",
      "[I 2023-06-06 16:59:05,287] Trial 52 finished with value: 0.655241935483871 and parameters: {'n_estimators': 31, 'eta': 0.05337894125243494, 'max_depth': 13, 'subsample': 0.8761507337302424, 'colsample_bytree': 0.9217615338232857, 'lambda': 31.83842038104203}. Best is trial 47 with value: 0.6713709677419355.\n",
      "[I 2023-06-06 16:59:05,908] Trial 53 finished with value: 0.6693548387096774 and parameters: {'n_estimators': 28, 'eta': 0.055199900357834446, 'max_depth': 7, 'subsample': 0.9282610361730707, 'colsample_bytree': 0.9941979545666215, 'lambda': 42.551246928025506}. Best is trial 47 with value: 0.6713709677419355.\n"
     ]
    },
    {
     "name": "stderr",
     "output_type": "stream",
     "text": [
      "[I 2023-06-06 16:59:06,472] Trial 54 finished with value: 0.6673387096774194 and parameters: {'n_estimators': 27, 'eta': 0.055655842245702365, 'max_depth': 7, 'subsample': 0.8744594704194057, 'colsample_bytree': 0.988255744223478, 'lambda': 47.112174485304266}. Best is trial 47 with value: 0.6713709677419355.\n",
      "[I 2023-06-06 16:59:07,068] Trial 55 finished with value: 0.657258064516129 and parameters: {'n_estimators': 28, 'eta': 0.06056523124137623, 'max_depth': 7, 'subsample': 0.9209678795083047, 'colsample_bytree': 0.9530043399792185, 'lambda': 62.505526362389425}. Best is trial 47 with value: 0.6713709677419355.\n",
      "[I 2023-06-06 16:59:07,654] Trial 56 finished with value: 0.6713709677419355 and parameters: {'n_estimators': 25, 'eta': 0.07127519696292826, 'max_depth': 9, 'subsample': 0.7537344491245686, 'colsample_bytree': 0.9223316616727497, 'lambda': 35.369867933040936}. Best is trial 47 with value: 0.6713709677419355.\n",
      "[I 2023-06-06 16:59:08,242] Trial 57 finished with value: 0.6592741935483871 and parameters: {'n_estimators': 25, 'eta': 0.08626898994043478, 'max_depth': 9, 'subsample': 0.7238176363740257, 'colsample_bytree': 0.9867155620605291, 'lambda': 39.7400798664673}. Best is trial 47 with value: 0.6713709677419355.\n",
      "[I 2023-06-06 16:59:08,781] Trial 58 finished with value: 0.6512096774193549 and parameters: {'n_estimators': 25, 'eta': 0.07040828728745196, 'max_depth': 8, 'subsample': 0.8036481347884565, 'colsample_bytree': 0.923819600053247, 'lambda': 19.293767868110283}. Best is trial 47 with value: 0.6713709677419355.\n",
      "[I 2023-06-06 16:59:09,337] Trial 59 finished with value: 0.6693548387096774 and parameters: {'n_estimators': 26, 'eta': 0.05440352038971062, 'max_depth': 9, 'subsample': 0.7737049347085023, 'colsample_bytree': 0.8653758793194135, 'lambda': 107.23068501269499}. Best is trial 47 with value: 0.6713709677419355.\n",
      "[I 2023-06-06 16:59:09,911] Trial 60 finished with value: 0.6653225806451613 and parameters: {'n_estimators': 26, 'eta': 0.06950965048401256, 'max_depth': 9, 'subsample': 0.7527182286545999, 'colsample_bytree': 0.8848336941220531, 'lambda': 93.02469266708985}. Best is trial 47 with value: 0.6713709677419355.\n",
      "[I 2023-06-06 16:59:10,451] Trial 61 finished with value: 0.6653225806451613 and parameters: {'n_estimators': 27, 'eta': 0.057464609422636315, 'max_depth': 8, 'subsample': 0.8084221151104027, 'colsample_bytree': 0.8638879930261686, 'lambda': 67.59383913488345}. Best is trial 47 with value: 0.6713709677419355.\n",
      "[I 2023-06-06 16:59:10,947] Trial 62 finished with value: 0.6592741935483871 and parameters: {'n_estimators': 26, 'eta': 0.04999412097647035, 'max_depth': 7, 'subsample': 0.7730803070822098, 'colsample_bytree': 0.9675890567024055, 'lambda': 106.1311240170685}. Best is trial 47 with value: 0.6713709677419355.\n",
      "[I 2023-06-06 16:59:11,643] Trial 63 finished with value: 0.6633064516129032 and parameters: {'n_estimators': 28, 'eta': 0.06075947169810988, 'max_depth': 10, 'subsample': 0.8434650797046159, 'colsample_bytree': 0.9068139186437735, 'lambda': 153.1374102210427}. Best is trial 47 with value: 0.6713709677419355.\n",
      "[I 2023-06-06 16:59:12,191] Trial 64 finished with value: 0.6612903225806451 and parameters: {'n_estimators': 29, 'eta': 0.05445052116983872, 'max_depth': 8, 'subsample': 0.7214627574135297, 'colsample_bytree': 0.9060373154016136, 'lambda': 79.59543283990905}. Best is trial 47 with value: 0.6713709677419355.\n",
      "[I 2023-06-06 16:59:12,783] Trial 65 finished with value: 0.6653225806451613 and parameters: {'n_estimators': 27, 'eta': 0.04749124768938433, 'max_depth': 9, 'subsample': 0.7637832708323236, 'colsample_bytree': 0.9375420757723183, 'lambda': 50.94323757846977}. Best is trial 47 with value: 0.6713709677419355.\n",
      "[I 2023-06-06 16:59:13,220] Trial 66 finished with value: 0.657258064516129 and parameters: {'n_estimators': 25, 'eta': 0.04469986662747051, 'max_depth': 6, 'subsample': 0.795305225779806, 'colsample_bytree': 0.9962759165595971, 'lambda': 69.00841241045374}. Best is trial 47 with value: 0.6713709677419355.\n",
      "[I 2023-06-06 16:59:13,855] Trial 67 finished with value: 0.6612903225806451 and parameters: {'n_estimators': 29, 'eta': 0.03585227469571227, 'max_depth': 10, 'subsample': 0.6920657717723725, 'colsample_bytree': 0.858339691888431, 'lambda': 33.666340881075435}. Best is trial 47 with value: 0.6713709677419355.\n",
      "[I 2023-06-06 16:59:14,553] Trial 68 finished with value: 0.6592741935483871 and parameters: {'n_estimators': 28, 'eta': 0.06714552831374325, 'max_depth': 9, 'subsample': 0.8411835144628533, 'colsample_bytree': 0.9684016757241486, 'lambda': 100.92153831534213}. Best is trial 47 with value: 0.6713709677419355.\n",
      "[I 2023-06-06 16:59:15,127] Trial 69 finished with value: 0.6653225806451613 and parameters: {'n_estimators': 26, 'eta': 0.05170479457505435, 'max_depth': 9, 'subsample': 0.7463618761131059, 'colsample_bytree': 0.8803197835413757, 'lambda': 47.24940353296138}. Best is trial 47 with value: 0.6713709677419355.\n",
      "[I 2023-06-06 16:59:15,704] Trial 70 finished with value: 0.6612903225806451 and parameters: {'n_estimators': 27, 'eta': 0.06269870483846568, 'max_depth': 8, 'subsample': 0.792223004223316, 'colsample_bytree': 0.902840712897788, 'lambda': 81.51628071937513}. Best is trial 47 with value: 0.6713709677419355.\n",
      "[I 2023-06-06 16:59:16,487] Trial 71 finished with value: 0.6633064516129032 and parameters: {'n_estimators': 30, 'eta': 0.04430462499436476, 'max_depth': 10, 'subsample': 0.879777912632213, 'colsample_bytree': 0.9391229912690308, 'lambda': 28.538686933669553}. Best is trial 47 with value: 0.6713709677419355.\n",
      "[I 2023-06-06 16:59:17,207] Trial 72 finished with value: 0.6733870967741935 and parameters: {'n_estimators': 28, 'eta': 0.03832673995629622, 'max_depth': 11, 'subsample': 0.9218533142150404, 'colsample_bytree': 0.7959171473018773, 'lambda': 40.50158260307165}. Best is trial 72 with value: 0.6733870967741935.\n",
      "[I 2023-06-06 16:59:17,850] Trial 73 finished with value: 0.657258064516129 and parameters: {'n_estimators': 28, 'eta': 0.04815789886872088, 'max_depth': 9, 'subsample': 0.9080610509982111, 'colsample_bytree': 0.8260199317273414, 'lambda': 37.59083769332517}. Best is trial 72 with value: 0.6733870967741935.\n",
      "[I 2023-06-06 16:59:18,505] Trial 74 finished with value: 0.6592741935483871 and parameters: {'n_estimators': 29, 'eta': 0.03927175550528435, 'max_depth': 10, 'subsample': 0.8700673905621313, 'colsample_bytree': 0.779538506650009, 'lambda': 57.35173111880345}. Best is trial 72 with value: 0.6733870967741935.\n",
      "[I 2023-06-06 16:59:18,857] Trial 75 finished with value: 0.6653225806451613 and parameters: {'n_estimators': 26, 'eta': 0.05758204896599927, 'max_depth': 5, 'subsample': 0.8247528576849835, 'colsample_bytree': 0.8606985790886463, 'lambda': 45.598286295149286}. Best is trial 72 with value: 0.6733870967741935.\n",
      "[I 2023-06-06 16:59:19,630] Trial 76 finished with value: 0.6673387096774194 and parameters: {'n_estimators': 42, 'eta': 0.03676507735295034, 'max_depth': 7, 'subsample': 0.9714881005094185, 'colsample_bytree': 0.7989209346288592, 'lambda': 23.798863090924556}. Best is trial 72 with value: 0.6733870967741935.\n",
      "[I 2023-06-06 16:59:20,297] Trial 77 finished with value: 0.655241935483871 and parameters: {'n_estimators': 25, 'eta': 0.03430775461041314, 'max_depth': 11, 'subsample': 0.927761981229322, 'colsample_bytree': 0.8422186485866725, 'lambda': 63.832761721093405}. Best is trial 72 with value: 0.6733870967741935.\n",
      "[I 2023-06-06 16:59:21,028] Trial 78 finished with value: 0.6653225806451613 and parameters: {'n_estimators': 33, 'eta': 0.03835468576649756, 'max_depth': 8, 'subsample': 0.7833522344851653, 'colsample_bytree': 0.9723849130111744, 'lambda': 34.53698095643087}. Best is trial 72 with value: 0.6733870967741935.\n",
      "[I 2023-06-06 16:59:21,489] Trial 79 finished with value: 0.6633064516129032 and parameters: {'n_estimators': 28, 'eta': 0.04306093023806021, 'max_depth': 7, 'subsample': 0.8949336189325532, 'colsample_bytree': 0.7323354616745859, 'lambda': 15.164232637235704}. Best is trial 72 with value: 0.6733870967741935.\n",
      "[I 2023-06-06 16:59:22,217] Trial 80 finished with value: 0.6653225806451613 and parameters: {'n_estimators': 30, 'eta': 0.052750624778155224, 'max_depth': 10, 'subsample': 0.8525457031661808, 'colsample_bytree': 0.8901975010647147, 'lambda': 198.2275266713192}. Best is trial 72 with value: 0.6733870967741935.\n"
     ]
    },
    {
     "name": "stderr",
     "output_type": "stream",
     "text": [
      "[I 2023-06-06 16:59:22,930] Trial 81 finished with value: 0.6653225806451613 and parameters: {'n_estimators': 27, 'eta': 0.039158529025300766, 'max_depth': 11, 'subsample': 0.939826861211487, 'colsample_bytree': 0.8102289428040381, 'lambda': 43.141800110041316}. Best is trial 72 with value: 0.6733870967741935.\n",
      "[I 2023-06-06 16:59:23,851] Trial 82 finished with value: 0.6713709677419355 and parameters: {'n_estimators': 36, 'eta': 0.040452296109860834, 'max_depth': 11, 'subsample': 0.9585921255330664, 'colsample_bytree': 0.7601185895845785, 'lambda': 29.989034126639094}. Best is trial 72 with value: 0.6733870967741935.\n",
      "[I 2023-06-06 16:59:24,839] Trial 83 finished with value: 0.6814516129032258 and parameters: {'n_estimators': 39, 'eta': 0.046266993101541545, 'max_depth': 11, 'subsample': 0.9668185485055184, 'colsample_bytree': 0.7588174046835052, 'lambda': 23.696127246498573}. Best is trial 83 with value: 0.6814516129032258.\n",
      "[I 2023-06-06 16:59:25,851] Trial 84 finished with value: 0.6592741935483871 and parameters: {'n_estimators': 38, 'eta': 0.04605385966862969, 'max_depth': 12, 'subsample': 0.9048459416826915, 'colsample_bytree': 0.7588227958933966, 'lambda': 23.600659740592288}. Best is trial 83 with value: 0.6814516129032258.\n",
      "[I 2023-06-06 16:59:26,842] Trial 85 finished with value: 0.6653225806451613 and parameters: {'n_estimators': 40, 'eta': 0.049633811593534145, 'max_depth': 10, 'subsample': 0.9739071763710747, 'colsample_bytree': 0.784557365544155, 'lambda': 19.664118134978807}. Best is trial 83 with value: 0.6814516129032258.\n",
      "[I 2023-06-06 16:59:27,802] Trial 86 finished with value: 0.6693548387096774 and parameters: {'n_estimators': 35, 'eta': 0.04348512101889238, 'max_depth': 11, 'subsample': 0.9829376015798108, 'colsample_bytree': 0.823781933751683, 'lambda': 53.96763515395069}. Best is trial 83 with value: 0.6814516129032258.\n",
      "[I 2023-06-06 16:59:28,745] Trial 87 finished with value: 0.6713709677419355 and parameters: {'n_estimators': 36, 'eta': 0.05529379218767634, 'max_depth': 11, 'subsample': 0.9543751519742341, 'colsample_bytree': 0.8331467236488638, 'lambda': 31.909238427558197}. Best is trial 83 with value: 0.6814516129032258.\n",
      "[I 2023-06-06 16:59:29,727] Trial 88 finished with value: 0.6733870967741935 and parameters: {'n_estimators': 36, 'eta': 0.05463789619839804, 'max_depth': 12, 'subsample': 0.960348555897523, 'colsample_bytree': 0.7398145369292944, 'lambda': 31.402831282915944}. Best is trial 83 with value: 0.6814516129032258.\n",
      "[I 2023-06-06 16:59:30,665] Trial 89 finished with value: 0.6653225806451613 and parameters: {'n_estimators': 37, 'eta': 0.0587626587396097, 'max_depth': 12, 'subsample': 0.944814968998592, 'colsample_bytree': 0.7458760907239269, 'lambda': 30.956027003835462}. Best is trial 83 with value: 0.6814516129032258.\n",
      "[I 2023-06-06 16:59:31,685] Trial 90 finished with value: 0.6774193548387096 and parameters: {'n_estimators': 39, 'eta': 0.04756173495719353, 'max_depth': 12, 'subsample': 0.9632002017462885, 'colsample_bytree': 0.7269218387555517, 'lambda': 26.88631007317833}. Best is trial 83 with value: 0.6814516129032258.\n",
      "[I 2023-06-06 16:59:32,540] Trial 91 finished with value: 0.6653225806451613 and parameters: {'n_estimators': 38, 'eta': 0.046732965146786855, 'max_depth': 11, 'subsample': 0.9611335946144957, 'colsample_bytree': 0.6796424304393526, 'lambda': 24.677298798598216}. Best is trial 83 with value: 0.6814516129032258.\n",
      "[I 2023-06-06 16:59:33,499] Trial 92 finished with value: 0.6633064516129032 and parameters: {'n_estimators': 36, 'eta': 0.05076384928264763, 'max_depth': 12, 'subsample': 0.9948919920627728, 'colsample_bytree': 0.7238344102338918, 'lambda': 35.247465329138585}. Best is trial 83 with value: 0.6814516129032258.\n",
      "[I 2023-06-06 16:59:34,517] Trial 93 finished with value: 0.6633064516129032 and parameters: {'n_estimators': 39, 'eta': 0.05629267264765564, 'max_depth': 12, 'subsample': 0.9586243004987218, 'colsample_bytree': 0.7104508160472248, 'lambda': 17.37177811226181}. Best is trial 83 with value: 0.6814516129032258.\n",
      "[I 2023-06-06 16:59:35,696] Trial 94 finished with value: 0.6532258064516129 and parameters: {'n_estimators': 41, 'eta': 0.06352219865751095, 'max_depth': 13, 'subsample': 0.9294480830315688, 'colsample_bytree': 0.7660183968630084, 'lambda': 27.977862023548653}. Best is trial 83 with value: 0.6814516129032258.\n",
      "[I 2023-06-06 16:59:36,724] Trial 95 finished with value: 0.6653225806451613 and parameters: {'n_estimators': 36, 'eta': 0.04045321815379222, 'max_depth': 14, 'subsample': 0.9846336829840502, 'colsample_bytree': 0.749837462264547, 'lambda': 20.664557135871778}. Best is trial 83 with value: 0.6814516129032258.\n",
      "[I 2023-06-06 16:59:37,608] Trial 96 finished with value: 0.6633064516129032 and parameters: {'n_estimators': 35, 'eta': 0.04853563913822757, 'max_depth': 12, 'subsample': 0.9576909936696412, 'colsample_bytree': 0.7087098406892903, 'lambda': 38.51850773816753}. Best is trial 83 with value: 0.6814516129032258.\n",
      "[I 2023-06-06 16:59:38,666] Trial 97 finished with value: 0.655241935483871 and parameters: {'n_estimators': 39, 'eta': 0.05353868408281818, 'max_depth': 11, 'subsample': 0.912173842626943, 'colsample_bytree': 0.8031195514948325, 'lambda': 27.237289441247857}. Best is trial 83 with value: 0.6814516129032258.\n",
      "[I 2023-06-06 16:59:39,593] Trial 98 finished with value: 0.6471774193548387 and parameters: {'n_estimators': 37, 'eta': 0.04536909072145261, 'max_depth': 11, 'subsample': 0.8898046738950767, 'colsample_bytree': 0.7807042086990545, 'lambda': 13.155911900956145}. Best is trial 83 with value: 0.6814516129032258.\n",
      "[I 2023-06-06 16:59:40,611] Trial 99 finished with value: 0.6673387096774194 and parameters: {'n_estimators': 40, 'eta': 0.058673755752401344, 'max_depth': 12, 'subsample': 0.9319982650606445, 'colsample_bytree': 0.7328642304396406, 'lambda': 33.16928288475323}. Best is trial 83 with value: 0.6814516129032258.\n",
      "[I 2023-06-06 16:59:41,766] Trial 100 finished with value: 0.6612903225806451 and parameters: {'n_estimators': 43, 'eta': 0.06726406916326012, 'max_depth': 13, 'subsample': 0.9984497652915868, 'colsample_bytree': 0.6921300186156079, 'lambda': 41.96720708430067}. Best is trial 83 with value: 0.6814516129032258.\n",
      "[I 2023-06-06 16:59:42,697] Trial 101 finished with value: 0.655241935483871 and parameters: {'n_estimators': 39, 'eta': 0.05623742925600558, 'max_depth': 10, 'subsample': 0.8641641992017841, 'colsample_bytree': 0.8460146197974903, 'lambda': 21.876805640934307}. Best is trial 83 with value: 0.6814516129032258.\n",
      "[I 2023-06-06 16:59:43,828] Trial 102 finished with value: 0.6713709677419355 and parameters: {'n_estimators': 38, 'eta': 0.054075516657387496, 'max_depth': 11, 'subsample': 0.9462085065273338, 'colsample_bytree': 0.9227359952581273, 'lambda': 30.033638117198898}. Best is trial 83 with value: 0.6814516129032258.\n",
      "[I 2023-06-06 16:59:44,940] Trial 103 finished with value: 0.6612903225806451 and parameters: {'n_estimators': 38, 'eta': 0.06149312060270786, 'max_depth': 11, 'subsample': 0.9611617748469486, 'colsample_bytree': 0.9183050521993427, 'lambda': 31.036164794189833}. Best is trial 83 with value: 0.6814516129032258.\n",
      "[I 2023-06-06 16:59:46,016] Trial 104 finished with value: 0.6592741935483871 and parameters: {'n_estimators': 36, 'eta': 0.05099773898999587, 'max_depth': 11, 'subsample': 0.919618192925743, 'colsample_bytree': 0.940853671034942, 'lambda': 17.98786026436799}. Best is trial 83 with value: 0.6814516129032258.\n",
      "[I 2023-06-06 16:59:47,304] Trial 105 finished with value: 0.6754032258064516 and parameters: {'n_estimators': 41, 'eta': 0.05418288785293332, 'max_depth': 11, 'subsample': 0.9784370851858594, 'colsample_bytree': 0.9680248741089138, 'lambda': 24.098872102994267}. Best is trial 83 with value: 0.6814516129032258.\n",
      "[I 2023-06-06 16:59:48,515] Trial 106 finished with value: 0.6633064516129032 and parameters: {'n_estimators': 41, 'eta': 0.043119420017776404, 'max_depth': 12, 'subsample': 0.9791807074682947, 'colsample_bytree': 0.8310533580024054, 'lambda': 26.309469724010878}. Best is trial 83 with value: 0.6814516129032258.\n",
      "[I 2023-06-06 16:59:49,903] Trial 107 finished with value: 0.6633064516129032 and parameters: {'n_estimators': 42, 'eta': 0.047918326797956094, 'max_depth': 11, 'subsample': 0.9501318178998832, 'colsample_bytree': 0.8789661929976073, 'lambda': 21.686747424016353}. Best is trial 83 with value: 0.6814516129032258.\n"
     ]
    },
    {
     "name": "stderr",
     "output_type": "stream",
     "text": [
      "[I 2023-06-06 16:59:51,222] Trial 108 finished with value: 0.6653225806451613 and parameters: {'n_estimators': 40, 'eta': 0.053063953237449134, 'max_depth': 12, 'subsample': 0.894368904246363, 'colsample_bytree': 0.9243813387582706, 'lambda': 36.15795318378952}. Best is trial 83 with value: 0.6814516129032258.\n",
      "[I 2023-06-06 16:59:52,319] Trial 109 finished with value: 0.6592741935483871 and parameters: {'n_estimators': 33, 'eta': 0.04961993125808306, 'max_depth': 11, 'subsample': 0.9824450853341689, 'colsample_bytree': 0.9711982249324987, 'lambda': 30.125291659971683}. Best is trial 83 with value: 0.6814516129032258.\n",
      "[I 2023-06-06 16:59:53,316] Trial 110 finished with value: 0.6713709677419355 and parameters: {'n_estimators': 37, 'eta': 0.04038053527723186, 'max_depth': 10, 'subsample': 0.9426980458725599, 'colsample_bytree': 0.8946972838974312, 'lambda': 49.32118802207265}. Best is trial 83 with value: 0.6814516129032258.\n",
      "[I 2023-06-06 16:59:54,287] Trial 111 finished with value: 0.6673387096774194 and parameters: {'n_estimators': 37, 'eta': 0.040598968135258366, 'max_depth': 10, 'subsample': 0.9415633187419725, 'colsample_bytree': 0.9530556009915607, 'lambda': 50.94733454312371}. Best is trial 83 with value: 0.6814516129032258.\n",
      "[I 2023-06-06 16:59:55,272] Trial 112 finished with value: 0.6633064516129032 and parameters: {'n_estimators': 38, 'eta': 0.037074782655749414, 'max_depth': 10, 'subsample': 0.9644922102249348, 'colsample_bytree': 0.8938730139018358, 'lambda': 39.87495854871915}. Best is trial 83 with value: 0.6814516129032258.\n",
      "[I 2023-06-06 16:59:56,231] Trial 113 finished with value: 0.6754032258064516 and parameters: {'n_estimators': 35, 'eta': 0.04621635497297722, 'max_depth': 11, 'subsample': 0.9156602421160968, 'colsample_bytree': 0.9086825731636141, 'lambda': 16.354658643027246}. Best is trial 83 with value: 0.6814516129032258.\n",
      "[I 2023-06-06 16:59:57,161] Trial 114 finished with value: 0.657258064516129 and parameters: {'n_estimators': 36, 'eta': 0.04641319463805051, 'max_depth': 11, 'subsample': 0.9113938321137184, 'colsample_bytree': 0.8508399907878043, 'lambda': 24.490677573014416}. Best is trial 83 with value: 0.6814516129032258.\n",
      "[I 2023-06-06 16:59:58,089] Trial 115 finished with value: 0.6713709677419355 and parameters: {'n_estimators': 34, 'eta': 0.04252781650029447, 'max_depth': 11, 'subsample': 0.950661326886756, 'colsample_bytree': 0.8734097317367868, 'lambda': 16.417854926994558}. Best is trial 83 with value: 0.6814516129032258.\n",
      "[I 2023-06-06 16:59:59,199] Trial 116 finished with value: 0.6612903225806451 and parameters: {'n_estimators': 37, 'eta': 0.0645181230143282, 'max_depth': 12, 'subsample': 0.8813594666770915, 'colsample_bytree': 0.9095214233400734, 'lambda': 19.8373541188318}. Best is trial 83 with value: 0.6814516129032258.\n",
      "[I 2023-06-06 17:00:00,247] Trial 117 finished with value: 0.6733870967741935 and parameters: {'n_estimators': 35, 'eta': 0.034171584478401275, 'max_depth': 11, 'subsample': 0.9335804454445552, 'colsample_bytree': 0.9374725822612615, 'lambda': 47.68887417945847}. Best is trial 83 with value: 0.6814516129032258.\n",
      "[I 2023-06-06 17:00:01,116] Trial 118 finished with value: 0.6653225806451613 and parameters: {'n_estimators': 35, 'eta': 0.07395963331499036, 'max_depth': 11, 'subsample': 0.9245570510947114, 'colsample_bytree': 0.7671489699660307, 'lambda': 24.438501766626924}. Best is trial 83 with value: 0.6814516129032258.\n",
      "[I 2023-06-06 17:00:02,229] Trial 119 finished with value: 0.6713709677419355 and parameters: {'n_estimators': 36, 'eta': 0.035012158744803644, 'max_depth': 12, 'subsample': 0.9753902282989836, 'colsample_bytree': 0.9398885073240999, 'lambda': 13.339313450785493}. Best is trial 83 with value: 0.6814516129032258.\n",
      "[I 2023-06-06 17:00:03,097] Trial 120 finished with value: 0.6612903225806451 and parameters: {'n_estimators': 34, 'eta': 0.03134895293625116, 'max_depth': 11, 'subsample': 0.9982103465300819, 'colsample_bytree': 0.7924479519491856, 'lambda': 34.701838338069145}. Best is trial 83 with value: 0.6814516129032258.\n",
      "[I 2023-06-06 17:00:04,135] Trial 121 finished with value: 0.6653225806451613 and parameters: {'n_estimators': 38, 'eta': 0.03993933469039685, 'max_depth': 11, 'subsample': 0.8997292784040846, 'colsample_bytree': 0.8982005688359131, 'lambda': 50.81070978419399}. Best is trial 83 with value: 0.6814516129032258.\n",
      "[I 2023-06-06 17:00:05,323] Trial 122 finished with value: 0.6612903225806451 and parameters: {'n_estimators': 39, 'eta': 0.03743353410407044, 'max_depth': 11, 'subsample': 0.9482459782497792, 'colsample_bytree': 0.9799579083306347, 'lambda': 43.114381979664614}. Best is trial 83 with value: 0.6814516129032258.\n",
      "[I 2023-06-06 17:00:06,423] Trial 123 finished with value: 0.6653225806451613 and parameters: {'n_estimators': 37, 'eta': 0.045218627673228304, 'max_depth': 11, 'subsample': 0.9342352937816045, 'colsample_bytree': 0.959239321438781, 'lambda': 65.37108088114377}. Best is trial 83 with value: 0.6814516129032258.\n",
      "[I 2023-06-06 17:00:07,560] Trial 124 finished with value: 0.6713709677419355 and parameters: {'n_estimators': 35, 'eta': 0.041634892073413726, 'max_depth': 12, 'subsample': 0.9685348899221959, 'colsample_bytree': 0.9323631080280792, 'lambda': 29.573153563304878}. Best is trial 83 with value: 0.6814516129032258.\n",
      "[I 2023-06-06 17:00:08,372] Trial 125 finished with value: 0.6592741935483871 and parameters: {'n_estimators': 34, 'eta': 0.051572906695492894, 'max_depth': 10, 'subsample': 0.8642145131824935, 'colsample_bytree': 0.8334144478974593, 'lambda': 48.08354154539194}. Best is trial 83 with value: 0.6814516129032258.\n",
      "[I 2023-06-06 17:00:09,459] Trial 126 finished with value: 0.6633064516129032 and parameters: {'n_estimators': 41, 'eta': 0.05951025570971585, 'max_depth': 11, 'subsample': 0.9172763700816117, 'colsample_bytree': 0.8153758459260486, 'lambda': 58.546669761375085}. Best is trial 83 with value: 0.6814516129032258.\n",
      "[I 2023-06-06 17:00:10,475] Trial 127 finished with value: 0.6592741935483871 and parameters: {'n_estimators': 35, 'eta': 0.03340837126648301, 'max_depth': 12, 'subsample': 0.9837063926054241, 'colsample_bytree': 0.861336919941557, 'lambda': 38.85953087359453}. Best is trial 83 with value: 0.6814516129032258.\n",
      "[I 2023-06-06 17:00:11,761] Trial 128 finished with value: 0.6612903225806451 and parameters: {'n_estimators': 45, 'eta': 0.03924944828510767, 'max_depth': 11, 'subsample': 0.889889468180122, 'colsample_bytree': 0.9171214874864468, 'lambda': 27.153367693315776}. Best is trial 83 with value: 0.6814516129032258.\n",
      "[I 2023-06-06 17:00:13,158] Trial 129 finished with value: 0.6653225806451613 and parameters: {'n_estimators': 40, 'eta': 0.05472846436315342, 'max_depth': 13, 'subsample': 0.9375220361249362, 'colsample_bytree': 0.9993283748597297, 'lambda': 74.94028958366489}. Best is trial 83 with value: 0.6814516129032258.\n",
      "[I 2023-06-06 17:00:14,142] Trial 130 finished with value: 0.6713709677419355 and parameters: {'n_estimators': 36, 'eta': 0.03573839065767398, 'max_depth': 10, 'subsample': 0.9609517220260183, 'colsample_bytree': 0.9467524452535854, 'lambda': 33.595818105432265}. Best is trial 83 with value: 0.6814516129032258.\n",
      "[I 2023-06-06 17:00:15,101] Trial 131 finished with value: 0.6612903225806451 and parameters: {'n_estimators': 34, 'eta': 0.0437512133855714, 'max_depth': 11, 'subsample': 0.9471068725534051, 'colsample_bytree': 0.8722437241928812, 'lambda': 10.844361076948415}. Best is trial 83 with value: 0.6814516129032258.\n",
      "[I 2023-06-06 17:00:16,148] Trial 132 finished with value: 0.6713709677419355 and parameters: {'n_estimators': 37, 'eta': 0.047700467804809424, 'max_depth': 11, 'subsample': 0.9152749205610402, 'colsample_bytree': 0.8892955783695301, 'lambda': 21.51153334646853}. Best is trial 83 with value: 0.6814516129032258.\n",
      "[I 2023-06-06 17:00:17,194] Trial 133 finished with value: 0.6673387096774194 and parameters: {'n_estimators': 38, 'eta': 0.04136269357463162, 'max_depth': 11, 'subsample': 0.95366873984317, 'colsample_bytree': 0.8756995020890967, 'lambda': 24.845990364220896}. Best is trial 83 with value: 0.6814516129032258.\n",
      "[I 2023-06-06 17:00:18,138] Trial 134 finished with value: 0.655241935483871 and parameters: {'n_estimators': 36, 'eta': 0.038080086084984574, 'max_depth': 12, 'subsample': 0.9831178556937882, 'colsample_bytree': 0.7434641740175186, 'lambda': 16.132972790545427}. Best is trial 83 with value: 0.6814516129032258.\n"
     ]
    },
    {
     "name": "stderr",
     "output_type": "stream",
     "text": [
      "[I 2023-06-06 17:00:19,029] Trial 135 finished with value: 0.6653225806451613 and parameters: {'n_estimators': 35, 'eta': 0.05010992471853451, 'max_depth': 10, 'subsample': 0.9094641809844677, 'colsample_bytree': 0.9057127256886895, 'lambda': 18.06799598514711}. Best is trial 83 with value: 0.6814516129032258.\n",
      "[I 2023-06-06 17:00:19,856] Trial 136 finished with value: 0.6532258064516129 and parameters: {'n_estimators': 33, 'eta': 0.04619988504386534, 'max_depth': 11, 'subsample': 0.9326036363434802, 'colsample_bytree': 0.7953436662569331, 'lambda': 17.162721829195362}. Best is trial 83 with value: 0.6814516129032258.\n",
      "[I 2023-06-06 17:00:20,965] Trial 137 finished with value: 0.6653225806451613 and parameters: {'n_estimators': 37, 'eta': 0.07964811363786561, 'max_depth': 11, 'subsample': 0.9672247512577347, 'colsample_bytree': 0.9649588864146744, 'lambda': 43.76911629872117}. Best is trial 83 with value: 0.6814516129032258.\n",
      "[I 2023-06-06 17:00:21,627] Trial 138 finished with value: 0.6592741935483871 and parameters: {'n_estimators': 31, 'eta': 0.06197543198599977, 'max_depth': 10, 'subsample': 0.9992851468270616, 'colsample_bytree': 0.6630641312359707, 'lambda': 14.877754163381953}. Best is trial 83 with value: 0.6814516129032258.\n",
      "[I 2023-06-06 17:00:22,568] Trial 139 finished with value: 0.6612903225806451 and parameters: {'n_estimators': 39, 'eta': 0.04340631668033092, 'max_depth': 12, 'subsample': 0.8715822118174862, 'colsample_bytree': 0.7626200026069727, 'lambda': 31.57617804874631}. Best is trial 83 with value: 0.6814516129032258.\n",
      "[I 2023-06-06 17:00:23,457] Trial 140 finished with value: 0.6693548387096774 and parameters: {'n_estimators': 34, 'eta': 0.06916296845618473, 'max_depth': 11, 'subsample': 0.8493629842621764, 'colsample_bytree': 0.852035769158429, 'lambda': 56.507192147986636}. Best is trial 83 with value: 0.6814516129032258.\n",
      "[I 2023-06-06 17:00:24,537] Trial 141 finished with value: 0.6693548387096774 and parameters: {'n_estimators': 36, 'eta': 0.03405552520755113, 'max_depth': 12, 'subsample': 0.9682257533182423, 'colsample_bytree': 0.9370212493894813, 'lambda': 13.027945757990018}. Best is trial 83 with value: 0.6814516129032258.\n",
      "[I 2023-06-06 17:00:25,629] Trial 142 finished with value: 0.655241935483871 and parameters: {'n_estimators': 35, 'eta': 0.03545328998850837, 'max_depth': 12, 'subsample': 0.9783584014983294, 'colsample_bytree': 0.9345709982863806, 'lambda': 14.60745965163723}. Best is trial 83 with value: 0.6814516129032258.\n",
      "[I 2023-06-06 17:00:26,597] Trial 143 finished with value: 0.6612903225806451 and parameters: {'n_estimators': 36, 'eta': 0.03637380944147571, 'max_depth': 11, 'subsample': 0.9442170388152187, 'colsample_bytree': 0.8942366564298645, 'lambda': 19.871733998120877}. Best is trial 83 with value: 0.6814516129032258.\n",
      "[I 2023-06-06 17:00:27,739] Trial 144 finished with value: 0.6532258064516129 and parameters: {'n_estimators': 38, 'eta': 0.04228021401736796, 'max_depth': 12, 'subsample': 0.8975651462752736, 'colsample_bytree': 0.9501000373843299, 'lambda': 9.628628055957467}. Best is trial 83 with value: 0.6814516129032258.\n",
      "[I 2023-06-06 17:00:28,884] Trial 145 finished with value: 0.6693548387096774 and parameters: {'n_estimators': 37, 'eta': 0.03168502679438569, 'max_depth': 12, 'subsample': 0.9524976251708097, 'colsample_bytree': 0.9818169857645379, 'lambda': 27.17668587762708}. Best is trial 83 with value: 0.6814516129032258.\n",
      "[I 2023-06-06 17:00:29,893] Trial 146 finished with value: 0.6693548387096774 and parameters: {'n_estimators': 36, 'eta': 0.039912754805491786, 'max_depth': 11, 'subsample': 0.9279556701636786, 'colsample_bytree': 0.9067844722264164, 'lambda': 35.224177367498804}. Best is trial 83 with value: 0.6814516129032258.\n",
      "[I 2023-06-06 17:00:30,839] Trial 147 finished with value: 0.6693548387096774 and parameters: {'n_estimators': 33, 'eta': 0.03440598476316431, 'max_depth': 15, 'subsample': 0.9797819795993907, 'colsample_bytree': 0.7282237386136269, 'lambda': 22.691978812506886}. Best is trial 83 with value: 0.6814516129032258.\n",
      "[I 2023-06-06 17:00:32,177] Trial 148 finished with value: 0.6713709677419355 and parameters: {'n_estimators': 42, 'eta': 0.05633492870514536, 'max_depth': 13, 'subsample': 0.9590456601487193, 'colsample_bytree': 0.9210938463990819, 'lambda': 20.263935624821524}. Best is trial 83 with value: 0.6814516129032258.\n",
      "[I 2023-06-06 17:00:33,135] Trial 149 finished with value: 0.657258064516129 and parameters: {'n_estimators': 40, 'eta': 0.05207374449755682, 'max_depth': 10, 'subsample': 0.9088935585880691, 'colsample_bytree': 0.828667894488562, 'lambda': 11.353804829554576}. Best is trial 83 with value: 0.6814516129032258.\n",
      "[I 2023-06-06 17:00:33,911] Trial 150 finished with value: 0.6592741935483871 and parameters: {'n_estimators': 32, 'eta': 0.04851999890470734, 'max_depth': 11, 'subsample': 0.9308600828346663, 'colsample_bytree': 0.7758646058050228, 'lambda': 38.704053778445314}. Best is trial 83 with value: 0.6814516129032258.\n",
      "[I 2023-06-06 17:00:34,968] Trial 151 finished with value: 0.6633064516129032 and parameters: {'n_estimators': 35, 'eta': 0.04103274654367976, 'max_depth': 12, 'subsample': 0.9748265716534663, 'colsample_bytree': 0.9369878897824981, 'lambda': 31.286814149299023}. Best is trial 83 with value: 0.6814516129032258.\n",
      "[I 2023-06-06 17:00:36,032] Trial 152 finished with value: 0.6653225806451613 and parameters: {'n_estimators': 35, 'eta': 0.03811530491895203, 'max_depth': 12, 'subsample': 0.9659685368330916, 'colsample_bytree': 0.9225038583532477, 'lambda': 28.226680004343045}. Best is trial 83 with value: 0.6814516129032258.\n",
      "[I 2023-06-06 17:00:37,159] Trial 153 finished with value: 0.6612903225806451 and parameters: {'n_estimators': 36, 'eta': 0.04247076858051582, 'max_depth': 12, 'subsample': 0.9909591726843386, 'colsample_bytree': 0.963757830991019, 'lambda': 29.79574886188745}. Best is trial 83 with value: 0.6814516129032258.\n",
      "[I 2023-06-06 17:00:38,134] Trial 154 finished with value: 0.6633064516129032 and parameters: {'n_estimators': 34, 'eta': 0.046655112252903204, 'max_depth': 12, 'subsample': 0.9444474918813013, 'colsample_bytree': 0.8796078342012403, 'lambda': 23.61576902371668}. Best is trial 83 with value: 0.6814516129032258.\n",
      "[I 2023-06-06 17:00:39,121] Trial 155 finished with value: 0.6673387096774194 and parameters: {'n_estimators': 35, 'eta': 0.044770595125971126, 'max_depth': 11, 'subsample': 0.8844951846625448, 'colsample_bytree': 0.934202690638341, 'lambda': 16.05965349754629}. Best is trial 83 with value: 0.6814516129032258.\n",
      "[I 2023-06-06 17:00:40,173] Trial 156 finished with value: 0.6733870967741935 and parameters: {'n_estimators': 37, 'eta': 0.03907555657862854, 'max_depth': 13, 'subsample': 0.9682196009413352, 'colsample_bytree': 0.8090716996626126, 'lambda': 45.32808174203617}. Best is trial 83 with value: 0.6814516129032258.\n",
      "[I 2023-06-06 17:00:41,301] Trial 157 finished with value: 0.6633064516129032 and parameters: {'n_estimators': 38, 'eta': 0.03939475725320237, 'max_depth': 14, 'subsample': 0.9988524270079218, 'colsample_bytree': 0.7871844545604619, 'lambda': 47.76237210686394}. Best is trial 83 with value: 0.6814516129032258.\n",
      "[I 2023-06-06 17:00:42,304] Trial 158 finished with value: 0.6733870967741935 and parameters: {'n_estimators': 37, 'eta': 0.0365335192688489, 'max_depth': 13, 'subsample': 0.9216993385900365, 'colsample_bytree': 0.8100531957907946, 'lambda': 41.821309286384945}. Best is trial 83 with value: 0.6814516129032258.\n",
      "[I 2023-06-06 17:00:43,305] Trial 159 finished with value: 0.6612903225806451 and parameters: {'n_estimators': 37, 'eta': 0.05357434784402093, 'max_depth': 13, 'subsample': 0.8332370246173821, 'colsample_bytree': 0.8174298260698839, 'lambda': 44.70028244273144}. Best is trial 83 with value: 0.6814516129032258.\n",
      "[I 2023-06-06 17:00:44,424] Trial 160 finished with value: 0.6633064516129032 and parameters: {'n_estimators': 39, 'eta': 0.036788997893075256, 'max_depth': 14, 'subsample': 0.9172107245649159, 'colsample_bytree': 0.8097648765229066, 'lambda': 53.322990890400696}. Best is trial 83 with value: 0.6814516129032258.\n",
      "[I 2023-06-06 17:00:45,401] Trial 161 finished with value: 0.6653225806451613 and parameters: {'n_estimators': 37, 'eta': 0.03487213741446243, 'max_depth': 13, 'subsample': 0.9392117086659267, 'colsample_bytree': 0.7486516565904363, 'lambda': 38.77094739992593}. Best is trial 83 with value: 0.6814516129032258.\n"
     ]
    },
    {
     "name": "stderr",
     "output_type": "stream",
     "text": [
      "[I 2023-06-06 17:00:46,425] Trial 162 finished with value: 0.6754032258064516 and parameters: {'n_estimators': 36, 'eta': 0.03340042112215181, 'max_depth': 13, 'subsample': 0.9558971339339801, 'colsample_bytree': 0.8365181651031214, 'lambda': 38.26962169559619}. Best is trial 83 with value: 0.6814516129032258.\n",
      "[I 2023-06-06 17:00:47,525] Trial 163 finished with value: 0.6693548387096774 and parameters: {'n_estimators': 38, 'eta': 0.03218297880732646, 'max_depth': 13, 'subsample': 0.9516152302652671, 'colsample_bytree': 0.8384521174634404, 'lambda': 66.53207047845778}. Best is trial 83 with value: 0.6814516129032258.\n",
      "[I 2023-06-06 17:00:48,587] Trial 164 finished with value: 0.6673387096774194 and parameters: {'n_estimators': 37, 'eta': 0.03885042764710355, 'max_depth': 13, 'subsample': 0.8994292480138919, 'colsample_bytree': 0.8628535869308713, 'lambda': 37.567977046715754}. Best is trial 83 with value: 0.6814516129032258.\n",
      "[I 2023-06-06 17:00:49,762] Trial 165 finished with value: 0.6633064516129032 and parameters: {'n_estimators': 36, 'eta': 0.03308429707344392, 'max_depth': 13, 'subsample': 0.9259129246088272, 'colsample_bytree': 0.8007957137252997, 'lambda': 44.84610322846388}. Best is trial 83 with value: 0.6814516129032258.\n",
      "[I 2023-06-06 17:00:51,039] Trial 166 finished with value: 0.657258064516129 and parameters: {'n_estimators': 44, 'eta': 0.05869277622873136, 'max_depth': 14, 'subsample': 0.8151644700479164, 'colsample_bytree': 0.7691308337189557, 'lambda': 34.4606639376064}. Best is trial 83 with value: 0.6814516129032258.\n",
      "[I 2023-06-06 17:00:52,147] Trial 167 finished with value: 0.6774193548387096 and parameters: {'n_estimators': 39, 'eta': 0.028959789776647673, 'max_depth': 13, 'subsample': 0.9572618346388166, 'colsample_bytree': 0.7203690240771066, 'lambda': 53.796025788593035}. Best is trial 83 with value: 0.6814516129032258.\n",
      "[I 2023-06-06 17:00:53,154] Trial 168 finished with value: 0.6713709677419355 and parameters: {'n_estimators': 39, 'eta': 0.06510776704245923, 'max_depth': 13, 'subsample': 0.869737643816486, 'colsample_bytree': 0.6952407311591311, 'lambda': 59.47838945833839}. Best is trial 83 with value: 0.6814516129032258.\n",
      "[I 2023-06-06 17:00:54,188] Trial 169 finished with value: 0.6653225806451613 and parameters: {'n_estimators': 40, 'eta': 0.027886726395122095, 'max_depth': 13, 'subsample': 0.9247795497452436, 'colsample_bytree': 0.7527255378969694, 'lambda': 49.58803220491261}. Best is trial 83 with value: 0.6814516129032258.\n",
      "[I 2023-06-06 17:00:55,239] Trial 170 finished with value: 0.6733870967741935 and parameters: {'n_estimators': 38, 'eta': 0.08570585374167196, 'max_depth': 14, 'subsample': 0.9648768224393054, 'colsample_bytree': 0.7095978966709637, 'lambda': 41.705851446951}. Best is trial 83 with value: 0.6814516129032258.\n",
      "[I 2023-06-06 17:00:56,288] Trial 171 finished with value: 0.6713709677419355 and parameters: {'n_estimators': 38, 'eta': 0.067055601997097, 'max_depth': 14, 'subsample': 0.9628108685907081, 'colsample_bytree': 0.7162840834648866, 'lambda': 40.86789706901229}. Best is trial 83 with value: 0.6814516129032258.\n",
      "[I 2023-06-06 17:00:57,410] Trial 172 finished with value: 0.6693548387096774 and parameters: {'n_estimators': 38, 'eta': 0.03014133698253501, 'max_depth': 15, 'subsample': 0.9840473742256732, 'colsample_bytree': 0.7366105256592281, 'lambda': 54.590049109494416}. Best is trial 83 with value: 0.6814516129032258.\n",
      "[I 2023-06-06 17:00:58,196] Trial 173 finished with value: 0.655241935483871 and parameters: {'n_estimators': 39, 'eta': 0.07499449696932464, 'max_depth': 13, 'subsample': 0.6269067608197793, 'colsample_bytree': 0.7146800759939397, 'lambda': 34.20857116016969}. Best is trial 83 with value: 0.6814516129032258.\n",
      "[I 2023-06-06 17:00:59,187] Trial 174 finished with value: 0.6673387096774194 and parameters: {'n_estimators': 37, 'eta': 0.08643030862907772, 'max_depth': 14, 'subsample': 0.9479026166072356, 'colsample_bytree': 0.6723875841706967, 'lambda': 43.506133144961005}. Best is trial 83 with value: 0.6814516129032258.\n",
      "[I 2023-06-06 17:01:00,014] Trial 175 finished with value: 0.6713709677419355 and parameters: {'n_estimators': 39, 'eta': 0.09153362243254642, 'max_depth': 9, 'subsample': 0.9098016662174817, 'colsample_bytree': 0.6984040357110791, 'lambda': 72.90738920866202}. Best is trial 83 with value: 0.6814516129032258.\n",
      "[I 2023-06-06 17:01:01,104] Trial 176 finished with value: 0.657258064516129 and parameters: {'n_estimators': 37, 'eta': 0.07096212397796377, 'max_depth': 14, 'subsample': 0.9353037993449519, 'colsample_bytree': 0.7791816139942481, 'lambda': 60.64863558926285}. Best is trial 83 with value: 0.6814516129032258.\n",
      "[I 2023-06-06 17:01:02,136] Trial 177 finished with value: 0.6471774193548387 and parameters: {'n_estimators': 38, 'eta': 0.08359901414452223, 'max_depth': 13, 'subsample': 0.9656441476511197, 'colsample_bytree': 0.730044661918024, 'lambda': 26.85669976028609}. Best is trial 83 with value: 0.6814516129032258.\n",
      "[I 2023-06-06 17:01:03,132] Trial 178 finished with value: 0.6653225806451613 and parameters: {'n_estimators': 36, 'eta': 0.0500408430145095, 'max_depth': 13, 'subsample': 0.9764537225922448, 'colsample_bytree': 0.7586282616110264, 'lambda': 48.31361607174076}. Best is trial 83 with value: 0.6814516129032258.\n",
      "[I 2023-06-06 17:01:04,067] Trial 179 finished with value: 0.6491935483870968 and parameters: {'n_estimators': 40, 'eta': 0.07244981091049402, 'max_depth': 11, 'subsample': 0.7573645933831873, 'colsample_bytree': 0.7882773796270874, 'lambda': 31.606698721078626}. Best is trial 83 with value: 0.6814516129032258.\n",
      "[I 2023-06-06 17:01:05,217] Trial 180 finished with value: 0.6612903225806451 and parameters: {'n_estimators': 37, 'eta': 0.05799364918445437, 'max_depth': 15, 'subsample': 0.8900363678413341, 'colsample_bytree': 0.8442871771874285, 'lambda': 37.94597919632559}. Best is trial 83 with value: 0.6814516129032258.\n",
      "[I 2023-06-06 17:01:06,139] Trial 181 finished with value: 0.6612903225806451 and parameters: {'n_estimators': 36, 'eta': 0.03658191186301588, 'max_depth': 11, 'subsample': 0.9529184698568967, 'colsample_bytree': 0.8170198486674847, 'lambda': 25.105749574276057}. Best is trial 83 with value: 0.6814516129032258.\n",
      "[I 2023-06-06 17:01:07,089] Trial 182 finished with value: 0.657258064516129 and parameters: {'n_estimators': 35, 'eta': 0.08025866273643696, 'max_depth': 11, 'subsample': 0.9387319300345943, 'colsample_bytree': 0.8654845943822966, 'lambda': 42.058103958872856}. Best is trial 83 with value: 0.6814516129032258.\n",
      "[I 2023-06-06 17:01:07,854] Trial 183 finished with value: 0.6693548387096774 and parameters: {'n_estimators': 38, 'eta': 0.04457016616586326, 'max_depth': 11, 'subsample': 0.9523594633091835, 'colsample_bytree': 0.5960064602293005, 'lambda': 35.30263248988478}. Best is trial 83 with value: 0.6814516129032258.\n",
      "[I 2023-06-06 17:01:08,824] Trial 184 finished with value: 0.6612903225806451 and parameters: {'n_estimators': 41, 'eta': 0.041935420865570554, 'max_depth': 10, 'subsample': 0.9988770954146104, 'colsample_bytree': 0.8018852205081027, 'lambda': 30.10309474084928}. Best is trial 83 with value: 0.6814516129032258.\n",
      "[I 2023-06-06 17:01:09,798] Trial 185 finished with value: 0.657258064516129 and parameters: {'n_estimators': 37, 'eta': 0.07568968595838105, 'max_depth': 11, 'subsample': 0.9132877822752905, 'colsample_bytree': 0.8298434062898224, 'lambda': 50.96436835145583}. Best is trial 83 with value: 0.6814516129032258.\n",
      "[I 2023-06-06 17:01:10,914] Trial 186 finished with value: 0.6512096774193549 and parameters: {'n_estimators': 36, 'eta': 0.0980264224845082, 'max_depth': 13, 'subsample': 0.9704757222462032, 'colsample_bytree': 0.8979596746801332, 'lambda': 7.869211808834666}. Best is trial 83 with value: 0.6814516129032258.\n",
      "[I 2023-06-06 17:01:11,651] Trial 187 finished with value: 0.6673387096774194 and parameters: {'n_estimators': 39, 'eta': 0.06279635332934448, 'max_depth': 8, 'subsample': 0.9287163473194248, 'colsample_bytree': 0.7474745024637852, 'lambda': 65.68501205856417}. Best is trial 83 with value: 0.6814516129032258.\n",
      "[I 2023-06-06 17:01:12,471] Trial 188 finished with value: 0.6653225806451613 and parameters: {'n_estimators': 36, 'eta': 0.054776816824427324, 'max_depth': 11, 'subsample': 0.9572712268295928, 'colsample_bytree': 0.7146758746869452, 'lambda': 22.20417166232324}. Best is trial 83 with value: 0.6814516129032258.\n"
     ]
    },
    {
     "name": "stderr",
     "output_type": "stream",
     "text": [
      "[I 2023-06-06 17:01:13,282] Trial 189 finished with value: 0.6633064516129032 and parameters: {'n_estimators': 37, 'eta': 0.03997234811618553, 'max_depth': 11, 'subsample': 0.7334444339636392, 'colsample_bytree': 0.7783747181538888, 'lambda': 81.07876267137152}. Best is trial 83 with value: 0.6814516129032258.\n",
      "[I 2023-06-06 17:01:14,192] Trial 190 finished with value: 0.6612903225806451 and parameters: {'n_estimators': 35, 'eta': 0.04793775821265702, 'max_depth': 10, 'subsample': 0.9832242070053833, 'colsample_bytree': 0.8816823336251786, 'lambda': 5.101277930998872}. Best is trial 83 with value: 0.6814516129032258.\n",
      "[I 2023-06-06 17:01:15,311] Trial 191 finished with value: 0.6612903225806451 and parameters: {'n_estimators': 36, 'eta': 0.03453036545569786, 'max_depth': 12, 'subsample': 0.9751401104236805, 'colsample_bytree': 0.9530123414912363, 'lambda': 18.266304096474336}. Best is trial 83 with value: 0.6814516129032258.\n",
      "[I 2023-06-06 17:01:16,420] Trial 192 finished with value: 0.6653225806451613 and parameters: {'n_estimators': 34, 'eta': 0.03567309667655797, 'max_depth': 14, 'subsample': 0.9396419680776368, 'colsample_bytree': 0.9196654008039178, 'lambda': 27.816962079018115}. Best is trial 83 with value: 0.6814516129032258.\n",
      "[I 2023-06-06 17:01:17,389] Trial 193 finished with value: 0.6774193548387096 and parameters: {'n_estimators': 36, 'eta': 0.03735332427575917, 'max_depth': 11, 'subsample': 0.9650029994100705, 'colsample_bytree': 0.8538521914392432, 'lambda': 41.0715499379902}. Best is trial 83 with value: 0.6814516129032258.\n",
      "[I 2023-06-06 17:01:18,287] Trial 194 finished with value: 0.6693548387096774 and parameters: {'n_estimators': 38, 'eta': 0.03703915946884908, 'max_depth': 11, 'subsample': 0.8067592519083223, 'colsample_bytree': 0.8397163284046959, 'lambda': 35.39531398539347}. Best is trial 83 with value: 0.6814516129032258.\n",
      "[I 2023-06-06 17:01:19,281] Trial 195 finished with value: 0.6693548387096774 and parameters: {'n_estimators': 37, 'eta': 0.03339655218700772, 'max_depth': 11, 'subsample': 0.9620104824787515, 'colsample_bytree': 0.8649816753213404, 'lambda': 41.60667221742004}. Best is trial 83 with value: 0.6814516129032258.\n",
      "[I 2023-06-06 17:01:19,886] Trial 196 finished with value: 0.6612903225806451 and parameters: {'n_estimators': 35, 'eta': 0.03824021301163757, 'max_depth': 11, 'subsample': 0.9166053634133147, 'colsample_bytree': 0.5018132961475257, 'lambda': 54.52770238987616}. Best is trial 83 with value: 0.6814516129032258.\n",
      "[I 2023-06-06 17:01:20,807] Trial 197 finished with value: 0.6713709677419355 and parameters: {'n_estimators': 36, 'eta': 0.06836372303252418, 'max_depth': 11, 'subsample': 0.9410923036979284, 'colsample_bytree': 0.8146050422672343, 'lambda': 45.55296011029956}. Best is trial 83 with value: 0.6814516129032258.\n",
      "[I 2023-06-06 17:01:21,692] Trial 198 finished with value: 0.655241935483871 and parameters: {'n_estimators': 34, 'eta': 0.040954685753287305, 'max_depth': 11, 'subsample': 0.8962814285407327, 'colsample_bytree': 0.8489794298262078, 'lambda': 31.377557237274562}. Best is trial 83 with value: 0.6814516129032258.\n",
      "[I 2023-06-06 17:01:22,495] Trial 199 finished with value: 0.6633064516129032 and parameters: {'n_estimators': 39, 'eta': 0.04403001617460071, 'max_depth': 13, 'subsample': 0.7065156019780876, 'colsample_bytree': 0.6820302830333539, 'lambda': 36.49706844425781}. Best is trial 83 with value: 0.6814516129032258.\n",
      "[I 2023-06-06 17:01:23,467] Trial 200 finished with value: 0.6532258064516129 and parameters: {'n_estimators': 38, 'eta': 0.07764884183205602, 'max_depth': 11, 'subsample': 0.77971534908419, 'colsample_bytree': 0.8951073372651283, 'lambda': 25.89667384672915}. Best is trial 83 with value: 0.6814516129032258.\n",
      "[I 2023-06-06 17:01:24,539] Trial 201 finished with value: 0.6693548387096774 and parameters: {'n_estimators': 36, 'eta': 0.03794965237967563, 'max_depth': 12, 'subsample': 0.9838976123014511, 'colsample_bytree': 0.9166958570811483, 'lambda': 40.50956050047599}. Best is trial 83 with value: 0.6814516129032258.\n",
      "[I 2023-06-06 17:01:25,472] Trial 202 finished with value: 0.6693548387096774 and parameters: {'n_estimators': 36, 'eta': 0.030750019807229093, 'max_depth': 12, 'subsample': 0.9606522873791249, 'colsample_bytree': 0.7614190691610112, 'lambda': 20.58941177893902}. Best is trial 83 with value: 0.6814516129032258.\n",
      "[I 2023-06-06 17:01:26,492] Trial 203 finished with value: 0.6612903225806451 and parameters: {'n_estimators': 35, 'eta': 0.028716585661943298, 'max_depth': 11, 'subsample': 0.9848703145161622, 'colsample_bytree': 0.9741594478251799, 'lambda': 48.35547218303017}. Best is trial 83 with value: 0.6814516129032258.\n",
      "[I 2023-06-06 17:01:27,632] Trial 204 finished with value: 0.6633064516129032 and parameters: {'n_estimators': 37, 'eta': 0.03208345977389093, 'max_depth': 13, 'subsample': 0.9510721931147198, 'colsample_bytree': 0.7985015341209816, 'lambda': 32.540419218209955}. Best is trial 83 with value: 0.6814516129032258.\n",
      "[I 2023-06-06 17:01:28,551] Trial 205 finished with value: 0.6633064516129032 and parameters: {'n_estimators': 36, 'eta': 0.03476332113807731, 'max_depth': 12, 'subsample': 0.9250231375161356, 'colsample_bytree': 0.7312296211556936, 'lambda': 12.875914187144113}. Best is trial 83 with value: 0.6814516129032258.\n",
      "[I 2023-06-06 17:01:29,660] Trial 206 finished with value: 0.6673387096774194 and parameters: {'n_estimators': 35, 'eta': 0.06012438521370531, 'max_depth': 11, 'subsample': 0.9997570886417091, 'colsample_bytree': 0.9461870769934555, 'lambda': 58.353867321317004}. Best is trial 83 with value: 0.6814516129032258.\n",
      "[I 2023-06-06 17:01:30,653] Trial 207 finished with value: 0.6673387096774194 and parameters: {'n_estimators': 37, 'eta': 0.026118219989811724, 'max_depth': 10, 'subsample': 0.9713951410775657, 'colsample_bytree': 0.8781571135961066, 'lambda': 28.022468617094937}. Best is trial 83 with value: 0.6814516129032258.\n",
      "[I 2023-06-06 17:01:31,616] Trial 208 finished with value: 0.6653225806451613 and parameters: {'n_estimators': 38, 'eta': 0.05166426275202108, 'max_depth': 9, 'subsample': 0.9417566732965552, 'colsample_bytree': 0.9044627688813331, 'lambda': 23.045466339876096}. Best is trial 83 with value: 0.6814516129032258.\n",
      "[I 2023-06-06 17:01:32,662] Trial 209 finished with value: 0.6733870967741935 and parameters: {'n_estimators': 35, 'eta': 0.07105248447095565, 'max_depth': 13, 'subsample': 0.9684293226224835, 'colsample_bytree': 0.8295441580287312, 'lambda': 39.1235279613635}. Best is trial 83 with value: 0.6814516129032258.\n",
      "[I 2023-06-06 17:01:33,700] Trial 210 finished with value: 0.6532258064516129 and parameters: {'n_estimators': 35, 'eta': 0.07360871758652762, 'max_depth': 13, 'subsample': 0.9318482873464837, 'colsample_bytree': 0.8269554039367379, 'lambda': 39.47964884630557}. Best is trial 83 with value: 0.6814516129032258.\n",
      "[I 2023-06-06 17:01:34,772] Trial 211 finished with value: 0.6653225806451613 and parameters: {'n_estimators': 36, 'eta': 0.06827549009125004, 'max_depth': 13, 'subsample': 0.9714156316067997, 'colsample_bytree': 0.8455216782169782, 'lambda': 32.68204127463166}. Best is trial 83 with value: 0.6814516129032258.\n",
      "[I 2023-06-06 17:01:35,820] Trial 212 finished with value: 0.6673387096774194 and parameters: {'n_estimators': 36, 'eta': 0.07096559041774664, 'max_depth': 13, 'subsample': 0.9565440646374537, 'colsample_bytree': 0.7870568865349111, 'lambda': 46.42171057031484}. Best is trial 83 with value: 0.6814516129032258.\n",
      "[I 2023-06-06 17:01:36,827] Trial 213 finished with value: 0.6693548387096774 and parameters: {'n_estimators': 37, 'eta': 0.06501671846144717, 'max_depth': 11, 'subsample': 0.9710983955786154, 'colsample_bytree': 0.8547837133476015, 'lambda': 37.224643476710824}. Best is trial 83 with value: 0.6814516129032258.\n",
      "[I 2023-06-06 17:01:37,693] Trial 214 finished with value: 0.655241935483871 and parameters: {'n_estimators': 31, 'eta': 0.08251446037322238, 'max_depth': 12, 'subsample': 0.9539347041354469, 'colsample_bytree': 0.8045174506235427, 'lambda': 52.13310864477121}. Best is trial 83 with value: 0.6814516129032258.\n",
      "[I 2023-06-06 17:01:38,547] Trial 215 finished with value: 0.6612903225806451 and parameters: {'n_estimators': 34, 'eta': 0.05596802259455376, 'max_depth': 11, 'subsample': 0.907806567919023, 'colsample_bytree': 0.8281278586734815, 'lambda': 28.797059264637078}. Best is trial 83 with value: 0.6814516129032258.\n"
     ]
    },
    {
     "name": "stderr",
     "output_type": "stream",
     "text": [
      "[I 2023-06-06 17:01:39,680] Trial 216 finished with value: 0.6491935483870968 and parameters: {'n_estimators': 35, 'eta': 0.03610348251732031, 'max_depth': 13, 'subsample': 0.9827981760710756, 'colsample_bytree': 0.9293783464105788, 'lambda': 15.251490850036001}. Best is trial 83 with value: 0.6814516129032258.\n",
      "[I 2023-06-06 17:01:40,585] Trial 217 finished with value: 0.6653225806451613 and parameters: {'n_estimators': 37, 'eta': 0.039546212326984936, 'max_depth': 14, 'subsample': 0.8395605687790428, 'colsample_bytree': 0.7029254738259766, 'lambda': 42.606671511016394}. Best is trial 83 with value: 0.6814516129032258.\n",
      "[I 2023-06-06 17:01:41,640] Trial 218 finished with value: 0.655241935483871 and parameters: {'n_estimators': 40, 'eta': 0.07840837921981837, 'max_depth': 13, 'subsample': 0.8585688639852693, 'colsample_bytree': 0.764215545320065, 'lambda': 24.656317234764504}. Best is trial 83 with value: 0.6814516129032258.\n",
      "[I 2023-06-06 17:01:42,455] Trial 219 finished with value: 0.6612903225806451 and parameters: {'n_estimators': 36, 'eta': 0.04198771223789104, 'max_depth': 11, 'subsample': 0.9290503857310056, 'colsample_bytree': 0.7327149391437615, 'lambda': 34.443413831546565}. Best is trial 83 with value: 0.6814516129032258.\n",
      "[I 2023-06-06 17:01:42,995] Trial 220 finished with value: 0.6653225806451613 and parameters: {'n_estimators': 25, 'eta': 0.046776075371802374, 'max_depth': 12, 'subsample': 0.5197440461644102, 'colsample_bytree': 0.8836690734059115, 'lambda': 47.41932666778214}. Best is trial 83 with value: 0.6814516129032258.\n",
      "[I 2023-06-06 17:01:44,084] Trial 221 finished with value: 0.6633064516129032 and parameters: {'n_estimators': 35, 'eta': 0.03925693169310593, 'max_depth': 12, 'subsample': 0.9639732555760081, 'colsample_bytree': 0.946563550959736, 'lambda': 28.99060215192743}. Best is trial 83 with value: 0.6814516129032258.\n",
      "[I 2023-06-06 17:01:45,100] Trial 222 finished with value: 0.6673387096774194 and parameters: {'n_estimators': 34, 'eta': 0.04214204159373333, 'max_depth': 12, 'subsample': 0.9441871050808984, 'colsample_bytree': 0.9309823392347942, 'lambda': 31.61337834712641}. Best is trial 83 with value: 0.6814516129032258.\n",
      "[I 2023-06-06 17:01:46,199] Trial 223 finished with value: 0.6653225806451613 and parameters: {'n_estimators': 35, 'eta': 0.08818032574600232, 'max_depth': 12, 'subsample': 0.9883161881617761, 'colsample_bytree': 0.9124016568155335, 'lambda': 39.379814223314575}. Best is trial 83 with value: 0.6814516129032258.\n",
      "[I 2023-06-06 17:01:47,227] Trial 224 finished with value: 0.6653225806451613 and parameters: {'n_estimators': 35, 'eta': 0.03301725176805627, 'max_depth': 11, 'subsample': 0.9681813663275828, 'colsample_bytree': 0.964703078517706, 'lambda': 19.434846934824662}. Best is trial 83 with value: 0.6814516129032258.\n",
      "[I 2023-06-06 17:01:48,419] Trial 225 finished with value: 0.6633064516129032 and parameters: {'n_estimators': 36, 'eta': 0.04517891578466653, 'max_depth': 13, 'subsample': 0.9511613888756096, 'colsample_bytree': 0.8682514060022954, 'lambda': 56.555082866971475}. Best is trial 83 with value: 0.6814516129032258.\n",
      "[I 2023-06-06 17:01:49,556] Trial 226 finished with value: 0.6713709677419355 and parameters: {'n_estimators': 39, 'eta': 0.0491183307160215, 'max_depth': 12, 'subsample': 0.9256546564144684, 'colsample_bytree': 0.8958625231386228, 'lambda': 35.61474231255774}. Best is trial 83 with value: 0.6814516129032258.\n",
      "[I 2023-06-06 17:01:50,353] Trial 227 finished with value: 0.6713709677419355 and parameters: {'n_estimators': 36, 'eta': 0.07278016972334686, 'max_depth': 11, 'subsample': 0.9996497086383308, 'colsample_bytree': 0.6515994751478493, 'lambda': 24.61927629159397}. Best is trial 83 with value: 0.6814516129032258.\n",
      "[I 2023-06-06 17:01:51,419] Trial 228 finished with value: 0.6693548387096774 and parameters: {'n_estimators': 33, 'eta': 0.05416294863535455, 'max_depth': 11, 'subsample': 0.8794499380587275, 'colsample_bytree': 0.8193957829128626, 'lambda': 29.119248362556498}. Best is trial 83 with value: 0.6814516129032258.\n",
      "[I 2023-06-06 17:01:52,141] Trial 229 finished with value: 0.6612903225806451 and parameters: {'n_estimators': 38, 'eta': 0.03714732141894496, 'max_depth': 8, 'subsample': 0.766487399345972, 'colsample_bytree': 0.7436019996120083, 'lambda': 16.994991287243028}. Best is trial 83 with value: 0.6814516129032258.\n",
      "[I 2023-06-06 17:01:53,437] Trial 230 finished with value: 0.6653225806451613 and parameters: {'n_estimators': 37, 'eta': 0.043626526575176364, 'max_depth': 13, 'subsample': 0.9708036160064117, 'colsample_bytree': 0.9317970768185251, 'lambda': 44.05088783739718}. Best is trial 83 with value: 0.6814516129032258.\n",
      "[I 2023-06-06 17:01:54,454] Trial 231 finished with value: 0.6693548387096774 and parameters: {'n_estimators': 36, 'eta': 0.03599061868527978, 'max_depth': 10, 'subsample': 0.9569785444368005, 'colsample_bytree': 0.9127679186005755, 'lambda': 33.40302279113996}. Best is trial 83 with value: 0.6814516129032258.\n",
      "[I 2023-06-06 17:01:55,651] Trial 232 finished with value: 0.6693548387096774 and parameters: {'n_estimators': 43, 'eta': 0.04088323693730118, 'max_depth': 10, 'subsample': 0.9440749671874522, 'colsample_bytree': 0.9519257485639718, 'lambda': 38.167433658183825}. Best is trial 83 with value: 0.6814516129032258.\n",
      "[I 2023-06-06 17:01:56,601] Trial 233 finished with value: 0.6391129032258065 and parameters: {'n_estimators': 35, 'eta': 0.08213446472456688, 'max_depth': 10, 'subsample': 0.9775494398609821, 'colsample_bytree': 0.945266397486882, 'lambda': 0.41351773880934295}. Best is trial 83 with value: 0.6814516129032258.\n",
      "[I 2023-06-06 17:01:57,497] Trial 234 finished with value: 0.6673387096774194 and parameters: {'n_estimators': 36, 'eta': 0.03534616181467105, 'max_depth': 9, 'subsample': 0.7941111984544921, 'colsample_bytree': 0.9640784790346624, 'lambda': 31.169524222174772}. Best is trial 83 with value: 0.6814516129032258.\n",
      "[I 2023-06-06 17:01:58,431] Trial 235 finished with value: 0.6633064516129032 and parameters: {'n_estimators': 37, 'eta': 0.0378926105446358, 'max_depth': 9, 'subsample': 0.964480623416022, 'colsample_bytree': 0.9853593243668121, 'lambda': 26.895636394573998}. Best is trial 83 with value: 0.6814516129032258.\n",
      "[I 2023-06-06 17:01:59,493] Trial 236 finished with value: 0.6532258064516129 and parameters: {'n_estimators': 36, 'eta': 0.07671021465739955, 'max_depth': 10, 'subsample': 0.9376623084449013, 'colsample_bytree': 0.9320028431280549, 'lambda': 14.058050327126358}. Best is trial 83 with value: 0.6814516129032258.\n",
      "[I 2023-06-06 17:01:59,797] Trial 237 finished with value: 0.655241935483871 and parameters: {'n_estimators': 39, 'eta': 0.06145264885598734, 'max_depth': 11, 'subsample': 0.903276253109427, 'colsample_bytree': 0.10624260173918432, 'lambda': 23.17700152091807}. Best is trial 83 with value: 0.6814516129032258.\n",
      "[I 2023-06-06 17:02:00,642] Trial 238 finished with value: 0.6693548387096774 and parameters: {'n_estimators': 35, 'eta': 0.034037721533637086, 'max_depth': 11, 'subsample': 0.9202681457994972, 'colsample_bytree': 0.783838128514538, 'lambda': 42.803866319472846}. Best is trial 83 with value: 0.6814516129032258.\n",
      "[I 2023-06-06 17:02:01,260] Trial 239 finished with value: 0.6612903225806451 and parameters: {'n_estimators': 29, 'eta': 0.051939169483430324, 'max_depth': 10, 'subsample': 0.6613577805225314, 'colsample_bytree': 0.8410645699784796, 'lambda': 12.011871128869235}. Best is trial 83 with value: 0.6814516129032258.\n",
      "[I 2023-06-06 17:02:02,175] Trial 240 finished with value: 0.6592741935483871 and parameters: {'n_estimators': 38, 'eta': 0.057418004675083685, 'max_depth': 11, 'subsample': 0.986494817599805, 'colsample_bytree': 0.7186857717298998, 'lambda': 51.39567117503026}. Best is trial 83 with value: 0.6814516129032258.\n",
      "[I 2023-06-06 17:02:03,206] Trial 241 finished with value: 0.6633064516129032 and parameters: {'n_estimators': 37, 'eta': 0.047360938610403226, 'max_depth': 11, 'subsample': 0.9526576751621947, 'colsample_bytree': 0.89905279728252, 'lambda': 20.070105244743}. Best is trial 83 with value: 0.6814516129032258.\n",
      "[I 2023-06-06 17:02:03,835] Trial 242 finished with value: 0.6693548387096774 and parameters: {'n_estimators': 37, 'eta': 0.049682868819410614, 'max_depth': 6, 'subsample': 0.9237787323712159, 'colsample_bytree': 0.893533922485249, 'lambda': 23.226078966256523}. Best is trial 83 with value: 0.6814516129032258.\n"
     ]
    },
    {
     "name": "stderr",
     "output_type": "stream",
     "text": [
      "[I 2023-06-06 17:02:04,623] Trial 243 finished with value: 0.6612903225806451 and parameters: {'n_estimators': 30, 'eta': 0.029675336321650248, 'max_depth': 11, 'subsample': 0.9114972336872119, 'colsample_bytree': 0.8632349759493053, 'lambda': 33.329912643770655}. Best is trial 83 with value: 0.6814516129032258.\n",
      "[I 2023-06-06 17:02:05,816] Trial 244 finished with value: 0.6673387096774194 and parameters: {'n_estimators': 42, 'eta': 0.03876285567781716, 'max_depth': 11, 'subsample': 0.9391405072747693, 'colsample_bytree': 0.9174910164936794, 'lambda': 17.956578334583206}. Best is trial 83 with value: 0.6814516129032258.\n",
      "[I 2023-06-06 17:02:06,721] Trial 245 finished with value: 0.6693548387096774 and parameters: {'n_estimators': 36, 'eta': 0.04245483353699733, 'max_depth': 11, 'subsample': 0.8280905262865487, 'colsample_bytree': 0.8815673719950261, 'lambda': 21.468160467660194}. Best is trial 83 with value: 0.6814516129032258.\n",
      "[I 2023-06-06 17:02:07,749] Trial 246 finished with value: 0.6673387096774194 and parameters: {'n_estimators': 37, 'eta': 0.046114512738434844, 'max_depth': 12, 'subsample': 0.9691599682814701, 'colsample_bytree': 0.8104066829543665, 'lambda': 27.235989330318834}. Best is trial 83 with value: 0.6814516129032258.\n",
      "[I 2023-06-06 17:02:08,511] Trial 247 finished with value: 0.6633064516129032 and parameters: {'n_estimators': 26, 'eta': 0.06618441231970573, 'max_depth': 14, 'subsample': 0.7209988754263079, 'colsample_bytree': 0.9452126101528158, 'lambda': 63.92932979206439}. Best is trial 83 with value: 0.6814516129032258.\n",
      "[I 2023-06-06 17:02:09,580] Trial 248 finished with value: 0.6633064516129032 and parameters: {'n_estimators': 38, 'eta': 0.0701921708447174, 'max_depth': 13, 'subsample': 0.9578873918134612, 'colsample_bytree': 0.762582994435218, 'lambda': 37.866099359080835}. Best is trial 83 with value: 0.6814516129032258.\n",
      "[I 2023-06-06 17:02:10,335] Trial 249 finished with value: 0.6612903225806451 and parameters: {'n_estimators': 35, 'eta': 0.0404360453798292, 'max_depth': 11, 'subsample': 0.9378961018324583, 'colsample_bytree': 0.6916637910819842, 'lambda': 47.56323561427143}. Best is trial 83 with value: 0.6814516129032258.\n",
      "[I 2023-06-06 17:02:11,355] Trial 250 finished with value: 0.6512096774193549 and parameters: {'n_estimators': 36, 'eta': 0.09152776140390205, 'max_depth': 11, 'subsample': 0.88381885989406, 'colsample_bytree': 0.9101751211432391, 'lambda': 31.57584269175852}. Best is trial 83 with value: 0.6814516129032258.\n",
      "[I 2023-06-06 17:02:11,750] Trial 251 finished with value: 0.6612903225806451 and parameters: {'n_estimators': 34, 'eta': 0.053485583127729774, 'max_depth': 12, 'subsample': 0.2241845524737182, 'colsample_bytree': 0.8573063173855696, 'lambda': 41.06548967394617}. Best is trial 83 with value: 0.6814516129032258.\n",
      "[I 2023-06-06 17:02:12,947] Trial 252 finished with value: 0.6633064516129032 and parameters: {'n_estimators': 37, 'eta': 0.04803229723898019, 'max_depth': 15, 'subsample': 0.9822122189343263, 'colsample_bytree': 0.8307795775761818, 'lambda': 25.83121334903816}. Best is trial 83 with value: 0.6814516129032258.\n",
      "[I 2023-06-06 17:02:13,919] Trial 253 finished with value: 0.6673387096774194 and parameters: {'n_estimators': 36, 'eta': 0.03194493728064943, 'max_depth': 10, 'subsample': 0.9055693857534602, 'colsample_bytree': 0.9740738048978789, 'lambda': 16.54854674738469}. Best is trial 83 with value: 0.6814516129032258.\n",
      "[I 2023-06-06 17:02:14,535] Trial 254 finished with value: 0.6612903225806451 and parameters: {'n_estimators': 38, 'eta': 0.035839076780998985, 'max_depth': 13, 'subsample': 0.9590545711281399, 'colsample_bytree': 0.4022127420454671, 'lambda': 36.409066331269436}. Best is trial 83 with value: 0.6814516129032258.\n",
      "[I 2023-06-06 17:02:14,856] Trial 255 finished with value: 0.6612903225806451 and parameters: {'n_estimators': 40, 'eta': 0.043480516627436544, 'max_depth': 12, 'subsample': 0.14862103695200618, 'colsample_bytree': 0.7454769506309166, 'lambda': 71.68598798541781}. Best is trial 83 with value: 0.6814516129032258.\n",
      "[I 2023-06-06 17:02:15,638] Trial 256 finished with value: 0.6592741935483871 and parameters: {'n_estimators': 39, 'eta': 0.010128007293395334, 'max_depth': 8, 'subsample': 0.8153089036353106, 'colsample_bytree': 0.9273843071008132, 'lambda': 56.89380134791007}. Best is trial 83 with value: 0.6814516129032258.\n",
      "[I 2023-06-06 17:02:16,589] Trial 257 finished with value: 0.6612903225806451 and parameters: {'n_estimators': 35, 'eta': 0.08015223060769033, 'max_depth': 11, 'subsample': 0.9276294432125439, 'colsample_bytree': 0.8808653158408116, 'lambda': 21.69397521185175}. Best is trial 83 with value: 0.6814516129032258.\n",
      "[I 2023-06-06 17:02:17,483] Trial 258 finished with value: 0.6673387096774194 and parameters: {'n_estimators': 36, 'eta': 0.05006523248289434, 'max_depth': 11, 'subsample': 0.9476689272212119, 'colsample_bytree': 0.7808632182022777, 'lambda': 29.02910194513789}. Best is trial 83 with value: 0.6814516129032258.\n",
      "[I 2023-06-06 17:02:18,281] Trial 259 finished with value: 0.657258064516129 and parameters: {'n_estimators': 49, 'eta': 0.06346775937576028, 'max_depth': 13, 'subsample': 0.3707362849946929, 'colsample_bytree': 0.8036796152425467, 'lambda': 45.465952094310914}. Best is trial 83 with value: 0.6814516129032258.\n",
      "[I 2023-06-06 17:02:19,264] Trial 260 finished with value: 0.6612903225806451 and parameters: {'n_estimators': 37, 'eta': 0.037683686716113385, 'max_depth': 11, 'subsample': 0.7591890444020251, 'colsample_bytree': 0.9587929437096415, 'lambda': 35.93188757180288}. Best is trial 83 with value: 0.6814516129032258.\n",
      "[I 2023-06-06 17:02:20,145] Trial 261 finished with value: 0.6612903225806451 and parameters: {'n_estimators': 35, 'eta': 0.04554303219191423, 'max_depth': 12, 'subsample': 0.9998007917760773, 'colsample_bytree': 0.7163908808982893, 'lambda': 14.151164693520188}. Best is trial 83 with value: 0.6814516129032258.\n",
      "[I 2023-06-06 17:02:20,919] Trial 262 finished with value: 0.6653225806451613 and parameters: {'n_estimators': 32, 'eta': 0.03325646274702257, 'max_depth': 10, 'subsample': 0.9689869379599231, 'colsample_bytree': 0.8474329294997641, 'lambda': 89.71550003013989}. Best is trial 83 with value: 0.6814516129032258.\n",
      "[I 2023-06-06 17:02:21,667] Trial 263 finished with value: 0.6532258064516129 and parameters: {'n_estimators': 27, 'eta': 0.05930257907426162, 'max_depth': 11, 'subsample': 0.852075419899236, 'colsample_bytree': 0.9401614953756616, 'lambda': 52.72318166075397}. Best is trial 83 with value: 0.6814516129032258.\n",
      "[I 2023-06-06 17:02:22,756] Trial 264 finished with value: 0.6612903225806451 and parameters: {'n_estimators': 37, 'eta': 0.039858693294513865, 'max_depth': 13, 'subsample': 0.917311629558922, 'colsample_bytree': 0.8908932751460344, 'lambda': 19.152650381839656}. Best is trial 83 with value: 0.6814516129032258.\n",
      "[I 2023-06-06 17:02:23,900] Trial 265 finished with value: 0.6693548387096774 and parameters: {'n_estimators': 38, 'eta': 0.07549361978954089, 'max_depth': 14, 'subsample': 0.9792153619820922, 'colsample_bytree': 0.7682088593028458, 'lambda': 31.703723594184574}. Best is trial 83 with value: 0.6814516129032258.\n",
      "[I 2023-06-06 17:02:24,962] Trial 266 finished with value: 0.657258064516129 and parameters: {'n_estimators': 41, 'eta': 0.05683650413619359, 'max_depth': 11, 'subsample': 0.947295759353149, 'colsample_bytree': 0.8173455082598767, 'lambda': 25.465497644595747}. Best is trial 83 with value: 0.6814516129032258.\n",
      "[I 2023-06-06 17:02:25,702] Trial 267 finished with value: 0.6693548387096774 and parameters: {'n_estimators': 36, 'eta': 0.03420134537105412, 'max_depth': 12, 'subsample': 0.8923696488891435, 'colsample_bytree': 0.5953112434755894, 'lambda': 41.7486782842854}. Best is trial 83 with value: 0.6814516129032258.\n",
      "[I 2023-06-06 17:02:26,344] Trial 268 finished with value: 0.6653225806451613 and parameters: {'n_estimators': 36, 'eta': 0.051761371812511475, 'max_depth': 7, 'subsample': 0.7997293826562916, 'colsample_bytree': 0.9110574059470556, 'lambda': 29.807837860584534}. Best is trial 83 with value: 0.6814516129032258.\n",
      "[I 2023-06-06 17:02:26,892] Trial 269 finished with value: 0.6612903225806451 and parameters: {'n_estimators': 35, 'eta': 0.0422710493653977, 'max_depth': 11, 'subsample': 0.6781760170148308, 'colsample_bytree': 0.520179799843631, 'lambda': 5.304112240262773}. Best is trial 83 with value: 0.6814516129032258.\n"
     ]
    },
    {
     "name": "stderr",
     "output_type": "stream",
     "text": [
      "[I 2023-06-06 17:02:27,720] Trial 270 finished with value: 0.6612903225806451 and parameters: {'n_estimators': 34, 'eta': 0.03627273945515249, 'max_depth': 12, 'subsample': 0.7488859352584047, 'colsample_bytree': 0.8327338669118494, 'lambda': 9.869878890471963}. Best is trial 83 with value: 0.6814516129032258.\n",
      "[I 2023-06-06 17:02:28,524] Trial 271 finished with value: 0.6693548387096774 and parameters: {'n_estimators': 37, 'eta': 0.030943717859026568, 'max_depth': 10, 'subsample': 0.9618622766393544, 'colsample_bytree': 0.7370863495818278, 'lambda': 35.088516627317226}. Best is trial 83 with value: 0.6814516129032258.\n",
      "[I 2023-06-06 17:02:29,405] Trial 272 finished with value: 0.6633064516129032 and parameters: {'n_estimators': 39, 'eta': 0.054367306814788144, 'max_depth': 9, 'subsample': 0.931412890460846, 'colsample_bytree': 0.7888151415890465, 'lambda': 50.04348545879225}. Best is trial 83 with value: 0.6814516129032258.\n",
      "[I 2023-06-06 17:02:30,172] Trial 273 finished with value: 0.6633064516129032 and parameters: {'n_estimators': 28, 'eta': 0.07284333698351299, 'max_depth': 11, 'subsample': 0.9792414227700741, 'colsample_bytree': 0.8670808791455659, 'lambda': 40.93446481236952}. Best is trial 83 with value: 0.6814516129032258.\n",
      "[I 2023-06-06 17:02:31,098] Trial 274 finished with value: 0.6693548387096774 and parameters: {'n_estimators': 36, 'eta': 0.04442089091108714, 'max_depth': 13, 'subsample': 0.6113774946166954, 'colsample_bytree': 0.9867089839865443, 'lambda': 8.557158413651456}. Best is trial 83 with value: 0.6814516129032258.\n",
      "[I 2023-06-06 17:02:32,162] Trial 275 finished with value: 0.6633064516129032 and parameters: {'n_estimators': 38, 'eta': 0.0405754656524032, 'max_depth': 11, 'subsample': 0.9438063655435411, 'colsample_bytree': 0.9239173512828918, 'lambda': 21.673725922460445}. Best is trial 83 with value: 0.6814516129032258.\n",
      "[I 2023-06-06 17:02:33,613] Trial 276 finished with value: 0.6653225806451613 and parameters: {'n_estimators': 45, 'eta': 0.04820385615369607, 'max_depth': 13, 'subsample': 0.9636575323465562, 'colsample_bytree': 0.9413980781303898, 'lambda': 11.13969150053622}. Best is trial 83 with value: 0.6814516129032258.\n",
      "[I 2023-06-06 17:02:34,436] Trial 277 finished with value: 0.6491935483870968 and parameters: {'n_estimators': 37, 'eta': 0.06870613593671977, 'max_depth': 11, 'subsample': 0.9137489840950486, 'colsample_bytree': 0.6995423992510086, 'lambda': 15.763307647178369}. Best is trial 83 with value: 0.6814516129032258.\n",
      "[I 2023-06-06 17:02:35,402] Trial 278 finished with value: 0.6653225806451613 and parameters: {'n_estimators': 36, 'eta': 0.0381436805596721, 'max_depth': 10, 'subsample': 0.9386470120396393, 'colsample_bytree': 0.9593178150793076, 'lambda': 24.84306371332765}. Best is trial 83 with value: 0.6814516129032258.\n",
      "[I 2023-06-06 17:02:36,168] Trial 279 finished with value: 0.6693548387096774 and parameters: {'n_estimators': 35, 'eta': 0.08330133215694145, 'max_depth': 12, 'subsample': 0.8718060882296216, 'colsample_bytree': 0.6398744938108085, 'lambda': 45.80811779348927}. Best is trial 83 with value: 0.6814516129032258.\n",
      "[I 2023-06-06 17:02:36,924] Trial 280 finished with value: 0.655241935483871 and parameters: {'n_estimators': 38, 'eta': 0.08780077657847359, 'max_depth': 11, 'subsample': 0.7395906572490164, 'colsample_bytree': 0.6759336752808927, 'lambda': 58.112203052130944}. Best is trial 83 with value: 0.6814516129032258.\n",
      "[I 2023-06-06 17:02:37,976] Trial 281 finished with value: 0.6653225806451613 and parameters: {'n_estimators': 37, 'eta': 0.04630731398312567, 'max_depth': 11, 'subsample': 0.9834240876218401, 'colsample_bytree': 0.9039435565588545, 'lambda': 29.087492316076965}. Best is trial 83 with value: 0.6814516129032258.\n",
      "[I 2023-06-06 17:02:38,971] Trial 282 finished with value: 0.6612903225806451 and parameters: {'n_estimators': 36, 'eta': 0.0350271568800798, 'max_depth': 14, 'subsample': 0.9561147527023116, 'colsample_bytree': 0.7517550640306455, 'lambda': 34.761384179012005}. Best is trial 83 with value: 0.6814516129032258.\n",
      "[I 2023-06-06 17:02:39,777] Trial 283 finished with value: 0.6713709677419355 and parameters: {'n_estimators': 34, 'eta': 0.02155972288034898, 'max_depth': 12, 'subsample': 0.7747576278785615, 'colsample_bytree': 0.7946316823805321, 'lambda': 19.366685176549716}. Best is trial 83 with value: 0.6814516129032258.\n",
      "[I 2023-06-06 17:02:40,855] Trial 284 finished with value: 0.6713709677419355 and parameters: {'n_estimators': 35, 'eta': 0.07757526542013114, 'max_depth': 13, 'subsample': 0.9999276857418038, 'colsample_bytree': 0.852941672846991, 'lambda': 38.267292978164186}. Best is trial 83 with value: 0.6814516129032258.\n",
      "[I 2023-06-06 17:02:41,539] Trial 285 finished with value: 0.6673387096774194 and parameters: {'n_estimators': 25, 'eta': 0.09854256810967212, 'max_depth': 11, 'subsample': 0.8996991389914801, 'colsample_bytree': 0.8691006165633739, 'lambda': 26.101417235391263}. Best is trial 83 with value: 0.6814516129032258.\n",
      "[I 2023-06-06 17:02:42,063] Trial 286 finished with value: 0.6612903225806451 and parameters: {'n_estimators': 37, 'eta': 0.06265292142676777, 'max_depth': 12, 'subsample': 0.9321487799049688, 'colsample_bytree': 0.3346529775289452, 'lambda': 66.11538166029399}. Best is trial 83 with value: 0.6814516129032258.\n",
      "[I 2023-06-06 17:02:43,027] Trial 287 finished with value: 0.657258064516129 and parameters: {'n_estimators': 40, 'eta': 0.051394277305054296, 'max_depth': 10, 'subsample': 0.7071997279964186, 'colsample_bytree': 0.9991086850879233, 'lambda': 44.6317113024388}. Best is trial 83 with value: 0.6814516129032258.\n",
      "[I 2023-06-06 17:02:43,922] Trial 288 finished with value: 0.6653225806451613 and parameters: {'n_estimators': 39, 'eta': 0.03723140072807455, 'max_depth': 11, 'subsample': 0.9682701267910314, 'colsample_bytree': 0.7246148242145118, 'lambda': 136.646062319423}. Best is trial 83 with value: 0.6814516129032258.\n",
      "[I 2023-06-06 17:02:44,788] Trial 289 finished with value: 0.6612903225806451 and parameters: {'n_estimators': 35, 'eta': 0.04166529355323962, 'max_depth': 11, 'subsample': 0.9240334901083257, 'colsample_bytree': 0.8156786497435171, 'lambda': 13.158661040709072}. Best is trial 83 with value: 0.6814516129032258.\n",
      "[I 2023-06-06 17:02:45,990] Trial 290 finished with value: 0.6633064516129032 and parameters: {'n_estimators': 39, 'eta': 0.03890542250766913, 'max_depth': 13, 'subsample': 0.9501476789234622, 'colsample_bytree': 0.8885845692521143, 'lambda': 32.20184152438998}. Best is trial 83 with value: 0.6814516129032258.\n",
      "[I 2023-06-06 17:02:46,758] Trial 291 finished with value: 0.6633064516129032 and parameters: {'n_estimators': 31, 'eta': 0.05921211690557449, 'max_depth': 9, 'subsample': 0.982956373294422, 'colsample_bytree': 0.9301252179532791, 'lambda': 51.2775314090765}. Best is trial 83 with value: 0.6814516129032258.\n",
      "[I 2023-06-06 17:02:47,355] Trial 292 finished with value: 0.6532258064516129 and parameters: {'n_estimators': 26, 'eta': 0.06554227126847818, 'max_depth': 10, 'subsample': 0.9115665338515341, 'colsample_bytree': 0.7611129772987001, 'lambda': 6.507293645450061}. Best is trial 83 with value: 0.6814516129032258.\n",
      "[I 2023-06-06 17:02:48,120] Trial 293 finished with value: 0.657258064516129 and parameters: {'n_estimators': 29, 'eta': 0.05639021733437688, 'max_depth': 12, 'subsample': 0.854719446700776, 'colsample_bytree': 0.8290385025630534, 'lambda': 37.500287202823735}. Best is trial 83 with value: 0.6814516129032258.\n",
      "[I 2023-06-06 17:02:48,901] Trial 294 finished with value: 0.6673387096774194 and parameters: {'n_estimators': 36, 'eta': 0.04421308669402471, 'max_depth': 8, 'subsample': 0.8240845173118804, 'colsample_bytree': 0.9741651022425922, 'lambda': 22.63055408139812}. Best is trial 83 with value: 0.6814516129032258.\n",
      "[I 2023-06-06 17:02:49,869] Trial 295 finished with value: 0.6733870967741935 and parameters: {'n_estimators': 38, 'eta': 0.032259404046615106, 'max_depth': 11, 'subsample': 0.9664002780644987, 'colsample_bytree': 0.8024630754146008, 'lambda': 16.815812857964186}. Best is trial 83 with value: 0.6814516129032258.\n",
      "[I 2023-06-06 17:02:50,360] Trial 296 finished with value: 0.6633064516129032 and parameters: {'n_estimators': 38, 'eta': 0.032379108718920115, 'max_depth': 5, 'subsample': 0.9714832743374969, 'colsample_bytree': 0.8056778767820879, 'lambda': 16.6620103203694}. Best is trial 83 with value: 0.6814516129032258.\n"
     ]
    },
    {
     "name": "stderr",
     "output_type": "stream",
     "text": [
      "[I 2023-06-06 17:02:51,289] Trial 297 finished with value: 0.6673387096774194 and parameters: {'n_estimators': 30, 'eta': 0.028990385894134007, 'max_depth': 13, 'subsample': 0.9578257988085167, 'colsample_bytree': 0.6155928468950106, 'lambda': 15.44192191795089}. Best is trial 83 with value: 0.6814516129032258.\n",
      "[I 2023-06-06 17:02:52,317] Trial 298 finished with value: 0.6612903225806451 and parameters: {'n_estimators': 38, 'eta': 0.030682553508698605, 'max_depth': 11, 'subsample': 0.9890112668511859, 'colsample_bytree': 0.7753063261159664, 'lambda': 30.51894835102079}. Best is trial 83 with value: 0.6814516129032258.\n",
      "[I 2023-06-06 17:02:53,237] Trial 299 finished with value: 0.6673387096774194 and parameters: {'n_estimators': 33, 'eta': 0.033272737859116046, 'max_depth': 11, 'subsample': 0.9473630763139262, 'colsample_bytree': 0.7875118773144556, 'lambda': 42.418998845684825}. Best is trial 83 with value: 0.6814516129032258.\n",
      "[I 2023-06-06 17:02:54,378] Trial 300 finished with value: 0.6693548387096774 and parameters: {'n_estimators': 38, 'eta': 0.03428050030243727, 'max_depth': 12, 'subsample': 0.9680447110140271, 'colsample_bytree': 0.8018044106799284, 'lambda': 11.827160891107807}. Best is trial 83 with value: 0.6814516129032258.\n",
      "[I 2023-06-06 17:02:55,645] Trial 301 finished with value: 0.6653225806451613 and parameters: {'n_estimators': 39, 'eta': 0.06989607166399192, 'max_depth': 14, 'subsample': 0.9384090681428079, 'colsample_bytree': 0.8388212311931597, 'lambda': 61.6387950177108}. Best is trial 83 with value: 0.6814516129032258.\n",
      "[I 2023-06-06 17:02:56,803] Trial 302 finished with value: 0.6633064516129032 and parameters: {'n_estimators': 35, 'eta': 0.03594410112751274, 'max_depth': 13, 'subsample': 0.9990949487201755, 'colsample_bytree': 0.9505340363157314, 'lambda': 34.721610984683025}. Best is trial 83 with value: 0.6814516129032258.\n",
      "[I 2023-06-06 17:02:57,529] Trial 303 finished with value: 0.6471774193548387 and parameters: {'n_estimators': 40, 'eta': 0.09368673435108286, 'max_depth': 11, 'subsample': 0.5652765523741611, 'colsample_bytree': 0.7446212536137086, 'lambda': 14.335331647446532}. Best is trial 83 with value: 0.6814516129032258.\n",
      "[I 2023-06-06 17:02:58,260] Trial 304 finished with value: 0.6653225806451613 and parameters: {'n_estimators': 27, 'eta': 0.04031496126987366, 'max_depth': 12, 'subsample': 0.9768201615928139, 'colsample_bytree': 0.8186587544296213, 'lambda': 27.481730197685856}. Best is trial 83 with value: 0.6814516129032258.\n",
      "[I 2023-06-06 17:02:58,958] Trial 305 finished with value: 0.6633064516129032 and parameters: {'n_estimators': 34, 'eta': 0.06108979738315553, 'max_depth': 10, 'subsample': 0.7838645014574923, 'colsample_bytree': 0.7637918652227738, 'lambda': 188.77654701400883}. Best is trial 83 with value: 0.6814516129032258.\n",
      "[I 2023-06-06 17:02:59,846] Trial 306 finished with value: 0.6592741935483871 and parameters: {'n_estimators': 36, 'eta': 0.08063243953679068, 'max_depth': 11, 'subsample': 0.9579365885331914, 'colsample_bytree': 0.6985795949748356, 'lambda': 18.891299292298736}. Best is trial 83 with value: 0.6814516129032258.\n",
      "[I 2023-06-06 17:03:00,631] Trial 307 finished with value: 0.6633064516129032 and parameters: {'n_estimators': 37, 'eta': 0.0316307259445899, 'max_depth': 11, 'subsample': 0.8337309895236693, 'colsample_bytree': 0.7181385242512583, 'lambda': 75.0348936876717}. Best is trial 83 with value: 0.6814516129032258.\n",
      "[I 2023-06-06 17:03:01,686] Trial 308 finished with value: 0.6673387096774194 and parameters: {'n_estimators': 36, 'eta': 0.037870848831659934, 'max_depth': 13, 'subsample': 0.9322554304652819, 'colsample_bytree': 0.8466892912173057, 'lambda': 47.715854643359464}. Best is trial 83 with value: 0.6814516129032258.\n",
      "[I 2023-06-06 17:03:02,380] Trial 309 finished with value: 0.6491935483870968 and parameters: {'n_estimators': 35, 'eta': 0.07368748390464346, 'max_depth': 11, 'subsample': 0.5301910907427023, 'colsample_bytree': 0.9168998813523328, 'lambda': 3.434210714367102}. Best is trial 83 with value: 0.6814516129032258.\n",
      "[I 2023-06-06 17:03:03,505] Trial 310 finished with value: 0.6673387096774194 and parameters: {'n_estimators': 39, 'eta': 0.0853504403189927, 'max_depth': 11, 'subsample': 0.877265196840205, 'colsample_bytree': 0.9609328231734984, 'lambda': 55.838233611197325}. Best is trial 83 with value: 0.6814516129032258.\n",
      "[I 2023-06-06 17:03:04,320] Trial 311 finished with value: 0.6633064516129032 and parameters: {'n_estimators': 37, 'eta': 0.05421675234991655, 'max_depth': 10, 'subsample': 0.9519389158035788, 'colsample_bytree': 0.7349707552380778, 'lambda': 40.88329735579389}. Best is trial 83 with value: 0.6814516129032258.\n",
      "[I 2023-06-06 17:03:05,575] Trial 312 finished with value: 0.6512096774193549 and parameters: {'n_estimators': 41, 'eta': 0.02738009019535002, 'max_depth': 12, 'subsample': 0.9819306050002611, 'colsample_bytree': 0.9364275620189283, 'lambda': 13.02561725639315}. Best is trial 83 with value: 0.6814516129032258.\n",
      "[I 2023-06-06 17:03:06,408] Trial 313 finished with value: 0.6713709677419355 and parameters: {'n_estimators': 38, 'eta': 0.015870940139551565, 'max_depth': 12, 'subsample': 0.7217313445709965, 'colsample_bytree': 0.7800683287756587, 'lambda': 32.66420724582815}. Best is trial 83 with value: 0.6814516129032258.\n",
      "[I 2023-06-06 17:03:07,123] Trial 314 finished with value: 0.6592741935483871 and parameters: {'n_estimators': 36, 'eta': 0.03524387947493342, 'max_depth': 11, 'subsample': 0.8004245753133095, 'colsample_bytree': 0.6609931486602656, 'lambda': 38.427690616676394}. Best is trial 83 with value: 0.6814516129032258.\n",
      "[I 2023-06-06 17:03:08,122] Trial 315 finished with value: 0.6693548387096774 and parameters: {'n_estimators': 37, 'eta': 0.04259079907801574, 'max_depth': 13, 'subsample': 0.8956605635238284, 'colsample_bytree': 0.7991243140758009, 'lambda': 18.100943424333582}. Best is trial 83 with value: 0.6814516129032258.\n",
      "[I 2023-06-06 17:03:08,804] Trial 316 finished with value: 0.6612903225806451 and parameters: {'n_estimators': 35, 'eta': 0.030600707570434545, 'max_depth': 9, 'subsample': 0.6391429266205071, 'colsample_bytree': 0.9075664704330874, 'lambda': 29.009285140470944}. Best is trial 83 with value: 0.6814516129032258.\n",
      "[I 2023-06-06 17:03:09,833] Trial 317 finished with value: 0.6733870967741935 and parameters: {'n_estimators': 34, 'eta': 0.03694995223430166, 'max_depth': 15, 'subsample': 0.9669983966118549, 'colsample_bytree': 0.7550626687308952, 'lambda': 48.83523359990385}. Best is trial 83 with value: 0.6814516129032258.\n",
      "[I 2023-06-06 17:03:10,741] Trial 318 finished with value: 0.6713709677419355 and parameters: {'n_estimators': 34, 'eta': 0.03918399944821161, 'max_depth': 13, 'subsample': 0.96857613837053, 'colsample_bytree': 0.7524978390049071, 'lambda': 52.45007010514423}. Best is trial 83 with value: 0.6814516129032258.\n",
      "[I 2023-06-06 17:03:11,753] Trial 319 finished with value: 0.6532258064516129 and parameters: {'n_estimators': 34, 'eta': 0.04074578149768143, 'max_depth': 14, 'subsample': 0.9247206223973191, 'colsample_bytree': 0.8249412230358762, 'lambda': 10.16332855713808}. Best is trial 83 with value: 0.6814516129032258.\n",
      "[I 2023-06-06 17:03:12,973] Trial 320 finished with value: 0.6592741935483871 and parameters: {'n_estimators': 42, 'eta': 0.05052574636977359, 'max_depth': 15, 'subsample': 0.9839679629659399, 'colsample_bytree': 0.7269058050965193, 'lambda': 45.80113228332804}. Best is trial 83 with value: 0.6814516129032258.\n",
      "[I 2023-06-06 17:03:13,756] Trial 321 finished with value: 0.6633064516129032 and parameters: {'n_estimators': 33, 'eta': 0.03682971573966181, 'max_depth': 15, 'subsample': 0.9451183815153003, 'colsample_bytree': 0.5698142027015408, 'lambda': 97.6044915472648}. Best is trial 83 with value: 0.6814516129032258.\n",
      "[I 2023-06-06 17:03:14,403] Trial 322 finished with value: 0.6673387096774194 and parameters: {'n_estimators': 34, 'eta': 0.06659490721429855, 'max_depth': 8, 'subsample': 0.9652459534172725, 'colsample_bytree': 0.7636580844103595, 'lambda': 56.458405403207024}. Best is trial 83 with value: 0.6814516129032258.\n",
      "[I 2023-06-06 17:03:15,277] Trial 323 finished with value: 0.657258064516129 and parameters: {'n_estimators': 38, 'eta': 0.08912303543483764, 'max_depth': 15, 'subsample': 0.6789891508045786, 'colsample_bytree': 0.6837068942378334, 'lambda': 67.52239866526077}. Best is trial 83 with value: 0.6814516129032258.\n"
     ]
    },
    {
     "name": "stderr",
     "output_type": "stream",
     "text": [
      "[I 2023-06-06 17:03:16,361] Trial 324 finished with value: 0.6713709677419355 and parameters: {'n_estimators': 39, 'eta': 0.04502500031792639, 'max_depth': 14, 'subsample': 0.9149975492390936, 'colsample_bytree': 0.7744447238897535, 'lambda': 22.61078187742966}. Best is trial 83 with value: 0.6814516129032258.\n",
      "[I 2023-06-06 17:03:17,579] Trial 325 finished with value: 0.6754032258064516 and parameters: {'n_estimators': 35, 'eta': 0.0934875315467041, 'max_depth': 15, 'subsample': 0.9398087443071523, 'colsample_bytree': 0.8756431191247379, 'lambda': 47.85311490574716}. Best is trial 83 with value: 0.6814516129032258.\n",
      "[I 2023-06-06 17:03:18,685] Trial 326 finished with value: 0.6693548387096774 and parameters: {'n_estimators': 35, 'eta': 0.0952978146181479, 'max_depth': 14, 'subsample': 0.9318862512421859, 'colsample_bytree': 0.8669492903137223, 'lambda': 49.3510319936118}. Best is trial 83 with value: 0.6814516129032258.\n",
      "[I 2023-06-06 17:03:19,439] Trial 327 finished with value: 0.6693548387096774 and parameters: {'n_estimators': 28, 'eta': 0.09743072494693107, 'max_depth': 11, 'subsample': 0.8990495303113416, 'colsample_bytree': 0.8491721932710431, 'lambda': 42.510663737124155}. Best is trial 83 with value: 0.6814516129032258.\n",
      "[I 2023-06-06 17:03:20,336] Trial 328 finished with value: 0.6673387096774194 and parameters: {'n_estimators': 32, 'eta': 0.07734606234985597, 'max_depth': 15, 'subsample': 0.6973151767811802, 'colsample_bytree': 0.8771884726892925, 'lambda': 60.79547338303356}. Best is trial 83 with value: 0.6814516129032258.\n",
      "[I 2023-06-06 17:03:21,258] Trial 329 finished with value: 0.6612903225806451 and parameters: {'n_estimators': 38, 'eta': 0.0933317101153349, 'max_depth': 14, 'subsample': 0.6053165859900032, 'colsample_bytree': 0.8038218517543442, 'lambda': 49.24611668893526}. Best is trial 83 with value: 0.6814516129032258.\n",
      "[I 2023-06-06 17:03:22,260] Trial 330 finished with value: 0.6633064516129032 and parameters: {'n_estimators': 34, 'eta': 0.03334047795490512, 'max_depth': 15, 'subsample': 0.944546035030632, 'colsample_bytree': 0.7418102875831984, 'lambda': 85.99834255925104}. Best is trial 83 with value: 0.6814516129032258.\n",
      "[I 2023-06-06 17:03:22,971] Trial 331 finished with value: 0.6612903225806451 and parameters: {'n_estimators': 33, 'eta': 0.02914740942835638, 'max_depth': 15, 'subsample': 0.4751382234716186, 'colsample_bytree': 0.8312212578069341, 'lambda': 39.508070154445974}. Best is trial 83 with value: 0.6814516129032258.\n",
      "[I 2023-06-06 17:03:23,928] Trial 332 finished with value: 0.6693548387096774 and parameters: {'n_estimators': 35, 'eta': 0.053049429895068057, 'max_depth': 15, 'subsample': 0.8631423357955915, 'colsample_bytree': 0.7047131563822783, 'lambda': 53.22494489964602}. Best is trial 83 with value: 0.6814516129032258.\n",
      "[I 2023-06-06 17:03:24,774] Trial 333 finished with value: 0.6633064516129032 and parameters: {'n_estimators': 26, 'eta': 0.0889257788695031, 'max_depth': 15, 'subsample': 0.9203639093789399, 'colsample_bytree': 0.8544286489280766, 'lambda': 45.21118911515646}. Best is trial 83 with value: 0.6814516129032258.\n",
      "[I 2023-06-06 17:03:25,941] Trial 334 finished with value: 0.6693548387096774 and parameters: {'n_estimators': 40, 'eta': 0.0928363459583167, 'max_depth': 15, 'subsample': 0.7500513164268974, 'colsample_bytree': 0.8888376418059855, 'lambda': 17.042126160140644}. Best is trial 83 with value: 0.6814516129032258.\n",
      "[I 2023-06-06 17:03:26,368] Trial 335 finished with value: 0.6673387096774194 and parameters: {'n_estimators': 36, 'eta': 0.057499168005307764, 'max_depth': 7, 'subsample': 0.9513732089978845, 'colsample_bytree': 0.4666956985020193, 'lambda': 8.87227774997701}. Best is trial 83 with value: 0.6814516129032258.\n",
      "[I 2023-06-06 17:03:27,376] Trial 336 finished with value: 0.6633064516129032 and parameters: {'n_estimators': 37, 'eta': 0.08720442682338037, 'max_depth': 11, 'subsample': 0.988880728971541, 'colsample_bytree': 0.8164987365530736, 'lambda': 67.60191648175774}. Best is trial 83 with value: 0.6814516129032258.\n",
      "[I 2023-06-06 17:03:28,155] Trial 337 finished with value: 0.655241935483871 and parameters: {'n_estimators': 36, 'eta': 0.09902073205800921, 'max_depth': 11, 'subsample': 0.9354482510757535, 'colsample_bytree': 0.6320275490823635, 'lambda': 38.4378690906419}. Best is trial 83 with value: 0.6814516129032258.\n",
      "[I 2023-06-06 17:03:29,219] Trial 338 finished with value: 0.6592741935483871 and parameters: {'n_estimators': 37, 'eta': 0.08501967117416061, 'max_depth': 15, 'subsample': 0.8849035837997575, 'colsample_bytree': 0.7878519652316436, 'lambda': 14.80330998185562}. Best is trial 83 with value: 0.6814516129032258.\n",
      "[I 2023-06-06 17:03:30,270] Trial 339 finished with value: 0.6592741935483871 and parameters: {'n_estimators': 38, 'eta': 0.07148655817613463, 'max_depth': 13, 'subsample': 0.9662903989331927, 'colsample_bytree': 0.751260732042075, 'lambda': 11.238025979575553}. Best is trial 83 with value: 0.6814516129032258.\n",
      "[I 2023-06-06 17:03:31,353] Trial 340 finished with value: 0.655241935483871 and parameters: {'n_estimators': 39, 'eta': 0.08071080007922515, 'max_depth': 11, 'subsample': 0.9075776735160379, 'colsample_bytree': 0.8760191715493866, 'lambda': 34.71201876806189}. Best is trial 83 with value: 0.6814516129032258.\n",
      "[I 2023-06-06 17:03:32,345] Trial 341 finished with value: 0.655241935483871 and parameters: {'n_estimators': 35, 'eta': 0.06152156341036429, 'max_depth': 13, 'subsample': 0.999897284813476, 'colsample_bytree': 0.77299590909005, 'lambda': 19.833806147355066}. Best is trial 83 with value: 0.6814516129032258.\n",
      "[I 2023-06-06 17:03:33,118] Trial 342 finished with value: 0.6653225806451613 and parameters: {'n_estimators': 36, 'eta': 0.04773110218646387, 'max_depth': 11, 'subsample': 0.7671535323634476, 'colsample_bytree': 0.7200250028064811, 'lambda': 25.144028854503993}. Best is trial 83 with value: 0.6814516129032258.\n",
      "[I 2023-06-06 17:03:34,112] Trial 343 finished with value: 0.6592741935483871 and parameters: {'n_estimators': 37, 'eta': 0.06470469294712172, 'max_depth': 11, 'subsample': 0.9518174562745157, 'colsample_bytree': 0.8363333729826893, 'lambda': 44.36336309835754}. Best is trial 83 with value: 0.6814516129032258.\n",
      "[I 2023-06-06 17:03:34,447] Trial 344 finished with value: 0.6612903225806451 and parameters: {'n_estimators': 25, 'eta': 0.034472396867573765, 'max_depth': 13, 'subsample': 0.30221151087207243, 'colsample_bytree': 0.794362981520557, 'lambda': 58.964247974296875}. Best is trial 83 with value: 0.6814516129032258.\n",
      "[I 2023-06-06 17:03:35,224] Trial 345 finished with value: 0.6391129032258065 and parameters: {'n_estimators': 38, 'eta': 0.05541818028929242, 'max_depth': 14, 'subsample': 0.6584518917152871, 'colsample_bytree': 0.6669808992558479, 'lambda': 1.6944055630784436}. Best is trial 83 with value: 0.6814516129032258.\n",
      "[I 2023-06-06 17:03:36,106] Trial 346 finished with value: 0.6653225806451613 and parameters: {'n_estimators': 34, 'eta': 0.03686772448919147, 'max_depth': 11, 'subsample': 0.8401263052384624, 'colsample_bytree': 0.8925217947324405, 'lambda': 77.61770299270081}. Best is trial 83 with value: 0.6814516129032258.\n",
      "[I 2023-06-06 17:03:36,807] Trial 347 finished with value: 0.6592741935483871 and parameters: {'n_estimators': 41, 'eta': 0.04938660943318212, 'max_depth': 11, 'subsample': 0.8175719282149057, 'colsample_bytree': 0.5526991015359515, 'lambda': 49.45298444171434}. Best is trial 83 with value: 0.6814516129032258.\n",
      "[I 2023-06-06 17:03:37,898] Trial 348 finished with value: 0.6612903225806451 and parameters: {'n_estimators': 40, 'eta': 0.031996096456891394, 'max_depth': 11, 'subsample': 0.9743906020399372, 'colsample_bytree': 0.858679145095818, 'lambda': 0.23806585442344358}. Best is trial 83 with value: 0.6814516129032258.\n",
      "[I 2023-06-06 17:03:39,105] Trial 349 finished with value: 0.6693548387096774 and parameters: {'n_estimators': 43, 'eta': 0.03944031136857075, 'max_depth': 13, 'subsample': 0.9370154589995493, 'colsample_bytree': 0.8187762279447619, 'lambda': 108.73197824655685}. Best is trial 83 with value: 0.6814516129032258.\n",
      "[I 2023-06-06 17:03:40,451] Trial 350 finished with value: 0.6754032258064516 and parameters: {'n_estimators': 39, 'eta': 0.052560893324139976, 'max_depth': 15, 'subsample': 0.9565662193442269, 'colsample_bytree': 0.9081180517980927, 'lambda': 39.93130851218117}. Best is trial 83 with value: 0.6814516129032258.\n"
     ]
    },
    {
     "name": "stderr",
     "output_type": "stream",
     "text": [
      "[I 2023-06-06 17:03:41,803] Trial 351 finished with value: 0.6693548387096774 and parameters: {'n_estimators': 39, 'eta': 0.05320855907282381, 'max_depth': 15, 'subsample': 0.9193441438756005, 'colsample_bytree': 0.9120647264672553, 'lambda': 40.932464067077575}. Best is trial 83 with value: 0.6814516129032258.\n",
      "[I 2023-06-06 17:03:43,131] Trial 352 finished with value: 0.6794354838709677 and parameters: {'n_estimators': 39, 'eta': 0.05169864675426965, 'max_depth': 15, 'subsample': 0.9555198436159128, 'colsample_bytree': 0.8948394706611774, 'lambda': 34.63216990966361}. Best is trial 83 with value: 0.6814516129032258.\n",
      "[I 2023-06-06 17:03:44,456] Trial 353 finished with value: 0.6693548387096774 and parameters: {'n_estimators': 39, 'eta': 0.051246405887391475, 'max_depth': 15, 'subsample': 0.9575801312304908, 'colsample_bytree': 0.8975322806959668, 'lambda': 34.67534344241761}. Best is trial 83 with value: 0.6814516129032258.\n",
      "[I 2023-06-06 17:03:45,520] Trial 354 finished with value: 0.6673387096774194 and parameters: {'n_estimators': 40, 'eta': 0.055637684223767116, 'max_depth': 15, 'subsample': 0.796866862951797, 'colsample_bytree': 0.7345293350476005, 'lambda': 37.06138496337414}. Best is trial 83 with value: 0.6814516129032258.\n",
      "[I 2023-06-06 17:03:46,350] Trial 355 finished with value: 0.6592741935483871 and parameters: {'n_estimators': 40, 'eta': 0.0519719815021968, 'max_depth': 15, 'subsample': 0.5886314184087158, 'colsample_bytree': 0.7083033061909372, 'lambda': 31.029155112284922}. Best is trial 83 with value: 0.6814516129032258.\n",
      "[I 2023-06-06 17:03:46,930] Trial 356 finished with value: 0.6612903225806451 and parameters: {'n_estimators': 38, 'eta': 0.04915832671405893, 'max_depth': 15, 'subsample': 0.9371703817233393, 'colsample_bytree': 0.2964711992148335, 'lambda': 43.76250616206574}. Best is trial 83 with value: 0.6814516129032258.\n",
      "[I 2023-06-06 17:03:47,463] Trial 357 finished with value: 0.6633064516129032 and parameters: {'n_estimators': 39, 'eta': 0.057309507115973705, 'max_depth': 15, 'subsample': 0.9799718078531438, 'colsample_bytree': 0.22317633733952785, 'lambda': 33.14688383681413}. Best is trial 83 with value: 0.6814516129032258.\n",
      "[I 2023-06-06 17:03:48,790] Trial 358 finished with value: 0.6653225806451613 and parameters: {'n_estimators': 39, 'eta': 0.05342089174736762, 'max_depth': 15, 'subsample': 0.8917530755838409, 'colsample_bytree': 0.9193928288903459, 'lambda': 27.471731625453433}. Best is trial 83 with value: 0.6814516129032258.\n",
      "[I 2023-06-06 17:03:49,969] Trial 359 finished with value: 0.6673387096774194 and parameters: {'n_estimators': 39, 'eta': 0.047023268613969105, 'max_depth': 15, 'subsample': 0.9564378026117368, 'colsample_bytree': 0.7557507505223732, 'lambda': 54.17513206090387}. Best is trial 83 with value: 0.6814516129032258.\n",
      "[I 2023-06-06 17:03:51,114] Trial 360 finished with value: 0.6673387096774194 and parameters: {'n_estimators': 38, 'eta': 0.059987107049598636, 'max_depth': 15, 'subsample': 0.6874527876660623, 'colsample_bytree': 0.7758795993562537, 'lambda': 39.22934852406786}. Best is trial 83 with value: 0.6814516129032258.\n",
      "[I 2023-06-06 17:03:52,115] Trial 361 finished with value: 0.6592741935483871 and parameters: {'n_estimators': 39, 'eta': 0.07587893331601944, 'max_depth': 14, 'subsample': 0.6673537932095318, 'colsample_bytree': 0.683170184131605, 'lambda': 46.82663096218602}. Best is trial 83 with value: 0.6814516129032258.\n",
      "[I 2023-06-06 17:03:53,512] Trial 362 finished with value: 0.6633064516129032 and parameters: {'n_estimators': 38, 'eta': 0.05059500510439136, 'max_depth': 15, 'subsample': 0.9222962251280215, 'colsample_bytree': 0.8836538799786009, 'lambda': 36.05264089606493}. Best is trial 83 with value: 0.6814516129032258.\n",
      "[I 2023-06-06 17:03:54,858] Trial 363 finished with value: 0.6713709677419355 and parameters: {'n_estimators': 40, 'eta': 0.0837525530598946, 'max_depth': 14, 'subsample': 0.9704657529835009, 'colsample_bytree': 0.8074415067299321, 'lambda': 29.779112882767624}. Best is trial 83 with value: 0.6814516129032258.\n",
      "[I 2023-06-06 17:03:56,092] Trial 364 finished with value: 0.6612903225806451 and parameters: {'n_estimators': 39, 'eta': 0.05519470176092433, 'max_depth': 15, 'subsample': 0.855333961483154, 'colsample_bytree': 0.8466499225946111, 'lambda': 65.16941204972613}. Best is trial 83 with value: 0.6814516129032258.\n",
      "[I 2023-06-06 17:03:56,657] Trial 365 finished with value: 0.6612903225806451 and parameters: {'n_estimators': 29, 'eta': 0.06774611199526293, 'max_depth': 15, 'subsample': 0.9400348366997292, 'colsample_bytree': 0.43274167003485303, 'lambda': 41.65563885909707}. Best is trial 83 with value: 0.6814516129032258.\n",
      "[I 2023-06-06 17:03:57,727] Trial 366 finished with value: 0.6512096774193549 and parameters: {'n_estimators': 44, 'eta': 0.09020408490830585, 'max_depth': 9, 'subsample': 0.906751639678038, 'colsample_bytree': 0.9006085192064076, 'lambda': 53.796910322485594}. Best is trial 83 with value: 0.6814516129032258.\n",
      "[I 2023-06-06 17:03:58,643] Trial 367 finished with value: 0.6633064516129032 and parameters: {'n_estimators': 37, 'eta': 0.029742978939964738, 'max_depth': 14, 'subsample': 0.9557631425834696, 'colsample_bytree': 0.6489552733069236, 'lambda': 33.42085845180789}. Best is trial 83 with value: 0.6814516129032258.\n",
      "[I 2023-06-06 17:03:59,504] Trial 368 finished with value: 0.6612903225806451 and parameters: {'n_estimators': 27, 'eta': 0.057753953804520766, 'max_depth': 15, 'subsample': 0.8777051015978191, 'colsample_bytree': 0.794098045085473, 'lambda': 48.06048168850908}. Best is trial 83 with value: 0.6814516129032258.\n",
      "[I 2023-06-06 17:04:00,457] Trial 369 finished with value: 0.6633064516129032 and parameters: {'n_estimators': 38, 'eta': 0.07183998779719812, 'max_depth': 13, 'subsample': 0.7269162702103088, 'colsample_bytree': 0.8273406277723376, 'lambda': 28.647154718625963}. Best is trial 83 with value: 0.6814516129032258.\n",
      "[I 2023-06-06 17:04:01,577] Trial 370 finished with value: 0.6653225806451613 and parameters: {'n_estimators': 37, 'eta': 0.052143678448324175, 'max_depth': 15, 'subsample': 0.9853124190005634, 'colsample_bytree': 0.7272580667303037, 'lambda': 25.61191269831731}. Best is trial 83 with value: 0.6814516129032258.\n",
      "[I 2023-06-06 17:04:02,809] Trial 371 finished with value: 0.6653225806451613 and parameters: {'n_estimators': 41, 'eta': 0.04839144017299955, 'max_depth': 13, 'subsample': 0.9294673788021042, 'colsample_bytree': 0.8758283756956914, 'lambda': 39.54090311856857}. Best is trial 83 with value: 0.6814516129032258.\n",
      "[I 2023-06-06 17:04:04,014] Trial 372 finished with value: 0.6693548387096774 and parameters: {'n_estimators': 40, 'eta': 0.025270985621016186, 'max_depth': 13, 'subsample': 0.965771224564875, 'colsample_bytree': 0.8598779127756822, 'lambda': 62.628748905308}. Best is trial 83 with value: 0.6814516129032258.\n",
      "[I 2023-06-06 17:04:04,731] Trial 373 finished with value: 0.6592741935483871 and parameters: {'n_estimators': 39, 'eta': 0.027649659830118044, 'max_depth': 8, 'subsample': 0.9480112373915777, 'colsample_bytree': 0.7505278042733098, 'lambda': 7.835663396306039}. Best is trial 83 with value: 0.6814516129032258.\n",
      "[I 2023-06-06 17:04:05,668] Trial 374 finished with value: 0.655241935483871 and parameters: {'n_estimators': 38, 'eta': 0.09504410497489856, 'max_depth': 11, 'subsample': 0.653045370082015, 'colsample_bytree': 0.9255444067691875, 'lambda': 44.21133129897401}. Best is trial 83 with value: 0.6814516129032258.\n",
      "[I 2023-06-06 17:04:06,136] Trial 375 finished with value: 0.6633064516129032 and parameters: {'n_estimators': 31, 'eta': 0.03805060049348597, 'max_depth': 6, 'subsample': 0.981281912057769, 'colsample_bytree': 0.7676096326583486, 'lambda': 0.7507696041978027}. Best is trial 83 with value: 0.6814516129032258.\n",
      "[I 2023-06-06 17:04:07,036] Trial 376 finished with value: 0.6633064516129032 and parameters: {'n_estimators': 36, 'eta': 0.08064433457935494, 'max_depth': 14, 'subsample': 0.9994582555521963, 'colsample_bytree': 0.614119638449043, 'lambda': 23.672154460510193}. Best is trial 83 with value: 0.6814516129032258.\n",
      "[I 2023-06-06 17:04:07,930] Trial 377 finished with value: 0.6693548387096774 and parameters: {'n_estimators': 37, 'eta': 0.04609994313429301, 'max_depth': 11, 'subsample': 0.777329405363965, 'colsample_bytree': 0.8367340899635352, 'lambda': 36.32561306904215}. Best is trial 83 with value: 0.6814516129032258.\n"
     ]
    },
    {
     "name": "stderr",
     "output_type": "stream",
     "text": [
      "[I 2023-06-06 17:04:08,761] Trial 378 finished with value: 0.6673387096774194 and parameters: {'n_estimators': 30, 'eta': 0.06320838509826886, 'max_depth': 15, 'subsample': 0.9210754754573325, 'colsample_bytree': 0.7082484662072762, 'lambda': 54.41372667502759}. Best is trial 83 with value: 0.6814516129032258.\n",
      "[I 2023-06-06 17:04:09,741] Trial 379 finished with value: 0.655241935483871 and parameters: {'n_estimators': 36, 'eta': 0.07451608326708627, 'max_depth': 11, 'subsample': 0.8394197123515069, 'colsample_bytree': 0.9103515560422843, 'lambda': 32.907193525900915}. Best is trial 83 with value: 0.6814516129032258.\n",
      "[I 2023-06-06 17:04:10,199] Trial 380 finished with value: 0.6612903225806451 and parameters: {'n_estimators': 28, 'eta': 0.03561099081014772, 'max_depth': 13, 'subsample': 0.4040229524548068, 'colsample_bytree': 0.7891191294657238, 'lambda': 47.80232159477968}. Best is trial 83 with value: 0.6814516129032258.\n",
      "[I 2023-06-06 17:04:10,904] Trial 381 finished with value: 0.6612903225806451 and parameters: {'n_estimators': 35, 'eta': 0.0543046932418103, 'max_depth': 8, 'subsample': 0.9032708465654241, 'colsample_bytree': 0.8140833510688243, 'lambda': 28.279688963612234}. Best is trial 83 with value: 0.6814516129032258.\n",
      "[I 2023-06-06 17:04:12,036] Trial 382 finished with value: 0.6491935483870968 and parameters: {'n_estimators': 38, 'eta': 0.03226065391694724, 'max_depth': 11, 'subsample': 0.9528670269130581, 'colsample_bytree': 0.9752545636914138, 'lambda': 6.931642433317134}. Best is trial 83 with value: 0.6814516129032258.\n",
      "[I 2023-06-06 17:04:12,769] Trial 383 finished with value: 0.6592741935483871 and parameters: {'n_estimators': 37, 'eta': 0.05028573635580145, 'max_depth': 10, 'subsample': 0.968935687342121, 'colsample_bytree': 0.6301084949280114, 'lambda': 4.418578534988407}. Best is trial 83 with value: 0.6814516129032258.\n",
      "[I 2023-06-06 17:04:13,584] Trial 384 finished with value: 0.6532258064516129 and parameters: {'n_estimators': 35, 'eta': 0.0854109813621136, 'max_depth': 9, 'subsample': 0.8125259351727532, 'colsample_bytree': 0.8990261613461588, 'lambda': 40.60270861648643}. Best is trial 83 with value: 0.6814516129032258.\n",
      "[I 2023-06-06 17:04:14,859] Trial 385 finished with value: 0.6673387096774194 and parameters: {'n_estimators': 39, 'eta': 0.04375887048130537, 'max_depth': 15, 'subsample': 0.9361326952868892, 'colsample_bytree': 0.869053443848592, 'lambda': 31.168729041519864}. Best is trial 83 with value: 0.6814516129032258.\n",
      "[I 2023-06-06 17:04:15,978] Trial 386 finished with value: 0.6693548387096774 and parameters: {'n_estimators': 38, 'eta': 0.09966399466292956, 'max_depth': 11, 'subsample': 0.9419753618473133, 'colsample_bytree': 0.9224630226868564, 'lambda': 76.88410136137031}. Best is trial 83 with value: 0.6814516129032258.\n",
      "[I 2023-06-06 17:04:16,533] Trial 387 finished with value: 0.6592741935483871 and parameters: {'n_estimators': 25, 'eta': 0.058731630817934824, 'max_depth': 14, 'subsample': 0.62338358958851, 'colsample_bytree': 0.7349838116147759, 'lambda': 36.88157550139849}. Best is trial 83 with value: 0.6814516129032258.\n",
      "[I 2023-06-06 17:04:16,988] Trial 388 finished with value: 0.6713709677419355 and parameters: {'n_estimators': 36, 'eta': 0.03436621013122314, 'max_depth': 7, 'subsample': 0.8679327298686711, 'colsample_bytree': 0.5230134996651422, 'lambda': 22.255221741509423}. Best is trial 83 with value: 0.6814516129032258.\n",
      "[I 2023-06-06 17:04:18,347] Trial 389 finished with value: 0.6693548387096774 and parameters: {'n_estimators': 40, 'eta': 0.09138190239629443, 'max_depth': 13, 'subsample': 0.9869110719524302, 'colsample_bytree': 0.9447174966014279, 'lambda': 58.69210696525096}. Best is trial 83 with value: 0.6814516129032258.\n",
      "[I 2023-06-06 17:04:19,296] Trial 390 finished with value: 0.6512096774193549 and parameters: {'n_estimators': 37, 'eta': 0.06770622350494605, 'max_depth': 11, 'subsample': 0.9176516358429514, 'colsample_bytree': 0.8028336932470701, 'lambda': 47.73123753147113}. Best is trial 83 with value: 0.6814516129032258.\n",
      "[I 2023-06-06 17:04:19,974] Trial 391 finished with value: 0.655241935483871 and parameters: {'n_estimators': 35, 'eta': 0.03802091358356799, 'max_depth': 10, 'subsample': 0.9647904101253834, 'colsample_bytree': 0.5779333427362465, 'lambda': 26.001059624418946}. Best is trial 83 with value: 0.6814516129032258.\n",
      "[I 2023-06-06 17:04:20,770] Trial 392 finished with value: 0.6592741935483871 and parameters: {'n_estimators': 36, 'eta': 0.041184816761369085, 'max_depth': 15, 'subsample': 0.6449164450170612, 'colsample_bytree': 0.6919036868788223, 'lambda': 42.35809431568674}. Best is trial 83 with value: 0.6814516129032258.\n",
      "[I 2023-06-06 17:04:21,505] Trial 393 finished with value: 0.6612903225806451 and parameters: {'n_estimators': 39, 'eta': 0.02864640327763996, 'max_depth': 11, 'subsample': 0.7466840408587292, 'colsample_bytree': 0.6631947396876855, 'lambda': 169.7989188174973}. Best is trial 83 with value: 0.6814516129032258.\n",
      "[I 2023-06-06 17:04:22,346] Trial 394 finished with value: 0.6350806451612904 and parameters: {'n_estimators': 38, 'eta': 0.07842096824053935, 'max_depth': 13, 'subsample': 0.7037306446670119, 'colsample_bytree': 0.7707027957676016, 'lambda': 3.444735475846438}. Best is trial 83 with value: 0.6814516129032258.\n",
      "[I 2023-06-06 17:04:22,977] Trial 395 finished with value: 0.6673387096774194 and parameters: {'n_estimators': 37, 'eta': 0.03334767818603815, 'max_depth': 14, 'subsample': 0.9545334093516434, 'colsample_bytree': 0.3675662428407981, 'lambda': 9.699070203239572}. Best is trial 83 with value: 0.6814516129032258.\n",
      "[I 2023-06-06 17:04:23,947] Trial 396 finished with value: 0.6532258064516129 and parameters: {'n_estimators': 36, 'eta': 0.04914632803995441, 'max_depth': 11, 'subsample': 0.8965200973160952, 'colsample_bytree': 0.8559042962433729, 'lambda': 33.86664608672452}. Best is trial 83 with value: 0.6814516129032258.\n",
      "[I 2023-06-06 17:04:24,615] Trial 397 finished with value: 0.6592741935483871 and parameters: {'n_estimators': 38, 'eta': 0.04585912802287962, 'max_depth': 11, 'subsample': 0.5298402312687098, 'colsample_bytree': 0.7470114198695342, 'lambda': 54.30737527292112}. Best is trial 83 with value: 0.6814516129032258.\n",
      "[I 2023-06-06 17:04:25,613] Trial 398 finished with value: 0.657258064516129 and parameters: {'n_estimators': 39, 'eta': 0.031080089722535155, 'max_depth': 12, 'subsample': 0.7906220830722696, 'colsample_bytree': 0.8330499792520919, 'lambda': 40.061476634651484}. Best is trial 83 with value: 0.6814516129032258.\n",
      "[I 2023-06-06 17:04:26,386] Trial 399 finished with value: 0.6653225806451613 and parameters: {'n_estimators': 26, 'eta': 0.03655124281219389, 'max_depth': 13, 'subsample': 0.9337611006127117, 'colsample_bytree': 0.8850962650944064, 'lambda': 30.46525783085691}. Best is trial 83 with value: 0.6814516129032258.\n",
      "[I 2023-06-06 17:04:27,225] Trial 400 finished with value: 0.657258064516129 and parameters: {'n_estimators': 32, 'eta': 0.06994518400727495, 'max_depth': 11, 'subsample': 0.9835220475353836, 'colsample_bytree': 0.7809713855699068, 'lambda': 49.360111717232925}. Best is trial 83 with value: 0.6814516129032258.\n",
      "[I 2023-06-06 17:04:27,520] Trial 401 finished with value: 0.6612903225806451 and parameters: {'n_estimators': 36, 'eta': 0.02656508847975418, 'max_depth': 11, 'subsample': 0.9695387711517703, 'colsample_bytree': 0.11164928622054265, 'lambda': 66.35581988718515}. Best is trial 83 with value: 0.6814516129032258.\n",
      "[I 2023-06-06 17:04:28,294] Trial 402 finished with value: 0.6592741935483871 and parameters: {'n_estimators': 35, 'eta': 0.05229869464934861, 'max_depth': 15, 'subsample': 0.5546316773281565, 'colsample_bytree': 0.8130328480532958, 'lambda': 25.05786948261475}. Best is trial 83 with value: 0.6814516129032258.\n",
      "[I 2023-06-06 17:04:29,200] Trial 403 finished with value: 0.6673387096774194 and parameters: {'n_estimators': 37, 'eta': 0.06046956799612162, 'max_depth': 10, 'subsample': 0.7186791826450205, 'colsample_bytree': 0.9586219776038727, 'lambda': 21.002953499489617}. Best is trial 83 with value: 0.6814516129032258.\n",
      "[I 2023-06-06 17:04:29,601] Trial 404 finished with value: 0.6612903225806451 and parameters: {'n_estimators': 38, 'eta': 0.03945381070382571, 'max_depth': 13, 'subsample': 0.13840057985521986, 'colsample_bytree': 0.9359613178140064, 'lambda': 134.6664605906877}. Best is trial 83 with value: 0.6814516129032258.\n"
     ]
    },
    {
     "name": "stderr",
     "output_type": "stream",
     "text": [
      "[I 2023-06-06 17:04:31,180] Trial 405 finished with value: 0.6633064516129032 and parameters: {'n_estimators': 42, 'eta': 0.05645028189551304, 'max_depth': 15, 'subsample': 0.9478834187887833, 'colsample_bytree': 0.9984587198320425, 'lambda': 38.35495823390918}. Best is trial 83 with value: 0.6814516129032258.\n",
      "[I 2023-06-06 17:04:32,140] Trial 406 finished with value: 0.6491935483870968 and parameters: {'n_estimators': 40, 'eta': 0.04264225647469722, 'max_depth': 11, 'subsample': 0.6877722314029431, 'colsample_bytree': 0.9086100164347899, 'lambda': 2.22629570986057}. Best is trial 83 with value: 0.6814516129032258.\n",
      "[I 2023-06-06 17:04:32,988] Trial 407 finished with value: 0.6653225806451613 and parameters: {'n_estimators': 35, 'eta': 0.047602459335176525, 'max_depth': 12, 'subsample': 0.9117235976861762, 'colsample_bytree': 0.72188613114566, 'lambda': 44.471321698790796}. Best is trial 83 with value: 0.6814516129032258.\n",
      "[I 2023-06-06 17:04:34,149] Trial 408 finished with value: 0.6612903225806451 and parameters: {'n_estimators': 37, 'eta': 0.0740844021288483, 'max_depth': 14, 'subsample': 0.9256679258355394, 'colsample_bytree': 0.8390089457548028, 'lambda': 33.52500357316854}. Best is trial 83 with value: 0.6814516129032258.\n",
      "[I 2023-06-06 17:04:35,239] Trial 409 finished with value: 0.6633064516129032 and parameters: {'n_estimators': 39, 'eta': 0.06412790545918805, 'max_depth': 11, 'subsample': 0.9720162608428926, 'colsample_bytree': 0.8702496020713226, 'lambda': 28.996930266814836}. Best is trial 83 with value: 0.6814516129032258.\n",
      "[I 2023-06-06 17:04:35,832] Trial 410 finished with value: 0.6653225806451613 and parameters: {'n_estimators': 27, 'eta': 0.053792092154813106, 'max_depth': 9, 'subsample': 0.9507683252914438, 'colsample_bytree': 0.7621027509639879, 'lambda': 59.211664493381775}. Best is trial 83 with value: 0.6814516129032258.\n",
      "[I 2023-06-06 17:04:36,553] Trial 411 finished with value: 0.6592741935483871 and parameters: {'n_estimators': 36, 'eta': 0.0368957445188588, 'max_depth': 13, 'subsample': 0.47680559750457013, 'colsample_bytree': 0.8857248992115591, 'lambda': 36.8670678739603}. Best is trial 83 with value: 0.6814516129032258.\n",
      "[I 2023-06-06 17:04:37,514] Trial 412 finished with value: 0.6532258064516129 and parameters: {'n_estimators': 29, 'eta': 0.05052107364075444, 'max_depth': 15, 'subsample': 0.8826271947108701, 'colsample_bytree': 0.9233491992710369, 'lambda': 5.67449733817024}. Best is trial 83 with value: 0.6814516129032258.\n",
      "[I 2023-06-06 17:04:38,176] Trial 413 finished with value: 0.6592741935483871 and parameters: {'n_estimators': 38, 'eta': 0.02346760711293862, 'max_depth': 9, 'subsample': 0.6031665704118263, 'colsample_bytree': 0.7923926164649737, 'lambda': 83.34270288976172}. Best is trial 83 with value: 0.6814516129032258.\n",
      "[I 2023-06-06 17:04:39,180] Trial 414 finished with value: 0.6512096774193549 and parameters: {'n_estimators': 40, 'eta': 0.015514720004427137, 'max_depth': 11, 'subsample': 0.9928152752336028, 'colsample_bytree': 0.7449172358053573, 'lambda': 0.8353007115296638}. Best is trial 83 with value: 0.6814516129032258.\n",
      "[I 2023-06-06 17:04:39,510] Trial 415 finished with value: 0.6612903225806451 and parameters: {'n_estimators': 47, 'eta': 0.044390056492626576, 'max_depth': 10, 'subsample': 0.11722787763559317, 'colsample_bytree': 0.8497738915540417, 'lambda': 44.48387756226624}. Best is trial 83 with value: 0.6814516129032258.\n",
      "[I 2023-06-06 17:04:40,277] Trial 416 finished with value: 0.6612903225806451 and parameters: {'n_estimators': 35, 'eta': 0.08794803351808664, 'max_depth': 12, 'subsample': 0.628895538943899, 'colsample_bytree': 0.8187569924414142, 'lambda': 50.3675540747639}. Best is trial 83 with value: 0.6814516129032258.\n",
      "[I 2023-06-06 17:04:41,409] Trial 417 finished with value: 0.6633064516129032 and parameters: {'n_estimators': 37, 'eta': 0.029844207774980206, 'max_depth': 13, 'subsample': 0.9335844306865059, 'colsample_bytree': 0.8986532673074089, 'lambda': 26.173160120372913}. Best is trial 83 with value: 0.6814516129032258.\n",
      "[I 2023-06-06 17:04:42,274] Trial 418 finished with value: 0.6653225806451613 and parameters: {'n_estimators': 38, 'eta': 0.03899520649906389, 'max_depth': 11, 'subsample': 0.9996072357697162, 'colsample_bytree': 0.701033824486446, 'lambda': 71.47266697988924}. Best is trial 83 with value: 0.6814516129032258.\n",
      "[I 2023-06-06 17:04:43,334] Trial 419 finished with value: 0.657258064516129 and parameters: {'n_estimators': 36, 'eta': 0.03295567584733359, 'max_depth': 14, 'subsample': 0.7341509389246516, 'colsample_bytree': 0.948835856655749, 'lambda': 31.19433574906577}. Best is trial 83 with value: 0.6814516129032258.\n",
      "[I 2023-06-06 17:04:44,222] Trial 420 finished with value: 0.6754032258064516 and parameters: {'n_estimators': 26, 'eta': 0.03565179901913977, 'max_depth': 15, 'subsample': 0.8479642336502142, 'colsample_bytree': 0.9702398244781731, 'lambda': 37.05656148698097}. Best is trial 83 with value: 0.6814516129032258.\n",
      "[I 2023-06-06 17:04:45,080] Trial 421 finished with value: 0.6633064516129032 and parameters: {'n_estimators': 26, 'eta': 0.034680404901881644, 'max_depth': 15, 'subsample': 0.8006127990112886, 'colsample_bytree': 0.9843739498916468, 'lambda': 9.062682313151326}. Best is trial 83 with value: 0.6814516129032258.\n",
      "[I 2023-06-06 17:04:45,967] Trial 422 finished with value: 0.6673387096774194 and parameters: {'n_estimators': 25, 'eta': 0.03494839192810277, 'max_depth': 15, 'subsample': 0.868274469651719, 'colsample_bytree': 0.9709369544643031, 'lambda': 35.304290681930866}. Best is trial 83 with value: 0.6814516129032258.\n",
      "[I 2023-06-06 17:04:46,846] Trial 423 finished with value: 0.6733870967741935 and parameters: {'n_estimators': 26, 'eta': 0.0822490599921581, 'max_depth': 15, 'subsample': 0.8358850901151582, 'colsample_bytree': 0.9816958756740806, 'lambda': 22.920143615268426}. Best is trial 83 with value: 0.6814516129032258.\n",
      "[I 2023-06-06 17:04:47,763] Trial 424 finished with value: 0.6633064516129032 and parameters: {'n_estimators': 26, 'eta': 0.08572425132238465, 'max_depth': 15, 'subsample': 0.8531586188211902, 'colsample_bytree': 0.9905715081039673, 'lambda': 20.462835339845796}. Best is trial 83 with value: 0.6814516129032258.\n",
      "[I 2023-06-06 17:04:48,677] Trial 425 finished with value: 0.6612903225806451 and parameters: {'n_estimators': 26, 'eta': 0.08161923569110366, 'max_depth': 15, 'subsample': 0.8791476783615203, 'colsample_bytree': 0.9764709670543187, 'lambda': 23.92227560342171}. Best is trial 83 with value: 0.6814516129032258.\n",
      "[I 2023-06-06 17:04:49,547] Trial 426 finished with value: 0.6713709677419355 and parameters: {'n_estimators': 25, 'eta': 0.0782640997797068, 'max_depth': 15, 'subsample': 0.8588927252703207, 'colsample_bytree': 0.956619425491393, 'lambda': 40.567461690107926}. Best is trial 83 with value: 0.6814516129032258.\n",
      "[I 2023-06-06 17:04:50,397] Trial 427 finished with value: 0.6592741935483871 and parameters: {'n_estimators': 25, 'eta': 0.035833136163147664, 'max_depth': 15, 'subsample': 0.816519674837855, 'colsample_bytree': 0.9795274399453804, 'lambda': 20.80489809418157}. Best is trial 83 with value: 0.6814516129032258.\n",
      "[I 2023-06-06 17:04:51,470] Trial 428 finished with value: 0.6693548387096774 and parameters: {'n_estimators': 25, 'eta': 0.03347212264128184, 'max_depth': 15, 'subsample': 0.8877884898604808, 'colsample_bytree': 0.9606449195059212, 'lambda': 28.64005941826379}. Best is trial 83 with value: 0.6814516129032258.\n",
      "[I 2023-06-06 17:04:52,281] Trial 429 finished with value: 0.6653225806451613 and parameters: {'n_estimators': 26, 'eta': 0.031430014681243505, 'max_depth': 15, 'subsample': 0.834119816245597, 'colsample_bytree': 0.7741756205849313, 'lambda': 117.7341415910603}. Best is trial 83 with value: 0.6814516129032258.\n",
      "[I 2023-06-06 17:04:53,101] Trial 430 finished with value: 0.6713709677419355 and parameters: {'n_estimators': 27, 'eta': 0.09296005351022264, 'max_depth': 15, 'subsample': 0.8226337685441799, 'colsample_bytree': 0.7187899271540711, 'lambda': 22.42376345999613}. Best is trial 83 with value: 0.6814516129032258.\n",
      "[I 2023-06-06 17:04:54,096] Trial 431 finished with value: 0.6673387096774194 and parameters: {'n_estimators': 27, 'eta': 0.08184033274328588, 'max_depth': 15, 'subsample': 0.840109828906172, 'colsample_bytree': 0.9656604220993864, 'lambda': 17.114069075038742}. Best is trial 83 with value: 0.6814516129032258.\n"
     ]
    },
    {
     "name": "stderr",
     "output_type": "stream",
     "text": [
      "[I 2023-06-06 17:04:54,729] Trial 432 finished with value: 0.6653225806451613 and parameters: {'n_estimators': 26, 'eta': 0.03666293163321787, 'max_depth': 15, 'subsample': 0.7697750540770455, 'colsample_bytree': 0.5827741672533504, 'lambda': 10.782991916947651}. Best is trial 83 with value: 0.6814516129032258.\n",
      "[I 2023-06-06 17:04:55,406] Trial 433 finished with value: 0.6633064516129032 and parameters: {'n_estimators': 25, 'eta': 0.07358900022591963, 'max_depth': 14, 'subsample': 0.7804573422519556, 'colsample_bytree': 0.803288006221413, 'lambda': 18.187934870517452}. Best is trial 83 with value: 0.6814516129032258.\n",
      "[I 2023-06-06 17:04:56,325] Trial 434 finished with value: 0.6653225806451613 and parameters: {'n_estimators': 26, 'eta': 0.06923792947543345, 'max_depth': 15, 'subsample': 0.8491611003661612, 'colsample_bytree': 0.991164890304536, 'lambda': 94.15146265890635}. Best is trial 83 with value: 0.6814516129032258.\n",
      "[I 2023-06-06 17:04:57,198] Trial 435 finished with value: 0.6693548387096774 and parameters: {'n_estimators': 25, 'eta': 0.03764428603858098, 'max_depth': 15, 'subsample': 0.8047614276612074, 'colsample_bytree': 0.9996248757099893, 'lambda': 37.27939538029698}. Best is trial 83 with value: 0.6814516129032258.\n",
      "[I 2023-06-06 17:04:57,919] Trial 436 finished with value: 0.6612903225806451 and parameters: {'n_estimators': 28, 'eta': 0.07742046808934631, 'max_depth': 15, 'subsample': 0.9679187936677228, 'colsample_bytree': 0.6321744150780417, 'lambda': 6.675543936631388}. Best is trial 83 with value: 0.6814516129032258.\n",
      "[I 2023-06-06 17:04:58,821] Trial 437 finished with value: 0.6532258064516129 and parameters: {'n_estimators': 34, 'eta': 0.032884917537420885, 'max_depth': 15, 'subsample': 0.836143703528995, 'colsample_bytree': 0.7555454666476893, 'lambda': 12.179608517330763}. Best is trial 83 with value: 0.6814516129032258.\n",
      "[I 2023-06-06 17:04:59,623] Trial 438 finished with value: 0.6653225806451613 and parameters: {'n_estimators': 41, 'eta': 0.0282142802633891, 'max_depth': 14, 'subsample': 0.9065308598176121, 'colsample_bytree': 0.44976081439416077, 'lambda': 44.16149504642848}. Best is trial 83 with value: 0.6814516129032258.\n",
      "[I 2023-06-06 17:05:00,357] Trial 439 finished with value: 0.6653225806451613 and parameters: {'n_estimators': 27, 'eta': 0.08360496399652984, 'max_depth': 13, 'subsample': 0.9806869766996604, 'colsample_bytree': 0.7338084499710514, 'lambda': 24.536568180541096}. Best is trial 83 with value: 0.6814516129032258.\n",
      "[I 2023-06-06 17:05:01,171] Trial 440 finished with value: 0.6693548387096774 and parameters: {'n_estimators': 35, 'eta': 0.08881901010172903, 'max_depth': 15, 'subsample': 0.8242617623640301, 'colsample_bytree': 0.5962922620174383, 'lambda': 33.37417700352356}. Best is trial 83 with value: 0.6814516129032258.\n",
      "[I 2023-06-06 17:05:01,936] Trial 441 finished with value: 0.6673387096774194 and parameters: {'n_estimators': 26, 'eta': 0.04781923537098238, 'max_depth': 13, 'subsample': 0.9576924201432163, 'colsample_bytree': 0.8274328199338129, 'lambda': 53.84289494713494}. Best is trial 83 with value: 0.6814516129032258.\n",
      "[I 2023-06-06 17:05:02,723] Trial 442 finished with value: 0.6693548387096774 and parameters: {'n_estimators': 28, 'eta': 0.035183281150178464, 'max_depth': 14, 'subsample': 0.9205281004890283, 'colsample_bytree': 0.7851050008967164, 'lambda': 29.171080048084633}. Best is trial 83 with value: 0.6814516129032258.\n",
      "[I 2023-06-06 17:05:03,446] Trial 443 finished with value: 0.6592741935483871 and parameters: {'n_estimators': 43, 'eta': 0.04592772352421541, 'max_depth': 15, 'subsample': 0.5808285390794535, 'colsample_bytree': 0.5247697784794034, 'lambda': 42.41851181758772}. Best is trial 83 with value: 0.6814516129032258.\n",
      "[I 2023-06-06 17:05:04,081] Trial 444 finished with value: 0.6612903225806451 and parameters: {'n_estimators': 35, 'eta': 0.03034641879081183, 'max_depth': 12, 'subsample': 0.6650248364678599, 'colsample_bytree': 0.6124667444302441, 'lambda': 37.99386471386576}. Best is trial 83 with value: 0.6814516129032258.\n",
      "[I 2023-06-06 17:05:04,613] Trial 445 finished with value: 0.6612903225806451 and parameters: {'n_estimators': 25, 'eta': 0.0715429812236412, 'max_depth': 13, 'subsample': 0.7500788841743963, 'colsample_bytree': 0.650162202137924, 'lambda': 25.548397780080016}. Best is trial 83 with value: 0.6814516129032258.\n",
      "[I 2023-06-06 17:05:05,439] Trial 446 finished with value: 0.6693548387096774 and parameters: {'n_estimators': 36, 'eta': 0.06624732954956684, 'max_depth': 8, 'subsample': 0.9414571185977152, 'colsample_bytree': 0.9377710625957906, 'lambda': 32.29821567010866}. Best is trial 83 with value: 0.6814516129032258.\n",
      "[I 2023-06-06 17:05:06,469] Trial 447 finished with value: 0.6612903225806451 and parameters: {'n_estimators': 34, 'eta': 0.041176936150007185, 'max_depth': 15, 'subsample': 0.8972482851738508, 'colsample_bytree': 0.8088220013066174, 'lambda': 61.238696625730185}. Best is trial 83 with value: 0.6814516129032258.\n",
      "[I 2023-06-06 17:05:07,212] Trial 448 finished with value: 0.657258064516129 and parameters: {'n_estimators': 26, 'eta': 0.049644444549663505, 'max_depth': 13, 'subsample': 0.8667936297425548, 'colsample_bytree': 0.8415924168751775, 'lambda': 48.278301774270666}. Best is trial 83 with value: 0.6814516129032258.\n",
      "[I 2023-06-06 17:05:07,924] Trial 449 finished with value: 0.6612903225806451 and parameters: {'n_estimators': 39, 'eta': 0.039200365565794364, 'max_depth': 12, 'subsample': 0.5645947750449435, 'colsample_bytree': 0.7107277410629466, 'lambda': 13.69085065825633}. Best is trial 83 with value: 0.6814516129032258.\n",
      "[I 2023-06-06 17:05:08,838] Trial 450 finished with value: 0.6633064516129032 and parameters: {'n_estimators': 40, 'eta': 0.0560645664008379, 'max_depth': 15, 'subsample': 0.96348761695371, 'colsample_bytree': 0.5706797223258125, 'lambda': 8.243221993321303}. Best is trial 83 with value: 0.6814516129032258.\n",
      "[I 2023-06-06 17:05:09,889] Trial 451 finished with value: 0.6653225806451613 and parameters: {'n_estimators': 35, 'eta': 0.06044775731766884, 'max_depth': 14, 'subsample': 0.9832635101245673, 'colsample_bytree': 0.758594081895972, 'lambda': 35.40127923177975}. Best is trial 83 with value: 0.6814516129032258.\n",
      "[I 2023-06-06 17:05:10,467] Trial 452 finished with value: 0.6592741935483871 and parameters: {'n_estimators': 30, 'eta': 0.09088320715247972, 'max_depth': 13, 'subsample': 0.9289449428717619, 'colsample_bytree': 0.49877355509008514, 'lambda': 28.106918018957586}. Best is trial 83 with value: 0.6814516129032258.\n",
      "[I 2023-06-06 17:05:11,452] Trial 453 finished with value: 0.6633064516129032 and parameters: {'n_estimators': 36, 'eta': 0.03729279433688348, 'max_depth': 15, 'subsample': 0.9550221715090876, 'colsample_bytree': 0.6840402670656258, 'lambda': 18.7474834706297}. Best is trial 83 with value: 0.6814516129032258.\n",
      "[I 2023-06-06 17:05:12,311] Trial 454 finished with value: 0.6693548387096774 and parameters: {'n_estimators': 39, 'eta': 0.01107865594129263, 'max_depth': 11, 'subsample': 0.8102147929487028, 'colsample_bytree': 0.7927150641450926, 'lambda': 42.12376308315498}. Best is trial 83 with value: 0.6814516129032258.\n",
      "[I 2023-06-06 17:05:12,965] Trial 455 finished with value: 0.6512096774193549 and parameters: {'n_estimators': 35, 'eta': 0.04363731055885938, 'max_depth': 12, 'subsample': 0.7864027941706097, 'colsample_bytree': 0.5528676652010411, 'lambda': 5.9147065598275255}. Best is trial 83 with value: 0.6814516129032258.\n",
      "[I 2023-06-06 17:05:13,496] Trial 456 finished with value: 0.655241935483871 and parameters: {'n_estimators': 29, 'eta': 0.09633129735419416, 'max_depth': 8, 'subsample': 0.9744513806604471, 'colsample_bytree': 0.6703254535956436, 'lambda': 53.33115113808161}. Best is trial 83 with value: 0.6814516129032258.\n",
      "[I 2023-06-06 17:05:14,454] Trial 457 finished with value: 0.6733870967741935 and parameters: {'n_estimators': 34, 'eta': 0.052182321787723925, 'max_depth': 11, 'subsample': 0.9092939625542846, 'colsample_bytree': 0.9483255494200522, 'lambda': 15.910983244744969}. Best is trial 83 with value: 0.6814516129032258.\n",
      "[I 2023-06-06 17:05:15,546] Trial 458 finished with value: 0.6673387096774194 and parameters: {'n_estimators': 34, 'eta': 0.051826324160352946, 'max_depth': 13, 'subsample': 0.9057560028646613, 'colsample_bytree': 0.9501371469878452, 'lambda': 16.113021281002307}. Best is trial 83 with value: 0.6814516129032258.\n"
     ]
    },
    {
     "name": "stderr",
     "output_type": "stream",
     "text": [
      "[I 2023-06-06 17:05:15,894] Trial 459 finished with value: 0.6592741935483871 and parameters: {'n_estimators': 33, 'eta': 0.0340683848930092, 'max_depth': 11, 'subsample': 0.19470650556572933, 'colsample_bytree': 0.9673678951527673, 'lambda': 14.867128031496463}. Best is trial 83 with value: 0.6814516129032258.\n",
      "[I 2023-06-06 17:05:17,010] Trial 460 finished with value: 0.6733870967741935 and parameters: {'n_estimators': 33, 'eta': 0.03155339404242394, 'max_depth': 15, 'subsample': 0.8917697628268216, 'colsample_bytree': 0.9358964901935469, 'lambda': 19.705409345187995}. Best is trial 83 with value: 0.6814516129032258.\n",
      "[I 2023-06-06 17:05:18,146] Trial 461 finished with value: 0.6713709677419355 and parameters: {'n_estimators': 33, 'eta': 0.03092658414930277, 'max_depth': 15, 'subsample': 0.883619853941645, 'colsample_bytree': 0.940859477875456, 'lambda': 18.787134114061708}. Best is trial 83 with value: 0.6814516129032258.\n",
      "[I 2023-06-06 17:05:19,212] Trial 462 finished with value: 0.6592741935483871 and parameters: {'n_estimators': 33, 'eta': 0.02941847878700554, 'max_depth': 15, 'subsample': 0.8529902646352442, 'colsample_bytree': 0.9235316534610379, 'lambda': 16.459171992456074}. Best is trial 83 with value: 0.6814516129032258.\n",
      "[I 2023-06-06 17:05:19,825] Trial 463 finished with value: 0.6612903225806451 and parameters: {'n_estimators': 34, 'eta': 0.03213245360254515, 'max_depth': 15, 'subsample': 0.34086992311056385, 'colsample_bytree': 0.9532710137888293, 'lambda': 20.92630025588505}. Best is trial 83 with value: 0.6814516129032258.\n",
      "[I 2023-06-06 17:05:20,542] Trial 464 finished with value: 0.6592741935483871 and parameters: {'n_estimators': 34, 'eta': 0.0310914995705913, 'max_depth': 15, 'subsample': 0.43512051653557576, 'colsample_bytree': 0.9744035107602225, 'lambda': 12.624151344362168}. Best is trial 83 with value: 0.6814516129032258.\n",
      "[I 2023-06-06 17:05:21,196] Trial 465 finished with value: 0.6673387096774194 and parameters: {'n_estimators': 34, 'eta': 0.03228951114397176, 'max_depth': 7, 'subsample': 0.8948661270076359, 'colsample_bytree': 0.9390138643488566, 'lambda': 69.76300010615111}. Best is trial 83 with value: 0.6814516129032258.\n",
      "[I 2023-06-06 17:05:22,412] Trial 466 finished with value: 0.6612903225806451 and parameters: {'n_estimators': 34, 'eta': 0.027403426546753117, 'max_depth': 15, 'subsample': 0.8716739761708794, 'colsample_bytree': 0.9248852899840809, 'lambda': 15.19915700139618}. Best is trial 83 with value: 0.6814516129032258.\n",
      "[I 2023-06-06 17:05:23,569] Trial 467 finished with value: 0.6673387096774194 and parameters: {'n_estimators': 33, 'eta': 0.033109630027696256, 'max_depth': 15, 'subsample': 0.9051085946957071, 'colsample_bytree': 0.9583860372625773, 'lambda': 22.979657678984537}. Best is trial 83 with value: 0.6814516129032258.\n",
      "[I 2023-06-06 17:05:24,614] Trial 468 finished with value: 0.6592741935483871 and parameters: {'n_estimators': 32, 'eta': 0.04874334968120788, 'max_depth': 14, 'subsample': 0.9192142878575378, 'colsample_bytree': 0.9174022590076835, 'lambda': 18.307051405818267}. Best is trial 83 with value: 0.6814516129032258.\n",
      "[I 2023-06-06 17:05:25,282] Trial 469 finished with value: 0.6592741935483871 and parameters: {'n_estimators': 27, 'eta': 0.03505832872545862, 'max_depth': 15, 'subsample': 0.4939845937511222, 'colsample_bytree': 0.9739891455690463, 'lambda': 20.36852645039278}. Best is trial 83 with value: 0.6814516129032258.\n",
      "[I 2023-06-06 17:05:26,431] Trial 470 finished with value: 0.6633064516129032 and parameters: {'n_estimators': 34, 'eta': 0.07663761041118514, 'max_depth': 15, 'subsample': 0.877372703178423, 'colsample_bytree': 0.9341462731230087, 'lambda': 48.92171417126472}. Best is trial 83 with value: 0.6814516129032258.\n",
      "[I 2023-06-06 17:05:27,095] Trial 471 finished with value: 0.6612903225806451 and parameters: {'n_estimators': 33, 'eta': 0.05292424751695423, 'max_depth': 15, 'subsample': 0.41038153118207665, 'colsample_bytree': 0.8973375287551797, 'lambda': 58.63453201014257}. Best is trial 83 with value: 0.6814516129032258.\n",
      "[I 2023-06-06 17:05:28,012] Trial 472 finished with value: 0.6693548387096774 and parameters: {'n_estimators': 27, 'eta': 0.029571569931995192, 'max_depth': 14, 'subsample': 0.9151722124707057, 'colsample_bytree': 0.9461471556016251, 'lambda': 195.35113556082135}. Best is trial 83 with value: 0.6814516129032258.\n",
      "[I 2023-06-06 17:05:29,130] Trial 473 finished with value: 0.6653225806451613 and parameters: {'n_estimators': 39, 'eta': 0.024417293242688664, 'max_depth': 13, 'subsample': 0.8451833642841768, 'colsample_bytree': 0.9077583977276391, 'lambda': 16.52557592603597}. Best is trial 83 with value: 0.6814516129032258.\n",
      "[I 2023-06-06 17:05:30,342] Trial 474 finished with value: 0.6491935483870968 and parameters: {'n_estimators': 34, 'eta': 0.08178281114682547, 'max_depth': 14, 'subsample': 0.933958978163866, 'colsample_bytree': 0.9895752073021918, 'lambda': 13.267507034688483}. Best is trial 83 with value: 0.6814516129032258.\n",
      "[I 2023-06-06 17:05:31,672] Trial 475 finished with value: 0.6633064516129032 and parameters: {'n_estimators': 40, 'eta': 0.07125560967587384, 'max_depth': 15, 'subsample': 0.8982973614983715, 'colsample_bytree': 0.8746923310280996, 'lambda': 81.47767553548451}. Best is trial 83 with value: 0.6814516129032258.\n",
      "[I 2023-06-06 17:05:32,324] Trial 476 finished with value: 0.6612903225806451 and parameters: {'n_estimators': 39, 'eta': 0.03414742904433942, 'max_depth': 15, 'subsample': 0.6907261083849405, 'colsample_bytree': 0.47505975028361447, 'lambda': 46.984981474766236}. Best is trial 83 with value: 0.6814516129032258.\n",
      "[I 2023-06-06 17:05:32,912] Trial 477 finished with value: 0.6653225806451613 and parameters: {'n_estimators': 25, 'eta': 0.05074355950907143, 'max_depth': 13, 'subsample': 0.5164611011922953, 'colsample_bytree': 0.9566272515320943, 'lambda': 22.705872811548506}. Best is trial 83 with value: 0.6814516129032258.\n",
      "[I 2023-06-06 17:05:33,134] Trial 478 finished with value: 0.6330645161290323 and parameters: {'n_estimators': 50, 'eta': 0.06403616571445535, 'max_depth': 12, 'subsample': 0.10532076544303276, 'colsample_bytree': 0.3212358073931465, 'lambda': 2.9078570039160745}. Best is trial 83 with value: 0.6814516129032258.\n",
      "[I 2023-06-06 17:05:33,703] Trial 479 finished with value: 0.6612903225806451 and parameters: {'n_estimators': 35, 'eta': 0.08620833614134249, 'max_depth': 15, 'subsample': 0.757200934406811, 'colsample_bytree': 0.4148972326886916, 'lambda': 4.227319495199022}. Best is trial 83 with value: 0.6814516129032258.\n",
      "[I 2023-06-06 17:05:34,144] Trial 480 finished with value: 0.6612903225806451 and parameters: {'n_estimators': 34, 'eta': 0.04662457089027852, 'max_depth': 13, 'subsample': 0.24852007106817287, 'colsample_bytree': 0.9317979630674548, 'lambda': 53.950129128337046}. Best is trial 83 with value: 0.6814516129032258.\n",
      "[I 2023-06-06 17:05:34,811] Trial 481 finished with value: 0.6532258064516129 and parameters: {'n_estimators': 26, 'eta': 0.036717530915358024, 'max_depth': 15, 'subsample': 0.5960412933865873, 'colsample_bytree': 0.9080809254393881, 'lambda': 6.421968811300502}. Best is trial 83 with value: 0.6814516129032258.\n",
      "[I 2023-06-06 17:05:35,474] Trial 482 finished with value: 0.6633064516129032 and parameters: {'n_estimators': 31, 'eta': 0.012097195191915967, 'max_depth': 14, 'subsample': 0.5848202750183209, 'colsample_bytree': 0.7388567701278707, 'lambda': 7.805521276793957}. Best is trial 83 with value: 0.6814516129032258.\n",
      "[I 2023-06-06 17:05:36,408] Trial 483 finished with value: 0.6633064516129032 and parameters: {'n_estimators': 45, 'eta': 0.05485271659030426, 'max_depth': 12, 'subsample': 0.555065404546933, 'colsample_bytree': 0.857358619193095, 'lambda': 40.38932893767204}. Best is trial 83 with value: 0.6814516129032258.\n",
      "[I 2023-06-06 17:05:36,806] Trial 484 finished with value: 0.6612903225806451 and parameters: {'n_estimators': 35, 'eta': 0.06758593630293577, 'max_depth': 15, 'subsample': 0.9402202644431725, 'colsample_bytree': 0.16957634090570767, 'lambda': 163.3362996171877}. Best is trial 83 with value: 0.6814516129032258.\n",
      "[I 2023-06-06 17:05:37,527] Trial 485 finished with value: 0.6653225806451613 and parameters: {'n_estimators': 29, 'eta': 0.028562720333254764, 'max_depth': 13, 'subsample': 0.9244320043181162, 'colsample_bytree': 0.6900944090343829, 'lambda': 19.175689127451143}. Best is trial 83 with value: 0.6814516129032258.\n"
     ]
    },
    {
     "name": "stderr",
     "output_type": "stream",
     "text": [
      "[I 2023-06-06 17:05:38,846] Trial 486 finished with value: 0.6612903225806451 and parameters: {'n_estimators': 41, 'eta': 0.058011645255550436, 'max_depth': 15, 'subsample': 0.8204687727876533, 'colsample_bytree': 0.9811628148577956, 'lambda': 11.131892599103077}. Best is trial 83 with value: 0.6814516129032258.\n",
      "[I 2023-06-06 17:05:39,539] Trial 487 finished with value: 0.6633064516129032 and parameters: {'n_estimators': 28, 'eta': 0.03587772255070706, 'max_depth': 11, 'subsample': 0.8883189320425923, 'colsample_bytree': 0.7117912441315147, 'lambda': 62.675288211422526}. Best is trial 83 with value: 0.6814516129032258.\n",
      "[I 2023-06-06 17:05:40,764] Trial 488 finished with value: 0.6612903225806451 and parameters: {'n_estimators': 48, 'eta': 0.03185796492849811, 'max_depth': 14, 'subsample': 0.6287680250726382, 'colsample_bytree': 0.886380389976767, 'lambda': 44.613855992249455}. Best is trial 83 with value: 0.6814516129032258.\n",
      "[I 2023-06-06 17:05:41,387] Trial 489 finished with value: 0.657258064516129 and parameters: {'n_estimators': 40, 'eta': 0.09279419216540212, 'max_depth': 12, 'subsample': 0.9451527881038909, 'colsample_bytree': 0.36365327165650374, 'lambda': 38.65162404554804}. Best is trial 83 with value: 0.6814516129032258.\n",
      "[I 2023-06-06 17:05:42,683] Trial 490 finished with value: 0.6733870967741935 and parameters: {'n_estimators': 35, 'eta': 0.04567382315630415, 'max_depth': 15, 'subsample': 0.9686000549167362, 'colsample_bytree': 0.9608932022476259, 'lambda': 25.955859911630515}. Best is trial 83 with value: 0.6814516129032258.\n",
      "[I 2023-06-06 17:05:43,305] Trial 491 finished with value: 0.6491935483870968 and parameters: {'n_estimators': 35, 'eta': 0.047980646430259656, 'max_depth': 5, 'subsample': 0.9917574624845126, 'colsample_bytree': 0.9736936564719901, 'lambda': 24.65858603386526}. Best is trial 83 with value: 0.6814516129032258.\n",
      "[I 2023-06-06 17:05:44,684] Trial 492 finished with value: 0.6451612903225806 and parameters: {'n_estimators': 35, 'eta': 0.04389086159523278, 'max_depth': 15, 'subsample': 0.9675787805449875, 'colsample_bytree': 0.9666959730832674, 'lambda': 4.723891209353183}. Best is trial 83 with value: 0.6814516129032258.\n",
      "[I 2023-06-06 17:05:45,883] Trial 493 finished with value: 0.6733870967741935 and parameters: {'n_estimators': 34, 'eta': 0.044821658225321796, 'max_depth': 15, 'subsample': 0.9811899505628667, 'colsample_bytree': 0.8219857965968429, 'lambda': 21.485453403345424}. Best is trial 83 with value: 0.6814516129032258.\n",
      "[I 2023-06-06 17:05:47,036] Trial 494 finished with value: 0.6653225806451613 and parameters: {'n_estimators': 35, 'eta': 0.045961368349707474, 'max_depth': 15, 'subsample': 0.9963649172558596, 'colsample_bytree': 0.8209758489274609, 'lambda': 23.121542687515568}. Best is trial 83 with value: 0.6814516129032258.\n",
      "[I 2023-06-06 17:05:48,181] Trial 495 finished with value: 0.6653225806451613 and parameters: {'n_estimators': 34, 'eta': 0.04724080733297083, 'max_depth': 15, 'subsample': 0.9999394190404307, 'colsample_bytree': 0.8063756199353361, 'lambda': 20.13064437490102}. Best is trial 83 with value: 0.6814516129032258.\n",
      "[I 2023-06-06 17:05:49,335] Trial 496 finished with value: 0.6693548387096774 and parameters: {'n_estimators': 33, 'eta': 0.04494804869115199, 'max_depth': 15, 'subsample': 0.9788657729162825, 'colsample_bytree': 0.837840909710577, 'lambda': 20.788385113775263}. Best is trial 83 with value: 0.6814516129032258.\n",
      "[I 2023-06-06 17:05:50,681] Trial 497 finished with value: 0.6713709677419355 and parameters: {'n_estimators': 34, 'eta': 0.04972165845385553, 'max_depth': 15, 'subsample': 0.9597501591210563, 'colsample_bytree': 0.9990856123372501, 'lambda': 16.689233844291273}. Best is trial 83 with value: 0.6814516129032258.\n",
      "[I 2023-06-06 17:05:52,193] Trial 498 finished with value: 0.6532258064516129 and parameters: {'n_estimators': 44, 'eta': 0.041977855310951634, 'max_depth': 15, 'subsample': 0.9810307606932034, 'colsample_bytree': 0.8270696153729914, 'lambda': 27.083743907574476}. Best is trial 83 with value: 0.6814516129032258.\n",
      "[I 2023-06-06 17:05:53,527] Trial 499 finished with value: 0.6673387096774194 and parameters: {'n_estimators': 33, 'eta': 0.021269797314098324, 'max_depth': 15, 'subsample': 0.9532992290850186, 'colsample_bytree': 0.7845684272829868, 'lambda': 14.282380398108144}. Best is trial 83 with value: 0.6814516129032258.\n",
      "[I 2023-06-06 17:05:54,784] Trial 500 finished with value: 0.6633064516129032 and parameters: {'n_estimators': 34, 'eta': 0.04419312016317501, 'max_depth': 15, 'subsample': 0.9687190724715111, 'colsample_bytree': 0.8533018550286554, 'lambda': 23.159592825433286}. Best is trial 83 with value: 0.6814516129032258.\n",
      "[I 2023-06-06 17:05:56,032] Trial 501 finished with value: 0.6612903225806451 and parameters: {'n_estimators': 34, 'eta': 0.04035516013545685, 'max_depth': 15, 'subsample': 0.9342004981351805, 'colsample_bytree': 0.8134056515455584, 'lambda': 18.23095917814825}. Best is trial 83 with value: 0.6814516129032258.\n",
      "[I 2023-06-06 17:05:56,812] Trial 502 finished with value: 0.6471774193548387 and parameters: {'n_estimators': 35, 'eta': 0.04642864278690344, 'max_depth': 15, 'subsample': 0.9505712334022292, 'colsample_bytree': 0.402429074223775, 'lambda': 0.8943361857421024}. Best is trial 83 with value: 0.6814516129032258.\n",
      "[I 2023-06-06 17:05:57,541] Trial 503 finished with value: 0.6592741935483871 and parameters: {'n_estimators': 35, 'eta': 0.043180053657330596, 'max_depth': 15, 'subsample': 0.4697403245533304, 'colsample_bytree': 0.7616491305564757, 'lambda': 26.6510894077986}. Best is trial 83 with value: 0.6814516129032258.\n",
      "[I 2023-06-06 17:05:58,602] Trial 504 finished with value: 0.6673387096774194 and parameters: {'n_estimators': 33, 'eta': 0.05147959889028595, 'max_depth': 15, 'subsample': 0.979078521766136, 'colsample_bytree': 0.7726968214652223, 'lambda': 21.53859381607366}. Best is trial 83 with value: 0.6814516129032258.\n",
      "[I 2023-06-06 17:05:59,558] Trial 505 finished with value: 0.6633064516129032 and parameters: {'n_estimators': 34, 'eta': 0.048960810776035694, 'max_depth': 14, 'subsample': 0.9158370134064867, 'colsample_bytree': 0.6457106713710052, 'lambda': 31.488072599942132}. Best is trial 83 with value: 0.6814516129032258.\n",
      "[I 2023-06-06 17:06:00,617] Trial 506 finished with value: 0.6693548387096774 and parameters: {'n_estimators': 35, 'eta': 0.045441478486804396, 'max_depth': 15, 'subsample': 0.9631488483424487, 'colsample_bytree': 0.7256654818438238, 'lambda': 26.183588428754504}. Best is trial 83 with value: 0.6814516129032258.\n",
      "[I 2023-06-06 17:06:01,225] Trial 507 finished with value: 0.6471774193548387 and parameters: {'n_estimators': 42, 'eta': 0.03847605671382114, 'max_depth': 15, 'subsample': 0.3008010671373519, 'colsample_bytree': 0.8013181151991055, 'lambda': 2.1862337098349034}. Best is trial 83 with value: 0.6814516129032258.\n",
      "[I 2023-06-06 17:06:02,128] Trial 508 finished with value: 0.655241935483871 and parameters: {'n_estimators': 36, 'eta': 0.09989295806515651, 'max_depth': 15, 'subsample': 0.9336534704216086, 'colsample_bytree': 0.6187472670816362, 'lambda': 5.277837779403376}. Best is trial 83 with value: 0.6814516129032258.\n",
      "[I 2023-06-06 17:06:02,702] Trial 509 finished with value: 0.6653225806451613 and parameters: {'n_estimators': 39, 'eta': 0.04203163058546901, 'max_depth': 15, 'subsample': 0.9475880903677645, 'colsample_bytree': 0.2522973888120754, 'lambda': 9.043524600633317}. Best is trial 83 with value: 0.6814516129032258.\n",
      "[I 2023-06-06 17:06:03,884] Trial 510 finished with value: 0.6612903225806451 and parameters: {'n_estimators': 35, 'eta': 0.03424598009776999, 'max_depth': 14, 'subsample': 0.982093696529006, 'colsample_bytree': 0.8610752313418486, 'lambda': 18.100555074361555}. Best is trial 83 with value: 0.6814516129032258.\n",
      "[I 2023-06-06 17:06:05,109] Trial 511 finished with value: 0.6612903225806451 and parameters: {'n_estimators': 38, 'eta': 0.014394724429716963, 'max_depth': 15, 'subsample': 0.9144488632598341, 'colsample_bytree': 0.8331464711913618, 'lambda': 15.13027667712462}. Best is trial 83 with value: 0.6814516129032258.\n",
      "[I 2023-06-06 17:06:05,645] Trial 512 finished with value: 0.6592741935483871 and parameters: {'n_estimators': 34, 'eta': 0.05318873182054126, 'max_depth': 13, 'subsample': 0.37879979594568125, 'colsample_bytree': 0.7369514786160762, 'lambda': 34.0704428310446}. Best is trial 83 with value: 0.6814516129032258.\n"
     ]
    },
    {
     "name": "stderr",
     "output_type": "stream",
     "text": [
      "[I 2023-06-06 17:06:06,566] Trial 513 finished with value: 0.6713709677419355 and parameters: {'n_estimators': 36, 'eta': 0.0476020022586788, 'max_depth': 11, 'subsample': 0.9645504826904983, 'colsample_bytree': 0.7894078425725783, 'lambda': 23.445061459828583}. Best is trial 83 with value: 0.6814516129032258.\n",
      "[I 2023-06-06 17:06:07,452] Trial 514 finished with value: 0.6653225806451613 and parameters: {'n_estimators': 39, 'eta': 0.03846559943013409, 'max_depth': 15, 'subsample': 0.6159570657504363, 'colsample_bytree': 0.7022452046651289, 'lambda': 29.41218672777459}. Best is trial 83 with value: 0.6814516129032258.\n",
      "[I 2023-06-06 17:06:08,341] Trial 515 finished with value: 0.6653225806451613 and parameters: {'n_estimators': 34, 'eta': 0.030699785244131188, 'max_depth': 13, 'subsample': 0.9996658670659777, 'colsample_bytree': 0.6597612709096897, 'lambda': 36.48516334930256}. Best is trial 83 with value: 0.6814516129032258.\n",
      "[I 2023-06-06 17:06:09,202] Trial 516 finished with value: 0.6532258064516129 and parameters: {'n_estimators': 40, 'eta': 0.03300460299545833, 'max_depth': 14, 'subsample': 0.9403886574593185, 'colsample_bytree': 0.48205040499385476, 'lambda': 12.313716937661741}. Best is trial 83 with value: 0.6814516129032258.\n",
      "[I 2023-06-06 17:06:10,034] Trial 517 finished with value: 0.6592741935483871 and parameters: {'n_estimators': 37, 'eta': 0.040777818549694624, 'max_depth': 11, 'subsample': 0.6438497180173283, 'colsample_bytree': 0.8201822886115698, 'lambda': 18.747780068032522}. Best is trial 83 with value: 0.6814516129032258.\n",
      "[I 2023-06-06 17:06:10,708] Trial 518 finished with value: 0.6431451612903226 and parameters: {'n_estimators': 38, 'eta': 0.03648792254403196, 'max_depth': 15, 'subsample': 0.4340216411885293, 'colsample_bytree': 0.5316417527446251, 'lambda': 1.230065891283477}. Best is trial 83 with value: 0.6814516129032258.\n",
      "[I 2023-06-06 17:06:11,320] Trial 519 finished with value: 0.6633064516129032 and parameters: {'n_estimators': 35, 'eta': 0.08822278835266457, 'max_depth': 12, 'subsample': 0.9717828913581358, 'colsample_bytree': 0.37707097906628995, 'lambda': 42.01445495522394}. Best is trial 83 with value: 0.6814516129032258.\n",
      "[I 2023-06-06 17:06:11,711] Trial 520 finished with value: 0.6633064516129032 and parameters: {'n_estimators': 36, 'eta': 0.02695130029390635, 'max_depth': 11, 'subsample': 0.5056770509699346, 'colsample_bytree': 0.3382345764045602, 'lambda': 26.9747487826381}. Best is trial 83 with value: 0.6814516129032258.\n",
      "[I 2023-06-06 17:06:12,748] Trial 521 finished with value: 0.6592741935483871 and parameters: {'n_estimators': 35, 'eta': 0.04965907211140895, 'max_depth': 15, 'subsample': 0.6641779294799925, 'colsample_bytree': 0.9517354690349384, 'lambda': 30.92937441653548}. Best is trial 83 with value: 0.6814516129032258.\n",
      "[I 2023-06-06 17:06:13,929] Trial 522 finished with value: 0.6713709677419355 and parameters: {'n_estimators': 38, 'eta': 0.03453868184711249, 'max_depth': 13, 'subsample': 0.9213136606527847, 'colsample_bytree': 0.869867620293381, 'lambda': 20.617895958372277}. Best is trial 83 with value: 0.6814516129032258.\n",
      "[I 2023-06-06 17:06:14,806] Trial 523 finished with value: 0.6612903225806451 and parameters: {'n_estimators': 34, 'eta': 0.054620225552144804, 'max_depth': 15, 'subsample': 0.9528633923371035, 'colsample_bytree': 0.5839867309180684, 'lambda': 46.212521706454396}. Best is trial 83 with value: 0.6814516129032258.\n",
      "[I 2023-06-06 17:06:15,964] Trial 524 finished with value: 0.6673387096774194 and parameters: {'n_estimators': 39, 'eta': 0.020445435632918434, 'max_depth': 11, 'subsample': 0.8970820702675443, 'colsample_bytree': 0.9806706642715886, 'lambda': 16.16183213437017}. Best is trial 83 with value: 0.6814516129032258.\n",
      "[I 2023-06-06 17:06:16,306] Trial 525 finished with value: 0.6209677419354839 and parameters: {'n_estimators': 36, 'eta': 0.09506793799736045, 'max_depth': 14, 'subsample': 0.18273121565210304, 'colsample_bytree': 0.8412629724978484, 'lambda': 6.228920488072575}. Best is trial 83 with value: 0.6814516129032258.\n",
      "[I 2023-06-06 17:06:17,101] Trial 526 finished with value: 0.6633064516129032 and parameters: {'n_estimators': 37, 'eta': 0.05151093108322837, 'max_depth': 15, 'subsample': 0.9824877755344876, 'colsample_bytree': 0.4435387283535396, 'lambda': 50.712024420085314}. Best is trial 83 with value: 0.6814516129032258.\n",
      "[I 2023-06-06 17:06:18,022] Trial 527 finished with value: 0.6612903225806451 and parameters: {'n_estimators': 32, 'eta': 0.044799479609651416, 'max_depth': 13, 'subsample': 0.9313720075357673, 'colsample_bytree': 0.7750006223284244, 'lambda': 36.4613220715142}. Best is trial 83 with value: 0.6814516129032258.\n",
      "[I 2023-06-06 17:06:18,597] Trial 528 finished with value: 0.657258064516129 and parameters: {'n_estimators': 35, 'eta': 0.030078930020639272, 'max_depth': 12, 'subsample': 0.5585169884536157, 'colsample_bytree': 0.6031117973422822, 'lambda': 7.400032803290382}. Best is trial 83 with value: 0.6814516129032258.\n",
      "[I 2023-06-06 17:06:19,493] Trial 529 finished with value: 0.6774193548387096 and parameters: {'n_estimators': 33, 'eta': 0.05794207509343185, 'max_depth': 11, 'subsample': 0.9650355914006171, 'colsample_bytree': 0.798399574081196, 'lambda': 23.83420964505735}. Best is trial 83 with value: 0.6814516129032258.\n",
      "[I 2023-06-06 17:06:20,309] Trial 530 finished with value: 0.6713709677419355 and parameters: {'n_estimators': 32, 'eta': 0.05830541886424859, 'max_depth': 11, 'subsample': 0.949892251015142, 'colsample_bytree': 0.7466754159758819, 'lambda': 25.382895528444145}. Best is trial 83 with value: 0.6814516129032258.\n",
      "[I 2023-06-06 17:06:21,165] Trial 531 finished with value: 0.6592741935483871 and parameters: {'n_estimators': 33, 'eta': 0.05595296350057063, 'max_depth': 11, 'subsample': 0.9104124034042237, 'colsample_bytree': 0.7967800159221763, 'lambda': 107.46954230203548}. Best is trial 83 with value: 0.6814516129032258.\n",
      "[I 2023-06-06 17:06:21,595] Trial 532 finished with value: 0.6612903225806451 and parameters: {'n_estimators': 33, 'eta': 0.05272320752329996, 'max_depth': 11, 'subsample': 0.28982592192761225, 'colsample_bytree': 0.7714009402480843, 'lambda': 146.37188782215202}. Best is trial 83 with value: 0.6814516129032258.\n",
      "[I 2023-06-06 17:06:22,280] Trial 533 finished with value: 0.6612903225806451 and parameters: {'n_estimators': 40, 'eta': 0.028386473211692003, 'max_depth': 11, 'subsample': 0.5456380526078703, 'colsample_bytree': 0.6871564982479513, 'lambda': 10.248809816456058}. Best is trial 83 with value: 0.6814516129032258.\n",
      "[I 2023-06-06 17:06:23,105] Trial 534 finished with value: 0.6592741935483871 and parameters: {'n_estimators': 39, 'eta': 0.05948770388624573, 'max_depth': 11, 'subsample': 0.9618715771255066, 'colsample_bytree': 0.568628137866929, 'lambda': 3.7850523231598885}. Best is trial 83 with value: 0.6814516129032258.\n",
      "[I 2023-06-06 17:06:23,697] Trial 535 finished with value: 0.6693548387096774 and parameters: {'n_estimators': 32, 'eta': 0.06254907520860477, 'max_depth': 11, 'subsample': 0.9301803288917327, 'colsample_bytree': 0.45391537122120545, 'lambda': 31.621981343122005}. Best is trial 83 with value: 0.6814516129032258.\n",
      "[I 2023-06-06 17:06:24,588] Trial 536 finished with value: 0.6713709677419355 and parameters: {'n_estimators': 37, 'eta': 0.026266873766984323, 'max_depth': 11, 'subsample': 0.9450422168262084, 'colsample_bytree': 0.7248558027784479, 'lambda': 40.664087112442125}. Best is trial 83 with value: 0.6814516129032258.\n",
      "[I 2023-06-06 17:06:25,371] Trial 537 finished with value: 0.6633064516129032 and parameters: {'n_estimators': 38, 'eta': 0.032452990844772586, 'max_depth': 12, 'subsample': 0.8876797059631742, 'colsample_bytree': 0.5414285676641605, 'lambda': 0.6066334762130672}. Best is trial 83 with value: 0.6814516129032258.\n",
      "[I 2023-06-06 17:06:26,618] Trial 538 finished with value: 0.6592741935483871 and parameters: {'n_estimators': 41, 'eta': 0.05354055717367557, 'max_depth': 11, 'subsample': 0.9610065409508557, 'colsample_bytree': 0.9405805908292952, 'lambda': 4.547200152821829}. Best is trial 83 with value: 0.6814516129032258.\n",
      "[I 2023-06-06 17:06:27,224] Trial 539 finished with value: 0.6612903225806451 and parameters: {'n_estimators': 36, 'eta': 0.05634136526236162, 'max_depth': 11, 'subsample': 0.5731164365455864, 'colsample_bytree': 0.5143679360975068, 'lambda': 35.036740207119706}. Best is trial 83 with value: 0.6814516129032258.\n"
     ]
    },
    {
     "name": "stderr",
     "output_type": "stream",
     "text": [
      "[I 2023-06-06 17:06:27,965] Trial 540 finished with value: 0.6612903225806451 and parameters: {'n_estimators': 33, 'eta': 0.035578609284050565, 'max_depth': 12, 'subsample': 0.6453379727151577, 'colsample_bytree': 0.7522318168203309, 'lambda': 53.221182533356746}. Best is trial 83 with value: 0.6814516129032258.\n",
      "[I 2023-06-06 17:06:29,286] Trial 541 finished with value: 0.657258064516129 and parameters: {'n_estimators': 39, 'eta': 0.03751570925102418, 'max_depth': 13, 'subsample': 0.9245656866628507, 'colsample_bytree': 0.9608898094768217, 'lambda': 27.977679081514694}. Best is trial 83 with value: 0.6814516129032258.\n",
      "[I 2023-06-06 17:06:30,205] Trial 542 finished with value: 0.6612903225806451 and parameters: {'n_estimators': 38, 'eta': 0.08389515393183168, 'max_depth': 11, 'subsample': 0.7298541363353565, 'colsample_bytree': 0.7994780341319438, 'lambda': 44.224827502489866}. Best is trial 83 with value: 0.6814516129032258.\n",
      "[I 2023-06-06 17:06:31,178] Trial 543 finished with value: 0.6612903225806451 and parameters: {'n_estimators': 37, 'eta': 0.051814646348155614, 'max_depth': 13, 'subsample': 0.9428981712086328, 'colsample_bytree': 0.6767007960820006, 'lambda': 24.594836808186756}. Best is trial 83 with value: 0.6814516129032258.\n",
      "[I 2023-06-06 17:06:31,830] Trial 544 finished with value: 0.6754032258064516 and parameters: {'n_estimators': 36, 'eta': 0.03174580301531488, 'max_depth': 11, 'subsample': 0.9042053565634598, 'colsample_bytree': 0.5014538445718943, 'lambda': 14.383883591281208}. Best is trial 83 with value: 0.6814516129032258.\n",
      "[I 2023-06-06 17:06:32,404] Trial 545 finished with value: 0.6592741935483871 and parameters: {'n_estimators': 36, 'eta': 0.030416930990115866, 'max_depth': 11, 'subsample': 0.8992449648941687, 'colsample_bytree': 0.424440225419357, 'lambda': 14.19774699432402}. Best is trial 83 with value: 0.6814516129032258.\n",
      "[I 2023-06-06 17:06:32,961] Trial 546 finished with value: 0.6592741935483871 and parameters: {'n_estimators': 37, 'eta': 0.0333005863269551, 'max_depth': 11, 'subsample': 0.5942176243640691, 'colsample_bytree': 0.4897635384875645, 'lambda': 13.985927277424645}. Best is trial 83 with value: 0.6814516129032258.\n",
      "[I 2023-06-06 17:06:33,600] Trial 547 finished with value: 0.655241935483871 and parameters: {'n_estimators': 36, 'eta': 0.03208406294541678, 'max_depth': 11, 'subsample': 0.8815435223762751, 'colsample_bytree': 0.465215171606415, 'lambda': 1.2216251873474755}. Best is trial 83 with value: 0.6814516129032258.\n",
      "[I 2023-06-06 17:06:33,963] Trial 548 finished with value: 0.6633064516129032 and parameters: {'n_estimators': 36, 'eta': 0.03163309273403941, 'max_depth': 11, 'subsample': 0.8662275949023632, 'colsample_bytree': 0.17755428156414094, 'lambda': 15.749112525230577}. Best is trial 83 with value: 0.6814516129032258.\n",
      "[I 2023-06-06 17:06:34,595] Trial 549 finished with value: 0.6612903225806451 and parameters: {'n_estimators': 37, 'eta': 0.029522443331860358, 'max_depth': 11, 'subsample': 0.9066772240363956, 'colsample_bytree': 0.48765804970847443, 'lambda': 126.90560133021677}. Best is trial 83 with value: 0.6814516129032258.\n",
      "[I 2023-06-06 17:06:35,613] Trial 550 finished with value: 0.6673387096774194 and parameters: {'n_estimators': 38, 'eta': 0.03529666254526807, 'max_depth': 10, 'subsample': 0.9156968402025649, 'colsample_bytree': 0.8862902484295688, 'lambda': 17.27869120157285}. Best is trial 83 with value: 0.6814516129032258.\n",
      "[I 2023-06-06 17:06:36,720] Trial 551 finished with value: 0.6673387096774194 and parameters: {'n_estimators': 39, 'eta': 0.028303405167909676, 'max_depth': 12, 'subsample': 0.9242804840917958, 'colsample_bytree': 0.8527880253453881, 'lambda': 12.43707604223127}. Best is trial 83 with value: 0.6814516129032258.\n",
      "[I 2023-06-06 17:06:37,109] Trial 552 finished with value: 0.6633064516129032 and parameters: {'n_estimators': 37, 'eta': 0.03353404084867851, 'max_depth': 11, 'subsample': 0.3208031595901433, 'colsample_bytree': 0.5307370211711661, 'lambda': 19.418811528879143}. Best is trial 83 with value: 0.6814516129032258.\n",
      "[I 2023-06-06 17:06:37,770] Trial 553 finished with value: 0.6612903225806451 and parameters: {'n_estimators': 36, 'eta': 0.03139827404872956, 'max_depth': 11, 'subsample': 0.8620770034921112, 'colsample_bytree': 0.5137873706468127, 'lambda': 9.61290575432435}. Best is trial 83 with value: 0.6814516129032258.\n",
      "[I 2023-06-06 17:06:38,400] Trial 554 finished with value: 0.655241935483871 and parameters: {'n_estimators': 40, 'eta': 0.03701387915638089, 'max_depth': 11, 'subsample': 0.9003870753781424, 'colsample_bytree': 0.44171239034687115, 'lambda': 1.6078050073446841}. Best is trial 83 with value: 0.6814516129032258.\n",
      "[I 2023-06-06 17:06:38,712] Trial 555 finished with value: 0.6612903225806451 and parameters: {'n_estimators': 38, 'eta': 0.058075238726395716, 'max_depth': 11, 'subsample': 0.3670360596112866, 'colsample_bytree': 0.28478720099785293, 'lambda': 47.76647461420208}. Best is trial 83 with value: 0.6814516129032258.\n",
      "[I 2023-06-06 17:06:39,000] Trial 556 finished with value: 0.6532258064516129 and parameters: {'n_estimators': 36, 'eta': 0.018958068782339115, 'max_depth': 12, 'subsample': 0.2352149935761334, 'colsample_bytree': 0.47260993886598684, 'lambda': 3.165770048564622}. Best is trial 83 with value: 0.6814516129032258.\n",
      "[I 2023-06-06 17:06:39,594] Trial 557 finished with value: 0.6633064516129032 and parameters: {'n_estimators': 39, 'eta': 0.033807362810901735, 'max_depth': 10, 'subsample': 0.935188307315285, 'colsample_bytree': 0.42641277813952677, 'lambda': 39.24064029712679}. Best is trial 83 with value: 0.6814516129032258.\n",
      "[I 2023-06-06 17:06:40,379] Trial 558 finished with value: 0.6491935483870968 and parameters: {'n_estimators': 38, 'eta': 0.09051346030085292, 'max_depth': 13, 'subsample': 0.5245234643138608, 'colsample_bytree': 0.780310514420679, 'lambda': 10.773744392044366}. Best is trial 83 with value: 0.6814516129032258.\n",
      "[I 2023-06-06 17:06:41,082] Trial 559 finished with value: 0.657258064516129 and parameters: {'n_estimators': 37, 'eta': 0.060742555696300604, 'max_depth': 11, 'subsample': 0.9498853327094483, 'colsample_bytree': 0.5014376395901138, 'lambda': 0.42087786120404924}. Best is trial 83 with value: 0.6814516129032258.\n",
      "[I 2023-06-06 17:06:41,718] Trial 560 finished with value: 0.6633064516129032 and parameters: {'n_estimators': 33, 'eta': 0.03905476767961826, 'max_depth': 11, 'subsample': 0.6070415729426522, 'colsample_bytree': 0.7094043096787972, 'lambda': 57.15269046385614}. Best is trial 83 with value: 0.6814516129032258.\n",
      "[I 2023-06-06 17:06:42,289] Trial 561 finished with value: 0.657258064516129 and parameters: {'n_estimators': 35, 'eta': 0.024874635671380364, 'max_depth': 12, 'subsample': 0.42663567899336324, 'colsample_bytree': 0.7500026505222491, 'lambda': 17.521915742202605}. Best is trial 83 with value: 0.6814516129032258.\n",
      "[I 2023-06-06 17:06:43,119] Trial 562 finished with value: 0.6693548387096774 and parameters: {'n_estimators': 32, 'eta': 0.05520448872477482, 'max_depth': 13, 'subsample': 0.8837303465312767, 'colsample_bytree': 0.5414876040319124, 'lambda': 0.28102073959364443}. Best is trial 83 with value: 0.6814516129032258.\n",
      "[I 2023-06-06 17:06:44,111] Trial 563 finished with value: 0.6612903225806451 and parameters: {'n_estimators': 40, 'eta': 0.034740729404156144, 'max_depth': 11, 'subsample': 0.9841956820584113, 'colsample_bytree': 0.7299517868807387, 'lambda': 13.306540405965393}. Best is trial 83 with value: 0.6814516129032258.\n",
      "[I 2023-06-06 17:06:44,730] Trial 564 finished with value: 0.6592741935483871 and parameters: {'n_estimators': 41, 'eta': 0.03587069551903405, 'max_depth': 11, 'subsample': 0.48798186364474866, 'colsample_bytree': 0.6299192223636906, 'lambda': 74.10526897776799}. Best is trial 83 with value: 0.6814516129032258.\n",
      "[I 2023-06-06 17:06:45,415] Trial 565 finished with value: 0.6774193548387096 and parameters: {'n_estimators': 39, 'eta': 0.031003832393306407, 'max_depth': 10, 'subsample': 0.9095103234750244, 'colsample_bytree': 0.4870327889340949, 'lambda': 5.391766243176309}. Best is trial 83 with value: 0.6814516129032258.\n",
      "[I 2023-06-06 17:06:46,177] Trial 566 finished with value: 0.6592741935483871 and parameters: {'n_estimators': 39, 'eta': 0.029286812785985786, 'max_depth': 11, 'subsample': 0.9172378007933067, 'colsample_bytree': 0.4753444775934641, 'lambda': 41.63110365337733}. Best is trial 83 with value: 0.6814516129032258.\n"
     ]
    },
    {
     "name": "stderr",
     "output_type": "stream",
     "text": [
      "[I 2023-06-06 17:06:46,822] Trial 567 finished with value: 0.657258064516129 and parameters: {'n_estimators': 39, 'eta': 0.049542307140298704, 'max_depth': 10, 'subsample': 0.7663870205422807, 'colsample_bytree': 0.4664688240603824, 'lambda': 5.5483631249845295}. Best is trial 83 with value: 0.6814516129032258.\n",
      "[I 2023-06-06 17:06:47,533] Trial 568 finished with value: 0.655241935483871 and parameters: {'n_estimators': 38, 'eta': 0.07900975315665831, 'max_depth': 10, 'subsample': 0.9666968860480415, 'colsample_bytree': 0.5048950458853609, 'lambda': 6.354434787208988}. Best is trial 83 with value: 0.6814516129032258.\n",
      "[I 2023-06-06 17:06:48,027] Trial 569 finished with value: 0.6592741935483871 and parameters: {'n_estimators': 40, 'eta': 0.03795632072406256, 'max_depth': 11, 'subsample': 0.5000509627040184, 'colsample_bytree': 0.4091907005917516, 'lambda': 33.03400697362178}. Best is trial 83 with value: 0.6814516129032258.\n",
      "[I 2023-06-06 17:06:48,712] Trial 570 finished with value: 0.6673387096774194 and parameters: {'n_estimators': 39, 'eta': 0.027483697224703934, 'max_depth': 10, 'subsample': 0.9382131554244042, 'colsample_bytree': 0.5264969775604396, 'lambda': 5.052032101230002}. Best is trial 83 with value: 0.6814516129032258.\n",
      "[I 2023-06-06 17:06:49,514] Trial 571 finished with value: 0.6592741935483871 and parameters: {'n_estimators': 40, 'eta': 0.08490951497385558, 'max_depth': 10, 'subsample': 0.9978919054914885, 'colsample_bytree': 0.5576960907414843, 'lambda': 50.402443010141255}. Best is trial 83 with value: 0.6814516129032258.\n",
      "[I 2023-06-06 17:06:50,254] Trial 572 finished with value: 0.6693548387096774 and parameters: {'n_estimators': 38, 'eta': 0.02572562154477676, 'max_depth': 12, 'subsample': 0.9558874629188011, 'colsample_bytree': 0.4916206704858173, 'lambda': 38.09789781490039}. Best is trial 83 with value: 0.6814516129032258.\n",
      "[I 2023-06-06 17:06:50,997] Trial 573 finished with value: 0.6592741935483871 and parameters: {'n_estimators': 39, 'eta': 0.05423937343607576, 'max_depth': 11, 'subsample': 0.9305216582623138, 'colsample_bytree': 0.49288890962553467, 'lambda': 61.63408475826192}. Best is trial 83 with value: 0.6814516129032258.\n",
      "[I 2023-06-06 17:06:51,361] Trial 574 finished with value: 0.6592741935483871 and parameters: {'n_estimators': 36, 'eta': 0.06278694599254939, 'max_depth': 13, 'subsample': 0.27439925568362156, 'colsample_bytree': 0.5039164892880238, 'lambda': 7.115423885719495}. Best is trial 83 with value: 0.6814516129032258.\n",
      "[I 2023-06-06 17:06:52,046] Trial 575 finished with value: 0.6471774193548387 and parameters: {'n_estimators': 37, 'eta': 0.05143491671945018, 'max_depth': 13, 'subsample': 0.6675664689433212, 'colsample_bytree': 0.54571360386919, 'lambda': 5.590196467891896}. Best is trial 83 with value: 0.6814516129032258.\n",
      "[I 2023-06-06 17:06:52,682] Trial 576 finished with value: 0.6612903225806451 and parameters: {'n_estimators': 41, 'eta': 0.03035375341131367, 'max_depth': 11, 'subsample': 0.3867820577591846, 'colsample_bytree': 0.8124161519766951, 'lambda': 45.28573120972575}. Best is trial 83 with value: 0.6814516129032258.\n",
      "[I 2023-06-06 17:06:53,238] Trial 577 finished with value: 0.6532258064516129 and parameters: {'n_estimators': 39, 'eta': 0.057212486988386234, 'max_depth': 12, 'subsample': 0.5370002987383533, 'colsample_bytree': 0.4656290158488055, 'lambda': 4.864152560123796}. Best is trial 83 with value: 0.6814516129032258.\n",
      "[I 2023-06-06 17:06:54,078] Trial 578 finished with value: 0.655241935483871 and parameters: {'n_estimators': 38, 'eta': 0.03329417644736086, 'max_depth': 11, 'subsample': 0.7000269453359622, 'colsample_bytree': 0.7666425563305203, 'lambda': 6.391800671351933}. Best is trial 83 with value: 0.6814516129032258.\n",
      "[I 2023-06-06 17:06:54,898] Trial 579 finished with value: 0.6653225806451613 and parameters: {'n_estimators': 37, 'eta': 0.010843251073207908, 'max_depth': 13, 'subsample': 0.7095052483365207, 'colsample_bytree': 0.5182678250464023, 'lambda': 3.6471825378882365}. Best is trial 83 with value: 0.6814516129032258.\n",
      "[I 2023-06-06 17:06:56,069] Trial 580 finished with value: 0.657258064516129 and parameters: {'n_estimators': 43, 'eta': 0.039793972887928554, 'max_depth': 10, 'subsample': 0.9727312828255267, 'colsample_bytree': 0.7903012868812859, 'lambda': 4.4848310507321285}. Best is trial 83 with value: 0.6814516129032258.\n",
      "[I 2023-06-06 17:06:56,916] Trial 581 finished with value: 0.6451612903225806 and parameters: {'n_estimators': 35, 'eta': 0.08878172867590588, 'max_depth': 14, 'subsample': 0.5774783665496523, 'colsample_bytree': 0.8589899661382444, 'lambda': 11.99939388313263}. Best is trial 83 with value: 0.6814516129032258.\n",
      "[I 2023-06-06 17:06:57,468] Trial 582 finished with value: 0.655241935483871 and parameters: {'n_estimators': 39, 'eta': 0.03531475289368106, 'max_depth': 11, 'subsample': 0.47172565224783813, 'colsample_bytree': 0.5631738438941623, 'lambda': 8.065813421695577}. Best is trial 83 with value: 0.6814516129032258.\n",
      "[I 2023-06-06 17:06:57,755] Trial 583 finished with value: 0.6370967741935484 and parameters: {'n_estimators': 38, 'eta': 0.09390365350334763, 'max_depth': 11, 'subsample': 0.3531782093214335, 'colsample_bytree': 0.2472792868824754, 'lambda': 4.342293674564281}. Best is trial 83 with value: 0.6814516129032258.\n",
      "[I 2023-06-06 17:06:58,704] Trial 584 finished with value: 0.6612903225806451 and parameters: {'n_estimators': 36, 'eta': 0.01854088534486993, 'max_depth': 12, 'subsample': 0.9089748105706164, 'colsample_bytree': 0.8041781844361746, 'lambda': 89.54899720723934}. Best is trial 83 with value: 0.6814516129032258.\n",
      "[I 2023-06-06 17:06:59,429] Trial 585 finished with value: 0.6713709677419355 and parameters: {'n_estimators': 35, 'eta': 0.02429723312001672, 'max_depth': 13, 'subsample': 0.9506152281426807, 'colsample_bytree': 0.44586080063542133, 'lambda': 32.234718972076955}. Best is trial 83 with value: 0.6814516129032258.\n",
      "[I 2023-06-06 17:07:00,312] Trial 586 finished with value: 0.6391129032258065 and parameters: {'n_estimators': 37, 'eta': 0.04997672614557362, 'max_depth': 11, 'subsample': 0.6768798019341765, 'colsample_bytree': 0.8286229770510039, 'lambda': 3.7648988575039386}. Best is trial 83 with value: 0.6814516129032258.\n",
      "[I 2023-06-06 17:07:01,021] Trial 587 finished with value: 0.6633064516129032 and parameters: {'n_estimators': 36, 'eta': 0.012737256395171774, 'max_depth': 11, 'subsample': 0.4532397034058236, 'colsample_bytree': 0.8736189944031929, 'lambda': 7.3964768600822115}. Best is trial 83 with value: 0.6814516129032258.\n",
      "[I 2023-06-06 17:07:01,517] Trial 588 finished with value: 0.657258064516129 and parameters: {'n_estimators': 38, 'eta': 0.09994998298907065, 'max_depth': 12, 'subsample': 0.41316167943422843, 'colsample_bytree': 0.5408382385561868, 'lambda': 37.602407945738}. Best is trial 83 with value: 0.6814516129032258.\n",
      "[I 2023-06-06 17:07:02,642] Trial 589 finished with value: 0.6693548387096774 and parameters: {'n_estimators': 40, 'eta': 0.032445109142771794, 'max_depth': 14, 'subsample': 0.9366085759449739, 'colsample_bytree': 0.7579488250762948, 'lambda': 44.88295882867129}. Best is trial 83 with value: 0.6814516129032258.\n",
      "[I 2023-06-06 17:07:03,343] Trial 590 finished with value: 0.6592741935483871 and parameters: {'n_estimators': 40, 'eta': 0.013995970226220998, 'max_depth': 13, 'subsample': 0.46255766939806064, 'colsample_bytree': 0.6963649628656022, 'lambda': 169.78274088463255}. Best is trial 83 with value: 0.6814516129032258.\n",
      "[I 2023-06-06 17:07:03,865] Trial 591 finished with value: 0.6653225806451613 and parameters: {'n_estimators': 27, 'eta': 0.03674734925121333, 'max_depth': 10, 'subsample': 0.9741835149861857, 'colsample_bytree': 0.5988272869335587, 'lambda': 112.50429864408923}. Best is trial 83 with value: 0.6814516129032258.\n",
      "[I 2023-06-06 17:07:04,272] Trial 592 finished with value: 0.6612903225806451 and parameters: {'n_estimators': 36, 'eta': 0.05360211289305212, 'max_depth': 11, 'subsample': 0.7931526125406294, 'colsample_bytree': 0.3110789283247639, 'lambda': 52.915272363853006}. Best is trial 83 with value: 0.6814516129032258.\n",
      "[I 2023-06-06 17:07:04,597] Trial 593 finished with value: 0.6592741935483871 and parameters: {'n_estimators': 39, 'eta': 0.06653803189372698, 'max_depth': 11, 'subsample': 0.14384069542787126, 'colsample_bytree': 0.8386558394623204, 'lambda': 29.31288421911566}. Best is trial 83 with value: 0.6814516129032258.\n"
     ]
    },
    {
     "name": "stderr",
     "output_type": "stream",
     "text": [
      "[I 2023-06-06 17:07:05,661] Trial 594 finished with value: 0.6673387096774194 and parameters: {'n_estimators': 35, 'eta': 0.04077766849125188, 'max_depth': 11, 'subsample': 0.9175748799173504, 'colsample_bytree': 0.9997945620951646, 'lambda': 35.85193651103368}. Best is trial 83 with value: 0.6814516129032258.\n",
      "[I 2023-06-06 17:07:06,643] Trial 595 finished with value: 0.6653225806451613 and parameters: {'n_estimators': 37, 'eta': 0.05933068119264538, 'max_depth': 12, 'subsample': 0.9606800977178879, 'colsample_bytree': 0.7847611049837645, 'lambda': 5.167589864636282}. Best is trial 83 with value: 0.6814516129032258.\n",
      "[I 2023-06-06 17:07:07,671] Trial 596 finished with value: 0.6633064516129032 and parameters: {'n_estimators': 38, 'eta': 0.023001027967303404, 'max_depth': 14, 'subsample': 0.7408681015431775, 'colsample_bytree': 0.8110247581785442, 'lambda': 66.14149409388526}. Best is trial 83 with value: 0.6814516129032258.\n",
      "[I 2023-06-06 17:07:08,936] Trial 597 finished with value: 0.6693548387096774 and parameters: {'n_estimators': 46, 'eta': 0.0747995814822984, 'max_depth': 13, 'subsample': 0.9851492350374578, 'colsample_bytree': 0.7396164454488481, 'lambda': 41.01443363241177}. Best is trial 83 with value: 0.6814516129032258.\n",
      "[I 2023-06-06 17:07:09,809] Trial 598 finished with value: 0.6633064516129032 and parameters: {'n_estimators': 39, 'eta': 0.026745525381725116, 'max_depth': 11, 'subsample': 0.8761470782286795, 'colsample_bytree': 0.7179294738919927, 'lambda': 33.223232409938035}. Best is trial 83 with value: 0.6814516129032258.\n",
      "[I 2023-06-06 17:07:10,605] Trial 599 finished with value: 0.6471774193548387 and parameters: {'n_estimators': 36, 'eta': 0.08178787204325437, 'max_depth': 11, 'subsample': 0.9439699518551564, 'colsample_bytree': 0.6549812007192457, 'lambda': 22.54285732117607}. Best is trial 83 with value: 0.6814516129032258.\n",
      "[I 2023-06-06 17:07:11,159] Trial 600 finished with value: 0.657258064516129 and parameters: {'n_estimators': 35, 'eta': 0.04782801257658778, 'max_depth': 10, 'subsample': 0.9046944234700915, 'colsample_bytree': 0.4577742677902108, 'lambda': 15.035918608177985}. Best is trial 83 with value: 0.6814516129032258.\n",
      "[I 2023-06-06 17:07:12,235] Trial 601 finished with value: 0.6653225806451613 and parameters: {'n_estimators': 37, 'eta': 0.030374497092125415, 'max_depth': 13, 'subsample': 0.9284889926780867, 'colsample_bytree': 0.8467872458295485, 'lambda': 8.420696590532046}. Best is trial 83 with value: 0.6814516129032258.\n",
      "[I 2023-06-06 17:07:13,308] Trial 602 finished with value: 0.6491935483870968 and parameters: {'n_estimators': 38, 'eta': 0.03824127081911796, 'max_depth': 11, 'subsample': 0.9571422559939324, 'colsample_bytree': 0.8994366526791475, 'lambda': 2.417931888993313}. Best is trial 83 with value: 0.6814516129032258.\n",
      "[I 2023-06-06 17:07:13,988] Trial 603 finished with value: 0.657258064516129 and parameters: {'n_estimators': 36, 'eta': 0.03405530125472416, 'max_depth': 12, 'subsample': 0.985451772454723, 'colsample_bytree': 0.4813989182246716, 'lambda': 2.9880339242300393}. Best is trial 83 with value: 0.6814516129032258.\n",
      "[I 2023-06-06 17:07:14,195] Trial 604 finished with value: 0.6612903225806451 and parameters: {'n_estimators': 41, 'eta': 0.028579720942435605, 'max_depth': 13, 'subsample': 0.12001572223782503, 'colsample_bytree': 0.39849691424941963, 'lambda': 48.70776966428345}. Best is trial 83 with value: 0.6814516129032258.\n",
      "[I 2023-06-06 17:07:14,806] Trial 605 finished with value: 0.6612903225806451 and parameters: {'n_estimators': 40, 'eta': 0.056368846955479196, 'max_depth': 14, 'subsample': 0.33309037751565984, 'colsample_bytree': 0.7775086756110963, 'lambda': 57.669210183679155}. Best is trial 83 with value: 0.6814516129032258.\n",
      "[I 2023-06-06 17:07:15,760] Trial 606 finished with value: 0.6733870967741935 and parameters: {'n_estimators': 34, 'eta': 0.042749801136950774, 'max_depth': 11, 'subsample': 0.9669498396921046, 'colsample_bytree': 0.8740136548534939, 'lambda': 29.37194315752522}. Best is trial 83 with value: 0.6814516129032258.\n",
      "[I 2023-06-06 17:07:16,864] Trial 607 finished with value: 0.6693548387096774 and parameters: {'n_estimators': 39, 'eta': 0.051753789963118225, 'max_depth': 12, 'subsample': 0.8432523679437371, 'colsample_bytree': 0.9147052150303097, 'lambda': 39.594157878538184}. Best is trial 83 with value: 0.6814516129032258.\n",
      "[I 2023-06-06 17:07:17,497] Trial 608 finished with value: 0.6330645161290323 and parameters: {'n_estimators': 35, 'eta': 0.03646518179895635, 'max_depth': 11, 'subsample': 0.937641501961985, 'colsample_bytree': 0.5078950830238022, 'lambda': 0.3175009306366143}. Best is trial 83 with value: 0.6814516129032258.\n",
      "[I 2023-06-06 17:07:17,956] Trial 609 finished with value: 0.657258064516129 and parameters: {'n_estimators': 27, 'eta': 0.031063958583504716, 'max_depth': 13, 'subsample': 0.503021056282074, 'colsample_bytree': 0.61700924884201, 'lambda': 11.946734430054708}. Best is trial 83 with value: 0.6814516129032258.\n",
      "[I 2023-06-06 17:07:18,195] Trial 610 finished with value: 0.6391129032258065 and parameters: {'n_estimators': 38, 'eta': 0.07809483426222988, 'max_depth': 10, 'subsample': 0.16593424424406072, 'colsample_bytree': 0.581580680204137, 'lambda': 2.310160012605014}. Best is trial 83 with value: 0.6814516129032258.\n",
      "[I 2023-06-06 17:07:18,967] Trial 611 finished with value: 0.6633064516129032 and parameters: {'n_estimators': 37, 'eta': 0.08522381054686258, 'max_depth': 14, 'subsample': 0.5384184982527358, 'colsample_bytree': 0.7431683002496616, 'lambda': 10.114240934226583}. Best is trial 83 with value: 0.6814516129032258.\n",
      "[I 2023-06-06 17:07:19,929] Trial 612 finished with value: 0.6411290322580645 and parameters: {'n_estimators': 36, 'eta': 0.03242821332881438, 'max_depth': 11, 'subsample': 0.8999347737467105, 'colsample_bytree': 0.7967817175233405, 'lambda': 0.21181460972478788}. Best is trial 83 with value: 0.6814516129032258.\n",
      "[I 2023-06-06 17:07:20,883] Trial 613 finished with value: 0.6693548387096774 and parameters: {'n_estimators': 42, 'eta': 0.06088135210023373, 'max_depth': 12, 'subsample': 0.8673641840122013, 'colsample_bytree': 0.6665647798629319, 'lambda': 33.28951266329465}. Best is trial 83 with value: 0.6814516129032258.\n",
      "[I 2023-06-06 17:07:21,633] Trial 614 finished with value: 0.6794354838709677 and parameters: {'n_estimators': 26, 'eta': 0.09509291943695855, 'max_depth': 11, 'subsample': 0.9976433563532315, 'colsample_bytree': 0.8180970952262109, 'lambda': 51.1421253533384}. Best is trial 83 with value: 0.6814516129032258.\n",
      "[I 2023-06-06 17:07:22,464] Trial 615 finished with value: 0.6612903225806451 and parameters: {'n_estimators': 26, 'eta': 0.09510789013423628, 'max_depth': 13, 'subsample': 0.9998467260255658, 'colsample_bytree': 0.8107184775023006, 'lambda': 52.07128474173954}. Best is trial 83 with value: 0.6814516129032258.\n",
      "[I 2023-06-06 17:07:22,663] Trial 616 finished with value: 0.6612903225806451 and parameters: {'n_estimators': 26, 'eta': 0.09065130271637968, 'max_depth': 11, 'subsample': 0.10264125871668583, 'colsample_bytree': 0.825385840386952, 'lambda': 59.96438387176663}. Best is trial 83 with value: 0.6814516129032258.\n",
      "[I 2023-06-06 17:07:23,398] Trial 617 finished with value: 0.6673387096774194 and parameters: {'n_estimators': 27, 'eta': 0.08896236233872507, 'max_depth': 10, 'subsample': 0.9910295535436636, 'colsample_bytree': 0.8295871086411312, 'lambda': 47.66068792028705}. Best is trial 83 with value: 0.6814516129032258.\n",
      "[I 2023-06-06 17:07:24,071] Trial 618 finished with value: 0.657258064516129 and parameters: {'n_estimators': 26, 'eta': 0.09029436439383244, 'max_depth': 11, 'subsample': 0.7110476443664304, 'colsample_bytree': 0.8462119818968996, 'lambda': 43.42712195528431}. Best is trial 83 with value: 0.6814516129032258.\n",
      "[I 2023-06-06 17:07:24,808] Trial 619 finished with value: 0.6653225806451613 and parameters: {'n_estimators': 26, 'eta': 0.03938699599889093, 'max_depth': 12, 'subsample': 0.9841431170616577, 'colsample_bytree': 0.7613519551155825, 'lambda': 42.506894056064205}. Best is trial 83 with value: 0.6814516129032258.\n",
      "[I 2023-06-06 17:07:25,329] Trial 620 finished with value: 0.6592741935483871 and parameters: {'n_estimators': 26, 'eta': 0.016992417014483115, 'max_depth': 13, 'subsample': 0.9999381396040554, 'colsample_bytree': 0.43350547806440526, 'lambda': 0.44499311859545704}. Best is trial 83 with value: 0.6814516129032258.\n"
     ]
    },
    {
     "name": "stderr",
     "output_type": "stream",
     "text": [
      "[I 2023-06-06 17:07:26,175] Trial 621 finished with value: 0.6754032258064516 and parameters: {'n_estimators': 25, 'eta': 0.0962822070787511, 'max_depth': 14, 'subsample': 0.971861216769865, 'colsample_bytree': 0.7943737247930357, 'lambda': 54.77958644444853}. Best is trial 83 with value: 0.6814516129032258.\n",
      "[I 2023-06-06 17:07:26,682] Trial 622 finished with value: 0.6532258064516129 and parameters: {'n_estimators': 25, 'eta': 0.09637210771852472, 'max_depth': 14, 'subsample': 0.43610433837024276, 'colsample_bytree': 0.7952048076422625, 'lambda': 66.06883182879588}. Best is trial 83 with value: 0.6814516129032258.\n",
      "[I 2023-06-06 17:07:27,495] Trial 623 finished with value: 0.6733870967741935 and parameters: {'n_estimators': 25, 'eta': 0.03584198661233601, 'max_depth': 14, 'subsample': 0.9707468356106181, 'colsample_bytree': 0.8147793677077985, 'lambda': 59.773900719287276}. Best is trial 83 with value: 0.6814516129032258.\n",
      "[I 2023-06-06 17:07:27,963] Trial 624 finished with value: 0.6673387096774194 and parameters: {'n_estimators': 25, 'eta': 0.09971200914418624, 'max_depth': 13, 'subsample': 0.9725642077118872, 'colsample_bytree': 0.38203385860232597, 'lambda': 50.844428126028916}. Best is trial 83 with value: 0.6814516129032258.\n",
      "[I 2023-06-06 17:07:28,750] Trial 625 finished with value: 0.6633064516129032 and parameters: {'n_estimators': 25, 'eta': 0.09630035564771794, 'max_depth': 14, 'subsample': 0.9558902743695599, 'colsample_bytree': 0.7803672655990055, 'lambda': 53.883476472777915}. Best is trial 83 with value: 0.6814516129032258.\n",
      "[I 2023-06-06 17:07:30,023] Trial 626 finished with value: 0.6713709677419355 and parameters: {'n_estimators': 39, 'eta': 0.09711127225761752, 'max_depth': 13, 'subsample': 0.9997144147252378, 'colsample_bytree': 0.7726685044295458, 'lambda': 47.488541222472605}. Best is trial 83 with value: 0.6814516129032258.\n",
      "[I 2023-06-06 17:07:30,848] Trial 627 finished with value: 0.6612903225806451 and parameters: {'n_estimators': 25, 'eta': 0.0930470572494821, 'max_depth': 14, 'subsample': 0.9767396622872289, 'colsample_bytree': 0.8181516204708986, 'lambda': 75.67747589649157}. Best is trial 83 with value: 0.6814516129032258.\n",
      "[I 2023-06-06 17:07:31,993] Trial 628 finished with value: 0.6733870967741935 and parameters: {'n_estimators': 38, 'eta': 0.09980451461104503, 'max_depth': 13, 'subsample': 0.9553309441974155, 'colsample_bytree': 0.7951206041814887, 'lambda': 37.111535810379344}. Best is trial 83 with value: 0.6814516129032258.\n",
      "[I 2023-06-06 17:07:32,420] Trial 629 finished with value: 0.6612903225806451 and parameters: {'n_estimators': 39, 'eta': 0.06545365116819718, 'max_depth': 11, 'subsample': 0.21330678063032832, 'colsample_bytree': 0.8588426310993897, 'lambda': 64.21095542765104}. Best is trial 83 with value: 0.6814516129032258.\n",
      "[I 2023-06-06 17:07:32,881] Trial 630 finished with value: 0.6673387096774194 and parameters: {'n_estimators': 40, 'eta': 0.08711152391457866, 'max_depth': 11, 'subsample': 0.6417429110231472, 'colsample_bytree': 0.27988933514107245, 'lambda': 73.50382562005863}. Best is trial 83 with value: 0.6814516129032258.\n",
      "[I 2023-06-06 17:07:33,763] Trial 631 finished with value: 0.6350806451612904 and parameters: {'n_estimators': 30, 'eta': 0.09454488643800556, 'max_depth': 12, 'subsample': 0.9766589163125694, 'colsample_bytree': 0.8296400035558814, 'lambda': 1.390253318462908}. Best is trial 83 with value: 0.6814516129032258.\n",
      "[I 2023-06-06 17:07:34,776] Trial 632 finished with value: 0.6592741935483871 and parameters: {'n_estimators': 37, 'eta': 0.09112342130535828, 'max_depth': 13, 'subsample': 0.9471825071470605, 'colsample_bytree': 0.7609442378298727, 'lambda': 1.054569194788904}. Best is trial 83 with value: 0.6814516129032258.\n",
      "[I 2023-06-06 17:07:35,753] Trial 633 finished with value: 0.6693548387096774 and parameters: {'n_estimators': 37, 'eta': 0.016573592938876038, 'max_depth': 11, 'subsample': 0.9645958983400258, 'colsample_bytree': 0.792154139172457, 'lambda': 55.56282807562797}. Best is trial 83 with value: 0.6814516129032258.\n",
      "[I 2023-06-06 17:07:36,834] Trial 634 finished with value: 0.6633064516129032 and parameters: {'n_estimators': 36, 'eta': 0.034104609550087664, 'max_depth': 14, 'subsample': 0.9835547762762563, 'colsample_bytree': 0.7339727689834256, 'lambda': 42.94488513407124}. Best is trial 83 with value: 0.6814516129032258.\n",
      "[I 2023-06-06 17:07:37,697] Trial 635 finished with value: 0.6592741935483871 and parameters: {'n_estimators': 38, 'eta': 0.0421152768307803, 'max_depth': 11, 'subsample': 0.6202095906157676, 'colsample_bytree': 0.8414732078489013, 'lambda': 37.48389758083408}. Best is trial 83 with value: 0.6814516129032258.\n",
      "[I 2023-06-06 17:07:38,084] Trial 636 finished with value: 0.6612903225806451 and parameters: {'n_estimators': 39, 'eta': 0.037915766742118856, 'max_depth': 10, 'subsample': 0.21012077920999245, 'colsample_bytree': 0.8059148080767273, 'lambda': 43.69563772187459}. Best is trial 83 with value: 0.6814516129032258.\n",
      "[I 2023-06-06 17:07:38,606] Trial 637 finished with value: 0.6653225806451613 and parameters: {'n_estimators': 25, 'eta': 0.014719977424219583, 'max_depth': 13, 'subsample': 0.9422276160838662, 'colsample_bytree': 0.4853253011027507, 'lambda': 1.9170725795047416}. Best is trial 83 with value: 0.6814516129032258.\n",
      "[I 2023-06-06 17:07:39,066] Trial 638 finished with value: 0.6612903225806451 and parameters: {'n_estimators': 36, 'eta': 0.029645212250964587, 'max_depth': 12, 'subsample': 0.3649860128657267, 'colsample_bytree': 0.558942675462278, 'lambda': 49.09964983162692}. Best is trial 83 with value: 0.6814516129032258.\n",
      "[I 2023-06-06 17:07:40,314] Trial 639 finished with value: 0.6612903225806451 and parameters: {'n_estimators': 42, 'eta': 0.06877013173258052, 'max_depth': 11, 'subsample': 0.9615264643231208, 'colsample_bytree': 0.8815077152992911, 'lambda': 33.38846259748234}. Best is trial 83 with value: 0.6814516129032258.\n",
      "[I 2023-06-06 17:07:41,492] Trial 640 finished with value: 0.6653225806451613 and parameters: {'n_estimators': 40, 'eta': 0.03269279429999046, 'max_depth': 13, 'subsample': 0.9999135399045759, 'colsample_bytree': 0.7763457831422489, 'lambda': 98.52944350095207}. Best is trial 83 with value: 0.6814516129032258.\n",
      "[I 2023-06-06 17:07:41,881] Trial 641 finished with value: 0.6270161290322581 and parameters: {'n_estimators': 38, 'eta': 0.03537344326883728, 'max_depth': 11, 'subsample': 0.44426756165268566, 'colsample_bytree': 0.30275847399326705, 'lambda': 0.6333552409484762}. Best is trial 83 with value: 0.6814516129032258.\n",
      "[I 2023-06-06 17:07:42,268] Trial 642 finished with value: 0.6612903225806451 and parameters: {'n_estimators': 37, 'eta': 0.04037542183250735, 'max_depth': 14, 'subsample': 0.9303471003353547, 'colsample_bytree': 0.1183202503878234, 'lambda': 6.034635513305398}. Best is trial 83 with value: 0.6814516129032258.\n",
      "[I 2023-06-06 17:07:42,823] Trial 643 finished with value: 0.6713709677419355 and parameters: {'n_estimators': 35, 'eta': 0.0941369976470294, 'max_depth': 12, 'subsample': 0.3862337713534379, 'colsample_bytree': 0.7016647079912748, 'lambda': 57.133702832414656}. Best is trial 83 with value: 0.6814516129032258.\n",
      "[I 2023-06-06 17:07:43,477] Trial 644 finished with value: 0.6653225806451613 and parameters: {'n_estimators': 39, 'eta': 0.04790327208823471, 'max_depth': 11, 'subsample': 0.9554240503107906, 'colsample_bytree': 0.39102772324287677, 'lambda': 42.064749173981824}. Best is trial 83 with value: 0.6814516129032258.\n",
      "[I 2023-06-06 17:07:44,206] Trial 645 finished with value: 0.6612903225806451 and parameters: {'n_estimators': 36, 'eta': 0.03744370174565064, 'max_depth': 13, 'subsample': 0.9741559111390536, 'colsample_bytree': 0.45605456729118393, 'lambda': 37.119071039691164}. Best is trial 83 with value: 0.6814516129032258.\n",
      "[I 2023-06-06 17:07:44,981] Trial 646 finished with value: 0.6612903225806451 and parameters: {'n_estimators': 36, 'eta': 0.025488611598919547, 'max_depth': 11, 'subsample': 0.7352675870967725, 'colsample_bytree': 0.716999629567507, 'lambda': 28.411165508675015}. Best is trial 83 with value: 0.6814516129032258.\n",
      "[I 2023-06-06 17:07:46,297] Trial 647 finished with value: 0.6673387096774194 and parameters: {'n_estimators': 44, 'eta': 0.028414714519712798, 'max_depth': 12, 'subsample': 0.9463013520423863, 'colsample_bytree': 0.8639167586006116, 'lambda': 66.64371636392185}. Best is trial 83 with value: 0.6814516129032258.\n"
     ]
    },
    {
     "name": "stderr",
     "output_type": "stream",
     "text": [
      "[I 2023-06-06 17:07:46,859] Trial 648 finished with value: 0.6633064516129032 and parameters: {'n_estimators': 35, 'eta': 0.06221032124989171, 'max_depth': 10, 'subsample': 0.9263442724369223, 'colsample_bytree': 0.42376078933513767, 'lambda': 122.33458361566109}. Best is trial 83 with value: 0.6814516129032258.\n",
      "[I 2023-06-06 17:07:47,907] Trial 649 finished with value: 0.6491935483870968 and parameters: {'n_estimators': 38, 'eta': 0.0729333646981895, 'max_depth': 11, 'subsample': 0.9822125775573786, 'colsample_bytree': 0.8139223575190827, 'lambda': 0.27598353908198664}. Best is trial 83 with value: 0.6814516129032258.\n",
      "[I 2023-06-06 17:07:48,808] Trial 650 finished with value: 0.6733870967741935 and parameters: {'n_estimators': 37, 'eta': 0.05516104037837801, 'max_depth': 14, 'subsample': 0.9647354196697231, 'colsample_bytree': 0.5857011525754888, 'lambda': 83.21948216241684}. Best is trial 83 with value: 0.6814516129032258.\n",
      "[I 2023-06-06 17:07:49,114] Trial 651 finished with value: 0.6532258064516129 and parameters: {'n_estimators': 28, 'eta': 0.03398357175828086, 'max_depth': 11, 'subsample': 0.6883973615517476, 'colsample_bytree': 0.19871582505137608, 'lambda': 4.240548009537196}. Best is trial 83 with value: 0.6814516129032258.\n",
      "[I 2023-06-06 17:07:49,761] Trial 652 finished with value: 0.6592741935483871 and parameters: {'n_estimators': 40, 'eta': 0.030796467874011805, 'max_depth': 13, 'subsample': 0.545209882190756, 'colsample_bytree': 0.5330944425320738, 'lambda': 2.902755955070829}. Best is trial 83 with value: 0.6814516129032258.\n",
      "[I 2023-06-06 17:07:50,280] Trial 653 finished with value: 0.6633064516129032 and parameters: {'n_estimators': 35, 'eta': 0.05850517177575036, 'max_depth': 11, 'subsample': 0.9415347225721413, 'colsample_bytree': 0.3281458389953903, 'lambda': 49.185805585519034}. Best is trial 83 with value: 0.6814516129032258.\n",
      "[I 2023-06-06 17:07:50,816] Trial 654 finished with value: 0.6612903225806451 and parameters: {'n_estimators': 39, 'eta': 0.049548713159555294, 'max_depth': 12, 'subsample': 0.41242920500475266, 'colsample_bytree': 0.5086300377349862, 'lambda': 31.259715753066388}. Best is trial 83 with value: 0.6814516129032258.\n",
      "[I 2023-06-06 17:07:51,764] Trial 655 finished with value: 0.6733870967741935 and parameters: {'n_estimators': 37, 'eta': 0.021442002369744372, 'max_depth': 11, 'subsample': 0.9232848265629454, 'colsample_bytree': 0.76514074950261, 'lambda': 8.931417414320164}. Best is trial 83 with value: 0.6814516129032258.\n",
      "[I 2023-06-06 17:07:52,515] Trial 656 finished with value: 0.657258064516129 and parameters: {'n_estimators': 25, 'eta': 0.026996029679599628, 'max_depth': 13, 'subsample': 0.9860053814971672, 'colsample_bytree': 0.7468027540799924, 'lambda': 7.079729200315753}. Best is trial 83 with value: 0.6814516129032258.\n",
      "[I 2023-06-06 17:07:52,869] Trial 657 finished with value: 0.6612903225806451 and parameters: {'n_estimators': 26, 'eta': 0.0136039426391822, 'max_depth': 10, 'subsample': 0.2915522320204125, 'colsample_bytree': 0.841417883412212, 'lambda': 38.910104158684284}. Best is trial 83 with value: 0.6814516129032258.\n",
      "[I 2023-06-06 17:07:53,648] Trial 658 finished with value: 0.6612903225806451 and parameters: {'n_estimators': 31, 'eta': 0.032025659860455934, 'max_depth': 14, 'subsample': 0.6090068895427212, 'colsample_bytree': 0.7893371308720546, 'lambda': 54.54690556624737}. Best is trial 83 with value: 0.6814516129032258.\n",
      "[I 2023-06-06 17:07:54,521] Trial 659 finished with value: 0.6673387096774194 and parameters: {'n_estimators': 39, 'eta': 0.018047741060883096, 'max_depth': 11, 'subsample': 0.9586048595647121, 'colsample_bytree': 0.6773065626254186, 'lambda': 45.05554152578337}. Best is trial 83 with value: 0.6814516129032258.\n",
      "[I 2023-06-06 17:07:55,067] Trial 660 finished with value: 0.6088709677419355 and parameters: {'n_estimators': 38, 'eta': 0.09992966277442078, 'max_depth': 13, 'subsample': 0.35161466681746356, 'colsample_bytree': 0.7270715194637333, 'lambda': 1.5052280202737667}. Best is trial 83 with value: 0.6814516129032258.\n",
      "[I 2023-06-06 17:07:55,630] Trial 661 finished with value: 0.6612903225806451 and parameters: {'n_estimators': 36, 'eta': 0.0651096614375433, 'max_depth': 11, 'subsample': 0.9705038266731866, 'colsample_bytree': 0.3673836719840635, 'lambda': 155.51785222139847}. Best is trial 83 with value: 0.6814516129032258.\n",
      "[I 2023-06-06 17:07:56,221] Trial 662 finished with value: 0.6693548387096774 and parameters: {'n_estimators': 38, 'eta': 0.043602518804981776, 'max_depth': 12, 'subsample': 0.9997755501862035, 'colsample_bytree': 0.3514362606064, 'lambda': 35.94503725754658}. Best is trial 83 with value: 0.6814516129032258.\n",
      "[I 2023-06-06 17:07:57,456] Trial 663 finished with value: 0.6512096774193549 and parameters: {'n_estimators': 37, 'eta': 0.09170110480385002, 'max_depth': 11, 'subsample': 0.9477242423168922, 'colsample_bytree': 0.8262153480230325, 'lambda': 5.105768306031043}. Best is trial 83 with value: 0.6814516129032258.\n",
      "[I 2023-06-06 17:07:58,721] Trial 664 finished with value: 0.6653225806451613 and parameters: {'n_estimators': 35, 'eta': 0.036174415337331664, 'max_depth': 14, 'subsample': 0.9291717793877048, 'colsample_bytree': 0.8948196195757236, 'lambda': 26.87987760515795}. Best is trial 83 with value: 0.6814516129032258.\n",
      "[I 2023-06-06 17:07:59,020] Trial 665 finished with value: 0.6491935483870968 and parameters: {'n_estimators': 27, 'eta': 0.023480923203894517, 'max_depth': 10, 'subsample': 0.19495020749669079, 'colsample_bytree': 0.8535170252087363, 'lambda': 1.0025694792232125}. Best is trial 83 with value: 0.6814516129032258.\n",
      "[I 2023-06-06 17:07:59,933] Trial 666 finished with value: 0.6411290322580645 and parameters: {'n_estimators': 39, 'eta': 0.03919255230640689, 'max_depth': 13, 'subsample': 0.6264443354079194, 'colsample_bytree': 0.6302900532499475, 'lambda': 1.2809723103715733}. Best is trial 83 with value: 0.6814516129032258.\n",
      "[I 2023-06-06 17:08:00,757] Trial 667 finished with value: 0.6612903225806451 and parameters: {'n_estimators': 36, 'eta': 0.046725007449361367, 'max_depth': 11, 'subsample': 0.5278097669289765, 'colsample_bytree': 0.8048433916350292, 'lambda': 50.44941787082334}. Best is trial 83 with value: 0.6814516129032258.\n",
      "[I 2023-06-06 17:08:01,559] Trial 668 finished with value: 0.655241935483871 and parameters: {'n_estimators': 43, 'eta': 0.06966450184558136, 'max_depth': 13, 'subsample': 0.4446793126440057, 'colsample_bytree': 0.7538101022111242, 'lambda': 30.812928743169962}. Best is trial 83 with value: 0.6814516129032258.\n",
      "[I 2023-06-06 17:08:02,615] Trial 669 finished with value: 0.6693548387096774 and parameters: {'n_estimators': 36, 'eta': 0.03480049242512899, 'max_depth': 12, 'subsample': 0.978921518277631, 'colsample_bytree': 0.7777242685570203, 'lambda': 43.76305913028673}. Best is trial 83 with value: 0.6814516129032258.\n",
      "[I 2023-06-06 17:08:03,125] Trial 670 finished with value: 0.6592741935483871 and parameters: {'n_estimators': 41, 'eta': 0.019503605211531, 'max_depth': 11, 'subsample': 0.9472724991461562, 'colsample_bytree': 0.2526901733604965, 'lambda': 61.33266218946422}. Best is trial 83 with value: 0.6814516129032258.\n",
      "[I 2023-06-06 17:08:03,902] Trial 671 finished with value: 0.655241935483871 and parameters: {'n_estimators': 40, 'eta': 0.04176161139581886, 'max_depth': 11, 'subsample': 0.5707642838817055, 'colsample_bytree': 0.703786313076714, 'lambda': 1.5543425317618804}. Best is trial 83 with value: 0.6814516129032258.\n",
      "[I 2023-06-06 17:08:04,976] Trial 672 finished with value: 0.6612903225806451 and parameters: {'n_estimators': 37, 'eta': 0.01793688207550957, 'max_depth': 12, 'subsample': 0.9142238127976116, 'colsample_bytree': 0.8752190985365762, 'lambda': 34.90339050587806}. Best is trial 83 with value: 0.6814516129032258.\n",
      "[I 2023-06-06 17:08:05,414] Trial 673 finished with value: 0.6592741935483871 and parameters: {'n_estimators': 35, 'eta': 0.029254517654411973, 'max_depth': 11, 'subsample': 0.9651714715858909, 'colsample_bytree': 0.22579595641490907, 'lambda': 5.960819520022673}. Best is trial 83 with value: 0.6814516129032258.\n",
      "[I 2023-06-06 17:08:06,023] Trial 674 finished with value: 0.6612903225806451 and parameters: {'n_estimators': 38, 'eta': 0.08545529580286351, 'max_depth': 13, 'subsample': 0.5150292880219445, 'colsample_bytree': 0.5503941236887855, 'lambda': 70.956555551929}. Best is trial 83 with value: 0.6814516129032258.\n"
     ]
    },
    {
     "name": "stderr",
     "output_type": "stream",
     "text": [
      "[I 2023-06-06 17:08:06,942] Trial 675 finished with value: 0.6633064516129032 and parameters: {'n_estimators': 35, 'eta': 0.01245812637023613, 'max_depth': 11, 'subsample': 0.9386284641763369, 'colsample_bytree': 0.8229099908332778, 'lambda': 2.8365953356429268}. Best is trial 83 with value: 0.6814516129032258.\n",
      "[I 2023-06-06 17:08:08,185] Trial 676 finished with value: 0.6713709677419355 and parameters: {'n_estimators': 39, 'eta': 0.0952614082077228, 'max_depth': 14, 'subsample': 0.9807590343659682, 'colsample_bytree': 0.7988223866396028, 'lambda': 38.408619824298235}. Best is trial 83 with value: 0.6814516129032258.\n",
      "[I 2023-06-06 17:08:08,516] Trial 677 finished with value: 0.6451612903225806 and parameters: {'n_estimators': 36, 'eta': 0.013679913298281401, 'max_depth': 13, 'subsample': 0.1672041737181562, 'colsample_bytree': 0.8889424102592272, 'lambda': 0.7751456343235021}. Best is trial 83 with value: 0.6814516129032258.\n",
      "[I 2023-06-06 17:08:08,978] Trial 678 finished with value: 0.6491935483870968 and parameters: {'n_estimators': 25, 'eta': 0.07588999115437407, 'max_depth': 10, 'subsample': 0.9570580685685838, 'colsample_bytree': 0.5207104037940229, 'lambda': 3.4323431874279224}. Best is trial 83 with value: 0.6814516129032258.\n",
      "[I 2023-06-06 17:08:09,542] Trial 679 finished with value: 0.6612903225806451 and parameters: {'n_estimators': 26, 'eta': 0.05400257305478045, 'max_depth': 15, 'subsample': 0.8923058801653643, 'colsample_bytree': 0.4812821864692649, 'lambda': 47.20779732325284}. Best is trial 83 with value: 0.6814516129032258.\n",
      "[I 2023-06-06 17:08:10,400] Trial 680 finished with value: 0.6633064516129032 and parameters: {'n_estimators': 39, 'eta': 0.032862931933405115, 'max_depth': 11, 'subsample': 0.9204100581681934, 'colsample_bytree': 0.6361274598531729, 'lambda': 56.77933965805193}. Best is trial 83 with value: 0.6814516129032258.\n",
      "[I 2023-06-06 17:08:11,475] Trial 681 finished with value: 0.6653225806451613 and parameters: {'n_estimators': 38, 'eta': 0.04981138954430919, 'max_depth': 11, 'subsample': 0.9994652987313395, 'colsample_bytree': 0.8447354105175353, 'lambda': 24.779514453183417}. Best is trial 83 with value: 0.6814516129032258.\n",
      "[I 2023-06-06 17:08:12,435] Trial 682 finished with value: 0.6592741935483871 and parameters: {'n_estimators': 37, 'eta': 0.037588259460273186, 'max_depth': 13, 'subsample': 0.7809882698581152, 'colsample_bytree': 0.7421993333634239, 'lambda': 40.95789671914888}. Best is trial 83 with value: 0.6814516129032258.\n",
      "[I 2023-06-06 17:08:12,782] Trial 683 finished with value: 0.6633064516129032 and parameters: {'n_estimators': 40, 'eta': 0.011052604933898381, 'max_depth': 14, 'subsample': 0.25966936493748555, 'colsample_bytree': 0.3826355640341628, 'lambda': 3.8559440037635535}. Best is trial 83 with value: 0.6814516129032258.\n",
      "[I 2023-06-06 17:08:13,866] Trial 684 finished with value: 0.6693548387096774 and parameters: {'n_estimators': 35, 'eta': 0.03166885100458837, 'max_depth': 12, 'subsample': 0.9663708939056592, 'colsample_bytree': 0.7683607937226661, 'lambda': 32.28235726501979}. Best is trial 83 with value: 0.6814516129032258.\n",
      "[I 2023-06-06 17:08:15,130] Trial 685 finished with value: 0.6532258064516129 and parameters: {'n_estimators': 36, 'eta': 0.056820967558735, 'max_depth': 15, 'subsample': 0.9365975002946377, 'colsample_bytree': 0.9138947838336513, 'lambda': 0.24620395761627753}. Best is trial 83 with value: 0.6814516129032258.\n",
      "[I 2023-06-06 17:08:15,776] Trial 686 finished with value: 0.6633064516129032 and parameters: {'n_estimators': 34, 'eta': 0.03448727614857734, 'max_depth': 10, 'subsample': 0.646467426450909, 'colsample_bytree': 0.7208814334062398, 'lambda': 92.49840615833779}. Best is trial 83 with value: 0.6814516129032258.\n",
      "[I 2023-06-06 17:08:16,492] Trial 687 finished with value: 0.6612903225806451 and parameters: {'n_estimators': 28, 'eta': 0.08785440997465639, 'max_depth': 11, 'subsample': 0.9102750309275438, 'colsample_bytree': 0.7869527580331449, 'lambda': 28.494311222398007}. Best is trial 83 with value: 0.6814516129032258.\n",
      "[I 2023-06-06 17:08:16,942] Trial 688 finished with value: 0.657258064516129 and parameters: {'n_estimators': 38, 'eta': 0.03930258722437154, 'max_depth': 9, 'subsample': 0.9813660676331587, 'colsample_bytree': 0.29782852162990886, 'lambda': 52.790794410906166}. Best is trial 83 with value: 0.6814516129032258.\n",
      "[I 2023-06-06 17:08:17,226] Trial 689 finished with value: 0.6411290322580645 and parameters: {'n_estimators': 37, 'eta': 0.06248876028065036, 'max_depth': 15, 'subsample': 0.2554084648720661, 'colsample_bytree': 0.3516246878848437, 'lambda': 1.1343680241603729}. Best is trial 83 with value: 0.6814516129032258.\n",
      "[I 2023-06-06 17:08:18,316] Trial 690 finished with value: 0.6713709677419355 and parameters: {'n_estimators': 36, 'eta': 0.03599134386686128, 'max_depth': 13, 'subsample': 0.9539488162149592, 'colsample_bytree': 0.8104058168207252, 'lambda': 44.957562774523296}. Best is trial 83 with value: 0.6814516129032258.\n",
      "[I 2023-06-06 17:08:18,773] Trial 691 finished with value: 0.6592741935483871 and parameters: {'n_estimators': 39, 'eta': 0.051105354505980416, 'max_depth': 11, 'subsample': 0.48875184563919905, 'colsample_bytree': 0.4086977610334598, 'lambda': 34.88868441689509}. Best is trial 83 with value: 0.6814516129032258.\n",
      "[I 2023-06-06 17:08:19,725] Trial 692 finished with value: 0.6653225806451613 and parameters: {'n_estimators': 41, 'eta': 0.08100024487460017, 'max_depth': 12, 'subsample': 0.9279169752906288, 'colsample_bytree': 0.6003697950850899, 'lambda': 40.05515079760229}. Best is trial 83 with value: 0.6814516129032258.\n",
      "[I 2023-06-06 17:08:20,320] Trial 693 finished with value: 0.655241935483871 and parameters: {'n_estimators': 35, 'eta': 0.04610316413886413, 'max_depth': 14, 'subsample': 0.6775963811160867, 'colsample_bytree': 0.4484712184350539, 'lambda': 23.94617371582015}. Best is trial 83 with value: 0.6814516129032258.\n",
      "[I 2023-06-06 17:08:20,954] Trial 694 finished with value: 0.6451612903225806 and parameters: {'n_estimators': 27, 'eta': 0.05972195374280005, 'max_depth': 11, 'subsample': 0.5811048561817946, 'colsample_bytree': 0.8724176752968559, 'lambda': 9.606918154777649}. Best is trial 83 with value: 0.6814516129032258.\n",
      "[I 2023-06-06 17:08:22,159] Trial 695 finished with value: 0.657258064516129 and parameters: {'n_estimators': 40, 'eta': 0.09253460078707634, 'max_depth': 15, 'subsample': 0.9707526136885243, 'colsample_bytree': 0.6911405347420162, 'lambda': 19.824757353931542}. Best is trial 83 with value: 0.6814516129032258.\n",
      "[I 2023-06-06 17:08:22,434] Trial 696 finished with value: 0.6411290322580645 and parameters: {'n_estimators': 38, 'eta': 0.04084783459269855, 'max_depth': 13, 'subsample': 0.12470496341279153, 'colsample_bytree': 0.8322569483233888, 'lambda': 0.5168586234802496}. Best is trial 83 with value: 0.6814516129032258.\n",
      "[I 2023-06-06 17:08:23,535] Trial 697 finished with value: 0.6653225806451613 and parameters: {'n_estimators': 37, 'eta': 0.03048499894841268, 'max_depth': 11, 'subsample': 0.9457416936701569, 'colsample_bytree': 0.9026498194642646, 'lambda': 48.936034730722035}. Best is trial 83 with value: 0.6814516129032258.\n",
      "[I 2023-06-06 17:08:23,797] Trial 698 finished with value: 0.6532258064516129 and parameters: {'n_estimators': 25, 'eta': 0.07014766993387023, 'max_depth': 11, 'subsample': 0.8866708385805003, 'colsample_bytree': 0.15168786155721248, 'lambda': 7.839045094906528}. Best is trial 83 with value: 0.6814516129032258.\n",
      "[I 2023-06-06 17:08:24,855] Trial 699 finished with value: 0.6612903225806451 and parameters: {'n_estimators': 34, 'eta': 0.01992933392102959, 'max_depth': 12, 'subsample': 0.9592510083677538, 'colsample_bytree': 0.861648655728745, 'lambda': 1.853770851703148}. Best is trial 83 with value: 0.6814516129032258.\n",
      "[I 2023-06-06 17:08:25,549] Trial 700 finished with value: 0.6633064516129032 and parameters: {'n_estimators': 36, 'eta': 0.027953337870084204, 'max_depth': 14, 'subsample': 0.46091133005517, 'colsample_bytree': 0.7505262057328628, 'lambda': 2.5313627177655755}. Best is trial 83 with value: 0.6814516129032258.\n",
      "[I 2023-06-06 17:08:26,618] Trial 701 finished with value: 0.6633064516129032 and parameters: {'n_estimators': 39, 'eta': 0.022504754961405946, 'max_depth': 15, 'subsample': 0.9093834018171506, 'colsample_bytree': 0.6451761250876922, 'lambda': 28.417933197967336}. Best is trial 83 with value: 0.6814516129032258.\n"
     ]
    },
    {
     "name": "stderr",
     "output_type": "stream",
     "text": [
      "[I 2023-06-06 17:08:27,298] Trial 702 finished with value: 0.6431451612903226 and parameters: {'n_estimators': 35, 'eta': 0.05464534296126506, 'max_depth': 11, 'subsample': 0.9796327309725164, 'colsample_bytree': 0.49253952066935014, 'lambda': 2.0378186142057624}. Best is trial 83 with value: 0.6814516129032258.\n",
      "[I 2023-06-06 17:08:27,786] Trial 703 finished with value: 0.6431451612903226 and parameters: {'n_estimators': 38, 'eta': 0.03316884361280484, 'max_depth': 13, 'subsample': 0.6640223434576598, 'colsample_bytree': 0.2566042346968296, 'lambda': 0.647868106875283}. Best is trial 83 with value: 0.6814516129032258.\n",
      "[I 2023-06-06 17:08:28,640] Trial 704 finished with value: 0.6633064516129032 and parameters: {'n_estimators': 37, 'eta': 0.015458485597565614, 'max_depth': 12, 'subsample': 0.9353712444711784, 'colsample_bytree': 0.6775377360428689, 'lambda': 59.833601979946835}. Best is trial 83 with value: 0.6814516129032258.\n",
      "[I 2023-06-06 17:08:28,906] Trial 705 finished with value: 0.6633064516129032 and parameters: {'n_estimators': 26, 'eta': 0.0371860853347817, 'max_depth': 11, 'subsample': 0.987022784637816, 'colsample_bytree': 0.14884386744618916, 'lambda': 12.647610862397444}. Best is trial 83 with value: 0.6814516129032258.\n",
      "[I 2023-06-06 17:08:29,780] Trial 706 finished with value: 0.6653225806451613 and parameters: {'n_estimators': 39, 'eta': 0.02591051984267449, 'max_depth': 10, 'subsample': 0.696122501252598, 'colsample_bytree': 0.7827646785719732, 'lambda': 33.35950700851989}. Best is trial 83 with value: 0.6814516129032258.\n",
      "[I 2023-06-06 17:08:30,871] Trial 707 finished with value: 0.6693548387096774 and parameters: {'n_estimators': 36, 'eta': 0.042616072875993394, 'max_depth': 15, 'subsample': 0.769755696996477, 'colsample_bytree': 0.8146717899075078, 'lambda': 41.301817907815604}. Best is trial 83 with value: 0.6814516129032258.\n",
      "[I 2023-06-06 17:08:31,406] Trial 708 finished with value: 0.6693548387096774 and parameters: {'n_estimators': 40, 'eta': 0.04797442302865257, 'max_depth': 5, 'subsample': 0.9482069782031047, 'colsample_bytree': 0.7290069110128705, 'lambda': 2.653180282488398}. Best is trial 83 with value: 0.6814516129032258.\n",
      "[I 2023-06-06 17:08:32,023] Trial 709 finished with value: 0.6612903225806451 and parameters: {'n_estimators': 38, 'eta': 0.05237044569261988, 'max_depth': 13, 'subsample': 0.45875379658396354, 'colsample_bytree': 0.5698883165949297, 'lambda': 73.75744289641116}. Best is trial 83 with value: 0.6814516129032258.\n",
      "[I 2023-06-06 17:08:32,965] Trial 710 finished with value: 0.655241935483871 and parameters: {'n_estimators': 35, 'eta': 0.01337001589674065, 'max_depth': 11, 'subsample': 0.9231209323375984, 'colsample_bytree': 0.8430972591679649, 'lambda': 4.699083529047483}. Best is trial 83 with value: 0.6814516129032258.\n",
      "[I 2023-06-06 17:08:33,507] Trial 711 finished with value: 0.6612903225806451 and parameters: {'n_estimators': 37, 'eta': 0.0652334343022058, 'max_depth': 15, 'subsample': 0.24006772534288146, 'colsample_bytree': 0.7999076526227704, 'lambda': 151.74733131187998}. Best is trial 83 with value: 0.6814516129032258.\n",
      "[I 2023-06-06 17:08:33,781] Trial 712 finished with value: 0.6612903225806451 and parameters: {'n_estimators': 31, 'eta': 0.05714677599674988, 'max_depth': 12, 'subsample': 0.15642341811405414, 'colsample_bytree': 0.76539741216833, 'lambda': 14.057833804454338}. Best is trial 83 with value: 0.6814516129032258.\n",
      "[I 2023-06-06 17:08:34,959] Trial 713 finished with value: 0.657258064516129 and parameters: {'n_estimators': 36, 'eta': 0.012021803174049423, 'max_depth': 14, 'subsample': 0.9650726009248889, 'colsample_bytree': 0.8915742669450409, 'lambda': 52.447853460703165}. Best is trial 83 with value: 0.6814516129032258.\n",
      "[I 2023-06-06 17:08:35,844] Trial 714 finished with value: 0.6673387096774194 and parameters: {'n_estimators': 34, 'eta': 0.09496976142943263, 'max_depth': 11, 'subsample': 0.8537018619492986, 'colsample_bytree': 0.8316093300683403, 'lambda': 1.3730778318515247}. Best is trial 83 with value: 0.6814516129032258.\n",
      "[I 2023-06-06 17:08:36,653] Trial 715 finished with value: 0.6733870967741935 and parameters: {'n_estimators': 39, 'eta': 0.04487928170096435, 'max_depth': 15, 'subsample': 0.8966775052302246, 'colsample_bytree': 0.46604290689970534, 'lambda': 22.721234562267682}. Best is trial 83 with value: 0.6814516129032258.\n",
      "[I 2023-06-06 17:08:37,533] Trial 716 finished with value: 0.6350806451612904 and parameters: {'n_estimators': 35, 'eta': 0.08659090597170692, 'max_depth': 11, 'subsample': 0.7609099867552023, 'colsample_bytree': 0.8586537764947139, 'lambda': 11.27179384046764}. Best is trial 83 with value: 0.6814516129032258.\n",
      "[I 2023-06-06 17:08:38,840] Trial 717 finished with value: 0.6633064516129032 and parameters: {'n_estimators': 38, 'eta': 0.03535491560296614, 'max_depth': 13, 'subsample': 0.9857110899709379, 'colsample_bytree': 0.912802073165591, 'lambda': 36.551589736900816}. Best is trial 83 with value: 0.6814516129032258.\n",
      "[I 2023-06-06 17:08:39,221] Trial 718 finished with value: 0.6491935483870968 and parameters: {'n_estimators': 25, 'eta': 0.07294712243478889, 'max_depth': 11, 'subsample': 0.5026874216561233, 'colsample_bytree': 0.5042676062735856, 'lambda': 17.705317194796454}. Best is trial 83 with value: 0.6814516129032258.\n",
      "[I 2023-06-06 17:08:39,949] Trial 719 finished with value: 0.657258064516129 and parameters: {'n_estimators': 26, 'eta': 0.07804227559146103, 'max_depth': 13, 'subsample': 0.7964796640518119, 'colsample_bytree': 0.7897030517797395, 'lambda': 2.1405318487186444}. Best is trial 83 with value: 0.6814516129032258.\n",
      "[I 2023-06-06 17:08:40,728] Trial 720 finished with value: 0.6612903225806451 and parameters: {'n_estimators': 37, 'eta': 0.02394588532057259, 'max_depth': 15, 'subsample': 0.9463100166786266, 'colsample_bytree': 0.43803958105100094, 'lambda': 30.444907928278447}. Best is trial 83 with value: 0.6814516129032258.\n",
      "[I 2023-06-06 17:08:41,265] Trial 721 finished with value: 0.6612903225806451 and parameters: {'n_estimators': 40, 'eta': 0.0384339089876114, 'max_depth': 10, 'subsample': 0.3928891872671891, 'colsample_bytree': 0.6075203187850694, 'lambda': 45.54961230050728}. Best is trial 83 with value: 0.6814516129032258.\n",
      "[I 2023-06-06 17:08:42,477] Trial 722 finished with value: 0.6713709677419355 and parameters: {'n_estimators': 36, 'eta': 0.03150305802844791, 'max_depth': 14, 'subsample': 0.9661454499764013, 'colsample_bytree': 0.82044840527027, 'lambda': 59.758933145640235}. Best is trial 83 with value: 0.6814516129032258.\n",
      "[I 2023-06-06 17:08:43,436] Trial 723 finished with value: 0.6491935483870968 and parameters: {'n_estimators': 39, 'eta': 0.04057004280021045, 'max_depth': 11, 'subsample': 0.9232210752370223, 'colsample_bytree': 0.7188483948640132, 'lambda': 0.7053664190341675}. Best is trial 83 with value: 0.6814516129032258.\n",
      "[I 2023-06-06 17:08:44,089] Trial 724 finished with value: 0.6310483870967742 and parameters: {'n_estimators': 35, 'eta': 0.048259130880598744, 'max_depth': 12, 'subsample': 0.7110885879983051, 'colsample_bytree': 0.5359537841200146, 'lambda': 0.3636494321084212}. Best is trial 83 with value: 0.6814516129032258.\n",
      "[I 2023-06-06 17:08:44,987] Trial 725 finished with value: 0.657258064516129 and parameters: {'n_estimators': 36, 'eta': 0.05367053281611088, 'max_depth': 11, 'subsample': 0.9368417927648619, 'colsample_bytree': 0.7450464696663455, 'lambda': 26.24128721681415}. Best is trial 83 with value: 0.6814516129032258.\n",
      "[I 2023-06-06 17:08:45,715] Trial 726 finished with value: 0.657258064516129 and parameters: {'n_estimators': 27, 'eta': 0.033789668312051276, 'max_depth': 13, 'subsample': 0.594211005583069, 'colsample_bytree': 0.922911069134148, 'lambda': 39.609408437661635}. Best is trial 83 with value: 0.6814516129032258.\n",
      "[I 2023-06-06 17:08:46,657] Trial 727 finished with value: 0.655241935483871 and parameters: {'n_estimators': 34, 'eta': 0.029358542164407093, 'max_depth': 12, 'subsample': 0.9988723936655792, 'colsample_bytree': 0.7666859375792696, 'lambda': 5.274282968750804}. Best is trial 83 with value: 0.6814516129032258.\n",
      "[I 2023-06-06 17:08:47,124] Trial 728 finished with value: 0.6653225806451613 and parameters: {'n_estimators': 39, 'eta': 0.017626467580943005, 'max_depth': 6, 'subsample': 0.5499456735287692, 'colsample_bytree': 0.6622620225713218, 'lambda': 21.596918357611518}. Best is trial 83 with value: 0.6814516129032258.\n"
     ]
    },
    {
     "name": "stderr",
     "output_type": "stream",
     "text": [
      "[I 2023-06-06 17:08:47,996] Trial 729 finished with value: 0.6612903225806451 and parameters: {'n_estimators': 38, 'eta': 0.051298135814957124, 'max_depth': 11, 'subsample': 0.8697172667364081, 'colsample_bytree': 0.697535756856024, 'lambda': 68.21573495230817}. Best is trial 83 with value: 0.6814516129032258.\n",
      "[I 2023-06-06 17:08:49,196] Trial 730 finished with value: 0.6633064516129032 and parameters: {'n_estimators': 37, 'eta': 0.09052745939248344, 'max_depth': 15, 'subsample': 0.95747601658321, 'colsample_bytree': 0.805787098003905, 'lambda': 46.83325966315417}. Best is trial 83 with value: 0.6814516129032258.\n",
      "[I 2023-06-06 17:08:49,645] Trial 731 finished with value: 0.655241935483871 and parameters: {'n_estimators': 35, 'eta': 0.043587517385316764, 'max_depth': 14, 'subsample': 0.2758157556365184, 'colsample_bytree': 0.8431983738296589, 'lambda': 6.844029502289121}. Best is trial 83 with value: 0.6814516129032258.\n",
      "[I 2023-06-06 17:08:50,993] Trial 732 finished with value: 0.6633064516129032 and parameters: {'n_estimators': 40, 'eta': 0.06036802252808827, 'max_depth': 13, 'subsample': 0.9736068905236642, 'colsample_bytree': 0.8891306179276856, 'lambda': 34.61360707360839}. Best is trial 83 with value: 0.6814516129032258.\n",
      "[I 2023-06-06 17:08:51,840] Trial 733 finished with value: 0.6451612903225806 and parameters: {'n_estimators': 36, 'eta': 0.036642782030217154, 'max_depth': 10, 'subsample': 0.906502092989116, 'colsample_bytree': 0.7350307813501951, 'lambda': 0.23127966542173636}. Best is trial 83 with value: 0.6814516129032258.\n",
      "[I 2023-06-06 17:08:52,235] Trial 734 finished with value: 0.6411290322580645 and parameters: {'n_estimators': 30, 'eta': 0.08315163469770823, 'max_depth': 11, 'subsample': 0.6264477747814321, 'colsample_bytree': 0.3331662875041591, 'lambda': 0.2848271625958414}. Best is trial 83 with value: 0.6814516129032258.\n",
      "[I 2023-06-06 17:08:53,113] Trial 735 finished with value: 0.6673387096774194 and parameters: {'n_estimators': 25, 'eta': 0.09649958905318089, 'max_depth': 15, 'subsample': 0.9409088730586811, 'colsample_bytree': 0.8727539091516219, 'lambda': 121.46879538088541}. Best is trial 83 with value: 0.6814516129032258.\n",
      "[I 2023-06-06 17:08:53,584] Trial 736 finished with value: 0.6612903225806451 and parameters: {'n_estimators': 41, 'eta': 0.011501180712734194, 'max_depth': 11, 'subsample': 0.9828368352596677, 'colsample_bytree': 0.23735542527106457, 'lambda': 1.8019362176753728}. Best is trial 83 with value: 0.6814516129032258.\n",
      "[I 2023-06-06 17:08:54,033] Trial 737 finished with value: 0.6633064516129032 and parameters: {'n_estimators': 38, 'eta': 0.032590823385842696, 'max_depth': 15, 'subsample': 0.35090335592256544, 'colsample_bytree': 0.47417615868998875, 'lambda': 30.62845216901803}. Best is trial 83 with value: 0.6814516129032258.\n",
      "[I 2023-06-06 17:08:54,492] Trial 738 finished with value: 0.6612903225806451 and parameters: {'n_estimators': 42, 'eta': 0.030380485491426013, 'max_depth': 13, 'subsample': 0.9202873847621181, 'colsample_bytree': 0.22057732136969754, 'lambda': 10.677008008554322}. Best is trial 83 with value: 0.6814516129032258.\n",
      "[I 2023-06-06 17:08:55,374] Trial 739 finished with value: 0.6673387096774194 and parameters: {'n_estimators': 37, 'eta': 0.03892868949862284, 'max_depth': 12, 'subsample': 0.7265970127378919, 'colsample_bytree': 0.7833522453519788, 'lambda': 52.1373071699544}. Best is trial 83 with value: 0.6814516129032258.\n",
      "[I 2023-06-06 17:08:55,809] Trial 740 finished with value: 0.6612903225806451 and parameters: {'n_estimators': 28, 'eta': 0.027300640444867342, 'max_depth': 11, 'subsample': 0.9595335850475638, 'colsample_bytree': 0.3900351876030429, 'lambda': 82.23314563768386}. Best is trial 83 with value: 0.6814516129032258.\n",
      "[I 2023-06-06 17:08:56,560] Trial 741 finished with value: 0.6673387096774194 and parameters: {'n_estimators': 26, 'eta': 0.034388602983143425, 'max_depth': 14, 'subsample': 0.8859519799180552, 'colsample_bytree': 0.7556069455556843, 'lambda': 42.22842968712037}. Best is trial 83 with value: 0.6814516129032258.\n",
      "[I 2023-06-06 17:08:57,130] Trial 742 finished with value: 0.6471774193548387 and parameters: {'n_estimators': 36, 'eta': 0.04910476645264393, 'max_depth': 11, 'subsample': 0.41835894480693947, 'colsample_bytree': 0.42061975135787993, 'lambda': 5.7302604569918945}. Best is trial 83 with value: 0.6814516129032258.\n",
      "[I 2023-06-06 17:08:58,324] Trial 743 finished with value: 0.6532258064516129 and parameters: {'n_estimators': 35, 'eta': 0.05734733659595266, 'max_depth': 15, 'subsample': 0.9492261765676996, 'colsample_bytree': 0.8179688581736485, 'lambda': 3.410283642602852}. Best is trial 83 with value: 0.6814516129032258.\n",
      "[I 2023-06-06 17:08:59,149] Trial 744 finished with value: 0.6612903225806451 and parameters: {'n_estimators': 39, 'eta': 0.046296279551174324, 'max_depth': 13, 'subsample': 0.5648578106651511, 'colsample_bytree': 0.6229518919141975, 'lambda': 2.5151204316406477}. Best is trial 83 with value: 0.6814516129032258.\n",
      "[I 2023-06-06 17:09:00,168] Trial 745 finished with value: 0.6411290322580645 and parameters: {'n_estimators': 34, 'eta': 0.06675691757165601, 'max_depth': 10, 'subsample': 0.9992975857916543, 'colsample_bytree': 0.797228504252575, 'lambda': 3.933027100395196}. Best is trial 83 with value: 0.6814516129032258.\n",
      "[I 2023-06-06 17:09:00,607] Trial 746 finished with value: 0.6290322580645161 and parameters: {'n_estimators': 38, 'eta': 0.03618526880082414, 'max_depth': 12, 'subsample': 0.17550482817553031, 'colsample_bytree': 0.851683242348818, 'lambda': 0.9463318754235299}. Best is trial 83 with value: 0.6814516129032258.\n",
      "[I 2023-06-06 17:09:01,341] Trial 747 finished with value: 0.6532258064516129 and parameters: {'n_estimators': 37, 'eta': 0.0621497145204897, 'max_depth': 11, 'subsample': 0.9714913572746805, 'colsample_bytree': 0.5210202418810672, 'lambda': 15.172499749982988}. Best is trial 83 with value: 0.6814516129032258.\n",
      "[I 2023-06-06 17:09:02,064] Trial 748 finished with value: 0.6653225806451613 and parameters: {'n_estimators': 29, 'eta': 0.02511638626505322, 'max_depth': 9, 'subsample': 0.9325312939849986, 'colsample_bytree': 0.9275968985926335, 'lambda': 25.72116814479306}. Best is trial 83 with value: 0.6814516129032258.\n",
      "[I 2023-06-06 17:09:02,963] Trial 749 finished with value: 0.6612903225806451 and parameters: {'n_estimators': 39, 'eta': 0.07368923372708386, 'max_depth': 14, 'subsample': 0.9065868537710469, 'colsample_bytree': 0.5838897281238958, 'lambda': 36.755203886265534}. Best is trial 83 with value: 0.6814516129032258.\n",
      "[I 2023-06-06 17:09:04,029] Trial 750 finished with value: 0.6693548387096774 and parameters: {'n_estimators': 36, 'eta': 0.03137387242021603, 'max_depth': 15, 'subsample': 0.9831383660709582, 'colsample_bytree': 0.705929572571572, 'lambda': 45.90072389477806}. Best is trial 83 with value: 0.6814516129032258.\n",
      "[I 2023-06-06 17:09:04,905] Trial 751 finished with value: 0.6592741935483871 and parameters: {'n_estimators': 35, 'eta': 0.011616187168739207, 'max_depth': 11, 'subsample': 0.9583523022889716, 'colsample_bytree': 0.830709549832692, 'lambda': 181.96250019700224}. Best is trial 83 with value: 0.6814516129032258.\n",
      "[I 2023-06-06 17:09:06,163] Trial 752 finished with value: 0.6512096774193549 and parameters: {'n_estimators': 40, 'eta': 0.08950113168567245, 'max_depth': 13, 'subsample': 0.9284130065355327, 'colsample_bytree': 0.9039441838085644, 'lambda': 3.074236431685005}. Best is trial 83 with value: 0.6814516129032258.\n",
      "[I 2023-06-06 17:09:07,025] Trial 753 finished with value: 0.6512096774193549 and parameters: {'n_estimators': 34, 'eta': 0.05485453996164837, 'max_depth': 11, 'subsample': 0.9476378184050185, 'colsample_bytree': 0.776765985579601, 'lambda': 8.396729802245762}. Best is trial 83 with value: 0.6814516129032258.\n",
      "[I 2023-06-06 17:09:07,448] Trial 754 finished with value: 0.6612903225806451 and parameters: {'n_estimators': 38, 'eta': 0.018743577954156505, 'max_depth': 12, 'subsample': 0.36429970959434, 'colsample_bytree': 0.49284623802666, 'lambda': 18.747651260984007}. Best is trial 83 with value: 0.6814516129032258.\n",
      "[I 2023-06-06 17:09:08,287] Trial 755 finished with value: 0.6653225806451613 and parameters: {'n_estimators': 39, 'eta': 0.07960071601991155, 'max_depth': 11, 'subsample': 0.8754362921854099, 'colsample_bytree': 0.6505105252868335, 'lambda': 104.20856636304872}. Best is trial 83 with value: 0.6814516129032258.\n"
     ]
    },
    {
     "name": "stderr",
     "output_type": "stream",
     "text": [
      "[I 2023-06-06 17:09:09,463] Trial 756 finished with value: 0.6673387096774194 and parameters: {'n_estimators': 37, 'eta': 0.04261562974895182, 'max_depth': 15, 'subsample': 0.8376579062854121, 'colsample_bytree': 0.8743128110772749, 'lambda': 54.06235376042546}. Best is trial 83 with value: 0.6814516129032258.\n",
      "[I 2023-06-06 17:09:10,223] Trial 757 finished with value: 0.6391129032258065 and parameters: {'n_estimators': 26, 'eta': 0.050521811469779576, 'max_depth': 13, 'subsample': 0.9647757029856193, 'colsample_bytree': 0.8051809183999828, 'lambda': 0.4025386743292565}. Best is trial 83 with value: 0.6814516129032258.\n",
      "[I 2023-06-06 17:09:10,465] Trial 758 finished with value: 0.6491935483870968 and parameters: {'n_estimators': 36, 'eta': 0.04055044278565954, 'max_depth': 14, 'subsample': 0.31723138291058584, 'colsample_bytree': 0.1971635235843266, 'lambda': 0.999751348217284}. Best is trial 83 with value: 0.6814516129032258.\n",
      "[I 2023-06-06 17:09:11,245] Trial 759 finished with value: 0.6612903225806451 and parameters: {'n_estimators': 35, 'eta': 0.03796354876150868, 'max_depth': 11, 'subsample': 0.7496246362973115, 'colsample_bytree': 0.7591141785979977, 'lambda': 64.31020029867713}. Best is trial 83 with value: 0.6814516129032258.\n",
      "[I 2023-06-06 17:09:12,095] Trial 760 finished with value: 0.6491935483870968 and parameters: {'n_estimators': 37, 'eta': 0.09955944036256391, 'max_depth': 11, 'subsample': 0.6459187920448661, 'colsample_bytree': 0.861160241573933, 'lambda': 30.69435272456102}. Best is trial 83 with value: 0.6814516129032258.\n",
      "[I 2023-06-06 17:09:12,894] Trial 761 finished with value: 0.655241935483871 and parameters: {'n_estimators': 39, 'eta': 0.03429711366812313, 'max_depth': 10, 'subsample': 0.8222703968625323, 'colsample_bytree': 0.7326578480414778, 'lambda': 39.489046182071824}. Best is trial 83 with value: 0.6814516129032258.\n",
      "[I 2023-06-06 17:09:13,946] Trial 762 finished with value: 0.6532258064516129 and parameters: {'n_estimators': 38, 'eta': 0.052621201498906485, 'max_depth': 12, 'subsample': 0.9142035469415486, 'colsample_bytree': 0.8263629723421986, 'lambda': 25.89068969585159}. Best is trial 83 with value: 0.6814516129032258.\n",
      "[I 2023-06-06 17:09:14,661] Trial 763 finished with value: 0.6633064516129032 and parameters: {'n_estimators': 25, 'eta': 0.029191661042447213, 'max_depth': 15, 'subsample': 0.9849145557192478, 'colsample_bytree': 0.6827792033541642, 'lambda': 144.86480471672223}. Best is trial 83 with value: 0.6814516129032258.\n",
      "[I 2023-06-06 17:09:15,461] Trial 764 finished with value: 0.6350806451612904 and parameters: {'n_estimators': 36, 'eta': 0.03249307086552397, 'max_depth': 13, 'subsample': 0.4818645214040769, 'colsample_bytree': 0.9385693441780848, 'lambda': 0.9405355385099627}. Best is trial 83 with value: 0.6814516129032258.\n",
      "[I 2023-06-06 17:09:16,021] Trial 765 finished with value: 0.6411290322580645 and parameters: {'n_estimators': 35, 'eta': 0.09401528088508802, 'max_depth': 11, 'subsample': 0.39712666633579613, 'colsample_bytree': 0.7894815875649012, 'lambda': 16.488027339115032}. Best is trial 83 with value: 0.6814516129032258.\n",
      "[I 2023-06-06 17:09:16,354] Trial 766 finished with value: 0.6592741935483871 and parameters: {'n_estimators': 40, 'eta': 0.08588129628833535, 'max_depth': 15, 'subsample': 0.2342007982702511, 'colsample_bytree': 0.45641701819832636, 'lambda': 46.93207200293209}. Best is trial 83 with value: 0.6814516129032258.\n",
      "[I 2023-06-06 17:09:17,247] Trial 767 finished with value: 0.6612903225806451 and parameters: {'n_estimators': 38, 'eta': 0.02286131824639741, 'max_depth': 11, 'subsample': 0.896160073815942, 'colsample_bytree': 0.7172855683935693, 'lambda': 33.780952201029905}. Best is trial 83 with value: 0.6814516129032258.\n",
      "[I 2023-06-06 17:09:18,562] Trial 768 finished with value: 0.6612903225806451 and parameters: {'n_estimators': 41, 'eta': 0.04800584801532037, 'max_depth': 14, 'subsample': 0.9406808564152417, 'colsample_bytree': 0.8923028316990228, 'lambda': 21.787889274540415}. Best is trial 83 with value: 0.6814516129032258.\n",
      "[I 2023-06-06 17:09:18,826] Trial 769 finished with value: 0.6612903225806451 and parameters: {'n_estimators': 39, 'eta': 0.04503877759369468, 'max_depth': 9, 'subsample': 0.10448817352849732, 'colsample_bytree': 0.8394723885303438, 'lambda': 38.58412386229002}. Best is trial 83 with value: 0.6814516129032258.\n",
      "[I 2023-06-06 17:09:19,400] Trial 770 finished with value: 0.6491935483870968 and parameters: {'n_estimators': 36, 'eta': 0.05580313895242547, 'max_depth': 12, 'subsample': 0.4019327547940963, 'colsample_bytree': 0.7711308087586487, 'lambda': 13.007671562451742}. Best is trial 83 with value: 0.6814516129032258.\n",
      "[I 2023-06-06 17:09:19,658] Trial 771 finished with value: 0.6008064516129032 and parameters: {'n_estimators': 37, 'eta': 0.06401617040327304, 'max_depth': 13, 'subsample': 0.14119305014428662, 'colsample_bytree': 0.5660948047784681, 'lambda': 0.3243908771831655}. Best is trial 83 with value: 0.6814516129032258.\n",
      "[I 2023-06-06 17:09:20,796] Trial 772 finished with value: 0.6693548387096774 and parameters: {'n_estimators': 35, 'eta': 0.06954747166557668, 'max_depth': 11, 'subsample': 0.9702964041405571, 'colsample_bytree': 0.8050172333471902, 'lambda': 57.475712929877844}. Best is trial 83 with value: 0.6814516129032258.\n",
      "[I 2023-06-06 17:09:21,050] Trial 773 finished with value: 0.6612903225806451 and parameters: {'n_estimators': 34, 'eta': 0.035836792006442374, 'max_depth': 10, 'subsample': 0.15751778599449473, 'colsample_bytree': 0.5995815617222401, 'lambda': 28.4726853596398}. Best is trial 83 with value: 0.6814516129032258.\n",
      "[I 2023-06-06 17:09:21,458] Trial 774 finished with value: 0.6612903225806451 and parameters: {'n_estimators': 39, 'eta': 0.03905873421734527, 'max_depth': 15, 'subsample': 0.9545885564716136, 'colsample_bytree': 0.12638942815748194, 'lambda': 40.80829012369332}. Best is trial 83 with value: 0.6814516129032258.\n",
      "[I 2023-06-06 17:09:22,064] Trial 775 finished with value: 0.6653225806451613 and parameters: {'n_estimators': 37, 'eta': 0.03319604822272743, 'max_depth': 11, 'subsample': 0.5267650371520076, 'colsample_bytree': 0.5561562915028867, 'lambda': 4.566855492016474}. Best is trial 83 with value: 0.6814516129032258.\n",
      "[I 2023-06-06 17:09:22,226] Trial 776 finished with value: 0.6431451612903226 and parameters: {'n_estimators': 27, 'eta': 0.016153463607285996, 'max_depth': 13, 'subsample': 0.2781944176766714, 'colsample_bytree': 0.13648419100286785, 'lambda': 0.7941890319289937}. Best is trial 83 with value: 0.6814516129032258.\n",
      "[I 2023-06-06 17:09:22,998] Trial 777 finished with value: 0.6532258064516129 and parameters: {'n_estimators': 38, 'eta': 0.030683815033092702, 'max_depth': 15, 'subsample': 0.7348571917820507, 'colsample_bytree': 0.5131314875870073, 'lambda': 0.49121314917062653}. Best is trial 83 with value: 0.6814516129032258.\n",
      "[I 2023-06-06 17:09:23,404] Trial 778 finished with value: 0.6612903225806451 and parameters: {'n_estimators': 35, 'eta': 0.026040198228809572, 'max_depth': 11, 'subsample': 0.8079707232662955, 'colsample_bytree': 0.2739074296276253, 'lambda': 49.69032937316806}. Best is trial 83 with value: 0.6814516129032258.\n",
      "[I 2023-06-06 17:09:23,923] Trial 779 finished with value: 0.6592741935483871 and parameters: {'n_estimators': 36, 'eta': 0.01251246488673351, 'max_depth': 13, 'subsample': 0.31403228974805597, 'colsample_bytree': 0.7449075271611504, 'lambda': 20.07531690133469}. Best is trial 83 with value: 0.6814516129032258.\n",
      "[I 2023-06-06 17:09:24,511] Trial 780 finished with value: 0.6592741935483871 and parameters: {'n_estimators': 40, 'eta': 0.07513203951101256, 'max_depth': 11, 'subsample': 0.9284499490159891, 'colsample_bytree': 0.32267018808507997, 'lambda': 7.072841919886637}. Best is trial 83 with value: 0.6814516129032258.\n",
      "[I 2023-06-06 17:09:25,931] Trial 781 finished with value: 0.6512096774193549 and parameters: {'n_estimators': 42, 'eta': 0.0369704767490685, 'max_depth': 14, 'subsample': 0.788702218949986, 'colsample_bytree': 0.9106598084862507, 'lambda': 4.0205666846076005}. Best is trial 83 with value: 0.6814516129032258.\n",
      "[I 2023-06-06 17:09:26,401] Trial 782 finished with value: 0.6653225806451613 and parameters: {'n_estimators': 25, 'eta': 0.05860894564071867, 'max_depth': 15, 'subsample': 0.5116392620917145, 'colsample_bytree': 0.5365149841056921, 'lambda': 32.55391451465372}. Best is trial 83 with value: 0.6814516129032258.\n"
     ]
    },
    {
     "name": "stderr",
     "output_type": "stream",
     "text": [
      "[I 2023-06-06 17:09:27,514] Trial 783 finished with value: 0.6653225806451613 and parameters: {'n_estimators': 34, 'eta': 0.05015669670229163, 'max_depth': 12, 'subsample': 0.9999130476293956, 'colsample_bytree': 0.8483162732404119, 'lambda': 22.97602808705268}. Best is trial 83 with value: 0.6814516129032258.\n",
      "[I 2023-06-06 17:09:28,075] Trial 784 finished with value: 0.6411290322580645 and parameters: {'n_estimators': 36, 'eta': 0.017024706964512845, 'max_depth': 11, 'subsample': 0.38135190985679945, 'colsample_bytree': 0.8221930653527618, 'lambda': 0.3472784979052542}. Best is trial 83 with value: 0.6814516129032258.\n",
      "[I 2023-06-06 17:09:28,299] Trial 785 finished with value: 0.6229838709677419 and parameters: {'n_estimators': 39, 'eta': 0.0917111809962234, 'max_depth': 12, 'subsample': 0.32312051746350934, 'colsample_bytree': 0.18755245252557218, 'lambda': 1.0718314368022517}. Best is trial 83 with value: 0.6814516129032258.\n",
      "[I 2023-06-06 17:09:29,428] Trial 786 finished with value: 0.655241935483871 and parameters: {'n_estimators': 38, 'eta': 0.04636783106259333, 'max_depth': 13, 'subsample': 0.7042959827428673, 'colsample_bytree': 0.9623410162647914, 'lambda': 43.45159262684175}. Best is trial 83 with value: 0.6814516129032258.\n",
      "[I 2023-06-06 17:09:30,812] Trial 787 finished with value: 0.6693548387096774 and parameters: {'n_estimators': 37, 'eta': 0.041529410843930185, 'max_depth': 15, 'subsample': 0.9786902507634307, 'colsample_bytree': 0.9272595955612803, 'lambda': 36.00214503438609}. Best is trial 83 with value: 0.6814516129032258.\n",
      "[I 2023-06-06 17:09:31,441] Trial 788 finished with value: 0.6209677419354839 and parameters: {'n_estimators': 36, 'eta': 0.09990393331446723, 'max_depth': 14, 'subsample': 0.8630904926858572, 'colsample_bytree': 0.22145347115928432, 'lambda': 1.7000338634575096}. Best is trial 83 with value: 0.6814516129032258.\n",
      "[I 2023-06-06 17:09:32,088] Trial 789 finished with value: 0.6612903225806451 and parameters: {'n_estimators': 26, 'eta': 0.03485625363886803, 'max_depth': 10, 'subsample': 0.9442729878932284, 'colsample_bytree': 0.7853959742608174, 'lambda': 54.11346265870167}. Best is trial 83 with value: 0.6814516129032258.\n",
      "[I 2023-06-06 17:09:33,091] Trial 790 finished with value: 0.655241935483871 and parameters: {'n_estimators': 35, 'eta': 0.08303274147669316, 'max_depth': 11, 'subsample': 0.9167082681669456, 'colsample_bytree': 0.8835997379758547, 'lambda': 17.506511316229112}. Best is trial 83 with value: 0.6814516129032258.\n",
      "[I 2023-06-06 17:09:34,089] Trial 791 finished with value: 0.6693548387096774 and parameters: {'n_estimators': 29, 'eta': 0.052610721407416496, 'max_depth': 13, 'subsample': 0.9670165979491969, 'colsample_bytree': 0.9763689152421487, 'lambda': 28.282769432173133}. Best is trial 83 with value: 0.6814516129032258.\n",
      "[I 2023-06-06 17:09:35,160] Trial 792 finished with value: 0.6653225806451613 and parameters: {'n_estimators': 45, 'eta': 0.02889082544661096, 'max_depth': 11, 'subsample': 0.899630568005431, 'colsample_bytree': 0.7584422260390662, 'lambda': 9.529825555165369}. Best is trial 83 with value: 0.6814516129032258.\n",
      "[I 2023-06-06 17:09:35,796] Trial 793 finished with value: 0.6612903225806451 and parameters: {'n_estimators': 40, 'eta': 0.027802686403920873, 'max_depth': 15, 'subsample': 0.9567842759174395, 'colsample_bytree': 0.30714002853557504, 'lambda': 68.54208919942914}. Best is trial 83 with value: 0.6814516129032258.\n",
      "[I 2023-06-06 17:09:36,418] Trial 794 finished with value: 0.6754032258064516 and parameters: {'n_estimators': 28, 'eta': 0.04404790718178369, 'max_depth': 11, 'subsample': 0.9851100280616103, 'colsample_bytree': 0.6654130594072932, 'lambda': 45.069904653468996}. Best is trial 83 with value: 0.6814516129032258.\n",
      "[I 2023-06-06 17:09:37,080] Trial 795 finished with value: 0.6512096774193549 and parameters: {'n_estimators': 27, 'eta': 0.04432437268111451, 'max_depth': 11, 'subsample': 0.9749619719223706, 'colsample_bytree': 0.6805633725163872, 'lambda': 1.572075630605406}. Best is trial 83 with value: 0.6814516129032258.\n",
      "[I 2023-06-06 17:09:37,736] Trial 796 finished with value: 0.6411290322580645 and parameters: {'n_estimators': 26, 'eta': 0.045623161948458016, 'max_depth': 11, 'subsample': 0.9846499419463465, 'colsample_bytree': 0.7076466707312853, 'lambda': 0.20599805002987384}. Best is trial 83 with value: 0.6814516129032258.\n",
      "[I 2023-06-06 17:09:38,471] Trial 797 finished with value: 0.6491935483870968 and parameters: {'n_estimators': 28, 'eta': 0.04291440890890528, 'max_depth': 11, 'subsample': 0.9975003409516969, 'colsample_bytree': 0.6956699726241382, 'lambda': 0.6641873895482171}. Best is trial 83 with value: 0.6814516129032258.\n",
      "[I 2023-06-06 17:09:39,038] Trial 798 finished with value: 0.6733870967741935 and parameters: {'n_estimators': 25, 'eta': 0.04855376528667655, 'max_depth': 11, 'subsample': 0.9381312411150226, 'colsample_bytree': 0.6170796518314707, 'lambda': 34.8944567505368}. Best is trial 83 with value: 0.6814516129032258.\n",
      "[I 2023-06-06 17:09:39,558] Trial 799 finished with value: 0.6653225806451613 and parameters: {'n_estimators': 28, 'eta': 0.046853438697325035, 'max_depth': 11, 'subsample': 0.6093116526667915, 'colsample_bytree': 0.6576266739411426, 'lambda': 41.883857370693384}. Best is trial 83 with value: 0.6814516129032258.\n",
      "[I 2023-06-06 17:09:40,174] Trial 800 finished with value: 0.6653225806451613 and parameters: {'n_estimators': 27, 'eta': 0.0804914366137301, 'max_depth': 11, 'subsample': 0.8557738873257027, 'colsample_bytree': 0.7098523282026308, 'lambda': 11.180066331511712}. Best is trial 83 with value: 0.6814516129032258.\n",
      "[I 2023-06-06 17:09:40,779] Trial 801 finished with value: 0.6713709677419355 and parameters: {'n_estimators': 27, 'eta': 0.012976456355808923, 'max_depth': 11, 'subsample': 0.8800968828281682, 'colsample_bytree': 0.6673125467931655, 'lambda': 14.679055191044185}. Best is trial 83 with value: 0.6814516129032258.\n",
      "[I 2023-06-06 17:09:41,221] Trial 802 finished with value: 0.6693548387096774 and parameters: {'n_estimators': 30, 'eta': 0.04376097911083104, 'max_depth': 10, 'subsample': 0.9994784153058976, 'colsample_bytree': 0.34757260749979596, 'lambda': 24.866619446977463}. Best is trial 83 with value: 0.6814516129032258.\n",
      "[I 2023-06-06 17:09:41,915] Trial 803 finished with value: 0.6431451612903226 and parameters: {'n_estimators': 28, 'eta': 0.04913462517234943, 'max_depth': 11, 'subsample': 0.9244576799859402, 'colsample_bytree': 0.7192872402124512, 'lambda': 0.23681288377910073}. Best is trial 83 with value: 0.6814516129032258.\n",
      "[I 2023-06-06 17:09:42,217] Trial 804 finished with value: 0.6612903225806451 and parameters: {'n_estimators': 29, 'eta': 0.08749539732404837, 'max_depth': 11, 'subsample': 0.955309887311256, 'colsample_bytree': 0.2000424053558857, 'lambda': 31.156929476312985}. Best is trial 83 with value: 0.6814516129032258.\n",
      "[I 2023-06-06 17:09:42,516] Trial 805 finished with value: 0.655241935483871 and parameters: {'n_estimators': 31, 'eta': 0.0918464592218892, 'max_depth': 12, 'subsample': 0.20904622952592405, 'colsample_bytree': 0.6905901004432183, 'lambda': 46.08268506924495}. Best is trial 83 with value: 0.6814516129032258.\n",
      "[I 2023-06-06 17:09:42,914] Trial 806 finished with value: 0.6532258064516129 and parameters: {'n_estimators': 30, 'eta': 0.0967043069237809, 'max_depth': 11, 'subsample': 0.48712615832861583, 'colsample_bytree': 0.4833745432787434, 'lambda': 2.131725032898757}. Best is trial 83 with value: 0.6814516129032258.\n",
      "[I 2023-06-06 17:09:43,409] Trial 807 finished with value: 0.6633064516129032 and parameters: {'n_estimators': 26, 'eta': 0.0714180678725583, 'max_depth': 11, 'subsample': 0.6611831622911638, 'colsample_bytree': 0.6273451095883371, 'lambda': 38.01111144957471}. Best is trial 83 with value: 0.6814516129032258.\n",
      "[I 2023-06-06 17:09:44,089] Trial 808 finished with value: 0.6612903225806451 and parameters: {'n_estimators': 29, 'eta': 0.040923599092297355, 'max_depth': 12, 'subsample': 0.977285562568267, 'colsample_bytree': 0.6353174984293491, 'lambda': 58.46403378853618}. Best is trial 83 with value: 0.6814516129032258.\n",
      "[I 2023-06-06 17:09:44,374] Trial 809 finished with value: 0.6612903225806451 and parameters: {'n_estimators': 38, 'eta': 0.05106449168260268, 'max_depth': 11, 'subsample': 0.2558526093758482, 'colsample_bytree': 0.43378622229335967, 'lambda': 27.28736382503975}. Best is trial 83 with value: 0.6814516129032258.\n"
     ]
    },
    {
     "name": "stderr",
     "output_type": "stream",
     "text": [
      "[I 2023-06-06 17:09:45,010] Trial 810 finished with value: 0.6612903225806451 and parameters: {'n_estimators': 37, 'eta': 0.06612913148734226, 'max_depth': 10, 'subsample': 0.4429913025152836, 'colsample_bytree': 0.8628086461580037, 'lambda': 92.77704595543128}. Best is trial 83 with value: 0.6814516129032258.\n",
      "[I 2023-06-06 17:09:45,204] Trial 811 finished with value: 0.6612903225806451 and parameters: {'n_estimators': 39, 'eta': 0.03169543146219727, 'max_depth': 11, 'subsample': 0.1999942145727996, 'colsample_bytree': 0.15147865041132913, 'lambda': 20.432523138647518}. Best is trial 83 with value: 0.6814516129032258.\n",
      "[I 2023-06-06 17:09:46,080] Trial 812 finished with value: 0.6653225806451613 and parameters: {'n_estimators': 38, 'eta': 0.04734419987747958, 'max_depth': 13, 'subsample': 0.7701503229000565, 'colsample_bytree': 0.6768837693151286, 'lambda': 48.306181503770084}. Best is trial 83 with value: 0.6814516129032258.\n",
      "[I 2023-06-06 17:09:46,557] Trial 813 finished with value: 0.6633064516129032 and parameters: {'n_estimators': 37, 'eta': 0.06187596635709754, 'max_depth': 12, 'subsample': 0.9410751265128582, 'colsample_bytree': 0.2760711714043132, 'lambda': 0.44316540553653627}. Best is trial 83 with value: 0.6814516129032258.\n",
      "[I 2023-06-06 17:09:47,635] Trial 814 finished with value: 0.657258064516129 and parameters: {'n_estimators': 41, 'eta': 0.05493715993577243, 'max_depth': 11, 'subsample': 0.9155625443165436, 'colsample_bytree': 0.8217708464636891, 'lambda': 6.389712582218825}. Best is trial 83 with value: 0.6814516129032258.\n",
      "[I 2023-06-06 17:09:48,283] Trial 815 finished with value: 0.6733870967741935 and parameters: {'n_estimators': 28, 'eta': 0.01198302071255089, 'max_depth': 11, 'subsample': 0.9684825428441985, 'colsample_bytree': 0.7252531258957567, 'lambda': 33.14175084448329}. Best is trial 83 with value: 0.6814516129032258.\n",
      "[I 2023-06-06 17:09:49,214] Trial 816 finished with value: 0.6612903225806451 and parameters: {'n_estimators': 39, 'eta': 0.07663534978666957, 'max_depth': 13, 'subsample': 0.6335893706653807, 'colsample_bytree': 0.8043669674310855, 'lambda': 41.81998669600322}. Best is trial 83 with value: 0.6814516129032258.\n",
      "[I 2023-06-06 17:09:50,042] Trial 817 finished with value: 0.6633064516129032 and parameters: {'n_estimators': 31, 'eta': 0.0299687882126726, 'max_depth': 10, 'subsample': 0.8872051333489145, 'colsample_bytree': 0.9474007542571257, 'lambda': 5.769786379193059}. Best is trial 83 with value: 0.6814516129032258.\n",
      "[I 2023-06-06 17:09:50,950] Trial 818 finished with value: 0.6693548387096774 and parameters: {'n_estimators': 38, 'eta': 0.016739675461206804, 'max_depth': 11, 'subsample': 0.9849450450651739, 'colsample_bytree': 0.7419431187505382, 'lambda': 16.930946061016186}. Best is trial 83 with value: 0.6814516129032258.\n",
      "[I 2023-06-06 17:09:51,291] Trial 819 finished with value: 0.6270161290322581 and parameters: {'n_estimators': 37, 'eta': 0.08468171808614684, 'max_depth': 12, 'subsample': 0.5561928312875947, 'colsample_bytree': 0.20438748698699538, 'lambda': 0.5772008945702926}. Best is trial 83 with value: 0.6814516129032258.\n",
      "[I 2023-06-06 17:09:51,945] Trial 820 finished with value: 0.6633064516129032 and parameters: {'n_estimators': 40, 'eta': 0.04417901405099901, 'max_depth': 11, 'subsample': 0.9560675326115967, 'colsample_bytree': 0.41267886373531415, 'lambda': 36.56425462242432}. Best is trial 83 with value: 0.6814516129032258.\n",
      "[I 2023-06-06 17:09:52,406] Trial 821 finished with value: 0.6612903225806451 and parameters: {'n_estimators': 26, 'eta': 0.059972424875218665, 'max_depth': 13, 'subsample': 0.8333202460872718, 'colsample_bytree': 0.46589529729337187, 'lambda': 75.85587429703124}. Best is trial 83 with value: 0.6814516129032258.\n",
      "[I 2023-06-06 17:09:52,958] Trial 822 finished with value: 0.6290322580645161 and parameters: {'n_estimators': 29, 'eta': 0.09374256972024685, 'max_depth': 11, 'subsample': 0.7345427403189525, 'colsample_bytree': 0.5718694880382219, 'lambda': 0.6955704977384272}. Best is trial 83 with value: 0.6814516129032258.\n",
      "[I 2023-06-06 17:09:53,295] Trial 823 finished with value: 0.6612903225806451 and parameters: {'n_estimators': 27, 'eta': 0.024997560155850775, 'max_depth': 12, 'subsample': 0.3361156496129702, 'colsample_bytree': 0.5088630254233526, 'lambda': 23.173015634622658}. Best is trial 83 with value: 0.6814516129032258.\n",
      "[I 2023-06-06 17:09:54,200] Trial 824 finished with value: 0.6653225806451613 and parameters: {'n_estimators': 39, 'eta': 0.03321354250744643, 'max_depth': 11, 'subsample': 0.9305723621362414, 'colsample_bytree': 0.6435455374690398, 'lambda': 8.6969089449546}. Best is trial 83 with value: 0.6814516129032258.\n",
      "[I 2023-06-06 17:09:55,100] Trial 825 finished with value: 0.6532258064516129 and parameters: {'n_estimators': 25, 'eta': 0.05275494961121932, 'max_depth': 13, 'subsample': 0.9032495542011411, 'colsample_bytree': 0.9982224889860778, 'lambda': 30.05189396304464}. Best is trial 83 with value: 0.6814516129032258.\n",
      "[I 2023-06-06 17:09:56,048] Trial 826 finished with value: 0.6612903225806451 and parameters: {'n_estimators': 49, 'eta': 0.03981667857095812, 'max_depth': 14, 'subsample': 0.6822758980435228, 'colsample_bytree': 0.5466630661852927, 'lambda': 51.42357957684442}. Best is trial 83 with value: 0.6814516129032258.\n",
      "[I 2023-06-06 17:09:56,956] Trial 827 finished with value: 0.6653225806451613 and parameters: {'n_estimators': 37, 'eta': 0.0422182453175618, 'max_depth': 10, 'subsample': 0.8081741482697042, 'colsample_bytree': 0.9044361930918743, 'lambda': 14.230821043248142}. Best is trial 83 with value: 0.6814516129032258.\n",
      "[I 2023-06-06 17:09:57,219] Trial 828 finished with value: 0.6370967741935484 and parameters: {'n_estimators': 43, 'eta': 0.056838751978850556, 'max_depth': 11, 'subsample': 0.3021010624064169, 'colsample_bytree': 0.16121644489122705, 'lambda': 1.9132680444905}. Best is trial 83 with value: 0.6814516129032258.\n",
      "[I 2023-06-06 17:09:57,654] Trial 829 finished with value: 0.6612903225806451 and parameters: {'n_estimators': 38, 'eta': 0.04630308089420203, 'max_depth': 11, 'subsample': 0.19122973764689172, 'colsample_bytree': 0.8446219591962397, 'lambda': 139.1960625150818}. Best is trial 83 with value: 0.6814516129032258.\n",
      "[I 2023-06-06 17:09:58,557] Trial 830 finished with value: 0.6693548387096774 and parameters: {'n_estimators': 27, 'eta': 0.06801553873785825, 'max_depth': 12, 'subsample': 0.9492511289141176, 'colsample_bytree': 0.8777066256292226, 'lambda': 63.043915034470935}. Best is trial 83 with value: 0.6814516129032258.\n",
      "[I 2023-06-06 17:09:59,471] Trial 831 finished with value: 0.6612903225806451 and parameters: {'n_estimators': 30, 'eta': 0.01872921293305114, 'max_depth': 13, 'subsample': 0.5743037266282083, 'colsample_bytree': 0.7011649487692546, 'lambda': 42.3195296318131}. Best is trial 83 with value: 0.6814516129032258.\n",
      "[I 2023-06-06 17:10:00,630] Trial 832 finished with value: 0.6653225806451613 and parameters: {'n_estimators': 36, 'eta': 0.08972099900984598, 'max_depth': 11, 'subsample': 0.986108807746261, 'colsample_bytree': 0.8105599040416105, 'lambda': 37.265183198331464}. Best is trial 83 with value: 0.6814516129032258.\n",
      "[I 2023-06-06 17:10:01,807] Trial 833 finished with value: 0.6612903225806451 and parameters: {'n_estimators': 39, 'eta': 0.02695956821032152, 'max_depth': 12, 'subsample': 0.9678737088653434, 'colsample_bytree': 0.7820063100385399, 'lambda': 26.24125421576755}. Best is trial 83 with value: 0.6814516129032258.\n",
      "[I 2023-06-06 17:10:02,983] Trial 834 finished with value: 0.6592741935483871 and parameters: {'n_estimators': 38, 'eta': 0.04887358928151644, 'max_depth': 11, 'subsample': 0.9353497083708983, 'colsample_bytree': 0.9227407749902701, 'lambda': 18.838719284023263}. Best is trial 83 with value: 0.6814516129032258.\n",
      "[I 2023-06-06 17:10:03,733] Trial 835 finished with value: 0.6612903225806451 and parameters: {'n_estimators': 40, 'eta': 0.016361687245001665, 'max_depth': 14, 'subsample': 0.5319015879660617, 'colsample_bytree': 0.6675966058962313, 'lambda': 5.142031740220934}. Best is trial 83 with value: 0.6814516129032258.\n",
      "[I 2023-06-06 17:10:04,249] Trial 836 finished with value: 0.6713709677419355 and parameters: {'n_estimators': 26, 'eta': 0.03147103853250433, 'max_depth': 13, 'subsample': 0.9582741200971425, 'colsample_bytree': 0.4924116392241598, 'lambda': 44.811199976011416}. Best is trial 83 with value: 0.6814516129032258.\n"
     ]
    },
    {
     "name": "stderr",
     "output_type": "stream",
     "text": [
      "[I 2023-06-06 17:10:05,164] Trial 837 finished with value: 0.6673387096774194 and parameters: {'n_estimators': 37, 'eta': 0.051492364684698345, 'max_depth': 10, 'subsample': 0.9141831517096524, 'colsample_bytree': 0.8299204219069786, 'lambda': 54.42783580835742}. Best is trial 83 with value: 0.6814516129032258.\n",
      "[I 2023-06-06 17:10:05,867] Trial 838 finished with value: 0.6633064516129032 and parameters: {'n_estimators': 25, 'eta': 0.019456906755976045, 'max_depth': 13, 'subsample': 0.9813084545243594, 'colsample_bytree': 0.7363016622508074, 'lambda': 33.46979640282801}. Best is trial 83 with value: 0.6814516129032258.\n",
      "[I 2023-06-06 17:10:06,395] Trial 839 finished with value: 0.6310483870967742 and parameters: {'n_estimators': 36, 'eta': 0.07816553552543845, 'max_depth': 11, 'subsample': 0.3995792223420703, 'colsample_bytree': 0.7688805217994077, 'lambda': 3.4915710065816414}. Best is trial 83 with value: 0.6814516129032258.\n",
      "[I 2023-06-06 17:10:07,231] Trial 840 finished with value: 0.6491935483870968 and parameters: {'n_estimators': 39, 'eta': 0.09644867384676419, 'max_depth': 11, 'subsample': 0.9417059228169141, 'colsample_bytree': 0.5890988575271696, 'lambda': 23.122148028028114}. Best is trial 83 with value: 0.6814516129032258.\n",
      "[I 2023-06-06 17:10:07,825] Trial 841 finished with value: 0.655241935483871 and parameters: {'n_estimators': 36, 'eta': 0.03522437567168261, 'max_depth': 9, 'subsample': 0.8952904928402279, 'colsample_bytree': 0.5251710410415616, 'lambda': 0.318094089520816}. Best is trial 83 with value: 0.6814516129032258.\n",
      "[I 2023-06-06 17:10:08,863] Trial 842 finished with value: 0.6431451612903226 and parameters: {'n_estimators': 38, 'eta': 0.03787262349003159, 'max_depth': 12, 'subsample': 0.9674698408031605, 'colsample_bytree': 0.7942983191271099, 'lambda': 0.2611540402229109}. Best is trial 83 with value: 0.6814516129032258.\n",
      "[I 2023-06-06 17:10:09,631] Trial 843 finished with value: 0.6653225806451613 and parameters: {'n_estimators': 46, 'eta': 0.04419702865731188, 'max_depth': 6, 'subsample': 0.9241613523736433, 'colsample_bytree': 0.8508275695162372, 'lambda': 29.280229763068313}. Best is trial 83 with value: 0.6814516129032258.\n",
      "[I 2023-06-06 17:10:10,088] Trial 844 finished with value: 0.6471774193548387 and parameters: {'n_estimators': 40, 'eta': 0.054355048362596727, 'max_depth': 11, 'subsample': 0.22498750206528317, 'colsample_bytree': 0.9452375345038678, 'lambda': 4.317052857726306}. Best is trial 83 with value: 0.6814516129032258.\n",
      "[I 2023-06-06 17:10:11,094] Trial 845 finished with value: 0.6290322580645161 and parameters: {'n_estimators': 37, 'eta': 0.06451705316902405, 'max_depth': 10, 'subsample': 0.9843852261829804, 'colsample_bytree': 0.894313348173603, 'lambda': 0.3901169184941482}. Best is trial 83 with value: 0.6814516129032258.\n",
      "[I 2023-06-06 17:10:11,925] Trial 846 finished with value: 0.657258064516129 and parameters: {'n_estimators': 39, 'eta': 0.03343382708163637, 'max_depth': 13, 'subsample': 0.44341499916480576, 'colsample_bytree': 0.9773785380554195, 'lambda': 11.022431539862676}. Best is trial 83 with value: 0.6814516129032258.\n",
      "[I 2023-06-06 17:10:12,804] Trial 847 finished with value: 0.6754032258064516 and parameters: {'n_estimators': 38, 'eta': 0.07092829760348349, 'max_depth': 11, 'subsample': 0.950209099886671, 'colsample_bytree': 0.687764211890391, 'lambda': 40.27024184116014}. Best is trial 83 with value: 0.6814516129032258.\n",
      "[I 2023-06-06 17:10:13,771] Trial 848 finished with value: 0.6673387096774194 and parameters: {'n_estimators': 37, 'eta': 0.07158562721379008, 'max_depth': 11, 'subsample': 0.857079460462074, 'colsample_bytree': 0.6828811819976286, 'lambda': 39.37874188170411}. Best is trial 83 with value: 0.6814516129032258.\n",
      "[I 2023-06-06 17:10:14,489] Trial 849 finished with value: 0.6653225806451613 and parameters: {'n_estimators': 32, 'eta': 0.06965588758997719, 'max_depth': 14, 'subsample': 0.6725996324716028, 'colsample_bytree': 0.6966662631792977, 'lambda': 46.953517333602406}. Best is trial 83 with value: 0.6814516129032258.\n",
      "[I 2023-06-06 17:10:14,911] Trial 850 finished with value: 0.6612903225806451 and parameters: {'n_estimators': 41, 'eta': 0.01065744932724285, 'max_depth': 11, 'subsample': 0.23058400406457558, 'colsample_bytree': 0.7092774415427058, 'lambda': 38.07883928191381}. Best is trial 83 with value: 0.6814516129032258.\n",
      "[I 2023-06-06 17:10:15,948] Trial 851 finished with value: 0.6612903225806451 and parameters: {'n_estimators': 36, 'eta': 0.06819227369216166, 'max_depth': 13, 'subsample': 0.9420416907965057, 'colsample_bytree': 0.679969293502725, 'lambda': 32.82571578954047}. Best is trial 83 with value: 0.6814516129032258.\n",
      "[I 2023-06-06 17:10:16,277] Trial 852 finished with value: 0.6612903225806451 and parameters: {'n_estimators': 28, 'eta': 0.08076657146551214, 'max_depth': 12, 'subsample': 0.7166411096659976, 'colsample_bytree': 0.2662760194623977, 'lambda': 43.08102915973849}. Best is trial 83 with value: 0.6814516129032258.\n",
      "[I 2023-06-06 17:10:17,310] Trial 853 finished with value: 0.6431451612903226 and parameters: {'n_estimators': 38, 'eta': 0.021967629778380862, 'max_depth': 14, 'subsample': 0.908427786787111, 'colsample_bytree': 0.7168439853456461, 'lambda': 0.8635606699900974}. Best is trial 83 with value: 0.6814516129032258.\n",
      "[I 2023-06-06 17:10:17,854] Trial 854 finished with value: 0.6612903225806451 and parameters: {'n_estimators': 36, 'eta': 0.022468498951508493, 'max_depth': 11, 'subsample': 0.4293831655981254, 'colsample_bytree': 0.6495180336727467, 'lambda': 50.16667203394467}. Best is trial 83 with value: 0.6814516129032258.\n",
      "[I 2023-06-06 17:10:18,413] Trial 855 finished with value: 0.6612903225806451 and parameters: {'n_estimators': 39, 'eta': 0.06158550379424171, 'max_depth': 11, 'subsample': 0.3794473779285992, 'colsample_bytree': 0.7228984027021431, 'lambda': 58.963019214130355}. Best is trial 83 with value: 0.6814516129032258.\n",
      "[I 2023-06-06 17:10:19,194] Trial 856 finished with value: 0.6471774193548387 and parameters: {'n_estimators': 38, 'eta': 0.0832935980338768, 'max_depth': 13, 'subsample': 0.5944185462779068, 'colsample_bytree': 0.6810609397971554, 'lambda': 7.342756646892206}. Best is trial 83 with value: 0.6814516129032258.\n",
      "[I 2023-06-06 17:10:19,792] Trial 857 finished with value: 0.6693548387096774 and parameters: {'n_estimators': 26, 'eta': 0.07726077792497378, 'max_depth': 11, 'subsample': 0.8760933383303134, 'colsample_bytree': 0.6649889690944871, 'lambda': 36.400215581223044}. Best is trial 83 with value: 0.6814516129032258.\n",
      "[I 2023-06-06 17:10:20,409] Trial 858 finished with value: 0.6653225806451613 and parameters: {'n_estimators': 25, 'eta': 0.07258440305103071, 'max_depth': 12, 'subsample': 0.9236455457303602, 'colsample_bytree': 0.6980057382207864, 'lambda': 43.81342801464687}. Best is trial 83 with value: 0.6814516129032258.\n",
      "[I 2023-06-06 17:10:21,454] Trial 859 finished with value: 0.6733870967741935 and parameters: {'n_estimators': 37, 'eta': 0.058292013456832915, 'max_depth': 10, 'subsample': 0.9991081059604412, 'colsample_bytree': 0.8658356819657109, 'lambda': 30.56195871137338}. Best is trial 83 with value: 0.6814516129032258.\n",
      "[I 2023-06-06 17:10:22,323] Trial 860 finished with value: 0.625 and parameters: {'n_estimators': 39, 'eta': 0.06639130899849807, 'max_depth': 11, 'subsample': 0.5056880967284713, 'colsample_bytree': 0.9350743758546387, 'lambda': 0.35396651514257815}. Best is trial 83 with value: 0.6814516129032258.\n",
      "[I 2023-06-06 17:10:23,029] Trial 861 finished with value: 0.6633064516129032 and parameters: {'n_estimators': 40, 'eta': 0.08719705746236575, 'max_depth': 14, 'subsample': 0.9491628747557183, 'colsample_bytree': 0.3503211226608281, 'lambda': 52.04129820667925}. Best is trial 83 with value: 0.6814516129032258.\n",
      "[I 2023-06-06 17:10:24,011] Trial 862 finished with value: 0.6431451612903226 and parameters: {'n_estimators': 35, 'eta': 0.059469445909366904, 'max_depth': 13, 'subsample': 0.6899112667892516, 'colsample_bytree': 0.9124484929688648, 'lambda': 0.49745571617091167}. Best is trial 83 with value: 0.6814516129032258.\n",
      "[I 2023-06-06 17:10:24,449] Trial 863 finished with value: 0.6653225806451613 and parameters: {'n_estimators': 36, 'eta': 0.07930340782602037, 'max_depth': 11, 'subsample': 0.815474921035539, 'colsample_bytree': 0.31188702975556837, 'lambda': 68.30610792956072}. Best is trial 83 with value: 0.6814516129032258.\n"
     ]
    },
    {
     "name": "stderr",
     "output_type": "stream",
     "text": [
      "[I 2023-06-06 17:10:24,802] Trial 864 finished with value: 0.6532258064516129 and parameters: {'n_estimators': 29, 'eta': 0.09976102609850833, 'max_depth': 11, 'subsample': 0.36089011540694704, 'colsample_bytree': 0.45225380862832065, 'lambda': 40.202269063457024}. Best is trial 83 with value: 0.6814516129032258.\n",
      "[I 2023-06-06 17:10:26,052] Trial 865 finished with value: 0.6612903225806451 and parameters: {'n_estimators': 38, 'eta': 0.0635993999351141, 'max_depth': 12, 'subsample': 0.9589342577965984, 'colsample_bytree': 0.961495422994713, 'lambda': 34.424201903188106}. Best is trial 83 with value: 0.6814516129032258.\n",
      "[I 2023-06-06 17:10:26,390] Trial 866 finished with value: 0.6532258064516129 and parameters: {'n_estimators': 37, 'eta': 0.011424606735240248, 'max_depth': 13, 'subsample': 0.9268043941354338, 'colsample_bytree': 0.1379042183137506, 'lambda': 0.22070174057156178}. Best is trial 83 with value: 0.6814516129032258.\n",
      "[I 2023-06-06 17:10:27,546] Trial 867 finished with value: 0.6612903225806451 and parameters: {'n_estimators': 36, 'eta': 0.0158179397483657, 'max_depth': 14, 'subsample': 0.9008681569106958, 'colsample_bytree': 0.8812560383799826, 'lambda': 27.173181410191035}. Best is trial 83 with value: 0.6814516129032258.\n",
      "[I 2023-06-06 17:10:28,311] Trial 868 finished with value: 0.6633064516129032 and parameters: {'n_estimators': 39, 'eta': 0.08978418862726821, 'max_depth': 10, 'subsample': 0.7191918916560098, 'colsample_bytree': 0.7297925220581324, 'lambda': 112.78300350261743}. Best is trial 83 with value: 0.6814516129032258.\n",
      "[I 2023-06-06 17:10:28,836] Trial 869 finished with value: 0.6633064516129032 and parameters: {'n_estimators': 35, 'eta': 0.05538423329549259, 'max_depth': 11, 'subsample': 0.6543657087427859, 'colsample_bytree': 0.4737325709164759, 'lambda': 47.58243234811011}. Best is trial 83 with value: 0.6814516129032258.\n",
      "[I 2023-06-06 17:10:29,384] Trial 870 finished with value: 0.6592741935483871 and parameters: {'n_estimators': 38, 'eta': 0.01526676663762073, 'max_depth': 11, 'subsample': 0.4837695913141967, 'colsample_bytree': 0.5036271390020333, 'lambda': 38.25459067883922}. Best is trial 83 with value: 0.6814516129032258.\n",
      "[I 2023-06-06 17:10:30,133] Trial 871 finished with value: 0.6733870967741935 and parameters: {'n_estimators': 28, 'eta': 0.07073759572101343, 'max_depth': 12, 'subsample': 0.9710011467934058, 'colsample_bytree': 0.7409794452241613, 'lambda': 55.39506377319249}. Best is trial 83 with value: 0.6814516129032258.\n",
      "[I 2023-06-06 17:10:31,000] Trial 872 finished with value: 0.6612903225806451 and parameters: {'n_estimators': 40, 'eta': 0.01059124189936604, 'max_depth': 13, 'subsample': 0.9441481455778201, 'colsample_bytree': 0.58240655024265, 'lambda': 86.10091205579366}. Best is trial 83 with value: 0.6814516129032258.\n",
      "[I 2023-06-06 17:10:31,142] Trial 873 finished with value: 0.6612903225806451 and parameters: {'n_estimators': 30, 'eta': 0.010069596003018821, 'max_depth': 11, 'subsample': 0.1157045757902217, 'colsample_bytree': 0.11550636736900122, 'lambda': 32.44954142615817}. Best is trial 83 with value: 0.6814516129032258.\n",
      "[I 2023-06-06 17:10:31,446] Trial 874 finished with value: 0.6633064516129032 and parameters: {'n_estimators': 27, 'eta': 0.07563958801324391, 'max_depth': 11, 'subsample': 0.26686006220893443, 'colsample_bytree': 0.6496668289810089, 'lambda': 46.12558818936806}. Best is trial 83 with value: 0.6814516129032258.\n",
      "[I 2023-06-06 17:10:32,173] Trial 875 finished with value: 0.6693548387096774 and parameters: {'n_estimators': 25, 'eta': 0.08334376034402968, 'max_depth': 10, 'subsample': 0.9557638890716678, 'colsample_bytree': 0.9843847790888879, 'lambda': 63.92175395644154}. Best is trial 83 with value: 0.6814516129032258.\n",
      "[I 2023-06-06 17:10:33,029] Trial 876 finished with value: 0.6673387096774194 and parameters: {'n_estimators': 37, 'eta': 0.012706944377965077, 'max_depth': 13, 'subsample': 0.9796727778630865, 'colsample_bytree': 0.608697709819182, 'lambda': 25.52066699865288}. Best is trial 83 with value: 0.6814516129032258.\n",
      "[I 2023-06-06 17:10:33,269] Trial 877 finished with value: 0.6612903225806451 and parameters: {'n_estimators': 26, 'eta': 0.04769516611426729, 'max_depth': 11, 'subsample': 0.2863073099724438, 'colsample_bytree': 0.40097899442554163, 'lambda': 41.69796385140105}. Best is trial 83 with value: 0.6814516129032258.\n",
      "[I 2023-06-06 17:10:34,255] Trial 878 finished with value: 0.6451612903225806 and parameters: {'n_estimators': 39, 'eta': 0.05011669725619448, 'max_depth': 14, 'subsample': 0.7945319129227811, 'colsample_bytree': 0.7111369056457238, 'lambda': 1.1114490073489902}. Best is trial 83 with value: 0.6814516129032258.\n",
      "[I 2023-06-06 17:10:35,344] Trial 879 finished with value: 0.6693548387096774 and parameters: {'n_estimators': 36, 'eta': 0.07448041364577952, 'max_depth': 12, 'subsample': 0.8890469209763361, 'colsample_bytree': 0.9025526738928629, 'lambda': 30.425031199099113}. Best is trial 83 with value: 0.6814516129032258.\n",
      "[I 2023-06-06 17:10:36,290] Trial 880 finished with value: 0.6653225806451613 and parameters: {'n_estimators': 38, 'eta': 0.014320766609197165, 'max_depth': 13, 'subsample': 0.9321335545508741, 'colsample_bytree': 0.6908668499848785, 'lambda': 35.793066718086074}. Best is trial 83 with value: 0.6814516129032258.\n",
      "[I 2023-06-06 17:10:37,748] Trial 881 finished with value: 0.6411290322580645 and parameters: {'n_estimators': 50, 'eta': 0.09353993598814775, 'max_depth': 11, 'subsample': 0.9999626641322139, 'colsample_bytree': 0.9282779949142658, 'lambda': 0.49057850270595654}. Best is trial 83 with value: 0.6814516129032258.\n",
      "[I 2023-06-06 17:10:38,676] Trial 882 finished with value: 0.6673387096774194 and parameters: {'n_estimators': 36, 'eta': 0.041567174558956026, 'max_depth': 11, 'subsample': 0.9159656282466416, 'colsample_bytree': 0.8363966256668798, 'lambda': 8.251065170384665}. Best is trial 83 with value: 0.6814516129032258.\n",
      "[I 2023-06-06 17:10:39,293] Trial 883 finished with value: 0.6612903225806451 and parameters: {'n_estimators': 37, 'eta': 0.02358594304611962, 'max_depth': 12, 'subsample': 0.7637161693695759, 'colsample_bytree': 0.4280961157602726, 'lambda': 181.04349275597323}. Best is trial 83 with value: 0.6814516129032258.\n",
      "[I 2023-06-06 17:10:39,968] Trial 884 finished with value: 0.657258064516129 and parameters: {'n_estimators': 39, 'eta': 0.053545980555708604, 'max_depth': 15, 'subsample': 0.46760523813348703, 'colsample_bytree': 0.5445321531600987, 'lambda': 50.97929712168163}. Best is trial 83 with value: 0.6814516129032258.\n",
      "[I 2023-06-06 17:10:40,903] Trial 885 finished with value: 0.6693548387096774 and parameters: {'n_estimators': 35, 'eta': 0.046157078299897146, 'max_depth': 11, 'subsample': 0.8494812304192457, 'colsample_bytree': 0.8643264325128958, 'lambda': 4.8633487035347045}. Best is trial 83 with value: 0.6814516129032258.\n",
      "[I 2023-06-06 17:10:41,740] Trial 886 finished with value: 0.657258064516129 and parameters: {'n_estimators': 37, 'eta': 0.03927187907369562, 'max_depth': 14, 'subsample': 0.542783315182594, 'colsample_bytree': 0.7604790047520131, 'lambda': 9.593790024946227}. Best is trial 83 with value: 0.6814516129032258.\n",
      "[I 2023-06-06 17:10:43,153] Trial 887 finished with value: 0.6713709677419355 and parameters: {'n_estimators': 40, 'eta': 0.05785070709009324, 'max_depth': 13, 'subsample': 0.9674900340463541, 'colsample_bytree': 0.9575774952604503, 'lambda': 42.26207839702184}. Best is trial 83 with value: 0.6814516129032258.\n",
      "[I 2023-06-06 17:10:43,644] Trial 888 finished with value: 0.6633064516129032 and parameters: {'n_estimators': 38, 'eta': 0.0668425250280555, 'max_depth': 11, 'subsample': 0.5979711871324639, 'colsample_bytree': 0.3653296911891911, 'lambda': 58.38118033439174}. Best is trial 83 with value: 0.6814516129032258.\n",
      "[I 2023-06-06 17:10:43,933] Trial 889 finished with value: 0.6471774193548387 and parameters: {'n_estimators': 44, 'eta': 0.06336913649964504, 'max_depth': 15, 'subsample': 0.17869689921911125, 'colsample_bytree': 0.2975951769473733, 'lambda': 5.902663507301638}. Best is trial 83 with value: 0.6814516129032258.\n",
      "[I 2023-06-06 17:10:44,446] Trial 890 finished with value: 0.657258064516129 and parameters: {'n_estimators': 42, 'eta': 0.051491313059231096, 'max_depth': 12, 'subsample': 0.9462837986703067, 'colsample_bytree': 0.22579340482407223, 'lambda': 28.708212353193264}. Best is trial 83 with value: 0.6814516129032258.\n"
     ]
    },
    {
     "name": "stderr",
     "output_type": "stream",
     "text": [
      "[I 2023-06-06 17:10:44,818] Trial 891 finished with value: 0.6612903225806451 and parameters: {'n_estimators': 27, 'eta': 0.02046183768000637, 'max_depth': 11, 'subsample': 0.41006456731093255, 'colsample_bytree': 0.5559735547061263, 'lambda': 35.30887396208864}. Best is trial 83 with value: 0.6814516129032258.\n",
      "[I 2023-06-06 17:10:45,765] Trial 892 finished with value: 0.6673387096774194 and parameters: {'n_estimators': 36, 'eta': 0.08942273924992278, 'max_depth': 10, 'subsample': 0.9811565826971296, 'colsample_bytree': 0.8186797266213821, 'lambda': 197.49389463406004}. Best is trial 83 with value: 0.6814516129032258.\n",
      "[I 2023-06-06 17:10:46,711] Trial 893 finished with value: 0.6713709677419355 and parameters: {'n_estimators': 35, 'eta': 0.015292356614636508, 'max_depth': 14, 'subsample': 0.9571365667882807, 'colsample_bytree': 0.6681163366553042, 'lambda': 76.57321433299579}. Best is trial 83 with value: 0.6814516129032258.\n",
      "[I 2023-06-06 17:10:47,268] Trial 894 finished with value: 0.6673387096774194 and parameters: {'n_estimators': 32, 'eta': 0.021833048456951405, 'max_depth': 13, 'subsample': 0.9231589467454854, 'colsample_bytree': 0.36489697999734216, 'lambda': 21.805246812821313}. Best is trial 83 with value: 0.6814516129032258.\n",
      "[I 2023-06-06 17:10:48,318] Trial 895 finished with value: 0.6653225806451613 and parameters: {'n_estimators': 41, 'eta': 0.08518815775124515, 'max_depth': 11, 'subsample': 0.8767628946399925, 'colsample_bytree': 0.7298785167754218, 'lambda': 47.81750493270065}. Best is trial 83 with value: 0.6814516129032258.\n",
      "[I 2023-06-06 17:10:49,688] Trial 896 finished with value: 0.6633064516129032 and parameters: {'n_estimators': 39, 'eta': 0.05620880698441664, 'max_depth': 15, 'subsample': 0.9369104266819025, 'colsample_bytree': 0.8385781156001645, 'lambda': 39.830060293831565}. Best is trial 83 with value: 0.6814516129032258.\n",
      "[I 2023-06-06 17:10:50,425] Trial 897 finished with value: 0.6713709677419355 and parameters: {'n_estimators': 26, 'eta': 0.04325011411681933, 'max_depth': 11, 'subsample': 0.8310716548206117, 'colsample_bytree': 0.8840076523871938, 'lambda': 24.967200292672512}. Best is trial 83 with value: 0.6814516129032258.\n",
      "[I 2023-06-06 17:10:51,467] Trial 898 finished with value: 0.6693548387096774 and parameters: {'n_estimators': 37, 'eta': 0.09495688316149152, 'max_depth': 13, 'subsample': 0.9024620622210257, 'colsample_bytree': 0.7068659637332344, 'lambda': 32.23999977741001}. Best is trial 83 with value: 0.6814516129032258.\n",
      "[I 2023-06-06 17:10:51,766] Trial 899 finished with value: 0.6612903225806451 and parameters: {'n_estimators': 25, 'eta': 0.049871506980476245, 'max_depth': 11, 'subsample': 0.5133564827195122, 'colsample_bytree': 0.29067393227287547, 'lambda': 3.9933958384979023}. Best is trial 83 with value: 0.6814516129032258.\n",
      "[I 2023-06-06 17:10:52,784] Trial 900 finished with value: 0.6754032258064516 and parameters: {'n_estimators': 38, 'eta': 0.03741283161611578, 'max_depth': 12, 'subsample': 0.9695189553550276, 'colsample_bytree': 0.7477121505703965, 'lambda': 53.40018392945722}. Best is trial 83 with value: 0.6814516129032258.\n",
      "[I 2023-06-06 17:10:53,842] Trial 901 finished with value: 0.6633064516129032 and parameters: {'n_estimators': 38, 'eta': 0.0387423638428907, 'max_depth': 12, 'subsample': 0.971234387464161, 'colsample_bytree': 0.7449819320366968, 'lambda': 64.7352524269118}. Best is trial 83 with value: 0.6814516129032258.\n",
      "[I 2023-06-06 17:10:54,196] Trial 902 finished with value: 0.657258064516129 and parameters: {'n_estimators': 38, 'eta': 0.036982763771901316, 'max_depth': 12, 'subsample': 0.16869984774284608, 'colsample_bytree': 0.7501388033812516, 'lambda': 54.8734986715499}. Best is trial 83 with value: 0.6814516129032258.\n",
      "[I 2023-06-06 17:10:54,896] Trial 903 finished with value: 0.6592741935483871 and parameters: {'n_estimators': 38, 'eta': 0.03626370194097953, 'max_depth': 12, 'subsample': 0.4581911756194433, 'colsample_bytree': 0.7223032418095454, 'lambda': 72.12483172961119}. Best is trial 83 with value: 0.6814516129032258.\n",
      "[I 2023-06-06 17:10:55,931] Trial 904 finished with value: 0.655241935483871 and parameters: {'n_estimators': 38, 'eta': 0.04047958045580935, 'max_depth': 12, 'subsample': 0.9497101823660584, 'colsample_bytree': 0.7534363225864295, 'lambda': 1.3651225113608638}. Best is trial 83 with value: 0.6814516129032258.\n",
      "[I 2023-06-06 17:10:56,181] Trial 905 finished with value: 0.6612903225806451 and parameters: {'n_estimators': 38, 'eta': 0.037397930026619314, 'max_depth': 12, 'subsample': 0.32976894958988234, 'colsample_bytree': 0.20711763051593501, 'lambda': 56.286001374662526}. Best is trial 83 with value: 0.6814516129032258.\n",
      "[I 2023-06-06 17:10:57,103] Trial 906 finished with value: 0.6592741935483871 and parameters: {'n_estimators': 39, 'eta': 0.03511565844051283, 'max_depth': 12, 'subsample': 0.7468078381781719, 'colsample_bytree': 0.7730023813678788, 'lambda': 49.984505661198746}. Best is trial 83 with value: 0.6814516129032258.\n",
      "[I 2023-06-06 17:10:58,167] Trial 907 finished with value: 0.6612903225806451 and parameters: {'n_estimators': 39, 'eta': 0.0385557342489336, 'max_depth': 12, 'subsample': 0.9875323933754772, 'colsample_bytree': 0.7391265456849744, 'lambda': 96.7009796379154}. Best is trial 83 with value: 0.6814516129032258.\n",
      "[I 2023-06-06 17:10:59,489] Trial 908 finished with value: 0.6673387096774194 and parameters: {'n_estimators': 38, 'eta': 0.04195589994120347, 'max_depth': 12, 'subsample': 0.9996613503777323, 'colsample_bytree': 0.7038519217204412, 'lambda': 64.22522840145884}. Best is trial 83 with value: 0.6814516129032258.\n",
      "[I 2023-06-06 17:11:00,601] Trial 909 finished with value: 0.6693548387096774 and parameters: {'n_estimators': 37, 'eta': 0.028460730719323042, 'max_depth': 12, 'subsample': 0.9120361617233793, 'colsample_bytree': 0.7711009737167089, 'lambda': 46.12101057651165}. Best is trial 83 with value: 0.6814516129032258.\n",
      "[I 2023-06-06 17:11:01,049] Trial 910 finished with value: 0.6673387096774194 and parameters: {'n_estimators': 39, 'eta': 0.04507877132130863, 'max_depth': 12, 'subsample': 0.6280618538636931, 'colsample_bytree': 0.16516497450521112, 'lambda': 0.5798809947651735}. Best is trial 83 with value: 0.6814516129032258.\n",
      "[I 2023-06-06 17:11:01,989] Trial 911 finished with value: 0.6673387096774194 and parameters: {'n_estimators': 40, 'eta': 0.04006514314356285, 'max_depth': 12, 'subsample': 0.9339240010314034, 'colsample_bytree': 0.4897299175078135, 'lambda': 6.857266276168132}. Best is trial 83 with value: 0.6814516129032258.\n",
      "[I 2023-06-06 17:11:02,748] Trial 912 finished with value: 0.6653225806451613 and parameters: {'n_estimators': 37, 'eta': 0.03555121635992006, 'max_depth': 12, 'subsample': 0.9612831140859528, 'colsample_bytree': 0.3821785998394629, 'lambda': 20.58800898996813}. Best is trial 83 with value: 0.6814516129032258.\n",
      "[I 2023-06-06 17:11:03,233] Trial 913 finished with value: 0.6471774193548387 and parameters: {'n_estimators': 31, 'eta': 0.024214370280358034, 'max_depth': 11, 'subsample': 0.5890212361864455, 'colsample_bytree': 0.4527385372896809, 'lambda': 0.2898948095551223}. Best is trial 83 with value: 0.6814516129032258.\n",
      "[I 2023-06-06 17:11:04,210] Trial 914 finished with value: 0.655241935483871 and parameters: {'n_estimators': 38, 'eta': 0.03837058869904504, 'max_depth': 11, 'subsample': 0.9757080341843969, 'colsample_bytree': 0.7269977830644881, 'lambda': 3.2482771134749635}. Best is trial 83 with value: 0.6814516129032258.\n",
      "[I 2023-06-06 17:11:04,922] Trial 915 finished with value: 0.6633064516129032 and parameters: {'n_estimators': 39, 'eta': 0.02660737205148347, 'max_depth': 11, 'subsample': 0.417653076040072, 'colsample_bytree': 0.914357826992788, 'lambda': 59.046002426585844}. Best is trial 83 with value: 0.6814516129032258.\n",
      "[I 2023-06-06 17:11:05,304] Trial 916 finished with value: 0.6612903225806451 and parameters: {'n_estimators': 37, 'eta': 0.01372497382074637, 'max_depth': 12, 'subsample': 0.7729722453590656, 'colsample_bytree': 0.1902564568093687, 'lambda': 45.08420333543007}. Best is trial 83 with value: 0.6814516129032258.\n",
      "[I 2023-06-06 17:11:06,347] Trial 917 finished with value: 0.6633064516129032 and parameters: {'n_estimators': 40, 'eta': 0.03669616895717632, 'max_depth': 15, 'subsample': 0.748182818367614, 'colsample_bytree': 0.6938876670245631, 'lambda': 53.812243026319756}. Best is trial 83 with value: 0.6814516129032258.\n"
     ]
    },
    {
     "name": "stderr",
     "output_type": "stream",
     "text": [
      "[I 2023-06-06 17:11:07,010] Trial 918 finished with value: 0.655241935483871 and parameters: {'n_estimators': 38, 'eta': 0.04708338731046173, 'max_depth': 9, 'subsample': 0.8910446576328472, 'colsample_bytree': 0.5150801397643001, 'lambda': 2.5053902449097745}. Best is trial 83 with value: 0.6814516129032258.\n",
      "[I 2023-06-06 17:11:07,758] Trial 919 finished with value: 0.6532258064516129 and parameters: {'n_estimators': 39, 'eta': 0.03363740772699267, 'max_depth': 10, 'subsample': 0.9503849203671809, 'colsample_bytree': 0.5272145346195694, 'lambda': 11.470925227141192}. Best is trial 83 with value: 0.6814516129032258.\n",
      "[I 2023-06-06 17:11:08,080] Trial 920 finished with value: 0.6068548387096774 and parameters: {'n_estimators': 37, 'eta': 0.09991934495219158, 'max_depth': 11, 'subsample': 0.2021147545956754, 'colsample_bytree': 0.6276527949120565, 'lambda': 0.6015198168409563}. Best is trial 83 with value: 0.6814516129032258.\n",
      "[I 2023-06-06 17:11:08,306] Trial 921 finished with value: 0.6592741935483871 and parameters: {'n_estimators': 38, 'eta': 0.05329904613732105, 'max_depth': 11, 'subsample': 0.2418226258158866, 'colsample_bytree': 0.14092644495118545, 'lambda': 27.302879428274622}. Best is trial 83 with value: 0.6814516129032258.\n",
      "[I 2023-06-06 17:11:09,023] Trial 922 finished with value: 0.6512096774193549 and parameters: {'n_estimators': 25, 'eta': 0.04330036087908928, 'max_depth': 12, 'subsample': 0.9314222141079395, 'colsample_bytree': 0.7892392612217819, 'lambda': 1.4126356925578991}. Best is trial 83 with value: 0.6814516129032258.\n",
      "[I 2023-06-06 17:11:09,644] Trial 923 finished with value: 0.6411290322580645 and parameters: {'n_estimators': 37, 'eta': 0.013508471498136157, 'max_depth': 15, 'subsample': 0.9679144564364757, 'colsample_bytree': 0.27615682154210863, 'lambda': 0.43782764410233105}. Best is trial 83 with value: 0.6814516129032258.\n",
      "[I 2023-06-06 17:11:10,004] Trial 924 finished with value: 0.6612903225806451 and parameters: {'n_estimators': 39, 'eta': 0.04017405105861023, 'max_depth': 11, 'subsample': 0.12330941321972466, 'colsample_bytree': 0.9418241838234346, 'lambda': 38.39113356875043}. Best is trial 83 with value: 0.6814516129032258.\n",
      "[I 2023-06-06 17:11:11,153] Trial 925 finished with value: 0.6612903225806451 and parameters: {'n_estimators': 40, 'eta': 0.010070744821269951, 'max_depth': 11, 'subsample': 0.8617466132213027, 'colsample_bytree': 0.9686399970609213, 'lambda': 83.5157909412602}. Best is trial 83 with value: 0.6814516129032258.\n",
      "[I 2023-06-06 17:11:11,853] Trial 926 finished with value: 0.6592741935483871 and parameters: {'n_estimators': 29, 'eta': 0.03473277086366722, 'max_depth': 15, 'subsample': 0.553060762724334, 'colsample_bytree': 0.7583742922221902, 'lambda': 45.46028998948619}. Best is trial 83 with value: 0.6814516129032258.\n",
      "[I 2023-06-06 17:11:12,575] Trial 927 finished with value: 0.6693548387096774 and parameters: {'n_estimators': 38, 'eta': 0.01497434422606035, 'max_depth': 11, 'subsample': 0.9104576686072018, 'colsample_bytree': 0.5884741702796819, 'lambda': 23.59546652118811}. Best is trial 83 with value: 0.6814516129032258.\n",
      "[I 2023-06-06 17:11:13,139] Trial 928 finished with value: 0.655241935483871 and parameters: {'n_estimators': 26, 'eta': 0.03053661763258136, 'max_depth': 10, 'subsample': 0.5786789791135764, 'colsample_bytree': 0.8960256646158403, 'lambda': 1.1117382919631271}. Best is trial 83 with value: 0.6814516129032258.\n",
      "[I 2023-06-06 17:11:13,567] Trial 929 finished with value: 0.6431451612903226 and parameters: {'n_estimators': 39, 'eta': 0.050407163945835845, 'max_depth': 12, 'subsample': 0.28300265876267877, 'colsample_bytree': 0.6130169207097741, 'lambda': 2.9113223806903576}. Best is trial 83 with value: 0.6814516129032258.\n",
      "[I 2023-06-06 17:11:14,236] Trial 930 finished with value: 0.6592741935483871 and parameters: {'n_estimators': 43, 'eta': 0.01308133144138821, 'max_depth': 11, 'subsample': 0.42762356606461854, 'colsample_bytree': 0.7214352282734627, 'lambda': 51.95907894779264}. Best is trial 83 with value: 0.6814516129032258.\n",
      "[I 2023-06-06 17:11:14,754] Trial 931 finished with value: 0.6612903225806451 and parameters: {'n_estimators': 27, 'eta': 0.04816482172877822, 'max_depth': 15, 'subsample': 0.34064936137130736, 'colsample_bytree': 0.7807024866765782, 'lambda': 126.47176153790055}. Best is trial 83 with value: 0.6814516129032258.\n",
      "[I 2023-06-06 17:11:15,648] Trial 932 finished with value: 0.6592741935483871 and parameters: {'n_estimators': 37, 'eta': 0.037519466354369986, 'max_depth': 11, 'subsample': 0.9800820410318823, 'colsample_bytree': 0.6718523299099779, 'lambda': 12.361931253652779}. Best is trial 83 with value: 0.6814516129032258.\n",
      "[I 2023-06-06 17:11:16,199] Trial 933 finished with value: 0.6612903225806451 and parameters: {'n_estimators': 41, 'eta': 0.011908728862628334, 'max_depth': 12, 'subsample': 0.9486442356817557, 'colsample_bytree': 0.2656615303452974, 'lambda': 34.050553920603534}. Best is trial 83 with value: 0.6814516129032258.\n",
      "[I 2023-06-06 17:11:16,581] Trial 934 finished with value: 0.6612903225806451 and parameters: {'n_estimators': 26, 'eta': 0.04180069981059289, 'max_depth': 10, 'subsample': 0.9270667925991468, 'colsample_bytree': 0.3461049790023541, 'lambda': 69.95096498882016}. Best is trial 83 with value: 0.6814516129032258.\n",
      "[I 2023-06-06 17:11:17,408] Trial 935 finished with value: 0.6653225806451613 and parameters: {'n_estimators': 38, 'eta': 0.014708132860145289, 'max_depth': 14, 'subsample': 0.9600013725070758, 'colsample_bytree': 0.4737362501060016, 'lambda': 41.3614027311183}. Best is trial 83 with value: 0.6814516129032258.\n",
      "[I 2023-06-06 17:11:17,772] Trial 936 finished with value: 0.6612903225806451 and parameters: {'n_estimators': 28, 'eta': 0.01646133674440086, 'max_depth': 11, 'subsample': 0.9868747965742665, 'colsample_bytree': 0.23502375911561568, 'lambda': 161.5828821117053}. Best is trial 83 with value: 0.6814516129032258.\n",
      "[I 2023-06-06 17:11:18,031] Trial 937 finished with value: 0.6612903225806451 and parameters: {'n_estimators': 39, 'eta': 0.04560747086334165, 'max_depth': 15, 'subsample': 0.3058664586145789, 'colsample_bytree': 0.10477026202149203, 'lambda': 29.3286115171122}. Best is trial 83 with value: 0.6814516129032258.\n",
      "[I 2023-06-06 17:11:18,822] Trial 938 finished with value: 0.6653225806451613 and parameters: {'n_estimators': 36, 'eta': 0.027929644933438573, 'max_depth': 11, 'subsample': 0.8468209446361746, 'colsample_bytree': 0.6487972996127879, 'lambda': 9.53584133222664}. Best is trial 83 with value: 0.6814516129032258.\n",
      "[I 2023-06-06 17:11:19,508] Trial 939 finished with value: 0.6754032258064516 and parameters: {'n_estimators': 38, 'eta': 0.09528917605262496, 'max_depth': 12, 'subsample': 0.8894730682275946, 'colsample_bytree': 0.44367845001140227, 'lambda': 58.892643408210716}. Best is trial 83 with value: 0.6814516129032258.\n",
      "[I 2023-06-06 17:11:20,278] Trial 940 finished with value: 0.6673387096774194 and parameters: {'n_estimators': 37, 'eta': 0.09576064203010179, 'max_depth': 12, 'subsample': 0.8644024751780521, 'colsample_bytree': 0.5602390857394042, 'lambda': 76.894660424069}. Best is trial 83 with value: 0.6814516129032258.\n",
      "[I 2023-06-06 17:11:20,964] Trial 941 finished with value: 0.6310483870967742 and parameters: {'n_estimators': 38, 'eta': 0.09162830391996617, 'max_depth': 12, 'subsample': 0.8904798857205433, 'colsample_bytree': 0.40360355783317037, 'lambda': 1.7261792478897173}. Best is trial 83 with value: 0.6814516129032258.\n",
      "[I 2023-06-06 17:11:21,696] Trial 942 finished with value: 0.6693548387096774 and parameters: {'n_estimators': 40, 'eta': 0.09669366615260036, 'max_depth': 12, 'subsample': 0.8738431293600765, 'colsample_bytree': 0.4528563350843949, 'lambda': 65.43446140351696}. Best is trial 83 with value: 0.6814516129032258.\n",
      "[I 2023-06-06 17:11:22,343] Trial 943 finished with value: 0.6673387096774194 and parameters: {'n_estimators': 37, 'eta': 0.011341509907461673, 'max_depth': 12, 'subsample': 0.8867835329633804, 'colsample_bytree': 0.4628040022351471, 'lambda': 2.058125892206987}. Best is trial 83 with value: 0.6814516129032258.\n",
      "[I 2023-06-06 17:11:22,991] Trial 944 finished with value: 0.6592741935483871 and parameters: {'n_estimators': 36, 'eta': 0.0877514931904639, 'max_depth': 12, 'subsample': 0.9019201529447215, 'colsample_bytree': 0.4224978835399124, 'lambda': 61.85282857350988}. Best is trial 83 with value: 0.6814516129032258.\n"
     ]
    },
    {
     "name": "stderr",
     "output_type": "stream",
     "text": [
      "[I 2023-06-06 17:11:23,543] Trial 945 finished with value: 0.655241935483871 and parameters: {'n_estimators': 39, 'eta': 0.09977123492096028, 'max_depth': 12, 'subsample': 0.6672673944957167, 'colsample_bytree': 0.3780573471419982, 'lambda': 58.26864480132955}. Best is trial 83 with value: 0.6814516129032258.\n",
      "[I 2023-06-06 17:11:24,083] Trial 946 finished with value: 0.6592741935483871 and parameters: {'n_estimators': 25, 'eta': 0.060479064913291414, 'max_depth': 12, 'subsample': 0.9114760367602055, 'colsample_bytree': 0.4966253677106607, 'lambda': 7.955448065070505}. Best is trial 83 with value: 0.6814516129032258.\n",
      "[I 2023-06-06 17:11:24,686] Trial 947 finished with value: 0.657258064516129 and parameters: {'n_estimators': 38, 'eta': 0.052989187283165734, 'max_depth': 12, 'subsample': 0.7068517344238814, 'colsample_bytree': 0.4105424222232589, 'lambda': 13.41492930955352}. Best is trial 83 with value: 0.6814516129032258.\n",
      "[I 2023-06-06 17:11:25,473] Trial 948 finished with value: 0.6612903225806451 and parameters: {'n_estimators': 39, 'eta': 0.09309791406642452, 'max_depth': 12, 'subsample': 0.9122330458081207, 'colsample_bytree': 0.480685233566269, 'lambda': 19.178023125397935}. Best is trial 83 with value: 0.6814516129032258.\n",
      "[I 2023-06-06 17:11:25,747] Trial 949 finished with value: 0.6592741935483871 and parameters: {'n_estimators': 31, 'eta': 0.04907865530970563, 'max_depth': 12, 'subsample': 0.2231607130049414, 'colsample_bytree': 0.3986621726728409, 'lambda': 4.986765005467072}. Best is trial 83 with value: 0.6814516129032258.\n",
      "[I 2023-06-06 17:11:26,452] Trial 950 finished with value: 0.6612903225806451 and parameters: {'n_estimators': 38, 'eta': 0.056577615735101144, 'max_depth': 12, 'subsample': 0.9273057317530904, 'colsample_bytree': 0.45845684959123517, 'lambda': 0.8017959167772846}. Best is trial 83 with value: 0.6814516129032258.\n",
      "[I 2023-06-06 17:11:27,572] Trial 951 finished with value: 0.6673387096774194 and parameters: {'n_estimators': 36, 'eta': 0.0442441753164962, 'max_depth': 12, 'subsample': 0.8362017995035959, 'colsample_bytree': 0.9206955817673133, 'lambda': 105.4596522187358}. Best is trial 83 with value: 0.6814516129032258.\n",
      "[I 2023-06-06 17:11:28,070] Trial 952 finished with value: 0.6653225806451613 and parameters: {'n_estimators': 27, 'eta': 0.03247569491737646, 'max_depth': 11, 'subsample': 0.7993007492145726, 'colsample_bytree': 0.5205924652232014, 'lambda': 52.6959442442797}. Best is trial 83 with value: 0.6814516129032258.\n",
      "[I 2023-06-06 17:11:28,325] Trial 953 finished with value: 0.6612903225806451 and parameters: {'n_estimators': 37, 'eta': 0.05169588120280491, 'max_depth': 12, 'subsample': 0.1481474162527227, 'colsample_bytree': 0.41723073889384843, 'lambda': 62.70695098342046}. Best is trial 83 with value: 0.6814516129032258.\n",
      "[I 2023-06-06 17:11:29,042] Trial 954 finished with value: 0.6653225806451613 and parameters: {'n_estimators': 40, 'eta': 0.05881954340704896, 'max_depth': 11, 'subsample': 0.8804064162873894, 'colsample_bytree': 0.4397527313418782, 'lambda': 5.699995205001384}. Best is trial 83 with value: 0.6814516129032258.\n",
      "[I 2023-06-06 17:11:29,787] Trial 955 finished with value: 0.655241935483871 and parameters: {'n_estimators': 39, 'eta': 0.05486506893728597, 'max_depth': 12, 'subsample': 0.7838084629481349, 'colsample_bytree': 0.4428862809668459, 'lambda': 16.413529743603505}. Best is trial 83 with value: 0.6814516129032258.\n",
      "[I 2023-06-06 17:11:30,606] Trial 956 finished with value: 0.6612903225806451 and parameters: {'n_estimators': 36, 'eta': 0.03590811674947553, 'max_depth': 11, 'subsample': 0.5007908491929827, 'colsample_bytree': 0.9991729429158255, 'lambda': 74.30615428758874}. Best is trial 83 with value: 0.6814516129032258.\n",
      "[I 2023-06-06 17:11:30,839] Trial 957 finished with value: 0.6149193548387096 and parameters: {'n_estimators': 25, 'eta': 0.039842451358522143, 'max_depth': 11, 'subsample': 0.12960441979391274, 'colsample_bytree': 0.801925288085563, 'lambda': 0.21053165872935364}. Best is trial 83 with value: 0.6814516129032258.\n",
      "[I 2023-06-06 17:11:31,209] Trial 958 finished with value: 0.6612903225806451 and parameters: {'n_estimators': 37, 'eta': 0.019699234517216987, 'max_depth': 10, 'subsample': 0.9340888958945344, 'colsample_bytree': 0.168771019046981, 'lambda': 48.69650547330111}. Best is trial 83 with value: 0.6814516129032258.\n",
      "[I 2023-06-06 17:11:31,553] Trial 959 finished with value: 0.6592741935483871 and parameters: {'n_estimators': 38, 'eta': 0.010319906824458974, 'max_depth': 11, 'subsample': 0.8157157885594739, 'colsample_bytree': 0.10908809475481612, 'lambda': 0.5223739671888752}. Best is trial 83 with value: 0.6814516129032258.\n",
      "[I 2023-06-06 17:11:31,891] Trial 960 finished with value: 0.6592741935483871 and parameters: {'n_estimators': 30, 'eta': 0.029654568638165277, 'max_depth': 11, 'subsample': 0.6390911420631042, 'colsample_bytree': 0.24374332624253736, 'lambda': 22.51304396870113}. Best is trial 83 with value: 0.6814516129032258.\n",
      "[I 2023-06-06 17:11:32,576] Trial 961 finished with value: 0.6431451612903226 and parameters: {'n_estimators': 26, 'eta': 0.09088182511310818, 'max_depth': 12, 'subsample': 0.5330672661130667, 'colsample_bytree': 0.9444794131236398, 'lambda': 0.4010998168109364}. Best is trial 83 with value: 0.6814516129032258.\n",
      "[I 2023-06-06 17:11:33,001] Trial 962 finished with value: 0.6612903225806451 and parameters: {'n_estimators': 36, 'eta': 0.03400857606899034, 'max_depth': 9, 'subsample': 0.466111411497408, 'colsample_bytree': 0.43592488012054037, 'lambda': 26.03836909919125}. Best is trial 83 with value: 0.6814516129032258.\n",
      "[I 2023-06-06 17:11:33,427] Trial 963 finished with value: 0.6491935483870968 and parameters: {'n_estimators': 39, 'eta': 0.0477578461899452, 'max_depth': 11, 'subsample': 0.3382140141010659, 'colsample_bytree': 0.4771488460660738, 'lambda': 4.396389921797849}. Best is trial 83 with value: 0.6814516129032258.\n",
      "[I 2023-06-06 17:11:34,095] Trial 964 finished with value: 0.6512096774193549 and parameters: {'n_estimators': 41, 'eta': 0.037817613858649526, 'max_depth': 11, 'subsample': 0.3547958924893222, 'colsample_bytree': 0.863945403526612, 'lambda': 0.97477066848753}. Best is trial 83 with value: 0.6814516129032258.\n",
      "[I 2023-06-06 17:11:34,812] Trial 965 finished with value: 0.6612903225806451 and parameters: {'n_estimators': 40, 'eta': 0.012572866001410903, 'max_depth': 12, 'subsample': 0.7390422865952005, 'colsample_bytree': 0.501190596468372, 'lambda': 84.58072497634404}. Best is trial 83 with value: 0.6814516129032258.\n",
      "[I 2023-06-06 17:11:35,755] Trial 966 finished with value: 0.6592741935483871 and parameters: {'n_estimators': 38, 'eta': 0.04226203537928674, 'max_depth': 10, 'subsample': 0.6141006092484393, 'colsample_bytree': 0.97963666818081, 'lambda': 54.84045398288935}. Best is trial 83 with value: 0.6814516129032258.\n",
      "[I 2023-06-06 17:11:36,376] Trial 967 finished with value: 0.6733870967741935 and parameters: {'n_estimators': 37, 'eta': 0.03156450424637451, 'max_depth': 12, 'subsample': 0.9410707767385852, 'colsample_bytree': 0.34084772527802176, 'lambda': 1.246733373285794}. Best is trial 83 with value: 0.6814516129032258.\n",
      "[I 2023-06-06 17:11:37,328] Trial 968 finished with value: 0.6491935483870968 and parameters: {'n_estimators': 36, 'eta': 0.08663980054833384, 'max_depth': 11, 'subsample': 0.6966213883589625, 'colsample_bytree': 0.8959814346194446, 'lambda': 44.04329980046908}. Best is trial 83 with value: 0.6814516129032258.\n",
      "[I 2023-06-06 17:11:38,372] Trial 969 finished with value: 0.6512096774193549 and parameters: {'n_estimators': 39, 'eta': 0.09561956203366272, 'max_depth': 11, 'subsample': 0.9038796935032909, 'colsample_bytree': 0.7697842394026843, 'lambda': 35.317791762947586}. Best is trial 83 with value: 0.6814516129032258.\n",
      "[I 2023-06-06 17:11:39,021] Trial 970 finished with value: 0.657258064516129 and parameters: {'n_estimators': 38, 'eta': 0.05046667130755183, 'max_depth': 11, 'subsample': 0.9997678561694185, 'colsample_bytree': 0.393852696773537, 'lambda': 51.17565836240253}. Best is trial 83 with value: 0.6814516129032258.\n",
      "[I 2023-06-06 17:11:40,066] Trial 971 finished with value: 0.6653225806451613 and parameters: {'n_estimators': 37, 'eta': 0.020131183606261455, 'max_depth': 12, 'subsample': 0.9210896708400613, 'colsample_bytree': 0.8153457044616127, 'lambda': 68.40563381580114}. Best is trial 83 with value: 0.6814516129032258.\n"
     ]
    },
    {
     "name": "stderr",
     "output_type": "stream",
     "text": [
      "[I 2023-06-06 17:11:40,442] Trial 972 finished with value: 0.6592741935483871 and parameters: {'n_estimators': 29, 'eta': 0.025836866518558644, 'max_depth': 11, 'subsample': 0.48463978494179333, 'colsample_bytree': 0.44158717329375496, 'lambda': 20.27540458727087}. Best is trial 83 with value: 0.6814516129032258.\n",
      "[I 2023-06-06 17:11:41,693] Trial 973 finished with value: 0.6592741935483871 and parameters: {'n_estimators': 38, 'eta': 0.0791196892263385, 'max_depth': 12, 'subsample': 0.8925170335861748, 'colsample_bytree': 0.9610374262568503, 'lambda': 30.944168708908038}. Best is trial 83 with value: 0.6814516129032258.\n",
      "[I 2023-06-06 17:11:42,778] Trial 974 finished with value: 0.6673387096774194 and parameters: {'n_estimators': 40, 'eta': 0.04586283813516916, 'max_depth': 11, 'subsample': 0.9520759356520869, 'colsample_bytree': 0.7925844492649312, 'lambda': 10.258619967100262}. Best is trial 83 with value: 0.6814516129032258.\n",
      "[I 2023-06-06 17:11:43,174] Trial 975 finished with value: 0.6592741935483871 and parameters: {'n_estimators': 25, 'eta': 0.06208187596804449, 'max_depth': 11, 'subsample': 0.2980605918806065, 'colsample_bytree': 0.9266125641074116, 'lambda': 39.77733017103553}. Best is trial 83 with value: 0.6814516129032258.\n",
      "[I 2023-06-06 17:11:44,009] Trial 976 finished with value: 0.6532258064516129 and parameters: {'n_estimators': 26, 'eta': 0.08247401390170354, 'max_depth': 12, 'subsample': 0.9679431957017957, 'colsample_bytree': 0.8800254049364414, 'lambda': 7.281146336950535}. Best is trial 83 with value: 0.6814516129032258.\n",
      "[I 2023-06-06 17:11:44,971] Trial 977 finished with value: 0.6693548387096774 and parameters: {'n_estimators': 28, 'eta': 0.053402566009968074, 'max_depth': 15, 'subsample': 0.9410933263120631, 'colsample_bytree': 0.8488817915192367, 'lambda': 46.17181291999082}. Best is trial 83 with value: 0.6814516129032258.\n",
      "[I 2023-06-06 17:11:45,659] Trial 978 finished with value: 0.6653225806451613 and parameters: {'n_estimators': 27, 'eta': 0.0361334557586316, 'max_depth': 11, 'subsample': 0.8673374030115336, 'colsample_bytree': 0.740335888328774, 'lambda': 24.057317203181366}. Best is trial 83 with value: 0.6814516129032258.\n",
      "[I 2023-06-06 17:11:46,189] Trial 979 finished with value: 0.6653225806451613 and parameters: {'n_estimators': 36, 'eta': 0.02443263702630754, 'max_depth': 10, 'subsample': 0.31768234860191735, 'colsample_bytree': 0.9083295128289013, 'lambda': 15.457125392608674}. Best is trial 83 with value: 0.6814516129032258.\n",
      "[I 2023-06-06 17:11:46,916] Trial 980 finished with value: 0.6592741935483871 and parameters: {'n_estimators': 39, 'eta': 0.015878835409097014, 'max_depth': 11, 'subsample': 0.6759138743757014, 'colsample_bytree': 0.6030204152091574, 'lambda': 0.3518271082529293}. Best is trial 83 with value: 0.6814516129032258.\n",
      "[I 2023-06-06 17:11:47,415] Trial 981 finished with value: 0.6612903225806451 and parameters: {'n_estimators': 37, 'eta': 0.03414429601196091, 'max_depth': 11, 'subsample': 0.37762130972648655, 'colsample_bytree': 0.5416449393018052, 'lambda': 58.05372624329589}. Best is trial 83 with value: 0.6814516129032258.\n",
      "[I 2023-06-06 17:11:48,251] Trial 982 finished with value: 0.6532258064516129 and parameters: {'n_estimators': 35, 'eta': 0.09984367923349106, 'max_depth': 15, 'subsample': 0.983494554501184, 'colsample_bytree': 0.5657067640507879, 'lambda': 6.3221636860534}. Best is trial 83 with value: 0.6814516129032258.\n",
      "[I 2023-06-06 17:11:49,239] Trial 983 finished with value: 0.6592741935483871 and parameters: {'n_estimators': 38, 'eta': 0.039284611530801344, 'max_depth': 12, 'subsample': 0.9177690005514425, 'colsample_bytree': 0.7607181310767624, 'lambda': 28.050991370394275}. Best is trial 83 with value: 0.6814516129032258.\n",
      "[I 2023-06-06 17:11:50,191] Trial 984 finished with value: 0.6653225806451613 and parameters: {'n_estimators': 36, 'eta': 0.048371492407156866, 'max_depth': 11, 'subsample': 0.963950671642253, 'colsample_bytree': 0.8121910991430273, 'lambda': 38.82507425249434}. Best is trial 83 with value: 0.6814516129032258.\n",
      "[I 2023-06-06 17:11:50,831] Trial 985 finished with value: 0.6592741935483871 and parameters: {'n_estimators': 39, 'eta': 0.05594700852056203, 'max_depth': 12, 'subsample': 0.7311387015800039, 'colsample_bytree': 0.4607052469459498, 'lambda': 33.570791268546905}. Best is trial 83 with value: 0.6814516129032258.\n",
      "[I 2023-06-06 17:11:51,379] Trial 986 finished with value: 0.6592741935483871 and parameters: {'n_estimators': 37, 'eta': 0.04335396076315293, 'max_depth': 10, 'subsample': 0.3975874543602978, 'colsample_bytree': 0.7806050832437228, 'lambda': 17.70668798216179}. Best is trial 83 with value: 0.6814516129032258.\n",
      "[I 2023-06-06 17:11:51,910] Trial 987 finished with value: 0.657258064516129 and parameters: {'n_estimators': 32, 'eta': 0.09213344460585687, 'max_depth': 11, 'subsample': 0.6545227840164787, 'colsample_bytree': 0.5042738681164914, 'lambda': 49.11583020663645}. Best is trial 83 with value: 0.6814516129032258.\n",
      "[I 2023-06-06 17:11:52,219] Trial 988 finished with value: 0.6512096774193549 and parameters: {'n_estimators': 35, 'eta': 0.0641271338462497, 'max_depth': 15, 'subsample': 0.7160297473540642, 'colsample_bytree': 0.12744947093455278, 'lambda': 1.9573862099936414}. Best is trial 83 with value: 0.6814516129032258.\n",
      "[I 2023-06-06 17:11:53,512] Trial 989 finished with value: 0.6673387096774194 and parameters: {'n_estimators': 42, 'eta': 0.07396422077524867, 'max_depth': 11, 'subsample': 0.9393708837173946, 'colsample_bytree': 0.9399504063430647, 'lambda': 41.138154143909176}. Best is trial 83 with value: 0.6814516129032258.\n",
      "[I 2023-06-06 17:11:54,605] Trial 990 finished with value: 0.6673387096774194 and parameters: {'n_estimators': 39, 'eta': 0.029265689089239474, 'max_depth': 12, 'subsample': 0.9008970469444827, 'colsample_bytree': 0.8666423142657311, 'lambda': 13.793092409013418}. Best is trial 83 with value: 0.6814516129032258.\n",
      "[I 2023-06-06 17:11:54,875] Trial 991 finished with value: 0.6612903225806451 and parameters: {'n_estimators': 38, 'eta': 0.03761296019838691, 'max_depth': 11, 'subsample': 0.6162255922720672, 'colsample_bytree': 0.10266449739531863, 'lambda': 58.953486043017165}. Best is trial 83 with value: 0.6814516129032258.\n",
      "[I 2023-06-06 17:11:55,522] Trial 992 finished with value: 0.6693548387096774 and parameters: {'n_estimators': 39, 'eta': 0.03246071258844032, 'max_depth': 11, 'subsample': 0.955103411528335, 'colsample_bytree': 0.42365277046943034, 'lambda': 0.28557467164161243}. Best is trial 83 with value: 0.6814516129032258.\n",
      "[I 2023-06-06 17:11:56,422] Trial 993 finished with value: 0.6733870967741935 and parameters: {'n_estimators': 40, 'eta': 0.04144897490894821, 'max_depth': 15, 'subsample': 0.9801539045263655, 'colsample_bytree': 0.5286935747785183, 'lambda': 4.022874355204581}. Best is trial 83 with value: 0.6814516129032258.\n",
      "[I 2023-06-06 17:11:57,535] Trial 994 finished with value: 0.6592741935483871 and parameters: {'n_estimators': 43, 'eta': 0.045633600243089614, 'max_depth': 11, 'subsample': 0.87876285446761, 'colsample_bytree': 0.7973843632683282, 'lambda': 21.117765220017304}. Best is trial 83 with value: 0.6814516129032258.\n",
      "[I 2023-06-06 17:11:58,320] Trial 995 finished with value: 0.6512096774193549 and parameters: {'n_estimators': 36, 'eta': 0.052545957277155116, 'max_depth': 12, 'subsample': 0.9215403593853069, 'colsample_bytree': 0.5757278446397637, 'lambda': 2.5913108246994003}. Best is trial 83 with value: 0.6814516129032258.\n",
      "[I 2023-06-06 17:11:58,595] Trial 996 finished with value: 0.6612903225806451 and parameters: {'n_estimators': 26, 'eta': 0.05737509833170511, 'max_depth': 10, 'subsample': 0.7664634160393076, 'colsample_bytree': 0.21869218728197548, 'lambda': 94.07567301835891}. Best is trial 83 with value: 0.6814516129032258.\n",
      "[I 2023-06-06 17:11:58,989] Trial 997 finished with value: 0.6592741935483871 and parameters: {'n_estimators': 37, 'eta': 0.03581410338459484, 'max_depth': 11, 'subsample': 0.9690376957643121, 'colsample_bytree': 0.17149810364796403, 'lambda': 28.654399901899918}. Best is trial 83 with value: 0.6814516129032258.\n",
      "[I 2023-06-06 17:11:59,830] Trial 998 finished with value: 0.6612903225806451 and parameters: {'n_estimators': 38, 'eta': 0.018985666523582252, 'max_depth': 12, 'subsample': 0.5544959569635807, 'colsample_bytree': 0.7539787859596874, 'lambda': 36.18887230231442}. Best is trial 83 with value: 0.6814516129032258.\n"
     ]
    },
    {
     "name": "stderr",
     "output_type": "stream",
     "text": [
      "[I 2023-06-06 17:12:01,493] Trial 999 finished with value: 0.6209677419354839 and parameters: {'n_estimators': 35, 'eta': 0.014727313293858242, 'max_depth': 15, 'subsample': 0.9996018383783295, 'colsample_bytree': 0.9864342443662623, 'lambda': 2.4254173212561256}. Best is trial 83 with value: 0.6814516129032258.\n"
     ]
    }
   ],
   "source": [
    "xgb_study = optuna.create_study(direction='maximize')\n",
    "xgb_study.optimize(xgb_objective, n_trials=1000)"
   ]
  },
  {
   "cell_type": "code",
   "execution_count": 28,
   "id": "e5f62387",
   "metadata": {},
   "outputs": [
    {
     "name": "stdout",
     "output_type": "stream",
     "text": [
      "Number of finished LGB trials: 200\n",
      "LGB Best trial:\n",
      "  Value: 0.6733870967741935\n",
      "  Params: \n",
      "    max_depth: 8\n",
      "    num_boost_round: 153\n",
      "    min_data_in_leaf: 17\n",
      "    n_estimators: 934\n",
      "    num_leaves: 290\n",
      "    learning_rate: 0.03303130202695269\n",
      "    feature_fraction: 0.5996426902668317\n",
      "    bagging_fraction: 0.7298975471329071\n",
      "    bagging_freq: 3\n",
      "    lambda_l1: 0.3444854238234955\n",
      "    lambda_l2: 0.32190717279983505\n"
     ]
    }
   ],
   "source": [
    "print('Number of finished LGB trials: {}'.format(len(lgb_study.trials)))\n",
    "print('LGB Best trial:')\n",
    "lgb_trial = lgb_study.best_trial\n",
    "\n",
    "print('  Value: {}'.format(lgb_trial.value))\n",
    "print('  Params: ')\n",
    "\n",
    "for key, value in lgb_trial.params.items():\n",
    "    print('    {}: {}'.format(key, value))\n"
   ]
  },
  {
   "cell_type": "code",
   "execution_count": 29,
   "id": "019acdbe",
   "metadata": {},
   "outputs": [
    {
     "name": "stdout",
     "output_type": "stream",
     "text": [
      "Number of finished XGB trials: 1000\n",
      "XGB Best trial:\n",
      "  Value: 0.6814516129032258\n",
      "  Params: \n",
      "    n_estimators: 39\n",
      "    eta: 0.046266993101541545\n",
      "    max_depth: 11\n",
      "    subsample: 0.9668185485055184\n",
      "    colsample_bytree: 0.7588174046835052\n",
      "    lambda: 23.696127246498573\n"
     ]
    }
   ],
   "source": [
    "print('Number of finished XGB trials: {}'.format(len(xgb_study.trials)))\n",
    "print('XGB Best trial:')\n",
    "xgb_trial = xgb_study.best_trial\n",
    "\n",
    "print('  Value: {}'.format(xgb_trial.value))\n",
    "print('  Params: ')\n",
    "\n",
    "for key, value in xgb_trial.params.items():\n",
    "    print('    {}: {}'.format(key, value))"
   ]
  },
  {
   "cell_type": "code",
   "execution_count": 42,
   "id": "c7380aff",
   "metadata": {},
   "outputs": [],
   "source": [
    "lgb_best_params = lgb_study.best_params\n",
    "lgb_best_params['random_state'] = 42\n",
    "lgb_model = lgb.LGBMClassifier(**lgb_best_params)\n",
    "lgb_model.fit(X_train, y_train)\n",
    "lgb_preds = lgb_model.predict(X_val)\n",
    "lgb_accuracy = accuracy_score(y_val, lgb_preds)\n"
   ]
  },
  {
   "cell_type": "code",
   "execution_count": 34,
   "id": "a1dd85c3",
   "metadata": {},
   "outputs": [
    {
     "data": {
      "text/html": [
       "<style>#sk-container-id-1 {color: black;background-color: white;}#sk-container-id-1 pre{padding: 0;}#sk-container-id-1 div.sk-toggleable {background-color: white;}#sk-container-id-1 label.sk-toggleable__label {cursor: pointer;display: block;width: 100%;margin-bottom: 0;padding: 0.3em;box-sizing: border-box;text-align: center;}#sk-container-id-1 label.sk-toggleable__label-arrow:before {content: \"▸\";float: left;margin-right: 0.25em;color: #696969;}#sk-container-id-1 label.sk-toggleable__label-arrow:hover:before {color: black;}#sk-container-id-1 div.sk-estimator:hover label.sk-toggleable__label-arrow:before {color: black;}#sk-container-id-1 div.sk-toggleable__content {max-height: 0;max-width: 0;overflow: hidden;text-align: left;background-color: #f0f8ff;}#sk-container-id-1 div.sk-toggleable__content pre {margin: 0.2em;color: black;border-radius: 0.25em;background-color: #f0f8ff;}#sk-container-id-1 input.sk-toggleable__control:checked~div.sk-toggleable__content {max-height: 200px;max-width: 100%;overflow: auto;}#sk-container-id-1 input.sk-toggleable__control:checked~label.sk-toggleable__label-arrow:before {content: \"▾\";}#sk-container-id-1 div.sk-estimator input.sk-toggleable__control:checked~label.sk-toggleable__label {background-color: #d4ebff;}#sk-container-id-1 div.sk-label input.sk-toggleable__control:checked~label.sk-toggleable__label {background-color: #d4ebff;}#sk-container-id-1 input.sk-hidden--visually {border: 0;clip: rect(1px 1px 1px 1px);clip: rect(1px, 1px, 1px, 1px);height: 1px;margin: -1px;overflow: hidden;padding: 0;position: absolute;width: 1px;}#sk-container-id-1 div.sk-estimator {font-family: monospace;background-color: #f0f8ff;border: 1px dotted black;border-radius: 0.25em;box-sizing: border-box;margin-bottom: 0.5em;}#sk-container-id-1 div.sk-estimator:hover {background-color: #d4ebff;}#sk-container-id-1 div.sk-parallel-item::after {content: \"\";width: 100%;border-bottom: 1px solid gray;flex-grow: 1;}#sk-container-id-1 div.sk-label:hover label.sk-toggleable__label {background-color: #d4ebff;}#sk-container-id-1 div.sk-serial::before {content: \"\";position: absolute;border-left: 1px solid gray;box-sizing: border-box;top: 0;bottom: 0;left: 50%;z-index: 0;}#sk-container-id-1 div.sk-serial {display: flex;flex-direction: column;align-items: center;background-color: white;padding-right: 0.2em;padding-left: 0.2em;position: relative;}#sk-container-id-1 div.sk-item {position: relative;z-index: 1;}#sk-container-id-1 div.sk-parallel {display: flex;align-items: stretch;justify-content: center;background-color: white;position: relative;}#sk-container-id-1 div.sk-item::before, #sk-container-id-1 div.sk-parallel-item::before {content: \"\";position: absolute;border-left: 1px solid gray;box-sizing: border-box;top: 0;bottom: 0;left: 50%;z-index: -1;}#sk-container-id-1 div.sk-parallel-item {display: flex;flex-direction: column;z-index: 1;position: relative;background-color: white;}#sk-container-id-1 div.sk-parallel-item:first-child::after {align-self: flex-end;width: 50%;}#sk-container-id-1 div.sk-parallel-item:last-child::after {align-self: flex-start;width: 50%;}#sk-container-id-1 div.sk-parallel-item:only-child::after {width: 0;}#sk-container-id-1 div.sk-dashed-wrapped {border: 1px dashed gray;margin: 0 0.4em 0.5em 0.4em;box-sizing: border-box;padding-bottom: 0.4em;background-color: white;}#sk-container-id-1 div.sk-label label {font-family: monospace;font-weight: bold;display: inline-block;line-height: 1.2em;}#sk-container-id-1 div.sk-label-container {text-align: center;}#sk-container-id-1 div.sk-container {/* jupyter's `normalize.less` sets `[hidden] { display: none; }` but bootstrap.min.css set `[hidden] { display: none !important; }` so we also need the `!important` here to be able to override the default hidden behavior on the sphinx rendered scikit-learn.org. See: https://github.com/scikit-learn/scikit-learn/issues/21755 */display: inline-block !important;position: relative;}#sk-container-id-1 div.sk-text-repr-fallback {display: none;}</style><div id=\"sk-container-id-1\" class=\"sk-top-container\"><div class=\"sk-text-repr-fallback\"><pre>XGBClassifier(base_score=None, booster=None, callbacks=None,\n",
       "              colsample_bylevel=None, colsample_bynode=None,\n",
       "              colsample_bytree=0.7588174046835052, early_stopping_rounds=None,\n",
       "              enable_categorical=False, eta=0.046266993101541545,\n",
       "              eval_metric=None, feature_types=None, gamma=None, gpu_id=None,\n",
       "              grow_policy=None, importance_type=None,\n",
       "              interaction_constraints=None, lambda=23.696127246498573,\n",
       "              learning_rate=None, max_bin=None, max_cat_threshold=None,\n",
       "              max_cat_to_onehot=None, max_delta_step=None, max_depth=11,\n",
       "              max_leaves=None, min_child_weight=None, missing=nan,\n",
       "              monotone_constraints=None, n_estimators=39, n_jobs=None,\n",
       "              num_parallel_tree=None, ...)</pre><b>In a Jupyter environment, please rerun this cell to show the HTML representation or trust the notebook. <br />On GitHub, the HTML representation is unable to render, please try loading this page with nbviewer.org.</b></div><div class=\"sk-container\" hidden><div class=\"sk-item\"><div class=\"sk-estimator sk-toggleable\"><input class=\"sk-toggleable__control sk-hidden--visually\" id=\"sk-estimator-id-1\" type=\"checkbox\" checked><label for=\"sk-estimator-id-1\" class=\"sk-toggleable__label sk-toggleable__label-arrow\">XGBClassifier</label><div class=\"sk-toggleable__content\"><pre>XGBClassifier(base_score=None, booster=None, callbacks=None,\n",
       "              colsample_bylevel=None, colsample_bynode=None,\n",
       "              colsample_bytree=0.7588174046835052, early_stopping_rounds=None,\n",
       "              enable_categorical=False, eta=0.046266993101541545,\n",
       "              eval_metric=None, feature_types=None, gamma=None, gpu_id=None,\n",
       "              grow_policy=None, importance_type=None,\n",
       "              interaction_constraints=None, lambda=23.696127246498573,\n",
       "              learning_rate=None, max_bin=None, max_cat_threshold=None,\n",
       "              max_cat_to_onehot=None, max_delta_step=None, max_depth=11,\n",
       "              max_leaves=None, min_child_weight=None, missing=nan,\n",
       "              monotone_constraints=None, n_estimators=39, n_jobs=None,\n",
       "              num_parallel_tree=None, ...)</pre></div></div></div></div></div>"
      ],
      "text/plain": [
       "XGBClassifier(base_score=None, booster=None, callbacks=None,\n",
       "              colsample_bylevel=None, colsample_bynode=None,\n",
       "              colsample_bytree=0.7588174046835052, early_stopping_rounds=None,\n",
       "              enable_categorical=False, eta=0.046266993101541545,\n",
       "              eval_metric=None, feature_types=None, gamma=None, gpu_id=None,\n",
       "              grow_policy=None, importance_type=None,\n",
       "              interaction_constraints=None, lambda=23.696127246498573,\n",
       "              learning_rate=None, max_bin=None, max_cat_threshold=None,\n",
       "              max_cat_to_onehot=None, max_delta_step=None, max_depth=11,\n",
       "              max_leaves=None, min_child_weight=None, missing=nan,\n",
       "              monotone_constraints=None, n_estimators=39, n_jobs=None,\n",
       "              num_parallel_tree=None, ...)"
      ]
     },
     "execution_count": 34,
     "metadata": {},
     "output_type": "execute_result"
    }
   ],
   "source": [
    "xgb_params = xgb_trial.params\n",
    "XGB = xgb(**xgb_params)\n",
    "XGB.fit(X_train, y_train)\n"
   ]
  },
  {
   "cell_type": "code",
   "execution_count": 40,
   "id": "4e0c85e7",
   "metadata": {},
   "outputs": [
    {
     "ename": "TypeError",
     "evalue": "LGBMClassifier.predict() missing 1 required positional argument: 'X'",
     "output_type": "error",
     "traceback": [
      "\u001b[0;31m---------------------------------------------------------------------------\u001b[0m",
      "\u001b[0;31mTypeError\u001b[0m                                 Traceback (most recent call last)",
      "Cell \u001b[0;32mIn[40], line 1\u001b[0m\n\u001b[0;32m----> 1\u001b[0m LGB_pred \u001b[38;5;241m=\u001b[39m \u001b[43mlgb\u001b[49m\u001b[38;5;241;43m.\u001b[39;49m\u001b[43mLGBMClassifier\u001b[49m\u001b[38;5;241;43m.\u001b[39;49m\u001b[43mpredict\u001b[49m\u001b[43m(\u001b[49m\u001b[43mX_val\u001b[49m\u001b[43m)\u001b[49m\n",
      "\u001b[0;31mTypeError\u001b[0m: LGBMClassifier.predict() missing 1 required positional argument: 'X'"
     ]
    }
   ],
   "source": [
    "LGB_pred = lgb.LGBMClassifier.predict(X_val)"
   ]
  },
  {
   "cell_type": "code",
   "execution_count": 41,
   "id": "27f68d6e",
   "metadata": {},
   "outputs": [],
   "source": [
    "XGB_pred = XGB.predict(X_val)"
   ]
  },
  {
   "cell_type": "code",
   "execution_count": 43,
   "id": "5e1cfd8d",
   "metadata": {},
   "outputs": [
    {
     "name": "stdout",
     "output_type": "stream",
     "text": [
      "Accuracy after tuning: 65.73%\n",
      "\n",
      "Accuracy after tuning: 66.53%\n"
     ]
    }
   ],
   "source": [
    "accuracy = accuracy_score(y_val, lgb_preds)\n",
    "print(\"Accuracy after tuning: %.2f%%\" % (accuracy * 100.0))\n",
    "accuracy = accuracy_score(y_val, XGB_pred)\n",
    "print(\"\\nAccuracy after tuning: %.2f%%\" % (accuracy * 100.0))"
   ]
  },
  {
   "cell_type": "code",
   "execution_count": 44,
   "id": "63360140",
   "metadata": {},
   "outputs": [
    {
     "name": "stdout",
     "output_type": "stream",
     "text": [
      "-- LGB --\n",
      "Train ACC : 1.000\n",
      "Val ACC : 0.657\n",
      "\n",
      "-- XGB --\n",
      "Train ACC : 0.894\n",
      "Val ACC : 0.665\n"
     ]
    }
   ],
   "source": [
    "print(\"-- LGB --\")\n",
    "print(\"Train ACC : %.3f\" % accuracy_score(y_train, lgb_model.predict(X_train)))\n",
    "print(\"Val ACC : %.3f\" % accuracy_score(y_val, lgb_model.predict(X_val)))\n",
    "\n",
    "print(\"\\n-- XGB --\")\n",
    "print(\"Train ACC : %.3f\" % accuracy_score(y_train, XGB.predict(X_train)))\n",
    "print(\"Val ACC : %.3f\" % accuracy_score(y_val, XGB.predict(X_val)))"
   ]
  },
  {
   "cell_type": "code",
   "execution_count": 45,
   "id": "76a9873f",
   "metadata": {},
   "outputs": [
    {
     "name": "stdout",
     "output_type": "stream",
     "text": [
      "              precision    recall  f1-score   support\n",
      "\n",
      "           0       0.45      0.06      0.11       168\n",
      "           1       0.67      0.96      0.79       328\n",
      "\n",
      "    accuracy                           0.66       496\n",
      "   macro avg       0.56      0.51      0.45       496\n",
      "weighted avg       0.59      0.66      0.56       496\n",
      "\n",
      "              precision    recall  f1-score   support\n",
      "\n",
      "           0       0.56      0.05      0.10       168\n",
      "           1       0.67      0.98      0.79       328\n",
      "\n",
      "    accuracy                           0.67       496\n",
      "   macro avg       0.62      0.52      0.45       496\n",
      "weighted avg       0.63      0.67      0.56       496\n",
      "\n"
     ]
    }
   ],
   "source": [
    "print(classification_report(y_val, lgb_preds))\n",
    "print(classification_report(y_val, XGB_pred))"
   ]
  },
  {
   "cell_type": "code",
   "execution_count": 46,
   "id": "37828c7a",
   "metadata": {},
   "outputs": [],
   "source": [
    "LGB_submission = pd.read_csv('./sample_submission.csv')\n",
    "LGB_pred = pd.DataFrame(lgb_preds.astype(int))\n",
    "LGB_submission['first_party_winner'] = LGB_pred\n",
    "LGB_submission.to_csv(\"./LGB_tryout_submission.csv\", index=False)\n",
    "\n",
    "XGB_submission = pd.read_csv('./sample_submission.csv')\n",
    "XGB_pred = pd.DataFrame(XGB_pred.astype(int))\n",
    "XGB_submission['first_party_winner'] = XGB_pred\n",
    "XGB_submission.to_csv(\"./XGB_tryout_submission.csv\", index=False)"
   ]
  },
  {
   "cell_type": "code",
   "execution_count": null,
   "id": "6f83a909",
   "metadata": {},
   "outputs": [],
   "source": []
  }
 ],
 "metadata": {
  "kernelspec": {
   "display_name": "Python 3 (ipykernel)",
   "language": "python",
   "name": "python3"
  },
  "language_info": {
   "codemirror_mode": {
    "name": "ipython",
    "version": 3
   },
   "file_extension": ".py",
   "mimetype": "text/x-python",
   "name": "python",
   "nbconvert_exporter": "python",
   "pygments_lexer": "ipython3",
   "version": "3.10.9"
  }
 },
 "nbformat": 4,
 "nbformat_minor": 5
}
